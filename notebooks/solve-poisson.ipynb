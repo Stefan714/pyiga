{
 "cells": [
  {
   "cell_type": "code",
   "execution_count": 1,
   "metadata": {},
   "outputs": [],
   "source": [
    "%matplotlib inline\n",
    "\n",
    "import numpy as np\n",
    "import scipy\n",
    "import matplotlib.pyplot as plt\n",
    "\n",
    "from pyiga import bspline, assemble, geometry, vis"
   ]
  },
  {
   "cell_type": "code",
   "execution_count": 11,
   "metadata": {},
   "outputs": [],
   "source": [
    "# define geometry\n",
    "geo = geometry.quarter_annulus()\n",
    "\n",
    "# define discretization space\n",
    "p = 3    # spline degree\n",
    "kvs = 2 * (bspline.make_knots(p, 0.0, 1.0, 50),)"
   ]
  },
  {
   "cell_type": "code",
   "execution_count": 12,
   "metadata": {},
   "outputs": [],
   "source": [
    "g = lambda x,y: np.exp(-(x-.8)**2 - (y-.8)**2)  # Dirichlet BC function\n",
    "f = lambda x,y: 3 * np.sin(10*x) * np.cos(10*y) # source term\n",
    "\n",
    "# compute Dirichlet boundary conditions\n",
    "bcs = assemble.compute_dirichlet_bcs(kvs, geo, [('left', g), ('top', g)])\n",
    "\n",
    "# compute right-hand side from function f\n",
    "rhs = assemble.inner_products(kvs, f, f_physical=True, geo=geo).ravel()"
   ]
  },
  {
   "cell_type": "code",
   "execution_count": 13,
   "metadata": {},
   "outputs": [],
   "source": [
    "# set up and solve linear system\n",
    "A = assemble.stiffness(kvs, geo)\n",
    "LS = assemble.RestrictedLinearSystem(A, rhs, bcs)\n",
    "\n",
    "u = scipy.sparse.linalg.spsolve(LS.A, LS.b)\n",
    "u_func = geometry.BSplineFunc(kvs, LS.complete(u))"
   ]
  },
  {
   "cell_type": "code",
   "execution_count": 14,
   "metadata": {},
   "outputs": [
    {
     "ename": "NameError",
     "evalue": "name 'figsize' is not defined",
     "output_type": "error",
     "traceback": [
      "\u001b[31m---------------------------------------------------------------------------\u001b[39m",
      "\u001b[31mNameError\u001b[39m                                 Traceback (most recent call last)",
      "\u001b[36mCell\u001b[39m\u001b[36m \u001b[39m\u001b[32mIn[14]\u001b[39m\u001b[32m, line 2\u001b[39m\n\u001b[32m      1\u001b[39m \u001b[38;5;66;03m# plot coefficients and solution\u001b[39;00m\n\u001b[32m----> \u001b[39m\u001b[32m2\u001b[39m \u001b[43mfigsize\u001b[49m(\u001b[32m12\u001b[39m,\u001b[32m6\u001b[39m)\n\u001b[32m      4\u001b[39m subplot(\u001b[32m1\u001b[39m,\u001b[32m2\u001b[39m,\u001b[32m1\u001b[39m)\n\u001b[32m      5\u001b[39m pcolormesh(u_func.coeffs)\n",
      "\u001b[31mNameError\u001b[39m: name 'figsize' is not defined"
     ]
    }
   ],
   "source": [
    "# plot coefficients and solution\n",
    "figsize(12,6)\n",
    "\n",
    "subplot(1,2,1)\n",
    "pcolormesh(u_func.coeffs)\n",
    "gca().set_aspect('equal')\n",
    "\n",
    "subplot(1,2,2)\n",
    "vis.plot_field(u_func, geo)\n",
    "gca().set_aspect('equal')\n",
    "colorbar();"
   ]
  }
 ],
 "metadata": {
  "kernelspec": {
   "display_name": "Python 3 (ipykernel)",
   "language": "python",
   "name": "python3"
  },
  "language_info": {
   "codemirror_mode": {
    "name": "ipython",
    "version": 3
   },
   "file_extension": ".py",
   "mimetype": "text/x-python",
   "name": "python",
   "nbconvert_exporter": "python",
   "pygments_lexer": "ipython3",
   "version": "3.12.10"
  }
 },
 "nbformat": 4,
 "nbformat_minor": 4
}
