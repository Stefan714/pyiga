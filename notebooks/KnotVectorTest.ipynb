{
 "cells": [
  {
   "cell_type": "code",
   "execution_count": 5,
   "id": "af486058-ae2f-4884-9557-439dca5d162c",
   "metadata": {},
   "outputs": [],
   "source": [
    "%matplotlib inline\n",
    "import numpy as np\n",
    "import scipy\n",
    "import itertools as it\n",
    "from scipy.sparse import coo_matrix, csr_matrix, csc_matrix, block_diag, identity, hstack\n",
    "import matplotlib.pyplot as plt\n",
    "from pyiga import assemble, bspline, vform, geometry, vis, solvers, utils, topology, algebra, quadrature, adaptive\n",
    "np.set_printoptions(linewidth=10000000)"
   ]
  },
  {
   "cell_type": "code",
   "execution_count": 2,
   "id": "bc9c8efc-3a8b-4156-b7a2-d5320707848f",
   "metadata": {},
   "outputs": [],
   "source": [
    "geo=geometry.unit_cube(support=((0,1),(0,1),(0,0.5)))"
   ]
  },
  {
   "cell_type": "code",
   "execution_count": 3,
   "id": "3d1fc7b5-873d-4f29-8049-afe01988f920",
   "metadata": {},
   "outputs": [
    {
     "data": {
      "text/plain": [
       "((0, 1), (0, 0.5))"
      ]
     },
     "execution_count": 3,
     "metadata": {},
     "output_type": "execute_result"
    }
   ],
   "source": [
    "geo.boundary(0).support"
   ]
  },
  {
   "cell_type": "code",
   "execution_count": 4,
   "id": "bfe9c10b-5148-479d-a526-c35eef44c53e",
   "metadata": {},
   "outputs": [
    {
     "data": {
      "text/plain": [
       "array([[0, 0],\n",
       "       [0, 1],\n",
       "       [1, 0],\n",
       "       [1, 1],\n",
       "       [2, 0],\n",
       "       [2, 1]])"
      ]
     },
     "execution_count": 4,
     "metadata": {},
     "output_type": "execute_result"
    }
   ],
   "source": [
    "np.array(list(it.product(range(3), (0,1))))"
   ]
  },
  {
   "cell_type": "code",
   "execution_count": 1,
   "id": "7bc27d1e-8d07-4126-a5d9-df572caea626",
   "metadata": {},
   "outputs": [
    {
     "ename": "NameError",
     "evalue": "name 'b' is not defined",
     "output_type": "error",
     "traceback": [
      "\u001b[31m---------------------------------------------------------------------------\u001b[39m",
      "\u001b[31mNameError\u001b[39m                                 Traceback (most recent call last)",
      "\u001b[36mCell\u001b[39m\u001b[36m \u001b[39m\u001b[32mIn[1]\u001b[39m\u001b[32m, line 1\u001b[39m\n\u001b[32m----> \u001b[39m\u001b[32m1\u001b[39m \u001b[43mb\u001b[49m[:,\u001b[32m0\u001b[39m]\n",
      "\u001b[31mNameError\u001b[39m: name 'b' is not defined"
     ]
    }
   ],
   "source": [
    "b[:,0]"
   ]
  },
  {
   "cell_type": "code",
   "execution_count": 6,
   "id": "aea8b91d-0c31-4fac-afbe-f3f301d4065f",
   "metadata": {},
   "outputs": [],
   "source": [
    "b = bspline._parse_bdspec('left',2)"
   ]
  },
  {
   "cell_type": "code",
   "execution_count": 9,
   "id": "bcc17c7d-6980-489e-8607-6d402fe60f98",
   "metadata": {},
   "outputs": [
    {
     "data": {
      "text/plain": [
       "[(np.int32(1), np.int32(0))]"
      ]
     },
     "execution_count": 9,
     "metadata": {},
     "output_type": "execute_result"
    }
   ],
   "source": [
    "list(zip(b[:,0],b[:,1]))"
   ]
  },
  {
   "cell_type": "code",
   "execution_count": 11,
   "id": "e8510520-3ea4-48c7-b89f-7f6ca777b422",
   "metadata": {},
   "outputs": [],
   "source": [
    "b=np.array([1,2],dtype=np.int64)"
   ]
  },
  {
   "cell_type": "code",
   "execution_count": 22,
   "id": "7929befa-a68d-4ba2-8d16-b5b9c4e70ce4",
   "metadata": {},
   "outputs": [
    {
     "data": {
      "text/plain": [
       "array([ True, False])"
      ]
     },
     "execution_count": 22,
     "metadata": {},
     "output_type": "execute_result"
    }
   ],
   "source": [
    "(0 < b) & (b < 2)"
   ]
  },
  {
   "cell_type": "code",
   "execution_count": 26,
   "id": "dbdaf849-dbfb-47c0-a021-36bd3382c849",
   "metadata": {},
   "outputs": [
    {
     "data": {
      "text/plain": [
       "array([[1, 1],\n",
       "       [2, 2]])"
      ]
     },
     "execution_count": 26,
     "metadata": {},
     "output_type": "execute_result"
    }
   ],
   "source": [
    "np.array(list(zip(b,b)))"
   ]
  },
  {
   "cell_type": "code",
   "execution_count": 49,
   "id": "34a1c53e-77d4-4b7d-9914-7df7f9b54ff1",
   "metadata": {},
   "outputs": [
    {
     "name": "stdout",
     "output_type": "stream",
     "text": [
      "False\n",
      "False\n"
     ]
    }
   ],
   "source": [
    "kv1 = bspline.make_knots(3,0,1,10)\n",
    "kv2 = bspline.make_knots(4,0.25,0.75,10,mult=1)\n",
    "print(kv2 <= kv1) #should be False\n",
    "print(kv1 <= kv2) #should be True"
   ]
  },
  {
   "cell_type": "code",
   "execution_count": 50,
   "id": "bbd2db01-686b-4d77-b46c-ef0ee0d6226c",
   "metadata": {},
   "outputs": [],
   "source": [
    "import itertools as it\n",
    "def face_indices(n, m):\n",
    "    S=[]\n",
    "    for comb in it.combinations(range(n),n-m):\n",
    "        for i in it.product(*(n-m)*((0,1),)):\n",
    "            S.append((comb, i))\n",
    "    return S"
   ]
  },
  {
   "cell_type": "code",
   "execution_count": 54,
   "id": "cec5e714-dcc8-4551-93b8-a3751f74718b",
   "metadata": {},
   "outputs": [],
   "source": [
    "import itertools as it\n",
    "def face_indices_new(n, m):\n",
    "    \"\"\"\n",
    "    Return all boundary submanifolds of dimension m in an n-dimensional hypercube\n",
    "    as a list of arrays. Each submanifold is an array of [axis, side] pairs.\n",
    "\n",
    "    Returns:\n",
    "        List[np.ndarray]: List of (codim, 2) arrays where each array defines a submanifold.\n",
    "    \"\"\"\n",
    "    codim = n - m\n",
    "    if codim == 0:\n",
    "        return [np.empty((0, 2), dtype=int)]  # The full domain itself\n",
    "\n",
    "    axis_combos = list(it.combinations(range(n), codim))\n",
    "    side_combos = list(it.product([0, 1], repeat=codim))\n",
    "\n",
    "    result = [\n",
    "        np.array(list(zip(axes, sides)), dtype=int)\n",
    "        for axes in axis_combos\n",
    "        for sides in side_combos\n",
    "    ]\n",
    "\n",
    "    return result"
   ]
  },
  {
   "cell_type": "code",
   "execution_count": 56,
   "id": "e3781144-c096-4e02-bc6d-572fb92a55f3",
   "metadata": {},
   "outputs": [
    {
     "data": {
      "text/plain": [
       "[array([[0, 0],\n",
       "        [1, 0]]),\n",
       " array([[0, 0],\n",
       "        [1, 1]]),\n",
       " array([[0, 1],\n",
       "        [1, 0]]),\n",
       " array([[0, 1],\n",
       "        [1, 1]]),\n",
       " array([[0, 0],\n",
       "        [2, 0]]),\n",
       " array([[0, 0],\n",
       "        [2, 1]]),\n",
       " array([[0, 1],\n",
       "        [2, 0]]),\n",
       " array([[0, 1],\n",
       "        [2, 1]]),\n",
       " array([[1, 0],\n",
       "        [2, 0]]),\n",
       " array([[1, 0],\n",
       "        [2, 1]]),\n",
       " array([[1, 1],\n",
       "        [2, 0]]),\n",
       " array([[1, 1],\n",
       "        [2, 1]])]"
      ]
     },
     "execution_count": 56,
     "metadata": {},
     "output_type": "execute_result"
    }
   ],
   "source": [
    "face_indices_new(3,1)"
   ]
  },
  {
   "cell_type": "code",
   "execution_count": 60,
   "id": "5e2330e8-dd1b-4324-bb60-60fd80b0f073",
   "metadata": {},
   "outputs": [
    {
     "data": {
      "image/png": "[encoded data removed]",
      "text/plain": [
       "<Figure size 640x480 with 1 Axes>"
      ]
     },
     "metadata": {},
     "output_type": "display_data"
    }
   ],
   "source": [
    "G = geometry.tensor_product(geometry.line_segment(0,1),\n",
    "                            geometry.line_segment(0,5))\n",
    "vis.plot_geo(G,2)\n",
    "plt.axis('scaled');"
   ]
  },
  {
   "cell_type": "code",
   "execution_count": 84,
   "id": "b3224f19-fc6f-4995-9623-cc71b703252c",
   "metadata": {},
   "outputs": [],
   "source": [
    "x = np.array([1,2],'i')"
   ]
  },
  {
   "cell_type": "code",
   "execution_count": 90,
   "id": "349382f7-77ef-4d33-8431-c052c7576bab",
   "metadata": {},
   "outputs": [
    {
     "data": {
      "text/plain": [
       "True"
      ]
     },
     "execution_count": 90,
     "metadata": {},
     "output_type": "execute_result"
    }
   ],
   "source": [
    "isinstance(x[0],(np.int32,int))"
   ]
  },
  {
   "cell_type": "code",
   "execution_count": 74,
   "id": "b5d02ae1-43e1-4ab5-8c13-58d603c122b1",
   "metadata": {},
   "outputs": [
    {
     "data": {
      "text/plain": [
       "2"
      ]
     },
     "execution_count": 74,
     "metadata": {},
     "output_type": "execute_result"
    }
   ],
   "source": [
    "int(dim)"
   ]
  },
  {
   "cell_type": "code",
   "execution_count": 3,
   "id": "18b9ffe0-7280-4758-a5a7-ca2e61564d3b",
   "metadata": {},
   "outputs": [
    {
     "data": {
      "text/plain": [
       "array([[0, 0],\n",
       "       [1, 0]])"
      ]
     },
     "execution_count": 3,
     "metadata": {},
     "output_type": "execute_result"
    }
   ],
   "source": [
    "np.array([[0,0],[1,0]])"
   ]
  },
  {
   "cell_type": "code",
   "execution_count": 47,
   "id": "e5eb4dc2-996e-4716-a4a6-03f3c13c5c77",
   "metadata": {},
   "outputs": [
    {
     "data": {
      "text/plain": [
       "KnotVector(array([0.25, 0.25, 0.25, 0.25, 0.25, 0.3 , 0.35, 0.4 , 0.45, 0.5 , 0.55, 0.6 , 0.65, 0.7 , 0.75, 0.75, 0.75, 0.75, 0.75]), 4)"
      ]
     },
     "execution_count": 47,
     "metadata": {},
     "output_type": "execute_result"
    }
   ],
   "source": [
    "kv2"
   ]
  },
  {
   "cell_type": "code",
   "execution_count": 36,
   "id": "a47a4505-08d8-4aa8-ad20-f7facdffd870",
   "metadata": {},
   "outputs": [],
   "source": [
    "def issub(kv1, kv2):\n",
    "    a1,b1 = kv1.support()\n",
    "    a2,b2 = kv2.support()\n",
    "    n1, n2 = len(kv1.kv), len(kv2.kv)\n",
    "    i1=0\n",
    "    i2=0\n",
    "    delta_p=kv2.p-kv1.p\n",
    "    tol=1e-12\n",
    "    if delta_p<0: return False\n",
    "    if a1 > a2 + tol or b2 > b1 + tol: return False\n",
    "    while kv1.kv[i1] < a2 - tol: \n",
    "        i1 += 1\n",
    "        \n",
    "    while i1 < n1 and i2 < n2:   \n",
    "        while i2 < n2 and kv2.kv[i2] < kv1.kv[i1] - tol:\n",
    "            i2 += 1\n",
    "        if i2 == n2:\n",
    "            break\n",
    "\n",
    "        while i1 < n1 and kv1.kv[i1] < kv2.kv[i2] - tol:\n",
    "            i1 += 1\n",
    "        if i1 == n1:\n",
    "            break\n",
    "\n",
    "        m1 = 1\n",
    "        while (i1 + m1) < n1 and abs(kv1.kv[i1 + m1] - kv1.kv[i1]) < tol:\n",
    "            m1 += 1\n",
    "\n",
    "        m2 = 1\n",
    "        while (i2 + m2) < n2 and abs(kv2.kv[i2 + m2] - kv2.kv[i2]) < tol:\n",
    "            m2 += 1\n",
    "            \n",
    "\n",
    "        if m2 < m1 + delta_p:\n",
    "            print(2)\n",
    "            return False\n",
    "\n",
    "        i1 += m1\n",
    "        i2 += m2\n",
    "    return True"
   ]
  },
  {
   "cell_type": "code",
   "execution_count": 37,
   "id": "e3d6474f-fb3d-43df-886c-0ad233a73b15",
   "metadata": {},
   "outputs": [
    {
     "data": {
      "text/plain": [
       "False"
      ]
     },
     "execution_count": 37,
     "metadata": {},
     "output_type": "execute_result"
    }
   ],
   "source": [
    "issub(kv1, kv2)"
   ]
  },
  {
   "cell_type": "code",
   "execution_count": 38,
   "id": "612b2c92-3f9d-4d87-8530-755b61bb8ec9",
   "metadata": {},
   "outputs": [
    {
     "data": {
      "text/plain": [
       "False"
      ]
     },
     "execution_count": 38,
     "metadata": {},
     "output_type": "execute_result"
    }
   ],
   "source": [
    "issub(kv2, kv1)"
   ]
  },
  {
   "cell_type": "code",
   "execution_count": 26,
   "id": "3fd2d0be-4fcf-4653-a192-047084ca32e3",
   "metadata": {},
   "outputs": [
    {
     "data": {
      "text/plain": [
       "array([[1.        , 0.        , 0.        , 0.        , 0.        , 0.        , 0.        , 0.        ],\n",
       "       [0.25      , 0.75      , 0.        , 0.        , 0.        , 0.        , 0.        , 0.        ],\n",
       "       [0.        , 0.75      , 0.25      , 0.        , 0.        , 0.        , 0.        , 0.        ],\n",
       "       [0.        , 0.125     , 0.79166667, 0.08333333, 0.        , 0.        , 0.        , 0.        ],\n",
       "       [0.        , 0.        , 0.5       , 0.5       , 0.        , 0.        , 0.        , 0.        ],\n",
       "       [0.        , 0.        , 0.08333333, 0.83333333, 0.08333333, 0.        , 0.        , 0.        ],\n",
       "       [0.        , 0.        , 0.        , 0.5       , 0.5       , 0.        , 0.        , 0.        ],\n",
       "       [0.        , 0.        , 0.        , 0.08333333, 0.83333333, 0.08333333, 0.        , 0.        ],\n",
       "       [0.        , 0.        , 0.        , 0.        , 0.5       , 0.5       , 0.        , 0.        ],\n",
       "       [0.        , 0.        , 0.        , 0.        , 0.08333333, 0.79166667, 0.125     , 0.        ],\n",
       "       [0.        , 0.        , 0.        , 0.        , 0.        , 0.25      , 0.75      , 0.        ],\n",
       "       [0.        , 0.        , 0.        , 0.        , 0.        , 0.        , 0.75      , 0.25      ],\n",
       "       [0.        , 0.        , 0.        , 0.        , 0.        , 0.        , 0.        , 1.        ]])"
      ]
     },
     "execution_count": 26,
     "metadata": {},
     "output_type": "execute_result"
    }
   ],
   "source": [
    "bspline.prolongation(kv1,kv2).toarray()"
   ]
  },
  {
   "cell_type": "code",
   "execution_count": 36,
   "id": "8111d2ec-27f5-468a-9c1b-03cb35aefd3c",
   "metadata": {},
   "outputs": [],
   "source": [
    "kv1 = bspline.make_knots(4,0,0.5,10**2, mult=2)\n",
    "kv2 = bspline.make_knots(4,0,1,10**2, mult=2)\n",
    "#kv1 = kv1.p_refine(1)"
   ]
  },
  {
   "cell_type": "code",
   "execution_count": 37,
   "id": "c3c62e95-018b-4a38-ab4b-7254ae23a5f1",
   "metadata": {},
   "outputs": [
    {
     "data": {
      "text/plain": [
       "True"
      ]
     },
     "execution_count": 37,
     "metadata": {},
     "output_type": "execute_result"
    }
   ],
   "source": [
    "kv2 <= kv1"
   ]
  },
  {
   "cell_type": "code",
   "execution_count": 32,
   "id": "587f9295-d983-48c0-97c5-1dffe14aad6f",
   "metadata": {},
   "outputs": [
    {
     "name": "stdout",
     "output_type": "stream",
     "text": [
      "1.24 μs ± 4.33 ns per loop (mean ± std. dev. of 7 runs, 1,000,000 loops each)\n"
     ]
    }
   ],
   "source": [
    "%timeit kv1 <= kv2"
   ]
  },
  {
   "cell_type": "code",
   "execution_count": 33,
   "id": "508d5c4f-f7a4-48fc-a59d-e9a83da75e5a",
   "metadata": {},
   "outputs": [
    {
     "name": "stdout",
     "output_type": "stream",
     "text": [
      "1.35 μs ± 19.7 ns per loop (mean ± std. dev. of 7 runs, 1,000,000 loops each)\n"
     ]
    }
   ],
   "source": [
    "%timeit kv1 < kv2"
   ]
  },
  {
   "cell_type": "code",
   "execution_count": 34,
   "id": "5b0b8ac9-d949-4e1f-b0ed-879dde6bc8a4",
   "metadata": {},
   "outputs": [
    {
     "name": "stdout",
     "output_type": "stream",
     "text": [
      "1.35 μs ± 11.9 ns per loop (mean ± std. dev. of 7 runs, 1,000,000 loops each)\n"
     ]
    }
   ],
   "source": [
    "%timeit kv1 > kv2"
   ]
  },
  {
   "cell_type": "code",
   "execution_count": 35,
   "id": "ceb7266e-a767-4c6f-a235-78c62e54f466",
   "metadata": {},
   "outputs": [
    {
     "name": "stdout",
     "output_type": "stream",
     "text": [
      "1.45 μs ± 21.4 ns per loop (mean ± std. dev. of 7 runs, 1,000,000 loops each)\n"
     ]
    }
   ],
   "source": [
    "%timeit kv1 >= kv2"
   ]
  },
  {
   "cell_type": "code",
   "execution_count": null,
   "id": "387072f8-7f80-4e1e-83e9-efa607a7084e",
   "metadata": {},
   "outputs": [],
   "source": []
  }
 ],
 "metadata": {
  "kernelspec": {
   "display_name": "Python 3 (ipykernel)",
   "language": "python",
   "name": "python3"
  },
  "language_info": {
   "codemirror_mode": {
    "name": "ipython",
    "version": 3
   },
   "file_extension": ".py",
   "mimetype": "text/x-python",
   "name": "python",
   "nbconvert_exporter": "python",
   "pygments_lexer": "ipython3",
   "version": "3.12.10"
  }
 },
 "nbformat": 4,
 "nbformat_minor": 5
}
