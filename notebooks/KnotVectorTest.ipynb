{
 "cells": [
  {
   "cell_type": "code",
   "execution_count": 1,
   "id": "af486058-ae2f-4884-9557-439dca5d162c",
   "metadata": {},
   "outputs": [],
   "source": [
    "%matplotlib inline\n",
    "import numpy as np\n",
    "import scipy\n",
    "from scipy.sparse import coo_matrix, csr_matrix, csc_matrix, block_diag, identity, hstack\n",
    "import matplotlib.pyplot as plt\n",
    "from pyiga import assemble, bspline, vform, geometry, vis, solvers, utils, topology, algebra, quadrature, adaptive\n",
    "np.set_printoptions(linewidth=10000000)"
   ]
  },
  {
   "cell_type": "code",
   "execution_count": 2,
   "id": "34a1c53e-77d4-4b7d-9914-7df7f9b54ff1",
   "metadata": {},
   "outputs": [
    {
     "name": "stdout",
     "output_type": "stream",
     "text": [
      "False\n",
      "False\n"
     ]
    }
   ],
   "source": [
    "kv1 = bspline.make_knots(3,0.75,1,5)\n",
    "kv2 = bspline.make_knots(3,0.5,1,5)\n",
    "print(kv2 <= kv1) #should be True\n",
    "print(kv1 <= kv2) #should be False"
   ]
  },
  {
   "cell_type": "code",
   "execution_count": 44,
   "id": "6e20c0a3-fc21-49a9-b5c1-b1d2ffbf9d51",
   "metadata": {},
   "outputs": [
    {
     "data": {
      "text/plain": [
       "KnotVector(array([0.75, 0.75, 0.75, 0.75, 0.8 , 0.85, 0.9 , 0.95, 1.  , 1.  , 1.  , 1.  ]), 3)"
      ]
     },
     "execution_count": 44,
     "metadata": {},
     "output_type": "execute_result"
    }
   ],
   "source": [
    "kv1"
   ]
  },
  {
   "cell_type": "code",
   "execution_count": 49,
   "id": "3fd2d0be-4fcf-4653-a192-047084ca32e3",
   "metadata": {},
   "outputs": [
    {
     "data": {
      "text/plain": [
       "<Compressed Sparse Row sparse matrix of dtype 'float64'\n",
       "\twith 20 stored elements and shape (8, 8)>"
      ]
     },
     "execution_count": 49,
     "metadata": {},
     "output_type": "execute_result"
    }
   ],
   "source": [
    "bspline.prolongation(kv2,kv1)"
   ]
  },
  {
   "cell_type": "code",
   "execution_count": 36,
   "id": "8111d2ec-27f5-468a-9c1b-03cb35aefd3c",
   "metadata": {},
   "outputs": [],
   "source": [
    "kv1 = bspline.make_knots(4,0,0.5,10**2, mult=2)\n",
    "kv2 = bspline.make_knots(4,0,1,10**2, mult=2)\n",
    "#kv1 = kv1.p_refine(1)"
   ]
  },
  {
   "cell_type": "code",
   "execution_count": 37,
   "id": "c3c62e95-018b-4a38-ab4b-7254ae23a5f1",
   "metadata": {},
   "outputs": [
    {
     "data": {
      "text/plain": [
       "True"
      ]
     },
     "execution_count": 37,
     "metadata": {},
     "output_type": "execute_result"
    }
   ],
   "source": [
    "kv2 <= kv1"
   ]
  },
  {
   "cell_type": "code",
   "execution_count": 32,
   "id": "587f9295-d983-48c0-97c5-1dffe14aad6f",
   "metadata": {},
   "outputs": [
    {
     "name": "stdout",
     "output_type": "stream",
     "text": [
      "1.24 μs ± 4.33 ns per loop (mean ± std. dev. of 7 runs, 1,000,000 loops each)\n"
     ]
    }
   ],
   "source": [
    "%timeit kv1 <= kv2"
   ]
  },
  {
   "cell_type": "code",
   "execution_count": 33,
   "id": "508d5c4f-f7a4-48fc-a59d-e9a83da75e5a",
   "metadata": {},
   "outputs": [
    {
     "name": "stdout",
     "output_type": "stream",
     "text": [
      "1.35 μs ± 19.7 ns per loop (mean ± std. dev. of 7 runs, 1,000,000 loops each)\n"
     ]
    }
   ],
   "source": [
    "%timeit kv1 < kv2"
   ]
  },
  {
   "cell_type": "code",
   "execution_count": 34,
   "id": "5b0b8ac9-d949-4e1f-b0ed-879dde6bc8a4",
   "metadata": {},
   "outputs": [
    {
     "name": "stdout",
     "output_type": "stream",
     "text": [
      "1.35 μs ± 11.9 ns per loop (mean ± std. dev. of 7 runs, 1,000,000 loops each)\n"
     ]
    }
   ],
   "source": [
    "%timeit kv1 > kv2"
   ]
  },
  {
   "cell_type": "code",
   "execution_count": 35,
   "id": "ceb7266e-a767-4c6f-a235-78c62e54f466",
   "metadata": {},
   "outputs": [
    {
     "name": "stdout",
     "output_type": "stream",
     "text": [
      "1.45 μs ± 21.4 ns per loop (mean ± std. dev. of 7 runs, 1,000,000 loops each)\n"
     ]
    }
   ],
   "source": [
    "%timeit kv1 >= kv2"
   ]
  },
  {
   "cell_type": "code",
   "execution_count": null,
   "id": "387072f8-7f80-4e1e-83e9-efa607a7084e",
   "metadata": {},
   "outputs": [],
   "source": []
  }
 ],
 "metadata": {
  "kernelspec": {
   "display_name": "Python 3 (ipykernel)",
   "language": "python",
   "name": "python3"
  },
  "language_info": {
   "codemirror_mode": {
    "name": "ipython",
    "version": 3
   },
   "file_extension": ".py",
   "mimetype": "text/x-python",
   "name": "python",
   "nbconvert_exporter": "python",
   "pygments_lexer": "ipython3",
   "version": "3.12.10"
  }
 },
 "nbformat": 4,
 "nbformat_minor": 5
}
