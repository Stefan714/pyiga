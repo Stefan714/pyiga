{
 "cells": [
  {
   "cell_type": "code",
   "execution_count": 89,
   "id": "567e5276-a59d-4480-b714-de0ceb50e128",
   "metadata": {},
   "outputs": [],
   "source": [
    "class BSegment:\n",
    "    def __init__(self, n=0):\n",
    "        self.lower = None\n",
    "        self.upper  = None\n",
    "        self.axis  = None\n",
    "        self.idx = n\n",
    "        self.num = 1\n",
    "        \n",
    "    def split_segment(self, seg=tuple() , ax=None):\n",
    "        n=self.num\n",
    "        S = self\n",
    "        for i in seg:\n",
    "            if i==0:\n",
    "                S=S.lower\n",
    "            elif i==1:\n",
    "                S=S.upper\n",
    "            else:\n",
    "                assert 0, \"wrong type of input for segment.\"\n",
    "        \n",
    "        S.lower = Segment(S.idx)\n",
    "        S.upper = Segment(n)\n",
    "        S.axis = ax\n",
    "        S.idx = None\n",
    "        \n",
    "        self.num += 1\n",
    "        \n",
    "    def get_index(self,seg=tuple()):\n",
    "        S = self\n",
    "        for i in seg:\n",
    "            if i==0:\n",
    "                if S.lower:\n",
    "                    S=S.lower\n",
    "                else:\n",
    "                    assert 0, \"There is no segment here.\"\n",
    "            elif i==1:\n",
    "                if S.upper:\n",
    "                    S=S.upper\n",
    "                else:\n",
    "                    assert 0, \"There is no segment here.\"\n",
    "            else:\n",
    "                assert 0, \"wrong type of input for segment.\"\n",
    "        return S.idx\n",
    "    \n",
    "    def print(self):\n",
    "        if not self.lower and not self.upper:\n",
    "            return str(self.idx)\n",
    "        else:\n",
    "            return \"(\" + self.lower.print() + \",\" + self.upper.print() + \")\"\n",
    "                "
   ]
  },
  {
   "cell_type": "code",
   "execution_count": 90,
   "id": "414c0e7b-4ded-4919-84bf-32c2927ecc91",
   "metadata": {},
   "outputs": [],
   "source": [
    "S=BSegment()"
   ]
  },
  {
   "cell_type": "code",
   "execution_count": 91,
   "id": "642b4384-e1c9-4acd-aace-50465d67dd73",
   "metadata": {},
   "outputs": [],
   "source": [
    "S.split_segment(seg=tuple(), ax=1)\n",
    "\n",
    "S.split_segment(seg = (1,), ax=1)\n",
    "\n",
    "S.split_segment(seg = (1,0), ax=1)"
   ]
  },
  {
   "cell_type": "code",
   "execution_count": 97,
   "id": "9925c0d5-e68d-4755-8792-68db1337cd44",
   "metadata": {},
   "outputs": [
    {
     "name": "stdout",
     "output_type": "stream",
     "text": [
      "3\n"
     ]
    }
   ],
   "source": [
    "print(S.get_index(seg=(1,0,1)))"
   ]
  },
  {
   "cell_type": "code",
   "execution_count": 88,
   "id": "dbfa26a0-5aee-4528-8021-c70e6a5af3ee",
   "metadata": {},
   "outputs": [
    {
     "data": {
      "text/plain": [
       "'(0,((1,3),2))'"
      ]
     },
     "execution_count": 88,
     "metadata": {},
     "output_type": "execute_result"
    }
   ],
   "source": [
    "S.print()"
   ]
  },
  {
   "cell_type": "code",
   "execution_count": null,
   "id": "5814f6da-d811-4077-add7-bc8dc7101936",
   "metadata": {},
   "outputs": [],
   "source": []
  }
 ],
 "metadata": {
  "kernelspec": {
   "display_name": "Python 3",
   "language": "python",
   "name": "python3"
  },
  "language_info": {
   "codemirror_mode": {
    "name": "ipython",
    "version": 3
   },
   "file_extension": ".py",
   "mimetype": "text/x-python",
   "name": "python",
   "nbconvert_exporter": "python",
   "pygments_lexer": "ipython3",
   "version": "3.8.8"
  }
 },
 "nbformat": 4,
 "nbformat_minor": 5
}
