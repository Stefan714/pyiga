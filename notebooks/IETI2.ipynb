{
 "cells": [
  {
   "cell_type": "code",
   "execution_count": 8,
   "id": "8c74f08a-f5eb-455e-917e-90041710b14d",
   "metadata": {},
   "outputs": [
    {
     "name": "stdout",
     "output_type": "stream",
     "text": [
      "%pylab is deprecated, use %matplotlib inline and import the required libraries.\n",
      "Populating the interactive namespace from numpy and matplotlib\n"
     ]
    },
    {
     "name": "stderr",
     "output_type": "stream",
     "text": [
      "/home/wolfman/miniforge3/lib/python3.11/site-packages/IPython/core/magics/pylab.py:166: UserWarning: pylab import has clobbered these variables: ['hstack', 'identity']\n",
      "`%matplotlib` prevents importing * from pylab and numpy\n",
      "  warn(\"pylab import has clobbered these variables: %s\"  % clobbered +\n"
     ]
    }
   ],
   "source": [
    "%pylab inline\n",
    "import scipy\n",
    "from scipy.sparse import coo_matrix, block_diag, identity, hstack, csr_matrix, csc_matrix\n",
    "import matplotlib.pyplot as plt\n",
    "from pyiga import assemble, bspline, vform, geometry, vis, solvers, utils, topology, ieti, algebra\n",
    "from pyiga import algebra_cy\n",
    "\n",
    "from scipy.sparse.linalg import aslinearoperator\n",
    "\n",
    "numpy.set_printoptions(linewidth=100000)\n",
    "numpy.set_printoptions(precision=5)"
   ]
  },
  {
   "cell_type": "code",
   "execution_count": 9,
   "id": "57de69c1-9ff5-4fb0-af50-2b0090ccfb1a",
   "metadata": {},
   "outputs": [],
   "source": [
    "class IetiMapper:\n",
    "    def __init__(self, MP, dir_data, neu_data=None, elim=False):\n",
    "        self.space = MP\n",
    "        kvs = self.space.mesh.kvs\n",
    "        geos = self.space.mesh.geos\n",
    "\n",
    "        # self.elim=elim\n",
    "\n",
    "        # if self.elim:\n",
    "        #     p_intfs = np.array([[p1,p2] for (p1,_,_),(p2,_,_),_ in self.space.intfs], dtype=np.int32).T\n",
    "        #     self.Basisk, self.N_ofs, self.N, self.B = ieti_cy.pyx_compute_decoupled_coarse_basis(self.space.Basis.tocsc(), MP.N_ofs.astype(np.int32), p_intfs)\n",
    "        # else:\n",
    "            #self.Basisk = [scipy.sparse.identity(self.space.N[p]) for p in range(self.space.numpatches)]\n",
    "        self.B = self.space.B\n",
    "        self.N = self.space.N\n",
    "        self.N_ofs = self.space.N_ofs\n",
    "\n",
    "        self.Bk = [self.B[:,self.N_ofs[p]:self.N_ofs[p+1]] for p in range(self.space.numpatches)]\n",
    "\n",
    "        nnz_per_col = self.B.getnnz(axis=0)\n",
    "        self.intfs = np.setdiff1d(np.where(nnz_per_col > 0)[0], self.space.global_dir_idx)\n",
    "        self.skeleton = np.union1d(self.intfs, self.space.global_dir_idx)\n",
    "        \n",
    "        self.Rbb = []\n",
    "        self.Rii = []\n",
    "        for p in range(self.space.numpatches):\n",
    "            Id = scipy.sparse.eye(self.N[p], format='csr')\n",
    "            mask = np.zeros(self.N[p], dtype=bool)\n",
    "            nnz_per_col = self.Bk[p].getnnz(axis=0)\n",
    "            if p in self.space.dir_idx:\n",
    "                intfs = np.setdiff1d(np.where(nnz_per_col > 0)[0], self.space.dir_idx[p])\n",
    "            else:\n",
    "                intfs = np.where(nnz_per_col > 0)[0]\n",
    "            mask[intfs]=True\n",
    "            if p in self.space.dir_idx:\n",
    "                mask[self.space.dir_idx[p]]=False\n",
    "            self.Rbb.append(Id[mask].tocsc())\n",
    "            mask = np.ones(self.N[p], dtype=bool)\n",
    "            mask[intfs]=False\n",
    "            if p in self.space.dir_idx:\n",
    "                mask[self.space.dir_idx[p]]=False\n",
    "            self.Rii.append(Id[mask].tocsc())\n",
    "            \n",
    "        #self.Nodes = self.get_nodes()\n",
    "\n",
    "    def get_nodes(self, dir_boundary=False):      ###TODO: make it dependent on a constraint matrix not on the precomputed Basis matrix\n",
    "        \"\"\"Get global vertices of the multipatch object as well as local nodal degrees of freedom corresponding to the vertices. \n",
    "        In case of T-junctions also obtain the $p$ global degrees of freedom and $p$ local degrees of freedom on the coarse patch.\n",
    "        Additionally may include nodes on the Dirichlet boundary if desired.\"\"\"\n",
    "        loc_c = np.concatenate([assemble.boundary_dofs(kvs,m=0,ravel=True) + self.N_ofs[p] for p, kvs in enumerate(self.space.mesh.kvs)])\n",
    "\n",
    "        #loc_c = np.setdiff1d(loc_c, self.global_dir_idx)\n",
    "\n",
    "        idx = (self.B[:,loc_c].getnnz(axis=1)==2)\n",
    "        R = scipy.sparse.coo_matrix((np.ones(len(loc_c)),(np.arange(len(loc_c)),loc_c)),shape=(len(loc_c),self.B.shape[1])).tocsr()\n",
    "        c_B = self.B[idx,:]@R.T\n",
    "        print(c_B.shape)\n",
    "        nodal_indicator = R.T@algebra_cy.pyx_compute_basis(c_B.shape[0], c_B.shape[1], c_B, maxiter=5).tocsc()\n",
    "        nodal_indicator = nodal_indicator[:,nodal_indicator.getnnz(axis=0)>1]\n",
    "        \n",
    "        return np.split(nodal_indicator.indices, nodal_indicator.indptr[1:-1])\n",
    "        \n",
    "        # B = self.space.Basis[loc_c,:]\n",
    "        # C_dofs = np.unique(B[B.getnnz(axis=1)==1].indices)\n",
    "        # X = scipy.sparse.coo_matrix(self.space.Basis)\n",
    "        # idx = np.where(np.isclose(X.data,1))\n",
    "        # X.data, X.row, X.col = X.data[idx], X.row[idx], X.col[idx]\n",
    "        # X = X.tocsc()\n",
    "        # self.Nodes = {c:[X[:,c].indices] for c in C_dofs}\n",
    "        # t_idx = loc_c[np.where(B.getnnz(axis=1)>1)[0]]\n",
    "        # T_dofs = {}\n",
    "        # for i in t_idx:\n",
    "        #     t = tuple(self.space.Basis[i,:].indices)\n",
    "        #     coeff = tuple()\n",
    "        #     if t not in T_dofs:\n",
    "        #         T_dofs[t] = [(i,),set(self.space.B[self.space.B.tocsc()[:,i].indices,:].indices)-{i}]\n",
    "        #     else:\n",
    "        #         T_dofs[t][0] = T_dofs[t][0]+(i,)\n",
    "        #         T_dofs[t][1] = T_dofs[t][1] & (set(self.space.B[self.space.B.tocsc()[:,i].indices,:].indices)-{i})\n",
    "        # T_dofs = {t:[np.sort(T_dofs[t][0]),np.sort(list(T_dofs[t][1]))] for t in T_dofs}\n",
    "        # self.Nodes.update(T_dofs)\n",
    "        # if not dir_boundary:\n",
    "        #     self.Nodes = {key:self.Nodes[key] for key in self.Nodes if len(np.intersect1d(self.Nodes[key][0],self.space.global_dir_idx))==0}\n",
    "        \n",
    "\n",
    "    def generate_primal_info(fat):      ###TODO: more efficient\n",
    "        #Nodes = self.space.get_nodes()\n",
    "        self.Prim = {}\n",
    "        i=0\n",
    "        total_dofs=set()\n",
    "        \n",
    "        if self.elim:\n",
    "            if fat:\n",
    "                for key in self.Nodes:\n",
    "                    if isinstance(key,np.int32):\n",
    "                        dofs = self.Basis.tocsr()[self.Nodes[key][0],:].indices\n",
    "                        self.Prim[i] = (dofs,np.ones(len(dofs)))\n",
    "                        i+=1\n",
    "                    else:\n",
    "                        dofs = self.Basis.tocsr()[self.Nodes[key][1],:].indices\n",
    "                        for dof in dofs:\n",
    "                            if dof not in total_dofs:\n",
    "                                total_dofs.add(dof)\n",
    "                                dofs = np.unique(self.B.tocsr()[self.B.tocsc()[:,dof].indices,:].indices)\n",
    "                                self.Prim[i] = (dofs,np.ones(len(dofs)))\n",
    "                                i+=1\n",
    "            else:\n",
    "                for key in self.Nodes:\n",
    "                    if isinstance(key,np.int32):\n",
    "                        dofs = self.Basis.tocsr()[self.Nodes[key][0],:].indices\n",
    "                        self.Prim[i] = (dofs,np.ones(len(dofs)))\n",
    "                        i+=1\n",
    "                    else:\n",
    "                        constr = (self.space.B.tocsc()[:,self.Nodes[key][0][0]]==1).indices\n",
    "                        coeffs = abs(self.space.B[constr,:][:,self.Nodes[key][1]].data)\n",
    "                        dofs_coarse = self.Basis.tocsr()[self.Nodes[key][1],:].indices\n",
    "                        dofs=[]\n",
    "                        for dof in dofs_coarse:\n",
    "                            found_dofs = np.unique(self.B.tocsr()[self.B.tocsc()[:,dof].indices,:].indices)\n",
    "                            dofs.append(found_dofs)\n",
    "                        self.Prim[i] = (np.concatenate(dofs),np.repeat(coeffs,len(found_dofs)))\n",
    "                        i+=1\n",
    "        else:\n",
    "            for key in self.Nodes:\n",
    "                if isinstance(key,np.int32):    #regular corner\n",
    "                    dofs = self.Basis.tocsr()[self.Nodes[key][0],:].indices\n",
    "                    self.Prim[i] = (dofs,np.ones(len(dofs)))\n",
    "                    i+=1\n",
    "                else:                        #T-junction\n",
    "                    constr = (self.space.B.tocsc()[:,self.Nodes[key][0][0]]==1).indices\n",
    "                    coeffs = abs(self.space.B[constr,:][:,self.Nodes[key][1]].data)\n",
    "                    dofs_coarse = self.Nodes[key][1]\n",
    "                    dofs=np.concatenate([self.Nodes[key][0],self.Nodes[key][1]])\n",
    "                    coeffs = np.concatenate([np.ones(len(self.Nodes[key][0])),coeffs])\n",
    "                    self.Prim[i] = (dofs,coeffs)\n",
    "                    i+=1\n",
    "        #self.n_prim = len(Prim)"
   ]
  },
  {
   "cell_type": "code",
   "execution_count": 297,
   "id": "4984dadf-fee3-4066-aa9e-862a6617ec32",
   "metadata": {},
   "outputs": [
    {
     "name": "stdout",
     "output_type": "stream",
     "text": [
      "setting up constraints took 0.015811681747436523 seconds.\n",
      "Basis setup took 0.005078315734863281 seconds\n",
      "(8, 16)\n"
     ]
    }
   ],
   "source": [
    "deg = 1\n",
    "N = 3\n",
    "#M = Tshapes(deg,N,1)\n",
    "knots = (bspline.make_knots(deg,0,1,N),bspline.make_knots(deg,0,1,N))\n",
    "M = topology.PatchMesh([(knots,geometry.quarter_annulus())])\n",
    "M.split_patch(0,axis=0);\n",
    "M.split_patch(1,axis=1);\n",
    "#M.h_refine({1:-1})\n",
    "M.split_patch(0,axis=1);\n",
    "MP = assemble.Multipatch(M, automatch=True)\n",
    "dir_data = {0:0}\n",
    "MP.set_dirichlet_boundary(dir_data)\n",
    "IMP = IetiMapper(MP,dir_data)"
   ]
  },
  {
   "cell_type": "code",
   "execution_count": 298,
   "id": "6ba23f03-f6ad-4564-8325-5b62be0886bf",
   "metadata": {},
   "outputs": [
    {
     "name": "stdout",
     "output_type": "stream",
     "text": [
      "(8, 16)\n",
      "[array([ 3, 48], dtype=int32), array([12, 16], dtype=int32), array([31, 44], dtype=int32), array([32, 15, 19, 60], dtype=int32), array([35, 63], dtype=int32)]\n",
      "0.014004707336425781\n"
     ]
    }
   ],
   "source": [
    "t = time.time()\n",
    "Basis = IMP.get_nodes()\n",
    "print(Basis)\n",
    "print(time.time()-t)"
   ]
  },
  {
   "cell_type": "code",
   "execution_count": 299,
   "id": "ea8b1020-bb4b-4cb0-af02-3dfddfcfebe8",
   "metadata": {},
   "outputs": [
    {
     "data": {
      "image/png": "[encoded data removed]",
      "text/plain": [
       "<Figure size 640x480 with 1 Axes>"
      ]
     },
     "metadata": {},
     "output_type": "display_data"
    }
   ],
   "source": [
    "M.draw(knots=1, patch_idx=1)"
   ]
  },
  {
   "cell_type": "code",
   "execution_count": 300,
   "id": "aa19b22b-b8b5-440a-a9cd-3d79b2191700",
   "metadata": {},
   "outputs": [],
   "source": [
    "corner = np.concatenate([assemble.boundary_dofs(kvs,m=0,ravel=True) + MP.N_ofs[p] for p, kvs in enumerate(MP.mesh.kvs)])\n",
    "n = MP.B.shape[1]"
   ]
  },
  {
   "cell_type": "code",
   "execution_count": 301,
   "id": "9fcd4032-bb23-4984-9f3a-d92ab5477116",
   "metadata": {},
   "outputs": [],
   "source": [
    "idx = (MP.B[:,corner]>0).getnnz(1)>0\n",
    "B = MP.B[idx,:]\n",
    "B = B[B.getnnz(1)==2,:]\n",
    "loc_c = np.unique(B.indices)\n",
    "R = scipy.sparse.coo_matrix((np.ones(len(loc_c)),(np.arange(len(loc_c)),loc_c)),shape=(len(loc_c),n)).tocsr()\n",
    "c_B = B@R.T\n",
    "\n",
    "R = scipy.sparse.coo_matrix((np.ones(len(loc_c)),(np.arange(len(loc_c)),loc_c)),shape=(len(loc_c),n)).tocsr()\n",
    "nodal_indicator = algebra_cy.pyx_compute_basis(c_B.shape[0], c_B.shape[1], c_B, maxiter=5)\n",
    "dofs = np.empty(nodal_indicator.shape[1], dtype=np.int32)\n",
    "S = c_B.sum(0).A[0]\n",
    "for j in range(nodal_indicator.shape[1]):\n",
    "    ind = nodal_indicator.indices[nodal_indicator.indptr[j]:nodal_indicator.indptr[j+1]]\n",
    "    dofs[j]=R.indices[ind[np.argmax(S[ind])]]\n",
    "nodal_indicator = (R.T@nodal_indicator)[:,nodal_indicator.getnnz(axis=0)>1]\n",
    "nnz = MP.B.getnnz(1)\n",
    "B = MP.B.tocsc()\n",
    "constr = np.repeat(-1,len(dofs))\n",
    "\n",
    "for j in range(nodal_indicator.shape[1]):\n",
    "    dof=dofs[j]\n",
    "    for r in range(B.indptr[dof],B.indptr[dof+1]):\n",
    "        i=B.indices[r]\n",
    "        if nnz[i]>2:\n",
    "            constr[j]=i\n",
    "            break\n",
    "if any(constr!=-1):\n",
    "    print(1)\n",
    "    idx = np.where(constr!=-1)[0]\n",
    "    res = scipy.sparse.csc_matrix(nodal_indicator.shape)\n",
    "    res[:,idx]=abs(MP.B[constr[idx],:]).T\n",
    "    res.data=abs(res.data-1)\n",
    "    res.eliminate_zeros()\n",
    "    nodal_indicator += res"
   ]
  },
  {
   "cell_type": "code",
   "execution_count": 302,
   "id": "759048c8-f1d4-4936-b796-7a40209e63f7",
   "metadata": {},
   "outputs": [
    {
     "name": "stdout",
     "output_type": "stream",
     "text": [
      "<Compressed Sparse Column sparse matrix of dtype 'float64'\n",
      "\twith 2 stored elements and shape (64, 1)>\n",
      "  Coords\tValues\n",
      "  (31, 0)\t1.0\n",
      "  (44, 0)\t1.0\n"
     ]
    }
   ],
   "source": [
    "print(nodal_indicator[:,2])"
   ]
  },
  {
   "cell_type": "code",
   "execution_count": 258,
   "id": "46c39e10-6bbd-4b7b-8d3e-3e0aa431895e",
   "metadata": {},
   "outputs": [],
   "source": [
    "idx=np.where(constr!=-1)[0]"
   ]
  },
  {
   "cell_type": "code",
   "execution_count": 259,
   "id": "496db383-ec33-4270-b655-f43d4acf6960",
   "metadata": {},
   "outputs": [
    {
     "data": {
      "text/plain": [
       "array([2])"
      ]
     },
     "execution_count": 259,
     "metadata": {},
     "output_type": "execute_result"
    }
   ],
   "source": [
    "idx"
   ]
  },
  {
   "cell_type": "code",
   "execution_count": 270,
   "id": "5e1f0034-5114-40c8-b0f9-d22598e187d9",
   "metadata": {},
   "outputs": [],
   "source": [
    "res = scipy.sparse.csc_matrix(nodal_indicator.shape)"
   ]
  },
  {
   "cell_type": "code",
   "execution_count": 274,
   "id": "2d318c6d-3e2d-4d25-9357-42b9c49015cb",
   "metadata": {},
   "outputs": [
    {
     "name": "stderr",
     "output_type": "stream",
     "text": [
      "/home/wolfman/miniforge3/lib/python3.11/site-packages/scipy/sparse/_index.py:142: SparseEfficiencyWarning: Changing the sparsity structure of a csc_matrix is expensive. lil and dok are more efficient.\n",
      "  self._set_arrayXarray_sparse(i, j, x)\n"
     ]
    }
   ],
   "source": [
    "res[:,idx]=abs(MP.B[constr[idx],:]).T"
   ]
  },
  {
   "cell_type": "code",
   "execution_count": 280,
   "id": "7fe48142-5d8b-48d9-a406-b16eb579ee5b",
   "metadata": {},
   "outputs": [],
   "source": [
    "res.data=abs(res.data-1)"
   ]
  },
  {
   "cell_type": "code",
   "execution_count": 282,
   "id": "640a8dad-721c-4f4f-9aee-c17c78d11f45",
   "metadata": {},
   "outputs": [
    {
     "data": {
      "text/plain": [
       "array([0.5, 0.5, 0. ])"
      ]
     },
     "execution_count": 282,
     "metadata": {},
     "output_type": "execute_result"
    }
   ],
   "source": [
    "res.data"
   ]
  },
  {
   "cell_type": "code",
   "execution_count": 272,
   "id": "36eeedfc-7d33-4c23-ae3c-3956b8d77661",
   "metadata": {},
   "outputs": [
    {
     "data": {
      "text/plain": [
       "<Compressed Sparse Row sparse matrix of dtype 'float64'\n",
       "\twith 3 stored elements and shape (1, 81)>"
      ]
     },
     "execution_count": 272,
     "metadata": {},
     "output_type": "execute_result"
    }
   ],
   "source": [
    "abs(MP.B[constr[idx],:])"
   ]
  },
  {
   "cell_type": "code",
   "execution_count": 273,
   "id": "7581f113-9ba4-4dc8-8331-6f31b9196566",
   "metadata": {},
   "outputs": [
    {
     "data": {
      "text/plain": [
       "<Compressed Sparse Column sparse matrix of dtype 'float64'\n",
       "\twith 0 stored elements and shape (81, 1)>"
      ]
     },
     "execution_count": 273,
     "metadata": {},
     "output_type": "execute_result"
    }
   ],
   "source": [
    "res[:,idx]"
   ]
  },
  {
   "cell_type": "code",
   "execution_count": 214,
   "id": "0b6fcf88-ddc4-4d30-b1ea-d96f6050d1bd",
   "metadata": {},
   "outputs": [
    {
     "data": {
      "text/plain": [
       "array([-1, -1, -1, -1])"
      ]
     },
     "execution_count": 214,
     "metadata": {},
     "output_type": "execute_result"
    }
   ],
   "source": [
    "idx"
   ]
  },
  {
   "cell_type": "code",
   "execution_count": 135,
   "id": "4f330971-d9dc-463c-bf5a-29642f85f5a5",
   "metadata": {},
   "outputs": [
    {
     "data": {
      "text/plain": [
       "array([[ 0.,  0.,  0.,  0.,  0.,  0., -1.,  0.,  0.,  1.,  0.,  0.,  0.,  0.,  0.,  0.,  0.,  0.,  0.,  0.,  0.,  0.,  0.,  0.,  0.,  0.,  0.],\n",
       "       [ 0.,  0.,  0.,  0.,  0.,  0.,  0., -1.,  0.,  0.,  0.,  1.,  0.,  0.,  0.,  0.,  0.,  0.,  0.,  0.,  0.,  0.,  0.,  0.,  0.,  0.,  0.],\n",
       "       [ 0.,  0.,  0.,  0.,  0.,  0.,  0.,  0.,  0.,  0.,  0., -1.,  0.,  0.,  0.,  0.,  0.,  0.,  1.,  0.,  0.,  0.,  0.,  0.,  0.,  0.,  0.],\n",
       "       [ 0.,  0.,  0.,  0.,  0.,  0.,  0.,  0.,  0.,  0.,  0.,  0.,  0.,  0.,  0.,  0.,  0., -1.,  0.,  0.,  0.,  0.,  0.,  0.,  1.,  0.,  0.],\n",
       "       [ 0.,  0.,  0.,  0.,  0.,  0.,  0., -1.,  0.,  0.,  0.,  0.,  0.,  0.,  0.,  0.,  0.,  0.,  1.,  0.,  0.,  0.,  0.,  0.,  0.,  0.,  0.],\n",
       "       [ 0.,  0.,  0.,  0.,  0.,  0.,  0.,  0., -1.,  0.,  0.,  0.,  0.,  0.,  0.,  0.,  0.,  0.,  0.,  0.,  1.,  0.,  0.,  0.,  0.,  0.,  0.]])"
      ]
     },
     "execution_count": 135,
     "metadata": {},
     "output_type": "execute_result"
    }
   ],
   "source": [
    "B.toarray()"
   ]
  },
  {
   "cell_type": "code",
   "execution_count": 120,
   "id": "98436686-e644-462f-9e78-3950336f053f",
   "metadata": {},
   "outputs": [
    {
     "data": {
      "text/plain": [
       "2"
      ]
     },
     "execution_count": 120,
     "metadata": {},
     "output_type": "execute_result"
    }
   ],
   "source": [
    "np.argmax(np.array([-1,0,1]))"
   ]
  },
  {
   "cell_type": "code",
   "execution_count": 118,
   "id": "66111f8d-a4aa-4c44-8da6-089dce17ff8b",
   "metadata": {},
   "outputs": [
    {
     "data": {
      "text/plain": [
       "matrix([[-2.,  0.,  0.,  2.]])"
      ]
     },
     "execution_count": 118,
     "metadata": {},
     "output_type": "execute_result"
    }
   ],
   "source": [
    "c_B[:,[2,4,6,10]].sum(0)"
   ]
  },
  {
   "cell_type": "code",
   "execution_count": 92,
   "id": "d71abf1c-b042-480a-a280-ef7ce978d824",
   "metadata": {},
   "outputs": [],
   "source": [
    "nodal_indicator = (R.T@nodal_indicator)[:,nodal_indicator.getnnz(axis=0)>1]"
   ]
  },
  {
   "cell_type": "code",
   "execution_count": 88,
   "id": "9c09f3d1-8697-4280-8512-e62f1074ea08",
   "metadata": {},
   "outputs": [
    {
     "data": {
      "text/plain": [
       "<Compressed Sparse Row sparse matrix of dtype 'float64'\n",
       "\twith 8 stored elements and shape (4, 8)>"
      ]
     },
     "execution_count": 88,
     "metadata": {},
     "output_type": "execute_result"
    }
   ],
   "source": [
    "c_B"
   ]
  },
  {
   "cell_type": "code",
   "execution_count": 86,
   "id": "86681621-e79a-4e3d-9893-f33cb13aa9f9",
   "metadata": {},
   "outputs": [
    {
     "name": "stdout",
     "output_type": "stream",
     "text": [
      "[12 16]\n",
      "[15 35]\n",
      "[19 32]\n",
      "[31 44]\n"
     ]
    }
   ],
   "source": [
    "for j in range(nodal_indicator.shape[1]):\n",
    "    ind = nodal_indicator.indices[nodal_indicator.indptr[j]:nodal_indicator.indptr[j+1]]\n",
    "    \n",
    "\n",
    "# dofs = nodal_indicator.indices\n",
    "# nnz = MP.B.getnnz(1)\n",
    "# B = MP.B.tocsc()\n",
    "# idx = np.zeros(len(dofs))-1\n",
    "\n",
    "# for k,dof in enumerate(dofs):\n",
    "#     for r in range(B.indptr[dof],B.indptr[dof+1]):\n",
    "#         i = B.indices[r]\n",
    "#         if nnz[i]>2 and np.isclose(B.data[r],1): \n",
    "#             idx[k] = i\n",
    "# #idx = MP.Constr[:,dofs].tocsc().indices\n",
    "# #nnz = MP.Constr.getnnz(1)"
   ]
  },
  {
   "cell_type": "code",
   "execution_count": 87,
   "id": "097a916b-2d38-4a66-a22a-9dd4d9058cc9",
   "metadata": {},
   "outputs": [
    {
     "data": {
      "text/plain": [
       "array([31, 44], dtype=int32)"
      ]
     },
     "execution_count": 87,
     "metadata": {},
     "output_type": "execute_result"
    }
   ],
   "source": [
    "ind"
   ]
  },
  {
   "cell_type": "code",
   "execution_count": 82,
   "id": "91f350aa-d2c0-43f1-979d-24d91d65d7f1",
   "metadata": {},
   "outputs": [
    {
     "data": {
      "text/plain": [
       "array([12, 16, 15, 35, 19, 32, 31, 44], dtype=int32)"
      ]
     },
     "execution_count": 82,
     "metadata": {},
     "output_type": "execute_result"
    }
   ],
   "source": [
    "dofs"
   ]
  },
  {
   "cell_type": "code",
   "execution_count": 83,
   "id": "bdb453ad-6ce4-4f00-9e91-43637956174b",
   "metadata": {},
   "outputs": [
    {
     "data": {
      "text/plain": [
       "array([[-1. ,  1. ,  0. ,  0. ,  0. ,  0. ,  0. ,  0. ],\n",
       "       [-0.5,  0. ,  0. ,  0. ,  0. ,  0. ,  0. ,  0. ],\n",
       "       [ 0. ,  0. ,  0. ,  0. ,  0. ,  0. ,  0. ,  0. ],\n",
       "       [ 0. ,  0. ,  0. ,  0. ,  1. ,  0. ,  0. ,  0. ],\n",
       "       [ 0. ,  0. ,  0. ,  0. , -1. ,  1. ,  0. ,  0. ],\n",
       "       [ 0. ,  0. ,  0. ,  0. ,  0. ,  0. ,  0. ,  0. ],\n",
       "       [ 0. ,  0. ,  0. ,  0. ,  0. ,  0. ,  0. ,  0. ],\n",
       "       [ 0. ,  0. ,  0. ,  0. ,  0. ,  0. , -1. ,  1. ],\n",
       "       [ 0. ,  0. ,  0. ,  0. ,  0. ,  1. ,  0. ,  0. ],\n",
       "       [ 0. ,  0. ,  0. ,  0. ,  0. ,  0. ,  0. ,  0. ],\n",
       "       [ 0. ,  0. , -0.5,  0. ,  0. ,  0. ,  0. ,  0. ],\n",
       "       [ 0. ,  0. , -1. ,  1. ,  0. ,  0. ,  0. ,  0. ]])"
      ]
     },
     "execution_count": 83,
     "metadata": {},
     "output_type": "execute_result"
    }
   ],
   "source": [
    "B[:,dofs].toarray()"
   ]
  },
  {
   "cell_type": "code",
   "execution_count": 84,
   "id": "093533f4-993c-472d-9dcc-70c992c65e3b",
   "metadata": {},
   "outputs": [
    {
     "data": {
      "text/plain": [
       "array([-1., -1., -1., -1.,  3.,  8., -1., -1.])"
      ]
     },
     "execution_count": 84,
     "metadata": {},
     "output_type": "execute_result"
    }
   ],
   "source": [
    "idx"
   ]
  },
  {
   "cell_type": "code",
   "execution_count": 54,
   "id": "f2be5f87-16ab-4c8a-bb22-71f488277ccc",
   "metadata": {},
   "outputs": [
    {
     "name": "stdout",
     "output_type": "stream",
     "text": [
      "<Compressed Sparse Column sparse matrix of dtype 'float64'\n",
      "\twith 2 stored elements and shape (12, 1)>\n",
      "  Coords\tValues\n",
      "  (0, 0)\t-1.0\n",
      "  (1, 0)\t-0.5\n"
     ]
    }
   ],
   "source": [
    "print(B[:,12])"
   ]
  },
  {
   "cell_type": "code",
   "execution_count": 25,
   "id": "0e50d10f-c348-440c-bf0b-175a35540768",
   "metadata": {},
   "outputs": [
    {
     "data": {
      "text/plain": [
       "array([3, 4], dtype=int32)"
      ]
     },
     "execution_count": 25,
     "metadata": {},
     "output_type": "execute_result"
    }
   ],
   "source": [
    "B.indices[B.indptr[dofs[2]]:B.indptr[dofs[2]+1]]"
   ]
  },
  {
   "cell_type": "code",
   "execution_count": 84,
   "id": "aac795d2-e606-4be2-8039-40e1a306662e",
   "metadata": {},
   "outputs": [],
   "source": [
    "idx = MP.Constr[:,dofs].tocsc().indices"
   ]
  },
  {
   "cell_type": "code",
   "execution_count": 26,
   "id": "5749834e-a5b4-41f9-8b35-1b409dbc370c",
   "metadata": {},
   "outputs": [
    {
     "data": {
      "text/plain": [
       "array([[1., 0., 0., 0.],\n",
       "       [0., 0., 0., 0.],\n",
       "       [0., 0., 0., 0.],\n",
       "       [0., 0., 0., 0.],\n",
       "       [0., 0., 1., 0.],\n",
       "       [0., 0., 0., 0.],\n",
       "       [0., 0., 0., 0.],\n",
       "       [0., 0., 0., 1.],\n",
       "       [0., 0., 1., 0.],\n",
       "       [0., 0., 0., 0.],\n",
       "       [0., 0., 0., 0.],\n",
       "       [0., 1., 0., 0.]])"
      ]
     },
     "execution_count": 26,
     "metadata": {},
     "output_type": "execute_result"
    }
   ],
   "source": [
    "B[:,dofs].toarray()"
   ]
  },
  {
   "cell_type": "code",
   "execution_count": 75,
   "id": "aba35b7e-a405-4a92-8801-3dc6ba889b77",
   "metadata": {},
   "outputs": [
    {
     "data": {
      "text/plain": [
       "array([2, 3, 2, 3, 2, 2, 2, 2, 3, 2, 3, 2], dtype=int32)"
      ]
     },
     "execution_count": 75,
     "metadata": {},
     "output_type": "execute_result"
    }
   ],
   "source": [
    "nnz"
   ]
  },
  {
   "cell_type": "code",
   "execution_count": 74,
   "id": "983c68f4-db03-4bf6-b153-318c5f92b4af",
   "metadata": {},
   "outputs": [
    {
     "data": {
      "text/plain": [
       "array([2, 3, 2, 3, 2, 2, 2, 2, 3, 2, 3, 2], dtype=int32)"
      ]
     },
     "execution_count": 74,
     "metadata": {},
     "output_type": "execute_result"
    }
   ],
   "source": [
    "nnz"
   ]
  },
  {
   "cell_type": "code",
   "execution_count": 31,
   "id": "0ccf91cb-022e-47c5-8566-964950002e02",
   "metadata": {},
   "outputs": [
    {
     "data": {
      "text/plain": [
       "array([16, 35, 32, 44], dtype=int32)"
      ]
     },
     "execution_count": 31,
     "metadata": {},
     "output_type": "execute_result"
    }
   ],
   "source": [
    "dofs"
   ]
  },
  {
   "cell_type": "code",
   "execution_count": 41,
   "id": "03a8a8ff-ad93-4ee9-b07e-1fb58cd2b657",
   "metadata": {},
   "outputs": [
    {
     "data": {
      "text/plain": [
       "array([[ 0. ,  0. ,  0. ,  0. ,  0. ,  0. ,  0. ,  0. ,  0. ,  0. ,  0. ,  0. ,  0. ,  0. ,  0. ,  0. ,  0. ,  0. ,  0. ,  0. ,  0. ,  0. ,  0. ,  0. ,  0. ,  0. ,  0. ,  0. ,  0. ,  0. ,  0. ,  0. ,  0. ,  0. ,  0. ,  0. ,  0. ,  0. ,  0. ,  0. ,  0. ,  0. ,  0. ,  0. ,  0. ,  0. ,  0. ,  0. ],\n",
       "       [ 0. ,  0. ,  0. ,  0. ,  0. ,  0. ,  0. ,  0. ,  0. ,  0. ,  0. ,  0. ,  0. , -0.5, -0.5,  0. ,  0. ,  0. ,  0. ,  1. ,  0. ,  0. ,  0. ,  0. ,  0. ,  0. ,  0. ,  0. ,  0. ,  0. ,  0. ,  0. ,  0. ,  0. ,  0. ,  0. ,  0. ,  0. ,  0. ,  0. ,  0. ,  0. ,  0. ,  0. ,  0. ,  0. ,  0. ,  0. ],\n",
       "       [ 0. ,  0. ,  0. ,  0. ,  0. ,  0. ,  0. ,  0. ,  0. ,  0. ,  0. ,  0. ,  0. ,  0. ,  0. ,  0. ,  0. ,  0. ,  0. ,  0. ,  0. ,  0. ,  0. ,  0. ,  0. ,  0. ,  0. ,  0. ,  0. ,  0. ,  0. ,  0. ,  0. ,  0. ,  0. ,  0. ,  0. ,  0. ,  0. ,  0. ,  0. ,  0. ,  0. ,  0. ,  0. ,  0. ,  0. ,  0. ],\n",
       "       [ 0. ,  0. ,  0. ,  0. ,  0. ,  0. ,  0. ,  0. ,  0. ,  0. ,  0. ,  0. ,  0. ,  0. ,  0. ,  0. ,  0. ,  0. ,  0. ,  0. ,  0. ,  0. ,  0. ,  0. ,  0. ,  0. ,  0. ,  0. ,  0. ,  0. ,  0. ,  0. ,  0. ,  0. ,  0. ,  0. ,  0. ,  0. ,  0. ,  0. ,  0. ,  0. ,  0. ,  0. ,  0. ,  0. ,  0. ,  0. ],\n",
       "       [ 0. ,  0. ,  0. ,  0. ,  0. ,  0. ,  0. ,  0. ,  0. ,  0. ,  0. ,  0. ,  0. , -0.5, -0.5,  0. ,  0. ,  0. ,  0. ,  0. ,  0. ,  0. ,  0. ,  0. ,  0. ,  0. ,  0. ,  0. ,  0. ,  0. ,  0. ,  0. ,  1. ,  0. ,  0. ,  0. ,  0. ,  0. ,  0. ,  0. ,  0. ,  0. ,  0. ,  0. ,  0. ,  0. ,  0. ,  0. ],\n",
       "       [ 0. ,  0. ,  0. ,  0. ,  0. ,  0. ,  0. ,  0. ,  0. ,  0. ,  0. ,  0. ,  0. ,  0. ,  0. ,  0. ,  0. ,  0. ,  0. ,  0. ,  0. ,  0. ,  0. ,  0. ,  0. ,  0. ,  0. ,  0. ,  0. ,  0. ,  0. ,  0. ,  0. ,  0. ,  0. ,  0. ,  0. ,  0. ,  0. ,  0. ,  0. ,  0. ,  0. ,  0. ,  0. ,  0. ,  0. ,  0. ]])"
      ]
     },
     "execution_count": 41,
     "metadata": {},
     "output_type": "execute_result"
    }
   ],
   "source": [
    "B.toarray()"
   ]
  },
  {
   "cell_type": "code",
   "execution_count": 19,
   "id": "389e9658-e87e-4f19-82e1-37ff8309c8aa",
   "metadata": {},
   "outputs": [],
   "source": [
    "idx1 = MP.Constr.tocsc()[:,dofs].getnnz(1)>0"
   ]
  },
  {
   "cell_type": "code",
   "execution_count": 20,
   "id": "cb951eca-53b1-46a2-91a0-139d0e2ff9a0",
   "metadata": {},
   "outputs": [
    {
     "data": {
      "text/plain": [
       "array([ True, False, False, False,  True, False, False,  True,  True, False, False,  True])"
      ]
     },
     "execution_count": 20,
     "metadata": {},
     "output_type": "execute_result"
    }
   ],
   "source": [
    "idx1"
   ]
  },
  {
   "cell_type": "code",
   "execution_count": 248,
   "id": "19266393-2c47-4c7d-98b2-871fdcc0fa7f",
   "metadata": {},
   "outputs": [],
   "source": [
    "B = MP.Constr[idx,:]"
   ]
  },
  {
   "cell_type": "code",
   "execution_count": 249,
   "id": "73f58017-3c93-42f9-a46a-73a38735e356",
   "metadata": {},
   "outputs": [
    {
     "data": {
      "text/plain": [
       "array([[ 0. ,  0. ,  0. ,  0. ,  0. ,  0. ,  0. ,  0. ,  0. ,  0. ,  0. ,  0. , -1. ,  0. ,  0. ,  0. ,  1. ,  0. ,  0. ,  0. ,  0. ,  0. ,  0. ,  0. ,  0. ,  0. ,  0. ,  0. ,  0. ,  0. ,  0. ,  0. ,  0. ,  0. ,  0. ,  0. ,  0. ,  0. ,  0. ,  0. ,  0. ,  0. ,  0. ,  0. ,  0. ,  0. ,  0. ,  0. ],\n",
       "       [ 0. ,  0. ,  0. ,  0. ,  0. ,  0. ,  0. ,  0. ,  0. ,  0. ,  0. ,  0. ,  0. ,  0. ,  0. ,  0. ,  0. ,  0. ,  0. , -1. ,  0. ,  0. ,  0. ,  0. ,  0. ,  0. ,  0. ,  0. ,  0. ,  0. ,  0. ,  0. ,  1. ,  0. ,  0. ,  0. ,  0. ,  0. ,  0. ,  0. ,  0. ,  0. ,  0. ,  0. ,  0. ,  0. ,  0. ,  0. ],\n",
       "       [ 0. ,  0. ,  0. ,  0. ,  0. ,  0. ,  0. ,  0. ,  0. ,  0. ,  0. ,  0. ,  0. ,  0. ,  0. ,  0. ,  0. ,  0. ,  0. ,  0. ,  0. ,  0. ,  0. ,  0. ,  0. ,  0. ,  0. ,  0. ,  0. ,  0. ,  0. , -1. ,  0. ,  0. ,  0. ,  0. ,  0. ,  0. ,  0. ,  0. ,  0. ,  0. ,  0. ,  0. ,  1. ,  0. ,  0. ,  0. ],\n",
       "       [ 0. ,  0. ,  0. ,  0. ,  0. ,  0. ,  0. ,  0. ,  0. ,  0. ,  0. ,  0. ,  0. , -0.5, -0.5,  0. ,  0. ,  0. ,  0. ,  0. ,  0. ,  0. ,  0. ,  0. ,  0. ,  0. ,  0. ,  0. ,  0. ,  0. ,  0. ,  0. ,  1. ,  0. ,  0. ,  0. ,  0. ,  0. ,  0. ,  0. ,  0. ,  0. ,  0. ,  0. ,  0. ,  0. ,  0. ,  0. ],\n",
       "       [ 0. ,  0. ,  0. ,  0. ,  0. ,  0. ,  0. ,  0. ,  0. ,  0. ,  0. ,  0. ,  0. ,  0. ,  0. , -1. ,  0. ,  0. ,  0. ,  0. ,  0. ,  0. ,  0. ,  0. ,  0. ,  0. ,  0. ,  0. ,  0. ,  0. ,  0. ,  0. ,  0. ,  0. ,  0. ,  1. ,  0. ,  0. ,  0. ,  0. ,  0. ,  0. ,  0. ,  0. ,  0. ,  0. ,  0. ,  0. ]])"
      ]
     },
     "execution_count": 249,
     "metadata": {},
     "output_type": "execute_result"
    }
   ],
   "source": [
    "B.toarray()"
   ]
  },
  {
   "cell_type": "code",
   "execution_count": 250,
   "id": "68f483ad-669a-4b73-af98-56abd3a2d2f0",
   "metadata": {},
   "outputs": [
    {
     "data": {
      "text/plain": [
       "<Compressed Sparse Row sparse matrix of dtype 'float64'\n",
       "\twith 11 stored elements and shape (5, 48)>"
      ]
     },
     "execution_count": 250,
     "metadata": {},
     "output_type": "execute_result"
    }
   ],
   "source": [
    "MP.Constr[idx,:][MP.Constr[idx,:].getnnz(1)>0]"
   ]
  },
  {
   "cell_type": "code",
   "execution_count": 251,
   "id": "a441b79e-56e6-46ba-89b2-4dc0dd1bf4e1",
   "metadata": {},
   "outputs": [
    {
     "data": {
      "text/plain": [
       "array([0, 2, 4, 6], dtype=int32)"
      ]
     },
     "execution_count": 251,
     "metadata": {},
     "output_type": "execute_result"
    }
   ],
   "source": [
    "nodal_indicator.indptr[:-1]"
   ]
  },
  {
   "cell_type": "code",
   "execution_count": 252,
   "id": "d0c57c5f-10b2-40ef-a8cb-eaa9d7f9913d",
   "metadata": {},
   "outputs": [
    {
     "data": {
      "text/plain": [
       "(array([1, 2, 3, 4, 5]),)"
      ]
     },
     "execution_count": 252,
     "metadata": {},
     "output_type": "execute_result"
    }
   ],
   "source": [
    "np.where(idx2)"
   ]
  },
  {
   "cell_type": "code",
   "execution_count": 126,
   "id": "a04fd747-d320-46df-a31c-cd8886f43c29",
   "metadata": {},
   "outputs": [],
   "source": [
    "idx2=np.unique(1*((MP.Constr@R.T@R)==1).tocsc().indices)\n",
    "corner_dofs = np.unique(MP.Constr[idx2,:].indices)"
   ]
  },
  {
   "cell_type": "code",
   "execution_count": 127,
   "id": "ec6bf17e-d302-485f-be29-86071b22f2d2",
   "metadata": {},
   "outputs": [
    {
     "data": {
      "text/plain": [
       "array([12, 13, 14, 15, 16, 19, 31, 32, 38, 74], dtype=int32)"
      ]
     },
     "execution_count": 127,
     "metadata": {},
     "output_type": "execute_result"
    }
   ],
   "source": [
    "corner_dofs"
   ]
  },
  {
   "cell_type": "code",
   "execution_count": 125,
   "id": "a81c3aaa-668c-4f99-96fb-ef227931df27",
   "metadata": {},
   "outputs": [
    {
     "data": {
      "text/plain": [
       "array([12, 13, 14, 15, 16, 19, 31, 32, 38, 74], dtype=int32)"
      ]
     },
     "execution_count": 125,
     "metadata": {},
     "output_type": "execute_result"
    }
   ],
   "source": [
    "np.unique(MP.Constr[idx2,:].indices)"
   ]
  },
  {
   "cell_type": "code",
   "execution_count": 73,
   "id": "3c93c38e-f710-47f0-89af-5e2443a8308f",
   "metadata": {},
   "outputs": [
    {
     "data": {
      "text/plain": [
       "array([-1. ,  1. , -0.5, -0.5,  1. , -1. ,  1. , -0.5, -0.5,  1. , -1. ,  1. , -1. ,  1. , -1. ,  1. , -1. ,  1. , -0.5, -0.5,  1. , -1. ,  1. , -0.5, -0.5,  1. , -1. ,  1. ])"
      ]
     },
     "execution_count": 73,
     "metadata": {},
     "output_type": "execute_result"
    }
   ],
   "source": [
    "MP.Constr.data"
   ]
  },
  {
   "cell_type": "code",
   "execution_count": 44,
   "id": "14ead7a3-4b29-411c-baa1-d37cee9e795a",
   "metadata": {},
   "outputs": [],
   "source": [
    "MP.Constr.data[MP.Constr.data==-1]=0"
   ]
  },
  {
   "cell_type": "code",
   "execution_count": 47,
   "id": "21b02b2e-eef9-4bae-8d6a-dad4d20926cb",
   "metadata": {},
   "outputs": [
    {
     "data": {
      "text/plain": [
       "<Compressed Sparse Row sparse matrix of dtype 'float64'\n",
       "\twith 12 stored elements and shape (12, 12)>"
      ]
     },
     "execution_count": 47,
     "metadata": {},
     "output_type": "execute_result"
    }
   ],
   "source": [
    "MP.Constr[:,loc_c]"
   ]
  },
  {
   "cell_type": "code",
   "execution_count": 45,
   "id": "80f964cc-2ebb-4bc0-87b7-e064f2fb63ac",
   "metadata": {},
   "outputs": [
    {
     "data": {
      "text/plain": [
       "<Compressed Sparse Row sparse matrix of dtype 'float64'\n",
       "\twith 8 stored elements and shape (12, 12)>"
      ]
     },
     "execution_count": 45,
     "metadata": {},
     "output_type": "execute_result"
    }
   ],
   "source": [
    "MP.Constr[:,loc_c]+1*(MP.Constr[:,loc_c]!=0)"
   ]
  },
  {
   "cell_type": "code",
   "execution_count": 30,
   "id": "5a0529b9-d354-4a58-b282-e4c80da1652a",
   "metadata": {},
   "outputs": [],
   "source": [
    "idx2 = (MP.Constr[:,loc_c].getnnz(axis=1)>0)"
   ]
  },
  {
   "cell_type": "code",
   "execution_count": 32,
   "id": "253bf4d2-687f-45d8-af26-64451f3c6bb3",
   "metadata": {},
   "outputs": [
    {
     "data": {
      "text/plain": [
       "(array([ 0,  1,  3,  4,  7,  8, 10, 11]),)"
      ]
     },
     "execution_count": 32,
     "metadata": {},
     "output_type": "execute_result"
    }
   ],
   "source": [
    "np.where(idx2)"
   ]
  },
  {
   "cell_type": "code",
   "execution_count": 37,
   "id": "968a2aa2-d1fb-4691-8397-4d38a5c87637",
   "metadata": {},
   "outputs": [
    {
     "name": "stdout",
     "output_type": "stream",
     "text": [
      "<Compressed Sparse Row sparse matrix of dtype 'float64'\n",
      "\twith 8 stored elements and shape (8, 48)>\n",
      "  Coords\tValues\n",
      "  (1, 12)\t-0.5\n",
      "  (1, 13)\t-0.5\n",
      "  (2, 13)\t-0.5000000000000001\n",
      "  (2, 14)\t-0.5\n",
      "  (5, 13)\t-0.5000000000000001\n",
      "  (5, 14)\t-0.5\n",
      "  (6, 14)\t-0.4999999999999999\n",
      "  (6, 15)\t-0.5000000000000002\n"
     ]
    }
   ],
   "source": [
    "print((abs(MP.Constr)-1*(MP.Constr!=0))[idx2,:])"
   ]
  },
  {
   "cell_type": "code",
   "execution_count": 27,
   "id": "4b7d0974-d6f6-4cc0-ad07-5a3ef0e1b4d5",
   "metadata": {},
   "outputs": [
    {
     "data": {
      "text/plain": [
       "(array([ 0,  4,  7, 11]),)"
      ]
     },
     "execution_count": 27,
     "metadata": {},
     "output_type": "execute_result"
    }
   ],
   "source": [
    "np.where(idx)"
   ]
  },
  {
   "cell_type": "code",
   "execution_count": 385,
   "id": "7a9921a3-1f3a-49f6-a206-5516eda847b7",
   "metadata": {},
   "outputs": [
    {
     "data": {
      "text/plain": [
       "<Compressed Sparse Column sparse matrix of dtype 'float64'\n",
       "\twith 16 stored elements and shape (36, 9)>"
      ]
     },
     "execution_count": 385,
     "metadata": {},
     "output_type": "execute_result"
    }
   ],
   "source": [
    "c_Basis"
   ]
  },
  {
   "cell_type": "code",
   "execution_count": 386,
   "id": "4104e68c-ee25-497b-a6bc-4fff036f8871",
   "metadata": {},
   "outputs": [
    {
     "data": {
      "text/plain": [
       "<Compressed Sparse Column sparse matrix of dtype 'float64'\n",
       "\twith 12 stored elements and shape (36, 5)>"
      ]
     },
     "execution_count": 386,
     "metadata": {},
     "output_type": "execute_result"
    }
   ],
   "source": [
    "c_Basis[:,c_Basis.getnnz(axis=0)>1]"
   ]
  },
  {
   "cell_type": "code",
   "execution_count": 387,
   "id": "d07697b9-2cf8-437d-b367-c6cd473bce33",
   "metadata": {},
   "outputs": [],
   "source": [
    "dofs = c_Basis[:,c_Basis.getnnz(axis=0)>1].indices"
   ]
  },
  {
   "cell_type": "code",
   "execution_count": 388,
   "id": "2d7029e0-f6f7-46af-b67a-6ead36f29589",
   "metadata": {},
   "outputs": [],
   "source": [
    "sec = c_Basis[:,c_Basis.getnnz(axis=0)>1].indptr"
   ]
  },
  {
   "cell_type": "code",
   "execution_count": 389,
   "id": "aa24e47c-90cf-43cf-a95d-59353c7dd301",
   "metadata": {},
   "outputs": [
    {
     "data": {
      "text/plain": [
       "array([27,  2,  9,  6, 24, 17, 33, 18, 11,  8, 35, 20], dtype=int32)"
      ]
     },
     "execution_count": 389,
     "metadata": {},
     "output_type": "execute_result"
    }
   ],
   "source": [
    "dofs"
   ]
  },
  {
   "cell_type": "code",
   "execution_count": 390,
   "id": "e9f3b7a0-51b1-4ef6-9393-03b1c4e6bd33",
   "metadata": {},
   "outputs": [
    {
     "data": {
      "text/plain": [
       "array([ 0,  2,  4,  6, 10, 12], dtype=int32)"
      ]
     },
     "execution_count": 390,
     "metadata": {},
     "output_type": "execute_result"
    }
   ],
   "source": [
    "sec"
   ]
  },
  {
   "cell_type": "code",
   "execution_count": 391,
   "id": "c8068f75-5462-43e2-9fc5-ccc160ec790d",
   "metadata": {},
   "outputs": [
    {
     "data": {
      "text/plain": [
       "[array([27,  2], dtype=int32),\n",
       " array([9, 6], dtype=int32),\n",
       " array([24, 17], dtype=int32),\n",
       " array([33, 18, 11,  8], dtype=int32),\n",
       " array([35, 20], dtype=int32)]"
      ]
     },
     "execution_count": 391,
     "metadata": {},
     "output_type": "execute_result"
    }
   ],
   "source": [
    "np.split(dofs, sec[1:-1])"
   ]
  },
  {
   "cell_type": "code",
   "execution_count": 19,
   "id": "72173fd1-b3ab-43ed-af6b-a0e9b1c548d0",
   "metadata": {},
   "outputs": [],
   "source": [
    "# x = np.zeros(n)\n",
    "# x[loc_c] = 1\n",
    "# R = scipy.sparse.spdiags(x,0,n,n)\n",
    "# B_ = MP.Constr@R"
   ]
  },
  {
   "cell_type": "code",
   "execution_count": 20,
   "id": "e23b0131-a513-4812-8fc6-c5fe7c1220fc",
   "metadata": {},
   "outputs": [],
   "source": [
    "#fine_dofs = np.unique((B_==1).tocsr().indices)"
   ]
  },
  {
   "cell_type": "code",
   "execution_count": 21,
   "id": "21c6a110-917c-4b12-9d9f-9c16264781b5",
   "metadata": {},
   "outputs": [],
   "source": [
    "#np.unique(fine_dofs)"
   ]
  },
  {
   "cell_type": "code",
   "execution_count": 22,
   "id": "5cc6e5d6-dabe-4677-8041-6c6aba6ce331",
   "metadata": {},
   "outputs": [],
   "source": [
    "#idx2 = np.unique(MP.Constr[:,fine_dofs].tocsc().indices)"
   ]
  },
  {
   "cell_type": "code",
   "execution_count": 23,
   "id": "8c3354a6-53b8-4516-b9a5-68743c502471",
   "metadata": {},
   "outputs": [],
   "source": [
    "#B = MP.Constr[idx2,:]"
   ]
  },
  {
   "cell_type": "code",
   "execution_count": 24,
   "id": "233cc012-2984-459e-9914-0d1900375aba",
   "metadata": {},
   "outputs": [],
   "source": [
    "#B[B.getnnz(1)>2].toarray()"
   ]
  },
  {
   "cell_type": "code",
   "execution_count": null,
   "id": "777571c3-dd93-405e-ae4c-1a2f5830162a",
   "metadata": {},
   "outputs": [],
   "source": []
  },
  {
   "cell_type": "code",
   "execution_count": null,
   "id": "a054babb-95e6-4a96-899c-0d58a9e2d07a",
   "metadata": {},
   "outputs": [],
   "source": []
  },
  {
   "cell_type": "code",
   "execution_count": 25,
   "id": "b5e25211-3d6e-4d23-97be-683ef3fcc2ed",
   "metadata": {},
   "outputs": [],
   "source": [
    "Basis = algebra_cy.pyx_compute_basis(B.shape[0], B.shape[1], B, maxiter=5).tocsc()"
   ]
  },
  {
   "cell_type": "code",
   "execution_count": 26,
   "id": "f7d54d8d-92f0-4e87-af4f-dd1a41a8941a",
   "metadata": {},
   "outputs": [],
   "source": [
    "Basis = Basis[:,Basis.getnnz(axis=0)>1]"
   ]
  },
  {
   "cell_type": "code",
   "execution_count": 27,
   "id": "c43215fc-f5a6-4b96-9aef-98b2cd8c82da",
   "metadata": {},
   "outputs": [
    {
     "data": {
      "text/plain": [
       "(48, 5)"
      ]
     },
     "execution_count": 27,
     "metadata": {},
     "output_type": "execute_result"
    }
   ],
   "source": [
    "Basis.shape"
   ]
  },
  {
   "cell_type": "code",
   "execution_count": 28,
   "id": "11d72bf3-0d96-4834-8cfc-43df02638f3b",
   "metadata": {},
   "outputs": [
    {
     "data": {
      "text/plain": [
       "array([[0. , 0. , 0. , 0. , 0. ],\n",
       "       [0. , 0. , 0. , 0. , 0. ],\n",
       "       [0. , 0. , 0. , 0. , 0. ],\n",
       "       [0. , 0. , 0. , 0. , 0. ],\n",
       "       [0. , 0. , 0. , 0. , 0. ],\n",
       "       [0. , 0. , 0. , 0. , 0. ],\n",
       "       [0. , 0. , 0. , 0. , 0. ],\n",
       "       [0. , 0. , 0. , 0. , 0. ],\n",
       "       [0. , 0. , 0. , 0. , 0. ],\n",
       "       [0. , 0. , 0. , 0. , 0. ],\n",
       "       [0. , 0. , 0. , 0. , 0. ],\n",
       "       [0. , 0. , 0. , 0. , 0. ],\n",
       "       [1. , 0. , 0. , 0. , 0. ],\n",
       "       [0. , 1. , 0. , 0. , 0. ],\n",
       "       [0. , 0. , 1. , 0. , 0. ],\n",
       "       [0. , 0. , 0. , 1. , 0. ],\n",
       "       [1. , 0. , 0. , 0. , 0. ],\n",
       "       [0. , 0. , 0. , 0. , 0. ],\n",
       "       [0. , 0. , 0. , 0. , 0. ],\n",
       "       [0. , 0.5, 0.5, 0. , 0. ],\n",
       "       [0. , 0. , 0. , 0. , 0. ],\n",
       "       [0. , 0. , 0. , 0. , 0. ],\n",
       "       [0. , 0. , 0. , 0. , 0. ],\n",
       "       [0. , 0. , 0. , 0. , 0. ],\n",
       "       [0. , 0. , 0. , 0. , 0. ],\n",
       "       [0. , 0. , 0. , 0. , 0. ],\n",
       "       [0. , 0. , 0. , 0. , 0. ],\n",
       "       [0. , 0. , 0. , 0. , 0. ],\n",
       "       [0. , 0. , 0. , 0. , 0. ],\n",
       "       [0. , 0. , 0. , 0. , 0. ],\n",
       "       [0. , 0. , 0. , 0. , 0. ],\n",
       "       [0. , 0. , 0. , 0. , 1. ],\n",
       "       [0. , 0.5, 0.5, 0. , 0. ],\n",
       "       [0. , 0. , 0. , 0. , 0. ],\n",
       "       [0. , 0. , 0. , 0. , 0. ],\n",
       "       [0. , 0. , 0. , 1. , 0. ],\n",
       "       [0. , 0. , 0. , 0. , 0. ],\n",
       "       [0. , 0. , 0. , 0. , 0. ],\n",
       "       [0. , 0. , 0. , 0. , 0. ],\n",
       "       [0. , 0. , 0. , 0. , 0. ],\n",
       "       [0. , 0. , 0. , 0. , 0. ],\n",
       "       [0. , 0. , 0. , 0. , 0. ],\n",
       "       [0. , 0. , 0. , 0. , 0. ],\n",
       "       [0. , 0. , 0. , 0. , 0. ],\n",
       "       [0. , 0. , 0. , 0. , 1. ],\n",
       "       [0. , 0. , 0. , 0. , 0. ],\n",
       "       [0. , 0. , 0. , 0. , 0. ],\n",
       "       [0. , 0. , 0. , 0. , 0. ]])"
      ]
     },
     "execution_count": 28,
     "metadata": {},
     "output_type": "execute_result"
    }
   ],
   "source": [
    "Basis.toarray()"
   ]
  },
  {
   "cell_type": "code",
   "execution_count": 450,
   "id": "f39612c8-5125-4b63-b4a3-5f440c4baad1",
   "metadata": {},
   "outputs": [],
   "source": [
    "fine_dofs = Basis.indices[Basis.indptr[:-1]]"
   ]
  },
  {
   "cell_type": "code",
   "execution_count": 235,
   "id": "07118a80-b88f-4326-9631-824a71cb8567",
   "metadata": {},
   "outputs": [],
   "source": [
    "sys.setrecursionlimit(100000)\n",
    "N = 1000\n",
    "A = np.random.rand(N,N)\n",
    "L = 10000*[aslinearoperator(A)]\n",
    "S = np.array(L).sum()\n",
    "x = np.random.rand(N)"
   ]
  },
  {
   "cell_type": "code",
   "execution_count": 236,
   "id": "391479bc-b276-4b43-ac63-af42838912ef",
   "metadata": {},
   "outputs": [
    {
     "name": "stdout",
     "output_type": "stream",
     "text": [
      "550 ms ± 110 ms per loop (mean ± std. dev. of 7 runs, 1 loop each)\n"
     ]
    }
   ],
   "source": [
    "%timeit S@x"
   ]
  },
  {
   "cell_type": "code",
   "execution_count": 237,
   "id": "1bdc5bf2-386a-4a12-8b06-1e5d74ce3adf",
   "metadata": {},
   "outputs": [],
   "source": [
    "X = SumOperator(L)"
   ]
  },
  {
   "cell_type": "code",
   "execution_count": 238,
   "id": "481b200b-76a8-410e-95fa-2a1c982f349a",
   "metadata": {},
   "outputs": [
    {
     "name": "stdout",
     "output_type": "stream",
     "text": [
      "505 ms ± 18.4 ms per loop (mean ± std. dev. of 7 runs, 1 loop each)\n"
     ]
    }
   ],
   "source": [
    "%timeit X@x"
   ]
  },
  {
   "cell_type": "code",
   "execution_count": 221,
   "id": "608daa23-607b-4c2a-be5d-4039cd097fae",
   "metadata": {},
   "outputs": [
    {
     "data": {
      "text/plain": [
       "<3x2 SumOperator with dtype=int64>"
      ]
     },
     "execution_count": 221,
     "metadata": {},
     "output_type": "execute_result"
    }
   ],
   "source": [
    "X"
   ]
  },
  {
   "cell_type": "code",
   "execution_count": 154,
   "id": "01ac3804-1299-4aab-b1ef-60e6b981a34c",
   "metadata": {},
   "outputs": [
    {
     "data": {
      "text/plain": [
       "dtype('int64')"
      ]
     },
     "execution_count": 154,
     "metadata": {},
     "output_type": "execute_result"
    }
   ],
   "source": [
    "L[0].dtype"
   ]
  },
  {
   "cell_type": "code",
   "execution_count": 140,
   "id": "5dba7705-4db2-4e7b-8734-79e0e147a64a",
   "metadata": {},
   "outputs": [
    {
     "data": {
      "text/plain": [
       "True"
      ]
     },
     "execution_count": 140,
     "metadata": {},
     "output_type": "execute_result"
    }
   ],
   "source": [
    "np.all((np.array([s.shape for s in L])-np.tile(L[0].shape,len(L)).reshape(-1,2))==0)"
   ]
  },
  {
   "cell_type": "code",
   "execution_count": 198,
   "id": "d52368f4-878f-4c52-9d9d-97cb947158ae",
   "metadata": {},
   "outputs": [],
   "source": [
    "class SumOperator(scipy.sparse.linalg.LinearOperator):\n",
    "    \"\"\"A :class:`LinearOperator` which implements the \n",
    "    application of an arbitrary sum of given input operators \n",
    "    without(!) using recursive structures.\n",
    "    \"\"\"\n",
    "    def __init__(self, ops):\n",
    "        self.N = len(ops)\n",
    "        assert np.all((np.array([op.shape for op in ops])-np.tile(ops[0].shape,self.N).reshape(-1,2))==0)\n",
    "        self.ops = ops\n",
    "        self.shape = ops[0].shape\n",
    "        scipy.sparse.linalg.LinearOperator.__init__(self, ops[0].dtype, self.shape)\n",
    "        \n",
    "    def _matvec(self, x):\n",
    "        return np.array([op@x for op in self.ops]).sum(axis=0)\n",
    "\n",
    "    def _transpose(self):\n",
    "        return SumOperator([op.T for op in self.ops])\n",
    "        "
   ]
  },
  {
   "cell_type": "code",
   "execution_count": 128,
   "id": "91ebd2ab-c03b-41b2-b649-93c5663cd0ec",
   "metadata": {},
   "outputs": [
    {
     "data": {
      "text/plain": [
       "True"
      ]
     },
     "execution_count": 128,
     "metadata": {},
     "output_type": "execute_result"
    }
   ],
   "source": [
    "np.all(np.array([1,1,1])==1)"
   ]
  },
  {
   "cell_type": "code",
   "execution_count": 136,
   "id": "16d11325-e7e6-4516-a34b-96d8fe20d447",
   "metadata": {},
   "outputs": [
    {
     "data": {
      "text/plain": [
       "array([[3, 2],\n",
       "       [3, 2],\n",
       "       [3, 2]])"
      ]
     },
     "execution_count": 136,
     "metadata": {},
     "output_type": "execute_result"
    }
   ],
   "source": [
    "np.tile(L[0].shape,len(L)).reshape(-1,2)"
   ]
  },
  {
   "cell_type": "code",
   "execution_count": null,
   "id": "ebeee517-239b-41c8-a7e9-0c8f77a73fc8",
   "metadata": {},
   "outputs": [],
   "source": []
  }
 ],
 "metadata": {
  "kernelspec": {
   "display_name": "Python 3 (ipykernel)",
   "language": "python",
   "name": "python3"
  },
  "language_info": {
   "codemirror_mode": {
    "name": "ipython",
    "version": 3
   },
   "file_extension": ".py",
   "mimetype": "text/x-python",
   "name": "python",
   "nbconvert_exporter": "python",
   "pygments_lexer": "ipython3",
   "version": "3.11.10"
  }
 },
 "nbformat": 4,
 "nbformat_minor": 5
}
