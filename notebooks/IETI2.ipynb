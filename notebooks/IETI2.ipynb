{
 "cells": [
  {
   "cell_type": "code",
   "execution_count": 1,
   "id": "8c74f08a-f5eb-455e-917e-90041710b14d",
   "metadata": {},
   "outputs": [
    {
     "name": "stdout",
     "output_type": "stream",
     "text": [
      "%pylab is deprecated, use %matplotlib inline and import the required libraries.\n",
      "Populating the interactive namespace from numpy and matplotlib\n"
     ]
    }
   ],
   "source": [
    "%pylab inline\n",
    "import scipy\n",
    "from scipy.sparse import coo_matrix, block_diag, identity, hstack, csr_matrix, csc_matrix\n",
    "import matplotlib.pyplot as plt\n",
    "from pyiga import assemble, bspline, vform, geometry, vis, solvers, utils, topology, ieti, algebra, operators\n",
    "from pyiga import algebra_cy\n",
    "\n",
    "from scipy.sparse.linalg import aslinearoperator\n",
    "\n",
    "numpy.set_printoptions(linewidth=100000)\n",
    "numpy.set_printoptions(precision=5)"
   ]
  },
  {
   "cell_type": "code",
   "execution_count": 148,
   "id": "57de69c1-9ff5-4fb0-af50-2b0090ccfb1a",
   "metadata": {},
   "outputs": [],
   "source": [
    "class IetiMapper:\n",
    "    def __init__(self, MP, dir_data, neu_data=None, elim=False):\n",
    "        self.space = MP\n",
    "        self.numpatches = self.space.numpatches\n",
    "        self.numdofs = self.space.N_ofs[-1]\n",
    "        \n",
    "        kvs = self.space.mesh.kvs\n",
    "        geos = self.space.mesh.geos\n",
    "\n",
    "        self.elim=elim\n",
    "\n",
    "        self.B = self.space.B\n",
    "        self.N = self.space.N\n",
    "        self.N_ofs = self.space.N_ofs\n",
    "\n",
    "        self.dir_idx = dict()\n",
    "        self.dir_vals = dict()\n",
    "\n",
    "        for key in dir_data:\n",
    "            for p,b in self.space.mesh.outer_boundaries[key]:\n",
    "                idx_, vals_ = assemble.compute_dirichlet_bc(kvs[p], geos[p], [(b//2,b%2)], dir_data[key])\n",
    "                if p in self.dir_idx:\n",
    "                    self.dir_idx[p].append(idx_)\n",
    "                    self.dir_vals[p].append(vals_)\n",
    "                else:\n",
    "                    self.dir_idx[p]=[idx_]\n",
    "                    self.dir_vals[p]=[vals_]\n",
    "                \n",
    "        for p in self.dir_idx:\n",
    "            self.dir_idx[p], lookup = np.unique(np.concatenate(self.dir_idx[p]), return_index = True)\n",
    "            self.dir_vals[p] = np.concatenate(self.dir_vals[p])[lookup]\n",
    "            \n",
    "        self.global_dir_idx = np.concatenate([self.dir_idx[p] + self.N_ofs[p] for p in self.dir_idx])\n",
    "\n",
    "        # if self.elim:\n",
    "        #     p_intfs = np.array([[p1,p2] for (p1,_,_),(p2,_,_),_ in self.space.intfs], dtype=np.int32).T\n",
    "        #     self.Basisk, self.N_ofs, self.N, self.B = ieti_cy.pyx_compute_decoupled_coarse_basis(self.space.Basis.tocsc(), MP.N_ofs.astype(np.int32), p_intfs)\n",
    "        # else:\n",
    "            #self.Basisk = [scipy.sparse.identity(self.space.N[p]) for p in range(self.space.numpatches)]\n",
    "\n",
    "        self.Bk = [self.B[:,self.N_ofs[p]:self.N_ofs[p+1]] for p in range(self.space.numpatches)]\n",
    "\n",
    "        nnz_per_col = self.B.getnnz(axis=0)\n",
    "        self.intfs = np.setdiff1d(np.where(nnz_per_col > 0)[0], self.space.global_dir_idx)\n",
    "        self.skeleton = np.union1d(self.intfs, self.space.global_dir_idx)\n",
    "        \n",
    "        self.R_interior = self.numpatches*[None] ###TODO: without loops\n",
    "        self.R_skeleton = self.numpatches*[None]\n",
    "        self.R_interfaces = {}\n",
    "        \n",
    "        for p in range(self.space.numpatches):\n",
    "            Id = scipy.sparse.eye(self.N[p], format='csr')\n",
    "            mask_skeleton = np.zeros(self.N[p], dtype=bool)\n",
    "            intfs = np.where(self.Bk[p].getnnz(0) > 0)[0]\n",
    "            #mask_skeleton[intfs]=True\n",
    "            mask_interior = np.ones(self.N[p], dtype=bool)\n",
    "            mask_interior[intfs]=False\n",
    "            if p in self.dir_idx:\n",
    "                mask_interior[self.dir_idx[p]]=False\n",
    "                #mask_skeleton[self.dir_idx[p]]=False\n",
    "            self.R_interior[p]=Id[mask_interior]\n",
    "            for b in range(4):\n",
    "                if not any([(p,b) in self.space.mesh.outer_boundaries[key] for key in self.space.mesh.outer_boundaries]):\n",
    "                    mask_intf = np.zeros(self.N[p], dtype=bool)\n",
    "                    interface_dofs = assemble.boundary_dofs(kvs[p],bdspec=[(b//2,b%2)],ravel=True)\n",
    "                    mask_intf[interface_dofs] = True\n",
    "                    if p in self.dir_idx:\n",
    "                        mask_intf[self.dir_idx[p]]=False\n",
    "                    mask_skeleton += mask_intf\n",
    "                    self.R_interfaces[(p,b)] = Id[mask_intf]\n",
    "            self.R_skeleton[p] = Id[mask_skeleton]\n",
    "\n",
    "    def nodes_as_primals(self, dir_boundary=False):  ###TODO: cythonize(?)\n",
    "        \"\"\"Get global vertices of the multipatch object as well as local nodal degrees of freedom corresponding to the vertices. \n",
    "        In case of T-junctions also obtain the $p$ global degrees of freedom and $p$ local degrees of freedom on the coarse patch.\n",
    "        Additionally may include nodes on the Dirichlet boundary if desired.\"\"\"\n",
    "        self.corners = np.concatenate([assemble.boundary_dofs(kvs,m=0,ravel=True) + self.N_ofs[p] for p, kvs in enumerate(self.space.mesh.kvs)])\n",
    "        n = self.space.B.shape[1]\n",
    "\n",
    "        idx = (self.space.B[:,self.corners]>0).getnnz(1)>0\n",
    "        B = self.space.B[idx,:]\n",
    "        B = B[B.getnnz(1)==2,:]\n",
    "        loc_c = np.unique(B.indices)\n",
    "        R = scipy.sparse.coo_matrix((np.ones(len(loc_c)),(np.arange(len(loc_c)),loc_c)),shape=(len(loc_c),n)).tocsr()\n",
    "        c_B = B@R.T\n",
    "\n",
    "        R = scipy.sparse.coo_matrix((np.ones(len(loc_c)),(np.arange(len(loc_c)),loc_c)),shape=(len(loc_c),n)).tocsr()\n",
    "        nodal_indicator = algebra_cy.pyx_compute_basis(c_B.shape[0], c_B.shape[1], c_B, maxiter=10)\n",
    "        \n",
    "        dofs = np.empty(nodal_indicator.shape[1], dtype=np.int32)\n",
    "        S = c_B.sum(0).A[0]\n",
    "        for j in range(nodal_indicator.shape[1]):\n",
    "            ind = nodal_indicator.indices[nodal_indicator.indptr[j]:nodal_indicator.indptr[j+1]]\n",
    "            dofs[j]=R.indices[ind[np.argmax(S[ind])]]\n",
    "        nodal_indicator = (R.T@nodal_indicator)[:,nodal_indicator.getnnz(axis=0)>1]\n",
    "        nnz = self.space.B.getnnz(1)\n",
    "        B = self.space.B.tocsc()\n",
    "        constr = np.repeat(-1,len(dofs))\n",
    "\n",
    "        for j in range(nodal_indicator.shape[1]):\n",
    "            dof=dofs[j]\n",
    "            for r in range(B.indptr[dof],B.indptr[dof+1]):\n",
    "                i=B.indices[r]\n",
    "                if nnz[i]>2:\n",
    "                    constr[j]=i\n",
    "                    break\n",
    "                    \n",
    "        if any(constr!=-1):\n",
    "            idx = np.where(constr!=-1)[0]\n",
    "            res = scipy.sparse.csc_matrix(nodal_indicator.shape)\n",
    "            Q = scipy.sparse.coo_matrix((np.ones(len(idx)),(idx,np.arange(len(idx)))),(len(constr),len(idx)))\n",
    "            res = (Q@abs(MP.B[constr[idx],:])).T\n",
    "            res.data=res.data-1\n",
    "            res.eliminate_zeros()\n",
    "            res.data=res.data+1\n",
    "            nodal_indicator += res\n",
    "        return nodal_indicator\n",
    "        \n",
    "    #def averages_as_primals(self):"
   ]
  },
  {
   "cell_type": "code",
   "execution_count": 476,
   "id": "dfa95d55-ca2b-4f9a-aaf4-7bfa5bb8a4ea",
   "metadata": {},
   "outputs": [],
   "source": [
    "class PrimalSystem():\n",
    "    def __init__(self, Prim):\n",
    "        self.Prim = Prim\n",
    "        self.nPrim = self.Prim.shape[1]\n",
    "\n",
    "        self.Psi = scipy.sparse.csc_matrix((0,self.nPrim))\n",
    "        self.A_prim = np.zeros(2*(self.nPrim,))\n",
    "        self.RHS_prim = np.zeros(self.nPrim)\n",
    "        self.R = []\n",
    "\n",
    "    def incorporate_PrimalConstraints(self, A, B, RHS, IMap):\n",
    "        if self.nPrim == 0:\n",
    "            return A, B, RHS\n",
    "        K = len(A)\n",
    "        C=[]\n",
    "        for p in range(K):\n",
    "            c = self.Prim[IMap.N_ofs[p]:IMap.N_ofs[p+1],:].T\n",
    "            jj = np.where((c.indptr[1:]-c.indptr[:-1])>0)[0]\n",
    "            c = c[c.getnnz(1)>0,:]\n",
    "            C.append(c)\n",
    "            self.R.append(scipy.sparse.coo_matrix((np.ones(c.shape[0]),(np.arange(c.shape[0]),jj)),(c.shape[0],self.nPrim)))\n",
    "            \n",
    "        self.nPrimConstr = [c.shape[0] for c in C]\n",
    "\n",
    "        mod_A = [scipy.sparse.bmat([[A[p],C[p].T],[C[p], None]]) for p in range(K)]\n",
    "        mod_RHS = [np.concatenate([RHS[p],np.zeros(self.nPrimConstr[p])]) for p in range(K)]\n",
    "\n",
    "        corner_idx = np.ones(IMap.numdofs) ###TODO: add this to Ieti Mapper and remove constraints there, so nLagrangeMultiplier is fixed in init already.\n",
    "        corner_idx[IMap.corners]=0\n",
    "        B_full = scipy.sparse.hstack(B, format='csc')@scipy.sparse.spdiags(corner_idx, 0, IMap.numdofs, IMap.numdofs)\n",
    "        keep = (B_full.getnnz(1)>0)\n",
    "        self.nLagrangeMultipliers= keep.sum()\n",
    "        mod_B = [scipy.sparse.hstack([B[p][keep,:],scipy.sparse.csr_matrix((self.nLagrangeMultipliers, self.nPrimConstr[p]))]) for p in range(K)]\n",
    "        return mod_A, mod_B, mod_RHS\n",
    "        \n",
    "    def compute_PrimalBasis(self, mod_A, mod_B, mod_RHS):\n",
    "        loc_solver=[solvers.make_solver(a, spd=False, symmetric=True) for a in mod_A]\n",
    "        self.Psi = []\n",
    "        Delta = []\n",
    "        self.B_prim = np.empty((self.nLagrangeMultipliers,self.nPrim))\n",
    "        for p in range(len(mod_A)):\n",
    "            RHS = scipy.sparse.vstack([scipy.sparse.csr_matrix((loc_solver[p].shape[0]-self.nPrimConstr[p],self.nPrimConstr[p])), scipy.sparse.identity(self.nPrimConstr[p])]).toarray()\n",
    "            sol = loc_solver[p]@RHS\n",
    "            psi, delta = sol[:(-self.nPrimConstr[p]),], sol[(-self.nPrimConstr[p]):,]\n",
    "            if psi.ndim==1: psi=psi[:,None]\n",
    "            if delta.ndim==1: delta=delta[:,None]\n",
    "            Delta.append(delta)\n",
    "            self.Psi.append(psi@self.R[p])\n",
    "            self.A_prim -= self.R[p].T@delta@self.R[p]\n",
    "            self.B_prim += mod_B[p][:,:-self.nPrimConstr[p]]@self.Psi[-1]\n",
    "            self.RHS_prim += self.Psi[-1].T@mod_RHS[p][:-self.nPrimConstr[p]]\n",
    "        return loc_solver\n",
    "\n",
    "    def distribute_PrimalSolution(self, u_prim):\n",
    "        return self.Psi@u_prim\n",
    "        "
   ]
  },
  {
   "cell_type": "code",
   "execution_count": 544,
   "id": "e56afc05-5f58-42a3-a5aa-d8d030ba2c1f",
   "metadata": {},
   "outputs": [],
   "source": [
    "class IetiSystem():\n",
    "    def __init__(self, A, B ,RHS, loc_solver = None, spd=False, symmetric=False):\n",
    "        self.A = A\n",
    "        self.B = B\n",
    "        self.RHS = RHS\n",
    "\n",
    "        if loc_solver:\n",
    "            assert len(loc_solver)==len(A), 'amount of local solvers does not match amount of local system matrices!'\n",
    "            self.loc_solver=loc_solver\n",
    "        else:\n",
    "            self.loc_solver = [solvers.make_solver(a, spd=spd, symmetric=symmetric) for a in self.A]\n",
    "\n",
    "        self.sanity_check()\n",
    "        self.K = len(A)\n",
    "        self.nLagrangeMultipliers = self.B[0].shape[0]\n",
    "\n",
    "    def SaddlePointSystem(self, format='coo'):\n",
    "        B = scipy.sparse.hstack(self.B)\n",
    "        return scipy.sparse.bmat([[scipy.sparse.block_diag(self.A),B.T],[B,None]], format=format)\n",
    "\n",
    "    def RHSforSaddlePointSystem(self):\n",
    "        return np.concatenate(self.RHS+[np.zeros(self.nLagrangeMultipliers)])\n",
    "\n",
    "    def SchurComplement(self, as_matrix=False):\n",
    "        F = operators.SumOperator([aslinearoperator(self.B[p])@self.loc_solver[p]@aslinearoperator(self.B[p].T) for p in range(self.K)])\n",
    "        if as_matrix:\n",
    "            return F@np.eye(F.shape[1])\n",
    "        return F\n",
    "\n",
    "    def RHSforSchurComplement(self):\n",
    "        return np.sum([self.B[p]@(self.loc_solver[p]@self.RHS[p]) for p in range(self.K)], axis=0)\n",
    "\n",
    "    def constructSolutionFromLagrangeMultipliers(self, lam):\n",
    "        np.concatenate([self.loc_solver@(RHS[p]-self.B[p].T@lam) for p in range(self.K)])\n",
    "        \n",
    "    def sanity_check(self):\n",
    "        assert len(A)==len(B)==len(RHS), 'Length of input data incompatible!'\n",
    "        K = len(A)\n",
    "        assert np.all([B[0].shape[0]==B[p].shape[0] for p in range(K)]), 'Constraint matrices have incompatible number of constraints!'\n",
    "        assert np.all([self.A[p].shape[0]==self.A[p].shape[1] for p in range(K)]), 'Local system matrices are not square!'\n",
    "        assert np.all([self.B[p].shape[1] == self.A[p].shape[1] for p in range(K)]), 'Constraint matrices have incompatible dimension!'\n",
    "        assert np.all([self.A[p].shape[0]==len(self.RHS[p]) for p in range(K)]), 'Local rhs vectors have incompatible dimension!'"
   ]
  },
  {
   "cell_type": "code",
   "execution_count": null,
   "id": "27fc3f75-85b9-4269-beb9-accd28f6e420",
   "metadata": {},
   "outputs": [],
   "source": [
    "#class MsD_prec"
   ]
  },
  {
   "cell_type": "code",
   "execution_count": 545,
   "id": "4984dadf-fee3-4066-aa9e-862a6617ec32",
   "metadata": {},
   "outputs": [
    {
     "name": "stdout",
     "output_type": "stream",
     "text": [
      "setting up constraints took 0.007303476333618164 seconds.\n",
      "Basis setup took 0.002480030059814453 seconds\n",
      "pcg with preconditioned condition number κ ~ 22.180634137362905 stopped after 30 iterations with relres 5.194140759044084e-07\n"
     ]
    },
    {
     "data": {
      "image/png": "[encoded data removed]",
      "text/plain": [
       "<Figure size 640x480 with 1 Axes>"
      ]
     },
     "metadata": {},
     "output_type": "display_data"
    }
   ],
   "source": [
    "deg = 2\n",
    "N = 3\n",
    "#M = Tshapes(deg,N,1)\n",
    "knots = (bspline.make_knots(deg,0,1,N),bspline.make_knots(deg,0,1,N))\n",
    "M = topology.PatchMesh([(knots,geometry.quarter_annulus())])\n",
    "M.split_patch(0,axis=0);\n",
    "M.split_patch(1,axis=1);\n",
    "#M.split_patch(0,axis=1);\n",
    "\n",
    "f={0:lambda x,y: 1.}\n",
    "a = {0:1.}\n",
    "dir_data = {0:0}\n",
    "\n",
    "M.draw()\n",
    "MP = assemble.Multipatch(M, automatch=True)\n",
    "MP.set_dirichlet_boundary(dir_data)\n",
    "\n",
    "A = [assemble.assemble('a*inner(grad(u),grad(v)) * dx', kvs, a=a[M.patch_domains[k]], geo=geo) for k, ((kvs, geo),_) in enumerate(M.patches)]\n",
    "RHS = [assemble.assemble('f * v * dx', kvs, geo=geo, f=f[M.patch_domains[k]]).ravel() for k, ((kvs,geo),_) in enumerate(M.patches)]\n",
    "\n",
    "IMap = IetiMapper(MP,dir_data)\n",
    "B = IMap.Bk\n",
    "primal = PrimalSystem(IMap.nodes_as_primals())\n",
    "A, B, RHS = primal.incorporate_PrimalConstraints(A, B, RHS, IMap)\n",
    "loc_solver = primal.compute_PrimalBasis(A, B, RHS)\n",
    "#A, B ,RHS, loc_solver = A + [primal.A_prim], B + [primal.B_prim], RHS + [primal.RHS_prim], loc_solver + [solvers.make_solver(primal.A_prim, spd=True, symmetric=True)]\n",
    "I = IetiSystem(A, B, RHS)\n",
    "F, b = I.SchurComplement(), I.SchurRHS()\n",
    "\n",
    "lam, it, min_eig, max_eig, r = solvers.pcg(F, b, x0=None, maxiter=200, P=1, output=1, rtol=1e-6, atol=1e-12)"
   ]
  },
  {
   "cell_type": "code",
   "execution_count": 540,
   "id": "d67d5edd-698e-4039-84fd-193fe2f523db",
   "metadata": {},
   "outputs": [
    {
     "data": {
      "text/plain": [
       "array([-4.66691e-08, -4.86842e-08, -3.07820e-09, -2.77556e-17,  1.33613e-07,  9.10244e-08,  1.39248e-07, -2.77556e-17, -4.39993e-08,  7.94721e-08,  1.69391e-08])"
      ]
     },
     "execution_count": 540,
     "metadata": {},
     "output_type": "execute_result"
    }
   ],
   "source": [
    "F@lam-b"
   ]
  },
  {
   "cell_type": "code",
   "execution_count": 542,
   "id": "1fcc6752-807a-4d44-bb56-46aaff595c99",
   "metadata": {},
   "outputs": [
    {
     "data": {
      "text/plain": [
       "<matplotlib.image.AxesImage at 0x7ff8588fce50>"
      ]
     },
     "execution_count": 542,
     "metadata": {},
     "output_type": "execute_result"
    },
    {
     "data": {
      "image/png": "[encoded data removed]",
      "text/plain": [
       "<Figure size 640x480 with 1 Axes>"
      ]
     },
     "metadata": {},
     "output_type": "display_data"
    }
   ],
   "source": [
    "spy(I.SaddlePointSystem().toarray())"
   ]
  },
  {
   "cell_type": "code",
   "execution_count": 543,
   "id": "734ad8e4-4d80-494b-be73-f13b4b5ee229",
   "metadata": {},
   "outputs": [
    {
     "data": {
      "text/plain": [
       "array([0.00968, 0.02234, 0.04021, 0.03128, 0.01713, 0.02018, 0.04656, 0.08381, 0.06519, 0.0357 , 0.03175, 0.07327, 0.13189, 0.10258, 0.05618, 0.02187, 0.05047, 0.09085, 0.07066, 0.03869, 0.01106, 0.02552, 0.04594, 0.03573, 0.01957, 0.     , 0.     , 0.     , 0.00532, 0.01148, 0.01914, 0.01404, 0.00744, 0.01051, 0.02271, 0.03785, 0.02776, 0.01472, 0.01527, 0.03297, 0.05495, 0.0403 , 0.02137, 0.0097 , 0.02095, 0.03492, 0.02561, 0.01358, 0.00465, 0.01005, 0.01675, 0.01229, 0.00652, 0.     , 0.     , 0.     , 0.00787, 0.01659, 0.0268 , 0.01914, 0.01   , 0.01556, 0.03281, 0.05299, 0.03785, 0.01977, 0.02259, 0.04763, 0.07694, 0.05495, 0.0287 , 0.01436, 0.03027, 0.04889, 0.03492, 0.01824, 0.00689, 0.01452, 0.02346, 0.01675, 0.00875, 0.     , 0.     , 0.     , 0.     , 0.     , 0.     , 0.     , 0.     , 0.     , 0.     , 0.     , 0.     , 0.     , 0.     ])"
      ]
     },
     "execution_count": 543,
     "metadata": {},
     "output_type": "execute_result"
    }
   ],
   "source": [
    "I.RHS_for_SaddlePointSystem()"
   ]
  },
  {
   "cell_type": "code",
   "execution_count": 503,
   "id": "6411b336-7c85-472d-aa16-b0099c522a3c",
   "metadata": {},
   "outputs": [
    {
     "data": {
      "text/plain": [
       "array([[ 0.68888, -0.05071, -0.51886, -0.11931],\n",
       "       [-0.05071,  0.72935, -0.57239, -0.10626],\n",
       "       [-0.51886, -0.57239,  1.32302, -0.23177],\n",
       "       [-0.11931, -0.10626, -0.23177,  0.45734]])"
      ]
     },
     "execution_count": 503,
     "metadata": {},
     "output_type": "execute_result"
    }
   ],
   "source": [
    "primal.A_prim"
   ]
  },
  {
   "cell_type": "code",
   "execution_count": 459,
   "id": "fc11be29-c0d8-4ed4-b71c-c469b9ff84f8",
   "metadata": {},
   "outputs": [
    {
     "data": {
      "text/plain": [
       "<68x68 SumOperator with dtype=float64>"
      ]
     },
     "execution_count": 459,
     "metadata": {},
     "output_type": "execute_result"
    }
   ],
   "source": [
    "I.SchurComplement()"
   ]
  },
  {
   "cell_type": "code",
   "execution_count": 462,
   "id": "6757c7ac-fe0b-4a41-a3a9-78342c6f8b2e",
   "metadata": {},
   "outputs": [
    {
     "data": {
      "text/plain": [
       "(68, 4)"
      ]
     },
     "execution_count": 462,
     "metadata": {},
     "output_type": "execute_result"
    }
   ],
   "source": [
    "primal.B_prim.shape"
   ]
  },
  {
   "cell_type": "code",
   "execution_count": 354,
   "id": "98d5ab2d-5602-42ea-ab4e-d2366ae63d62",
   "metadata": {},
   "outputs": [
    {
     "data": {
      "text/plain": [
       "array([1.40163e-01, 1.20838e-01, 6.25963e-09, 1.14388e-01, 1.44384e-01, 5.79492e-09, 1.59668e-01, 1.45452e-01])"
      ]
     },
     "execution_count": 354,
     "metadata": {},
     "output_type": "execute_result"
    }
   ],
   "source": [
    "I.SchurRHS()"
   ]
  },
  {
   "cell_type": "code",
   "execution_count": 347,
   "id": "07c07d0e-bf9c-426b-9c64-d39548a6ba10",
   "metadata": {},
   "outputs": [
    {
     "data": {
      "text/plain": [
       "[<Compressed Sparse Row sparse matrix of dtype 'float64'\n",
       " \twith 10 stored elements and shape (8, 19)>,\n",
       " <Compressed Sparse Row sparse matrix of dtype 'float64'\n",
       " \twith 5 stored elements and shape (8, 19)>,\n",
       " <Compressed Sparse Row sparse matrix of dtype 'float64'\n",
       " \twith 5 stored elements and shape (8, 19)>]"
      ]
     },
     "execution_count": 347,
     "metadata": {},
     "output_type": "execute_result"
    }
   ],
   "source": [
    "I.B"
   ]
  },
  {
   "cell_type": "code",
   "execution_count": 330,
   "id": "3a2a19c8-ae92-457a-8bc9-a3baf8ac73bc",
   "metadata": {},
   "outputs": [
    {
     "data": {
      "text/plain": [
       "[<Compressed Sparse Row sparse matrix of dtype 'float64'\n",
       " \twith 10 stored elements and shape (8, 19)>,\n",
       " <Compressed Sparse Row sparse matrix of dtype 'float64'\n",
       " \twith 5 stored elements and shape (8, 19)>,\n",
       " <Compressed Sparse Row sparse matrix of dtype 'float64'\n",
       " \twith 5 stored elements and shape (8, 19)>]"
      ]
     },
     "execution_count": 330,
     "metadata": {},
     "output_type": "execute_result"
    }
   ],
   "source": [
    "B"
   ]
  },
  {
   "cell_type": "code",
   "execution_count": 296,
   "id": "5903d4b1-1578-4f18-a2f3-f51ddd9bccfd",
   "metadata": {},
   "outputs": [
    {
     "data": {
      "text/plain": [
       "array([[ 2.39459e-01,  1.06959e-01,  6.53583e-01,  0.00000e+00],\n",
       "       [ 2.27141e-01,  1.14960e-01,  6.57900e-01,  0.00000e+00],\n",
       "       [ 2.11479e-01,  1.28770e-01,  6.59750e-01,  0.00000e+00],\n",
       "       [ 2.06662e-01,  1.29217e-01,  6.64121e-01,  0.00000e+00],\n",
       "       [ 2.54902e-01,  9.38067e-02,  6.51291e-01,  0.00000e+00],\n",
       "       [ 2.30157e-01,  1.15520e-01,  6.54323e-01,  0.00000e+00],\n",
       "       [ 2.02664e-01,  1.29081e-01,  6.68254e-01,  0.00000e+00],\n",
       "       [ 1.91795e-01,  1.49326e-01,  6.58880e-01,  0.00000e+00],\n",
       "       [ 3.21408e-01,  3.37074e-02,  6.44884e-01,  0.00000e+00],\n",
       "       [ 2.65402e-01,  8.93678e-02,  6.45231e-01,  0.00000e+00],\n",
       "       [ 1.45432e-01,  2.09333e-01,  6.45235e-01,  0.00000e+00],\n",
       "       [ 1.08047e-01,  1.43724e-01,  7.48229e-01,  0.00000e+00],\n",
       "       [ 1.00000e+00, -2.03135e-10, -5.07576e-09,  0.00000e+00],\n",
       "       [ 7.10316e-02, -1.14557e-01,  1.04353e+00,  0.00000e+00],\n",
       "       [-7.10316e-02,  1.14557e-01,  9.56475e-01,  0.00000e+00],\n",
       "       [-2.03135e-10,  1.00000e+00, -5.81272e-09,  0.00000e+00],\n",
       "       [ 1.00000e+00,  0.00000e+00, -2.65680e-09, -1.50851e-09],\n",
       "       [ 5.16141e-01,  0.00000e+00,  3.40247e-01,  1.43612e-01],\n",
       "       [ 2.81276e-01,  0.00000e+00,  5.88696e-01,  1.30027e-01],\n",
       "       [-2.65680e-09,  0.00000e+00,  1.00000e+00, -1.43070e-09],\n",
       "       [ 3.55013e-01,  0.00000e+00,  3.41087e-01,  3.03900e-01],\n",
       "       [ 3.88319e-01,  0.00000e+00,  3.30912e-01,  2.80769e-01],\n",
       "       [ 3.38553e-01,  0.00000e+00,  3.80889e-01,  2.80558e-01],\n",
       "       [ 3.59191e-01,  0.00000e+00,  3.27300e-01,  3.13509e-01],\n",
       "       [ 2.79325e-01,  0.00000e+00,  2.61847e-01,  4.58829e-01],\n",
       "       [ 2.61760e-01,  0.00000e+00,  2.59092e-01,  4.79148e-01],\n",
       "       [ 2.55438e-01,  0.00000e+00,  2.38100e-01,  5.06462e-01],\n",
       "       [ 2.66695e-01,  0.00000e+00,  2.68926e-01,  4.64379e-01],\n",
       "       [ 2.37661e-01,  0.00000e+00,  2.31802e-01,  5.30537e-01],\n",
       "       [ 2.21308e-01,  0.00000e+00,  2.11215e-01,  5.67476e-01],\n",
       "       [ 1.54277e-01,  0.00000e+00,  1.54427e-01,  6.91296e-01],\n",
       "       [-1.50851e-09,  0.00000e+00, -1.43070e-09,  1.00000e+00],\n",
       "       [ 0.00000e+00, -3.30608e-09,  1.00000e+00, -1.28986e-09],\n",
       "       [ 0.00000e+00,  3.39766e-01,  5.61936e-01,  9.82978e-02],\n",
       "       [ 0.00000e+00,  6.19405e-01,  2.92121e-01,  8.84738e-02],\n",
       "       [ 0.00000e+00,  1.00000e+00, -3.30608e-09, -1.27019e-09],\n",
       "       [ 0.00000e+00,  3.81511e-01,  2.94910e-01,  3.23580e-01],\n",
       "       [ 0.00000e+00,  3.43760e-01,  3.60257e-01,  2.95983e-01],\n",
       "       [ 0.00000e+00,  3.45555e-01,  3.53776e-01,  3.00669e-01],\n",
       "       [ 0.00000e+00,  2.82229e-01,  3.96296e-01,  3.21475e-01],\n",
       "       [ 0.00000e+00,  2.32938e-01,  2.52612e-01,  5.14450e-01],\n",
       "       [ 0.00000e+00,  2.22754e-01,  2.23202e-01,  5.54044e-01],\n",
       "       [ 0.00000e+00,  2.19491e-01,  2.34370e-01,  5.46139e-01],\n",
       "       [ 0.00000e+00,  2.35112e-01,  2.27531e-01,  5.37357e-01],\n",
       "       [ 0.00000e+00, -1.27019e-09, -1.28986e-09,  1.00000e+00],\n",
       "       [ 0.00000e+00,  1.16970e-01,  1.26442e-01,  7.56588e-01],\n",
       "       [ 0.00000e+00,  1.61780e-01,  1.63815e-01,  6.74405e-01],\n",
       "       [ 0.00000e+00,  1.66067e-01,  1.77968e-01,  6.55964e-01]])"
      ]
     },
     "execution_count": 296,
     "metadata": {},
     "output_type": "execute_result"
    }
   ],
   "source": [
    "primal.Psi"
   ]
  },
  {
   "cell_type": "code",
   "execution_count": 271,
   "id": "2affba2a-decf-4398-8788-67c4546e400e",
   "metadata": {},
   "outputs": [
    {
     "data": {
      "text/plain": [
       "array([0, 2, 3])"
      ]
     },
     "execution_count": 271,
     "metadata": {},
     "output_type": "execute_result"
    }
   ],
   "source": [
    "np.where((c.indptr[1:]-c.indptr[:-1])>0)[0]"
   ]
  },
  {
   "cell_type": "code",
   "execution_count": 178,
   "id": "092389f2-00fa-40d1-b033-53ed5c058687",
   "metadata": {},
   "outputs": [
    {
     "data": {
      "text/plain": [
       "[<19x19 PardisoSolverWrapper with dtype=float64>,\n",
       " <19x19 PardisoSolverWrapper with dtype=float64>,\n",
       " <19x19 PardisoSolverWrapper with dtype=float64>]"
      ]
     },
     "execution_count": 178,
     "metadata": {},
     "output_type": "execute_result"
    }
   ],
   "source": [
    "[solvers.make_solver(a, spd=False, symmetric=True) for a in A]"
   ]
  },
  {
   "cell_type": "code",
   "execution_count": 169,
   "id": "89b13610-2243-4d45-b707-5b55b772a94b",
   "metadata": {},
   "outputs": [],
   "source": [
    "A, B , RHS = primal.incorporate_PrimalConstraints(A,B,RHS,IMap)"
   ]
  },
  {
   "cell_type": "code",
   "execution_count": 240,
   "id": "a9ec4d1a-c77d-4e8c-bde2-6608ac91db16",
   "metadata": {},
   "outputs": [
    {
     "data": {
      "image/png": "[encoded data removed]",
      "text/plain": [
       "<Figure size 640x480 with 1 Axes>"
      ]
     },
     "metadata": {},
     "output_type": "display_data"
    }
   ],
   "source": [
    "M.draw(patch_idx=1)"
   ]
  },
  {
   "cell_type": "code",
   "execution_count": 35,
   "id": "9b07bf0a-ed46-48e2-91b9-97b044ec4415",
   "metadata": {},
   "outputs": [],
   "source": [
    "import pyMKL\n",
    "solver = pyMKL.pardisoSolver(A, 11)\n",
    "solver.factor()"
   ]
  },
  {
   "cell_type": "code",
   "execution_count": 38,
   "id": "42013efa-7d8f-4947-8fbc-1b32ccccdbd8",
   "metadata": {},
   "outputs": [
    {
     "ename": "AttributeError",
     "evalue": "'csc_matrix' object has no attribute 'flatten'",
     "output_type": "error",
     "traceback": [
      "\u001b[0;31m---------------------------------------------------------------------------\u001b[0m",
      "\u001b[0;31mAttributeError\u001b[0m                            Traceback (most recent call last)",
      "Cell \u001b[0;32mIn[38], line 1\u001b[0m\n\u001b[0;32m----> 1\u001b[0m \u001b[43msolver\u001b[49m\u001b[38;5;241;43m.\u001b[39;49m\u001b[43msolve\u001b[49m\u001b[43m(\u001b[49m\u001b[43mRHS\u001b[49m\u001b[43m)\u001b[49m\n",
      "File \u001b[0;32m~/miniforge3/lib/python3.11/site-packages/pyMKL/pardisoSolver.py:149\u001b[0m, in \u001b[0;36mpardisoSolver.solve\u001b[0;34m(self, rhs)\u001b[0m\n\u001b[1;32m    148\u001b[0m \u001b[38;5;28;01mdef\u001b[39;00m \u001b[38;5;21msolve\u001b[39m(\u001b[38;5;28mself\u001b[39m, rhs):\n\u001b[0;32m--> 149\u001b[0m     x \u001b[38;5;241m=\u001b[39m \u001b[38;5;28;43mself\u001b[39;49m\u001b[38;5;241;43m.\u001b[39;49m\u001b[43mrun_pardiso\u001b[49m\u001b[43m(\u001b[49m\u001b[43mphase\u001b[49m\u001b[38;5;241;43m=\u001b[39;49m\u001b[38;5;241;43m33\u001b[39;49m\u001b[43m,\u001b[49m\u001b[43m \u001b[49m\u001b[43mrhs\u001b[49m\u001b[38;5;241;43m=\u001b[39;49m\u001b[43mrhs\u001b[49m\u001b[43m)\u001b[49m\n\u001b[1;32m    150\u001b[0m     \u001b[38;5;28;01mreturn\u001b[39;00m x\n",
      "File \u001b[0;32m~/miniforge3/lib/python3.11/site-packages/pyMKL/pardisoSolver.py:198\u001b[0m, in \u001b[0;36mpardisoSolver.run_pardiso\u001b[0;34m(self, phase, rhs)\u001b[0m\n\u001b[1;32m    195\u001b[0m         msg \u001b[38;5;241m=\u001b[39m \u001b[38;5;124m\"\u001b[39m\u001b[38;5;124mRight hand side must either be a 1 or 2 dimensional \u001b[39m\u001b[38;5;124m\"\u001b[39m\u001b[38;5;241m+\u001b[39m\\\n\u001b[1;32m    196\u001b[0m               \u001b[38;5;124m\"\u001b[39m\u001b[38;5;124marray. Higher order right hand sides are not supported.\u001b[39m\u001b[38;5;124m\"\u001b[39m\n\u001b[1;32m    197\u001b[0m         \u001b[38;5;28;01mraise\u001b[39;00m \u001b[38;5;167;01mNotImplementedError\u001b[39;00m(msg)\n\u001b[0;32m--> 198\u001b[0m     rhs \u001b[38;5;241m=\u001b[39m \u001b[43mrhs\u001b[49m\u001b[38;5;241;43m.\u001b[39;49m\u001b[43mastype\u001b[49m\u001b[43m(\u001b[49m\u001b[38;5;28;43mself\u001b[39;49m\u001b[38;5;241;43m.\u001b[39;49m\u001b[43mdtype\u001b[49m\u001b[43m)\u001b[49m\u001b[38;5;241;43m.\u001b[39;49m\u001b[43mflatten\u001b[49m(order\u001b[38;5;241m=\u001b[39m\u001b[38;5;124m'\u001b[39m\u001b[38;5;124mf\u001b[39m\u001b[38;5;124m'\u001b[39m)\n\u001b[1;32m    199\u001b[0m     x \u001b[38;5;241m=\u001b[39m np\u001b[38;5;241m.\u001b[39mzeros(nrhs\u001b[38;5;241m*\u001b[39m\u001b[38;5;28mself\u001b[39m\u001b[38;5;241m.\u001b[39mn, dtype\u001b[38;5;241m=\u001b[39m\u001b[38;5;28mself\u001b[39m\u001b[38;5;241m.\u001b[39mdtype)\n\u001b[1;32m    201\u001b[0m MKL_rhs \u001b[38;5;241m=\u001b[39m rhs\u001b[38;5;241m.\u001b[39mctypes\u001b[38;5;241m.\u001b[39mdata_as(\u001b[38;5;28mself\u001b[39m\u001b[38;5;241m.\u001b[39mctypes_dtype)\n",
      "\u001b[0;31mAttributeError\u001b[0m: 'csc_matrix' object has no attribute 'flatten'"
     ]
    }
   ],
   "source": [
    "solver.solve(RHS)"
   ]
  },
  {
   "cell_type": "code",
   "execution_count": 13,
   "id": "7337bf57-7323-4da0-858f-feafdc65e972",
   "metadata": {},
   "outputs": [],
   "source": [
    "A = scipy.sparse.csc_matrix(np.array([[1,2],[3,4]]))"
   ]
  },
  {
   "cell_type": "code",
   "execution_count": 22,
   "id": "c1fd2661-b736-478e-80d6-9c01c2656283",
   "metadata": {},
   "outputs": [],
   "source": [
    "RHS = scipy.sparse.csc_matrix(np.array([[1,0],[0,1]]))"
   ]
  },
  {
   "cell_type": "code",
   "execution_count": 18,
   "id": "5592efc3-3b65-4632-afd7-b3f85fdcfcfe",
   "metadata": {},
   "outputs": [
    {
     "data": {
      "text/plain": [
       "<Compressed Sparse Column sparse matrix of dtype 'float64'\n",
       "\twith 4 stored elements and shape (2, 2)>"
      ]
     },
     "execution_count": 18,
     "metadata": {},
     "output_type": "execute_result"
    }
   ],
   "source": [
    "scipy.sparse.linalg.spsolve(A,scipy.sparse.csc_matrix(np.array([[1,0],[0,1]])))"
   ]
  },
  {
   "cell_type": "code",
   "execution_count": 16,
   "id": "b63058d5-e91b-4356-b2a7-fe6b35a72cd9",
   "metadata": {},
   "outputs": [
    {
     "ename": "TypeError",
     "evalue": "Unable to multiply a LinearOperator with a sparse matrix. Wrap the matrix in aslinearoperator first.",
     "output_type": "error",
     "traceback": [
      "\u001b[0;31m---------------------------------------------------------------------------\u001b[0m",
      "\u001b[0;31mAttributeError\u001b[0m                            Traceback (most recent call last)",
      "File \u001b[0;32m~/miniforge3/lib/python3.11/site-packages/scipy/sparse/linalg/_interface.py:340\u001b[0m, in \u001b[0;36mLinearOperator.matmat\u001b[0;34m(self, X)\u001b[0m\n\u001b[1;32m    339\u001b[0m \u001b[38;5;28;01mtry\u001b[39;00m:\n\u001b[0;32m--> 340\u001b[0m     Y \u001b[38;5;241m=\u001b[39m \u001b[38;5;28;43mself\u001b[39;49m\u001b[38;5;241;43m.\u001b[39;49m\u001b[43m_matmat\u001b[49m\u001b[43m(\u001b[49m\u001b[43mX\u001b[49m\u001b[43m)\u001b[49m\n\u001b[1;32m    341\u001b[0m \u001b[38;5;28;01mexcept\u001b[39;00m \u001b[38;5;167;01mException\u001b[39;00m \u001b[38;5;28;01mas\u001b[39;00m e:\n",
      "File \u001b[0;32m~/miniforge3/lib/python3.11/site-packages/pyiga-0.1.0-py3.11-linux-x86_64.egg/pyiga/operators.py:251\u001b[0m, in \u001b[0;36mPardisoSolverWrapper._matmat\u001b[0;34m(self, x)\u001b[0m\n\u001b[1;32m    250\u001b[0m \u001b[38;5;28;01mdef\u001b[39;00m \u001b[38;5;21m_matmat\u001b[39m(\u001b[38;5;28mself\u001b[39m, x):\n\u001b[0;32m--> 251\u001b[0m     \u001b[38;5;28;01mreturn\u001b[39;00m \u001b[38;5;28;43mself\u001b[39;49m\u001b[38;5;241;43m.\u001b[39;49m\u001b[43msolver\u001b[49m\u001b[38;5;241;43m.\u001b[39;49m\u001b[43msolve\u001b[49m\u001b[43m(\u001b[49m\u001b[43mx\u001b[49m\u001b[43m)\u001b[49m\n",
      "File \u001b[0;32m~/miniforge3/lib/python3.11/site-packages/pyMKL/pardisoSolver.py:149\u001b[0m, in \u001b[0;36mpardisoSolver.solve\u001b[0;34m(self, rhs)\u001b[0m\n\u001b[1;32m    148\u001b[0m \u001b[38;5;28;01mdef\u001b[39;00m \u001b[38;5;21msolve\u001b[39m(\u001b[38;5;28mself\u001b[39m, rhs):\n\u001b[0;32m--> 149\u001b[0m     x \u001b[38;5;241m=\u001b[39m \u001b[38;5;28;43mself\u001b[39;49m\u001b[38;5;241;43m.\u001b[39;49m\u001b[43mrun_pardiso\u001b[49m\u001b[43m(\u001b[49m\u001b[43mphase\u001b[49m\u001b[38;5;241;43m=\u001b[39;49m\u001b[38;5;241;43m33\u001b[39;49m\u001b[43m,\u001b[49m\u001b[43m \u001b[49m\u001b[43mrhs\u001b[49m\u001b[38;5;241;43m=\u001b[39;49m\u001b[43mrhs\u001b[49m\u001b[43m)\u001b[49m\n\u001b[1;32m    150\u001b[0m     \u001b[38;5;28;01mreturn\u001b[39;00m x\n",
      "File \u001b[0;32m~/miniforge3/lib/python3.11/site-packages/pyMKL/pardisoSolver.py:198\u001b[0m, in \u001b[0;36mpardisoSolver.run_pardiso\u001b[0;34m(self, phase, rhs)\u001b[0m\n\u001b[1;32m    197\u001b[0m     \u001b[38;5;28;01mraise\u001b[39;00m \u001b[38;5;167;01mNotImplementedError\u001b[39;00m(msg)\n\u001b[0;32m--> 198\u001b[0m rhs \u001b[38;5;241m=\u001b[39m \u001b[43mrhs\u001b[49m\u001b[38;5;241;43m.\u001b[39;49m\u001b[43mastype\u001b[49m\u001b[43m(\u001b[49m\u001b[38;5;28;43mself\u001b[39;49m\u001b[38;5;241;43m.\u001b[39;49m\u001b[43mdtype\u001b[49m\u001b[43m)\u001b[49m\u001b[38;5;241;43m.\u001b[39;49m\u001b[43mflatten\u001b[49m(order\u001b[38;5;241m=\u001b[39m\u001b[38;5;124m'\u001b[39m\u001b[38;5;124mf\u001b[39m\u001b[38;5;124m'\u001b[39m)\n\u001b[1;32m    199\u001b[0m x \u001b[38;5;241m=\u001b[39m np\u001b[38;5;241m.\u001b[39mzeros(nrhs\u001b[38;5;241m*\u001b[39m\u001b[38;5;28mself\u001b[39m\u001b[38;5;241m.\u001b[39mn, dtype\u001b[38;5;241m=\u001b[39m\u001b[38;5;28mself\u001b[39m\u001b[38;5;241m.\u001b[39mdtype)\n",
      "\u001b[0;31mAttributeError\u001b[0m: 'csc_matrix' object has no attribute 'flatten'",
      "\nThe above exception was the direct cause of the following exception:\n",
      "\u001b[0;31mTypeError\u001b[0m                                 Traceback (most recent call last)",
      "Cell \u001b[0;32mIn[16], line 1\u001b[0m\n\u001b[0;32m----> 1\u001b[0m \u001b[43msolvers\u001b[49m\u001b[38;5;241;43m.\u001b[39;49m\u001b[43mmake_solver\u001b[49m\u001b[43m(\u001b[49m\u001b[43mA\u001b[49m\u001b[43m)\u001b[49m\u001b[38;5;129;43m@scipy\u001b[39;49m\u001b[38;5;241;43m.\u001b[39;49m\u001b[43msparse\u001b[49m\u001b[38;5;241;43m.\u001b[39;49m\u001b[43mcsc_matrix\u001b[49m\u001b[43m(\u001b[49m\u001b[43mnp\u001b[49m\u001b[38;5;241;43m.\u001b[39;49m\u001b[43marray\u001b[49m\u001b[43m(\u001b[49m\u001b[43m[\u001b[49m\u001b[43m[\u001b[49m\u001b[38;5;241;43m1\u001b[39;49m\u001b[43m,\u001b[49m\u001b[38;5;241;43m0\u001b[39;49m\u001b[43m]\u001b[49m\u001b[43m,\u001b[49m\u001b[43m[\u001b[49m\u001b[38;5;241;43m0\u001b[39;49m\u001b[43m,\u001b[49m\u001b[38;5;241;43m1\u001b[39;49m\u001b[43m]\u001b[49m\u001b[43m]\u001b[49m\u001b[43m)\u001b[49m\u001b[43m)\u001b[49m\n",
      "File \u001b[0;32m~/miniforge3/lib/python3.11/site-packages/scipy/sparse/linalg/_interface.py:455\u001b[0m, in \u001b[0;36mLinearOperator.__matmul__\u001b[0;34m(self, other)\u001b[0m\n\u001b[1;32m    452\u001b[0m \u001b[38;5;28;01mif\u001b[39;00m np\u001b[38;5;241m.\u001b[39misscalar(other):\n\u001b[1;32m    453\u001b[0m     \u001b[38;5;28;01mraise\u001b[39;00m \u001b[38;5;167;01mValueError\u001b[39;00m(\u001b[38;5;124m\"\u001b[39m\u001b[38;5;124mScalar operands are not allowed, \u001b[39m\u001b[38;5;124m\"\u001b[39m\n\u001b[1;32m    454\u001b[0m                      \u001b[38;5;124m\"\u001b[39m\u001b[38;5;124muse \u001b[39m\u001b[38;5;124m'\u001b[39m\u001b[38;5;124m*\u001b[39m\u001b[38;5;124m'\u001b[39m\u001b[38;5;124m instead\u001b[39m\u001b[38;5;124m\"\u001b[39m)\n\u001b[0;32m--> 455\u001b[0m \u001b[38;5;28;01mreturn\u001b[39;00m \u001b[38;5;28;43mself\u001b[39;49m\u001b[38;5;241;43m.\u001b[39;49m\u001b[38;5;21;43m__mul__\u001b[39;49m\u001b[43m(\u001b[49m\u001b[43mother\u001b[49m\u001b[43m)\u001b[49m\n",
      "File \u001b[0;32m~/miniforge3/lib/python3.11/site-packages/scipy/sparse/linalg/_interface.py:411\u001b[0m, in \u001b[0;36mLinearOperator.__mul__\u001b[0;34m(self, x)\u001b[0m\n\u001b[1;32m    410\u001b[0m \u001b[38;5;28;01mdef\u001b[39;00m \u001b[38;5;21m__mul__\u001b[39m(\u001b[38;5;28mself\u001b[39m, x):\n\u001b[0;32m--> 411\u001b[0m     \u001b[38;5;28;01mreturn\u001b[39;00m \u001b[38;5;28;43mself\u001b[39;49m\u001b[38;5;241;43m.\u001b[39;49m\u001b[43mdot\u001b[49m\u001b[43m(\u001b[49m\u001b[43mx\u001b[49m\u001b[43m)\u001b[49m\n",
      "File \u001b[0;32m~/miniforge3/lib/python3.11/site-packages/scipy/sparse/linalg/_interface.py:446\u001b[0m, in \u001b[0;36mLinearOperator.dot\u001b[0;34m(self, x)\u001b[0m\n\u001b[1;32m    444\u001b[0m     \u001b[38;5;28;01mreturn\u001b[39;00m \u001b[38;5;28mself\u001b[39m\u001b[38;5;241m.\u001b[39mmatvec(x)\n\u001b[1;32m    445\u001b[0m \u001b[38;5;28;01melif\u001b[39;00m x\u001b[38;5;241m.\u001b[39mndim \u001b[38;5;241m==\u001b[39m \u001b[38;5;241m2\u001b[39m:\n\u001b[0;32m--> 446\u001b[0m     \u001b[38;5;28;01mreturn\u001b[39;00m \u001b[38;5;28;43mself\u001b[39;49m\u001b[38;5;241;43m.\u001b[39;49m\u001b[43mmatmat\u001b[49m\u001b[43m(\u001b[49m\u001b[43mx\u001b[49m\u001b[43m)\u001b[49m\n\u001b[1;32m    447\u001b[0m \u001b[38;5;28;01melse\u001b[39;00m:\n\u001b[1;32m    448\u001b[0m     \u001b[38;5;28;01mraise\u001b[39;00m \u001b[38;5;167;01mValueError\u001b[39;00m(\u001b[38;5;124m'\u001b[39m\u001b[38;5;124mexpected 1-d or 2-d array or matrix, got \u001b[39m\u001b[38;5;132;01m%r\u001b[39;00m\u001b[38;5;124m'\u001b[39m\n\u001b[1;32m    449\u001b[0m                      \u001b[38;5;241m%\u001b[39m x)\n",
      "File \u001b[0;32m~/miniforge3/lib/python3.11/site-packages/scipy/sparse/linalg/_interface.py:343\u001b[0m, in \u001b[0;36mLinearOperator.matmat\u001b[0;34m(self, X)\u001b[0m\n\u001b[1;32m    341\u001b[0m \u001b[38;5;28;01mexcept\u001b[39;00m \u001b[38;5;167;01mException\u001b[39;00m \u001b[38;5;28;01mas\u001b[39;00m e:\n\u001b[1;32m    342\u001b[0m     \u001b[38;5;28;01mif\u001b[39;00m issparse(X) \u001b[38;5;129;01mor\u001b[39;00m is_pydata_spmatrix(X):\n\u001b[0;32m--> 343\u001b[0m         \u001b[38;5;28;01mraise\u001b[39;00m \u001b[38;5;167;01mTypeError\u001b[39;00m(\n\u001b[1;32m    344\u001b[0m             \u001b[38;5;124m\"\u001b[39m\u001b[38;5;124mUnable to multiply a LinearOperator with a sparse matrix.\u001b[39m\u001b[38;5;124m\"\u001b[39m\n\u001b[1;32m    345\u001b[0m             \u001b[38;5;124m\"\u001b[39m\u001b[38;5;124m Wrap the matrix in aslinearoperator first.\u001b[39m\u001b[38;5;124m\"\u001b[39m\n\u001b[1;32m    346\u001b[0m         ) \u001b[38;5;28;01mfrom\u001b[39;00m \u001b[38;5;21;01me\u001b[39;00m\n\u001b[1;32m    347\u001b[0m     \u001b[38;5;28;01mraise\u001b[39;00m\n\u001b[1;32m    349\u001b[0m \u001b[38;5;28;01mif\u001b[39;00m \u001b[38;5;28misinstance\u001b[39m(Y, np\u001b[38;5;241m.\u001b[39mmatrix):\n",
      "\u001b[0;31mTypeError\u001b[0m: Unable to multiply a LinearOperator with a sparse matrix. Wrap the matrix in aslinearoperator first."
     ]
    }
   ],
   "source": [
    "solvers.make_solver(A)@scipy.sparse.csc_matrix(np.array([[1,0],[0,1]]))"
   ]
  },
  {
   "cell_type": "code",
   "execution_count": 44,
   "id": "1c7be947-9897-4fbc-81e8-ceb734ac1ccb",
   "metadata": {},
   "outputs": [
    {
     "data": {
      "text/plain": [
       "array([ 0, 16, 32, 48])"
      ]
     },
     "execution_count": 44,
     "metadata": {},
     "output_type": "execute_result"
    }
   ],
   "source": [
    "IMap.N_ofs"
   ]
  },
  {
   "cell_type": "code",
   "execution_count": 153,
   "id": "5471f143-81a4-44b4-9cdc-33c702c866a6",
   "metadata": {},
   "outputs": [
    {
     "data": {
      "text/plain": [
       "<Compressed Sparse Column sparse matrix of dtype 'float64'\n",
       "\twith 356 stored elements and shape (60, 60)>"
      ]
     },
     "execution_count": 153,
     "metadata": {},
     "output_type": "execute_result"
    }
   ],
   "source": [
    "I.SystemMatrix('csc')"
   ]
  },
  {
   "cell_type": "code",
   "execution_count": 102,
   "id": "60060f66-1bf9-442b-8ce0-89fb149cc229",
   "metadata": {},
   "outputs": [],
   "source": [
    "ISys.construct_primal_constraints()"
   ]
  },
  {
   "cell_type": "code",
   "execution_count": 103,
   "id": "186ba257-1643-4083-a149-5aad76481cd2",
   "metadata": {},
   "outputs": [
    {
     "ename": "AssertionError",
     "evalue": "Local system matrices have not been assembled yet!",
     "output_type": "error",
     "traceback": [
      "\u001b[0;31m---------------------------------------------------------------------------\u001b[0m",
      "\u001b[0;31mAssertionError\u001b[0m                            Traceback (most recent call last)",
      "Cell \u001b[0;32mIn[103], line 1\u001b[0m\n\u001b[0;32m----> 1\u001b[0m \u001b[43mISys\u001b[49m\u001b[38;5;241;43m.\u001b[39;49m\u001b[43mconstruct_primal_basis\u001b[49m\u001b[43m(\u001b[49m\u001b[43m)\u001b[49m\n",
      "Cell \u001b[0;32mIn[100], line 51\u001b[0m, in \u001b[0;36mIetiSystem.construct_primal_basis\u001b[0;34m(self)\u001b[0m\n\u001b[1;32m     49\u001b[0m \u001b[38;5;28mself\u001b[39m\u001b[38;5;241m.\u001b[39mloc_solver \u001b[38;5;241m=\u001b[39m []\n\u001b[1;32m     50\u001b[0m \u001b[38;5;28mself\u001b[39m\u001b[38;5;241m.\u001b[39mA_prim \u001b[38;5;241m=\u001b[39m np\u001b[38;5;241m.\u001b[39mzeros(\u001b[38;5;241m2\u001b[39m\u001b[38;5;241m*\u001b[39m(\u001b[38;5;28mself\u001b[39m\u001b[38;5;241m.\u001b[39mIMap\u001b[38;5;241m.\u001b[39mPrim\u001b[38;5;241m.\u001b[39mshape[\u001b[38;5;241m1\u001b[39m],))\n\u001b[0;32m---> 51\u001b[0m \u001b[38;5;28;01massert\u001b[39;00m \u001b[38;5;28mlen\u001b[39m(\u001b[38;5;28mself\u001b[39m\u001b[38;5;241m.\u001b[39mA)\u001b[38;5;241m==\u001b[39m\u001b[38;5;28mself\u001b[39m\u001b[38;5;241m.\u001b[39mIMap\u001b[38;5;241m.\u001b[39mnumpatches, \u001b[38;5;124m'\u001b[39m\u001b[38;5;124mLocal system matrices have not been assembled yet!\u001b[39m\u001b[38;5;124m'\u001b[39m\n\u001b[1;32m     52\u001b[0m \u001b[38;5;28;01mfor\u001b[39;00m p \u001b[38;5;129;01min\u001b[39;00m \u001b[38;5;28mrange\u001b[39m(\u001b[38;5;28mself\u001b[39m\u001b[38;5;241m.\u001b[39mIMap\u001b[38;5;241m.\u001b[39mnumpatches):\n\u001b[1;32m     53\u001b[0m     a \u001b[38;5;241m=\u001b[39m \u001b[38;5;28mself\u001b[39m\u001b[38;5;241m.\u001b[39mA[p]\n",
      "\u001b[0;31mAssertionError\u001b[0m: Local system matrices have not been assembled yet!"
     ]
    }
   ],
   "source": [
    "ISys.construct_primal_basis()"
   ]
  },
  {
   "cell_type": "code",
   "execution_count": 56,
   "id": "fe8f7ccc-896f-449b-856e-6881dc806413",
   "metadata": {},
   "outputs": [
    {
     "data": {
      "text/plain": [
       "array([ 0,  3,  4,  8, 11,  7], dtype=int32)"
      ]
     },
     "execution_count": 56,
     "metadata": {},
     "output_type": "execute_result"
    }
   ],
   "source": [
    "ISys.eliminate_constraints"
   ]
  },
  {
   "cell_type": "code",
   "execution_count": 68,
   "id": "9d8160e6-7751-4520-9b20-b16962e5b1de",
   "metadata": {},
   "outputs": [
    {
     "name": "stdout",
     "output_type": "stream",
     "text": [
      "<Compressed Sparse Row sparse matrix of dtype 'float64'\n",
      "\twith 2 stored elements and shape (1, 48)>\n",
      "  Coords\tValues\n",
      "  (0, 31)\t-1.0\n",
      "  (0, 44)\t1.0\n"
     ]
    }
   ],
   "source": [
    "print(IMap.B[7,:])"
   ]
  },
  {
   "cell_type": "code",
   "execution_count": 12,
   "id": "ea8b1020-bb4b-4cb0-af02-3dfddfcfebe8",
   "metadata": {},
   "outputs": [
    {
     "data": {
      "image/png": "[encoded data removed]",
      "text/plain": [
       "<Figure size 640x480 with 1 Axes>"
      ]
     },
     "metadata": {},
     "output_type": "display_data"
    }
   ],
   "source": [
    "M.draw(knots=1, patch_idx=1)"
   ]
  },
  {
   "cell_type": "code",
   "execution_count": 125,
   "id": "aa19b22b-b8b5-440a-a9cd-3d79b2191700",
   "metadata": {},
   "outputs": [],
   "source": [
    "corner = np.concatenate([assemble.boundary_dofs(kvs,m=0,ravel=True) + MP.N_ofs[p] for p, kvs in enumerate(MP.mesh.kvs)])\n",
    "n = MP.B.shape[1]"
   ]
  },
  {
   "cell_type": "code",
   "execution_count": 115,
   "id": "9fcd4032-bb23-4984-9f3a-d92ab5477116",
   "metadata": {},
   "outputs": [],
   "source": [
    "idx = (MP.B[:,corner]>0).getnnz(1)>0\n",
    "B = MP.B[idx,:]\n",
    "B = B[B.getnnz(1)==2,:]\n",
    "loc_c = np.unique(B.indices)\n",
    "R = scipy.sparse.coo_matrix((np.ones(len(loc_c)),(np.arange(len(loc_c)),loc_c)),shape=(len(loc_c),n)).tocsr()\n",
    "c_B = B@R.T\n",
    "\n",
    "R = scipy.sparse.coo_matrix((np.ones(len(loc_c)),(np.arange(len(loc_c)),loc_c)),shape=(len(loc_c),n)).tocsr()\n",
    "nodal_indicator = algebra_cy.pyx_compute_basis(c_B.shape[0], c_B.shape[1], c_B, maxiter=5)\n",
    "dofs = np.empty(nodal_indicator.shape[1], dtype=np.int32)\n",
    "S = c_B.sum(0).A[0]\n",
    "for j in range(nodal_indicator.shape[1]):\n",
    "    ind = nodal_indicator.indices[nodal_indicator.indptr[j]:nodal_indicator.indptr[j+1]]\n",
    "    dofs[j]=R.indices[ind[np.argmax(S[ind])]]\n",
    "nodal_indicator = (R.T@nodal_indicator)[:,nodal_indicator.getnnz(axis=0)>1]\n",
    "nnz = MP.B.getnnz(1)\n",
    "B = MP.B.tocsc()\n",
    "constr = np.repeat(-1,len(dofs))\n",
    "\n",
    "for j in range(nodal_indicator.shape[1]):\n",
    "    dof=dofs[j]\n",
    "    for r in range(B.indptr[dof],B.indptr[dof+1]):\n",
    "        i=B.indices[r]\n",
    "        if nnz[i]>2:\n",
    "            constr[j]=i\n",
    "            break\n",
    "if any(constr!=-1):\n",
    "    idx = np.where(constr!=-1)[0]\n",
    "    res = scipy.sparse.csc_matrix(nodal_indicator.shape)\n",
    "    Q = scipy.sparse.spdiags(1*(constr!=-1),0,len(constr),len(constr))\n",
    "    Q = scipy.sparse.coo_matrix((np.ones(len(idx)),(idx,np.arange(len(idx)))),(len(constr),len(idx)))\n",
    "    res = (Q@abs(MP.B[constr[idx],:])).T\n",
    "    res.data=abs(res.data-1)\n",
    "    res.eliminate_zeros()\n",
    "    nodal_indicator += res"
   ]
  },
  {
   "cell_type": "code",
   "execution_count": 116,
   "id": "fc2e2c51-fc9b-411e-87c1-9b9f9a7f1803",
   "metadata": {},
   "outputs": [
    {
     "data": {
      "text/plain": [
       "array([[25.   , 20.   , 54.   , 24.   , 21.   , 22.   , 23.   , 50.   , 29.   , 70.   , 49.   ],\n",
       "       [ 1.   ,  1.   ,  1.   ,  1.   ,  0.875,  0.25 ,  0.875,  1.   ,  1.   ,  1.   ,  1.   ]])"
      ]
     },
     "execution_count": 116,
     "metadata": {},
     "output_type": "execute_result"
    }
   ],
   "source": [
    "np.array([nodal_indicator.indices, nodal_indicator.data])"
   ]
  },
  {
   "cell_type": "code",
   "execution_count": 117,
   "id": "fe3c5489-c12c-4024-a1d8-f65cff110e59",
   "metadata": {},
   "outputs": [],
   "source": [
    "dofs= np.split(nodal_indicator.indices,nodal_indicator.indptr[1:-1])"
   ]
  },
  {
   "cell_type": "code",
   "execution_count": 118,
   "id": "e4bb1095-d1c1-44c9-bed6-c7daa98fb46c",
   "metadata": {},
   "outputs": [],
   "source": [
    "coeffs =np.split(nodal_indicator.data,nodal_indicator.indptr[1:-1])"
   ]
  },
  {
   "cell_type": "code",
   "execution_count": 119,
   "id": "cf0fffb6-06e7-4ae1-be52-864e3a510be6",
   "metadata": {},
   "outputs": [
    {
     "data": {
      "text/plain": [
       "[(array([25, 20], dtype=int32), array([1., 1.])),\n",
       " (array([54, 24], dtype=int32), array([1., 1.])),\n",
       " (array([21, 22, 23, 50, 29], dtype=int32),\n",
       "  array([0.875, 0.25 , 0.875, 1.   , 1.   ])),\n",
       " (array([70, 49], dtype=int32), array([1., 1.]))]"
      ]
     },
     "execution_count": 119,
     "metadata": {},
     "output_type": "execute_result"
    }
   ],
   "source": [
    "list(zip(dofs,coeffs))"
   ]
  },
  {
   "cell_type": "code",
   "execution_count": 17,
   "id": "25087f1c-ba4e-4198-938b-04097034ac41",
   "metadata": {},
   "outputs": [
    {
     "data": {
      "text/plain": [
       "array([ 3, 12, 31, 32, 35], dtype=int32)"
      ]
     },
     "execution_count": 17,
     "metadata": {},
     "output_type": "execute_result"
    }
   ],
   "source": [
    "nodal_indicator.indices[nodal_indicator.indptr[:-1]]"
   ]
  },
  {
   "cell_type": "code",
   "execution_count": 8,
   "id": "759048c8-f1d4-4936-b796-7a40209e63f7",
   "metadata": {},
   "outputs": [
    {
     "name": "stdout",
     "output_type": "stream",
     "text": [
      "<Compressed Sparse Column sparse matrix of dtype 'float64'\n",
      "\twith 2 stored elements and shape (64, 1)>\n",
      "  Coords\tValues\n",
      "  (31, 0)\t1.0\n",
      "  (44, 0)\t1.0\n"
     ]
    }
   ],
   "source": [
    "print(nodal_indicator[:,2])"
   ]
  },
  {
   "cell_type": "code",
   "execution_count": 258,
   "id": "46c39e10-6bbd-4b7b-8d3e-3e0aa431895e",
   "metadata": {},
   "outputs": [],
   "source": [
    "idx=np.where(constr!=-1)[0]"
   ]
  },
  {
   "cell_type": "code",
   "execution_count": 259,
   "id": "496db383-ec33-4270-b655-f43d4acf6960",
   "metadata": {},
   "outputs": [
    {
     "data": {
      "text/plain": [
       "array([2])"
      ]
     },
     "execution_count": 259,
     "metadata": {},
     "output_type": "execute_result"
    }
   ],
   "source": [
    "idx"
   ]
  },
  {
   "cell_type": "code",
   "execution_count": 270,
   "id": "5e1f0034-5114-40c8-b0f9-d22598e187d9",
   "metadata": {},
   "outputs": [],
   "source": [
    "res = scipy.sparse.csc_matrix(nodal_indicator.shape)"
   ]
  },
  {
   "cell_type": "code",
   "execution_count": 274,
   "id": "2d318c6d-3e2d-4d25-9357-42b9c49015cb",
   "metadata": {},
   "outputs": [
    {
     "name": "stderr",
     "output_type": "stream",
     "text": [
      "/home/wolfman/miniforge3/lib/python3.11/site-packages/scipy/sparse/_index.py:142: SparseEfficiencyWarning: Changing the sparsity structure of a csc_matrix is expensive. lil and dok are more efficient.\n",
      "  self._set_arrayXarray_sparse(i, j, x)\n"
     ]
    }
   ],
   "source": [
    "res[:,idx]=abs(MP.B[constr[idx],:]).T"
   ]
  },
  {
   "cell_type": "code",
   "execution_count": 280,
   "id": "7fe48142-5d8b-48d9-a406-b16eb579ee5b",
   "metadata": {},
   "outputs": [],
   "source": [
    "res.data=abs(res.data-1)"
   ]
  },
  {
   "cell_type": "code",
   "execution_count": 282,
   "id": "640a8dad-721c-4f4f-9aee-c17c78d11f45",
   "metadata": {},
   "outputs": [
    {
     "data": {
      "text/plain": [
       "array([0.5, 0.5, 0. ])"
      ]
     },
     "execution_count": 282,
     "metadata": {},
     "output_type": "execute_result"
    }
   ],
   "source": [
    "res.data"
   ]
  },
  {
   "cell_type": "code",
   "execution_count": 272,
   "id": "36eeedfc-7d33-4c23-ae3c-3956b8d77661",
   "metadata": {},
   "outputs": [
    {
     "data": {
      "text/plain": [
       "<Compressed Sparse Row sparse matrix of dtype 'float64'\n",
       "\twith 3 stored elements and shape (1, 81)>"
      ]
     },
     "execution_count": 272,
     "metadata": {},
     "output_type": "execute_result"
    }
   ],
   "source": [
    "abs(MP.B[constr[idx],:])"
   ]
  },
  {
   "cell_type": "code",
   "execution_count": 273,
   "id": "7581f113-9ba4-4dc8-8331-6f31b9196566",
   "metadata": {},
   "outputs": [
    {
     "data": {
      "text/plain": [
       "<Compressed Sparse Column sparse matrix of dtype 'float64'\n",
       "\twith 0 stored elements and shape (81, 1)>"
      ]
     },
     "execution_count": 273,
     "metadata": {},
     "output_type": "execute_result"
    }
   ],
   "source": [
    "res[:,idx]"
   ]
  },
  {
   "cell_type": "code",
   "execution_count": 214,
   "id": "0b6fcf88-ddc4-4d30-b1ea-d96f6050d1bd",
   "metadata": {},
   "outputs": [
    {
     "data": {
      "text/plain": [
       "array([-1, -1, -1, -1])"
      ]
     },
     "execution_count": 214,
     "metadata": {},
     "output_type": "execute_result"
    }
   ],
   "source": [
    "idx"
   ]
  },
  {
   "cell_type": "code",
   "execution_count": 135,
   "id": "4f330971-d9dc-463c-bf5a-29642f85f5a5",
   "metadata": {},
   "outputs": [
    {
     "data": {
      "text/plain": [
       "array([[ 0.,  0.,  0.,  0.,  0.,  0., -1.,  0.,  0.,  1.,  0.,  0.,  0.,  0.,  0.,  0.,  0.,  0.,  0.,  0.,  0.,  0.,  0.,  0.,  0.,  0.,  0.],\n",
       "       [ 0.,  0.,  0.,  0.,  0.,  0.,  0., -1.,  0.,  0.,  0.,  1.,  0.,  0.,  0.,  0.,  0.,  0.,  0.,  0.,  0.,  0.,  0.,  0.,  0.,  0.,  0.],\n",
       "       [ 0.,  0.,  0.,  0.,  0.,  0.,  0.,  0.,  0.,  0.,  0., -1.,  0.,  0.,  0.,  0.,  0.,  0.,  1.,  0.,  0.,  0.,  0.,  0.,  0.,  0.,  0.],\n",
       "       [ 0.,  0.,  0.,  0.,  0.,  0.,  0.,  0.,  0.,  0.,  0.,  0.,  0.,  0.,  0.,  0.,  0., -1.,  0.,  0.,  0.,  0.,  0.,  0.,  1.,  0.,  0.],\n",
       "       [ 0.,  0.,  0.,  0.,  0.,  0.,  0., -1.,  0.,  0.,  0.,  0.,  0.,  0.,  0.,  0.,  0.,  0.,  1.,  0.,  0.,  0.,  0.,  0.,  0.,  0.,  0.],\n",
       "       [ 0.,  0.,  0.,  0.,  0.,  0.,  0.,  0., -1.,  0.,  0.,  0.,  0.,  0.,  0.,  0.,  0.,  0.,  0.,  0.,  1.,  0.,  0.,  0.,  0.,  0.,  0.]])"
      ]
     },
     "execution_count": 135,
     "metadata": {},
     "output_type": "execute_result"
    }
   ],
   "source": [
    "B.toarray()"
   ]
  },
  {
   "cell_type": "code",
   "execution_count": 120,
   "id": "98436686-e644-462f-9e78-3950336f053f",
   "metadata": {},
   "outputs": [
    {
     "data": {
      "text/plain": [
       "2"
      ]
     },
     "execution_count": 120,
     "metadata": {},
     "output_type": "execute_result"
    }
   ],
   "source": [
    "np.argmax(np.array([-1,0,1]))"
   ]
  },
  {
   "cell_type": "code",
   "execution_count": 118,
   "id": "66111f8d-a4aa-4c44-8da6-089dce17ff8b",
   "metadata": {},
   "outputs": [
    {
     "data": {
      "text/plain": [
       "matrix([[-2.,  0.,  0.,  2.]])"
      ]
     },
     "execution_count": 118,
     "metadata": {},
     "output_type": "execute_result"
    }
   ],
   "source": [
    "c_B[:,[2,4,6,10]].sum(0)"
   ]
  },
  {
   "cell_type": "code",
   "execution_count": 92,
   "id": "d71abf1c-b042-480a-a280-ef7ce978d824",
   "metadata": {},
   "outputs": [],
   "source": [
    "nodal_indicator = (R.T@nodal_indicator)[:,nodal_indicator.getnnz(axis=0)>1]"
   ]
  },
  {
   "cell_type": "code",
   "execution_count": 88,
   "id": "9c09f3d1-8697-4280-8512-e62f1074ea08",
   "metadata": {},
   "outputs": [
    {
     "data": {
      "text/plain": [
       "<Compressed Sparse Row sparse matrix of dtype 'float64'\n",
       "\twith 8 stored elements and shape (4, 8)>"
      ]
     },
     "execution_count": 88,
     "metadata": {},
     "output_type": "execute_result"
    }
   ],
   "source": [
    "c_B"
   ]
  },
  {
   "cell_type": "code",
   "execution_count": 86,
   "id": "86681621-e79a-4e3d-9893-f33cb13aa9f9",
   "metadata": {},
   "outputs": [
    {
     "name": "stdout",
     "output_type": "stream",
     "text": [
      "[12 16]\n",
      "[15 35]\n",
      "[19 32]\n",
      "[31 44]\n"
     ]
    }
   ],
   "source": [
    "for j in range(nodal_indicator.shape[1]):\n",
    "    ind = nodal_indicator.indices[nodal_indicator.indptr[j]:nodal_indicator.indptr[j+1]]\n",
    "    \n",
    "\n",
    "# dofs = nodal_indicator.indices\n",
    "# nnz = MP.B.getnnz(1)\n",
    "# B = MP.B.tocsc()\n",
    "# idx = np.zeros(len(dofs))-1\n",
    "\n",
    "# for k,dof in enumerate(dofs):\n",
    "#     for r in range(B.indptr[dof],B.indptr[dof+1]):\n",
    "#         i = B.indices[r]\n",
    "#         if nnz[i]>2 and np.isclose(B.data[r],1): \n",
    "#             idx[k] = i\n",
    "# #idx = MP.Constr[:,dofs].tocsc().indices\n",
    "# #nnz = MP.Constr.getnnz(1)"
   ]
  },
  {
   "cell_type": "code",
   "execution_count": 87,
   "id": "097a916b-2d38-4a66-a22a-9dd4d9058cc9",
   "metadata": {},
   "outputs": [
    {
     "data": {
      "text/plain": [
       "array([31, 44], dtype=int32)"
      ]
     },
     "execution_count": 87,
     "metadata": {},
     "output_type": "execute_result"
    }
   ],
   "source": [
    "ind"
   ]
  },
  {
   "cell_type": "code",
   "execution_count": 82,
   "id": "91f350aa-d2c0-43f1-979d-24d91d65d7f1",
   "metadata": {},
   "outputs": [
    {
     "data": {
      "text/plain": [
       "array([12, 16, 15, 35, 19, 32, 31, 44], dtype=int32)"
      ]
     },
     "execution_count": 82,
     "metadata": {},
     "output_type": "execute_result"
    }
   ],
   "source": [
    "dofs"
   ]
  },
  {
   "cell_type": "code",
   "execution_count": 83,
   "id": "bdb453ad-6ce4-4f00-9e91-43637956174b",
   "metadata": {},
   "outputs": [
    {
     "data": {
      "text/plain": [
       "array([[-1. ,  1. ,  0. ,  0. ,  0. ,  0. ,  0. ,  0. ],\n",
       "       [-0.5,  0. ,  0. ,  0. ,  0. ,  0. ,  0. ,  0. ],\n",
       "       [ 0. ,  0. ,  0. ,  0. ,  0. ,  0. ,  0. ,  0. ],\n",
       "       [ 0. ,  0. ,  0. ,  0. ,  1. ,  0. ,  0. ,  0. ],\n",
       "       [ 0. ,  0. ,  0. ,  0. , -1. ,  1. ,  0. ,  0. ],\n",
       "       [ 0. ,  0. ,  0. ,  0. ,  0. ,  0. ,  0. ,  0. ],\n",
       "       [ 0. ,  0. ,  0. ,  0. ,  0. ,  0. ,  0. ,  0. ],\n",
       "       [ 0. ,  0. ,  0. ,  0. ,  0. ,  0. , -1. ,  1. ],\n",
       "       [ 0. ,  0. ,  0. ,  0. ,  0. ,  1. ,  0. ,  0. ],\n",
       "       [ 0. ,  0. ,  0. ,  0. ,  0. ,  0. ,  0. ,  0. ],\n",
       "       [ 0. ,  0. , -0.5,  0. ,  0. ,  0. ,  0. ,  0. ],\n",
       "       [ 0. ,  0. , -1. ,  1. ,  0. ,  0. ,  0. ,  0. ]])"
      ]
     },
     "execution_count": 83,
     "metadata": {},
     "output_type": "execute_result"
    }
   ],
   "source": [
    "B[:,dofs].toarray()"
   ]
  },
  {
   "cell_type": "code",
   "execution_count": 84,
   "id": "093533f4-993c-472d-9dcc-70c992c65e3b",
   "metadata": {},
   "outputs": [
    {
     "data": {
      "text/plain": [
       "array([-1., -1., -1., -1.,  3.,  8., -1., -1.])"
      ]
     },
     "execution_count": 84,
     "metadata": {},
     "output_type": "execute_result"
    }
   ],
   "source": [
    "idx"
   ]
  },
  {
   "cell_type": "code",
   "execution_count": 54,
   "id": "f2be5f87-16ab-4c8a-bb22-71f488277ccc",
   "metadata": {},
   "outputs": [
    {
     "name": "stdout",
     "output_type": "stream",
     "text": [
      "<Compressed Sparse Column sparse matrix of dtype 'float64'\n",
      "\twith 2 stored elements and shape (12, 1)>\n",
      "  Coords\tValues\n",
      "  (0, 0)\t-1.0\n",
      "  (1, 0)\t-0.5\n"
     ]
    }
   ],
   "source": [
    "print(B[:,12])"
   ]
  },
  {
   "cell_type": "code",
   "execution_count": 25,
   "id": "0e50d10f-c348-440c-bf0b-175a35540768",
   "metadata": {},
   "outputs": [
    {
     "data": {
      "text/plain": [
       "array([3, 4], dtype=int32)"
      ]
     },
     "execution_count": 25,
     "metadata": {},
     "output_type": "execute_result"
    }
   ],
   "source": [
    "B.indices[B.indptr[dofs[2]]:B.indptr[dofs[2]+1]]"
   ]
  },
  {
   "cell_type": "code",
   "execution_count": 84,
   "id": "aac795d2-e606-4be2-8039-40e1a306662e",
   "metadata": {},
   "outputs": [],
   "source": [
    "idx = MP.Constr[:,dofs].tocsc().indices"
   ]
  },
  {
   "cell_type": "code",
   "execution_count": 26,
   "id": "5749834e-a5b4-41f9-8b35-1b409dbc370c",
   "metadata": {},
   "outputs": [
    {
     "data": {
      "text/plain": [
       "array([[1., 0., 0., 0.],\n",
       "       [0., 0., 0., 0.],\n",
       "       [0., 0., 0., 0.],\n",
       "       [0., 0., 0., 0.],\n",
       "       [0., 0., 1., 0.],\n",
       "       [0., 0., 0., 0.],\n",
       "       [0., 0., 0., 0.],\n",
       "       [0., 0., 0., 1.],\n",
       "       [0., 0., 1., 0.],\n",
       "       [0., 0., 0., 0.],\n",
       "       [0., 0., 0., 0.],\n",
       "       [0., 1., 0., 0.]])"
      ]
     },
     "execution_count": 26,
     "metadata": {},
     "output_type": "execute_result"
    }
   ],
   "source": [
    "B[:,dofs].toarray()"
   ]
  },
  {
   "cell_type": "code",
   "execution_count": 75,
   "id": "aba35b7e-a405-4a92-8801-3dc6ba889b77",
   "metadata": {},
   "outputs": [
    {
     "data": {
      "text/plain": [
       "array([2, 3, 2, 3, 2, 2, 2, 2, 3, 2, 3, 2], dtype=int32)"
      ]
     },
     "execution_count": 75,
     "metadata": {},
     "output_type": "execute_result"
    }
   ],
   "source": [
    "nnz"
   ]
  },
  {
   "cell_type": "code",
   "execution_count": 74,
   "id": "983c68f4-db03-4bf6-b153-318c5f92b4af",
   "metadata": {},
   "outputs": [
    {
     "data": {
      "text/plain": [
       "array([2, 3, 2, 3, 2, 2, 2, 2, 3, 2, 3, 2], dtype=int32)"
      ]
     },
     "execution_count": 74,
     "metadata": {},
     "output_type": "execute_result"
    }
   ],
   "source": [
    "nnz"
   ]
  },
  {
   "cell_type": "code",
   "execution_count": 31,
   "id": "0ccf91cb-022e-47c5-8566-964950002e02",
   "metadata": {},
   "outputs": [
    {
     "data": {
      "text/plain": [
       "array([16, 35, 32, 44], dtype=int32)"
      ]
     },
     "execution_count": 31,
     "metadata": {},
     "output_type": "execute_result"
    }
   ],
   "source": [
    "dofs"
   ]
  },
  {
   "cell_type": "code",
   "execution_count": 41,
   "id": "03a8a8ff-ad93-4ee9-b07e-1fb58cd2b657",
   "metadata": {},
   "outputs": [
    {
     "data": {
      "text/plain": [
       "array([[ 0. ,  0. ,  0. ,  0. ,  0. ,  0. ,  0. ,  0. ,  0. ,  0. ,  0. ,  0. ,  0. ,  0. ,  0. ,  0. ,  0. ,  0. ,  0. ,  0. ,  0. ,  0. ,  0. ,  0. ,  0. ,  0. ,  0. ,  0. ,  0. ,  0. ,  0. ,  0. ,  0. ,  0. ,  0. ,  0. ,  0. ,  0. ,  0. ,  0. ,  0. ,  0. ,  0. ,  0. ,  0. ,  0. ,  0. ,  0. ],\n",
       "       [ 0. ,  0. ,  0. ,  0. ,  0. ,  0. ,  0. ,  0. ,  0. ,  0. ,  0. ,  0. ,  0. , -0.5, -0.5,  0. ,  0. ,  0. ,  0. ,  1. ,  0. ,  0. ,  0. ,  0. ,  0. ,  0. ,  0. ,  0. ,  0. ,  0. ,  0. ,  0. ,  0. ,  0. ,  0. ,  0. ,  0. ,  0. ,  0. ,  0. ,  0. ,  0. ,  0. ,  0. ,  0. ,  0. ,  0. ,  0. ],\n",
       "       [ 0. ,  0. ,  0. ,  0. ,  0. ,  0. ,  0. ,  0. ,  0. ,  0. ,  0. ,  0. ,  0. ,  0. ,  0. ,  0. ,  0. ,  0. ,  0. ,  0. ,  0. ,  0. ,  0. ,  0. ,  0. ,  0. ,  0. ,  0. ,  0. ,  0. ,  0. ,  0. ,  0. ,  0. ,  0. ,  0. ,  0. ,  0. ,  0. ,  0. ,  0. ,  0. ,  0. ,  0. ,  0. ,  0. ,  0. ,  0. ],\n",
       "       [ 0. ,  0. ,  0. ,  0. ,  0. ,  0. ,  0. ,  0. ,  0. ,  0. ,  0. ,  0. ,  0. ,  0. ,  0. ,  0. ,  0. ,  0. ,  0. ,  0. ,  0. ,  0. ,  0. ,  0. ,  0. ,  0. ,  0. ,  0. ,  0. ,  0. ,  0. ,  0. ,  0. ,  0. ,  0. ,  0. ,  0. ,  0. ,  0. ,  0. ,  0. ,  0. ,  0. ,  0. ,  0. ,  0. ,  0. ,  0. ],\n",
       "       [ 0. ,  0. ,  0. ,  0. ,  0. ,  0. ,  0. ,  0. ,  0. ,  0. ,  0. ,  0. ,  0. , -0.5, -0.5,  0. ,  0. ,  0. ,  0. ,  0. ,  0. ,  0. ,  0. ,  0. ,  0. ,  0. ,  0. ,  0. ,  0. ,  0. ,  0. ,  0. ,  1. ,  0. ,  0. ,  0. ,  0. ,  0. ,  0. ,  0. ,  0. ,  0. ,  0. ,  0. ,  0. ,  0. ,  0. ,  0. ],\n",
       "       [ 0. ,  0. ,  0. ,  0. ,  0. ,  0. ,  0. ,  0. ,  0. ,  0. ,  0. ,  0. ,  0. ,  0. ,  0. ,  0. ,  0. ,  0. ,  0. ,  0. ,  0. ,  0. ,  0. ,  0. ,  0. ,  0. ,  0. ,  0. ,  0. ,  0. ,  0. ,  0. ,  0. ,  0. ,  0. ,  0. ,  0. ,  0. ,  0. ,  0. ,  0. ,  0. ,  0. ,  0. ,  0. ,  0. ,  0. ,  0. ]])"
      ]
     },
     "execution_count": 41,
     "metadata": {},
     "output_type": "execute_result"
    }
   ],
   "source": [
    "B.toarray()"
   ]
  },
  {
   "cell_type": "code",
   "execution_count": 19,
   "id": "389e9658-e87e-4f19-82e1-37ff8309c8aa",
   "metadata": {},
   "outputs": [],
   "source": [
    "idx1 = MP.Constr.tocsc()[:,dofs].getnnz(1)>0"
   ]
  },
  {
   "cell_type": "code",
   "execution_count": 20,
   "id": "cb951eca-53b1-46a2-91a0-139d0e2ff9a0",
   "metadata": {},
   "outputs": [
    {
     "data": {
      "text/plain": [
       "array([ True, False, False, False,  True, False, False,  True,  True, False, False,  True])"
      ]
     },
     "execution_count": 20,
     "metadata": {},
     "output_type": "execute_result"
    }
   ],
   "source": [
    "idx1"
   ]
  },
  {
   "cell_type": "code",
   "execution_count": 248,
   "id": "19266393-2c47-4c7d-98b2-871fdcc0fa7f",
   "metadata": {},
   "outputs": [],
   "source": [
    "B = MP.Constr[idx,:]"
   ]
  },
  {
   "cell_type": "code",
   "execution_count": 249,
   "id": "73f58017-3c93-42f9-a46a-73a38735e356",
   "metadata": {},
   "outputs": [
    {
     "data": {
      "text/plain": [
       "array([[ 0. ,  0. ,  0. ,  0. ,  0. ,  0. ,  0. ,  0. ,  0. ,  0. ,  0. ,  0. , -1. ,  0. ,  0. ,  0. ,  1. ,  0. ,  0. ,  0. ,  0. ,  0. ,  0. ,  0. ,  0. ,  0. ,  0. ,  0. ,  0. ,  0. ,  0. ,  0. ,  0. ,  0. ,  0. ,  0. ,  0. ,  0. ,  0. ,  0. ,  0. ,  0. ,  0. ,  0. ,  0. ,  0. ,  0. ,  0. ],\n",
       "       [ 0. ,  0. ,  0. ,  0. ,  0. ,  0. ,  0. ,  0. ,  0. ,  0. ,  0. ,  0. ,  0. ,  0. ,  0. ,  0. ,  0. ,  0. ,  0. , -1. ,  0. ,  0. ,  0. ,  0. ,  0. ,  0. ,  0. ,  0. ,  0. ,  0. ,  0. ,  0. ,  1. ,  0. ,  0. ,  0. ,  0. ,  0. ,  0. ,  0. ,  0. ,  0. ,  0. ,  0. ,  0. ,  0. ,  0. ,  0. ],\n",
       "       [ 0. ,  0. ,  0. ,  0. ,  0. ,  0. ,  0. ,  0. ,  0. ,  0. ,  0. ,  0. ,  0. ,  0. ,  0. ,  0. ,  0. ,  0. ,  0. ,  0. ,  0. ,  0. ,  0. ,  0. ,  0. ,  0. ,  0. ,  0. ,  0. ,  0. ,  0. , -1. ,  0. ,  0. ,  0. ,  0. ,  0. ,  0. ,  0. ,  0. ,  0. ,  0. ,  0. ,  0. ,  1. ,  0. ,  0. ,  0. ],\n",
       "       [ 0. ,  0. ,  0. ,  0. ,  0. ,  0. ,  0. ,  0. ,  0. ,  0. ,  0. ,  0. ,  0. , -0.5, -0.5,  0. ,  0. ,  0. ,  0. ,  0. ,  0. ,  0. ,  0. ,  0. ,  0. ,  0. ,  0. ,  0. ,  0. ,  0. ,  0. ,  0. ,  1. ,  0. ,  0. ,  0. ,  0. ,  0. ,  0. ,  0. ,  0. ,  0. ,  0. ,  0. ,  0. ,  0. ,  0. ,  0. ],\n",
       "       [ 0. ,  0. ,  0. ,  0. ,  0. ,  0. ,  0. ,  0. ,  0. ,  0. ,  0. ,  0. ,  0. ,  0. ,  0. , -1. ,  0. ,  0. ,  0. ,  0. ,  0. ,  0. ,  0. ,  0. ,  0. ,  0. ,  0. ,  0. ,  0. ,  0. ,  0. ,  0. ,  0. ,  0. ,  0. ,  1. ,  0. ,  0. ,  0. ,  0. ,  0. ,  0. ,  0. ,  0. ,  0. ,  0. ,  0. ,  0. ]])"
      ]
     },
     "execution_count": 249,
     "metadata": {},
     "output_type": "execute_result"
    }
   ],
   "source": [
    "B.toarray()"
   ]
  },
  {
   "cell_type": "code",
   "execution_count": 250,
   "id": "68f483ad-669a-4b73-af98-56abd3a2d2f0",
   "metadata": {},
   "outputs": [
    {
     "data": {
      "text/plain": [
       "<Compressed Sparse Row sparse matrix of dtype 'float64'\n",
       "\twith 11 stored elements and shape (5, 48)>"
      ]
     },
     "execution_count": 250,
     "metadata": {},
     "output_type": "execute_result"
    }
   ],
   "source": [
    "MP.Constr[idx,:][MP.Constr[idx,:].getnnz(1)>0]"
   ]
  },
  {
   "cell_type": "code",
   "execution_count": 251,
   "id": "a441b79e-56e6-46ba-89b2-4dc0dd1bf4e1",
   "metadata": {},
   "outputs": [
    {
     "data": {
      "text/plain": [
       "array([0, 2, 4, 6], dtype=int32)"
      ]
     },
     "execution_count": 251,
     "metadata": {},
     "output_type": "execute_result"
    }
   ],
   "source": [
    "nodal_indicator.indptr[:-1]"
   ]
  },
  {
   "cell_type": "code",
   "execution_count": 252,
   "id": "d0c57c5f-10b2-40ef-a8cb-eaa9d7f9913d",
   "metadata": {},
   "outputs": [
    {
     "data": {
      "text/plain": [
       "(array([1, 2, 3, 4, 5]),)"
      ]
     },
     "execution_count": 252,
     "metadata": {},
     "output_type": "execute_result"
    }
   ],
   "source": [
    "np.where(idx2)"
   ]
  },
  {
   "cell_type": "code",
   "execution_count": 126,
   "id": "a04fd747-d320-46df-a31c-cd8886f43c29",
   "metadata": {},
   "outputs": [],
   "source": [
    "idx2=np.unique(1*((MP.Constr@R.T@R)==1).tocsc().indices)\n",
    "corner_dofs = np.unique(MP.Constr[idx2,:].indices)"
   ]
  },
  {
   "cell_type": "code",
   "execution_count": 127,
   "id": "ec6bf17e-d302-485f-be29-86071b22f2d2",
   "metadata": {},
   "outputs": [
    {
     "data": {
      "text/plain": [
       "array([12, 13, 14, 15, 16, 19, 31, 32, 38, 74], dtype=int32)"
      ]
     },
     "execution_count": 127,
     "metadata": {},
     "output_type": "execute_result"
    }
   ],
   "source": [
    "corner_dofs"
   ]
  },
  {
   "cell_type": "code",
   "execution_count": 125,
   "id": "a81c3aaa-668c-4f99-96fb-ef227931df27",
   "metadata": {},
   "outputs": [
    {
     "data": {
      "text/plain": [
       "array([12, 13, 14, 15, 16, 19, 31, 32, 38, 74], dtype=int32)"
      ]
     },
     "execution_count": 125,
     "metadata": {},
     "output_type": "execute_result"
    }
   ],
   "source": [
    "np.unique(MP.Constr[idx2,:].indices)"
   ]
  },
  {
   "cell_type": "code",
   "execution_count": 73,
   "id": "3c93c38e-f710-47f0-89af-5e2443a8308f",
   "metadata": {},
   "outputs": [
    {
     "data": {
      "text/plain": [
       "array([-1. ,  1. , -0.5, -0.5,  1. , -1. ,  1. , -0.5, -0.5,  1. , -1. ,  1. , -1. ,  1. , -1. ,  1. , -1. ,  1. , -0.5, -0.5,  1. , -1. ,  1. , -0.5, -0.5,  1. , -1. ,  1. ])"
      ]
     },
     "execution_count": 73,
     "metadata": {},
     "output_type": "execute_result"
    }
   ],
   "source": [
    "MP.Constr.data"
   ]
  },
  {
   "cell_type": "code",
   "execution_count": 44,
   "id": "14ead7a3-4b29-411c-baa1-d37cee9e795a",
   "metadata": {},
   "outputs": [],
   "source": [
    "MP.Constr.data[MP.Constr.data==-1]=0"
   ]
  },
  {
   "cell_type": "code",
   "execution_count": 47,
   "id": "21b02b2e-eef9-4bae-8d6a-dad4d20926cb",
   "metadata": {},
   "outputs": [
    {
     "data": {
      "text/plain": [
       "<Compressed Sparse Row sparse matrix of dtype 'float64'\n",
       "\twith 12 stored elements and shape (12, 12)>"
      ]
     },
     "execution_count": 47,
     "metadata": {},
     "output_type": "execute_result"
    }
   ],
   "source": [
    "MP.Constr[:,loc_c]"
   ]
  },
  {
   "cell_type": "code",
   "execution_count": 45,
   "id": "80f964cc-2ebb-4bc0-87b7-e064f2fb63ac",
   "metadata": {},
   "outputs": [
    {
     "data": {
      "text/plain": [
       "<Compressed Sparse Row sparse matrix of dtype 'float64'\n",
       "\twith 8 stored elements and shape (12, 12)>"
      ]
     },
     "execution_count": 45,
     "metadata": {},
     "output_type": "execute_result"
    }
   ],
   "source": [
    "MP.Constr[:,loc_c]+1*(MP.Constr[:,loc_c]!=0)"
   ]
  },
  {
   "cell_type": "code",
   "execution_count": 30,
   "id": "5a0529b9-d354-4a58-b282-e4c80da1652a",
   "metadata": {},
   "outputs": [],
   "source": [
    "idx2 = (MP.Constr[:,loc_c].getnnz(axis=1)>0)"
   ]
  },
  {
   "cell_type": "code",
   "execution_count": 32,
   "id": "253bf4d2-687f-45d8-af26-64451f3c6bb3",
   "metadata": {},
   "outputs": [
    {
     "data": {
      "text/plain": [
       "(array([ 0,  1,  3,  4,  7,  8, 10, 11]),)"
      ]
     },
     "execution_count": 32,
     "metadata": {},
     "output_type": "execute_result"
    }
   ],
   "source": [
    "np.where(idx2)"
   ]
  },
  {
   "cell_type": "code",
   "execution_count": 37,
   "id": "968a2aa2-d1fb-4691-8397-4d38a5c87637",
   "metadata": {},
   "outputs": [
    {
     "name": "stdout",
     "output_type": "stream",
     "text": [
      "<Compressed Sparse Row sparse matrix of dtype 'float64'\n",
      "\twith 8 stored elements and shape (8, 48)>\n",
      "  Coords\tValues\n",
      "  (1, 12)\t-0.5\n",
      "  (1, 13)\t-0.5\n",
      "  (2, 13)\t-0.5000000000000001\n",
      "  (2, 14)\t-0.5\n",
      "  (5, 13)\t-0.5000000000000001\n",
      "  (5, 14)\t-0.5\n",
      "  (6, 14)\t-0.4999999999999999\n",
      "  (6, 15)\t-0.5000000000000002\n"
     ]
    }
   ],
   "source": [
    "print((abs(MP.Constr)-1*(MP.Constr!=0))[idx2,:])"
   ]
  },
  {
   "cell_type": "code",
   "execution_count": 27,
   "id": "4b7d0974-d6f6-4cc0-ad07-5a3ef0e1b4d5",
   "metadata": {},
   "outputs": [
    {
     "data": {
      "text/plain": [
       "(array([ 0,  4,  7, 11]),)"
      ]
     },
     "execution_count": 27,
     "metadata": {},
     "output_type": "execute_result"
    }
   ],
   "source": [
    "np.where(idx)"
   ]
  },
  {
   "cell_type": "code",
   "execution_count": 385,
   "id": "7a9921a3-1f3a-49f6-a206-5516eda847b7",
   "metadata": {},
   "outputs": [
    {
     "data": {
      "text/plain": [
       "<Compressed Sparse Column sparse matrix of dtype 'float64'\n",
       "\twith 16 stored elements and shape (36, 9)>"
      ]
     },
     "execution_count": 385,
     "metadata": {},
     "output_type": "execute_result"
    }
   ],
   "source": [
    "c_Basis"
   ]
  },
  {
   "cell_type": "code",
   "execution_count": 386,
   "id": "4104e68c-ee25-497b-a6bc-4fff036f8871",
   "metadata": {},
   "outputs": [
    {
     "data": {
      "text/plain": [
       "<Compressed Sparse Column sparse matrix of dtype 'float64'\n",
       "\twith 12 stored elements and shape (36, 5)>"
      ]
     },
     "execution_count": 386,
     "metadata": {},
     "output_type": "execute_result"
    }
   ],
   "source": [
    "c_Basis[:,c_Basis.getnnz(axis=0)>1]"
   ]
  },
  {
   "cell_type": "code",
   "execution_count": 387,
   "id": "d07697b9-2cf8-437d-b367-c6cd473bce33",
   "metadata": {},
   "outputs": [],
   "source": [
    "dofs = c_Basis[:,c_Basis.getnnz(axis=0)>1].indices"
   ]
  },
  {
   "cell_type": "code",
   "execution_count": 388,
   "id": "2d7029e0-f6f7-46af-b67a-6ead36f29589",
   "metadata": {},
   "outputs": [],
   "source": [
    "sec = c_Basis[:,c_Basis.getnnz(axis=0)>1].indptr"
   ]
  },
  {
   "cell_type": "code",
   "execution_count": 389,
   "id": "aa24e47c-90cf-43cf-a95d-59353c7dd301",
   "metadata": {},
   "outputs": [
    {
     "data": {
      "text/plain": [
       "array([27,  2,  9,  6, 24, 17, 33, 18, 11,  8, 35, 20], dtype=int32)"
      ]
     },
     "execution_count": 389,
     "metadata": {},
     "output_type": "execute_result"
    }
   ],
   "source": [
    "dofs"
   ]
  },
  {
   "cell_type": "code",
   "execution_count": 390,
   "id": "e9f3b7a0-51b1-4ef6-9393-03b1c4e6bd33",
   "metadata": {},
   "outputs": [
    {
     "data": {
      "text/plain": [
       "array([ 0,  2,  4,  6, 10, 12], dtype=int32)"
      ]
     },
     "execution_count": 390,
     "metadata": {},
     "output_type": "execute_result"
    }
   ],
   "source": [
    "sec"
   ]
  },
  {
   "cell_type": "code",
   "execution_count": 391,
   "id": "c8068f75-5462-43e2-9fc5-ccc160ec790d",
   "metadata": {},
   "outputs": [
    {
     "data": {
      "text/plain": [
       "[array([27,  2], dtype=int32),\n",
       " array([9, 6], dtype=int32),\n",
       " array([24, 17], dtype=int32),\n",
       " array([33, 18, 11,  8], dtype=int32),\n",
       " array([35, 20], dtype=int32)]"
      ]
     },
     "execution_count": 391,
     "metadata": {},
     "output_type": "execute_result"
    }
   ],
   "source": [
    "np.split(dofs, sec[1:-1])"
   ]
  },
  {
   "cell_type": "code",
   "execution_count": 19,
   "id": "72173fd1-b3ab-43ed-af6b-a0e9b1c548d0",
   "metadata": {},
   "outputs": [],
   "source": [
    "# x = np.zeros(n)\n",
    "# x[loc_c] = 1\n",
    "# R = scipy.sparse.spdiags(x,0,n,n)\n",
    "# B_ = MP.Constr@R"
   ]
  },
  {
   "cell_type": "code",
   "execution_count": 20,
   "id": "e23b0131-a513-4812-8fc6-c5fe7c1220fc",
   "metadata": {},
   "outputs": [],
   "source": [
    "#fine_dofs = np.unique((B_==1).tocsr().indices)"
   ]
  },
  {
   "cell_type": "code",
   "execution_count": 21,
   "id": "21c6a110-917c-4b12-9d9f-9c16264781b5",
   "metadata": {},
   "outputs": [],
   "source": [
    "#np.unique(fine_dofs)"
   ]
  },
  {
   "cell_type": "code",
   "execution_count": 22,
   "id": "5cc6e5d6-dabe-4677-8041-6c6aba6ce331",
   "metadata": {},
   "outputs": [],
   "source": [
    "#idx2 = np.unique(MP.Constr[:,fine_dofs].tocsc().indices)"
   ]
  },
  {
   "cell_type": "code",
   "execution_count": 23,
   "id": "8c3354a6-53b8-4516-b9a5-68743c502471",
   "metadata": {},
   "outputs": [],
   "source": [
    "#B = MP.Constr[idx2,:]"
   ]
  },
  {
   "cell_type": "code",
   "execution_count": 24,
   "id": "233cc012-2984-459e-9914-0d1900375aba",
   "metadata": {},
   "outputs": [],
   "source": [
    "#B[B.getnnz(1)>2].toarray()"
   ]
  },
  {
   "cell_type": "code",
   "execution_count": null,
   "id": "777571c3-dd93-405e-ae4c-1a2f5830162a",
   "metadata": {},
   "outputs": [],
   "source": []
  },
  {
   "cell_type": "code",
   "execution_count": null,
   "id": "a054babb-95e6-4a96-899c-0d58a9e2d07a",
   "metadata": {},
   "outputs": [],
   "source": []
  },
  {
   "cell_type": "code",
   "execution_count": 25,
   "id": "b5e25211-3d6e-4d23-97be-683ef3fcc2ed",
   "metadata": {},
   "outputs": [],
   "source": [
    "Basis = algebra_cy.pyx_compute_basis(B.shape[0], B.shape[1], B, maxiter=5).tocsc()"
   ]
  },
  {
   "cell_type": "code",
   "execution_count": 26,
   "id": "f7d54d8d-92f0-4e87-af4f-dd1a41a8941a",
   "metadata": {},
   "outputs": [],
   "source": [
    "Basis = Basis[:,Basis.getnnz(axis=0)>1]"
   ]
  },
  {
   "cell_type": "code",
   "execution_count": 27,
   "id": "c43215fc-f5a6-4b96-9aef-98b2cd8c82da",
   "metadata": {},
   "outputs": [
    {
     "data": {
      "text/plain": [
       "(48, 5)"
      ]
     },
     "execution_count": 27,
     "metadata": {},
     "output_type": "execute_result"
    }
   ],
   "source": [
    "Basis.shape"
   ]
  },
  {
   "cell_type": "code",
   "execution_count": 28,
   "id": "11d72bf3-0d96-4834-8cfc-43df02638f3b",
   "metadata": {},
   "outputs": [
    {
     "data": {
      "text/plain": [
       "array([[0. , 0. , 0. , 0. , 0. ],\n",
       "       [0. , 0. , 0. , 0. , 0. ],\n",
       "       [0. , 0. , 0. , 0. , 0. ],\n",
       "       [0. , 0. , 0. , 0. , 0. ],\n",
       "       [0. , 0. , 0. , 0. , 0. ],\n",
       "       [0. , 0. , 0. , 0. , 0. ],\n",
       "       [0. , 0. , 0. , 0. , 0. ],\n",
       "       [0. , 0. , 0. , 0. , 0. ],\n",
       "       [0. , 0. , 0. , 0. , 0. ],\n",
       "       [0. , 0. , 0. , 0. , 0. ],\n",
       "       [0. , 0. , 0. , 0. , 0. ],\n",
       "       [0. , 0. , 0. , 0. , 0. ],\n",
       "       [1. , 0. , 0. , 0. , 0. ],\n",
       "       [0. , 1. , 0. , 0. , 0. ],\n",
       "       [0. , 0. , 1. , 0. , 0. ],\n",
       "       [0. , 0. , 0. , 1. , 0. ],\n",
       "       [1. , 0. , 0. , 0. , 0. ],\n",
       "       [0. , 0. , 0. , 0. , 0. ],\n",
       "       [0. , 0. , 0. , 0. , 0. ],\n",
       "       [0. , 0.5, 0.5, 0. , 0. ],\n",
       "       [0. , 0. , 0. , 0. , 0. ],\n",
       "       [0. , 0. , 0. , 0. , 0. ],\n",
       "       [0. , 0. , 0. , 0. , 0. ],\n",
       "       [0. , 0. , 0. , 0. , 0. ],\n",
       "       [0. , 0. , 0. , 0. , 0. ],\n",
       "       [0. , 0. , 0. , 0. , 0. ],\n",
       "       [0. , 0. , 0. , 0. , 0. ],\n",
       "       [0. , 0. , 0. , 0. , 0. ],\n",
       "       [0. , 0. , 0. , 0. , 0. ],\n",
       "       [0. , 0. , 0. , 0. , 0. ],\n",
       "       [0. , 0. , 0. , 0. , 0. ],\n",
       "       [0. , 0. , 0. , 0. , 1. ],\n",
       "       [0. , 0.5, 0.5, 0. , 0. ],\n",
       "       [0. , 0. , 0. , 0. , 0. ],\n",
       "       [0. , 0. , 0. , 0. , 0. ],\n",
       "       [0. , 0. , 0. , 1. , 0. ],\n",
       "       [0. , 0. , 0. , 0. , 0. ],\n",
       "       [0. , 0. , 0. , 0. , 0. ],\n",
       "       [0. , 0. , 0. , 0. , 0. ],\n",
       "       [0. , 0. , 0. , 0. , 0. ],\n",
       "       [0. , 0. , 0. , 0. , 0. ],\n",
       "       [0. , 0. , 0. , 0. , 0. ],\n",
       "       [0. , 0. , 0. , 0. , 0. ],\n",
       "       [0. , 0. , 0. , 0. , 0. ],\n",
       "       [0. , 0. , 0. , 0. , 1. ],\n",
       "       [0. , 0. , 0. , 0. , 0. ],\n",
       "       [0. , 0. , 0. , 0. , 0. ],\n",
       "       [0. , 0. , 0. , 0. , 0. ]])"
      ]
     },
     "execution_count": 28,
     "metadata": {},
     "output_type": "execute_result"
    }
   ],
   "source": [
    "Basis.toarray()"
   ]
  },
  {
   "cell_type": "code",
   "execution_count": 450,
   "id": "f39612c8-5125-4b63-b4a3-5f440c4baad1",
   "metadata": {},
   "outputs": [],
   "source": [
    "fine_dofs = Basis.indices[Basis.indptr[:-1]]"
   ]
  },
  {
   "cell_type": "code",
   "execution_count": 235,
   "id": "07118a80-b88f-4326-9631-824a71cb8567",
   "metadata": {},
   "outputs": [],
   "source": [
    "sys.setrecursionlimit(100000)\n",
    "N = 1000\n",
    "A = np.random.rand(N,N)\n",
    "L = 10000*[aslinearoperator(A)]\n",
    "S = np.array(L).sum()\n",
    "x = np.random.rand(N)"
   ]
  },
  {
   "cell_type": "code",
   "execution_count": 236,
   "id": "391479bc-b276-4b43-ac63-af42838912ef",
   "metadata": {},
   "outputs": [
    {
     "name": "stdout",
     "output_type": "stream",
     "text": [
      "550 ms ± 110 ms per loop (mean ± std. dev. of 7 runs, 1 loop each)\n"
     ]
    }
   ],
   "source": [
    "%timeit S@x"
   ]
  },
  {
   "cell_type": "code",
   "execution_count": 237,
   "id": "1bdc5bf2-386a-4a12-8b06-1e5d74ce3adf",
   "metadata": {},
   "outputs": [],
   "source": [
    "X = SumOperator(L)"
   ]
  },
  {
   "cell_type": "code",
   "execution_count": 238,
   "id": "481b200b-76a8-410e-95fa-2a1c982f349a",
   "metadata": {},
   "outputs": [
    {
     "name": "stdout",
     "output_type": "stream",
     "text": [
      "505 ms ± 18.4 ms per loop (mean ± std. dev. of 7 runs, 1 loop each)\n"
     ]
    }
   ],
   "source": [
    "%timeit X@x"
   ]
  },
  {
   "cell_type": "code",
   "execution_count": 221,
   "id": "608daa23-607b-4c2a-be5d-4039cd097fae",
   "metadata": {},
   "outputs": [
    {
     "data": {
      "text/plain": [
       "<3x2 SumOperator with dtype=int64>"
      ]
     },
     "execution_count": 221,
     "metadata": {},
     "output_type": "execute_result"
    }
   ],
   "source": [
    "X"
   ]
  },
  {
   "cell_type": "code",
   "execution_count": 154,
   "id": "01ac3804-1299-4aab-b1ef-60e6b981a34c",
   "metadata": {},
   "outputs": [
    {
     "data": {
      "text/plain": [
       "dtype('int64')"
      ]
     },
     "execution_count": 154,
     "metadata": {},
     "output_type": "execute_result"
    }
   ],
   "source": [
    "L[0].dtype"
   ]
  },
  {
   "cell_type": "code",
   "execution_count": 140,
   "id": "5dba7705-4db2-4e7b-8734-79e0e147a64a",
   "metadata": {},
   "outputs": [
    {
     "data": {
      "text/plain": [
       "True"
      ]
     },
     "execution_count": 140,
     "metadata": {},
     "output_type": "execute_result"
    }
   ],
   "source": [
    "np.all((np.array([s.shape for s in L])-np.tile(L[0].shape,len(L)).reshape(-1,2))==0)"
   ]
  },
  {
   "cell_type": "code",
   "execution_count": 198,
   "id": "d52368f4-878f-4c52-9d9d-97cb947158ae",
   "metadata": {},
   "outputs": [],
   "source": [
    "class SumOperator(scipy.sparse.linalg.LinearOperator):\n",
    "    \"\"\"A :class:`LinearOperator` which implements the \n",
    "    application of an arbitrary sum of given input operators \n",
    "    without(!) using recursive structures.\n",
    "    \"\"\"\n",
    "    def __init__(self, ops):\n",
    "        self.N = len(ops)\n",
    "        assert np.all((np.array([op.shape for op in ops])-np.tile(ops[0].shape,self.N).reshape(-1,2))==0)\n",
    "        self.ops = ops\n",
    "        self.shape = ops[0].shape\n",
    "        scipy.sparse.linalg.LinearOperator.__init__(self, ops[0].dtype, self.shape)\n",
    "        \n",
    "    def _matvec(self, x):\n",
    "        return np.array([op@x for op in self.ops]).sum(axis=0)\n",
    "\n",
    "    def _transpose(self):\n",
    "        return SumOperator([op.T for op in self.ops])\n",
    "        "
   ]
  },
  {
   "cell_type": "code",
   "execution_count": 128,
   "id": "91ebd2ab-c03b-41b2-b649-93c5663cd0ec",
   "metadata": {},
   "outputs": [
    {
     "data": {
      "text/plain": [
       "True"
      ]
     },
     "execution_count": 128,
     "metadata": {},
     "output_type": "execute_result"
    }
   ],
   "source": [
    "np.all(np.array([1,1,1])==1)"
   ]
  },
  {
   "cell_type": "code",
   "execution_count": 136,
   "id": "16d11325-e7e6-4516-a34b-96d8fe20d447",
   "metadata": {},
   "outputs": [
    {
     "data": {
      "text/plain": [
       "array([[3, 2],\n",
       "       [3, 2],\n",
       "       [3, 2]])"
      ]
     },
     "execution_count": 136,
     "metadata": {},
     "output_type": "execute_result"
    }
   ],
   "source": [
    "np.tile(L[0].shape,len(L)).reshape(-1,2)"
   ]
  },
  {
   "cell_type": "code",
   "execution_count": null,
   "id": "ebeee517-239b-41c8-a7e9-0c8f77a73fc8",
   "metadata": {},
   "outputs": [],
   "source": []
  }
 ],
 "metadata": {
  "kernelspec": {
   "display_name": "Python 3 (ipykernel)",
   "language": "python",
   "name": "python3"
  },
  "language_info": {
   "codemirror_mode": {
    "name": "ipython",
    "version": 3
   },
   "file_extension": ".py",
   "mimetype": "text/x-python",
   "name": "python",
   "nbconvert_exporter": "python",
   "pygments_lexer": "ipython3",
   "version": "3.11.10"
  }
 },
 "nbformat": 4,
 "nbformat_minor": 5
}
