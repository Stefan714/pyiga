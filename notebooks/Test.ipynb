{
 "cells": [
  {
   "cell_type": "code",
   "execution_count": 1,
   "id": "b2ed1a9e-adbe-4ebf-806f-00d449d6ca14",
   "metadata": {},
   "outputs": [
    {
     "name": "stdout",
     "output_type": "stream",
     "text": [
      "Populating the interactive namespace from numpy and matplotlib\n"
     ]
    }
   ],
   "source": [
    "%pylab inline\n",
    "import scipy\n",
    "from scipy.sparse import coo_matrix, csr_matrix, csc_matrix, block_diag, identity, hstack\n",
    "#import matplotlib as mpl\n",
    "import matplotlib.pyplot as plt\n",
    "from pyiga import bspline, vform, geometry, vis, solvers, utils, topology\n",
    "from pyiga import assemble\n",
    "#from patchmesh import *\n",
    "from sksparse.cholmod import cholesky\n",
    "#from patchmesh3D import *\n",
    "#from multipatch import *\n",
    "from pyiga import adaptive as adap\n",
    "\n",
    "np.set_printoptions(linewidth=100000)\n",
    "np.set_printoptions(precision=5)\n",
    "np.set_printoptions(formatter={'float_kind':\"{:.3f}\".format})"
   ]
  },
  {
   "cell_type": "code",
   "execution_count": 7,
   "id": "4199aa61-1b33-4ab2-aa3b-59b1ef0f839d",
   "metadata": {},
   "outputs": [
    {
     "name": "stdout",
     "output_type": "stream",
     "text": [
      "Basis setup took 0.0019071102142333984 seconds\n",
      "0\n",
      "Refinement took 0.002778291702270508 seconds\n",
      "Basis setup took 0.007547855377197266 seconds\n",
      "Prolongation took 0.010450363159179688 seconds\n",
      "1\n",
      "Refinement took 0.002301454544067383 seconds\n",
      "Basis setup took 0.006481170654296875 seconds\n",
      "Prolongation took 0.008751869201660156 seconds\n",
      "2\n",
      "Refinement took 0.0016143321990966797 seconds\n",
      "Basis setup took 0.008377552032470703 seconds\n",
      "Prolongation took 0.0056645870208740234 seconds\n",
      "3\n",
      "Refinement took 0.0012743473052978516 seconds\n",
      "Basis setup took 0.007798671722412109 seconds\n",
      "Prolongation took 0.004569292068481445 seconds\n",
      "4\n",
      "Refinement took 0.0010495185852050781 seconds\n",
      "Basis setup took 0.0063323974609375 seconds\n",
      "Prolongation took 0.004408597946166992 seconds\n",
      "5\n",
      "Refinement took 0.0010263919830322266 seconds\n",
      "Basis setup took 0.0068399906158447266 seconds\n",
      "Prolongation took 0.004123210906982422 seconds\n",
      "6\n",
      "Refinement took 0.001013040542602539 seconds\n",
      "Basis setup took 0.0064868927001953125 seconds\n",
      "Prolongation took 0.004101276397705078 seconds\n",
      "7\n",
      "Refinement took 0.0010175704956054688 seconds\n",
      "Basis setup took 0.006843090057373047 seconds\n",
      "Prolongation took 0.004518747329711914 seconds\n",
      "8\n",
      "Refinement took 0.0010874271392822266 seconds\n",
      "Basis setup took 0.0071256160736083984 seconds\n",
      "Prolongation took 0.004140138626098633 seconds\n",
      "9\n",
      "Refinement took 0.0010750293731689453 seconds\n",
      "Basis setup took 0.007398128509521484 seconds\n",
      "Prolongation took 0.0042722225189208984 seconds\n",
      "10\n",
      "Refinement took 0.0011277198791503906 seconds\n",
      "Basis setup took 0.007596254348754883 seconds\n",
      "Prolongation took 0.004129171371459961 seconds\n",
      "11\n",
      "Refinement took 0.0011227130889892578 seconds\n",
      "Basis setup took 0.007891654968261719 seconds\n",
      "Prolongation took 0.004147052764892578 seconds\n",
      "12\n",
      "Refinement took 0.001253366470336914 seconds\n",
      "Basis setup took 0.009426355361938477 seconds\n",
      "Prolongation took 0.004491090774536133 seconds\n",
      "13\n",
      "Refinement took 0.0012226104736328125 seconds\n",
      "Basis setup took 0.00846719741821289 seconds\n",
      "Prolongation took 0.004134178161621094 seconds\n",
      "14\n",
      "Refinement took 0.0012662410736083984 seconds\n",
      "Basis setup took 0.008632659912109375 seconds\n",
      "Prolongation took 0.004150390625 seconds\n",
      "15\n",
      "Refinement took 0.0012590885162353516 seconds\n",
      "Basis setup took 0.008893489837646484 seconds\n",
      "Prolongation took 0.0041730403900146484 seconds\n",
      "16\n",
      "Refinement took 0.0012636184692382812 seconds\n",
      "Basis setup took 0.009236574172973633 seconds\n",
      "Prolongation took 0.004584550857543945 seconds\n",
      "17\n",
      "Refinement took 0.0013573169708251953 seconds\n",
      "Basis setup took 0.009515523910522461 seconds\n",
      "Prolongation took 0.0041904449462890625 seconds\n",
      "18\n",
      "Refinement took 0.0013473033905029297 seconds\n",
      "Basis setup took 0.009741067886352539 seconds\n",
      "Prolongation took 0.004183769226074219 seconds\n",
      "19\n",
      "Refinement took 0.0013532638549804688 seconds\n",
      "Basis setup took 0.009197235107421875 seconds\n",
      "Prolongation took 0.0041544437408447266 seconds\n"
     ]
    }
   ],
   "source": [
    "deg=3\n",
    "kvs = [2 * (bspline.make_knots(deg, 0.0, 1.0, 3),)]\n",
    "geos = [geometry.unit_square()]\n",
    "patches = [(k, g) for k, g in zip(kvs,geos)]\n",
    "M = topology.PatchMesh(patches)\n",
    "MP = assemble.Multipatch(M, automatch=True)\n",
    "maxiter=20\n",
    "for i in range(maxiter):\n",
    "    print(i)\n",
    "    P = MP.h_refine(h_ref={i:(i+1)%2}, return_P=True)\n",
    "# MP.h_refine(h_ref=0);\n",
    "# MP.h_refine(h_ref={1:1});\n",
    "# MP.h_refine(h_ref={1:1});\n",
    "# MP.h_refine(h_ref={2:1});\n",
    "# MP.h_refine(h_ref={0:-1,1:0,2:None,3:-1});\n",
    "#MP.patch_refine(h_ref={3:None});\n",
    "#u_= MP.L2projection(lambda x,y: x+y+x*y**2)\n",
    "# MP.mesh.draw(plt.figure())\n",
    "# axis('scaled');\n",
    "\n",
    "#MP.plot(u_)\n",
    "#MP.mesh.draw(knots=True)\n",
    "#axis('scaled');\n",
    "#plt.show()\n",
    "#P=MP.p_refine(p_inc=1, return_P=True)\n",
    "#u_1= MP.L2projection(lambda x,y: x+y+x*y**2)\n",
    "# MP.mesh.draw(plt.figure())\n",
    "# axis('scaled');\n",
    "#MP.plot(P@u_-u_1)\n",
    "#MP.mesh.draw(knots=True)"
   ]
  },
  {
   "cell_type": "code",
   "execution_count": 8,
   "id": "03dad88d-4fd9-4af0-82d4-08b1a4137acc",
   "metadata": {},
   "outputs": [
    {
     "data": {
      "image/png": "[encoded data removed]",
      "text/plain": [
       "<Figure size 640x480 with 1 Axes>"
      ]
     },
     "metadata": {},
     "output_type": "display_data"
    }
   ],
   "source": [
    "MP.mesh.draw(vertex_idx=True, patch_idx=True, knots=True)"
   ]
  },
  {
   "cell_type": "code",
   "execution_count": 9,
   "id": "b12b68b4-e0f2-49a8-a3ad-0f67f76b20c1",
   "metadata": {},
   "outputs": [
    {
     "data": {
      "text/plain": [
       "0.0"
      ]
     },
     "execution_count": 9,
     "metadata": {},
     "output_type": "execute_result"
    }
   ],
   "source": [
    "scipy.sparse.linalg.norm(MP.P2G@MP.Basis-scipy.sparse.identity(MP.numdofs))"
   ]
  },
  {
   "cell_type": "code",
   "execution_count": 10,
   "id": "85e9c510-9cbb-40c6-8787-325d77703713",
   "metadata": {},
   "outputs": [
    {
     "data": {
      "text/plain": [
       "True"
      ]
     },
     "execution_count": 10,
     "metadata": {},
     "output_type": "execute_result"
    }
   ],
   "source": [
    "abs(MP.Constr@MP.Basis).max()<1e-12"
   ]
  },
  {
   "cell_type": "code",
   "execution_count": 11,
   "id": "a6c1a750-7795-4e13-b0f3-dc6cc18be5b7",
   "metadata": {},
   "outputs": [],
   "source": [
    "MP.sanity_check()"
   ]
  },
  {
   "cell_type": "code",
   "execution_count": 33,
   "id": "1ebcb034-247c-4232-8b76-5de409e8c6d8",
   "metadata": {},
   "outputs": [],
   "source": [
    "X = scipy.sparse.csc_matrix((B.data[B.indptr[:-1]],B.indices[B.indptr[:-1]],np.arange(B.shape[1]+1)),shape=B.shape)"
   ]
  },
  {
   "cell_type": "code",
   "execution_count": 34,
   "id": "7e48c006-daa2-4ff2-b332-b44e650d2508",
   "metadata": {},
   "outputs": [
    {
     "data": {
      "text/plain": [
       "array([[1.000, 0.000, 0.000, 0.000, 0.000, 0.000, 0.000],\n",
       "       [0.000, 1.000, 0.000, 0.000, 0.000, 0.000, 0.000],\n",
       "       [0.000, 0.000, 1.000, 0.000, 0.000, 0.000, 0.000],\n",
       "       [0.000, 0.000, 0.000, 1.000, 0.000, 0.000, 0.000],\n",
       "       [0.000, 0.000, 0.000, 0.000, 1.000, 0.000, 0.000],\n",
       "       [0.000, 0.000, 0.000, 0.000, 0.000, 1.000, 0.000],\n",
       "       [0.000, 0.000, 0.000, 0.000, 0.000, 0.000, 1.000]])"
      ]
     },
     "execution_count": 34,
     "metadata": {},
     "output_type": "execute_result"
    }
   ],
   "source": [
    "X.T@B"
   ]
  },
  {
   "cell_type": "code",
   "execution_count": 36,
   "id": "09e8a021-704b-4990-981e-366bdad64a44",
   "metadata": {},
   "outputs": [
    {
     "data": {
      "text/plain": [
       "array([[1.000, 0.000, 0.000, 0.000, 0.000, 0.000, 0.000, 0.000, 0.000, 0.000, 0.000, 0.000],\n",
       "       [0.000, 1.000, 0.000, 0.000, 0.000, 0.000, 0.000, 0.000, 0.000, 0.000, 0.000, 0.000],\n",
       "       [0.000, 0.000, 1.000, 0.000, 0.000, 0.000, 0.000, 0.000, 0.000, 0.000, 0.000, 0.000],\n",
       "       [0.000, 0.000, 0.000, 1.000, 0.000, 0.000, 0.000, 0.000, 0.000, 0.000, 0.000, 0.000],\n",
       "       [0.000, 0.000, 0.000, 0.000, 1.000, 0.000, 0.000, 0.000, 0.000, 0.000, 0.000, 0.000],\n",
       "       [0.000, 0.000, 0.000, 0.000, 0.000, 1.000, 0.000, 0.000, 0.000, 0.000, 0.000, 0.000],\n",
       "       [0.000, 0.000, 0.000, 0.000, 0.000, 0.000, 1.000, 0.000, 0.000, 0.000, 0.000, 0.000],\n",
       "       [0.000, 0.000, 0.000, 0.000, 0.000, 0.000, 0.000, 1.000, 0.000, 0.000, 0.000, 0.000],\n",
       "       [0.000, 0.000, 0.000, 0.000, 0.000, 0.000, 0.000, 0.000, 1.000, 0.000, 0.000, 0.000],\n",
       "       [0.000, 0.000, 0.000, 0.000, 0.000, 0.000, 0.000, 0.000, 0.000, 1.000, 0.000, 0.000],\n",
       "       [0.000, 0.000, 0.000, 0.000, 0.000, 0.000, 0.000, 0.000, 0.000, 0.000, 1.000, 0.000],\n",
       "       [0.000, 0.000, 0.000, 0.000, 0.000, 0.000, 0.000, 0.000, 0.000, 0.000, 0.000, 1.000]])"
      ]
     },
     "execution_count": 36,
     "metadata": {},
     "output_type": "execute_result"
    }
   ],
   "source": [
    "scipy.sparse.spdiags(D,[0],len(D),len(D)).A"
   ]
  },
  {
   "cell_type": "code",
   "execution_count": 12,
   "id": "04e4e34b-cbe9-4ed2-b3d1-bbba2c729d40",
   "metadata": {},
   "outputs": [
    {
     "data": {
      "text/plain": [
       "array([ 0,  1,  4,  6,  8,  2,  3,  6,  8, 10,  5,  7,  9, 11], dtype=int32)"
      ]
     },
     "execution_count": 12,
     "metadata": {},
     "output_type": "execute_result"
    }
   ],
   "source": [
    "MP.Basis.indices"
   ]
  },
  {
   "cell_type": "code",
   "execution_count": 55,
   "id": "dc8453d8-d1ca-493c-b92e-b875b4517ca6",
   "metadata": {},
   "outputs": [
    {
     "data": {
      "text/plain": [
       "array([[3]])"
      ]
     },
     "execution_count": 55,
     "metadata": {},
     "output_type": "execute_result"
    }
   ],
   "source": [
    "scipy.sparse.csc_matrix(3).A"
   ]
  },
  {
   "cell_type": "code",
   "execution_count": 51,
   "id": "b593f8f2-b621-4170-b553-e1bc061a4669",
   "metadata": {},
   "outputs": [],
   "source": [
    "data, I, J = MP.Basis.data, MP.Basis.row, MP.Basis.col\n",
    "idx=np.where(data==1)[0]\n",
    "MP.Basis.data, MP.Basis.row, MP.Basis.col = data[idx], I[idx], J[idx]"
   ]
  },
  {
   "cell_type": "code",
   "execution_count": 52,
   "id": "7d0977f8-a65c-4812-abec-27512ef94582",
   "metadata": {},
   "outputs": [
    {
     "data": {
      "text/plain": [
       "array([[1.000, 0.000, 0.000, 0.000, 0.000, 0.000, 0.000, 0.000, 0.000, 0.000],\n",
       "       [0.000, 2.000, 0.000, 0.000, 0.000, 0.000, 0.000, 0.000, 0.000, 0.000],\n",
       "       [0.000, 0.000, 1.000, 0.000, 0.000, 0.000, 0.000, 0.000, 0.000, 0.000],\n",
       "       [0.000, 0.000, 0.000, 2.000, 0.000, 0.000, 0.000, 0.000, 0.000, 0.000],\n",
       "       [0.000, 0.000, 0.000, 0.000, 1.000, 0.000, 0.000, 0.000, 0.000, 0.000],\n",
       "       [0.000, 0.000, 0.000, 0.000, 0.000, 2.000, 0.000, 0.000, 0.000, 0.000],\n",
       "       [0.000, 0.000, 0.000, 0.000, 0.000, 0.000, 2.000, 0.000, 0.000, 0.000],\n",
       "       [0.000, 0.000, 0.000, 0.000, 0.000, 0.000, 0.000, 2.000, 0.000, 0.000],\n",
       "       [0.000, 0.000, 0.000, 0.000, 0.000, 0.000, 0.000, 0.000, 2.000, 0.000],\n",
       "       [0.000, 0.000, 0.000, 0.000, 0.000, 0.000, 0.000, 0.000, 0.000, 1.000]])"
      ]
     },
     "execution_count": 52,
     "metadata": {},
     "output_type": "execute_result"
    }
   ],
   "source": [
    "MP.Basis.T@MP.Basis.A"
   ]
  },
  {
   "cell_type": "code",
   "execution_count": 34,
   "id": "80b7fea2-3ee2-4080-a5a0-d0f8baa88863",
   "metadata": {},
   "outputs": [],
   "source": [
    "idx=np.where(data==1)[0]"
   ]
  },
  {
   "cell_type": "code",
   "execution_count": 36,
   "id": "5c36b96a-bf3f-4f29-8e06-e0b9189a940b",
   "metadata": {},
   "outputs": [
    {
     "data": {
      "text/plain": [
       "array([ 0,  1,  2,  3,  4,  5,  8, 11, 12, 13])"
      ]
     },
     "execution_count": 36,
     "metadata": {},
     "output_type": "execute_result"
    }
   ],
   "source": [
    "idx"
   ]
  },
  {
   "cell_type": "code",
   "execution_count": null,
   "id": "c39b97e2-2b86-4ad4-9e97-a956397b8f0e",
   "metadata": {},
   "outputs": [],
   "source": []
  },
  {
   "cell_type": "code",
   "execution_count": 35,
   "id": "f05d5c25-83c8-4921-a0aa-800df4e51306",
   "metadata": {},
   "outputs": [
    {
     "data": {
      "text/plain": [
       "array([0, 1, 2, 3, 1, 4, 5, 5, 3, 6], dtype=int32)"
      ]
     },
     "execution_count": 35,
     "metadata": {},
     "output_type": "execute_result"
    }
   ],
   "source": [
    "MP.Basis.col[idx]"
   ]
  },
  {
   "cell_type": "code",
   "execution_count": 30,
   "id": "a6877104-de17-4c8a-b32f-a163b7eca5ef",
   "metadata": {},
   "outputs": [
    {
     "data": {
      "text/plain": [
       "array([1.000, 1.000, 1.000, 1.000, 1.000, 1.000, 0.500, 0.500, 1.000, 0.500, 0.500, 1.000, 1.000, 1.000])"
      ]
     },
     "execution_count": 30,
     "metadata": {},
     "output_type": "execute_result"
    }
   ],
   "source": [
    "MP.Basis.data"
   ]
  },
  {
   "cell_type": "code",
   "execution_count": 21,
   "id": "3aad46c9-3830-4dbc-8178-5d6006904d5d",
   "metadata": {},
   "outputs": [
    {
     "data": {
      "text/plain": [
       "array([[1.000, 0.000, 0.000, 0.000, 0.000, 0.000, 0.000],\n",
       "       [0.000, 2.500, 0.000, 0.500, 0.000, 0.000, 0.000],\n",
       "       [0.000, 0.000, 1.000, 0.000, 0.000, 0.000, 0.000],\n",
       "       [0.000, 0.500, 0.000, 2.500, 0.000, 0.000, 0.000],\n",
       "       [0.000, 0.000, 0.000, 0.000, 1.000, 0.000, 0.000],\n",
       "       [0.000, 0.000, 0.000, 0.000, 0.000, 2.000, 0.000],\n",
       "       [0.000, 0.000, 0.000, 0.000, 0.000, 0.000, 1.000]])"
      ]
     },
     "execution_count": 21,
     "metadata": {},
     "output_type": "execute_result"
    }
   ],
   "source": [
    "MP.Basis.T@MP.Basis.A"
   ]
  },
  {
   "cell_type": "code",
   "execution_count": 6,
   "id": "ed7b6bfd-8982-4020-a9e9-05076a83282a",
   "metadata": {},
   "outputs": [],
   "source": [
    "I1 = list(M.interfaces.keys())"
   ]
  },
  {
   "cell_type": "code",
   "execution_count": 7,
   "id": "c8ad1a73-d5e3-4ed6-85dc-706099929849",
   "metadata": {},
   "outputs": [],
   "source": [
    "I2 = [i[0] for i in M.interfaces.values()]"
   ]
  },
  {
   "cell_type": "code",
   "execution_count": 8,
   "id": "f959478c-ef1c-463e-9fa1-8ea98284c451",
   "metadata": {},
   "outputs": [
    {
     "data": {
      "text/plain": [
       "True"
      ]
     },
     "execution_count": 8,
     "metadata": {},
     "output_type": "execute_result"
    }
   ],
   "source": [
    "set(I1)==set(I2)"
   ]
  },
  {
   "cell_type": "code",
   "execution_count": 9,
   "id": "bbbf082b-2f66-4619-97fa-8d8e66bca3ff",
   "metadata": {},
   "outputs": [],
   "source": [
    "V = np.array(M.vertices)"
   ]
  },
  {
   "cell_type": "code",
   "execution_count": 5,
   "id": "4675d851-2c2d-45ef-b409-3612d2c5ded1",
   "metadata": {},
   "outputs": [],
   "source": [
    "I = [[b for b in M.boundaries(p)] for p in range(M.numpatches)]"
   ]
  },
  {
   "cell_type": "code",
   "execution_count": 20,
   "id": "2cc4b577-2c6b-457f-afac-9cee675f45f8",
   "metadata": {},
   "outputs": [
    {
     "data": {
      "text/plain": [
       "True"
      ]
     },
     "execution_count": 20,
     "metadata": {},
     "output_type": "execute_result"
    }
   ],
   "source": [
    "np.any([True,False])"
   ]
  },
  {
   "cell_type": "code",
   "execution_count": 8,
   "id": "53f855f9-2579-452b-9305-92d6461c65a1",
   "metadata": {},
   "outputs": [],
   "source": [
    "S=np.array([[len(b)-1 for b in i] for i in I])"
   ]
  },
  {
   "cell_type": "code",
   "execution_count": 9,
   "id": "a9b113f9-79dc-41fc-8aa9-d951ff023cf3",
   "metadata": {},
   "outputs": [
    {
     "name": "stdout",
     "output_type": "stream",
     "text": [
      "[[1 1 1 2]\n",
      " [1 2 1 1]\n",
      " [1 1 1 2]\n",
      " [1 2 1 1]\n",
      " [1 1 1 1]\n",
      " [1 1 1 1]]\n"
     ]
    }
   ],
   "source": [
    "print(S)"
   ]
  },
  {
   "cell_type": "code",
   "execution_count": 10,
   "id": "29413ae0-4077-4aa4-9e3f-e80261b7a7e5",
   "metadata": {},
   "outputs": [
    {
     "data": {
      "text/plain": [
       "True"
      ]
     },
     "execution_count": 10,
     "metadata": {},
     "output_type": "execute_result"
    }
   ],
   "source": [
    "np.all(S>0)"
   ]
  },
  {
   "cell_type": "code",
   "execution_count": 15,
   "id": "71a69d84-35b4-4182-814d-9e4d2bfe6bf4",
   "metadata": {},
   "outputs": [
    {
     "data": {
      "text/plain": [
       "True"
      ]
     },
     "execution_count": 15,
     "metadata": {},
     "output_type": "execute_result"
    }
   ],
   "source": [
    "np.all(np.array(I1)[:,2]<S[np.array(I1)[:,0],np.array(I1)[:,1]])"
   ]
  },
  {
   "cell_type": "code",
   "execution_count": 72,
   "id": "b7696081-07af-4cbd-8d73-549ef063f8b4",
   "metadata": {},
   "outputs": [],
   "source": [
    "I[0,0,0]=1"
   ]
  },
  {
   "cell_type": "code",
   "execution_count": 65,
   "id": "631ddbe4-3ffa-4e51-928e-613974e4e89b",
   "metadata": {},
   "outputs": [],
   "source": [
    "B=0\n",
    "T=1\n",
    "L=2\n",
    "R=3\n",
    "\n",
    "assert np.all(I[:,0,0]==I[:,2,0])\n",
    "assert np.all(I[:,0,1]==I[:,3,0])\n",
    "assert np.all(I[:,1,0]==I[:,2,1])\n",
    "assert np.all(I[:,1,1]==I[:,3,1])"
   ]
  },
  {
   "cell_type": "code",
   "execution_count": null,
   "id": "1101b7b8-e50f-4073-ac85-18434098dba3",
   "metadata": {},
   "outputs": [],
   "source": []
  },
  {
   "cell_type": "code",
   "execution_count": 89,
   "id": "6ddf909c-7448-4799-a15a-8bc001c7fe6a",
   "metadata": {},
   "outputs": [
    {
     "data": {
      "text/plain": [
       "'[0 1]'"
      ]
     },
     "execution_count": 89,
     "metadata": {},
     "output_type": "execute_result"
    }
   ],
   "source": [
    "str(np.where((I[:,0,0]==I[:,2,0])==False)[0])"
   ]
  },
  {
   "cell_type": "code",
   "execution_count": 56,
   "id": "0578a7e4-489f-4f79-bc8e-1b88f4957f9e",
   "metadata": {},
   "outputs": [
    {
     "data": {
      "text/plain": [
       "array([[[[0.000, 0.000],\n",
       "         [0.500, 0.000]],\n",
       "\n",
       "        [[0.000, 1.000],\n",
       "         [0.500, 1.000]]],\n",
       "\n",
       "\n",
       "       [[[0.500, 0.000],\n",
       "         [1.000, 0.000]],\n",
       "\n",
       "        [[0.500, 0.500],\n",
       "         [1.000, 0.500]]],\n",
       "\n",
       "\n",
       "       [[[0.500, 0.500],\n",
       "         [0.750, 0.500]],\n",
       "\n",
       "        [[0.500, 1.000],\n",
       "         [0.750, 1.000]]],\n",
       "\n",
       "\n",
       "       [[[0.750, 0.500],\n",
       "         [1.000, 0.500]],\n",
       "\n",
       "        [[0.750, 0.750],\n",
       "         [1.000, 0.750]]],\n",
       "\n",
       "\n",
       "       [[[0.750, 0.750],\n",
       "         [0.875, 0.750]],\n",
       "\n",
       "        [[0.750, 1.000],\n",
       "         [0.875, 1.000]]],\n",
       "\n",
       "\n",
       "       [[[0.875, 0.750],\n",
       "         [1.000, 0.750]],\n",
       "\n",
       "        [[0.875, 1.000],\n",
       "         [1.000, 1.000]]]])"
      ]
     },
     "execution_count": 56,
     "metadata": {},
     "output_type": "execute_result"
    }
   ],
   "source": [
    "V[I[:,0:2]]"
   ]
  },
  {
   "cell_type": "code",
   "execution_count": 57,
   "id": "f05252f0-9007-48ac-b654-073ba7b5befa",
   "metadata": {},
   "outputs": [
    {
     "data": {
      "text/plain": [
       "True"
      ]
     },
     "execution_count": 57,
     "metadata": {},
     "output_type": "execute_result"
    }
   ],
   "source": [
    "np.all(np.isclose(V[I[:,0:2]],np.array([topology.corners(geo) for geo in M.geos])))"
   ]
  },
  {
   "cell_type": "code",
   "execution_count": 35,
   "id": "2768f453-d109-4bdf-bb61-f6f0ea4ad420",
   "metadata": {},
   "outputs": [
    {
     "data": {
      "text/plain": [
       "array([[[[0.000, 0.000],\n",
       "         [0.500, 0.000]],\n",
       "\n",
       "        [[0.000, 1.000],\n",
       "         [0.500, 1.000]]],\n",
       "\n",
       "\n",
       "       [[[0.500, 0.000],\n",
       "         [1.000, 0.000]],\n",
       "\n",
       "        [[0.500, 0.500],\n",
       "         [1.000, 0.500]]],\n",
       "\n",
       "\n",
       "       [[[0.500, 0.500],\n",
       "         [0.750, 0.500]],\n",
       "\n",
       "        [[0.500, 1.000],\n",
       "         [0.750, 1.000]]],\n",
       "\n",
       "\n",
       "       [[[0.750, 0.500],\n",
       "         [1.000, 0.500]],\n",
       "\n",
       "        [[0.750, 0.750],\n",
       "         [1.000, 0.750]]],\n",
       "\n",
       "\n",
       "       [[[0.750, 0.750],\n",
       "         [0.875, 0.750]],\n",
       "\n",
       "        [[0.750, 1.000],\n",
       "         [0.875, 1.000]]],\n",
       "\n",
       "\n",
       "       [[[0.875, 0.750],\n",
       "         [1.000, 0.750]],\n",
       "\n",
       "        [[0.875, 1.000],\n",
       "         [1.000, 1.000]]]])"
      ]
     },
     "execution_count": 35,
     "metadata": {},
     "output_type": "execute_result"
    }
   ],
   "source": [
    "np.array([topology.corners(geo) for geo in M.geos])"
   ]
  },
  {
   "cell_type": "code",
   "execution_count": 8,
   "id": "0262d8e9-1c2b-4fe0-af12-9d9badfb55a5",
   "metadata": {},
   "outputs": [
    {
     "data": {
      "text/plain": [
       "[(((KnotVector(array([0.00, 0.00, 0.00, 0.00, 0.12, 0.12, 0.25, 0.25, 0.38, 0.38, 0.50, 0.50, 0.50, 0.50]), 3),\n",
       "    KnotVector(array([0.00, 0.00, 0.00, 0.00, 0.12, 0.12, 0.25, 0.25, 0.38, 0.38, 0.50, 0.50, 0.50, 0.50]), 3)),\n",
       "   <pyiga.bspline.BSplineFunc at 0x7f88771aca90>),\n",
       "  ([0, 4], [6, 11, 7], [0, 6], [4, 9, 7])),\n",
       " (((KnotVector(array([0.00, 0.00, 0.00, 0.00, 0.12, 0.12, 0.25, 0.25, 0.25, 0.25]), 3),\n",
       "    KnotVector(array([0.50, 0.50, 0.50, 0.50, 0.75, 0.75, 1.00, 1.00, 1.00, 1.00]), 3)),\n",
       "   <pyiga.bspline.BSplineFunc at 0x7f8874320370>),\n",
       "  ([4, 1], [9, 10], [4, 9], [1, 10])),\n",
       " (((KnotVector(array([0.50, 0.50, 0.50, 0.50, 0.62, 0.62, 0.75, 0.75, 0.75, 0.75]), 3),\n",
       "    KnotVector(array([0.00, 0.00, 0.00, 0.00, 0.12, 0.12, 0.25, 0.25, 0.25, 0.25]), 3)),\n",
       "   <pyiga.bspline.BSplineFunc at 0x7f887424fac0>),\n",
       "  ([6, 11], [13, 14], [6, 13], [11, 14])),\n",
       " (((KnotVector(array([0.50, 0.50, 0.50, 0.50, 0.62, 0.62, 0.75, 0.75, 0.88, 0.88, 1.00, 1.00, 1.00, 1.00]), 3),\n",
       "    KnotVector(array([0.50, 0.50, 0.50, 0.50, 0.62, 0.62, 0.75, 0.75, 0.88, 0.88, 1.00, 1.00, 1.00, 1.00]), 3)),\n",
       "   <pyiga.bspline.BSplineFunc at 0x7f88771acb20>),\n",
       "  ([7, 8], [5, 3], [7, 15, 5], [8, 3])),\n",
       " (((KnotVector(array([0.25, 0.25, 0.25, 0.25, 0.38, 0.38, 0.50, 0.50, 0.50, 0.50]), 3),\n",
       "    KnotVector(array([0.50, 0.50, 0.50, 0.50, 0.75, 0.75, 1.00, 1.00, 1.00, 1.00]), 3)),\n",
       "   <pyiga.bspline.BSplineFunc at 0x7f887424f9a0>),\n",
       "  ([9, 10], [7, 8], [9, 7], [10, 8])),\n",
       " (((KnotVector(array([0.50, 0.50, 0.50, 0.50, 0.62, 0.62, 0.75, 0.75, 0.75, 0.75]), 3),\n",
       "    KnotVector(array([0.25, 0.25, 0.25, 0.25, 0.38, 0.38, 0.50, 0.50, 0.50, 0.50]), 3)),\n",
       "   <pyiga.bspline.BSplineFunc at 0x7f887424ff70>),\n",
       "  ([11, 7], [14, 15], [11, 14], [7, 15])),\n",
       " (((KnotVector(array([0.75, 0.75, 0.75, 0.75, 0.88, 0.88, 1.00, 1.00, 1.00, 1.00]), 3),\n",
       "    KnotVector(array([0.00, 0.00, 0.00, 0.00, 0.12, 0.12, 0.25, 0.25, 0.25, 0.25]), 3)),\n",
       "   <pyiga.bspline.BSplineFunc at 0x7f887424f070>),\n",
       "  ([13, 14], [2, 12], [13, 2], [14, 12])),\n",
       " (((KnotVector(array([0.75, 0.75, 0.75, 0.75, 0.88, 0.88, 1.00, 1.00, 1.00, 1.00]), 3),\n",
       "    KnotVector(array([0.25, 0.25, 0.25, 0.25, 0.38, 0.38, 0.50, 0.50, 0.50, 0.50]), 3)),\n",
       "   <pyiga.bspline.BSplineFunc at 0x7f887424f040>),\n",
       "  ([14, 15], [12, 5], [14, 12], [15, 5]))]"
      ]
     },
     "execution_count": 8,
     "metadata": {},
     "output_type": "execute_result"
    }
   ],
   "source": [
    "MP.mesh.patches"
   ]
  },
  {
   "cell_type": "code",
   "execution_count": 4,
   "id": "766366e5-6507-4b7d-a506-837ce42f2204",
   "metadata": {},
   "outputs": [],
   "source": [
    "bcs = MP.compute_dirichlet_bcs({0:0.})"
   ]
  },
  {
   "cell_type": "code",
   "execution_count": 5,
   "id": "e8aa31e6-d284-4f2f-93d7-1f874bbbeee7",
   "metadata": {},
   "outputs": [
    {
     "data": {
      "text/plain": [
       "[(((KnotVector(array([0.00, 0.00, 0.25, 0.50, 0.50]), 1),\n",
       "    KnotVector(array([0.00, 0.00, 0.25, 0.50, 0.50]), 1)),\n",
       "   <pyiga.bspline.BSplineFunc at 0x7f338c1babb0>),\n",
       "  ([0, 4], [6, 7], [0, 6], [4, 7])),\n",
       " (((KnotVector(array([0.00, 0.00, 0.25, 0.50, 0.50]), 1),\n",
       "    KnotVector(array([0.50, 0.50, 0.75, 1.00, 1.00]), 1)),\n",
       "   <pyiga.bspline.BSplineFunc at 0x7f338c24b460>),\n",
       "  ([4, 1], [7, 8], [4, 7], [1, 8])),\n",
       " (((KnotVector(array([0.50, 0.50, 0.75, 1.00, 1.00]), 1),\n",
       "    KnotVector(array([0.00, 0.00, 0.25, 0.50, 0.50]), 1)),\n",
       "   <pyiga.bspline.BSplineFunc at 0x7f338c24b2e0>),\n",
       "  ([6, 7], [2, 5], [6, 2], [7, 5])),\n",
       " (((KnotVector(array([0.50, 0.50, 0.75, 1.00, 1.00]), 1),\n",
       "    KnotVector(array([0.50, 0.50, 0.75, 1.00, 1.00]), 1)),\n",
       "   <pyiga.bspline.BSplineFunc at 0x7f338c24bdf0>),\n",
       "  ([7, 8], [5, 3], [7, 5], [8, 3]))]"
      ]
     },
     "execution_count": 5,
     "metadata": {},
     "output_type": "execute_result"
    }
   ],
   "source": [
    "MP.mesh.patches"
   ]
  },
  {
   "cell_type": "code",
   "execution_count": 159,
   "id": "cb0a3cdf-3b82-485e-ae00-9309145fab9f",
   "metadata": {},
   "outputs": [
    {
     "data": {
      "image/png": "[encoded data removed]",
      "text/plain": [
       "<Figure size 640x480 with 1 Axes>"
      ]
     },
     "metadata": {},
     "output_type": "display_data"
    }
   ],
   "source": [
    "iBtB = solvers.fastBlockInverse(MP.Basis.T@MP.Basis)\n",
    "spy(iBtB,markersize=0.2);"
   ]
  },
  {
   "cell_type": "code",
   "execution_count": 141,
   "id": "fa9b3565-cb6f-4708-a187-f428b31da051",
   "metadata": {},
   "outputs": [
    {
     "data": {
      "text/plain": [
       "0.20703921682885612"
      ]
     },
     "execution_count": 141,
     "metadata": {},
     "output_type": "execute_result"
    }
   ],
   "source": [
    "iBtB.nnz/np.prod(iBtB.shape)"
   ]
  },
  {
   "cell_type": "code",
   "execution_count": 128,
   "id": "9134bd5a-129a-423d-9a5f-592449596cf5",
   "metadata": {},
   "outputs": [
    {
     "data": {
      "image/png": "[encoded data removed]",
      "text/plain": [
       "<Figure size 640x480 with 1 Axes>"
      ]
     },
     "metadata": {},
     "output_type": "display_data"
    }
   ],
   "source": [
    "spy(iBtB,markersize=0.0018);"
   ]
  },
  {
   "cell_type": "code",
   "execution_count": 39,
   "id": "2bedcf8d-5e68-4c09-8e2f-ef28fad12c95",
   "metadata": {},
   "outputs": [],
   "source": [
    "kv0 = bspline.make_knots(3,0.0,1.0,4)\n",
    "kv1 = kv0.p_refine(1)"
   ]
  },
  {
   "cell_type": "code",
   "execution_count": 40,
   "id": "055952b9-3319-467b-a05d-f9a414b2eade",
   "metadata": {},
   "outputs": [
    {
     "data": {
      "text/plain": [
       "array([[1.00, 0.00, 0.00, 0.00, 0.00, 0.00, 0.00],\n",
       "       [0.25, 0.75, 0.00, 0.00, 0.00, 0.00, 0.00],\n",
       "       [0.00, 0.75, 0.25, 0.00, 0.00, 0.00, 0.00],\n",
       "       [0.00, 0.13, 0.79, 0.08, 0.00, 0.00, 0.00],\n",
       "       [0.00, 0.00, 0.50, 0.50, 0.00, 0.00, 0.00],\n",
       "       [0.00, 0.00, 0.08, 0.83, 0.08, 0.00, 0.00],\n",
       "       [0.00, 0.00, 0.00, 0.50, 0.50, 0.00, 0.00],\n",
       "       [0.00, 0.00, 0.00, 0.08, 0.79, 0.13, 0.00],\n",
       "       [0.00, 0.00, 0.00, 0.00, 0.25, 0.75, 0.00],\n",
       "       [0.00, 0.00, 0.00, 0.00, 0.00, 0.75, 0.25],\n",
       "       [0.00, 0.00, 0.00, 0.00, 0.00, 0.00, 1.00]])"
      ]
     },
     "execution_count": 40,
     "metadata": {},
     "output_type": "execute_result"
    }
   ],
   "source": [
    "bspline.prolongation(kv0,kv1).A"
   ]
  },
  {
   "cell_type": "code",
   "execution_count": 12,
   "id": "f63aaecc-3fc9-4b32-85f2-247a1a5feea9",
   "metadata": {},
   "outputs": [
    {
     "data": {
      "text/plain": [
       "<matplotlib.lines.Line2D at 0x7faf8c179790>"
      ]
     },
     "execution_count": 12,
     "metadata": {},
     "output_type": "execute_result"
    },
    {
     "data": {
      "image/png": "[encoded data removed]",
      "text/plain": [
       "<Figure size 640x480 with 1 Axes>"
      ]
     },
     "metadata": {},
     "output_type": "display_data"
    }
   ],
   "source": [
    "spy(P,markersize=0.2)"
   ]
  },
  {
   "cell_type": "code",
   "execution_count": 4,
   "id": "8463e6d0-c16c-43cd-8cc9-7f55c34a1f36",
   "metadata": {},
   "outputs": [],
   "source": [
    "deg=3\n",
    "kvs1 = bspline.make_knots(2,0.0,1.0,deg)\n",
    "kvs2 =  bspline.make_knots(3,0.0,1.0,deg+1)\n",
    "P = bspline.prolongation(kvs1,kvs2)"
   ]
  },
  {
   "cell_type": "code",
   "execution_count": 5,
   "id": "3a370722-a381-496b-972d-49112a97ddb9",
   "metadata": {},
   "outputs": [
    {
     "data": {
      "text/plain": [
       "array([[1.00, 0.00, 0.00, 0.00, 0.00],\n",
       "       [0.50, 0.50, 0.00, -0.00, 0.00],\n",
       "       [-0.12, 0.92, 0.19, 0.01, -0.01],\n",
       "       [0.03, -0.05, 1.03, -0.05, 0.03],\n",
       "       [-0.01, 0.01, 0.19, 0.92, -0.12],\n",
       "       [0.00, -0.00, 0.00, 0.50, 0.50],\n",
       "       [0.00, 0.00, 0.00, 0.00, 1.00]])"
      ]
     },
     "execution_count": 5,
     "metadata": {},
     "output_type": "execute_result"
    }
   ],
   "source": [
    "P.A"
   ]
  },
  {
   "cell_type": "code",
   "execution_count": 2,
   "id": "07412993-2bdc-4820-8466-14246e51d59e",
   "metadata": {},
   "outputs": [],
   "source": [
    "def drawSkeleton(MP):\n",
    "    for (p,b,_),(_,_,_),_ in MP.intfs:\n",
    "        ax,sd=assemble.int_to_bdspec(b)\n",
    "        geo=MP.mesh.geos()[p]\n",
    "        kvs=MP.mesh.kvs()[p]\n",
    "        grid=np.linspace(geo.support[(ax+1)%2][0], geo.support[(ax+1)%2][1],kvs[(ax+1)%2].numdofs)\n",
    "        if (p,b) == (4,1) or (p,b)==(5,3): grid=grid[1:-1]\n",
    "        if ax==0:\n",
    "            Z = geo.eval(grid,np.array([geo.support[0][sd]]))\n",
    "        else:\n",
    "            Z = geo.eval(np.array([geo.support[1][sd]]),grid)\n",
    "        plt.scatter(Z[:,:,0].ravel(),Z[:,:,1].ravel(),color='red',s=15,zorder=3)\n",
    "    \n",
    "def drawInterior(MP,r=1):\n",
    "    for p in range(MP.numpatches):\n",
    "        kvs, geo = MP.mesh.kvs()[p], MP.mesh.geos()[p]\n",
    "        gridx=np.linspace(geo.support[0][0],geo.support[0][1] ,kvs[0].numdofs)\n",
    "        gridy=np.linspace(geo.support[1][0],geo.support[1][1],kvs[1].numdofs)\n",
    "        Z = geo.eval(gridx,gridy)\n",
    "        if r != 0:\n",
    "            plt.scatter(Z[r:-r,r:-r,0].ravel(),Z[r:-r,r:-r,1].ravel(),color='black',s=15)\n",
    "        else:\n",
    "            for idx in MP.mesh.outer_boundaries:\n",
    "                if (p,2) not in MP.mesh.outer_boundaries[idx]: Z = Z[1:,:,:]\n",
    "                if (p,3) not in MP.mesh.outer_boundaries[idx]: Z = Z[:-1,:,:]\n",
    "                if (p,0) not in MP.mesh.outer_boundaries[idx]: Z = Z[:,1:,:]\n",
    "                if (p,1) not in MP.mesh.outer_boundaries[idx]: Z = Z[:,:-1,:]\n",
    "            plt.scatter(Z[:,:,0].ravel(),Z[:,:,1].ravel(),color='black',s=15,zorder=2)"
   ]
  },
  {
   "cell_type": "code",
   "execution_count": 6,
   "id": "d9bbe0dc-503e-4f68-b742-a566ef38bf7e",
   "metadata": {},
   "outputs": [
    {
     "data": {
      "text/plain": [
       "(KnotVector(array([0. , 0. , 0. , 0.5, 1. , 1. , 1. ]), 2),\n",
       " KnotVector(array([0. , 0. , 0. , 0.5, 1. , 1. , 1. ]), 2))"
      ]
     },
     "execution_count": 6,
     "metadata": {},
     "output_type": "execute_result"
    }
   ],
   "source": [
    "2*(bspline.make_knots(2,0,1,2),)"
   ]
  },
  {
   "cell_type": "code",
   "execution_count": 9,
   "id": "84435af8-fd07-41fc-bda3-291411c46004",
   "metadata": {},
   "outputs": [],
   "source": [
    "patches=[(2*(bspline.make_knots(2,0,1,2),),geometry.unit_square())]\n",
    "M = topology.PatchMesh(patches)\n",
    "M.split_patches();\n",
    "#M.refine({0:None});\n",
    "M.split_patches({0:None});\n",
    "M.refine({0:None});\n",
    "MP=assemble.Multipatch(M, automatch=True)"
   ]
  },
  {
   "cell_type": "code",
   "execution_count": 10,
   "id": "cebdb750-b149-4083-a5e3-c958e4b75ef5",
   "metadata": {},
   "outputs": [
    {
     "data": {
      "image/png": "[encoded data removed]",
      "text/plain": [
       "<Figure size 500x500 with 1 Axes>"
      ]
     },
     "metadata": {},
     "output_type": "display_data"
    }
   ],
   "source": [
    "MP.mesh.draw(patch_idx=False)\n",
    "drawInterior(MP,r=0)\n",
    "drawSkeleton(MP)"
   ]
  },
  {
   "cell_type": "code",
   "execution_count": 6,
   "id": "49d94d90-30f2-483c-bda1-75105d6ce963",
   "metadata": {},
   "outputs": [
    {
     "data": {
      "text/plain": [
       "array([[1. , 0. , 0. , 0. , 0. , 0. ],\n",
       "       [0.5, 0.5, 0. , 0. , 0. , 0. ],\n",
       "       [0. , 1. , 0. , 0. , 0. , 0. ]])"
      ]
     },
     "execution_count": 6,
     "metadata": {},
     "output_type": "execute_result"
    }
   ],
   "source": [
    "kv1 ,kv2 = bspline.KnotVector(np.array([0.0,0.0,0.25,0.5,0.5]),1), bspline.KnotVector(np.array([0.0,0.0,0.5,0.7,0.8,0.9,1.0,1.0]),1)\n",
    "bspline.prolongation(kv2,kv1).A"
   ]
  },
  {
   "cell_type": "code",
   "execution_count": 2,
   "id": "7d784c0d-fbed-4587-b968-efcd51eec2f7",
   "metadata": {},
   "outputs": [
    {
     "data": {
      "image/png": "[encoded data removed]",
      "text/plain": [
       "<Figure size 640x480 with 1 Axes>"
      ]
     },
     "metadata": {},
     "output_type": "display_data"
    },
    {
     "data": {
      "image/png": "[encoded data removed]",
      "text/plain": [
       "<Figure size 500x500 with 2 Axes>"
      ]
     },
     "metadata": {},
     "output_type": "display_data"
    },
    {
     "name": "stdout",
     "output_type": "stream",
     "text": [
      "0\n"
     ]
    },
    {
     "ename": "TypeError",
     "evalue": "'dict_keys' object is not subscriptable",
     "output_type": "error",
     "traceback": [
      "\u001b[0;31m---------------------------------------------------------------------------\u001b[0m",
      "\u001b[0;31mTypeError\u001b[0m                                 Traceback (most recent call last)",
      "\u001b[0;32m/tmp/ipykernel_6875/2230694465.py\u001b[0m in \u001b[0;36m<module>\u001b[0;34m\u001b[0m\n\u001b[1;32m     10\u001b[0m \u001b[0maxis\u001b[0m\u001b[0;34m(\u001b[0m\u001b[0;34m'scaled'\u001b[0m\u001b[0;34m)\u001b[0m\u001b[0;34m;\u001b[0m\u001b[0;34m\u001b[0m\u001b[0;34m\u001b[0m\u001b[0m\n\u001b[1;32m     11\u001b[0m \u001b[0mMP\u001b[0m\u001b[0;34m.\u001b[0m\u001b[0mplot\u001b[0m\u001b[0;34m(\u001b[0m\u001b[0mu1\u001b[0m\u001b[0;34m)\u001b[0m\u001b[0;34m\u001b[0m\u001b[0;34m\u001b[0m\u001b[0m\n\u001b[0;32m---> 12\u001b[0;31m \u001b[0mP\u001b[0m\u001b[0;34m=\u001b[0m\u001b[0mMP\u001b[0m\u001b[0;34m.\u001b[0m\u001b[0mpatch_refine\u001b[0m\u001b[0;34m(\u001b[0m\u001b[0;34m{\u001b[0m\u001b[0;36m0\u001b[0m\u001b[0;34m:\u001b[0m\u001b[0;32mNone\u001b[0m\u001b[0;34m,\u001b[0m\u001b[0;36m1\u001b[0m\u001b[0;34m:\u001b[0m\u001b[0;34m-\u001b[0m\u001b[0;36m1\u001b[0m\u001b[0;34m,\u001b[0m\u001b[0;36m2\u001b[0m\u001b[0;34m:\u001b[0m\u001b[0;34m-\u001b[0m\u001b[0;36m1\u001b[0m\u001b[0;34m,\u001b[0m\u001b[0;36m3\u001b[0m\u001b[0;34m:\u001b[0m\u001b[0;32mNone\u001b[0m\u001b[0;34m}\u001b[0m\u001b[0;34m,\u001b[0m\u001b[0mp_ref\u001b[0m\u001b[0;34m=\u001b[0m\u001b[0mdeg\u001b[0m\u001b[0;34m+\u001b[0m\u001b[0;36m1\u001b[0m\u001b[0;34m,\u001b[0m \u001b[0mreturn_P\u001b[0m\u001b[0;34m=\u001b[0m\u001b[0;32mTrue\u001b[0m\u001b[0;34m)\u001b[0m\u001b[0;34m\u001b[0m\u001b[0;34m\u001b[0m\u001b[0m\n\u001b[0m\u001b[1;32m     13\u001b[0m \u001b[0mMP\u001b[0m\u001b[0;34m.\u001b[0m\u001b[0mmesh\u001b[0m\u001b[0;34m.\u001b[0m\u001b[0mdraw\u001b[0m\u001b[0;34m(\u001b[0m\u001b[0mplt\u001b[0m\u001b[0;34m.\u001b[0m\u001b[0mfigure\u001b[0m\u001b[0;34m(\u001b[0m\u001b[0;34m)\u001b[0m\u001b[0;34m)\u001b[0m\u001b[0;34m\u001b[0m\u001b[0;34m\u001b[0m\u001b[0m\n\u001b[1;32m     14\u001b[0m \u001b[0maxis\u001b[0m\u001b[0;34m(\u001b[0m\u001b[0;34m'scaled'\u001b[0m\u001b[0;34m)\u001b[0m\u001b[0;34m;\u001b[0m\u001b[0;34m\u001b[0m\u001b[0;34m\u001b[0m\u001b[0m\n",
      "\u001b[0;32m~/anaconda3/lib/python3.9/site-packages/pyiga-0.1.0-py3.9-linux-x86_64.egg/pyiga/assemble.py\u001b[0m in \u001b[0;36mpatch_refine\u001b[0;34m(self, patches, p_ref, mult, return_P)\u001b[0m\n\u001b[1;32m   1652\u001b[0m                 \u001b[0mnew_patches\u001b[0m\u001b[0;34m[\u001b[0m\u001b[0mp\u001b[0m\u001b[0;34m]\u001b[0m \u001b[0;34m=\u001b[0m \u001b[0;34m(\u001b[0m\u001b[0mp\u001b[0m\u001b[0;34m,\u001b[0m\u001b[0;34m)\u001b[0m\u001b[0;34m\u001b[0m\u001b[0;34m\u001b[0m\u001b[0m\n\u001b[1;32m   1653\u001b[0m                 \u001b[0mself\u001b[0m\u001b[0;34m.\u001b[0m\u001b[0mmesh\u001b[0m\u001b[0;34m.\u001b[0m\u001b[0mh_refine\u001b[0m\u001b[0;34m(\u001b[0m\u001b[0mpatches\u001b[0m \u001b[0;34m=\u001b[0m \u001b[0mp\u001b[0m\u001b[0;34m)\u001b[0m\u001b[0;34m\u001b[0m\u001b[0;34m\u001b[0m\u001b[0m\n\u001b[0;32m-> 1654\u001b[0;31m                 \u001b[0mself\u001b[0m\u001b[0;34m.\u001b[0m\u001b[0mmesh\u001b[0m\u001b[0;34m.\u001b[0m\u001b[0mp_refine\u001b[0m\u001b[0;34m(\u001b[0m\u001b[0mpatches\u001b[0m \u001b[0;34m=\u001b[0m \u001b[0mp_ref\u001b[0m\u001b[0;34m)\u001b[0m\u001b[0;34m\u001b[0m\u001b[0;34m\u001b[0m\u001b[0m\n\u001b[0m\u001b[1;32m   1655\u001b[0m             \u001b[0;32melse\u001b[0m\u001b[0;34m:\u001b[0m\u001b[0;34m\u001b[0m\u001b[0;34m\u001b[0m\u001b[0m\n\u001b[1;32m   1656\u001b[0m                 \u001b[0mnew_patches\u001b[0m\u001b[0;34m[\u001b[0m\u001b[0mp\u001b[0m\u001b[0;34m]\u001b[0m \u001b[0;34m=\u001b[0m \u001b[0mself\u001b[0m\u001b[0;34m.\u001b[0m\u001b[0mmesh\u001b[0m\u001b[0;34m.\u001b[0m\u001b[0msplit_patch\u001b[0m\u001b[0;34m(\u001b[0m\u001b[0mp\u001b[0m\u001b[0;34m,\u001b[0m \u001b[0maxis\u001b[0m\u001b[0;34m=\u001b[0m\u001b[0mpatches\u001b[0m\u001b[0;34m[\u001b[0m\u001b[0mp\u001b[0m\u001b[0;34m]\u001b[0m\u001b[0;34m,\u001b[0m \u001b[0mmult\u001b[0m\u001b[0;34m=\u001b[0m\u001b[0mmult\u001b[0m\u001b[0;34m)\u001b[0m\u001b[0;34m\u001b[0m\u001b[0;34m\u001b[0m\u001b[0m\n",
      "\u001b[0;32m~/anaconda3/lib/python3.9/site-packages/pyiga-0.1.0-py3.9-linux-x86_64.egg/pyiga/topology.py\u001b[0m in \u001b[0;36mp_refine\u001b[0;34m(self, patches)\u001b[0m\n\u001b[1;32m    202\u001b[0m             \u001b[0mprint\u001b[0m\u001b[0;34m(\u001b[0m\u001b[0mp\u001b[0m\u001b[0;34m)\u001b[0m\u001b[0;34m\u001b[0m\u001b[0;34m\u001b[0m\u001b[0m\n\u001b[1;32m    203\u001b[0m             \u001b[0;34m(\u001b[0m\u001b[0mkvs\u001b[0m\u001b[0;34m,\u001b[0m\u001b[0mgeo\u001b[0m\u001b[0;34m)\u001b[0m\u001b[0;34m,\u001b[0m \u001b[0mb\u001b[0m \u001b[0;34m=\u001b[0m \u001b[0mself\u001b[0m\u001b[0;34m.\u001b[0m\u001b[0mpatches\u001b[0m\u001b[0;34m[\u001b[0m\u001b[0mp\u001b[0m\u001b[0;34m]\u001b[0m\u001b[0;34m\u001b[0m\u001b[0;34m\u001b[0m\u001b[0m\n\u001b[0;32m--> 204\u001b[0;31m             \u001b[0mnew_kvs\u001b[0m \u001b[0;34m=\u001b[0m \u001b[0mtuple\u001b[0m\u001b[0;34m(\u001b[0m\u001b[0;34m[\u001b[0m\u001b[0mkv\u001b[0m\u001b[0;34m.\u001b[0m\u001b[0mp_refine\u001b[0m\u001b[0;34m(\u001b[0m\u001b[0mpatches\u001b[0m\u001b[0;34m[\u001b[0m\u001b[0mp\u001b[0m\u001b[0;34m]\u001b[0m\u001b[0;34m)\u001b[0m \u001b[0;32mfor\u001b[0m \u001b[0mkv\u001b[0m \u001b[0;32min\u001b[0m \u001b[0mkvs\u001b[0m\u001b[0;34m]\u001b[0m\u001b[0;34m)\u001b[0m\u001b[0;34m\u001b[0m\u001b[0;34m\u001b[0m\u001b[0m\n\u001b[0m\u001b[1;32m    205\u001b[0m             \u001b[0mself\u001b[0m\u001b[0;34m.\u001b[0m\u001b[0mpatches\u001b[0m\u001b[0;34m[\u001b[0m\u001b[0mp\u001b[0m\u001b[0;34m]\u001b[0m\u001b[0;34m=\u001b[0m\u001b[0;34m(\u001b[0m\u001b[0;34m(\u001b[0m\u001b[0mnew_kvs\u001b[0m\u001b[0;34m,\u001b[0m \u001b[0mgeo\u001b[0m\u001b[0;34m)\u001b[0m\u001b[0;34m,\u001b[0m \u001b[0mb\u001b[0m\u001b[0;34m)\u001b[0m\u001b[0;34m\u001b[0m\u001b[0;34m\u001b[0m\u001b[0m\n\u001b[1;32m    206\u001b[0m \u001b[0;34m\u001b[0m\u001b[0m\n",
      "\u001b[0;32m~/anaconda3/lib/python3.9/site-packages/pyiga-0.1.0-py3.9-linux-x86_64.egg/pyiga/topology.py\u001b[0m in \u001b[0;36m<listcomp>\u001b[0;34m(.0)\u001b[0m\n\u001b[1;32m    202\u001b[0m             \u001b[0mprint\u001b[0m\u001b[0;34m(\u001b[0m\u001b[0mp\u001b[0m\u001b[0;34m)\u001b[0m\u001b[0;34m\u001b[0m\u001b[0;34m\u001b[0m\u001b[0m\n\u001b[1;32m    203\u001b[0m             \u001b[0;34m(\u001b[0m\u001b[0mkvs\u001b[0m\u001b[0;34m,\u001b[0m\u001b[0mgeo\u001b[0m\u001b[0;34m)\u001b[0m\u001b[0;34m,\u001b[0m \u001b[0mb\u001b[0m \u001b[0;34m=\u001b[0m \u001b[0mself\u001b[0m\u001b[0;34m.\u001b[0m\u001b[0mpatches\u001b[0m\u001b[0;34m[\u001b[0m\u001b[0mp\u001b[0m\u001b[0;34m]\u001b[0m\u001b[0;34m\u001b[0m\u001b[0;34m\u001b[0m\u001b[0m\n\u001b[0;32m--> 204\u001b[0;31m             \u001b[0mnew_kvs\u001b[0m \u001b[0;34m=\u001b[0m \u001b[0mtuple\u001b[0m\u001b[0;34m(\u001b[0m\u001b[0;34m[\u001b[0m\u001b[0mkv\u001b[0m\u001b[0;34m.\u001b[0m\u001b[0mp_refine\u001b[0m\u001b[0;34m(\u001b[0m\u001b[0mpatches\u001b[0m\u001b[0;34m[\u001b[0m\u001b[0mp\u001b[0m\u001b[0;34m]\u001b[0m\u001b[0;34m)\u001b[0m \u001b[0;32mfor\u001b[0m \u001b[0mkv\u001b[0m \u001b[0;32min\u001b[0m \u001b[0mkvs\u001b[0m\u001b[0;34m]\u001b[0m\u001b[0;34m)\u001b[0m\u001b[0;34m\u001b[0m\u001b[0;34m\u001b[0m\u001b[0m\n\u001b[0m\u001b[1;32m    205\u001b[0m             \u001b[0mself\u001b[0m\u001b[0;34m.\u001b[0m\u001b[0mpatches\u001b[0m\u001b[0;34m[\u001b[0m\u001b[0mp\u001b[0m\u001b[0;34m]\u001b[0m\u001b[0;34m=\u001b[0m\u001b[0;34m(\u001b[0m\u001b[0;34m(\u001b[0m\u001b[0mnew_kvs\u001b[0m\u001b[0;34m,\u001b[0m \u001b[0mgeo\u001b[0m\u001b[0;34m)\u001b[0m\u001b[0;34m,\u001b[0m \u001b[0mb\u001b[0m\u001b[0;34m)\u001b[0m\u001b[0;34m\u001b[0m\u001b[0;34m\u001b[0m\u001b[0m\n\u001b[1;32m    206\u001b[0m \u001b[0;34m\u001b[0m\u001b[0m\n",
      "\u001b[0;31mTypeError\u001b[0m: 'dict_keys' object is not subscriptable"
     ]
    }
   ],
   "source": [
    "deg=2\n",
    "kvs = [2 * (bspline.make_knots(1, 0.0, 1.0, deg),)]\n",
    "geos = [geometry.unit_square()]\n",
    "patches = [(k, g) for k, g in zip(kvs,geos)]\n",
    "M = topology.PatchMesh(patches)\n",
    "M.split_patches();\n",
    "MP = assemble.Multipatch(M, automatch=True)\n",
    "u1 = MP.L2projection(lambda x,y: x**2+y**2)\n",
    "MP.mesh.draw(plt.figure())\n",
    "axis('scaled');\n",
    "MP.plot(u1)\n",
    "P=MP.patch_refine({0:None,1:-1,2:-1,3:None},p_ref=deg+1, return_P=True)\n",
    "MP.mesh.draw(plt.figure())\n",
    "axis('scaled');\n",
    "MP.plot(P@u1)"
   ]
  },
  {
   "cell_type": "code",
   "execution_count": 4,
   "id": "4b0c9a79-81ec-4594-86e8-3ee4da5726f6",
   "metadata": {},
   "outputs": [
    {
     "data": {
      "image/png": "[encoded data removed]",
      "text/plain": [
       "<Figure size 640x480 with 1 Axes>"
      ]
     },
     "metadata": {},
     "output_type": "display_data"
    }
   ],
   "source": [
    "M.draw(plt.figure())"
   ]
  },
  {
   "cell_type": "code",
   "execution_count": 5,
   "id": "c8308fbc-8474-4d97-9fbb-d4223ea673a7",
   "metadata": {},
   "outputs": [
    {
     "data": {
      "text/plain": [
       "[(((KnotVector(array([0.   , 0.   , 0.125, 0.25 , 0.25 ]), 1),\n",
       "    KnotVector(array([0.   , 0.   , 0.125, 0.25 , 0.25 ]), 1)),\n",
       "   <pyiga.bspline.BSplineFunc at 0x7f07983573a0>),\n",
       "  ([0, 9], [11, 12], [0, 11], [9, 12])),\n",
       " (((KnotVector(array([0.   , 0.   , 0.125, 0.25 , 0.375, 0.5  , 0.5  ]), 1),\n",
       "    KnotVector(array([0.5  , 0.5  , 0.625, 0.75 , 0.875, 1.   , 1.   ]), 1)),\n",
       "   <pyiga.bspline.BSplineFunc at 0x7f079bfcaf40>),\n",
       "  ([4, 1], [7, 14, 8], [4, 13, 7], [1, 8])),\n",
       " (((KnotVector(array([0.5  , 0.5  , 0.625, 0.75 , 0.875, 1.   , 1.   ]), 1),\n",
       "    KnotVector(array([0.   , 0.   , 0.125, 0.25 , 0.375, 0.5  , 0.5  ]), 1)),\n",
       "   <pyiga.bspline.BSplineFunc at 0x7f079bfcad00>),\n",
       "  ([6, 10, 7], [2, 5], [6, 2], [7, 16, 5])),\n",
       " (((KnotVector(array([0.5  , 0.5  , 0.625, 0.75 , 0.75 ]), 1),\n",
       "    KnotVector(array([0.5  , 0.5  , 0.625, 0.75 , 0.75 ]), 1)),\n",
       "   <pyiga.bspline.BSplineFunc at 0x7f0798419dc0>),\n",
       "  ([7, 14], [16, 17], [7, 16], [14, 17])),\n",
       " (((KnotVector(array([0.   , 0.   , 0.125, 0.25 , 0.25 ]), 1),\n",
       "    KnotVector(array([0.25 , 0.25 , 0.375, 0.5  , 0.5  ]), 1)),\n",
       "   <pyiga.bspline.BSplineFunc at 0x7f07983572b0>),\n",
       "  ([9, 4], [12, 13], [9, 12], [4, 13])),\n",
       " (((KnotVector(array([0.25 , 0.25 , 0.375, 0.5  , 0.5  ]), 1),\n",
       "    KnotVector(array([0.   , 0.   , 0.125, 0.25 , 0.25 ]), 1)),\n",
       "   <pyiga.bspline.BSplineFunc at 0x7f07983572e0>),\n",
       "  ([11, 12], [6, 10], [11, 6], [12, 10])),\n",
       " (((KnotVector(array([0.25 , 0.25 , 0.375, 0.5  , 0.5  ]), 1),\n",
       "    KnotVector(array([0.25 , 0.25 , 0.375, 0.5  , 0.5  ]), 1)),\n",
       "   <pyiga.bspline.BSplineFunc at 0x7f079b52ca60>),\n",
       "  ([12, 13], [10, 7], [12, 10], [13, 7])),\n",
       " (((KnotVector(array([0.5  , 0.5  , 0.625, 0.75 , 0.75 ]), 1),\n",
       "    KnotVector(array([0.75 , 0.75 , 0.875, 1.   , 1.   ]), 1)),\n",
       "   <pyiga.bspline.BSplineFunc at 0x7f0798419310>),\n",
       "  ([14, 8], [17, 18], [14, 17], [8, 18])),\n",
       " (((KnotVector(array([0.75 , 0.75 , 0.875, 1.   , 1.   ]), 1),\n",
       "    KnotVector(array([0.5  , 0.5  , 0.625, 0.75 , 0.75 ]), 1)),\n",
       "   <pyiga.bspline.BSplineFunc at 0x7f07984191f0>),\n",
       "  ([16, 17], [5, 15], [16, 5], [17, 15])),\n",
       " (((KnotVector(array([0.75 , 0.75 , 0.875, 1.   , 1.   ]), 1),\n",
       "    KnotVector(array([0.75 , 0.75 , 0.875, 1.   , 1.   ]), 1)),\n",
       "   <pyiga.bspline.BSplineFunc at 0x7f07983c4850>),\n",
       "  ([17, 18], [15, 3], [17, 15], [18, 3]))]"
      ]
     },
     "execution_count": 5,
     "metadata": {},
     "output_type": "execute_result"
    }
   ],
   "source": [
    "M.patches"
   ]
  },
  {
   "cell_type": "code",
   "execution_count": null,
   "id": "2089079f-653f-458e-a0f6-ed28cc880960",
   "metadata": {},
   "outputs": [],
   "source": []
  }
 ],
 "metadata": {
  "kernelspec": {
   "display_name": "Python 3 (ipykernel)",
   "language": "python",
   "name": "python3"
  },
  "language_info": {
   "codemirror_mode": {
    "name": "ipython",
    "version": 3
   },
   "file_extension": ".py",
   "mimetype": "text/x-python",
   "name": "python",
   "nbconvert_exporter": "python",
   "pygments_lexer": "ipython3",
   "version": "3.9.13"
  }
 },
 "nbformat": 4,
 "nbformat_minor": 5
}
