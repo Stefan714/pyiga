{
 "cells": [
  {
   "cell_type": "code",
   "execution_count": 1,
   "id": "b2ed1a9e-adbe-4ebf-806f-00d449d6ca14",
   "metadata": {},
   "outputs": [
    {
     "name": "stdout",
     "output_type": "stream",
     "text": [
      "Populating the interactive namespace from numpy and matplotlib\n"
     ]
    }
   ],
   "source": [
    "%pylab inline\n",
    "import scipy\n",
    "from scipy.sparse import coo_matrix, block_diag, identity, hstack\n",
    "#import matplotlib as mpl\n",
    "import matplotlib.pyplot as plt\n",
    "from pyiga import bspline, vform, geometry, vis, solvers, utils, topology\n",
    "from pyiga import assemble\n",
    "#from patchmesh import *\n",
    "from sksparse.cholmod import cholesky\n",
    "#from patchmesh3D import *\n",
    "#from multipatch import *\n",
    "from pyiga import adaptive as adap\n",
    "\n",
    "numpy.set_printoptions(linewidth=100000)\n",
    "numpy.set_printoptions(precision=5)"
   ]
  },
  {
   "cell_type": "code",
   "execution_count": null,
   "id": "40817e70-ec18-4c6a-935b-e54c96df5faa",
   "metadata": {},
   "outputs": [],
   "source": []
  },
  {
   "cell_type": "code",
   "execution_count": null,
   "id": "60402a5e-c541-4c6e-8c83-3d5ea806eb92",
   "metadata": {},
   "outputs": [],
   "source": []
  },
  {
   "cell_type": "code",
   "execution_count": 2,
   "id": "07412993-2bdc-4820-8466-14246e51d59e",
   "metadata": {},
   "outputs": [],
   "source": [
    "def drawSkeleton(MP):\n",
    "    for (p,b,_),(_,_,_),_ in MP.intfs:\n",
    "        ax,sd=assemble.int_to_bdspec(b)\n",
    "        geo=MP.mesh.geos()[p]\n",
    "        kvs=MP.mesh.kvs()[p]\n",
    "        grid=np.linspace(geo.support[(ax+1)%2][0], geo.support[(ax+1)%2][1],kvs[(ax+1)%2].numdofs)\n",
    "        if (p,b) == (4,1) or (p,b)==(5,3): grid=grid[1:-1]\n",
    "        if ax==0:\n",
    "            Z = geo.eval(grid,np.array([geo.support[0][sd]]))\n",
    "        else:\n",
    "            Z = geo.eval(np.array([geo.support[1][sd]]),grid)\n",
    "        plt.scatter(Z[:,:,0].ravel(),Z[:,:,1].ravel(),color='red',s=15,zorder=3)\n",
    "    \n",
    "def drawInterior(MP,r=1):\n",
    "    for p in range(MP.numpatches):\n",
    "        kvs, geo = MP.mesh.kvs()[p], MP.mesh.geos()[p]\n",
    "        gridx=np.linspace(geo.support[0][0],geo.support[0][1] ,kvs[0].numdofs)\n",
    "        gridy=np.linspace(geo.support[1][0],geo.support[1][1],kvs[1].numdofs)\n",
    "        Z = geo.eval(gridx,gridy)\n",
    "        if r != 0:\n",
    "            plt.scatter(Z[r:-r,r:-r,0].ravel(),Z[r:-r,r:-r,1].ravel(),color='black',s=15)\n",
    "        else:\n",
    "            for idx in MP.mesh.outer_boundaries:\n",
    "                if (p,2) not in MP.mesh.outer_boundaries[idx]: Z = Z[1:,:,:]\n",
    "                if (p,3) not in MP.mesh.outer_boundaries[idx]: Z = Z[:-1,:,:]\n",
    "                if (p,0) not in MP.mesh.outer_boundaries[idx]: Z = Z[:,1:,:]\n",
    "                if (p,1) not in MP.mesh.outer_boundaries[idx]: Z = Z[:,:-1,:]\n",
    "            plt.scatter(Z[:,:,0].ravel(),Z[:,:,1].ravel(),color='black',s=15,zorder=2)"
   ]
  },
  {
   "cell_type": "code",
   "execution_count": 6,
   "id": "d9bbe0dc-503e-4f68-b742-a566ef38bf7e",
   "metadata": {},
   "outputs": [
    {
     "data": {
      "text/plain": [
       "(KnotVector(array([0. , 0. , 0. , 0.5, 1. , 1. , 1. ]), 2),\n",
       " KnotVector(array([0. , 0. , 0. , 0.5, 1. , 1. , 1. ]), 2))"
      ]
     },
     "execution_count": 6,
     "metadata": {},
     "output_type": "execute_result"
    }
   ],
   "source": [
    "2*(bspline.make_knots(2,0,1,2),)"
   ]
  },
  {
   "cell_type": "code",
   "execution_count": 9,
   "id": "84435af8-fd07-41fc-bda3-291411c46004",
   "metadata": {},
   "outputs": [],
   "source": [
    "patches=[(2*(bspline.make_knots(2,0,1,2),),geometry.unit_square())]\n",
    "M = topology.PatchMesh(patches)\n",
    "M.split_patches();\n",
    "#M.refine({0:None});\n",
    "M.split_patches({0:None});\n",
    "M.refine({0:None});\n",
    "MP=assemble.Multipatch(M, automatch=True)"
   ]
  },
  {
   "cell_type": "code",
   "execution_count": 10,
   "id": "cebdb750-b149-4083-a5e3-c958e4b75ef5",
   "metadata": {},
   "outputs": [
    {
     "data": {
      "image/png": "[encoded data removed]",
      "text/plain": [
       "<Figure size 500x500 with 1 Axes>"
      ]
     },
     "metadata": {},
     "output_type": "display_data"
    }
   ],
   "source": [
    "MP.mesh.draw(patch_idx=False)\n",
    "drawInterior(MP,r=0)\n",
    "drawSkeleton(MP)"
   ]
  },
  {
   "cell_type": "code",
   "execution_count": null,
   "id": "49d94d90-30f2-483c-bda1-75105d6ce963",
   "metadata": {},
   "outputs": [],
   "source": []
  }
 ],
 "metadata": {
  "kernelspec": {
   "display_name": "Python 3 (ipykernel)",
   "language": "python",
   "name": "python3"
  },
  "language_info": {
   "codemirror_mode": {
    "name": "ipython",
    "version": 3
   },
   "file_extension": ".py",
   "mimetype": "text/x-python",
   "name": "python",
   "nbconvert_exporter": "python",
   "pygments_lexer": "ipython3",
   "version": "3.9.13"
  }
 },
 "nbformat": 4,
 "nbformat_minor": 5
}
