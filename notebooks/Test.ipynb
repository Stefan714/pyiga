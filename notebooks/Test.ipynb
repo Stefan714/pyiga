{
 "cells": [
  {
   "cell_type": "code",
   "execution_count": 50,
   "id": "b2ed1a9e-adbe-4ebf-806f-00d449d6ca14",
   "metadata": {},
   "outputs": [
    {
     "name": "stdout",
     "output_type": "stream",
     "text": [
      "Populating the interactive namespace from numpy and matplotlib\n"
     ]
    },
    {
     "name": "stderr",
     "output_type": "stream",
     "text": [
      "/home/wolfman/anaconda3/lib/python3.9/site-packages/IPython/core/magics/pylab.py:159: UserWarning: pylab import has clobbered these variables: ['cholesky', 'identity', 'hstack']\n",
      "`%matplotlib` prevents importing * from pylab and numpy\n",
      "  warn(\"pylab import has clobbered these variables: %s\"  % clobbered +\n"
     ]
    }
   ],
   "source": [
    "%pylab inline\n",
    "import scipy\n",
    "from scipy.sparse import coo_matrix, csr_matrix, csc_matrix, block_diag, identity, hstack\n",
    "#import matplotlib as mpl\n",
    "import matplotlib.pyplot as plt\n",
    "from pyiga import bspline, vform, geometry, vis, solvers, utils, topology, algebra\n",
    "from pyiga import assemble\n",
    "#from patchmesh import *\n",
    "from sksparse.cholmod import cholesky\n",
    "#from patchmesh3D import *\n",
    "#from multipatch import *\n",
    "from pyiga import adaptive as adap\n",
    "import itertools\n",
    "import time\n",
    "\n",
    "np.set_printoptions(linewidth=100000)\n",
    "np.set_printoptions(precision=5)\n",
    "np.set_printoptions(formatter={'float_kind':\"{:.3f}\".format})"
   ]
  },
  {
   "cell_type": "code",
   "execution_count": 58,
   "id": "ae3c394d-a855-43f6-a16a-c3665b9598f4",
   "metadata": {},
   "outputs": [],
   "source": [
    "def doerfler_mark(x, theta=0.9, TOL=0.01):\n",
    "    \"\"\"Given an array of x, return a minimal array of indices such that the indexed\n",
    "    values of x have norm of at least theta * norm(errors). Requires sorting the array x.\"\"\"\n",
    "    idx = np.argsort(x)\n",
    "    n=len(idx)\n",
    "    total = x@x\n",
    "    S = 0\n",
    "    for i in reversed(range(n)):\n",
    "        S += x[idx[i]]**2\n",
    "        if (S > theta * total):\n",
    "            k=i-1\n",
    "            while (abs(x[idx[i]]-x[idx[k]])/x[idx[i]] < TOL) and k>0:\n",
    "                k-=1\n",
    "            break\n",
    "    return idx[k:]"
   ]
  },
  {
   "cell_type": "code",
   "execution_count": 187,
   "id": "b4d788bd-2435-4975-ba52-66ba79eecd35",
   "metadata": {},
   "outputs": [],
   "source": [
    "def quick_mark(x, idx, l, u ,v):\n",
    "    p = np.arange(l,u+1)[argmedian(x[idx[l:(u+1)]])]+l\n",
    "    idx_new, g, s = Partition(x, idx, l, u , p)\n",
    "    sigma = sum(x[idx_new[l:(g+1)]])\n",
    "    if sigma >= v: return quick_mark(x,idx_new,l,g,v)\n",
    "    elif sigma + (s-g-1)*x[idx[p]]: return idx_new, g+ceil((v-sigma)/x[idx[p]])\n",
    "    else: return quick_mark(x, idx_new,s,u,v-sigma-(s-g-1)*x[idx[p]])\n",
    "    return x\n",
    "\n",
    "def Partition(x, idx, l, u, p):\n",
    "    idx_new = np.argpartition(x[idx[l:(u+1)]],p)\n",
    "    idx_equal = np.where(x[idx_new+l]==x[idx[p]])[0]\n",
    "    return np.concatenate([idx[:l],idx_new+l,idx[(u+1):-1]]), p-1, p+1\n",
    "    \n",
    "def argmedian(x):\n",
    "    return np.argpartition(x, len(x) // 2)[len(x) // 2]"
   ]
  },
  {
   "cell_type": "code",
   "execution_count": 188,
   "id": "4c70570c-28be-4e02-8fd1-581edf0c5e1c",
   "metadata": {},
   "outputs": [],
   "source": [
    "x=np.random.rand(9)"
   ]
  },
  {
   "cell_type": "code",
   "execution_count": 193,
   "id": "77e6dbb0-ec5d-44bf-bc7e-b50c65a196a9",
   "metadata": {},
   "outputs": [
    {
     "data": {
      "text/plain": [
       "array([0.195, 0.952, 0.984, 0.427, 0.117, 0.844, 0.947, 0.628, 0.730])"
      ]
     },
     "execution_count": 193,
     "metadata": {},
     "output_type": "execute_result"
    }
   ],
   "source": [
    "x[0:9]"
   ]
  },
  {
   "cell_type": "code",
   "execution_count": 189,
   "id": "f0b70e8d-9d82-4462-9a01-b5d69552d513",
   "metadata": {},
   "outputs": [],
   "source": [
    "idx, n = quick_mark(x,np.arange(len(x)),0,len(x)-1,0.9*sum(x))\n",
    "idx = idx[1:int(n)]"
   ]
  },
  {
   "cell_type": "code",
   "execution_count": 190,
   "id": "1c4cd9df-8634-45d5-bd3a-8e676b08b723",
   "metadata": {},
   "outputs": [
    {
     "data": {
      "text/plain": [
       "array([1, 8, 3, 4, 5, 6, 7])"
      ]
     },
     "execution_count": 190,
     "metadata": {},
     "output_type": "execute_result"
    }
   ],
   "source": [
    "idx"
   ]
  },
  {
   "cell_type": "code",
   "execution_count": 173,
   "id": "6aca35ef-525e-4441-baad-c40bce3350b2",
   "metadata": {},
   "outputs": [
    {
     "data": {
      "text/plain": [
       "(array([3, 8, 2, 0, 7, 1, 5, 6, 4]), array([4]), 7)"
      ]
     },
     "execution_count": 173,
     "metadata": {},
     "output_type": "execute_result"
    }
   ],
   "source": [
    "Partition(x,np.arange(len(x)),0,len(x)-1,argmedian(x))"
   ]
  },
  {
   "cell_type": "code",
   "execution_count": 143,
   "id": "aa4be004-5a4c-4c66-b2d3-3da4d355db2b",
   "metadata": {},
   "outputs": [
    {
     "data": {
      "text/plain": [
       "4"
      ]
     },
     "execution_count": 143,
     "metadata": {},
     "output_type": "execute_result"
    }
   ],
   "source": [
    "argmedian(x)"
   ]
  },
  {
   "cell_type": "code",
   "execution_count": 124,
   "id": "ba6aac0d-c8c3-43ae-9f97-fc0c8be9cd1b",
   "metadata": {},
   "outputs": [
    {
     "data": {
      "text/plain": [
       "array([1, 4, 5, 0, 7, 6, 8, 2, 3])"
      ]
     },
     "execution_count": 124,
     "metadata": {},
     "output_type": "execute_result"
    }
   ],
   "source": [
    "np.argpartition(x,argmedian(x))"
   ]
  },
  {
   "cell_type": "code",
   "execution_count": 108,
   "id": "131fcba5-3e68-4c9b-b772-0958d8a9d960",
   "metadata": {},
   "outputs": [
    {
     "data": {
      "text/plain": [
       "<function numpy.partition(a, kth, axis=-1, kind='introselect', order=None)>"
      ]
     },
     "execution_count": 108,
     "metadata": {},
     "output_type": "execute_result"
    }
   ],
   "source": [
    "np.partition"
   ]
  },
  {
   "cell_type": "code",
   "execution_count": 55,
   "id": "1c4f3ac2-0c42-4455-afe7-c80a6fea591e",
   "metadata": {},
   "outputs": [
    {
     "data": {
      "text/plain": [
       "array([3, 4])"
      ]
     },
     "execution_count": 55,
     "metadata": {},
     "output_type": "execute_result"
    }
   ],
   "source": [
    "x[0:2]"
   ]
  },
  {
   "cell_type": "code",
   "execution_count": 68,
   "id": "a1952728-b356-4db6-9b84-3c0fb6ca213b",
   "metadata": {},
   "outputs": [],
   "source": [
    "N=int(1e7)\n",
    "err = np.random.rand(N)"
   ]
  },
  {
   "cell_type": "code",
   "execution_count": 69,
   "id": "6aef0e77-e506-46af-b9f8-51e4f87bb6a8",
   "metadata": {},
   "outputs": [
    {
     "name": "stdout",
     "output_type": "stream",
     "text": [
      "4.012592554092407\n"
     ]
    }
   ],
   "source": [
    "t=time.time()\n",
    "idx = doerfler_mark(err)\n",
    "print(time.time()-t)"
   ]
  },
  {
   "cell_type": "code",
   "execution_count": 65,
   "id": "b8d20581-19f3-419d-bfe6-f4366ccdc772",
   "metadata": {},
   "outputs": [],
   "source": [
    "x=np.random.rand(2**20)"
   ]
  },
  {
   "cell_type": "code",
   "execution_count": 80,
   "id": "35acaed7-61a1-4e53-964e-f4bd5520f442",
   "metadata": {},
   "outputs": [
    {
     "name": "stdout",
     "output_type": "stream",
     "text": [
      "0.0006411075592041016\n",
      "5.602836608886719e-05\n",
      "2.4318695068359375e-05\n",
      "3.4332275390625e-05\n",
      "2.2172927856445312e-05\n",
      "3.409385681152344e-05\n",
      "0.00031757354736328125\n",
      "0.0001533031463623047\n",
      "0.0007352828979492188\n",
      "0.0006155967712402344\n",
      "0.0012314319610595703\n",
      "0.002138853073120117\n",
      "0.00421452522277832\n",
      "0.0029239654541015625\n",
      "0.005639076232910156\n",
      "0.01613926887512207\n",
      "0.03385114669799805\n",
      "0.05999922752380371\n",
      "0.09508347511291504\n",
      "0.1924445629119873\n",
      "0.4063246250152588\n",
      "0.7614285945892334\n",
      "1.607144832611084\n",
      "3.309105396270752\n",
      "6.980187892913818\n",
      "14.503744840621948\n",
      "30.11576795578003\n"
     ]
    }
   ],
   "source": [
    "maxiter=27\n",
    "T = np.zeros(maxiter)\n",
    "for i in range(maxiter):\n",
    "    x=np.random.rand(2**i)\n",
    "    t=time.time()\n",
    "    idx = doerfler_mark(x)\n",
    "    T[i] = time.time()-t\n",
    "    print(T[i])"
   ]
  },
  {
   "cell_type": "code",
   "execution_count": 81,
   "id": "b9ff42b8-7608-4334-ab2f-f3c88904d81e",
   "metadata": {},
   "outputs": [
    {
     "data": {
      "text/plain": [
       "array([1.737, 1.970, 0.694, 1.929, 2.862, 2.097, 1.772, 1.585, 2.024, 2.111, 1.874, 2.111, 2.059, 2.109, 2.078, 2.076])"
      ]
     },
     "execution_count": 81,
     "metadata": {},
     "output_type": "execute_result"
    }
   ],
   "source": [
    "T[10:][1:]/T[10:][:-(1)]"
   ]
  },
  {
   "cell_type": "code",
   "execution_count": 34,
   "id": "1ce57a6e-8c06-417c-bcb7-de98f97eaa25",
   "metadata": {},
   "outputs": [
    {
     "data": {
      "text/plain": [
       "0.4715836188756056"
      ]
     },
     "execution_count": 34,
     "metadata": {},
     "output_type": "execute_result"
    }
   ],
   "source": [
    "np.median(x)"
   ]
  },
  {
   "cell_type": "code",
   "execution_count": 23,
   "id": "a1096af0-1d0a-47d6-9a74-3c5a5855f3d6",
   "metadata": {},
   "outputs": [
    {
     "data": {
      "text/plain": [
       "0.9000000940735943"
      ]
     },
     "execution_count": 23,
     "metadata": {},
     "output_type": "execute_result"
    }
   ],
   "source": [
    "np.sqrt((err[idx]@err[idx])/(err@err))"
   ]
  },
  {
   "cell_type": "code",
   "execution_count": 10,
   "id": "e5774ccc-7508-4711-97ec-ad678ba3d530",
   "metadata": {},
   "outputs": [],
   "source": [
    "kvy = [8,4,8,5,2,4]\n",
    "kvx = [2,4,3,6,5,8]\n",
    "\n",
    "kvs=[(bspline.make_knots(1,0.0,1.0,xN),bspline.make_knots(1,0.0,1.0,yN)) for xN,yN in zip(kvx,kvy)]\n",
    "geos=[geometry.unit_square(support=((0.,1.),(0.0,0.5))).scale((2,1)),\n",
    "      geometry.unit_square(support=((0.,1.),(0.5,1.))).scale((2,1)),\n",
    "      geometry.Quad(np.array([[0.,2.,1.,2.],\n",
    "                              [1.,1.,2.,2.]])),\n",
    "      geometry.Quad(np.array([[2.,3.,2.,3.5],\n",
    "                              [1.,1.,2.,2.5]])),\n",
    "      geometry.Quad(np.array([[2.,3.,3.,3.5],\n",
    "                              [1.,0.,1.,0.5]])),\n",
    "      geometry.Quad(np.array([[2.,2.5,2.,3.],\n",
    "                              [0.,-0.5,1.,0.]])),]\n",
    "\n",
    "patches = [(tuple(bspline.mapto(k[d],lambda x: g.support[d][1]*x + g.support[d][0]*(1-x)) for d in range(2)), g) for k, g in zip(kvs,geos)]\n",
    "M=topology.PatchMesh(patches)\n",
    "M.sanity_check()\n",
    "#M.h_refine(patches={5:-1, 2:-1});"
   ]
  },
  {
   "cell_type": "code",
   "execution_count": 18,
   "id": "76fb3cca-740a-497b-bfc7-6c2ed682c1f3",
   "metadata": {},
   "outputs": [
    {
     "data": {
      "image/png": "[encoded data removed]",
      "text/plain": [
       "<Figure size 640x480 with 1 Axes>"
      ]
     },
     "metadata": {},
     "output_type": "display_data"
    }
   ],
   "source": [
    "M.draw(knots=1, patch_idx=0, nodes=1, axis='off')\n",
    "axis('scaled');"
   ]
  },
  {
   "cell_type": "code",
   "execution_count": 2,
   "id": "07412993-2bdc-4820-8466-14246e51d59e",
   "metadata": {},
   "outputs": [],
   "source": [
    "def drawSkeleton(MP):\n",
    "    for (p,b,_),(_,_,_),_ in MP.intfs:\n",
    "        ax,sd=assemble.int_to_bdspec(b)\n",
    "        geo=MP.mesh.geos()[p]\n",
    "        kvs=MP.mesh.kvs()[p]\n",
    "        grid=np.linspace(geo.support[(ax+1)%2][0], geo.support[(ax+1)%2][1],kvs[(ax+1)%2].numdofs)\n",
    "        if (p,b) == (4,1) or (p,b)==(5,3): grid=grid[1:-1]\n",
    "        if ax==0:\n",
    "            Z = geo.eval(grid,np.array([geo.support[0][sd]]))\n",
    "        else:\n",
    "            Z = geo.eval(np.array([geo.support[1][sd]]),grid)\n",
    "        plt.scatter(Z[:,:,0].ravel(),Z[:,:,1].ravel(),color='red',s=15,zorder=3)\n",
    "    \n",
    "def drawInterior(MP,r=1):\n",
    "    for p in range(MP.numpatches):\n",
    "        kvs, geo = MP.mesh.kvs()[p], MP.mesh.geos()[p]\n",
    "        gridx=np.linspace(geo.support[0][0],geo.support[0][1] ,kvs[0].numdofs)\n",
    "        gridy=np.linspace(geo.support[1][0],geo.support[1][1],kvs[1].numdofs)\n",
    "        Z = geo.eval(gridx,gridy)\n",
    "        if r != 0:\n",
    "            plt.scatter(Z[r:-r,r:-r,0].ravel(),Z[r:-r,r:-r,1].ravel(),color='black',s=15)\n",
    "        else:\n",
    "            for idx in MP.mesh.outer_boundaries:\n",
    "                if (p,2) not in MP.mesh.outer_boundaries[idx]: Z = Z[1:,:,:]\n",
    "                if (p,3) not in MP.mesh.outer_boundaries[idx]: Z = Z[:-1,:,:]\n",
    "                if (p,0) not in MP.mesh.outer_boundaries[idx]: Z = Z[:,1:,:]\n",
    "                if (p,1) not in MP.mesh.outer_boundaries[idx]: Z = Z[:,:-1,:]\n",
    "            plt.scatter(Z[:,:,0].ravel(),Z[:,:,1].ravel(),color='black',s=15,zorder=2)"
   ]
  },
  {
   "cell_type": "code",
   "execution_count": null,
   "id": "2089079f-653f-458e-a0f6-ed28cc880960",
   "metadata": {},
   "outputs": [],
   "source": []
  }
 ],
 "metadata": {
  "kernelspec": {
   "display_name": "Python 3 (ipykernel)",
   "language": "python",
   "name": "python3"
  },
  "language_info": {
   "codemirror_mode": {
    "name": "ipython",
    "version": 3
   },
   "file_extension": ".py",
   "mimetype": "text/x-python",
   "name": "python",
   "nbconvert_exporter": "python",
   "pygments_lexer": "ipython3",
   "version": "3.9.13"
  }
 },
 "nbformat": 4,
 "nbformat_minor": 5
}
