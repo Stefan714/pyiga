{
 "cells": [
  {
   "cell_type": "code",
   "execution_count": 15,
   "id": "b2ed1a9e-adbe-4ebf-806f-00d449d6ca14",
   "metadata": {},
   "outputs": [
    {
     "name": "stdout",
     "output_type": "stream",
     "text": [
      "Populating the interactive namespace from numpy and matplotlib\n"
     ]
    },
    {
     "name": "stderr",
     "output_type": "stream",
     "text": [
      "/home/wolfman/anaconda3/lib/python3.9/site-packages/IPython/core/magics/pylab.py:159: UserWarning: pylab import has clobbered these variables: ['hstack', 'cholesky', 'identity']\n",
      "`%matplotlib` prevents importing * from pylab and numpy\n",
      "  warn(\"pylab import has clobbered these variables: %s\"  % clobbered +\n"
     ]
    }
   ],
   "source": [
    "%pylab inline\n",
    "import scipy\n",
    "from scipy.sparse import coo_matrix, csr_matrix, csc_matrix, block_diag, identity, hstack\n",
    "#import matplotlib as mpl\n",
    "import matplotlib.pyplot as plt\n",
    "from pyiga import bspline, vform,  geometry, vis, solvers, utils, topology, algebra\n",
    "from pyiga import assemble\n",
    "#from patchmesh import *\n",
    "from sksparse.cholmod import cholesky\n",
    "#from patchmesh3D import *\n",
    "#from multipatch import *\n",
    "from pyiga import adaptive as adap\n",
    "import itertools\n",
    "import time\n",
    "\n",
    "np.set_printoptions(linewidth=100000)\n",
    "np.set_printoptions(precision=5)\n",
    "np.set_printoptions(formatter={'float_kind':\"{:.3f}\".format})"
   ]
  },
  {
   "cell_type": "code",
   "execution_count": 16,
   "id": "1c8438e3-d518-4893-bdb0-9ec4fdf89e4e",
   "metadata": {},
   "outputs": [],
   "source": [
    "kvs=[2*(bspline.make_knots(2,0.0,1.0,3),)]\n",
    "geos=[geometry.unit_square()]\n",
    "M=topology.PatchMesh(patches = list(zip(kvs,geos)))"
   ]
  },
  {
   "cell_type": "code",
   "execution_count": 20,
   "id": "d8354883-d0d9-4d79-9181-80e3f961a19f",
   "metadata": {},
   "outputs": [],
   "source": [
    "kvs = kvs[0]"
   ]
  },
  {
   "cell_type": "code",
   "execution_count": 21,
   "id": "2154151f-505c-48a6-a0d0-31c6276e7569",
   "metadata": {},
   "outputs": [
    {
     "data": {
      "text/plain": [
       "(KnotVector(array([0.000, 0.000, 0.000, 0.333, 0.667, 1.000, 1.000, 1.000]), 2),\n",
       " KnotVector(array([0.000, 0.000, 0.000, 0.333, 0.667, 1.000, 1.000, 1.000]), 2))"
      ]
     },
     "execution_count": 21,
     "metadata": {},
     "output_type": "execute_result"
    }
   ],
   "source": [
    "kvs"
   ]
  },
  {
   "cell_type": "code",
   "execution_count": null,
   "id": "0db7bd2e-cd03-4034-8a22-970ca032a183",
   "metadata": {},
   "outputs": [],
   "source": [
    "kvsx=(kvs[0],kvs[1].deriv(deriv=1)"
   ]
  },
  {
   "cell_type": "code",
   "execution_count": 17,
   "id": "d8c064a3-6b7b-40ed-bccc-7c3745659fb3",
   "metadata": {},
   "outputs": [
    {
     "name": "stdout",
     "output_type": "stream",
     "text": [
      "Basis setup took 0.0048313140869140625 seconds\n"
     ]
    }
   ],
   "source": [
    "MP=assemble.Multipatch(M,automatch=True)"
   ]
  },
  {
   "cell_type": "code",
   "execution_count": 18,
   "id": "264b28b2-09f2-4618-b7e3-f82f19b08e64",
   "metadata": {},
   "outputs": [],
   "source": [
    "u_=MP.L2projection(lambda x,y: (x-0.5)**2 + (y-0.5)**2)"
   ]
  },
  {
   "cell_type": "code",
   "execution_count": 19,
   "id": "1ad83153-1bce-4825-afbb-4bc10c73c061",
   "metadata": {},
   "outputs": [],
   "source": [
    "u = bspline.BSplineFunc(kvs[0],u_)"
   ]
  },
  {
   "cell_type": "code",
   "execution_count": 9,
   "id": "e5774ccc-7508-4711-97ec-ad678ba3d530",
   "metadata": {},
   "outputs": [],
   "source": [
    "# kvy = [8,2,8,5,8,4]\n",
    "# kvx = [2,4,3,6,5,8]\n",
    "\n",
    "# kvs=[(bspline.make_knots(1,0.0,1.0,xN),bspline.make_knots(1,0.0,1.0,yN)) for xN,yN in zip(kvx,kvy)]\n",
    "# geos=[geometry.unit_square(support=((0.,1.),(0.0,0.5))).scale((2,1)),\n",
    "#       geometry.unit_square(support=((0.,1.),(0.5,1.))).scale((2,1)),\n",
    "#       geometry.Quad(np.array([[0.,2.,1.,2.],\n",
    "#                               [1.,1.,2.,2.]])),\n",
    "#       geometry.Quad(np.array([[2.,3.,2.,3.5],\n",
    "#                               [1.,1.,2.,2.5]])),\n",
    "#       geometry.Quad(np.array([[2.,3.,3.,3.5],\n",
    "#                               [1.,0.,1.,0.5]])),\n",
    "#       geometry.Quad(np.array([[2.,2.5,2.,3.],\n",
    "#                               [0.,-0.5,1.,0.]])),]\n",
    "\n",
    "# patches = [(tuple(bspline.mapto(k[d],lambda x: g.support[d][1]*x + g.support[d][0]*(1-x)) for d in range(2)), g) for k, g in zip(kvs,geos)]\n",
    "# M=topology.PatchMesh(patches)\n",
    "# M.sanity_check()\n",
    "# #M.h_refine(patches={5:-1, 2:-1});"
   ]
  },
  {
   "cell_type": "code",
   "execution_count": 2,
   "id": "07412993-2bdc-4820-8466-14246e51d59e",
   "metadata": {},
   "outputs": [],
   "source": [
    "def drawSkeleton(MP):\n",
    "    for (p,b,_),(_,_,_),_ in MP.intfs:\n",
    "        ax,sd=assemble.int_to_bdspec(b)\n",
    "        geo=MP.mesh.geos()[p]\n",
    "        kvs=MP.mesh.kvs()[p]\n",
    "        grid=np.linspace(geo.support[(ax+1)%2][0], geo.support[(ax+1)%2][1],kvs[(ax+1)%2].numdofs)\n",
    "        if (p,b) == (4,1) or (p,b)==(5,3): grid=grid[1:-1]\n",
    "        if ax==0:\n",
    "            Z = geo.eval(grid,np.array([geo.support[0][sd]]))\n",
    "        else:\n",
    "            Z = geo.eval(np.array([geo.support[1][sd]]),grid)\n",
    "        plt.scatter(Z[:,:,0].ravel(),Z[:,:,1].ravel(),color='red',s=15,zorder=3)\n",
    "    \n",
    "def drawInterior(MP,r=1):\n",
    "    for p in range(MP.numpatches):\n",
    "        kvs, geo = MP.mesh.kvs()[p], MP.mesh.geos()[p]\n",
    "        gridx=np.linspace(geo.support[0][0],geo.support[0][1] ,kvs[0].numdofs)\n",
    "        gridy=np.linspace(geo.support[1][0],geo.support[1][1],kvs[1].numdofs)\n",
    "        Z = geo.eval(gridx,gridy)\n",
    "        if r != 0:\n",
    "            plt.scatter(Z[r:-r,r:-r,0].ravel(),Z[r:-r,r:-r,1].ravel(),color='black',s=15)\n",
    "        else:\n",
    "            for idx in MP.mesh.outer_boundaries:\n",
    "                if (p,2) not in MP.mesh.outer_boundaries[idx]: Z = Z[1:,:,:]\n",
    "                if (p,3) not in MP.mesh.outer_boundaries[idx]: Z = Z[:-1,:,:]\n",
    "                if (p,0) not in MP.mesh.outer_boundaries[idx]: Z = Z[:,1:,:]\n",
    "                if (p,1) not in MP.mesh.outer_boundaries[idx]: Z = Z[:,:-1,:]\n",
    "            plt.scatter(Z[:,:,0].ravel(),Z[:,:,1].ravel(),color='black',s=15,zorder=2)"
   ]
  },
  {
   "cell_type": "code",
   "execution_count": null,
   "id": "2089079f-653f-458e-a0f6-ed28cc880960",
   "metadata": {},
   "outputs": [],
   "source": []
  }
 ],
 "metadata": {
  "kernelspec": {
   "display_name": "Python 3 (ipykernel)",
   "language": "python",
   "name": "python3"
  },
  "language_info": {
   "codemirror_mode": {
    "name": "ipython",
    "version": 3
   },
   "file_extension": ".py",
   "mimetype": "text/x-python",
   "name": "python",
   "nbconvert_exporter": "python",
   "pygments_lexer": "ipython3",
   "version": "3.9.13"
  }
 },
 "nbformat": 4,
 "nbformat_minor": 5
}
