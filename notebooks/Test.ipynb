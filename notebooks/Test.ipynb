{
 "cells": [
  {
   "cell_type": "code",
   "execution_count": 1,
   "id": "b2ed1a9e-adbe-4ebf-806f-00d449d6ca14",
   "metadata": {},
   "outputs": [
    {
     "name": "stdout",
     "output_type": "stream",
     "text": [
      "Populating the interactive namespace from numpy and matplotlib\n"
     ]
    }
   ],
   "source": [
    "%pylab inline\n",
    "import scipy\n",
    "from scipy.sparse import coo_matrix, csr_matrix, csc_matrix, block_diag, identity, hstack\n",
    "import matplotlib.pyplot as plt\n",
    "from pyiga import assemble, bspline, vform, geometry, vis, solvers, utils, topology, algebra, quadrature\n",
    "from sksparse.cholmod import cholesky\n",
    "from pyiga import adaptive as adap\n",
    "import itertools\n",
    "import time\n",
    "import statistics as st\n",
    "\n",
    "np.set_printoptions(linewidth=100000)\n",
    "np.set_printoptions(precision=5)\n",
    "np.set_printoptions(formatter={'float_kind':\"{:.3f}\".format})"
   ]
  },
  {
   "cell_type": "code",
   "execution_count": null,
   "id": "f5594d33-550a-4f7c-a3d5-fbdcbf927776",
   "metadata": {},
   "outputs": [],
   "source": []
  },
  {
   "cell_type": "code",
   "execution_count": null,
   "id": "4d0abf0f-f350-4af2-907f-9c667427bb2b",
   "metadata": {},
   "outputs": [],
   "source": []
  },
  {
   "cell_type": "code",
   "execution_count": 83,
   "id": "e5774ccc-7508-4711-97ec-ad678ba3d530",
   "metadata": {},
   "outputs": [
    {
     "name": "stdout",
     "output_type": "stream",
     "text": [
      "setting up constraints took 0.012163639068603516 seconds.\n",
      "Basis setup took 0.010073423385620117 seconds\n"
     ]
    }
   ],
   "source": [
    "kvy = [8,4,8,5,2,4]\n",
    "kvx = [2,4,3,6,5,8]\n",
    "deg=2\n",
    "\n",
    "b = geometry.line_segment(np.array([0,1]),np.array([2,1])).as_nurbs()\n",
    "t = geometry.line_segment(np.array([1,2]),np.array([2,2])).as_nurbs()\n",
    "l = geometry.NurbsFunc(bspline.KnotVector(np.array([0.,0.,0.,1.,1.,1.]),2),coeffs=np.array([[0.,1.],[0.2,1.8],[1.,2.]]),weights = np.array([1.,1/sqrt(2),1.]))\n",
    "r = geometry.NurbsFunc(bspline.KnotVector(np.array([0.,0.,0.,1.,1.,1.]),2), coeffs = np.array([[2,1],[2,1.5],[2,2]]), weights = np.array([1.,1.,1.]))\n",
    "kvs_g2, coeffs_g2 = geometry._combine_boundary_curves(b,t,l,r)\n",
    "geo2 = geometry.NurbsFunc(kvs_g2, coeffs_g2[:,:,:2], coeffs_g2[:,:,2].reshape(3,2), premultiplied=1)\n",
    "\n",
    "l = geometry.NurbsFunc(bspline.KnotVector(np.array([0.,0.,0.,1.,1.,1.]),2), coeffs = np.array([[2,1],[2,  1.5],[2,  2  ]]), weights = np.array([1.,1.,       1.]))\n",
    "r = geometry.NurbsFunc(bspline.KnotVector(np.array([0.,0.,0.,1.,1.,1.]),2), coeffs = np.array([[3,1],[3.5,1.5],[3.5,2.5]]), weights = np.array([1.,1/sqrt(2),1.]))\n",
    "b = geometry.NurbsFunc(bspline.KnotVector(np.array([0.,0.,0.,1.,1.,1.]),2), coeffs = np.array([[2,1],[2.5,1  ],[3,  1  ]]), weights = np.array([1.,1.,       1.]))\n",
    "t = geometry.NurbsFunc(bspline.KnotVector(np.array([0.,0.,0.,1.,1.,1.]),2), coeffs = np.array([[2,2],[2.5,2.5],[3.5,2.5]]), weights = np.array([1.,1/sqrt(2),1.]))\n",
    "kvs_g3, coeffs_g3 = geometry._combine_boundary_curves(b,t,l,r)\n",
    "coeffs_g3[1,1] = np.array([2.75,1.75,1.0])\n",
    "geo3 = geometry.NurbsFunc(kvs_g3, coeffs_g3[:,:,:2], coeffs_g3[:,:,2], premultiplied=1)\n",
    "\n",
    "l = geometry.line_segment(np.array([2,1]),np.array([3,1])).as_nurbs()\n",
    "r = geometry.line_segment(np.array([2.5,-.5]),np.array([3,0])).as_nurbs()\n",
    "b = geometry.NurbsFunc(bspline.KnotVector(np.array([0.,0.,0.,1.,1.,1.]),2),coeffs=np.array([[2.,1],[2.5,0.5],[3,0]]),weights = np.array([1.,1.,1.]))\n",
    "t = geometry.NurbsFunc(bspline.KnotVector(np.array([0.,0.,0.,1.,1.,1.]),2), coeffs = np.array([[3,1],[3,0.5],[3.5,0.5]]), weights = np.array([1.,1/sqrt(2),1.]))\n",
    "kvs_g4, coeffs_g4 = geometry._combine_boundary_curves(b,t,l,r)\n",
    "geo4 = geometry.NurbsFunc(kvs_g4, coeffs_g4[:,:,:2], coeffs_g4[:,:,2].reshape(2,3), premultiplied=1)\n",
    "\n",
    "l = geometry.line_segment(np.array([2,0]),np.array([2,1])).as_nurbs()\n",
    "r = geometry.line_segment(np.array([3,0]),np.array([3.5,0.5])).as_nurbs()\n",
    "b = geometry.NurbsFunc(bspline.KnotVector(np.array([0.,0.,0.,1.,1.,1.]),2),coeffs=np.array([[2.,0.],[2.5,0],[2.5,-.5]]),weights = np.array([1.,1/sqrt(2),1.]))\n",
    "t = geometry.NurbsFunc(bspline.KnotVector(np.array([0.,0.,0.,1.,1.,1.]),2), coeffs = np.array([[2,1],[2.5,0.5],[3,0]]), weights = np.array([1.,1.,1.]))\n",
    "kvs_g5, coeffs_g5 = geometry._combine_boundary_curves(b,t,l,r)\n",
    "geo5 = geometry.NurbsFunc(kvs_g5, coeffs_g5[:,:,:2], coeffs_g5[:,:,2].reshape(2,3), premultiplied=1)\n",
    "\n",
    "\n",
    "kvs=[(bspline.make_knots(deg,0.0,1.0,xN),bspline.make_knots(deg,0.0,1.0,yN)) for xN,yN in zip(kvx,kvy)]\n",
    "geos=[geometry.unit_square(support=((0.,1.),(0.0,0.5))).scale((2,1)),\n",
    "      geometry.unit_square(support=((0.,1.),(0.5,1.))).scale((2,1)),\n",
    "      # geometry.Quad(np.array([[0.,2.,1.,2.],\n",
    "      #                         [1.,1.,2.,2.]])),\n",
    "      geo2,\n",
    "      geo3,\n",
    "      # geometry.Quad(np.array([[2.,3.,2.,3.5],\n",
    "      #                         [1.,1.,2.,2.5]])),\n",
    "      geo4,\n",
    "      # geometry.Quad(np.array([[2.,3.,3.,3.5],\n",
    "      #                         [1.,0.,1.,0.5]])),\n",
    "      geo5\n",
    "     ]\n",
    "      # geometry.Quad(np.array([[2.,2.5,2.,3.],\n",
    "      #                         [0.,-0.5,1.,0.]])),]\n",
    "\n",
    "patches = [(tuple(bspline.mapto(k[d],lambda x: g.support[d][1]*x + g.support[d][0]*(1-x)) for d in range(2)), g) for k, g in zip(kvs,geos)]\n",
    "\n",
    "conn, interfaces = assemble.detect_interfaces(patches)\n",
    "for i in range(len(interfaces)):\n",
    "    (p1, bdspec1, p2, bdspec2, conn_info) = interfaces[i]\n",
    "    interfaces[i] = ((p1, topology.bdspec_to_int(bdspec1), 0), (p2, topology.bdspec_to_int(bdspec2), 0), conn_info[1][0])\n",
    "\n",
    "interfaces = interfaces + [\n",
    "    ((2,0,0),(0,1,0),False),\n",
    "    ((2,0,1),(1,1,0),False)\n",
    "]\n",
    "\n",
    "M = topology.PatchMesh(patches, interfaces)\n",
    "MP = assemble.Multipatch(M, automatch=True)\n",
    "#M.sanity_check()\n",
    "#M.h_refine(patches={5:-1, 2:-1});"
   ]
  },
  {
   "cell_type": "code",
   "execution_count": 84,
   "id": "76fb3cca-740a-497b-bfc7-6c2ed682c1f3",
   "metadata": {},
   "outputs": [
    {
     "data": {
      "image/png": "[encoded data removed]",
      "text/plain": [
       "<Figure size 640x480 with 1 Axes>"
      ]
     },
     "metadata": {},
     "output_type": "display_data"
    }
   ],
   "source": [
    "M.draw(knots=1, patch_idx=1, nodes=1, axis='off')\n",
    "axis('scaled');"
   ]
  },
  {
   "cell_type": "code",
   "execution_count": 85,
   "id": "f6d79414-eb8b-40da-9f49-14c64c6958c4",
   "metadata": {},
   "outputs": [
    {
     "ename": "IndexError",
     "evalue": "index 0 is out of bounds for axis 0 with size 0",
     "output_type": "error",
     "traceback": [
      "\u001b[0;31m---------------------------------------------------------------------------\u001b[0m",
      "\u001b[0;31mIndexError\u001b[0m                                Traceback (most recent call last)",
      "\u001b[0;32m/tmp/ipykernel_3006/4106566892.py\u001b[0m in \u001b[0;36m<module>\u001b[0;34m\u001b[0m\n\u001b[0;32m----> 1\u001b[0;31m \u001b[0mMP\u001b[0m\u001b[0;34m.\u001b[0m\u001b[0mget_crosspoints\u001b[0m\u001b[0;34m(\u001b[0m\u001b[0;34m)\u001b[0m\u001b[0;34m\u001b[0m\u001b[0;34m\u001b[0m\u001b[0m\n\u001b[0m",
      "\u001b[0;32m~/anaconda3/lib/python3.9/site-packages/pyiga-0.1.0-py3.9-linux-x86_64.egg/pyiga/assemble.py\u001b[0m in \u001b[0;36mget_crosspoints\u001b[0;34m(self)\u001b[0m\n\u001b[1;32m   1775\u001b[0m \u001b[0;34m\u001b[0m\u001b[0m\n\u001b[1;32m   1776\u001b[0m                 \u001b[0mglob_idx\u001b[0m\u001b[0;34m,\u001b[0m \u001b[0m_\u001b[0m \u001b[0;34m=\u001b[0m \u001b[0mself\u001b[0m\u001b[0;34m.\u001b[0m\u001b[0m_get_idx\u001b[0m\u001b[0;34m(\u001b[0m\u001b[0mloc_idx\u001b[0m\u001b[0;34m,\u001b[0m \u001b[0mp\u001b[0m\u001b[0;34m)\u001b[0m\u001b[0;34m\u001b[0m\u001b[0;34m\u001b[0m\u001b[0m\n\u001b[0;32m-> 1777\u001b[0;31m                 \u001b[0mglob_idx\u001b[0m \u001b[0;34m=\u001b[0m \u001b[0mint\u001b[0m\u001b[0;34m(\u001b[0m\u001b[0mglob_idx\u001b[0m\u001b[0;34m[\u001b[0m\u001b[0;36m0\u001b[0m\u001b[0;34m]\u001b[0m\u001b[0;34m)\u001b[0m\u001b[0;34m\u001b[0m\u001b[0;34m\u001b[0m\u001b[0m\n\u001b[0m\u001b[1;32m   1778\u001b[0m \u001b[0;34m\u001b[0m\u001b[0m\n\u001b[1;32m   1779\u001b[0m                 \u001b[0;32mif\u001b[0m \u001b[0mglob_idx\u001b[0m \u001b[0;32mnot\u001b[0m \u001b[0;32min\u001b[0m \u001b[0mtotalboundary\u001b[0m\u001b[0;34m:\u001b[0m\u001b[0;34m\u001b[0m\u001b[0;34m\u001b[0m\u001b[0m\n",
      "\u001b[0;31mIndexError\u001b[0m: index 0 is out of bounds for axis 0 with size 0"
     ]
    }
   ],
   "source": [
    "MP.get_crosspoints()"
   ]
  },
  {
   "cell_type": "code",
   "execution_count": 88,
   "id": "9b85687d-8f7d-4682-9d01-a56f8f46c3d6",
   "metadata": {},
   "outputs": [],
   "source": [
    "loc_corners = np.concatenate([assemble.boundary_dofs(kvs,m=0,ravel=1)+MP.N_ofs[p] for p,kvs in enumerate(kvs)])\n",
    "dir_dofs = np.unique(np.concatenate([assemble.boundary_dofs(kvs[p],bdspec=[assemble.int_to_bdspec(b)],ravel=1)+MP.N_ofs[p] for p,b in MP.mesh.outer_boundaries[0]]))\n",
    "node_dofs = np.setdiff1d(loc_corners,dir_dofs)"
   ]
  },
  {
   "cell_type": "code",
   "execution_count": 89,
   "id": "68a9c5a3-c39d-4d6d-abc4-576333498c39",
   "metadata": {},
   "outputs": [
    {
     "data": {
      "text/plain": [
       "array([ 39,  70,  75,  85, 126, 182, 264])"
      ]
     },
     "execution_count": 89,
     "metadata": {},
     "output_type": "execute_result"
    }
   ],
   "source": [
    "node_dofs"
   ]
  },
  {
   "cell_type": "code",
   "execution_count": 90,
   "id": "6df2f51a-cd26-44eb-82df-51dc411f9eb9",
   "metadata": {},
   "outputs": [
    {
     "name": "stdout",
     "output_type": "stream",
     "text": [
      "  (0, 55)\t0.5\n",
      "  (0, 62)\t0.5\n",
      "  (1, 55)\t0.5\n",
      "  (1, 62)\t0.5\n",
      "  (2, 63)\t1.0\n",
      "  (3, 63)\t1.0\n",
      "  (4, 63)\t1.0\n",
      "  (5, 63)\t1.0\n",
      "  (6, 63)\t1.0\n"
     ]
    }
   ],
   "source": [
    "print(MP.Basis[node_dofs,:])"
   ]
  },
  {
   "cell_type": "code",
   "execution_count": null,
   "id": "d700c223-9f3c-464d-a700-dcc7a61f5e25",
   "metadata": {},
   "outputs": [],
   "source": [
    "{p:[(,[])] for p in range(MP.numpatches)}"
   ]
  },
  {
   "cell_type": "code",
   "execution_count": 93,
   "id": "8d57a10d-a9f6-45e6-909f-516d8efbe73d",
   "metadata": {},
   "outputs": [
    {
     "data": {
      "text/plain": [
       "array([[0.250, 0.625, 0.125, 0.000]])"
      ]
     },
     "execution_count": 93,
     "metadata": {},
     "output_type": "execute_result"
    }
   ],
   "source": [
    "bspline.collocation(kvs[0][0],0.25).A"
   ]
  },
  {
   "cell_type": "code",
   "execution_count": 20,
   "id": "06f8d779-e316-4d1c-8b94-551eacfaf10d",
   "metadata": {},
   "outputs": [
    {
     "data": {
      "text/plain": [
       "<193x149 sparse matrix of type '<class 'numpy.float64'>'\n",
       "\twith 208 stored elements in Compressed Sparse Column format>"
      ]
     },
     "execution_count": 20,
     "metadata": {},
     "output_type": "execute_result"
    }
   ],
   "source": [
    "\n",
    "\n",
    "\n",
    "MP.Basis.tocsc()"
   ]
  },
  {
   "cell_type": "code",
   "execution_count": 2,
   "id": "07412993-2bdc-4820-8466-14246e51d59e",
   "metadata": {},
   "outputs": [],
   "source": [
    "def drawSkeleton(MP):\n",
    "    for (p,b,_),(_,_,_),_ in MP.intfs:\n",
    "        ax,sd=assemble.int_to_bdspec(b)\n",
    "        geo=MP.mesh.geos()[p]\n",
    "        kvs=MP.mesh.kvs()[p]\n",
    "        grid=np.linspace(geo.support[(ax+1)%2][0], geo.support[(ax+1)%2][1],kvs[(ax+1)%2].numdofs)\n",
    "        if (p,b) == (4,1) or (p,b)==(5,3): grid=grid[1:-1]\n",
    "        if ax==0:\n",
    "            Z = geo.eval(grid,np.array([geo.support[0][sd]]))\n",
    "        else:\n",
    "            Z = geo.eval(np.array([geo.support[1][sd]]),grid)\n",
    "        plt.scatter(Z[:,:,0].ravel(),Z[:,:,1].ravel(),color='red',s=15,zorder=3)\n",
    "    \n",
    "def drawInterior(MP,r=1):\n",
    "    for p in range(MP.numpatches):\n",
    "        kvs, geo = MP.mesh.kvs()[p], MP.mesh.geos()[p]\n",
    "        gridx=np.linspace(geo.support[0][0],geo.support[0][1] ,kvs[0].numdofs)\n",
    "        gridy=np.linspace(geo.support[1][0],geo.support[1][1],kvs[1].numdofs)\n",
    "        Z = geo.eval(gridx,gridy)\n",
    "        if r != 0:\n",
    "            plt.scatter(Z[r:-r,r:-r,0].ravel(),Z[r:-r,r:-r,1].ravel(),color='black',s=15)\n",
    "        else:\n",
    "            for idx in MP.mesh.outer_boundaries:\n",
    "                if (p,2) not in MP.mesh.outer_boundaries[idx]: Z = Z[1:,:,:]\n",
    "                if (p,3) not in MP.mesh.outer_boundaries[idx]: Z = Z[:-1,:,:]\n",
    "                if (p,0) not in MP.mesh.outer_boundaries[idx]: Z = Z[:,1:,:]\n",
    "                if (p,1) not in MP.mesh.outer_boundaries[idx]: Z = Z[:,:-1,:]\n",
    "            plt.scatter(Z[:,:,0].ravel(),Z[:,:,1].ravel(),color='black',s=15,zorder=2)"
   ]
  },
  {
   "cell_type": "code",
   "execution_count": 43,
   "id": "2089079f-653f-458e-a0f6-ed28cc880960",
   "metadata": {},
   "outputs": [],
   "source": [
    "kv1=bspline.KnotVector(np.array([0.0,0.3,0.6,1.0]),0)\n",
    "kv2=bspline.KnotVector(np.array([0.0,0.2,0.4,0.6,0.8,1.0]),0)"
   ]
  },
  {
   "cell_type": "code",
   "execution_count": 44,
   "id": "b568c250-5c0d-44e2-a996-fe3ac1d9daec",
   "metadata": {},
   "outputs": [],
   "source": [
    "B=bspline.prolongation(kv1,kv2)"
   ]
  },
  {
   "cell_type": "code",
   "execution_count": 45,
   "id": "0e40dade-0f23-4c7d-b086-af1380898c4a",
   "metadata": {},
   "outputs": [
    {
     "data": {
      "text/plain": [
       "array([[1.000, 0.000, 0.000, 0.000, 0.000],\n",
       "       [0.000, 1.000, 1.000, 0.000, 0.000],\n",
       "       [0.000, 0.000, 0.000, 1.000, 1.000]])"
      ]
     },
     "execution_count": 45,
     "metadata": {},
     "output_type": "execute_result"
    }
   ],
   "source": [
    "B.A.T"
   ]
  },
  {
   "cell_type": "code",
   "execution_count": 46,
   "id": "06ad9faa-e638-4051-ab9b-a171760889d4",
   "metadata": {},
   "outputs": [],
   "source": [
    "kvs=(kv1,kv2)"
   ]
  },
  {
   "cell_type": "code",
   "execution_count": 47,
   "id": "65a5e268-f697-4cd3-b4a7-4beb4d4b4e35",
   "metadata": {},
   "outputs": [
    {
     "data": {
      "text/plain": [
       "15"
      ]
     },
     "execution_count": 47,
     "metadata": {},
     "output_type": "execute_result"
    }
   ],
   "source": [
    "bspline.numspans(kvs)"
   ]
  },
  {
   "cell_type": "code",
   "execution_count": 59,
   "id": "be448d57-364a-4d46-954d-fd45b3a4a809",
   "metadata": {},
   "outputs": [
    {
     "data": {
      "image/png": "[encoded data removed]",
      "text/plain": [
       "<Figure size 640x480 with 1 Axes>"
      ]
     },
     "metadata": {},
     "output_type": "display_data"
    }
   ],
   "source": [
    "vis.plot_geo(geometry.unit_square(), gridx=kvs[1].mesh, gridy=kvs[0].mesh)"
   ]
  },
  {
   "cell_type": "code",
   "execution_count": 61,
   "id": "a9f6ef6b-a633-4aa6-a2cc-5cce90070279",
   "metadata": {},
   "outputs": [
    {
     "data": {
      "text/plain": [
       "array([10, 11, 12, 13, 14])"
      ]
     },
     "execution_count": 61,
     "metadata": {},
     "output_type": "execute_result"
    }
   ],
   "source": [
    "assemble.boundary_dofs(kvs, bdspec=[(0,1)], ravel=1)"
   ]
  },
  {
   "cell_type": "code",
   "execution_count": 74,
   "id": "2c8c9330-4b23-4bbf-93c6-b0d379aa7466",
   "metadata": {},
   "outputs": [],
   "source": [
    "a={0:1}\n",
    "b={0:2,3:4}"
   ]
  },
  {
   "cell_type": "code",
   "execution_count": 76,
   "id": "cd6f8ceb-57ee-41bb-92b0-1cc66104981e",
   "metadata": {},
   "outputs": [
    {
     "data": {
      "text/plain": [
       "{3}"
      ]
     },
     "execution_count": 76,
     "metadata": {},
     "output_type": "execute_result"
    }
   ],
   "source": [
    "set(b) - set(a)"
   ]
  },
  {
   "cell_type": "code",
   "execution_count": 77,
   "id": "b86b2c4a-7a83-4a29-9a4c-24fce7430dd5",
   "metadata": {},
   "outputs": [
    {
     "data": {
      "text/plain": [
       "str"
      ]
     },
     "execution_count": 77,
     "metadata": {},
     "output_type": "execute_result"
    }
   ],
   "source": [
    "type('a')"
   ]
  },
  {
   "cell_type": "code",
   "execution_count": null,
   "id": "b01df308-b073-4a4f-9ea3-4415f754db09",
   "metadata": {},
   "outputs": [],
   "source": []
  }
 ],
 "metadata": {
  "kernelspec": {
   "display_name": "Python 3 (ipykernel)",
   "language": "python",
   "name": "python3"
  },
  "language_info": {
   "codemirror_mode": {
    "name": "ipython",
    "version": 3
   },
   "file_extension": ".py",
   "mimetype": "text/x-python",
   "name": "python",
   "nbconvert_exporter": "python",
   "pygments_lexer": "ipython3",
   "version": "3.9.13"
  }
 },
 "nbformat": 4,
 "nbformat_minor": 5
}
