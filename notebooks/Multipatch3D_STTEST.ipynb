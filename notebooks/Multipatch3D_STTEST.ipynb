{
 "cells": [
  {
   "cell_type": "code",
   "execution_count": 1,
   "id": "a79efc12-f80d-4be3-b107-4a7ec2e821af",
   "metadata": {},
   "outputs": [
    {
     "name": "stdout",
     "output_type": "stream",
     "text": [
      "Populating the interactive namespace from numpy and matplotlib\n"
     ]
    }
   ],
   "source": [
    "%pylab inline\n",
    "import scipy\n",
    "import sys\n",
    "from scipy.sparse import coo_matrix, block_diag, identity, hstack\n",
    "import matplotlib as mpl\n",
    "import matplotlib.pyplot as plt\n",
    "from pyiga import bspline, vform, geometry, vis, solvers, utils\n",
    "from pyiga import assemble as Ass\n",
    "from patchmesh import *\n",
    "from patchmesh3D import *\n",
    "import itertools as it\n",
    "#from multipatch import *\n",
    "\n",
    "numpy.set_printoptions(linewidth=100000)\n",
    "numpy.set_printoptions(precision=5)"
   ]
  },
  {
   "cell_type": "code",
   "execution_count": 2,
   "id": "1b22d4f2-ab7a-46d8-9e12-9894a3d0cca1",
   "metadata": {
    "jupyter": {
     "source_hidden": true
    },
    "tags": []
   },
   "outputs": [],
   "source": [
    "def rref(A, tol=1e-8):\n",
    "    B=A.astype(float).copy()\n",
    "    m,n=B.shape\n",
    "    rows=np.arange(m)\n",
    "    i=0\n",
    "    j=0\n",
    "    piv=[]  #indices of pivot columns, rank = length(piv)\n",
    "    while (i<m and j<n):\n",
    "        k = np.argmax(abs(B[i:m,j]))\n",
    "        k=k+i\n",
    "        if abs(B[k,j])<=tol:\n",
    "            B[i:m,j]=0\n",
    "            j+=1\n",
    "        else:\n",
    "            piv.append(j)\n",
    "            if k!=i:\n",
    "                rows[[i,k]]=rows[[k,i]]\n",
    "                B[[i,k],j:n]=B[[k,i],j:n]\n",
    "            B[i,j:n]=B[i,j:n]/B[i,j]\n",
    "            for l in np.r_[np.arange(i),np.arange(i+1,m)]:\n",
    "                B[l,j:n]=B[l,j:n]-B[l,j]*B[i,j:n]\n",
    "            i+=1\n",
    "            j+=1\n",
    "    return B, np.array(piv), rows"
   ]
  },
  {
   "cell_type": "code",
   "execution_count": 3,
   "id": "cca4f286-0e9b-4014-8710-aec94a720fa3",
   "metadata": {
    "jupyter": {
     "source_hidden": true
    },
    "tags": []
   },
   "outputs": [],
   "source": [
    "def basis_for_nullspace_of_dense_SVD(constr):\n",
    "    '''Derives a matrix representing a basis for the nullspace of a dense matrix using SVD'''\n",
    "    result = scipy.linalg.null_space(constr)\n",
    "    # Scaling: Largest entry should be 1\n",
    "    for i in range(result.shape[1]):\n",
    "        mx = result[:,i].max()\n",
    "        mn = result[:,i].min()\n",
    "        if mx > -mx:\n",
    "            result[:,i] /= mx\n",
    "        else:\n",
    "            result[:,i] /= mn\n",
    "    return result.transpose()\n",
    "\n",
    "def basis_for_nullspace_of_dense_LU(constr, tol=1e-8):\n",
    "    '''Derives a matrix representing a basis for the nullspace of a dense matrix using LU'''\n",
    "    #P,L,U = scipy.linalg.lu(constr)\n",
    "    U, piv, _ = rref(constr, tol=tol)\n",
    "    # Remove (almost) empty rows\n",
    "    U=U[:len(piv),:]\n",
    "    r,c = U.shape\n",
    "    #print(U)\n",
    "    # Swap cols if necessary\n",
    "    perm = np.arange(c)\n",
    "    for i in range(len(piv)):\n",
    "        perm[[i,piv[i]]]=perm[[piv[i],i]]\n",
    "#     for i in range(r):\n",
    "#         if abs(U[i,i])<tol:\n",
    "#             #mx = np.abs(U[i,i+1:]).max()\n",
    "#             j = i\n",
    "#             while abs(U[i,j]) < tol:\n",
    "#                  j += 1\n",
    "# #             j=i\n",
    "# #             while abs(U[i,j])<tol:\n",
    "# #                 j+=1\n",
    "#             perm[i], perm[j] = perm[j], perm[i]\n",
    "#             U[:,[i,j]] = U[:,[j,i]]\n",
    "    # Split matrix U and resolve linear system\n",
    "    #print(U)\n",
    "    U1 = U[:,piv]\n",
    "    U2 = U[:,perm[len(piv):]]\n",
    "    #print(U1)\n",
    "    #sol = scipy.linalg.lu_solve((U1,np.arange(r)),U2)\n",
    "    # Setup result\n",
    "    result = np.zeros((c,c-r))\n",
    "    result[:r,:] = -U2\n",
    "    result[r:,:] = np.eye(c-r)    \n",
    "    # Apply perm\n",
    "    result2=result.copy()\n",
    "    result[list(perm)] = result2\n",
    "    # Scaling: Largest entry should be 1\n",
    "    for i in range(result.shape[1]):\n",
    "        mx = result[:,i].max()\n",
    "        mn = result[:,i].min()\n",
    "        if mx > -mx:\n",
    "            result[:,i] /= mx\n",
    "        else:\n",
    "            result[:,i] /= mn\n",
    "    #R, piv, row_exchanges = rref(result.T)\n",
    "    return result.T\n",
    "\n",
    "def get_connected_components(constr):\n",
    "    '''Derives all connected components of the graph, where cols of matrix are nodes'''\n",
    "    assert isinstance(constr, scipy.sparse.csr_matrix)\n",
    "    (r, c) = constr.shape\n",
    "    \n",
    "    if not constr.has_sorted_indices:\n",
    "        constr.sort_indices()\n",
    "    \n",
    "    comps = np.arange(c)\n",
    "    for i in range(r):\n",
    "        smallest_index = c\n",
    "        for j in range(constr.indptr[i], constr.indptr[i+1]):\n",
    "            smallest_index = min(smallest_index, comps[constr.indices[j]])\n",
    "        for j in range(constr.indptr[i], constr.indptr[i+1]):\n",
    "            idx=comps[constr.indices[j]]\n",
    "            comps[constr.indices[j]]=smallest_index\n",
    "            while comps[idx]>smallest_index:\n",
    "                idx_new=comps[idx]\n",
    "                comps[idx] = smallest_index\n",
    "                idx=comps[idx_new]\n",
    "    \n",
    "    for i in range(c):\n",
    "        if comps[comps[i]] < comps[i]:\n",
    "            comps[i] = comps[comps[i]]\n",
    "        \n",
    "    constr_list = {}\n",
    "    for i in range(r):\n",
    "        comp = comps[constr.indices[constr.indptr[i]]]\n",
    "        if comp not in constr_list:\n",
    "            constr_list[comp] = []         \n",
    "        constr_list[comp].append(i)\n",
    "        \n",
    "    comp_list = {}\n",
    "    coupled = np.zeros(c,'b')\n",
    "    for i in range(c):\n",
    "        comp = comps[i]\n",
    "        if comp != i or comp in constr_list.keys():\n",
    "            if not comp in comp_list:\n",
    "                comp_list[comp] = [comp]\n",
    "            if comp != i:\n",
    "                comp_list[comp].append(i)\n",
    "            coupled[i] = True\n",
    "    \n",
    "#     print(\"coupled     =\",coupled)\n",
    "#     print(\"comp_list   =\",comp_list)\n",
    "#     print(\"constr_list =\",constr_list)\n",
    "    \n",
    "    return coupled, comp_list, constr_list\n",
    "\n",
    "def basis_for_nullspace(constr, basis_for_nullspace_of_dense=basis_for_nullspace_of_dense_SVD):\n",
    "    '''Derives a matrix representing a basis for the nullspace of a sparse matrix by first decomposing it into its connected components'''\n",
    "    assert isinstance(constr, scipy.sparse.csr_matrix)\n",
    "    (r, c) = constr.shape\n",
    "    \n",
    "    coupled, comp_list, constr_list = get_connected_components(constr)\n",
    "\n",
    "    mat = scipy.sparse.lil_matrix((c,c))\n",
    "    \n",
    "    # First, take the free dofs as they are\n",
    "    row = 0\n",
    "    for i in range(c):\n",
    "        if not coupled[i]:\n",
    "            mat[row,i] = 1\n",
    "            row += 1\n",
    "\n",
    "    # TODO: Secondly, take the dofs with one-to-one mapping\n",
    "    \n",
    "    # Finally, take the other dofs\n",
    "    for i in comp_list.keys():\n",
    "        comp_item = comp_list[i]\n",
    "        constr_item = constr_list[i]\n",
    "        local_matrix = (constr[constr_item,:][:,comp_item]).A\n",
    "        #print(local_matrix)\n",
    "        local_basis  = basis_for_nullspace_of_dense(local_matrix)\n",
    "        #print(local_basis)\n",
    "        #print( \"local_matrix:\\n\", local_matrix )\n",
    "        #print( \"local_basis :\\n\", local_basis  )\n",
    "        lb_rows, lb_cols = local_basis.shape\n",
    "        for i0 in range(lb_rows):\n",
    "            for j0 in range(lb_cols):\n",
    "                mat[row,comp_item[j0]] = local_basis[i0,j0]\n",
    "            row += 1\n",
    "\n",
    "    mat.resize(row,c)\n",
    "    return mat.tocsr()"
   ]
  },
  {
   "cell_type": "code",
   "execution_count": 4,
   "id": "c3986e24-4539-418c-93b3-42e7f62283b8",
   "metadata": {
    "jupyter": {
     "source_hidden": true
    },
    "tags": []
   },
   "outputs": [],
   "source": [
    "def PoissonEstimator(MP,f,uh):\n",
    "    n = MP.mesh.numpatches\n",
    "    indicator = np.zeros(n)\n",
    "    params = {'f': f}\n",
    "    \n",
    "    uh_per_patch = dict()\n",
    "    \n",
    "    #residual contribution\n",
    "    for p, ((kvs, geo), _) in enumerate(MP.mesh.patches):\n",
    "        \n",
    "        h = np.linalg.norm([b-a for a,b in geo.bounding_box()])\n",
    "        \n",
    "        N = tuple(kv.numdofs for kv in kvs)\n",
    "        uh_per_patch[p] = (MP.global_to_patch(p) @ uh).reshape(N)   #cache Spline Function on patch p\n",
    "        \n",
    "        params['geo'] = geo\n",
    "        params['uh_func'] = geometry.BSplineFunc(kvs, uh_per_patch[p])\n",
    "        \n",
    "        kvs0 = tuple([bspline.KnotVector(kv.mesh, 0) for kv in kvs])\n",
    "        indicator[p] = h**2 * np.sum(Ass.assemble('(f + div(grad(uh_func)))**2 * v * dx', kvs0, params))\n",
    "        \n",
    "    params = dict()\n",
    "    \n",
    "    #flux contribution\n",
    "    for i,((p1,b1,_), (p2,b2,_), _, flip) in enumerate(MP.intfs):\n",
    "        #print(p1, p2, flip)\n",
    "        \n",
    "        ((kvs1, geo1), _), ((kvs2, geo2), _) = MP.mesh.patches[p1], MP.mesh.patches[p2]\n",
    "        bdspec1, bdspec2 = Ass.int_to_bdspec(b1), Ass.int_to_bdspec(b2)\n",
    "        \n",
    "        bkv1, bkv2 = Ass.boundary_kv(kvs1, bdspec1), Ass.boundary_kv(kvs2, bdspec2)\n",
    "\n",
    "        geo = geo2.boundary(bdspec2)\n",
    "        params['geo'] = geo\n",
    "        \n",
    "        kv0 = tuple([bspline.KnotVector(kv.mesh, 0) for kv in bkv2])\n",
    "        h = np.sum(Ass.assemble('v * ds', kv0, params))\n",
    "        \n",
    "        params['uh_grad1'] = geometry.BSplineFunc(kvs1, uh_per_patch[p1]).transformed_jacobian(geo1).boundary(bdspec1, flip=flip) #physical gradient of uh on patch 1 (flipped if needed)\n",
    "        params['uh_grad2'] = geometry.BSplineFunc(kvs2, uh_per_patch[p2]).transformed_jacobian(geo2).boundary(bdspec2)            #physical gradient of uh on patch 2\n",
    "        #params['uh1'] = geometry.BSplineFunc(kvs1, uh_per_patch[p1]).boundary(bdspec1,flip=flip)\n",
    "        #params['uh2'] = geometry.BSplineFunc(kvs2, uh_per_patch[p2]).boundary(bdspec2)\n",
    "        normalflux_jump = np.sum(Ass.assemble('(inner(uh_grad1 - uh_grad2, n) )**2 * v * ds', kv0 ,params))\n",
    "        #print(normalflux_jump)\n",
    "\n",
    "        indicator[p1] += 0.5 * h * normalflux_jump\n",
    "        indicator[p2] += 0.5 * h * normalflux_jump\n",
    "    \n",
    "    return np.sqrt(indicator)\n",
    "\n",
    "def check_coupling(MP, u_):\n",
    "    u_pp = dict()\n",
    "\n",
    "    for i,((p1,b1,_), (p2,b2,_), flip) in enumerate(MP.intfs):\n",
    "        \n",
    "        ((kvs1,_),_), ((kvs2,_),_) = MP.mesh.patches[p1], MP.mesh.patches[p2]\n",
    "        bdspec1, bdspec2 = int_to_bdspec(b1), int_to_bdspec(b2)\n",
    "        (kv1), (kv2) = boundary_kv(kvs1, bdspec1), boundary_kv(kvs2, bdspec2, flip=flip)\n",
    "        dofs1, dofs2 = Ass.boundary_dofs(kvs1, bdspec1, ravel=True), Ass.boundary_dofs(kvs2, bdspec2, ravel=True, flip=flip)\n",
    "        \n",
    "        if p1 not in u_pp:\n",
    "            u_pp[p1]=MP.global_to_patch(p1) @ u_\n",
    "        if p2 not in u_pp:\n",
    "            u_pp[p2]=MP.global_to_patch(p2) @ u_\n",
    "          \n",
    "        P = bspline.prolongation(kv1, kv2)\n",
    "        u1, u2 = u_pp[p1][dofs1], u_pp[p2][dofs2]\n",
    "        r=norm(u2 - P @ u1)\n",
    "        \n",
    "        if r>1e-8:\n",
    "            return False\n",
    "    return True\n",
    "\n",
    "class Multipatch:\n",
    "    \"\"\"Represents a multipatch structure, consisting of a number of patches\n",
    "    together with their discretizations and the information about shared dofs\n",
    "    between patches. Nonconforming patches (both geometrically and knotwise non conforming) are allowed as long as there exists \n",
    "    a hierarchy between the interface knots\n",
    "\n",
    "    Args:\n",
    "        pm: A :class:`PatchMesh` instance representing the patches \n",
    "            via their discretization and their geometry function \n",
    "            as well as the generated mesh between the patches (vertices, interfaces).\n",
    "            \n",
    "        b_data: A dictionary of the form {'D':dir_data, 'N':neu_data, 'R': robin_data}\n",
    "            dir_data: A list of triples (patch, bdspec, dir_func) prescribing the function `dir_func` to boundary dofs of `patch` on side `bdspec`.\n",
    "            neu_data: A list of triples (patch, bdspec, neu_func) in order to assemble natural boundary conditions for boundary dofs of `patch` on side `bdspec`.\n",
    "            robin_data: A list of triples (patch, bd_spec, (gamma, robin_func))\n",
    "        \n",
    "        automatch (bool): if True, attempt to automatically apply the interface information from the PatchMesh object to couple the patches.\n",
    "            If False, the user has to manually join the patches by calling\n",
    "            :meth:`join_boundaries` as often as needed, followed by\n",
    "            :meth:`finalize`.\n",
    "    \"\"\"\n",
    "    def __init__(self, pm, automatch=False, dim=2):\n",
    "        \"\"\"Initialize a multipatch structure.\"\"\"\n",
    "        # underlying PatchMesh object describing the geometry\n",
    "        self.mesh = pm\n",
    "        # enforced regularity across patch interfaces\n",
    "        #self.k = k\n",
    "        self.dim = dim \n",
    "            \n",
    "        # number of tensor product dofs per patch\n",
    "        self.n = [tuple([kv.numdofs for kv in kvs]) for ((kvs,_),_) in self.mesh.patches]\n",
    "        self.N = [np.prod(n) for n in self.n]\n",
    "        # offset to the dofs of the i-th patch\n",
    "        self.N_ofs = np.concatenate(([0], np.cumsum(self.N)))\n",
    "        # per patch, a dict of shared indices\n",
    "        self.shared_pp = dict(zip([p for p in range(self.mesh.numpatches)],self.mesh.numpatches*[set(),]))\n",
    "        # a list of interfaces (patch1, boundary dofs1, patch2, boundary dofs2)\n",
    "        self.intfs = set()\n",
    "        self.Constr=scipy.sparse.csr_matrix((0,self.N_ofs[-1]))\n",
    "        self.dof_class={dof:0 for dof in np.arange(self.N_ofs[-1])}\n",
    "\n",
    "        if automatch:\n",
    "            interfaces = self.mesh.interfaces.copy()\n",
    "            \n",
    "            for ((p1,bd1,s1),((p2,bd2,s2),flip)) in interfaces.items():\n",
    "                if ((p2,bd2,s2),(p1,bd1,s1),flip) not in self.intfs:\n",
    "                    self.intfs.add(((p1,bd1,s1),(p2,bd2,s2),flip))\n",
    "                \n",
    "            #print(self.intfs)\n",
    "            for ((p1,bd1,s1),(p2,bd2,s2), flip) in self.intfs:\n",
    "                bdspec1 = (Ass.int_to_bdspec(bd1),)\n",
    "                bdspec2 = (Ass.int_to_bdspec(bd2),)\n",
    "                self.join_boundaries(p1, bdspec1, s1 , p2, bdspec2, s2, flip)\n",
    "            #self.finalize()\n",
    "\n",
    "    @property\n",
    "    def numpatches(self):\n",
    "        \"\"\"Number of patches in the multipatch structure.\"\"\"\n",
    "        return len(self.mesh.patches)\n",
    "\n",
    "    @property\n",
    "    def numdofs(self):\n",
    "        \"\"\"Number of dofs after eliminating shared dofs.\n",
    "\n",
    "        May only be called after :func:`finalize`.\n",
    "        \"\"\"\n",
    "        return self.Basis.shape[0]\n",
    "    \n",
    "    @property\n",
    "    def numloc_dofs(self):\n",
    "        return self.N_ofs[-1]\n",
    "    \n",
    "    def reset(self, automatch = False):\n",
    "        self.__init__(pm=self.mesh, b_data=self.b_data, dim=self.dim, automatch=automatch)\n",
    "\n",
    "    def join_boundaries(self, p1, bdspec1, s1, p2, bdspec2, s2, flip=None):\n",
    "        \"\"\"Join the dofs lying along boundary `bdspec1` of patch `p1` with\n",
    "        those lying along boundary `bdspec2` of patch `p2`. \n",
    "\n",
    "        See :func:`compute_dirichlet_bc` for the format of the boundary\n",
    "        specification.\n",
    "\n",
    "        If `flip` is given, it should be a sequence of booleans indicating for\n",
    "        each coordinate axis of the boundary if the coordinates of `p2` have to\n",
    "        be flipped along that axis.\n",
    "        \"\"\"\n",
    "        \n",
    "        kvs1, kvs2 = self.mesh.patches[p1][0][0], self.mesh.patches[p2][0][0]\n",
    "        if flip is None:\n",
    "            flip=(self.dim-1)*(False,)\n",
    "        \n",
    "        bkv1 = Ass.boundary_kv(kvs1, bdspec1)\n",
    "        bkv2 = Ass.boundary_kv(kvs2, bdspec2, flip=flip) \n",
    "        \n",
    "        #retrieve local dofs for each patch on the boundary\n",
    "        dofs1 = Ass.boundary_dofs(self.mesh.patches[p1][0][0], bdspec1, ravel=True)\n",
    "        dofs2 = Ass.boundary_dofs(self.mesh.patches[p2][0][0], bdspec2, ravel=True, flip=flip)\n",
    "                \n",
    "        #check for hierarchy of the boundary knot vectors. currently only supports knot vectors with equal degree.\n",
    "        if all([bspline.is_sub_space(kv1,kv2) for kv1, kv2 in zip(bkv1,bkv2)]):\n",
    "            pass\n",
    "        elif all([bspline.is_sub_space(kv2,kv1) for kv1, kv2 in zip(bkv1,bkv2)]):          \n",
    "            p1, p2 = p2, p1\n",
    "            bdspec1, bdspec2 = bdspec2, bdspec1\n",
    "            bkv1, bkv2 = bkv2, bkv1\n",
    "            dofs1, dofs2 = dofs2, dofs1\n",
    "        else:\n",
    "            print('interface coupling not possible')\n",
    "            \n",
    "        for dof in dofs1:\n",
    "            if self.dof_class[dof + self.N_ofs[p1]]==0:\n",
    "                self.dof_class[dof + self.N_ofs[p1]]=1\n",
    "        for dof in dofs2:\n",
    "            self.dof_class[dof + self.N_ofs[p2]]=2\n",
    "            \n",
    "        self.shared_pp[p1]=self.shared_pp[p1] | set(dofs1)\n",
    "        self.shared_pp[p2]=self.shared_pp[p2] | set(dofs2)\n",
    "            \n",
    "        #Prolongation operator  \n",
    "        P = -scipy.sparse.coo_matrix(bspline.prolongation_tp(bkv1,bkv2))   #TODO: make paramater to generate prolongation matrix as coo_matrix directly?\n",
    "        #construct constraints for this interface\n",
    "        data = np.concatenate([P.data, np.ones(len(dofs2))])\n",
    "        I = np.concatenate([P.row, np.arange(len(dofs2))])\n",
    "        J = np.concatenate([dofs1[P.col] + self.N_ofs[p1],dofs2 + self.N_ofs[p2]])\n",
    "        \n",
    "        self.Constr = scipy.sparse.vstack([self.Constr,scipy.sparse.coo_matrix((data,(I,J)),(len(dofs2), self.numloc_dofs)).tocsr()])\n",
    "        \n",
    "           \n",
    "    def finalize(self):\n",
    "        \"\"\"After all shared dofs have been declared using\n",
    "        :meth:`join_boundaries` or :meth:`join_dofs`, call this function to set\n",
    "        up the internal data structures.\n",
    "        \"\"\"\n",
    "        num_shared = [len(self.shared_pp[p]) for p in range(self.numpatches)]\n",
    "        # number of local dofs per patch\n",
    "        self.M = [n - s for (n, s) in zip(self.N, num_shared)]\n",
    "        # local-to-global offset per patch\n",
    "        self.M_ofs = np.concatenate(([0], np.cumsum(self.M)))\n",
    "        #TODO: self.Basis = basis_for_nullspace(self.Constr, basis_for_nullspace_of_dense_LU, idx=self.dof_class)\n",
    "        #self.sanity_check()   \n",
    "\n",
    "    def assemble_system(self, problem, rhs, args=None, bfuns=None,\n",
    "            symmetric=False, format='csr', layout='blocked', **kwargs):\n",
    "        \"\"\"Assemble both the system matrix and the right-hand side vector\n",
    "        for a variational problem over the multipatch geometry.\n",
    "\n",
    "        Here `problem` represents a bilinear form and `rhs` a linear functional.\n",
    "        See :func:`assemble` for the precise meaning of the arguments.\n",
    "\n",
    "        Returns:\n",
    "            A pair `(A, b)` consisting of the sparse system matrix and the\n",
    "            right-hand side vector.\n",
    "        \"\"\"\n",
    "        n = self.numdofs\n",
    "        X=MP.Basis\n",
    "        \n",
    "        A = []\n",
    "        b = []\n",
    "        if args is None:\n",
    "            args = dict()\n",
    "        for p in range(self.numpatches):\n",
    "            kvs, geo = self.mesh.patches[p][0]\n",
    "            args.update(geo=geo)\n",
    "            # TODO: vector-valued problems\n",
    "            A.append(Ass.assemble(problem, kvs, args=args, bfuns=bfuns,\n",
    "                    symmetric=symmetric, format=format, layout=layout,\n",
    "                    **kwargs))\n",
    "    \n",
    "            b.append(Ass.assemble(rhs, kvs, args=args, bfuns=bfuns,\n",
    "                    symmetric=symmetric, format=format, layout=layout,\n",
    "                    **kwargs).ravel())\n",
    "        A = X@scipy.sparse.block_diag(A)@X.T\n",
    "        b = X@np.concatenate(b)\n",
    "            \n",
    "        return A, b\n",
    "    \n",
    "    def assemble_surface(self, problem, arity=1, boundary_idx=0, args=None, bfuns=None,\n",
    "            symmetric=False, format='csr', layout='blocked', **kwargs):\n",
    "        X = MP.Basis\n",
    "        if args is None:\n",
    "            args = dict()\n",
    "        if arity==2:\n",
    "            I, J, data = [], [], []\n",
    "            for (p,b) in self.mesh.outer_boundaries[boundary_idx]:\n",
    "                kvs, geo = self.mesh.patches[p][0]\n",
    "                bdspec=[(b//2,b%2)]\n",
    "                bdofs = Ass.boundary_dofs(kvs, bdspec, ravel=True) + self.N_ofs[p]\n",
    "                args.update(geo = geo)\n",
    "                \n",
    "                R = Ass.assemble(problem, kvs, args=args, bfuns=bfuns,\n",
    "                        symmetric=symmetric, format='coo', layout=layout,\n",
    "                        **kwargs, boundary=bdspec)\n",
    "                \n",
    "                I_p ,J_p = R.row, R.col\n",
    "                I.append(bdofs[I_p]), J.append(bdofs[J_p]), data.append(R.data)\n",
    "                \n",
    "            I, J, data = np.concatenate(I), np.concatenate(J), np.concatenate(data)\n",
    "            R = scipy.sparse.coo_matrix((data, (I, J)), 2*(self.numloc_dofs,))\n",
    "            return X @ scipy.sparse.csr_matrix(R) @ X.T\n",
    "        else:\n",
    "            N=np.zeros(self.numloc_dofs)\n",
    "            for (p,b) in self.mesh.outer_boundaries[boundary_idx]:\n",
    "                kvs, geo = self.mesh.patches[p][0]\n",
    "                bdspec=[(b//2,b%2)]\n",
    "                bdofs = Ass.boundary_dofs(kvs, bdspec, ravel=True) + self.N_ofs[p]\n",
    "                args.update(geo = geo)\n",
    "    \n",
    "                vals=Ass.assemble(problem, kvs, args=args, bfuns=bfuns,\n",
    "                        symmetric=symmetric, format=format, layout=layout,\n",
    "                        **kwargs, boundary=bdspec).ravel()\n",
    "                N[bdofs] += vals \n",
    "            \n",
    "            return X @ N\n",
    "            \n",
    "    \n",
    "#     def assemble_boundary(self, problem, boundary_idx = None, args=None, bfuns=None,\n",
    "#             symmetric=False, format='csr', layout='blocked', **kwargs):\n",
    "        \n",
    "    \n",
    "#     def C1_coupling(self, p1, bdspec1, p2, bdspec2, flip=None):\n",
    "        \n",
    "#         (ax1, sd1), (ax2, sd2) = bdspec1, bdspec2\n",
    "#         ((kvs1, geo1),_), ((kvs2, geo2),_) = self.mesh.patches[p1], self.mesh.patches[p2]\n",
    "#         sup1, sup2 = geo1.support, geo2.support\n",
    "#         dim=len(kvs1)\n",
    "#         if flip is None:\n",
    "#             flip=(dim-1)*(False,)\n",
    " \n",
    "#         bkv1, bkv2 = Ass.boundary_kv(kvs1, bdspec1), Ass.boundary_kv(kvs2, bdspec2)\n",
    "#         dofs1, dofs2 = Ass.boundary_dofs(kvs1, bdspec1, ravel = True, k=1), Ass.boundary_dofs(kvs2, bdspec2, ravel = True, flip=flip, k=1)\n",
    "#         G = tuple(kv.greville() for kv in kvs2)\n",
    "#         G2 = G[:ax2] + (np.array([sup2[ax2][0] if sd2==0 else sup2[ax2][-1]]),) + G[ax2+1:]\n",
    "#         G1 = G[:ax2] + G[ax2+1:]\n",
    "#         G1 = G1[:ax1] + (np.array([sup1[ax1][0] if sd1==0 else sup1[ax1][-1]]),) + G1[ax1:] #still need to add flip\n",
    "\n",
    "#         M=tuple(len(g) for g in G2)\n",
    "#         m=np.prod(M)\n",
    "#         n1,n2=len(dofs1), len(dofs2)\n",
    "        \n",
    "#         C1, D1 = bspline.collocation_derivs_tp(kvs1, G1, derivs=1)\n",
    "#         C2, D2 = bspline.collocation_derivs_tp(kvs2, G2, derivs=1)\n",
    "    \n",
    "#         C1, C2 = C1[0].tocsr()[:,dofs1], C2[0].tocsr()[:,dofs2]\n",
    "#         for i in range(dim):\n",
    "#             D1[i], D2[i] = D1[i].tocsr()[:,dofs1], D2[i].tocsr()[:,dofs2]\n",
    "#         N2=geo2.boundary(bdspec2).grid_outer_normal(G2[:ax2]+G2[ax2+1:]).reshape(m,dim)\n",
    "\n",
    "#         J1=geo1.grid_jacobian(G1).reshape(m,dim,dim)\n",
    "#         J2=geo2.grid_jacobian(G2).reshape(m,dim,dim)\n",
    "        \n",
    "#         invJ1=np.array([inv(jac) for jac in J1[:]])\n",
    "#         invJ2=np.array([inv(jac) for jac in J2[:]])\n",
    "\n",
    "#         NC1=scipy.sparse.csr_matrix((m, n1))\n",
    "#         for i in range(dim):\n",
    "#             NC1_ = scipy.sparse.csr_matrix((m, n1))\n",
    "#             for j in range(dim):\n",
    "#                 NC1_ += scipy.sparse.spdiags(invJ1[:,i,j], 0, m, m)*D1[dim-1-j]\n",
    "#             NC1 += scipy.sparse.spdiags(N2[:,i], 0, m, m)*NC1_\n",
    "            \n",
    "#         NC2=scipy.sparse.csr_matrix((m, n2))\n",
    "#         for i in range(dim):\n",
    "#             NC2_ = scipy.sparse.csr_matrix((m, n2))\n",
    "#             for j in range(dim):\n",
    "#                 NC2_ += scipy.sparse.spdiags(invJ2[:,i,j], 0, m, m)*D2[dim-1-j]\n",
    "#             NC2 += scipy.sparse.spdiags(N2[:,i], 0, m, m)*NC2_\n",
    "            \n",
    "#         A = scipy.sparse.vstack([C1, NC1])\n",
    "#         B = scipy.sparse.vstack([C2, NC2])\n",
    "#         P = scipy.sparse.linalg.spsolve(B,A.A)\n",
    "#         # prune matrix\n",
    "#         P[np.abs(P) < 1e-15] = 0.0\n",
    "#         return scipy.sparse.csr_matrix(P) \n",
    "        \n",
    "    def L2Projection(self, u):\n",
    "        M, rhs, _, _, _ = self.assemble_system(vform.mass_vf(2), vform.L2functional_vf(2, physical=True), f=u)\n",
    "        u_ = solvers.make_solver(M, spd=True).dot(rhs)\n",
    "        return u_\n",
    "    \n",
    "    def refine(self, patches=None, mult=1, return_prol=False):\n",
    "        if isinstance(patches, dict):\n",
    "            assert max(patches.keys())<self.numpatches and min(patches.keys())>=0, \"patch index out of bounds.\"\n",
    "            patches = patches.keys()\n",
    "        elif isinstance(patches, (list, set, np.ndarray)):\n",
    "            assert max(patches)<self.numpatches and min(patches)>=0, \"patch index out of bounds.\"\n",
    "        elif patches==None:\n",
    "            patches = np.arange(self.numpatches)\n",
    "        elif np.isscalar(patches):\n",
    "            patches=(patches,)\n",
    "        else:\n",
    "            assert 0, \"unknown input type\"\n",
    "        if return_prol:\n",
    "            n=self.numdofs\n",
    "            old_kvs=[kvs for (kvs,_),_ in self.mesh.patches]\n",
    "            old_global_to_patch = [self.global_to_patch(p) for p in range(self.numpatches)]\n",
    "            \n",
    "        self.mesh.refine(patches, mult=mult)\n",
    "        self.reset(automatch=True)\n",
    "        #MP = Multipatch(self.mesh, automatch=True, k=self.k)\n",
    "        \n",
    "        if return_prol:\n",
    "            m = self.numdofs\n",
    "            P = scipy.sparse.csr_matrix((m, n))\n",
    "            \n",
    "            for p in range(self.numpatches):\n",
    "                if p in patches:\n",
    "                    kvs=old_kvs[p]\n",
    "                    new_kvs=MP.mesh.patches[p][0][0]\n",
    "                    C = bspline.prolongation_tp(kvs, new_kvs)\n",
    "                else:\n",
    "                    C = scipy.sparse.identity(self.N[p])\n",
    "\n",
    "                P += MP.patch_to_global(p) @ C @ old_global_to_patch[p]\n",
    "            factors = [1/sum([sum(dof[p][1]) for p in dof]) for dof in MP.shared_dofs]\n",
    "            P[MP.M_ofs[-1]:] = scipy.sparse.spdiags(factors, 0, len(factors), len(factors)) @ P[MP.M_ofs[-1]:]\n",
    "            return P\n",
    "        \n",
    "    def patch_refine(self, patches=None, mult=1, return_prol = False):\n",
    "        \"\"\"Refines the Mesh by splitting patches\n",
    "        \n",
    "        The dictionary `patches` specifies which patches (dict keys) are to be split \n",
    "        and how to split them (dict values: 0 to dim-1 or None)\n",
    "        \n",
    "        The `return_prol` keyword enables also the generation of a prolongation matrix from one mesh to the split mesh.\n",
    "        \n",
    "        Returns:\n",
    "            A new :class:`Multipatch` object `MP`\n",
    "            A sparse matrix `P` suitable for prolongation.\n",
    "        \"\"\"\n",
    "        if isinstance(patches, dict):\n",
    "            assert max(patches.keys())<self.numpatches and min(patches.keys())>=0, \"patch index out of bounds.\"\n",
    "        elif isinstance(patches,int):\n",
    "            #assert patches >=0 and patches < self.dim, \"dimension error.\"\n",
    "            patches = {p:patches for p in range(self.numpatches)}\n",
    "        elif isinstance(patches, (list, set, np.ndarray)):\n",
    "            assert max(patches)<self.numpatches and min(patches)>=0, \"patch index out of bounds.\"\n",
    "            patches = {p:None for p in patches}\n",
    "        elif patches==None:\n",
    "            patches = {p:None for p in range(self.numpatches)}\n",
    "        else:\n",
    "            assert 0, \"unknown input type\"\n",
    "        \n",
    "        #n=self.numdofs\n",
    "        N=self.numpatches\n",
    "\n",
    "        #M = copy.deepcopy(self.mesh)\n",
    "        #old_kvs = [kvs for (kvs,_),_ in self.mesh.patches]\n",
    "       # old_global_to_patch = [self.global_to_patch(p) for p in range(self.numpatches)]\n",
    "        \n",
    "        new_patches = dict()\n",
    "        new_kvs_ = dict()\n",
    "        for p in patches.keys():\n",
    "            self.split_boundary_data(p, self.numpatches, axis=patches[p])\n",
    "            new_patches[p], new_kvs_[p] = self.mesh.split_patch(p, axis=patches[p], mult=mult)\n",
    "        \n",
    "        #MP = Multipatch(self.mesh, automatch=True, k=self.k)\n",
    "        self.reset(automatch=True)\n",
    "        #m = self.numdofs\n",
    "        \n",
    "        if return_prol:\n",
    "            P = scipy.sparse.csr_matrix((m, n))\n",
    "            for p in range(N):\n",
    "                kvs=old_kvs[p]\n",
    "                if p in new_patches:\n",
    "                    new_kvs = new_kvs_[p]\n",
    "                    S = scipy.sparse.csr_matrix((m,bspline.numdofs(new_kvs)))\n",
    "                    C =  bspline.prolongation_tp(kvs, new_kvs)\n",
    "                    \n",
    "                    for i, new_p in enumerate(new_patches[p]):\n",
    "                    \n",
    "                        val = np.ones(self.N[new_p])\n",
    "                        I = np.arange(self.N[new_p])\n",
    "                        \n",
    "                        if patches[p]==0:\n",
    "                            bdspec = (0,i)\n",
    "                            k = self.mesh.patches[new_p][0][0][0].numdofs\n",
    "                            J = np.sort(Ass.boundary_dofs(new_kvs,bdspec,ravel=True,k=k-1))\n",
    "                        elif patches[p]==1:\n",
    "                            bdspec = (1,i)\n",
    "                            k = self.mesh.patches[new_p][0][0][1].numdofs\n",
    "                            J = np.sort(Ass.boundary_dofs(new_kvs,bdspec,ravel=True,k=k-1))\n",
    "                        else:\n",
    "                            cspec=(i//2,i%2)\n",
    "                            k0=self.mesh.patches[new_p][0][0][0].numdofs\n",
    "                            k1=self.mesh.patches[new_p][0][0][1].numdofs\n",
    "                            J = np.sort(Ass.boundary_dofs(new_kvs,cspec,k=[k0-1,k1-1], ravel=True))\n",
    "               \n",
    "                        R = scipy.sparse.coo_matrix((val,(I,J)),shape=(self.N[new_p],bspline.numdofs(new_kvs)))\n",
    "                        S += self.patch_to_global(new_p) @ R\n",
    "                else:\n",
    "                    S=self.patch_to_global(p)\n",
    "                    C=scipy.sparse.identity(self.N[p])\n",
    "                \n",
    "                P += S @ C @ old_global_to_patch[p]\n",
    "                \n",
    "            factors = [1/sum([sum(dof[p][1]) for p in dof]) for dof in self.shared_dofs]\n",
    "            P[self.M_ofs[-1]:] = scipy.sparse.spdiags(factors, 0, len(factors), len(factors)) @ P[self.M_ofs[-1]:]\n",
    "            return P\n",
    "        \n",
    "#     def split_boundary_data(self, p, n, axis = None):\n",
    "#         \"\"\"Splits the boundary information of a patch `p`.\n",
    "    \n",
    "#         Args:\n",
    "#             p: patch to be split\n",
    "#             n: total number of patches\n",
    "#             dir_data: information of the Dirichlet condition over the whole PatchMesh structure\n",
    "            \n",
    "#         Returns:\n",
    "#             Modified list `dir_data` with split patches.\n",
    "#         \"\"\"\n",
    "#         if axis==None:\n",
    "#             axis=tuple(range(self.dim))\n",
    "#         axis=np.unique(axis)\n",
    "#         if len(axis)==1: axis=axis[0]\n",
    "#         for s in self.b_data.keys():\n",
    "            \n",
    "#             b_data_p = [(patch , bd, g) for (patch, bd, g) in self.b_data[s] if patch == p]\n",
    "            \n",
    "#             if b_data_p:\n",
    "#                 if not np.isscalar(axis):\n",
    "#                     for k,ax in enumerate(axis[::-1]):\n",
    "#                         self.split_boundary_data(p, n+2**k-1, axis=ax)\n",
    "#                         for i in range(2**k-1):\n",
    "#                             self.split_boundary_data(n+i, n+2**k+i, axis=ax)\n",
    "#                 else:\n",
    "#                     for (patch, bd, g) in b_data_p:\n",
    "#                         if self.dim==3:\n",
    "#                             if axis == self.dim - 3:\n",
    "#                                 if bd == 'back':\n",
    "#                                     self.b_data[s].remove((patch, bd, g))\n",
    "#                                     self.b_data[s].append((n, bd, g))\n",
    "#                                 if bd == 'left' or bd == 'right' or bd == 'bottom' or bd=='top':\n",
    "#                                     self.b_data[s].append((n, bd, g))\n",
    "#                         if axis == self.dim - 2:\n",
    "#                             if bd == 'top':\n",
    "#                                 self.b_data[s].remove((patch, bd, g))\n",
    "#                                 self.b_data[s].append((n, bd, g))\n",
    "#                             if bd == 'left' or bd == 'right':\n",
    "#                                 self.b_data[s].append((n, bd, g))\n",
    "#                             if self.dim == 3:\n",
    "#                                 if bd == 'front' or bd == 'back':\n",
    "#                                     self.b_data[s].append((n, bd, g)) \n",
    "#                         if axis == self.dim - 1:\n",
    "#                             if bd == 'right':\n",
    "#                                 self.b_data[s].remove((patch, bd, g))\n",
    "#                                 self.b_data[s].append((n, bd, g))   \n",
    "#                             if bd == 'bottom' or bd == 'top':\n",
    "#                                 self.b_data[s].append((n, bd, g))\n",
    "#                             if self.dim == 3:\n",
    "#                                 if bd == 'front' or bd == 'back':\n",
    "#                                     self.b_data[s].append((n, bd, g)) \n",
    "\n",
    "    def compute_dirichlet_bcs(self):\n",
    "        \"\"\"Performs the same operation as the global function\n",
    "        :func:`compute_dirichlet_bcs`, but for a multipatch problem.\n",
    "\n",
    "        The sequence `dir_data` should contain triples of the form `(patch,\n",
    "        bdspec, dir_func)`.\n",
    "\n",
    "        Returns:\n",
    "            A pair `(indices, values)` suitable for passing to\n",
    "            :class:`RestrictedLinearSystem`.\n",
    "        \"\"\"\n",
    "        bcs = []\n",
    "        p2g = dict()        # cache the patch-to-global indices for efficiency\n",
    "        for (p, bdspec, g) in self.b_data['D']:\n",
    "            (kvs, geo), _ = self.mesh.patches[p]\n",
    "            bc = Ass.compute_dirichlet_bc(kvs, geo, bdspec, g)\n",
    "            if p not in p2g:\n",
    "                p2g[p] = self.patch_to_global_idx(p)\n",
    "            idx = p2g[p]    # maps local dofs to global dofs\n",
    "            bcs.append((*idx[bc[0],0].toarray().T, bc[1]))\n",
    "        return Ass.combine_bcs(bcs)\n",
    "    \n",
    "    def sanity_check(self):\n",
    "        for p in range(self.numpatches):\n",
    "            assert all([np.isclose(sum(coeffs),1.0) for _,coeffs in self.shared_per_patch[p].values()]), 'coupling of dofs is flawed'"
   ]
  },
  {
   "cell_type": "code",
   "execution_count": 5,
   "id": "78bd41c2-bea5-4835-aa60-730e77934e12",
   "metadata": {},
   "outputs": [],
   "source": [
    "def elim_cycle(Constr, activeConstraints):\n",
    "    derivedDofs={}\n",
    "    for r in activeConstraints:\n",
    "        dofToBeEliminated = -1\n",
    "        feasible = True\n",
    "        mx=0\n",
    "        for ind in range(Constr.indptr[r], Constr.indptr[r+1]):\n",
    "            c = Constr.indices[ind]\n",
    "            v = Constr.data[ind]\n",
    "            \n",
    "            if v > 1e-12: # We know that there is only one (see assertion above!)\n",
    "                # if dofToBeEliminated<0:\n",
    "                #     dofToBeEliminated=c\n",
    "                if dofToBeEliminated >0:\n",
    "                    if v>mx:\n",
    "                        dofToBeEliminated=c\n",
    "                        mx=v\n",
    "                else:\n",
    "                    dofToBeEliminated = c\n",
    "                    mx=v\n",
    "        if dofToBeEliminated == -1: # Empty row (TODO: check)\n",
    "            feasible = False\n",
    "        for ind in range(Constr.indptr[r], Constr.indptr[r+1]):\n",
    "            c = Constr.indices[ind]\n",
    "            v = Constr.data[ind]\n",
    "            if v < -1e-12 and c in derivedDofs:\n",
    "                #print(\"{} cannot be eliminated (constraint #{}) because it refers to eliminated dof {}.\".format(dofToBeEliminated,r,c))\n",
    "                feasible = False\n",
    "        if dofToBeEliminated in derivedDofs:\n",
    "            #print(\"{} cannot be eliminated (constraint #{}) because it is already eliminated.\".format(dofToBeEliminated,r))\n",
    "            feasible = False\n",
    "        if feasible:\n",
    "            #print(dofToBeEliminated)\n",
    "            derivedDofs[dofToBeEliminated] = r\n",
    "    # for i, _ in derivedDofs.items():\n",
    "    #     print(i, end=', ')\n",
    "    return derivedDofs"
   ]
  },
  {
   "cell_type": "code",
   "execution_count": 6,
   "id": "427c9544-e81b-43b9-8213-a5f28bd62b4a",
   "metadata": {},
   "outputs": [],
   "source": [
    "def create_cycle_basis(Constr, derivedDofs, Basis):\n",
    "    n=Constr.shape[1]\n",
    "    testVec = np.zeros(n)\n",
    "    #print(Basis)\n",
    "    \n",
    "#variant 1\n",
    "#     lBasis = scipy.sparse.lil_matrix((n,n)) #coo_matrix ?\n",
    "#     for i in range(n):\n",
    "#         if not i in derivedDofs:\n",
    "#             lBasis[i,i] = 1\n",
    "\n",
    "#     for i, r in derivedDofs.items():\n",
    "#         for ind in range(Constr.indptr[r], Constr.indptr[r+1]):\n",
    "#             c = Constr.indices[ind]\n",
    "#             v = Constr.data[ind]    \n",
    "#             if v < -1e-12:\n",
    "#                 lBasis[i,c] = - v / Constr[r,i]\n",
    "    \n",
    "#fast variant\n",
    "    ddofs=np.array(list(derivedDofs.keys()))   #derived dofs\n",
    "    #print(ddofs.dtype)\n",
    "    n2 = len(ddofs)\n",
    "    r = np.array(list(derivedDofs.values()))  #which constraints do the dofs derive from\n",
    "    nddofs=np.setdiff1d(np.arange(n),ddofs)   #still free dofs\n",
    "    n1=len(nddofs)\n",
    "\n",
    "    lBasis=scipy.sparse.csr_matrix((n,n))\n",
    "    c = 1/(Constr[r,ddofs].A.ravel())\n",
    "    B1 = scipy.sparse.csr_matrix(scipy.sparse.coo_matrix((np.ones(n1),(np.arange(n1),nddofs)),(n1,n)))\n",
    "    B2 = - Constr[r].multiply(Constr[r]<0)\n",
    "    B2 = scipy.sparse.spdiags(c,0,n2,n2)@B2  #row scaling\n",
    "    \n",
    "    Q1 = scipy.sparse.coo_matrix((np.ones(n1),(nddofs,np.arange(n1))),(n,n1))\n",
    "    Q2 = scipy.sparse.coo_matrix((np.ones(n2),(ddofs,np.arange(n2))),(n,n2))\n",
    "    lBasis = Q1@B1 + Q2@B2\n",
    "    \n",
    "    \n",
    "    lBasis = lBasis @ Basis\n",
    "    \n",
    "    lastFound = n+1\n",
    "    #print(len(ddofs))\n",
    "    testVec[ddofs]=1 \n",
    "        \n",
    "    while True:\n",
    "        found = 0\n",
    "        tmp = lBasis @ testVec\n",
    "        # for i in range(n):\n",
    "        #     if abs(tmp[i])>1e-12:\n",
    "        #         #print('{}'.format(i))\n",
    "        #         found += 1\n",
    "        found = sum(abs(tmp)>1e-12)\n",
    "        if found > 0:\n",
    "            #print(found, lastFound)\n",
    "            assert(found < lastFound)\n",
    "            lastFound = found\n",
    "            lBasis = lBasis @ lBasis\n",
    "            print(\"multiply & repeat\")\n",
    "        else:\n",
    "            print(\"done\")\n",
    "            break\n",
    "    return lBasis"
   ]
  },
  {
   "cell_type": "code",
   "execution_count": 85,
   "id": "70af254c-ba00-4f00-ba54-4ab7da9a3190",
   "metadata": {},
   "outputs": [],
   "source": [
    "def compute_active_constr(Constr):\n",
    "    #fast variant\n",
    "    activeConstraints=[]\n",
    "#     a=(Constr>1e-12).sum(axis=1).A.ravel(); b=(Constr<-1e-12).sum(axis=1).A.ravel()\n",
    "#     activeConstraints=np.where(a+b>0)[0]\n",
    "    \n",
    "#     signs=1.*((a<=1) | (a+b==0))-1.*((a>1)&(a+b>0))\n",
    "#     #print(signs)\n",
    "#     S=scipy.sparse.spdiags(signs,0,len(a),len(a))\n",
    "    \n",
    "#     Constr = S@Constr\n",
    "    \n",
    "    # assert np.all(((a[activeConstraints]==1) | (b[activeConstraints]==1))), 'error in constraint matrix.'\n",
    "\n",
    "    #variant 1\n",
    "    for r in range(Constr.shape[0]):\n",
    "        a = 0\n",
    "        b = 0\n",
    "        for ind in range(Constr.indptr[r], Constr.indptr[r+1]):\n",
    "            if Constr.data[ind] > 1e-12:\n",
    "                a += 1\n",
    "            if Constr.data[ind] < -1e-12:\n",
    "                b += 1\n",
    "        if a+b>0:\n",
    "            activeConstraints.append(r)\n",
    "            #print(\"{}: {}, {}\".format(r,a,b))\n",
    "            #if not (a==1 or b==1): \n",
    "                #print(a,b)\n",
    "                #print(Constr[r,:])\n",
    "            #assert (a==1 or b==1), 'error in constraint matrix.'\n",
    "            if a>1:\n",
    "                print( \"Re-sign\" )\n",
    "                Constr[r,:] *= -1\n",
    "                \n",
    "    return np.array(activeConstraints)"
   ]
  },
  {
   "cell_type": "code",
   "execution_count": 86,
   "id": "fcdd4620-b592-4c10-b9f1-54003486ca86",
   "metadata": {},
   "outputs": [],
   "source": [
    "def compute_basis(Constr, maxiter):\n",
    "    n=Constr.shape[1]\n",
    "    nonderivedDofs = allLocalDofs=np.arange(n)\n",
    "    allderivedDofs={}\n",
    "    activeConstraints=np.arange(Constr.shape[0])\n",
    "    Basis=scipy.sparse.csr_matrix(scipy.sparse.identity(n))\n",
    "    i=1\n",
    "    while len(activeConstraints)!=0:\n",
    "        #print(Constr[activeConstraints])\n",
    "        if i>maxiter:\n",
    "            print(\"maxiter reached.\")\n",
    "            break\n",
    "            \n",
    "        derivedDofs = elim_cycle(Constr, activeConstraints)  \n",
    "        #assert derivedDofs, 'Unable to derive any further dofs.'\n",
    "        if not derivedDofs:\n",
    "             return Basis, Constr, nonderivedDofs,\n",
    "        allderivedDofs.update(derivedDofs)\n",
    "        nonderivedDofs=np.setdiff1d(allLocalDofs, np.array(list(allderivedDofs.keys())))\n",
    "        Basis = create_cycle_basis(Constr, derivedDofs, Basis)\n",
    "        #print(Basis.data)\n",
    "        Constr = Constr @ Basis    \n",
    "        activeConstraints = compute_active_constr(Constr)\n",
    "            \n",
    "        i+=1\n",
    "        \n",
    "    #print(np.array(list(allderivedDofs.keys())))\n",
    "    #nonderivedDofs=np.setdiff1d(allLocalDofs, np.array(list(allderivedDofs.keys())))\n",
    "    #print(nonderivedDofs)\n",
    "    return Basis[:,nonderivedDofs], Constr, nonderivedDofs"
   ]
  },
  {
   "cell_type": "code",
   "execution_count": 122,
   "id": "ed05e3bc-3590-429c-bcba-ad39081c2367",
   "metadata": {},
   "outputs": [],
   "source": [
    "#Example 3D\n",
    "\n",
    "#setup initial discretization \n",
    "deg = 1\n",
    "N = 1\n",
    "kvs = [3*(bspline.make_knots(deg,0.0,1.0,N),),]\n",
    "\n",
    "# define geometry\n",
    "geos = [\n",
    "    geometry.unit_cube()\n",
    "]\n",
    "\n",
    "patches = [(k, g) for k, g in zip(kvs,geos)]\n",
    "M = PatchMesh3D(patches)\n",
    "#M.refine(patches=1)\n",
    "\n",
    "#g = lambda x,y: x\n",
    "#g=u\n",
    "\n",
    "# dir_data = [\n",
    "#     (0, 'bottom', g), (0, 'left', g), (0, 'top', g),\n",
    "#     (1, 'right', g), (1, 'bottom', g), (1, 'top', g)\n",
    "# ]\n",
    "\n",
    "for i in range(5):\n",
    "    #print(i, (i+2)%3)\n",
    "    M.split_patches({i:(i+2)%3})\n",
    "\n",
    "# for i in range(100):\n",
    "#     number = math.floor(random.rand()*M.numpatches)\n",
    "#     direction = math.floor(random.rand()*2)\n",
    "#     #print(number, direction)\n",
    "    \n",
    "#     M.split_patches({number:direction})\n",
    "\n",
    "# for i in range(5):\n",
    "#     M.split_patches()\n",
    "    \n",
    "MP=Multipatch(M, automatch=True)\n",
    "#MP.patch_refine(patches={1:0})\n",
    "#MP.refine(patches={0})\n",
    "#MP.reset(automatch=True)\n",
    "#MP.finalize()"
   ]
  },
  {
   "cell_type": "code",
   "execution_count": 123,
   "id": "acd585a6-9f51-432e-8d53-41776a91fb89",
   "metadata": {},
   "outputs": [
    {
     "data": {
      "image/png": "[encoded data removed]",
      "text/plain": [
       "<Figure size 800x800 with 1 Axes>"
      ]
     },
     "metadata": {},
     "output_type": "display_data"
    }
   ],
   "source": [
    "M.draw(knots=False, vertex_idx=True)"
   ]
  },
  {
   "cell_type": "code",
   "execution_count": 124,
   "id": "c1d44357-6613-43e4-b6a8-a061cc23c7c6",
   "metadata": {},
   "outputs": [
    {
     "data": {
      "text/plain": [
       "(48, 48)"
      ]
     },
     "execution_count": 124,
     "metadata": {},
     "output_type": "execute_result"
    }
   ],
   "source": [
    "MP.Constr.shape"
   ]
  },
  {
   "cell_type": "code",
   "execution_count": 125,
   "id": "e0693456-de1b-4088-9bef-42371c88861d",
   "metadata": {},
   "outputs": [
    {
     "name": "stdout",
     "output_type": "stream",
     "text": [
      "multiply & repeat\n",
      "done\n",
      "Re-sign\n",
      "Re-sign\n",
      "Re-sign\n",
      "Re-sign\n",
      "multiply & repeat\n",
      "done\n",
      "Re-sign\n",
      "Re-sign\n",
      "Re-sign\n",
      "Re-sign\n"
     ]
    }
   ],
   "source": [
    "Basis, constr ,nonderivedDofs = compute_basis(MP.Constr.copy(), 100)"
   ]
  },
  {
   "cell_type": "code",
   "execution_count": 118,
   "id": "a40003a3-8578-4688-84dc-824f3fe68751",
   "metadata": {},
   "outputs": [
    {
     "data": {
      "text/plain": [
       "(56, 18)"
      ]
     },
     "execution_count": 118,
     "metadata": {},
     "output_type": "execute_result"
    }
   ],
   "source": [
    "Basis.shape"
   ]
  },
  {
   "cell_type": "code",
   "execution_count": 119,
   "id": "31f878b0-b97c-4fab-a34c-8bb8af7986e6",
   "metadata": {},
   "outputs": [
    {
     "data": {
      "text/plain": [
       "array([ 0,  1,  2,  3,  4,  5,  6,  7,  9, 11, 13, 15, 21, 23, 31, 39, 47, 55])"
      ]
     },
     "execution_count": 119,
     "metadata": {},
     "output_type": "execute_result"
    }
   ],
   "source": [
    "nonderivedDofs"
   ]
  },
  {
   "cell_type": "code",
   "execution_count": 120,
   "id": "fd33ec52-1ef4-4591-90f9-6bd8f24e0f91",
   "metadata": {},
   "outputs": [
    {
     "data": {
      "text/plain": [
       "0.0"
      ]
     },
     "execution_count": 120,
     "metadata": {},
     "output_type": "execute_result"
    }
   ],
   "source": [
    "abs(MP.Constr@Basis).max()"
   ]
  },
  {
   "cell_type": "code",
   "execution_count": 121,
   "id": "f3b2364e-5dd1-4e3a-a270-7a93db026c17",
   "metadata": {},
   "outputs": [
    {
     "data": {
      "text/plain": [
       "0.0"
      ]
     },
     "execution_count": 121,
     "metadata": {},
     "output_type": "execute_result"
    }
   ],
   "source": [
    "abs(constr).max()"
   ]
  },
  {
   "cell_type": "code",
   "execution_count": 95,
   "id": "8cd71261-83f3-44b2-a814-348f9133abb3",
   "metadata": {},
   "outputs": [
    {
     "name": "stdout",
     "output_type": "stream",
     "text": [
      "  (20, 1)\t-0.0625\n",
      "  (20, 3)\t-0.0625\n",
      "  (20, 13)\t-0.125\n",
      "  (20, 15)\t-0.125\n",
      "  (20, 5)\t-0.0625\n",
      "  (20, 7)\t-0.0625\n",
      "  (32, 1)\t-0.0625\n",
      "  (32, 5)\t-0.0625\n",
      "  (32, 13)\t-0.125\n",
      "  (32, 3)\t-0.0625\n",
      "  (32, 7)\t-0.0625\n",
      "  (32, 15)\t-0.125\n",
      "  (34, 1)\t-0.125\n",
      "  (34, 3)\t-0.125\n",
      "  (34, 13)\t-0.25\n",
      "  (34, 15)\t-0.25\n",
      "  (34, 5)\t-0.125\n",
      "  (34, 7)\t-0.125\n",
      "  (38, 15)\t0.125\n",
      "  (38, 13)\t0.125\n",
      "  (38, 7)\t0.0625\n",
      "  (38, 5)\t0.0625\n",
      "  (38, 3)\t0.0625\n",
      "  (38, 1)\t0.0625\n",
      "  (43, 1)\t0.125\n",
      "  (43, 3)\t0.125\n",
      "  (43, 13)\t0.25\n",
      "  (43, 15)\t0.25\n",
      "  (43, 7)\t0.125\n",
      "  (43, 5)\t0.125\n"
     ]
    }
   ],
   "source": [
    "print(MP.Constr@Basis)"
   ]
  },
  {
   "cell_type": "code",
   "execution_count": 151,
   "id": "8b80bf44-5e2d-420d-92ef-8c5066472f0a",
   "metadata": {},
   "outputs": [
    {
     "data": {
      "text/plain": [
       "<matplotlib.lines.Line2D at 0x7eff6b099580>"
      ]
     },
     "execution_count": 151,
     "metadata": {},
     "output_type": "execute_result"
    },
    {
     "data": {
      "image/png": "[encoded data removed]",
      "text/plain": [
       "<Figure size 640x480 with 1 Axes>"
      ]
     },
     "metadata": {},
     "output_type": "display_data"
    }
   ],
   "source": [
    "spy(Basis[nonderivedDofs,:],markersize=1)"
   ]
  },
  {
   "cell_type": "code",
   "execution_count": null,
   "id": "37b616df-1697-463a-a5d0-0401cf800c28",
   "metadata": {},
   "outputs": [],
   "source": []
  },
  {
   "cell_type": "code",
   "execution_count": 152,
   "id": "040792db-dd20-4f32-98d5-9171e7aa9f0f",
   "metadata": {},
   "outputs": [
    {
     "data": {
      "text/plain": [
       "array([ 0,  1,  2,  3,  4,  5,  6,  7,  9, 11, 13, 15, 21, 23, 31, 39, 47])"
      ]
     },
     "execution_count": 152,
     "metadata": {},
     "output_type": "execute_result"
    }
   ],
   "source": [
    "nonderivedDofs"
   ]
  },
  {
   "cell_type": "code",
   "execution_count": 153,
   "id": "8085612b-708d-4301-8e6a-7eefcf1379d5",
   "metadata": {},
   "outputs": [],
   "source": [
    "derivedDofs = np.setdiff1d(np.arange(48),nonderivedDofs)"
   ]
  },
  {
   "cell_type": "code",
   "execution_count": 154,
   "id": "7a3feb87-6a16-48d7-b986-f0f919e27d0e",
   "metadata": {},
   "outputs": [
    {
     "data": {
      "text/plain": [
       "<matplotlib.lines.Line2D at 0x7eff68752100>"
      ]
     },
     "execution_count": 154,
     "metadata": {},
     "output_type": "execute_result"
    },
    {
     "data": {
      "image/png": "[encoded data removed]",
      "text/plain": [
       "<Figure size 640x480 with 1 Axes>"
      ]
     },
     "metadata": {},
     "output_type": "display_data"
    }
   ],
   "source": [
    "spy(Basis[:,nonderivedDofs],markersize=1)"
   ]
  },
  {
   "cell_type": "code",
   "execution_count": 155,
   "id": "610a0da5-591d-4c3b-8edd-920d7b93107f",
   "metadata": {},
   "outputs": [
    {
     "data": {
      "text/plain": [
       "(48, 17)"
      ]
     },
     "execution_count": 155,
     "metadata": {},
     "output_type": "execute_result"
    }
   ],
   "source": [
    "Basis[:,nonderivedDofs].shape"
   ]
  },
  {
   "cell_type": "code",
   "execution_count": 156,
   "id": "3799836e-84dd-459d-ae71-19184bb38390",
   "metadata": {},
   "outputs": [
    {
     "data": {
      "text/plain": [
       "<48x48 sparse matrix of type '<class 'numpy.float64'>'\n",
       "\twith 136 stored elements in Compressed Sparse Row format>"
      ]
     },
     "execution_count": 156,
     "metadata": {},
     "output_type": "execute_result"
    }
   ],
   "source": [
    "MP.Constr"
   ]
  },
  {
   "cell_type": "code",
   "execution_count": 157,
   "id": "db9c05fd-d866-42cd-b80f-12e871af63c1",
   "metadata": {},
   "outputs": [
    {
     "data": {
      "text/plain": [
       "0.25"
      ]
     },
     "execution_count": 157,
     "metadata": {},
     "output_type": "execute_result"
    }
   ],
   "source": [
    "abs(constr).max()"
   ]
  },
  {
   "cell_type": "code",
   "execution_count": 158,
   "id": "b38e2f72-739e-4efc-a217-a58b8c517a09",
   "metadata": {},
   "outputs": [
    {
     "data": {
      "text/plain": [
       "49"
      ]
     },
     "execution_count": 158,
     "metadata": {},
     "output_type": "execute_result"
    }
   ],
   "source": [
    "len(constr.indptr)"
   ]
  },
  {
   "cell_type": "code",
   "execution_count": 159,
   "id": "3f0306e8-0687-42ca-8df0-95b7b964cd9d",
   "metadata": {},
   "outputs": [],
   "source": [
    "A=basis_for_nullspace_of_dense_LU(constr.A).T"
   ]
  },
  {
   "cell_type": "code",
   "execution_count": 160,
   "id": "314c70ca-58a8-4906-95c2-1b0e608174d0",
   "metadata": {},
   "outputs": [
    {
     "data": {
      "text/plain": [
       "(48, 47)"
      ]
     },
     "execution_count": 160,
     "metadata": {},
     "output_type": "execute_result"
    }
   ],
   "source": [
    "A.shape"
   ]
  },
  {
   "cell_type": "code",
   "execution_count": 161,
   "id": "909865c5-c963-4cb6-a595-b39ed58e2e63",
   "metadata": {},
   "outputs": [
    {
     "data": {
      "text/plain": [
       "<matplotlib.lines.Line2D at 0x7eff686574c0>"
      ]
     },
     "execution_count": 161,
     "metadata": {},
     "output_type": "execute_result"
    },
    {
     "data": {
      "image/png": "[encoded data removed]",
      "text/plain": [
       "<Figure size 640x480 with 1 Axes>"
      ]
     },
     "metadata": {},
     "output_type": "display_data"
    }
   ],
   "source": [
    "spy(A,markersize=1)"
   ]
  },
  {
   "cell_type": "code",
   "execution_count": 58,
   "id": "3e6e027c-8df8-46ef-935c-d2c3a38fecb8",
   "metadata": {},
   "outputs": [
    {
     "name": "stdout",
     "output_type": "stream",
     "text": [
      "  (2, 0)\t-1.0\n",
      "  (4, 0)\t-1.0\n",
      "  (6, 0)\t-1.0\n",
      "  (12, 0)\t-2.0\n",
      "  (14, 0)\t-2.0\n"
     ]
    }
   ],
   "source": [
    "print(scipy.sparse.csr_matrix(A)[:,1])"
   ]
  },
  {
   "cell_type": "code",
   "execution_count": 133,
   "id": "f7a5e8b4-a150-4831-a1e0-96a3c51433d4",
   "metadata": {},
   "outputs": [
    {
     "data": {
      "text/plain": [
       "array([ 0,  1,  2,  3,  4,  5,  6,  7,  9, 11, 13, 15, 21, 23, 31, 39, 47, 55, 63, 77, 79, 87, 95])"
      ]
     },
     "execution_count": 133,
     "metadata": {},
     "output_type": "execute_result"
    }
   ],
   "source": [
    "nonderivedDofs"
   ]
  },
  {
   "cell_type": "code",
   "execution_count": 137,
   "id": "fcaffe79-8365-4383-8a0b-b633ba0b64ee",
   "metadata": {},
   "outputs": [
    {
     "data": {
      "text/plain": [
       "array([[ 1., -0.,  0., ...,  0.,  0.,  0.],\n",
       "       [ 0.,  0.,  1., ...,  0.,  0.,  0.],\n",
       "       [ 0., -7.,  0., ...,  0.,  0.,  0.],\n",
       "       ...,\n",
       "       [ 0.,  0.,  0., ...,  1.,  0.,  0.],\n",
       "       [ 0.,  0.,  0., ...,  0.,  1.,  0.],\n",
       "       [ 0.,  0.,  0., ...,  0.,  0.,  1.]])"
      ]
     },
     "execution_count": 137,
     "metadata": {},
     "output_type": "execute_result"
    }
   ],
   "source": [
    "A"
   ]
  },
  {
   "cell_type": "code",
   "execution_count": 135,
   "id": "4672f818-84c0-4f8b-af50-a916574c7775",
   "metadata": {},
   "outputs": [
    {
     "data": {
      "text/plain": [
       "0.0"
      ]
     },
     "execution_count": 135,
     "metadata": {},
     "output_type": "execute_result"
    }
   ],
   "source": [
    "(constr@A.T).max()"
   ]
  },
  {
   "cell_type": "code",
   "execution_count": 109,
   "id": "ea807149-64db-4edc-b982-7ee8b9ff462e",
   "metadata": {},
   "outputs": [
    {
     "data": {
      "text/plain": [
       "(95, 96)"
      ]
     },
     "execution_count": 109,
     "metadata": {},
     "output_type": "execute_result"
    }
   ],
   "source": [
    "A.shape"
   ]
  },
  {
   "cell_type": "code",
   "execution_count": 88,
   "id": "0a8eaf44-bd35-4ef3-90e8-63e33752b796",
   "metadata": {},
   "outputs": [
    {
     "data": {
      "text/plain": [
       "(120, 96)"
      ]
     },
     "execution_count": 88,
     "metadata": {},
     "output_type": "execute_result"
    }
   ],
   "source": [
    "MP.Constr.shape"
   ]
  },
  {
   "cell_type": "code",
   "execution_count": 111,
   "id": "b1cf0d32-0471-4369-b71e-87d810a93fb7",
   "metadata": {},
   "outputs": [
    {
     "data": {
      "text/plain": [
       "(96, 96)"
      ]
     },
     "execution_count": 111,
     "metadata": {},
     "output_type": "execute_result"
    }
   ],
   "source": [
    "Basis.shape"
   ]
  },
  {
   "cell_type": "code",
   "execution_count": 112,
   "id": "c7fba3e6-fdf3-4e20-9f67-047fef0455d0",
   "metadata": {},
   "outputs": [],
   "source": [
    "Basis=Basis@A.T"
   ]
  },
  {
   "cell_type": "code",
   "execution_count": 113,
   "id": "b0acb7a8-24bc-4cb2-b63a-b623ce348108",
   "metadata": {},
   "outputs": [
    {
     "data": {
      "text/plain": [
       "0.0"
      ]
     },
     "execution_count": 113,
     "metadata": {},
     "output_type": "execute_result"
    }
   ],
   "source": [
    "abs(MP.Constr@Basis).max()"
   ]
  },
  {
   "cell_type": "code",
   "execution_count": 114,
   "id": "c4fbd30b-59df-43d8-8a09-0cec190c5e2f",
   "metadata": {},
   "outputs": [
    {
     "data": {
      "text/plain": [
       "(96, 95)"
      ]
     },
     "execution_count": 114,
     "metadata": {},
     "output_type": "execute_result"
    }
   ],
   "source": [
    "Basis.shape"
   ]
  },
  {
   "cell_type": "code",
   "execution_count": 157,
   "id": "87536781-ba31-4747-a4f3-713c121915cb",
   "metadata": {},
   "outputs": [
    {
     "data": {
      "text/plain": [
       "<matplotlib.lines.Line2D at 0x7f0c19337370>"
      ]
     },
     "execution_count": 157,
     "metadata": {},
     "output_type": "execute_result"
    },
    {
     "data": {
      "image/png": "[encoded data removed]",
      "text/plain": [
       "<Figure size 640x480 with 1 Axes>"
      ]
     },
     "metadata": {},
     "output_type": "display_data"
    }
   ],
   "source": [
    "spy(Basis,markersize=1e0)"
   ]
  },
  {
   "cell_type": "code",
   "execution_count": 402,
   "id": "18c693c6-82a6-4e48-b4f1-26e82c8e8b64",
   "metadata": {},
   "outputs": [],
   "source": [
    "Constr=scipy.sparse.rand(5,8, density=0.5)"
   ]
  },
  {
   "cell_type": "code",
   "execution_count": 403,
   "id": "015a6176-ab78-4332-97b4-0fd04d396732",
   "metadata": {},
   "outputs": [
    {
     "data": {
      "text/plain": [
       "array([[0.     , 0.65302, 0.     , 0.     , 0.76212, 0.     , 0.99477, 0.     ],\n",
       "       [0.41712, 0.02494, 0.     , 0.     , 0.15541, 0.81304, 0.     , 0.88219],\n",
       "       [0.     , 0.     , 0.     , 0.55785, 0.34187, 0.     , 0.     , 0.     ],\n",
       "       [0.47057, 0.12023, 0.     , 0.     , 0.67779, 0.     , 0.59852, 0.10272],\n",
       "       [0.88086, 0.14463, 0.05539, 0.     , 0.04161, 0.     , 0.     , 0.15758]])"
      ]
     },
     "execution_count": 403,
     "metadata": {},
     "output_type": "execute_result"
    }
   ],
   "source": [
    "Constr.A"
   ]
  },
  {
   "cell_type": "code",
   "execution_count": 33,
   "id": "9ca7ef8e-5621-43c4-8614-bb1af8c50f92",
   "metadata": {},
   "outputs": [
    {
     "data": {
      "text/plain": [
       "array([[-1,  0,  0,  0,  0,  0],\n",
       "       [ 0,  1,  0,  0,  0,  0],\n",
       "       [ 0,  0,  1,  0,  0,  0],\n",
       "       [ 0,  0,  0,  1,  0,  0],\n",
       "       [ 0,  0,  0,  0, -1,  0],\n",
       "       [ 0,  0,  0,  0,  0,  1]])"
      ]
     },
     "execution_count": 33,
     "metadata": {},
     "output_type": "execute_result"
    }
   ],
   "source": [
    "scipy.sparse.spdiags((a==0)*(-1)+(a!=0),0,6,6).A"
   ]
  },
  {
   "cell_type": "code",
   "execution_count": 404,
   "id": "49c4526b-9bbf-488a-b579-1fdf3cb77548",
   "metadata": {},
   "outputs": [],
   "source": [
    "a=(Constr>0.5+1e-12).sum(axis=1).A.ravel()"
   ]
  },
  {
   "cell_type": "code",
   "execution_count": 405,
   "id": "0712cfee-cb50-4728-bf59-b197996ae639",
   "metadata": {},
   "outputs": [
    {
     "data": {
      "text/plain": [
       "array([3, 2, 1, 2, 1])"
      ]
     },
     "execution_count": 405,
     "metadata": {},
     "output_type": "execute_result"
    }
   ],
   "source": [
    "a"
   ]
  },
  {
   "cell_type": "code",
   "execution_count": 116,
   "id": "8645641e-c605-4798-855f-0ccb4389c3de",
   "metadata": {},
   "outputs": [],
   "source": [
    "d={0:0,1:1}"
   ]
  },
  {
   "cell_type": "code",
   "execution_count": 119,
   "id": "97eaf3fd-523f-4f57-acc1-61da64b86f82",
   "metadata": {},
   "outputs": [
    {
     "ename": "KeyError",
     "evalue": "(0, 1)",
     "output_type": "error",
     "traceback": [
      "\u001b[0;31m---------------------------------------------------------------------------\u001b[0m",
      "\u001b[0;31mKeyError\u001b[0m                                  Traceback (most recent call last)",
      "\u001b[0;32m/tmp/ipykernel_55483/3581416858.py\u001b[0m in \u001b[0;36m<module>\u001b[0;34m\u001b[0m\n\u001b[0;32m----> 1\u001b[0;31m \u001b[0md\u001b[0m\u001b[0;34m.\u001b[0m\u001b[0mpop\u001b[0m\u001b[0;34m(\u001b[0m\u001b[0;34m(\u001b[0m\u001b[0;36m0\u001b[0m\u001b[0;34m,\u001b[0m\u001b[0;36m1\u001b[0m\u001b[0;34m)\u001b[0m\u001b[0;34m)\u001b[0m\u001b[0;34m\u001b[0m\u001b[0;34m\u001b[0m\u001b[0m\n\u001b[0m",
      "\u001b[0;31mKeyError\u001b[0m: (0, 1)"
     ]
    }
   ],
   "source": []
  },
  {
   "cell_type": "code",
   "execution_count": null,
   "id": "c5db2002-fc7a-4def-84ba-b6233f58648b",
   "metadata": {},
   "outputs": [],
   "source": []
  }
 ],
 "metadata": {
  "kernelspec": {
   "display_name": "Python 3 (ipykernel)",
   "language": "python",
   "name": "python3"
  },
  "language_info": {
   "codemirror_mode": {
    "name": "ipython",
    "version": 3
   },
   "file_extension": ".py",
   "mimetype": "text/x-python",
   "name": "python",
   "nbconvert_exporter": "python",
   "pygments_lexer": "ipython3",
   "version": "3.9.13"
  }
 },
 "nbformat": 4,
 "nbformat_minor": 5
}
