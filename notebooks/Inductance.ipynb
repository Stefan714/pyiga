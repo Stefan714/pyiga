{
 "cells": [
  {
   "cell_type": "code",
   "execution_count": 1,
   "id": "85295cb2-d323-4c58-bf99-625eeba68934",
   "metadata": {},
   "outputs": [
    {
     "name": "stdout",
     "output_type": "stream",
     "text": [
      "Populating the interactive namespace from numpy and matplotlib\n"
     ]
    }
   ],
   "source": [
    "%pylab inline\n",
    "import scipy\n",
    "from scipy.sparse import coo_matrix, csr_matrix, block_diag, identity, hstack\n",
    "import matplotlib.pyplot as plt\n",
    "from pyiga import bspline, vform, geometry, vis, solvers, utils, topology\n",
    "from pyiga import assemble\n",
    "from sksparse.cholmod import cholesky\n",
    "\n",
    "from pyiga import bspline\n",
    "from pyiga import utils\n",
    "from pyiga.bspline import BSplineFunc\n",
    "from pyiga.tensor import apply_tprod\n",
    "from pyiga import adaptive as adap\n",
    "\n",
    "import functools\n",
    "import itertools\n",
    "\n",
    "numpy.set_printoptions(linewidth=100000)\n",
    "numpy.set_printoptions(precision=5)"
   ]
  },
  {
   "cell_type": "code",
   "execution_count": 25,
   "id": "7582375c-68cd-4a92-a6e5-f7cba2f738dc",
   "metadata": {},
   "outputs": [],
   "source": [
    "def Inductor(deg,N):\n",
    "    kvs=20*[bspline.make_knots(deg,0.0,1.0,N),]\n",
    "    \n",
    "    geos=[\n",
    "        geometry.unit_square().scale()\n",
    "        \n",
    "        \n",
    "        geometry.unit_square().scale(0.25),\n",
    "        geometry.unit_square().scale(0.25).translate((0.25,0)),\n",
    "        geometry.unit_square().scale((0.5,0.25)).translate((0.5,0)),\n",
    "        geometry.unit_square().scale((0.25,0.25)).translate((1.,0)),\n",
    "        geometry.unit_square().scale((0.25,0.25)).translate((1.25,0)),\n",
    "\n",
    "         ]\n",
    "    patches=list(zip(kvs,geos))\n",
    "    M = topology.PatchMesh(patches)\n",
    "    return M"
   ]
  },
  {
   "cell_type": "code",
   "execution_count": 26,
   "id": "fb021b57-58e5-4c18-bc58-1e662ca0ad03",
   "metadata": {},
   "outputs": [],
   "source": [
    "M = Inductor(2,3)"
   ]
  },
  {
   "cell_type": "code",
   "execution_count": 27,
   "id": "991676f2-0020-4d62-a1a7-7819725434bb",
   "metadata": {},
   "outputs": [
    {
     "data": {
      "image/png": "[encoded data removed]",
      "text/plain": [
       "<Figure size 640x480 with 1 Axes>"
      ]
     },
     "metadata": {},
     "output_type": "display_data"
    }
   ],
   "source": [
    "M.draw()"
   ]
  },
  {
   "cell_type": "code",
   "execution_count": null,
   "id": "f0df03f1-528c-40e0-b546-3194ebc0a33d",
   "metadata": {},
   "outputs": [],
   "source": []
  }
 ],
 "metadata": {
  "kernelspec": {
   "display_name": "Python 3 (ipykernel)",
   "language": "python",
   "name": "python3"
  },
  "language_info": {
   "codemirror_mode": {
    "name": "ipython",
    "version": 3
   },
   "file_extension": ".py",
   "mimetype": "text/x-python",
   "name": "python",
   "nbconvert_exporter": "python",
   "pygments_lexer": "ipython3",
   "version": "3.9.13"
  }
 },
 "nbformat": 4,
 "nbformat_minor": 5
}
