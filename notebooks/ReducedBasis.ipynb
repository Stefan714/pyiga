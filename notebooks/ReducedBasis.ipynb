{
 "cells": [
  {
   "cell_type": "code",
   "execution_count": 22,
   "id": "2867df12-af39-45f7-9251-47ee184af0dd",
   "metadata": {},
   "outputs": [],
   "source": [
    "import numpy as np\n",
    "import scipy \n",
    "import itertools as it\n",
    "\n",
    "from pyiga import bspline, vform, geometry, vis, solvers, utils, topology"
   ]
  },
  {
   "cell_type": "code",
   "execution_count": 128,
   "id": "dfd95d1c-edb2-4eb7-b865-af7f9bee8bd3",
   "metadata": {},
   "outputs": [],
   "source": [
    "def Heatsquare(B1=1, B2=1, deg=1, N=3):\n",
    "    h1, h2 = 1/B1, 1/B2\n",
    "    geos= [geometry.unit_square().scale((h1,h2)).translate((j*h1,i*h2)) for i,j in it.product(range(B2),range(B1))]\n",
    "    kvs = B1*B2 *[2* (bspline.make_knots(deg,0,1,N),)]\n",
    "    patches = [(k, g) for k, g in zip(kvs,geos)]\n",
    "    M = topology.PatchMesh(patches, domains={i:{i} for i in range(B1*B2)})\n",
    "    M.set_boundary_id({'D':{(B1*B2 - i - 1,1) for i in range(B1)},'N0':{(B1*j,2) for j in range(B2)}|{(B1*j+B2+1,3) for j in range(B2)},'N1':{(i,0) for i in range(B1)}})\n",
    "    return M"
   ]
  },
  {
   "cell_type": "code",
   "execution_count": 129,
   "id": "de899259-6837-4234-ab24-f7e55cfaac6f",
   "metadata": {},
   "outputs": [],
   "source": [
    "M = Heatsquare(6,4)"
   ]
  },
  {
   "cell_type": "code",
   "execution_count": 130,
   "id": "ab87d897-4202-44b0-ad3d-e49d092c691c",
   "metadata": {},
   "outputs": [
    {
     "data": {
      "text/plain": [
       "{'D': {(18, 1), (19, 1), (20, 1), (21, 1), (22, 1), (23, 1)},\n",
       " 'N0': {(0, 2), (5, 3), (6, 2), (11, 3), (12, 2), (17, 3), (18, 2), (23, 3)},\n",
       " 'N1': {(0, 0), (1, 0), (2, 0), (3, 0), (4, 0), (5, 0)}}"
      ]
     },
     "execution_count": 130,
     "metadata": {},
     "output_type": "execute_result"
    }
   ],
   "source": [
    "M.outer_boundaries"
   ]
  },
  {
   "cell_type": "code",
   "execution_count": 136,
   "id": "f80027eb-b2f0-4245-b751-c25878f77239",
   "metadata": {},
   "outputs": [
    {
     "data": {
      "image/png": "[encoded data removed]",
      "text/plain": [
       "<Figure size 640x480 with 1 Axes>"
      ]
     },
     "metadata": {},
     "output_type": "display_data"
    }
   ],
   "source": [
    "M.draw(knots=1,patch_idx=0, bcolor={'D':'blue','N0':'orange','N1':'red'},bwidth=2)"
   ]
  },
  {
   "cell_type": "code",
   "execution_count": 67,
   "id": "d5b42371-e5a7-4182-897a-61719cc66d1e",
   "metadata": {},
   "outputs": [],
   "source": [
    "B1, B2 = 3,4"
   ]
  },
  {
   "cell_type": "code",
   "execution_count": 70,
   "id": "d787770e-9b8f-4bdb-b596-2d40a855e110",
   "metadata": {},
   "outputs": [
    {
     "data": {
      "text/plain": [
       "{9, 10, 11}"
      ]
     },
     "execution_count": 70,
     "metadata": {},
     "output_type": "execute_result"
    }
   ],
   "source": [
    "{B1*B2 - i - 1 for i in range(B1)}"
   ]
  },
  {
   "cell_type": "code",
   "execution_count": 66,
   "id": "20c91b30-2aa4-492e-91b5-a07f55eeadbc",
   "metadata": {},
   "outputs": [
    {
     "data": {
      "text/plain": [
       "{0: {0},\n",
       " 1: {1},\n",
       " 2: {2},\n",
       " 3: {3},\n",
       " 4: {4},\n",
       " 5: {5},\n",
       " 6: {6},\n",
       " 7: {7},\n",
       " 8: {8},\n",
       " 9: {9},\n",
       " 10: {10},\n",
       " 11: {11},\n",
       " 12: {12},\n",
       " 13: {13},\n",
       " 14: {14},\n",
       " 15: {15},\n",
       " 16: {16},\n",
       " 17: {17},\n",
       " 18: {18},\n",
       " 19: {19},\n",
       " 20: {20},\n",
       " 21: {21},\n",
       " 22: {22},\n",
       " 23: {23},\n",
       " 24: {24},\n",
       " 25: {25},\n",
       " 26: {26},\n",
       " 27: {27},\n",
       " 28: {28},\n",
       " 29: {29},\n",
       " 30: {30},\n",
       " 31: {31},\n",
       " 32: {32},\n",
       " 33: {33},\n",
       " 34: {34},\n",
       " 35: {35}}"
      ]
     },
     "execution_count": 66,
     "metadata": {},
     "output_type": "execute_result"
    }
   ],
   "source": [
    "M.domains"
   ]
  },
  {
   "cell_type": "code",
   "execution_count": 37,
   "id": "4ce6c45f-3fd7-4b1d-bc80-cb39cb977b1f",
   "metadata": {},
   "outputs": [
    {
     "data": {
      "text/plain": [
       "[(KnotVector(array([0.        , 0.        , 0.33333333, 0.66666667, 1.        ,\n",
       "         1.        ]), 1),\n",
       "  KnotVector(array([0.        , 0.        , 0.33333333, 0.66666667, 1.        ,\n",
       "         1.        ]), 1)),\n",
       " (KnotVector(array([0.        , 0.        , 0.33333333, 0.66666667, 1.        ,\n",
       "         1.        ]), 1),\n",
       "  KnotVector(array([0.        , 0.        , 0.33333333, 0.66666667, 1.        ,\n",
       "         1.        ]), 1)),\n",
       " (KnotVector(array([0.        , 0.        , 0.33333333, 0.66666667, 1.        ,\n",
       "         1.        ]), 1),\n",
       "  KnotVector(array([0.        , 0.        , 0.33333333, 0.66666667, 1.        ,\n",
       "         1.        ]), 1)),\n",
       " (KnotVector(array([0.        , 0.        , 0.33333333, 0.66666667, 1.        ,\n",
       "         1.        ]), 1),\n",
       "  KnotVector(array([0.        , 0.        , 0.33333333, 0.66666667, 1.        ,\n",
       "         1.        ]), 1))]"
      ]
     },
     "execution_count": 37,
     "metadata": {},
     "output_type": "execute_result"
    }
   ],
   "source": [
    "4*[2*(bspline.make_knots(1,0,1,3),)]"
   ]
  },
  {
   "cell_type": "code",
   "execution_count": 11,
   "id": "a564dfda-83f3-48e8-a6b0-dd444e58c7e6",
   "metadata": {},
   "outputs": [
    {
     "ename": "TypeError",
     "evalue": "make_knots() missing 4 required positional arguments: 'p', 'a', 'b', and 'n'",
     "output_type": "error",
     "traceback": [
      "\u001b[0;31m---------------------------------------------------------------------------\u001b[0m",
      "\u001b[0;31mTypeError\u001b[0m                                 Traceback (most recent call last)",
      "Cell \u001b[0;32mIn[11], line 1\u001b[0m\n\u001b[0;32m----> 1\u001b[0m bspline\u001b[38;5;241m.\u001b[39mmake_knots()\n",
      "\u001b[0;31mTypeError\u001b[0m: make_knots() missing 4 required positional arguments: 'p', 'a', 'b', and 'n'"
     ]
    }
   ],
   "source": [
    "bspline.make_knots()"
   ]
  },
  {
   "cell_type": "code",
   "execution_count": null,
   "id": "a7d2aa70-82c6-4b38-b51a-9ef9d2c7a9fa",
   "metadata": {},
   "outputs": [],
   "source": []
  },
  {
   "cell_type": "code",
   "execution_count": 21,
   "id": "83dc7b06-3037-4033-b685-2325807ad2d4",
   "metadata": {},
   "outputs": [
    {
     "ename": "NameError",
     "evalue": "name 'xss' is not defined",
     "output_type": "error",
     "traceback": [
      "\u001b[0;31m---------------------------------------------------------------------------\u001b[0m",
      "\u001b[0;31mNameError\u001b[0m                                 Traceback (most recent call last)",
      "Cell \u001b[0;32mIn[21], line 1\u001b[0m\n\u001b[0;32m----> 1\u001b[0m [x \u001b[38;5;28;01mfor\u001b[39;00m xs \u001b[38;5;129;01min\u001b[39;00m xss \u001b[38;5;28;01mfor\u001b[39;00m x \u001b[38;5;129;01min\u001b[39;00m xs]\n",
      "\u001b[0;31mNameError\u001b[0m: name 'xss' is not defined"
     ]
    }
   ],
   "source": [
    "[x for xs in xss for x in xs]"
   ]
  },
  {
   "cell_type": "code",
   "execution_count": 25,
   "id": "993fe8bc-542a-4200-b584-698217ee3fcc",
   "metadata": {},
   "outputs": [
    {
     "data": {
      "text/plain": [
       "[(0, 0),\n",
       " (0, 1),\n",
       " (0, 2),\n",
       " (0, 3),\n",
       " (1, 0),\n",
       " (1, 1),\n",
       " (1, 2),\n",
       " (1, 3),\n",
       " (2, 0),\n",
       " (2, 1),\n",
       " (2, 2),\n",
       " (2, 3)]"
      ]
     },
     "execution_count": 25,
     "metadata": {},
     "output_type": "execute_result"
    }
   ],
   "source": [
    "list(it.product(range(3),range(4)))"
   ]
  },
  {
   "cell_type": "code",
   "execution_count": null,
   "id": "4f25d7a5-672d-4bc9-80bc-f1bed5c1e8b9",
   "metadata": {},
   "outputs": [],
   "source": []
  }
 ],
 "metadata": {
  "kernelspec": {
   "display_name": "Python 3 (ipykernel)",
   "language": "python",
   "name": "python3"
  },
  "language_info": {
   "codemirror_mode": {
    "name": "ipython",
    "version": 3
   },
   "file_extension": ".py",
   "mimetype": "text/x-python",
   "name": "python",
   "nbconvert_exporter": "python",
   "pygments_lexer": "ipython3",
   "version": "3.12.4"
  }
 },
 "nbformat": 4,
 "nbformat_minor": 5
}
