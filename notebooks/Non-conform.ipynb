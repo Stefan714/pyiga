{
 "cells": [
  {
   "cell_type": "code",
   "execution_count": 1,
   "id": "91068646-2565-439d-9f0b-846414cd190d",
   "metadata": {},
   "outputs": [
    {
     "name": "stdout",
     "output_type": "stream",
     "text": [
      "Populating the interactive namespace from numpy and matplotlib\n"
     ]
    }
   ],
   "source": [
    "%pylab inline\n",
    "import scipy\n",
    "from scipy.sparse import coo_matrix, block_diag, identity, hstack\n",
    "#import matplotlib as mpl\n",
    "import matplotlib.pyplot as plt\n",
    "from pyiga import bspline, vform, geometry, vis, solvers, utils, topology\n",
    "from pyiga import assemble\n",
    "#from patchmesh import *\n",
    "from sksparse.cholmod import cholesky\n",
    "#from patchmesh3D import *\n",
    "#from multipatch import *\n",
    "\n",
    "from pyiga import bspline\n",
    "from pyiga import utils\n",
    "from pyiga.bspline import BSplineFunc\n",
    "from pyiga.tensor import apply_tprod\n",
    "\n",
    "import functools\n",
    "\n",
    "numpy.set_printoptions(linewidth=100000)\n",
    "numpy.set_printoptions(precision=5)"
   ]
  },
  {
   "cell_type": "code",
   "execution_count": 12,
   "id": "2662f059-0f19-4f5a-9e60-02ce30591425",
   "metadata": {},
   "outputs": [
    {
     "data": {
      "image/png": "[encoded data removed]",
      "text/plain": [
       "<Figure size 800x800 with 1 Axes>"
      ]
     },
     "metadata": {},
     "output_type": "display_data"
    }
   ],
   "source": [
    "deg, N = 1,1\n",
    "kvs = 5*[2 * (bspline.make_knots(deg, 0.0, 1.0, N),),]\n",
    "geo1=geometry.unit_square(support=((1/3,2/3),(1/3,2/3)))\n",
    "geo2=geometry.unit_square(support=((0.0,1/3),(0.0,2/3)))\n",
    "geo3=geometry.unit_square(support=((1/3,1.0),(0.0,1/3)))\n",
    "geo4=geometry.unit_square(support=((2/3,1.0),(1/3,1.0)))\n",
    "geo5=geometry.unit_square(support=((0.0,2/3),(2/3,1.0)))\n",
    "\n",
    "geos=[\n",
    "    geo1,\n",
    "    geo2,\n",
    "    geo3,\n",
    "    geo4,\n",
    "    geo5\n",
    "]\n",
    "patches = [(k, g) for k, g in zip(kvs,geos)]\n",
    "\n",
    "interfaces=[\n",
    "    ((0,0,0),(1,1,1),False),\n",
    "    ((0,2,0),(2,3,0),False),\n",
    "    ((0,1,0),(3,0,0),False),\n",
    "    ((0,3,0),(4,2,1),False),\n",
    "    ((1,1,0),(2,0,0),False),\n",
    "    ((2,3,1),(3,2,0),False),\n",
    "    ((3,0,1),(4,1,0),False),\n",
    "    ((4,2,0),(1,3,0),False)\n",
    "]\n",
    "\n",
    "# for g in geos:\n",
    "#     vis.plot_geo(g,grid=2)\n",
    "M = topology.PatchMesh(patches, interfaces)\n",
    "M.draw(patch_idx=True, knots=False)"
   ]
  },
  {
   "cell_type": "code",
   "execution_count": null,
   "id": "df3a76c3-87c6-44b2-8734-c53894eb7661",
   "metadata": {},
   "outputs": [],
   "source": []
  },
  {
   "cell_type": "code",
   "execution_count": 6,
   "id": "77133a7b-1a15-496f-b7e1-56a5cbb7a70c",
   "metadata": {},
   "outputs": [],
   "source": [
    "MP = assemble.Multipatch(M, automatch = True)"
   ]
  },
  {
   "cell_type": "code",
   "execution_count": 11,
   "id": "ebdb2a84-a952-4c11-9f7e-e15254b39698",
   "metadata": {},
   "outputs": [
    {
     "data": {
      "text/plain": [
       "array([[-1.,  0.,  0.,  0.,  0.,  0.,  1.,  0.,  0.,  0.,  0.,  0.,  0.,  0.,  0.,  0.,  0.,  0.,  0.,  0.],\n",
       "       [ 0., -1.,  0.,  0.,  0.,  0.,  0.,  1.,  0.,  0.,  0.,  0.,  0.,  0.,  0.,  0.,  0.,  0.,  0.,  0.],\n",
       "       [ 0., -1.,  0.,  0.,  0.,  0.,  0.,  0.,  0.,  0.,  0.,  0.,  0.,  0.,  0.,  0.,  1.,  0.,  0.,  0.],\n",
       "       [ 0.,  0.,  0., -1.,  0.,  0.,  0.,  0.,  0.,  0.,  0.,  0.,  0.,  0.,  0.,  0.,  0.,  0.,  1.,  0.],\n",
       "       [ 0.,  0.,  0.,  0.,  0.,  1.,  0.,  0.,  0.,  0.,  0.,  0.,  0.,  0.,  0.,  0., -1.,  0.,  0.,  0.],\n",
       "       [ 0.,  0.,  0.,  0.,  0.,  0.,  0.,  1.,  0.,  0.,  0.,  0.,  0.,  0.,  0.,  0.,  0.,  0., -1.,  0.],\n",
       "       [ 0.,  0., -1.,  0.,  0.,  0.,  0.,  0.,  0.,  0.,  0.,  0.,  1.,  0.,  0.,  0.,  0.,  0.,  0.,  0.],\n",
       "       [ 0.,  0.,  0., -1.,  0.,  0.,  0.,  0.,  0.,  0.,  0.,  0.,  0.,  1.,  0.,  0.,  0.,  0.,  0.,  0.],\n",
       "       [ 0.,  0.,  0.,  0.,  0.,  0., -1.,  0.,  1.,  0.,  0.,  0.,  0.,  0.,  0.,  0.,  0.,  0.,  0.,  0.],\n",
       "       [ 0.,  0.,  0.,  0.,  0.,  0.,  0., -1.,  0.,  1.,  0.,  0.,  0.,  0.,  0.,  0.,  0.,  0.,  0.,  0.],\n",
       "       [ 0.,  0.,  0.,  0.,  0.,  0.,  0.,  0.,  0.,  0.,  0.,  0., -1.,  0.,  0.,  0.,  0.,  0.,  1.,  0.],\n",
       "       [ 0.,  0.,  0.,  0.,  0.,  0.,  0.,  0.,  0.,  0.,  0.,  0.,  0., -1.,  0.,  0.,  0.,  0.,  0.,  1.],\n",
       "       [-1.,  0.,  0.,  0.,  0.,  0.,  0.,  0.,  0.,  1.,  0.,  0.,  0.,  0.,  0.,  0.,  0.,  0.,  0.,  0.],\n",
       "       [ 0.,  0., -1.,  0.,  0.,  0.,  0.,  0.,  0.,  0.,  0.,  1.,  0.,  0.,  0.,  0.,  0.,  0.,  0.,  0.],\n",
       "       [ 0.,  0.,  0.,  0.,  0.,  0.,  0.,  0.,  0., -1.,  0.,  0.,  1.,  0.,  0.,  0.,  0.,  0.,  0.,  0.],\n",
       "       [ 0.,  0.,  0.,  0.,  0.,  0.,  0.,  0.,  0.,  0.,  0., -1.,  0.,  0.,  1.,  0.,  0.,  0.,  0.,  0.]])"
      ]
     },
     "execution_count": 11,
     "metadata": {},
     "output_type": "execute_result"
    }
   ],
   "source": [
    "MP.Constr.A"
   ]
  },
  {
   "cell_type": "code",
   "execution_count": 23,
   "id": "46dd02f1-33e1-4cbe-9ec3-8ab15fd86bea",
   "metadata": {},
   "outputs": [],
   "source": [
    "deg, N = 1,1\n",
    "kvs = 2*[2 * (bspline.make_knots(deg, 0.0, 1.0, N),),]\n",
    "geos=[\n",
    "    geometry.unit_square(),\n",
    "    geometry.unit_square().translate((1,0))\n",
    "]\n",
    "patches = [(k, g) for k, g in zip(kvs,geos)]\n",
    "M = topology.PatchMesh(patches)\n",
    "interfaces=[\n",
    "    (0,((0,0),),1,((0,1),),((0,),(False,))),\n",
    "    (0,((1,0),),2,((1,1),),((0,),(False,))),\n",
    "    (0,((0,1),),3,((0,0),),((0,),(False,))),\n",
    "    (0,((1,1),),4,((1,0),),((0,),(False,))),\n",
    "    (1,((0,1),),2,((0,0),),((0,),(False,))),\n",
    "    (2,((1,1),),3,((1,0),),((0,),(False,))),\n",
    "    (3,((0,0),),4,((0,1),),((0,),(False,))),\n",
    "    (4,((1,0),),1,((1,1),),((0,),(False,)))\n",
    "]"
   ]
  },
  {
   "cell_type": "code",
   "execution_count": 24,
   "id": "46636f4b-62ae-4872-8a12-52ad78ba489e",
   "metadata": {},
   "outputs": [
    {
     "data": {
      "image/png": "[encoded data removed]",
      "text/plain": [
       "<Figure size 800x800 with 1 Axes>"
      ]
     },
     "metadata": {},
     "output_type": "display_data"
    }
   ],
   "source": [
    "M.draw()"
   ]
  },
  {
   "cell_type": "code",
   "execution_count": 25,
   "id": "f79b4162-4e4a-48d4-97d0-aa2837c14bfc",
   "metadata": {},
   "outputs": [
    {
     "data": {
      "text/plain": [
       "(0, ((1, 1),), 1, ((1, 0),), ((0,), (False,)))"
      ]
     },
     "execution_count": 25,
     "metadata": {},
     "output_type": "execute_result"
    }
   ],
   "source": [
    "assemble.detect_interfaces(patches)[1][0]"
   ]
  },
  {
   "cell_type": "code",
   "execution_count": 26,
   "id": "471310f9-f270-4c14-b2bc-4f842c54ad08",
   "metadata": {},
   "outputs": [],
   "source": [
    "interfaces=[\n",
    "    (0,((0,0),),1,((0,1),),((0,),(False,))),\n",
    "    (0,((1,0),),2,((1,1),),((0,),(False,))),\n",
    "    (0,((0,1),),3,((0,0),),((0,),(False,))),\n",
    "    (0,((1,1),),4,((1,0),),((0,),(False,))),\n",
    "    (1,((0,1),),2,((0,0),),((0,),(False,))),\n",
    "    (2,((1,1),),3,((1,0),),((0,),(False,))),\n",
    "    (3,((0,0),),4,((0,1),),((0,),(False,))),\n",
    "    (4,((1,0),),1,((1,1),),((0,),(False,)))\n",
    "]"
   ]
  },
  {
   "cell_type": "code",
   "execution_count": null,
   "id": "be753e3a-156f-4843-9f94-798069fd6e2c",
   "metadata": {},
   "outputs": [],
   "source": []
  }
 ],
 "metadata": {
  "kernelspec": {
   "display_name": "Python 3 (ipykernel)",
   "language": "python",
   "name": "python3"
  },
  "language_info": {
   "codemirror_mode": {
    "name": "ipython",
    "version": 3
   },
   "file_extension": ".py",
   "mimetype": "text/x-python",
   "name": "python",
   "nbconvert_exporter": "python",
   "pygments_lexer": "ipython3",
   "version": "3.9.13"
  }
 },
 "nbformat": 4,
 "nbformat_minor": 5
}
