{
 "cells": [
  {
   "cell_type": "code",
   "execution_count": 88,
   "id": "8c74f08a-f5eb-455e-917e-90041710b14d",
   "metadata": {},
   "outputs": [
    {
     "name": "stdout",
     "output_type": "stream",
     "text": [
      "%pylab is deprecated, use %matplotlib inline and import the required libraries.\n",
      "Populating the interactive namespace from numpy and matplotlib\n"
     ]
    },
    {
     "name": "stderr",
     "output_type": "stream",
     "text": [
      "/home/wolfman/miniforge3/lib/python3.11/site-packages/IPython/core/magics/pylab.py:166: UserWarning: pylab import has clobbered these variables: ['hstack', 'identity']\n",
      "`%matplotlib` prevents importing * from pylab and numpy\n",
      "  warn(\"pylab import has clobbered these variables: %s\"  % clobbered +\n"
     ]
    }
   ],
   "source": [
    "%pylab inline\n",
    "import scipy\n",
    "from scipy.sparse import coo_matrix, block_diag, identity, hstack, csr_matrix, csc_matrix\n",
    "import matplotlib.pyplot as plt\n",
    "from pyiga import assemble, bspline, vform, geometry, vis, solvers, utils, topology, ieti, algebra\n",
    "from pyiga import algebra_cy\n",
    "\n",
    "from scipy.sparse.linalg import aslinearoperator\n",
    "\n",
    "numpy.set_printoptions(linewidth=100000)\n",
    "numpy.set_printoptions(precision=5)"
   ]
  },
  {
   "cell_type": "code",
   "execution_count": 69,
   "id": "57de69c1-9ff5-4fb0-af50-2b0090ccfb1a",
   "metadata": {},
   "outputs": [],
   "source": [
    "class IetiMapper:\n",
    "    def __init__(self, MP, dir_data, neu_data=None, elim=False):\n",
    "        self.space = MP\n",
    "        kvs = self.space.mesh.kvs\n",
    "        geos = self.space.mesh.geos\n",
    "\n",
    "        # self.elim=elim\n",
    "\n",
    "        # if self.elim:\n",
    "        #     p_intfs = np.array([[p1,p2] for (p1,_,_),(p2,_,_),_ in self.space.intfs], dtype=np.int32).T\n",
    "        #     self.Basisk, self.N_ofs, self.N, self.B = ieti_cy.pyx_compute_decoupled_coarse_basis(self.space.Basis.tocsc(), MP.N_ofs.astype(np.int32), p_intfs)\n",
    "        # else:\n",
    "            #self.Basisk = [scipy.sparse.identity(self.space.N[p]) for p in range(self.space.numpatches)]\n",
    "        self.B = self.space.Constr\n",
    "        self.N = self.space.N\n",
    "        self.N_ofs = self.space.N_ofs\n",
    "\n",
    "        self.Bk = [self.B[:,self.N_ofs[p]:self.N_ofs[p+1]] for p in range(self.space.numpatches)]\n",
    "\n",
    "        nnz_per_col = self.B.getnnz(axis=0)\n",
    "        self.intfs = np.setdiff1d(np.where(nnz_per_col > 0)[0], self.space.global_dir_idx)\n",
    "        self.skeleton = np.union1d(self.intfs, self.space.global_dir_idx)\n",
    "        \n",
    "        self.Rbb = []\n",
    "        self.Rii = []\n",
    "        for p in range(self.space.numpatches):\n",
    "            Id = scipy.sparse.eye(self.N[p], format='csr')\n",
    "            mask = np.zeros(self.N[p], dtype=bool)\n",
    "            nnz_per_col = self.Bk[p].getnnz(axis=0)\n",
    "            if p in self.space.dir_idx:\n",
    "                intfs = np.setdiff1d(np.where(nnz_per_col > 0)[0], self.space.dir_idx[p])\n",
    "            else:\n",
    "                intfs = np.where(nnz_per_col > 0)[0]\n",
    "            mask[intfs]=True\n",
    "            if p in self.space.dir_idx:\n",
    "                mask[self.space.dir_idx[p]]=False\n",
    "            self.Rbb.append(Id[mask].tocsc())\n",
    "            mask = np.ones(self.N[p], dtype=bool)\n",
    "            mask[intfs]=False\n",
    "            if p in self.space.dir_idx:\n",
    "                mask[self.space.dir_idx[p]]=False\n",
    "            self.Rii.append(Id[mask].tocsc())\n",
    "            \n",
    "        self.Nodes = self.get_nodes()\n",
    "\n",
    "    def get_nodes(self, dir_boundary=False):      ###TODO: make it dependent on a constraint matrix not on the precomputed Basis matrix\n",
    "        \"\"\"Get global vertices of the multipatch object as well as local nodal degrees of freedom corresponding to the vertices. \n",
    "        In case of T-junctions also obtain the $p$ global degrees of freedom and $p$ local degrees of freedom on the coarse patch.\n",
    "        Additionally may include nodes on the Dirichlet boundary if desired.\"\"\"\n",
    "        loc_c = np.concatenate([assemble.boundary_dofs(kvs,m=0,ravel=True) + self.N_ofs[p] for p, kvs in enumerate(self.space.mesh.kvs)])\n",
    "\n",
    "        #loc_c = np.setdiff1d(loc_c, self.global_dir_idx)\n",
    "\n",
    "        idx = (self.B[:,loc_c].getnnz(axis=1)==2)\n",
    "        c_B = self.B[idx,:] \n",
    "        nodal_indicator = algebra_cy.pyx_compute_basis(c_B.shape[0], c_B.shape[1], c_B, maxiter=5).tocsc()\n",
    "        nodal_indicator = nodal_indicator[:,nodal_indicator.getnnz(axis=0)>1]\n",
    "        \n",
    "        return np.split(nodal_indicator.indices, nodal_indicator.indptr[1:-1])\n",
    "        # B = self.space.Basis[loc_c,:]\n",
    "        # C_dofs = np.unique(B[B.getnnz(axis=1)==1].indices)\n",
    "        # X = scipy.sparse.coo_matrix(self.space.Basis)\n",
    "        # idx = np.where(np.isclose(X.data,1))\n",
    "        # X.data, X.row, X.col = X.data[idx], X.row[idx], X.col[idx]\n",
    "        # X = X.tocsc()\n",
    "        # self.Nodes = {c:[X[:,c].indices] for c in C_dofs}\n",
    "        # t_idx = loc_c[np.where(B.getnnz(axis=1)>1)[0]]\n",
    "        # T_dofs = {}\n",
    "        # for i in t_idx:\n",
    "        #     t = tuple(self.space.Basis[i,:].indices)\n",
    "        #     coeff = tuple()\n",
    "        #     if t not in T_dofs:\n",
    "        #         T_dofs[t] = [(i,),set(self.space.Constr[self.space.Constr.tocsc()[:,i].indices,:].indices)-{i}]\n",
    "        #     else:\n",
    "        #         T_dofs[t][0] = T_dofs[t][0]+(i,)\n",
    "        #         T_dofs[t][1] = T_dofs[t][1] & (set(self.space.Constr[self.space.Constr.tocsc()[:,i].indices,:].indices)-{i})\n",
    "        # T_dofs = {t:[np.sort(T_dofs[t][0]),np.sort(list(T_dofs[t][1]))] for t in T_dofs}\n",
    "        # self.Nodes.update(T_dofs)\n",
    "        # if not dir_boundary:\n",
    "        #     self.Nodes = {key:self.Nodes[key] for key in self.Nodes if len(np.intersect1d(self.Nodes[key][0],self.space.global_dir_idx))==0}\n",
    "        \n",
    "\n",
    "    def generate_primal_info(fat):      ###TODO: more efficient\n",
    "        #Nodes = self.space.get_nodes()\n",
    "        self.Prim = {}\n",
    "        i=0\n",
    "        total_dofs=set()\n",
    "        \n",
    "        if self.elim:\n",
    "            if fat:\n",
    "                for key in self.Nodes:\n",
    "                    if isinstance(key,np.int32):\n",
    "                        dofs = self.Basis.tocsr()[self.Nodes[key][0],:].indices\n",
    "                        self.Prim[i] = (dofs,np.ones(len(dofs)))\n",
    "                        i+=1\n",
    "                    else:\n",
    "                        dofs = self.Basis.tocsr()[self.Nodes[key][1],:].indices\n",
    "                        for dof in dofs:\n",
    "                            if dof not in total_dofs:\n",
    "                                total_dofs.add(dof)\n",
    "                                dofs = np.unique(self.B.tocsr()[self.B.tocsc()[:,dof].indices,:].indices)\n",
    "                                self.Prim[i] = (dofs,np.ones(len(dofs)))\n",
    "                                i+=1\n",
    "            else:\n",
    "                for key in self.Nodes:\n",
    "                    if isinstance(key,np.int32):\n",
    "                        dofs = self.Basis.tocsr()[self.Nodes[key][0],:].indices\n",
    "                        self.Prim[i] = (dofs,np.ones(len(dofs)))\n",
    "                        i+=1\n",
    "                    else:\n",
    "                        constr = (self.space.Constr.tocsc()[:,self.Nodes[key][0][0]]==1).indices\n",
    "                        coeffs = abs(self.space.Constr[constr,:][:,self.Nodes[key][1]].data)\n",
    "                        dofs_coarse = self.Basis.tocsr()[self.Nodes[key][1],:].indices\n",
    "                        dofs=[]\n",
    "                        for dof in dofs_coarse:\n",
    "                            found_dofs = np.unique(self.B.tocsr()[self.B.tocsc()[:,dof].indices,:].indices)\n",
    "                            dofs.append(found_dofs)\n",
    "                        self.Prim[i] = (np.concatenate(dofs),np.repeat(coeffs,len(found_dofs)))\n",
    "                        i+=1\n",
    "        else:\n",
    "            for key in self.Nodes:\n",
    "                if isinstance(key,np.int32):    #regular corner\n",
    "                    dofs = self.Basis.tocsr()[self.Nodes[key][0],:].indices\n",
    "                    self.Prim[i] = (dofs,np.ones(len(dofs)))\n",
    "                    i+=1\n",
    "                else:                        #T-junction\n",
    "                    constr = (self.space.Constr.tocsc()[:,self.Nodes[key][0][0]]==1).indices\n",
    "                    coeffs = abs(self.space.Constr[constr,:][:,self.Nodes[key][1]].data)\n",
    "                    dofs_coarse = self.Nodes[key][1]\n",
    "                    dofs=np.concatenate([self.Nodes[key][0],self.Nodes[key][1]])\n",
    "                    coeffs = np.concatenate([np.ones(len(self.Nodes[key][0])),coeffs])\n",
    "                    self.Prim[i] = (dofs,coeffs)\n",
    "                    i+=1\n",
    "        #self.n_prim = len(Prim)"
   ]
  },
  {
   "cell_type": "code",
   "execution_count": 82,
   "id": "4984dadf-fee3-4066-aa9e-862a6617ec32",
   "metadata": {},
   "outputs": [
    {
     "name": "stdout",
     "output_type": "stream",
     "text": [
      "setting up constraints took 0.016642332077026367 seconds.\n",
      "Basis setup took 0.003204822540283203 seconds\n"
     ]
    }
   ],
   "source": [
    "deg = 1\n",
    "N = 2\n",
    "#M = Tshapes(deg,N,1)\n",
    "knots= (bspline.make_knots(deg,0,1,N),bspline.make_knots(deg,0,1,N))\n",
    "M = topology.PatchMesh([(knots,geometry.quarter_annulus())])\n",
    "M.split_patch(0,axis=0);\n",
    "M.split_patch(1,axis=1);\n",
    "M.split_patch(0,axis=1);\n",
    "MP = assemble.Multipatch(M, automatch=True)\n",
    "dir_data = {0:0}\n",
    "MP.set_dirichlet_boundary(dir_data)\n",
    "IMP = IetiMapper(MP,dir_data)\n",
    "Basis = IMP.get_nodes()"
   ]
  },
  {
   "cell_type": "code",
   "execution_count": 83,
   "id": "6ba23f03-f6ad-4564-8325-5b62be0886bf",
   "metadata": {},
   "outputs": [
    {
     "data": {
      "text/plain": [
       "[array([ 2, 27], dtype=int32),\n",
       " array([6, 9], dtype=int32),\n",
       " array([17, 24], dtype=int32),\n",
       " array([ 8, 11, 18, 33], dtype=int32),\n",
       " array([20, 35], dtype=int32)]"
      ]
     },
     "execution_count": 83,
     "metadata": {},
     "output_type": "execute_result"
    }
   ],
   "source": [
    "Basis"
   ]
  },
  {
   "cell_type": "code",
   "execution_count": 60,
   "id": "ea8b1020-bb4b-4cb0-af02-3dfddfcfebe8",
   "metadata": {},
   "outputs": [
    {
     "data": {
      "image/png": "[encoded data removed]",
      "text/plain": [
       "<Figure size 640x480 with 1 Axes>"
      ]
     },
     "metadata": {},
     "output_type": "display_data"
    }
   ],
   "source": [
    "M.draw(knots=1, patch_idx=1)"
   ]
  },
  {
   "cell_type": "code",
   "execution_count": 61,
   "id": "aa19b22b-b8b5-440a-a9cd-3d79b2191700",
   "metadata": {},
   "outputs": [],
   "source": [
    "loc_c = np.concatenate([assemble.boundary_dofs(kvs,m=0,ravel=True) + MP.N_ofs[p] for p, kvs in enumerate(MP.mesh.kvs)])\n",
    "n = MP.Constr.shape[1]"
   ]
  },
  {
   "cell_type": "code",
   "execution_count": 62,
   "id": "9faa6065-3ad8-427c-a550-f4f5b9e645f1",
   "metadata": {},
   "outputs": [
    {
     "data": {
      "text/plain": [
       "array([ 0,  2,  6,  8,  9, 11, 15, 17, 18, 20, 24, 26, 27, 29, 33, 35])"
      ]
     },
     "execution_count": 62,
     "metadata": {},
     "output_type": "execute_result"
    }
   ],
   "source": [
    "loc_c"
   ]
  },
  {
   "cell_type": "code",
   "execution_count": 63,
   "id": "9fcd4032-bb23-4984-9f3a-d92ab5477116",
   "metadata": {},
   "outputs": [
    {
     "data": {
      "text/plain": [
       "array([ 2, 27,  6,  9, 17, 24,  8, 11, 18, 33, 20, 35], dtype=int32)"
      ]
     },
     "execution_count": 63,
     "metadata": {},
     "output_type": "execute_result"
    }
   ],
   "source": [
    "idx = (MP.Constr[:,loc_c].getnnz(axis=1)==2)\n",
    "c_B = MP.Constr[idx,:] \n",
    "c_Basis = algebra_cy.pyx_compute_basis(c_B.shape[0], c_B.shape[1], c_B, maxiter=5).tocsc()\n",
    "c_Basis[:,c_Basis.getnnz(axis=0)>1].indices"
   ]
  },
  {
   "cell_type": "code",
   "execution_count": 64,
   "id": "d07697b9-2cf8-437d-b367-c6cd473bce33",
   "metadata": {},
   "outputs": [],
   "source": [
    "dofs = c_Basis[:,c_Basis.getnnz(axis=0)>1].indices"
   ]
  },
  {
   "cell_type": "code",
   "execution_count": 65,
   "id": "2d7029e0-f6f7-46af-b67a-6ead36f29589",
   "metadata": {},
   "outputs": [],
   "source": [
    "sec = c_Basis[:,c_Basis.getnnz(axis=0)>1].indptr"
   ]
  },
  {
   "cell_type": "code",
   "execution_count": 66,
   "id": "aa24e47c-90cf-43cf-a95d-59353c7dd301",
   "metadata": {},
   "outputs": [
    {
     "data": {
      "text/plain": [
       "array([ 2, 27,  6,  9, 17, 24,  8, 11, 18, 33, 20, 35], dtype=int32)"
      ]
     },
     "execution_count": 66,
     "metadata": {},
     "output_type": "execute_result"
    }
   ],
   "source": [
    "dofs"
   ]
  },
  {
   "cell_type": "code",
   "execution_count": 67,
   "id": "e9f3b7a0-51b1-4ef6-9393-03b1c4e6bd33",
   "metadata": {},
   "outputs": [
    {
     "data": {
      "text/plain": [
       "array([ 0,  2,  4,  6, 10, 12], dtype=int32)"
      ]
     },
     "execution_count": 67,
     "metadata": {},
     "output_type": "execute_result"
    }
   ],
   "source": [
    "sec"
   ]
  },
  {
   "cell_type": "code",
   "execution_count": 68,
   "id": "c8068f75-5462-43e2-9fc5-ccc160ec790d",
   "metadata": {},
   "outputs": [
    {
     "data": {
      "text/plain": [
       "[array([ 2, 27], dtype=int32),\n",
       " array([6, 9], dtype=int32),\n",
       " array([17, 24], dtype=int32),\n",
       " array([ 8, 11, 18, 33], dtype=int32),\n",
       " array([20, 35], dtype=int32)]"
      ]
     },
     "execution_count": 68,
     "metadata": {},
     "output_type": "execute_result"
    }
   ],
   "source": [
    "np.split(dofs, sec[1:-1])"
   ]
  },
  {
   "cell_type": "code",
   "execution_count": 19,
   "id": "72173fd1-b3ab-43ed-af6b-a0e9b1c548d0",
   "metadata": {},
   "outputs": [],
   "source": [
    "# x = np.zeros(n)\n",
    "# x[loc_c] = 1\n",
    "# R = scipy.sparse.spdiags(x,0,n,n)\n",
    "# B_ = MP.Constr@R"
   ]
  },
  {
   "cell_type": "code",
   "execution_count": 20,
   "id": "e23b0131-a513-4812-8fc6-c5fe7c1220fc",
   "metadata": {},
   "outputs": [],
   "source": [
    "#fine_dofs = np.unique((B_==1).tocsr().indices)"
   ]
  },
  {
   "cell_type": "code",
   "execution_count": 21,
   "id": "21c6a110-917c-4b12-9d9f-9c16264781b5",
   "metadata": {},
   "outputs": [],
   "source": [
    "#np.unique(fine_dofs)"
   ]
  },
  {
   "cell_type": "code",
   "execution_count": 22,
   "id": "5cc6e5d6-dabe-4677-8041-6c6aba6ce331",
   "metadata": {},
   "outputs": [],
   "source": [
    "#idx2 = np.unique(MP.Constr[:,fine_dofs].tocsc().indices)"
   ]
  },
  {
   "cell_type": "code",
   "execution_count": 23,
   "id": "8c3354a6-53b8-4516-b9a5-68743c502471",
   "metadata": {},
   "outputs": [],
   "source": [
    "#B = MP.Constr[idx2,:]"
   ]
  },
  {
   "cell_type": "code",
   "execution_count": 24,
   "id": "233cc012-2984-459e-9914-0d1900375aba",
   "metadata": {},
   "outputs": [],
   "source": [
    "#B[B.getnnz(1)>2].toarray()"
   ]
  },
  {
   "cell_type": "code",
   "execution_count": null,
   "id": "777571c3-dd93-405e-ae4c-1a2f5830162a",
   "metadata": {},
   "outputs": [],
   "source": []
  },
  {
   "cell_type": "code",
   "execution_count": null,
   "id": "a054babb-95e6-4a96-899c-0d58a9e2d07a",
   "metadata": {},
   "outputs": [],
   "source": []
  },
  {
   "cell_type": "code",
   "execution_count": 25,
   "id": "b5e25211-3d6e-4d23-97be-683ef3fcc2ed",
   "metadata": {},
   "outputs": [],
   "source": [
    "Basis = algebra_cy.pyx_compute_basis(B.shape[0], B.shape[1], B, maxiter=5).tocsc()"
   ]
  },
  {
   "cell_type": "code",
   "execution_count": 26,
   "id": "f7d54d8d-92f0-4e87-af4f-dd1a41a8941a",
   "metadata": {},
   "outputs": [],
   "source": [
    "Basis = Basis[:,Basis.getnnz(axis=0)>1]"
   ]
  },
  {
   "cell_type": "code",
   "execution_count": 27,
   "id": "c43215fc-f5a6-4b96-9aef-98b2cd8c82da",
   "metadata": {},
   "outputs": [
    {
     "data": {
      "text/plain": [
       "(48, 5)"
      ]
     },
     "execution_count": 27,
     "metadata": {},
     "output_type": "execute_result"
    }
   ],
   "source": [
    "Basis.shape"
   ]
  },
  {
   "cell_type": "code",
   "execution_count": 28,
   "id": "11d72bf3-0d96-4834-8cfc-43df02638f3b",
   "metadata": {},
   "outputs": [
    {
     "data": {
      "text/plain": [
       "array([[0. , 0. , 0. , 0. , 0. ],\n",
       "       [0. , 0. , 0. , 0. , 0. ],\n",
       "       [0. , 0. , 0. , 0. , 0. ],\n",
       "       [0. , 0. , 0. , 0. , 0. ],\n",
       "       [0. , 0. , 0. , 0. , 0. ],\n",
       "       [0. , 0. , 0. , 0. , 0. ],\n",
       "       [0. , 0. , 0. , 0. , 0. ],\n",
       "       [0. , 0. , 0. , 0. , 0. ],\n",
       "       [0. , 0. , 0. , 0. , 0. ],\n",
       "       [0. , 0. , 0. , 0. , 0. ],\n",
       "       [0. , 0. , 0. , 0. , 0. ],\n",
       "       [0. , 0. , 0. , 0. , 0. ],\n",
       "       [1. , 0. , 0. , 0. , 0. ],\n",
       "       [0. , 1. , 0. , 0. , 0. ],\n",
       "       [0. , 0. , 1. , 0. , 0. ],\n",
       "       [0. , 0. , 0. , 1. , 0. ],\n",
       "       [1. , 0. , 0. , 0. , 0. ],\n",
       "       [0. , 0. , 0. , 0. , 0. ],\n",
       "       [0. , 0. , 0. , 0. , 0. ],\n",
       "       [0. , 0.5, 0.5, 0. , 0. ],\n",
       "       [0. , 0. , 0. , 0. , 0. ],\n",
       "       [0. , 0. , 0. , 0. , 0. ],\n",
       "       [0. , 0. , 0. , 0. , 0. ],\n",
       "       [0. , 0. , 0. , 0. , 0. ],\n",
       "       [0. , 0. , 0. , 0. , 0. ],\n",
       "       [0. , 0. , 0. , 0. , 0. ],\n",
       "       [0. , 0. , 0. , 0. , 0. ],\n",
       "       [0. , 0. , 0. , 0. , 0. ],\n",
       "       [0. , 0. , 0. , 0. , 0. ],\n",
       "       [0. , 0. , 0. , 0. , 0. ],\n",
       "       [0. , 0. , 0. , 0. , 0. ],\n",
       "       [0. , 0. , 0. , 0. , 1. ],\n",
       "       [0. , 0.5, 0.5, 0. , 0. ],\n",
       "       [0. , 0. , 0. , 0. , 0. ],\n",
       "       [0. , 0. , 0. , 0. , 0. ],\n",
       "       [0. , 0. , 0. , 1. , 0. ],\n",
       "       [0. , 0. , 0. , 0. , 0. ],\n",
       "       [0. , 0. , 0. , 0. , 0. ],\n",
       "       [0. , 0. , 0. , 0. , 0. ],\n",
       "       [0. , 0. , 0. , 0. , 0. ],\n",
       "       [0. , 0. , 0. , 0. , 0. ],\n",
       "       [0. , 0. , 0. , 0. , 0. ],\n",
       "       [0. , 0. , 0. , 0. , 0. ],\n",
       "       [0. , 0. , 0. , 0. , 0. ],\n",
       "       [0. , 0. , 0. , 0. , 1. ],\n",
       "       [0. , 0. , 0. , 0. , 0. ],\n",
       "       [0. , 0. , 0. , 0. , 0. ],\n",
       "       [0. , 0. , 0. , 0. , 0. ]])"
      ]
     },
     "execution_count": 28,
     "metadata": {},
     "output_type": "execute_result"
    }
   ],
   "source": [
    "Basis.toarray()"
   ]
  },
  {
   "cell_type": "code",
   "execution_count": 450,
   "id": "f39612c8-5125-4b63-b4a3-5f440c4baad1",
   "metadata": {},
   "outputs": [],
   "source": [
    "fine_dofs = Basis.indices[Basis.indptr[:-1]]"
   ]
  },
  {
   "cell_type": "code",
   "execution_count": 185,
   "id": "07118a80-b88f-4326-9631-824a71cb8567",
   "metadata": {},
   "outputs": [],
   "source": [
    "A = np.array([[1,2],[3,4],[5,6]])\n",
    "L = 1000*[aslinearoperator(A)]"
   ]
  },
  {
   "cell_type": "code",
   "execution_count": 186,
   "id": "391479bc-b276-4b43-ac63-af42838912ef",
   "metadata": {},
   "outputs": [
    {
     "name": "stdout",
     "output_type": "stream",
     "text": [
      "4.1 ms ± 109 μs per loop (mean ± std. dev. of 7 runs, 100 loops each)\n"
     ]
    }
   ],
   "source": [
    "%timeit np.array([op@x for op in L]).sum(axis=0)"
   ]
  },
  {
   "cell_type": "code",
   "execution_count": 187,
   "id": "1bdc5bf2-386a-4a12-8b06-1e5d74ce3adf",
   "metadata": {},
   "outputs": [],
   "source": [
    "X = SumOperator(L)"
   ]
  },
  {
   "cell_type": "code",
   "execution_count": 188,
   "id": "481b200b-76a8-410e-95fa-2a1c982f349a",
   "metadata": {},
   "outputs": [
    {
     "name": "stdout",
     "output_type": "stream",
     "text": [
      "3.97 ms ± 12.4 μs per loop (mean ± std. dev. of 7 runs, 100 loops each)\n"
     ]
    }
   ],
   "source": [
    "%timeit X@x"
   ]
  },
  {
   "cell_type": "code",
   "execution_count": 154,
   "id": "01ac3804-1299-4aab-b1ef-60e6b981a34c",
   "metadata": {},
   "outputs": [
    {
     "data": {
      "text/plain": [
       "dtype('int64')"
      ]
     },
     "execution_count": 154,
     "metadata": {},
     "output_type": "execute_result"
    }
   ],
   "source": [
    "L[0].dtype"
   ]
  },
  {
   "cell_type": "code",
   "execution_count": 140,
   "id": "5dba7705-4db2-4e7b-8734-79e0e147a64a",
   "metadata": {},
   "outputs": [
    {
     "data": {
      "text/plain": [
       "True"
      ]
     },
     "execution_count": 140,
     "metadata": {},
     "output_type": "execute_result"
    }
   ],
   "source": [
    "np.all((np.array([s.shape for s in L])-np.tile(L[0].shape,len(L)).reshape(-1,2))==0)"
   ]
  },
  {
   "cell_type": "code",
   "execution_count": 155,
   "id": "d52368f4-878f-4c52-9d9d-97cb947158ae",
   "metadata": {},
   "outputs": [],
   "source": [
    "class SumOperator(scipy.sparse.linalg.LinearOperator):\n",
    "    \"\"\"A :class:`LinearOperator` which implements the \n",
    "    application of an arbitrary sum of given input operators \n",
    "    without(!) using recursive structures.\n",
    "    \"\"\"\n",
    "    def __init__(self, ops):\n",
    "        self.N = len(ops)\n",
    "        assert np.all((np.array([op.shape for op in ops])-np.tile(ops[0].shape,self.N).reshape(-1,2))==0)\n",
    "        self.ops = ops\n",
    "        self.shape = ops[0].shape\n",
    "        scipy.sparse.linalg.LinearOperator.__init__(self, ops[0].dtype, self.shape)\n",
    "        \n",
    "    def _matvec(self, x):\n",
    "        return np.array([op@x for op in self.ops]).sum(axis=0)\n",
    "        "
   ]
  },
  {
   "cell_type": "code",
   "execution_count": 128,
   "id": "91ebd2ab-c03b-41b2-b649-93c5663cd0ec",
   "metadata": {},
   "outputs": [
    {
     "data": {
      "text/plain": [
       "True"
      ]
     },
     "execution_count": 128,
     "metadata": {},
     "output_type": "execute_result"
    }
   ],
   "source": [
    "np.all(np.array([1,1,1])==1)"
   ]
  },
  {
   "cell_type": "code",
   "execution_count": 136,
   "id": "16d11325-e7e6-4516-a34b-96d8fe20d447",
   "metadata": {},
   "outputs": [
    {
     "data": {
      "text/plain": [
       "array([[3, 2],\n",
       "       [3, 2],\n",
       "       [3, 2]])"
      ]
     },
     "execution_count": 136,
     "metadata": {},
     "output_type": "execute_result"
    }
   ],
   "source": [
    "np.tile(L[0].shape,len(L)).reshape(-1,2)"
   ]
  },
  {
   "cell_type": "code",
   "execution_count": null,
   "id": "ebeee517-239b-41c8-a7e9-0c8f77a73fc8",
   "metadata": {},
   "outputs": [],
   "source": []
  }
 ],
 "metadata": {
  "kernelspec": {
   "display_name": "Python 3 (ipykernel)",
   "language": "python",
   "name": "python3"
  },
  "language_info": {
   "codemirror_mode": {
    "name": "ipython",
    "version": 3
   },
   "file_extension": ".py",
   "mimetype": "text/x-python",
   "name": "python",
   "nbconvert_exporter": "python",
   "pygments_lexer": "ipython3",
   "version": "3.11.10"
  }
 },
 "nbformat": 4,
 "nbformat_minor": 5
}
