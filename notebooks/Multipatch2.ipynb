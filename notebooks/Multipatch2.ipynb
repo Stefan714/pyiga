{
 "cells": [
  {
   "cell_type": "code",
   "execution_count": 1,
   "id": "a79efc12-f80d-4be3-b107-4a7ec2e821af",
   "metadata": {},
   "outputs": [
    {
     "name": "stdout",
     "output_type": "stream",
     "text": [
      "Populating the interactive namespace from numpy and matplotlib\n"
     ]
    }
   ],
   "source": [
    "%pylab inline\n",
    "import scipy\n",
    "import sys\n",
    "from scipy.sparse import coo_matrix, block_diag, identity, hstack\n",
    "import matplotlib as mpl\n",
    "import matplotlib.pyplot as plt\n",
    "from pyiga import bspline, vform, geometry, vis, solvers, utils\n",
    "from pyiga import assemble as Ass\n",
    "from patchmesh import *\n",
    "from patchmesh3D_2 import *\n",
    "import itertools as it\n",
    "#from multipatch import *\n",
    "\n",
    "numpy.set_printoptions(linewidth=100000)\n",
    "numpy.set_printoptions(precision=5)"
   ]
  },
  {
   "cell_type": "code",
   "execution_count": 2,
   "id": "cca4f286-0e9b-4014-8710-aec94a720fa3",
   "metadata": {},
   "outputs": [],
   "source": [
    "def basis_for_nullspace_of_dense_SVD(constr):\n",
    "    '''Derives a matrix representing a basis for the nullspace of a dense matrix using SVD'''\n",
    "    result = scipy.linalg.null_space(constr)\n",
    "    # Scaling: Largest entry should be 1\n",
    "    for i in range(result.shape[1]):\n",
    "        mx = result[:,i].max()\n",
    "        mn = result[:,i].min()\n",
    "        if mx > -mx:\n",
    "            result[:,i] /= mx\n",
    "        else:\n",
    "            result[:,i] /= mn\n",
    "    return result.transpose()\n",
    "\n",
    "def basis_for_nullspace_of_dense_LU(constr, tol=1e-7):\n",
    "    '''Derives a matrix representing a basis for the nullspace of a dense matrix using LU'''\n",
    "    P,L,U = scipy.linalg.lu(constr)\n",
    "    r,c = U.shape\n",
    "    #print(r,c)\n",
    "    # Remove (almost) empty rows\n",
    "    for i in range(r-1,-1,-1):\n",
    "        if (abs(U[i,:])<tol).all():\n",
    "            U = np.delete(U,i,0)\n",
    "    r,c = U.shape\n",
    "    #print(U)\n",
    "    # Swap cols if necessary\n",
    "    perm = np.arange(c)\n",
    "    for i in range(r):\n",
    "        if abs(U[i,i])<tol:\n",
    "            mx = np.abs(U[i,i+1:]).max()\n",
    "            j = i\n",
    "            while abs(U[i,j]) < mx:\n",
    "                 j += 1\n",
    "#             j=i\n",
    "#             while abs(U[i,j])<tol:\n",
    "#                 j+=1\n",
    "            perm[i], perm[j] = perm[j], perm[i]\n",
    "            print(i,j)\n",
    "            U[:,[i,j]] = U[:,[j,i]]\n",
    "    print(U)\n",
    "    print(perm)\n",
    "    # Split matrix U and resolve linear system\n",
    "    U1 = U[:,:r]\n",
    "    print(U1)\n",
    "    U2 = U[:,r:]\n",
    "    sol = scipy.linalg.lu_solve((U1,np.arange(r)),U2)\n",
    "    # Setup result\n",
    "    result = np.zeros((c,c-r))\n",
    "    result[:r,:] = -sol\n",
    "    result[r:,:] = np.eye(c-r)    \n",
    "    # Apply perm\n",
    "    result2=result.copy()\n",
    "    result[list(perm)] = result2\n",
    "    # Scaling: Largest entry should be 1\n",
    "#     for i in range(result.shape[1]):\n",
    "#         mx = result[:,i].max()\n",
    "#         mn = result[:,i].min()\n",
    "#         if mx > -mx:\n",
    "#             result[:,i] /= mx\n",
    "#         else:\n",
    "#             result[:,i] /= mn\n",
    "\n",
    "    return result.T\n",
    "\n",
    "def get_connected_components(constr):\n",
    "    '''Derives all connected components of the graph, where cols of matrix are nodes'''\n",
    "    assert isinstance(constr, scipy.sparse.csr_matrix)\n",
    "    (r, c) = constr.shape\n",
    "    \n",
    "    if not constr.has_sorted_indices:\n",
    "        constr.sort_indices()\n",
    "    \n",
    "    comps = np.arange(c)\n",
    "    for i in range(r):\n",
    "        smallest_index = c\n",
    "        for j in range(constr.indptr[i], constr.indptr[i+1]):\n",
    "            smallest_index = min(smallest_index, comps[constr.indices[j]])\n",
    "        for j in range(constr.indptr[i], constr.indptr[i+1]):\n",
    "            comps[constr.indices[j]] = smallest_index        \n",
    "    \n",
    "    for i in range(c):\n",
    "        if comps[comps[i]] < comps[i]:\n",
    "            comps[i] = comps[comps[i]]\n",
    "        \n",
    "    constr_list = {}\n",
    "    for i in range(r):\n",
    "        comp = comps[constr.indices[constr.indptr[i]]]\n",
    "        if comp not in constr_list:\n",
    "            constr_list[comp] = []         \n",
    "        constr_list[comp].append(i)\n",
    "        \n",
    "    comp_list = {}\n",
    "    coupled = np.zeros(c,'b')\n",
    "    for i in range(c):\n",
    "        comp = comps[i]\n",
    "        if comp != i or comp in constr_list.keys():\n",
    "            if not comp in comp_list:\n",
    "                comp_list[comp] = [comp]\n",
    "            if comp != i:\n",
    "                comp_list[comp].append(i)\n",
    "            coupled[i] = True\n",
    "    \n",
    "    #print(\"coupled     =\",coupled)\n",
    "    #print(\"comp_list   =\",comp_list)\n",
    "    #print(\"constr_list =\",constr_list)\n",
    "    \n",
    "    return coupled, comp_list, constr_list\n",
    "\n",
    "def basis_for_nullspace(constr, basis_for_nullspace_of_dense=basis_for_nullspace_of_dense_SVD):\n",
    "    '''Derives a matrix representing a basis for the nullspace of a sparse matrix by first decomposing it into its connected components'''\n",
    "    assert isinstance(constr, scipy.sparse.csr_matrix)\n",
    "    (r, c) = constr.shape\n",
    "    \n",
    "    coupled, comp_list, constr_list = get_connected_components(constr)\n",
    "\n",
    "    mat = scipy.sparse.lil_matrix((c,c))\n",
    "    \n",
    "    # First, take the free dofs as they are\n",
    "    row = 0\n",
    "    for i in range(c):\n",
    "        if not coupled[i]:\n",
    "            mat[row,i] = 1\n",
    "            row += 1\n",
    "\n",
    "    # TODO: Secondly, take the dofs with one-to-one mapping\n",
    "    \n",
    "    # Finally, take the other dofs\n",
    "    for i in comp_list.keys():\n",
    "        comp_item = comp_list[i]\n",
    "        constr_item = constr_list[i]\n",
    "        local_matrix = (constr[constr_item,:][:,comp_item]).todense()\n",
    "        local_basis  = basis_for_nullspace_of_dense(local_matrix)\n",
    "        #print( \"local_matrix:\\n\", local_matrix )\n",
    "        #print( \"local_basis :\\n\", local_basis  )\n",
    "        lb_rows, lb_cols = local_basis.shape\n",
    "        for i0 in range(lb_rows):\n",
    "            for j0 in range(lb_cols):\n",
    "                mat[row,comp_item[j0]] = local_basis[i0,j0]\n",
    "            row += 1\n",
    "\n",
    "    mat.resize(row,c)\n",
    "    return mat.tocsr()"
   ]
  },
  {
   "cell_type": "code",
   "execution_count": 241,
   "id": "c3986e24-4539-418c-93b3-42e7f62283b8",
   "metadata": {},
   "outputs": [],
   "source": [
    "def PoissonEstimator(MP,f,uh):\n",
    "    n = MP.mesh.numpatches\n",
    "    indicator = np.zeros(n)\n",
    "    params = {'f': f}\n",
    "    \n",
    "    uh_per_patch = dict()\n",
    "    \n",
    "    #residual contribution\n",
    "    for p, ((kvs, geo), _) in enumerate(MP.mesh.patches):\n",
    "        \n",
    "        h = np.linalg.norm([b-a for a,b in geo.bounding_box()])\n",
    "        \n",
    "        N = tuple(kv.numdofs for kv in kvs)\n",
    "        uh_per_patch[p] = (MP.global_to_patch(p) @ uh).reshape(N)   #cache Spline Function on patch p\n",
    "        \n",
    "        params['geo'] = geo\n",
    "        params['uh_func'] = geometry.BSplineFunc(kvs, uh_per_patch[p])\n",
    "        \n",
    "        kvs0 = tuple([bspline.KnotVector(kv.mesh, 0) for kv in kvs])\n",
    "        indicator[p] = h**2 * np.sum(Ass.assemble('(f + div(grad(uh_func)))**2 * v * dx', kvs0, params))\n",
    "        \n",
    "    params = dict()\n",
    "    \n",
    "    #flux contribution\n",
    "    for i,((p1,b1,_), (p2,b2,_), _, flip) in enumerate(MP.intfs):\n",
    "        #print(p1, p2, flip)\n",
    "        \n",
    "        ((kvs1, geo1), _), ((kvs2, geo2), _) = MP.mesh.patches[p1], MP.mesh.patches[p2]\n",
    "        bdspec1, bdspec2 = Ass.int_to_bdspec(b1), Ass.int_to_bdspec(b2)\n",
    "        \n",
    "        bkv1, bkv2 = Ass.boundary_kv(kvs1, bdspec1), Ass.boundary_kv(kvs2, bdspec2)\n",
    "\n",
    "        geo = geo2.boundary(bdspec2)\n",
    "        params['geo'] = geo\n",
    "        \n",
    "        kv0 = tuple([bspline.KnotVector(kv.mesh, 0) for kv in bkv2])\n",
    "        h = np.sum(Ass.assemble('v * ds', kv0, params))\n",
    "        \n",
    "        params['uh_grad1'] = geometry.BSplineFunc(kvs1, uh_per_patch[p1]).transformed_jacobian(geo1).boundary(bdspec1, flip=flip) #physical gradient of uh on patch 1 (flipped if needed)\n",
    "        params['uh_grad2'] = geometry.BSplineFunc(kvs2, uh_per_patch[p2]).transformed_jacobian(geo2).boundary(bdspec2)            #physical gradient of uh on patch 2\n",
    "        #params['uh1'] = geometry.BSplineFunc(kvs1, uh_per_patch[p1]).boundary(bdspec1,flip=flip)\n",
    "        #params['uh2'] = geometry.BSplineFunc(kvs2, uh_per_patch[p2]).boundary(bdspec2)\n",
    "        normalflux_jump = np.sum(Ass.assemble('(inner(uh_grad1 - uh_grad2, n) )**2 * v * ds', kv0 ,params))\n",
    "        #print(normalflux_jump)\n",
    "\n",
    "        indicator[p1] += 0.5 * h * normalflux_jump\n",
    "        indicator[p2] += 0.5 * h * normalflux_jump\n",
    "    \n",
    "    return np.sqrt(indicator)\n",
    "\n",
    "def check_coupling(MP, u_):\n",
    "    u_pp = dict()\n",
    "\n",
    "    for i,((p1,b1,_), (p2,b2,_), flip) in enumerate(MP.intfs):\n",
    "        \n",
    "        ((kvs1,_),_), ((kvs2,_),_) = MP.mesh.patches[p1], MP.mesh.patches[p2]\n",
    "        bdspec1, bdspec2 = int_to_bdspec(b1), int_to_bdspec(b2)\n",
    "        (kv1), (kv2) = boundary_kv(kvs1, bdspec1), boundary_kv(kvs2, bdspec2, flip=flip)\n",
    "        dofs1, dofs2 = Ass.boundary_dofs(kvs1, bdspec1, ravel=True), Ass.boundary_dofs(kvs2, bdspec2, ravel=True, flip=flip)\n",
    "        \n",
    "        if p1 not in u_pp:\n",
    "            u_pp[p1]=MP.global_to_patch(p1) @ u_\n",
    "        if p2 not in u_pp:\n",
    "            u_pp[p2]=MP.global_to_patch(p2) @ u_\n",
    "          \n",
    "        P = bspline.prolongation(kv1, kv2)\n",
    "        u1, u2 = u_pp[p1][dofs1], u_pp[p2][dofs2]\n",
    "        r=norm(u2 - P @ u1)\n",
    "        \n",
    "        if r>1e-8:\n",
    "            return False\n",
    "    return True\n",
    "\n",
    "class Multipatch:\n",
    "    \"\"\"Represents a multipatch structure, consisting of a number of patches\n",
    "    together with their discretizations and the information about shared dofs\n",
    "    between patches. Nonconforming patches (both geometrically and knotwise non conforming) are allowed as long as there exists \n",
    "    a hierarchy between the interface knots\n",
    "\n",
    "    Args:\n",
    "        pm: A :class:`PatchMesh` instance representing the patches \n",
    "            via their discretization and their geometry function \n",
    "            as well as the generated mesh between the patches (vertices, interfaces).\n",
    "            \n",
    "        b_data: A dictionary of the form {'D':dir_data, 'N':neu_data, 'R': robin_data}\n",
    "            dir_data: A list of triples (patch, bdspec, dir_func) prescribing the function `dir_func` to boundary dofs of `patch` on side `bdspec`.\n",
    "            neu_data: A list of triples (patch, bdspec, neu_func) in order to assemble natural boundary conditions for boundary dofs of `patch` on side `bdspec`.\n",
    "            robin_data: A list of triples (patch, bd_spec, (gamma, robin_func))\n",
    "        \n",
    "        automatch (bool): if True, attempt to automatically apply the interface information from the PatchMesh object to couple the patches.\n",
    "            If False, the user has to manually join the patches by calling\n",
    "            :meth:`join_boundaries` as often as needed, followed by\n",
    "            :meth:`finalize`.\n",
    "    \"\"\"\n",
    "    def __init__(self, pm, automatch=False, dim=2):\n",
    "        \"\"\"Initialize a multipatch structure.\"\"\"\n",
    "        # underlying PatchMesh object describing the geometry\n",
    "        self.mesh = pm\n",
    "        # enforced regularity across patch interfaces\n",
    "        #self.k = k\n",
    "        self.dim = dim \n",
    "            \n",
    "        # number of tensor product dofs per patch\n",
    "        self.n = [tuple([kv.numdofs for kv in kvs]) for ((kvs,_),_) in self.mesh.patches]\n",
    "        self.N = [np.prod(n) for n in self.n]\n",
    "        # offset to the dofs of the i-th patch\n",
    "        self.N_ofs = np.concatenate(([0], np.cumsum(self.N)))\n",
    "        # per patch, a dict of shared indices\n",
    "        self.shared_pp = dict(zip([p for p in range(self.mesh.numpatches)],self.mesh.numpatches*[set(),]))\n",
    "        # a list of interfaces (patch1, boundary dofs1, patch2, boundary dofs2)\n",
    "        self.intfs = set()\n",
    "        self.Constr=scipy.sparse.csr_matrix((0,self.N_ofs[-1]))\n",
    "        P = []\n",
    "\n",
    "        if automatch:\n",
    "            interfaces = self.mesh.interfaces.copy()\n",
    "            \n",
    "            for ((p1,bd1,s1),((p2,bd2,s2),flip)) in interfaces.items():\n",
    "                if ((p2,bd2,s2),(p1,bd1,s1),flip) not in self.intfs:\n",
    "                    self.intfs.add(((p1,bd1,s1),(p2,bd2,s2),flip))\n",
    "                \n",
    "            #print(self.intfs)\n",
    "            for ((p1,bd1,s1),(p2,bd2,s2), flip) in self.intfs:\n",
    "                bdspec1 = (Ass.int_to_bdspec(bd1),)\n",
    "                bdspec2 = (Ass.int_to_bdspec(bd2),)\n",
    "                self.join_boundaries(p1, bdspec1, s1 , p2, bdspec2, s2, flip)\n",
    "            self.finalize()\n",
    "\n",
    "    @property\n",
    "    def numpatches(self):\n",
    "        \"\"\"Number of patches in the multipatch structure.\"\"\"\n",
    "        return len(self.mesh.patches)\n",
    "\n",
    "    @property\n",
    "    def numdofs(self):\n",
    "        \"\"\"Number of dofs after eliminating shared dofs.\n",
    "\n",
    "        May only be called after :func:`finalize`.\n",
    "        \"\"\"\n",
    "        return self.Basis.shape[0]\n",
    "    \n",
    "    def reset(self, automatch = False):\n",
    "        self.__init__(pm=self.mesh, b_data=self.b_data, dim=self.dim, automatch=automatch)\n",
    "\n",
    "    def join_boundaries(self, p1, bdspec1, s1, p2, bdspec2, s2, flip=None):\n",
    "        \"\"\"Join the dofs lying along boundary `bdspec1` of patch `p1` with\n",
    "        those lying along boundary `bdspec2` of patch `p2`. \n",
    "\n",
    "        See :func:`compute_dirichlet_bc` for the format of the boundary\n",
    "        specification.\n",
    "\n",
    "        If `flip` is given, it should be a sequence of booleans indicating for\n",
    "        each coordinate axis of the boundary if the coordinates of `p2` have to\n",
    "        be flipped along that axis.\n",
    "        \"\"\"\n",
    "        \n",
    "        kvs1, kvs2 = self.mesh.patches[p1][0][0], self.mesh.patches[p2][0][0]\n",
    "        if flip is None:\n",
    "            flip=(self.dim-1)*(False,)\n",
    "        \n",
    "        bkv1 = Ass.boundary_kv(kvs1, bdspec1)\n",
    "        bkv2 = Ass.boundary_kv(kvs2, bdspec2, flip=flip) \n",
    "        \n",
    "        #retrieve local dofs for each patch on the boundary\n",
    "        dofs1 = Ass.boundary_dofs(self.mesh.patches[p1][0][0], bdspec1, ravel=True)\n",
    "        dofs2 = Ass.boundary_dofs(self.mesh.patches[p2][0][0], bdspec2, ravel=True, flip=flip)\n",
    "                \n",
    "        #check for hierarchy of the boundary knot vectors. currently only supports knot vectors with equal degree.\n",
    "        if all([bspline.is_sub_space(kv1,kv2) for kv1, kv2 in zip(bkv1,bkv2)]):\n",
    "            pass\n",
    "        elif all([bspline.is_sub_space(kv2,kv1) for kv1, kv2 in zip(bkv1,bkv2)]):          \n",
    "            p1, p2 = p2, p1\n",
    "            bdspec1, bdspec2 = bdspec2, bdspec1\n",
    "            bkv1, bkv2 = bkv2, bkv1\n",
    "            dofs1, dofs2 = dofs2, dofs1\n",
    "        else:\n",
    "            print('interface coupling not possible')\n",
    "            \n",
    "        self.shared_pp[p1]=self.shared_pp[p1] | set(dofs1)\n",
    "        self.shared_pp[p2]=self.shared_pp[p2] | set(dofs2)\n",
    "            \n",
    "        #Prolongation operator  \n",
    "        P = -scipy.sparse.coo_matrix(bspline.prolongation_tp(bkv1,bkv2))   #TODO: make paramater to generate prolongation matrix as coo_matrix directly?\n",
    "        #construct constraints for this interface\n",
    "        data = np.concatenate([P.data, np.ones(len(dofs2))])\n",
    "        I = np.concatenate([P.row, np.arange(len(dofs2))])\n",
    "        J = np.concatenate([dofs1[P.col] + self.N_ofs[p1],dofs2 + self.N_ofs[p2]])\n",
    "        \n",
    "        self.Constr = scipy.sparse.vstack([self.Constr,scipy.sparse.coo_matrix((data,(I,J)),(len(dofs2), self.N_ofs[-1])).tocsr()])\n",
    "        \n",
    "           \n",
    "    def finalize(self):\n",
    "        \"\"\"After all shared dofs have been declared using\n",
    "        :meth:`join_boundaries` or :meth:`join_dofs`, call this function to set\n",
    "        up the internal data structures.\n",
    "        \"\"\"\n",
    "        num_shared = [len(self.shared_pp[p]) for p in range(self.numpatches)]\n",
    "        # number of local dofs per patch\n",
    "        self.M = [n - s for (n, s) in zip(self.N, num_shared)]\n",
    "        # local-to-global offset per patch\n",
    "        self.M_ofs = np.concatenate(([0], np.cumsum(self.M)))\n",
    "        self.Basis = basis_for_nullspace(self.Constr)#, basis_for_nullspace_of_dense_LU)\n",
    "        #self.sanity_check()   \n",
    "\n",
    "    def assemble_system(self, problem, rhs, args=None, bfuns=None,\n",
    "            symmetric=False, format='csr', layout='blocked', **kwargs):\n",
    "        \"\"\"Assemble both the system matrix and the right-hand side vector\n",
    "        for a variational problem over the multipatch geometry.\n",
    "\n",
    "        Here `problem` represents a bilinear form and `rhs` a linear functional.\n",
    "        See :func:`assemble` for the precise meaning of the arguments.\n",
    "\n",
    "        Returns:\n",
    "            A pair `(A, b)` consisting of the sparse system matrix and the\n",
    "            right-hand side vector.\n",
    "        \"\"\"\n",
    "        n = self.numdofs\n",
    "        X=MP.Basis\n",
    "        \n",
    "        A = []\n",
    "        b = []\n",
    "        if args is None:\n",
    "            args = dict()\n",
    "        for p in range(self.numpatches):\n",
    "            kvs, geo = self.mesh.patches[p][0]\n",
    "            args.update(geo=geo)\n",
    "            # TODO: vector-valued problems\n",
    "            A.append(Ass.assemble(problem, kvs, args=args, bfuns=bfuns,\n",
    "                    symmetric=symmetric, format=format, layout=layout,\n",
    "                    **kwargs))\n",
    "    \n",
    "            b.append(Ass.assemble(rhs, kvs, args=args, bfuns=bfuns,\n",
    "                    symmetric=symmetric, format=format, layout=layout,\n",
    "                    **kwargs).ravel())\n",
    "        A = X@scipy.sparse.block_diag(A)@X.T\n",
    "        b = X@np.concatenate(b)\n",
    "            \n",
    "        return A, b\n",
    "    \n",
    "    def assemble_surface(self, problem, arity=1, boundary_idx=0, args=None, bfuns=None,\n",
    "            symmetric=False, format='csr', layout='blocked', **kwargs):\n",
    "        X = MP.Basis\n",
    "        if args is None:\n",
    "            args = dict()\n",
    "        if arity==2:\n",
    "            I, J, data = [], [], []\n",
    "            for (p,b) in self.mesh.outer_boundaries[boundary_idx]:\n",
    "                kvs, geo = self.mesh.patches[p][0]\n",
    "                bdspec=[(b//2,b%2)]\n",
    "                bdofs = Ass.boundary_dofs(kvs, bdspec, ravel=True) + self.N_ofs[p]\n",
    "                args.update(geo = geo)\n",
    "                \n",
    "                R = Ass.assemble(problem, kvs, args=args, bfuns=bfuns,\n",
    "                        symmetric=symmetric, format='coo', layout=layout,\n",
    "                        **kwargs, boundary=bdspec)\n",
    "                \n",
    "                I_p ,J_p = R.row, R.col\n",
    "                I.append(bdofs[I_p]), J.append(bdofs[J_p]), data.append(R.data)\n",
    "                \n",
    "            I, J, data = np.concatenate(I), np.concatenate(J), np.concatenate(data)\n",
    "            R = scipy.sparse.coo_matrix((data, (I, J)), 2*(self.N_ofs[-1],))\n",
    "            return X @ scipy.sparse.csr_matrix(R) @ X.T\n",
    "        else:\n",
    "            N=np.zeros(self.N_ofs[-1])\n",
    "            for (p,b) in self.mesh.outer_boundaries[boundary_idx]:\n",
    "                kvs, geo = self.mesh.patches[p][0]\n",
    "                bdspec=[(b//2,b%2)]\n",
    "                bdofs = Ass.boundary_dofs(kvs, bdspec, ravel=True) + self.N_ofs[p]\n",
    "                args.update(geo = geo)\n",
    "    \n",
    "                vals=Ass.assemble(problem, kvs, args=args, bfuns=bfuns,\n",
    "                        symmetric=symmetric, format=format, layout=layout,\n",
    "                        **kwargs, boundary=bdspec).ravel()\n",
    "                N[bdofs] += vals \n",
    "            \n",
    "            return X @ N\n",
    "            \n",
    "    \n",
    "#     def assemble_boundary(self, problem, boundary_idx = None, args=None, bfuns=None,\n",
    "#             symmetric=False, format='csr', layout='blocked', **kwargs):\n",
    "        \n",
    "    \n",
    "#     def C1_coupling(self, p1, bdspec1, p2, bdspec2, flip=None):\n",
    "        \n",
    "#         (ax1, sd1), (ax2, sd2) = bdspec1, bdspec2\n",
    "#         ((kvs1, geo1),_), ((kvs2, geo2),_) = self.mesh.patches[p1], self.mesh.patches[p2]\n",
    "#         sup1, sup2 = geo1.support, geo2.support\n",
    "#         dim=len(kvs1)\n",
    "#         if flip is None:\n",
    "#             flip=(dim-1)*(False,)\n",
    " \n",
    "#         bkv1, bkv2 = Ass.boundary_kv(kvs1, bdspec1), Ass.boundary_kv(kvs2, bdspec2)\n",
    "#         dofs1, dofs2 = Ass.boundary_dofs(kvs1, bdspec1, ravel = True, k=1), Ass.boundary_dofs(kvs2, bdspec2, ravel = True, flip=flip, k=1)\n",
    "#         G = tuple(kv.greville() for kv in kvs2)\n",
    "#         G2 = G[:ax2] + (np.array([sup2[ax2][0] if sd2==0 else sup2[ax2][-1]]),) + G[ax2+1:]\n",
    "#         G1 = G[:ax2] + G[ax2+1:]\n",
    "#         G1 = G1[:ax1] + (np.array([sup1[ax1][0] if sd1==0 else sup1[ax1][-1]]),) + G1[ax1:] #still need to add flip\n",
    "\n",
    "#         M=tuple(len(g) for g in G2)\n",
    "#         m=np.prod(M)\n",
    "#         n1,n2=len(dofs1), len(dofs2)\n",
    "        \n",
    "#         C1, D1 = bspline.collocation_derivs_tp(kvs1, G1, derivs=1)\n",
    "#         C2, D2 = bspline.collocation_derivs_tp(kvs2, G2, derivs=1)\n",
    "    \n",
    "#         C1, C2 = C1[0].tocsr()[:,dofs1], C2[0].tocsr()[:,dofs2]\n",
    "#         for i in range(dim):\n",
    "#             D1[i], D2[i] = D1[i].tocsr()[:,dofs1], D2[i].tocsr()[:,dofs2]\n",
    "#         N2=geo2.boundary(bdspec2).grid_outer_normal(G2[:ax2]+G2[ax2+1:]).reshape(m,dim)\n",
    "\n",
    "#         J1=geo1.grid_jacobian(G1).reshape(m,dim,dim)\n",
    "#         J2=geo2.grid_jacobian(G2).reshape(m,dim,dim)\n",
    "        \n",
    "#         invJ1=np.array([inv(jac) for jac in J1[:]])\n",
    "#         invJ2=np.array([inv(jac) for jac in J2[:]])\n",
    "\n",
    "#         NC1=scipy.sparse.csr_matrix((m, n1))\n",
    "#         for i in range(dim):\n",
    "#             NC1_ = scipy.sparse.csr_matrix((m, n1))\n",
    "#             for j in range(dim):\n",
    "#                 NC1_ += scipy.sparse.spdiags(invJ1[:,i,j], 0, m, m)*D1[dim-1-j]\n",
    "#             NC1 += scipy.sparse.spdiags(N2[:,i], 0, m, m)*NC1_\n",
    "            \n",
    "#         NC2=scipy.sparse.csr_matrix((m, n2))\n",
    "#         for i in range(dim):\n",
    "#             NC2_ = scipy.sparse.csr_matrix((m, n2))\n",
    "#             for j in range(dim):\n",
    "#                 NC2_ += scipy.sparse.spdiags(invJ2[:,i,j], 0, m, m)*D2[dim-1-j]\n",
    "#             NC2 += scipy.sparse.spdiags(N2[:,i], 0, m, m)*NC2_\n",
    "            \n",
    "#         A = scipy.sparse.vstack([C1, NC1])\n",
    "#         B = scipy.sparse.vstack([C2, NC2])\n",
    "#         P = scipy.sparse.linalg.spsolve(B,A.A)\n",
    "#         # prune matrix\n",
    "#         P[np.abs(P) < 1e-15] = 0.0\n",
    "#         return scipy.sparse.csr_matrix(P) \n",
    "        \n",
    "    def L2Projection(self, u):\n",
    "        M, rhs, _, _, _ = self.assemble_system(vform.mass_vf(2), vform.L2functional_vf(2, physical=True), f=u)\n",
    "        u_ = solvers.make_solver(M, spd=True).dot(rhs)\n",
    "        return u_\n",
    "    \n",
    "    def refine(self, patches=None, mult=1, return_prol=False):\n",
    "        if isinstance(patches, dict):\n",
    "            assert max(patches.keys())<self.numpatches and min(patches.keys())>=0, \"patch index out of bounds.\"\n",
    "            patches = patches.keys()\n",
    "        elif isinstance(patches, (list, set, np.ndarray)):\n",
    "            assert max(patches)<self.numpatches and min(patches)>=0, \"patch index out of bounds.\"\n",
    "        elif patches==None:\n",
    "            patches = np.arange(self.numpatches)\n",
    "        elif np.isscalar(patches):\n",
    "            patches=(patches,)\n",
    "        else:\n",
    "            assert 0, \"unknown input type\"\n",
    "        if return_prol:\n",
    "            n=self.numdofs\n",
    "            old_kvs=[kvs for (kvs,_),_ in self.mesh.patches]\n",
    "            old_global_to_patch = [self.global_to_patch(p) for p in range(self.numpatches)]\n",
    "            \n",
    "        self.mesh.refine(patches, mult=mult)\n",
    "        self.reset(automatch=True)\n",
    "        #MP = Multipatch(self.mesh, automatch=True, k=self.k)\n",
    "        \n",
    "        if return_prol:\n",
    "            m = self.numdofs\n",
    "            P = scipy.sparse.csr_matrix((m, n))\n",
    "            \n",
    "            for p in range(self.numpatches):\n",
    "                if p in patches:\n",
    "                    kvs=old_kvs[p]\n",
    "                    new_kvs=MP.mesh.patches[p][0][0]\n",
    "                    C = bspline.prolongation_tp(kvs, new_kvs)\n",
    "                else:\n",
    "                    C = scipy.sparse.identity(self.N[p])\n",
    "\n",
    "                P += MP.patch_to_global(p) @ C @ old_global_to_patch[p]\n",
    "            factors = [1/sum([sum(dof[p][1]) for p in dof]) for dof in MP.shared_dofs]\n",
    "            P[MP.M_ofs[-1]:] = scipy.sparse.spdiags(factors, 0, len(factors), len(factors)) @ P[MP.M_ofs[-1]:]\n",
    "            return P\n",
    "        \n",
    "    def patch_refine(self, patches=None, mult=1, return_prol = False):\n",
    "        \"\"\"Refines the Mesh by splitting patches\n",
    "        \n",
    "        The dictionary `patches` specifies which patches (dict keys) are to be split \n",
    "        and how to split them (dict values: 0 to dim-1 or None)\n",
    "        \n",
    "        The `return_prol` keyword enables also the generation of a prolongation matrix from one mesh to the split mesh.\n",
    "        \n",
    "        Returns:\n",
    "            A new :class:`Multipatch` object `MP`\n",
    "            A sparse matrix `P` suitable for prolongation.\n",
    "        \"\"\"\n",
    "        if isinstance(patches, dict):\n",
    "            assert max(patches.keys())<self.numpatches and min(patches.keys())>=0, \"patch index out of bounds.\"\n",
    "        elif isinstance(patches,int):\n",
    "            #assert patches >=0 and patches < self.dim, \"dimension error.\"\n",
    "            patches = {p:patches for p in range(self.numpatches)}\n",
    "        elif isinstance(patches, (list, set, np.ndarray)):\n",
    "            assert max(patches)<self.numpatches and min(patches)>=0, \"patch index out of bounds.\"\n",
    "            patches = {p:None for p in patches}\n",
    "        elif patches==None:\n",
    "            patches = {p:None for p in range(self.numpatches)}\n",
    "        else:\n",
    "            assert 0, \"unknown input type\"\n",
    "        \n",
    "        #n=self.numdofs\n",
    "        N=self.numpatches\n",
    "\n",
    "        #M = copy.deepcopy(self.mesh)\n",
    "        #old_kvs = [kvs for (kvs,_),_ in self.mesh.patches]\n",
    "       # old_global_to_patch = [self.global_to_patch(p) for p in range(self.numpatches)]\n",
    "        \n",
    "        new_patches = dict()\n",
    "        new_kvs_ = dict()\n",
    "        for p in patches.keys():\n",
    "            self.split_boundary_data(p, self.numpatches, axis=patches[p])\n",
    "            new_patches[p], new_kvs_[p] = self.mesh.split_patch(p, axis=patches[p], mult=mult)\n",
    "        \n",
    "        #MP = Multipatch(self.mesh, automatch=True, k=self.k)\n",
    "        self.reset(automatch=True)\n",
    "        #m = self.numdofs\n",
    "        \n",
    "        if return_prol:\n",
    "            P = scipy.sparse.csr_matrix((m, n))\n",
    "            for p in range(N):\n",
    "                kvs=old_kvs[p]\n",
    "                if p in new_patches:\n",
    "                    new_kvs = new_kvs_[p]\n",
    "                    S = scipy.sparse.csr_matrix((m,bspline.numdofs(new_kvs)))\n",
    "                    C =  bspline.prolongation_tp(kvs, new_kvs)\n",
    "                    \n",
    "                    for i, new_p in enumerate(new_patches[p]):\n",
    "                    \n",
    "                        val = np.ones(self.N[new_p])\n",
    "                        I = np.arange(self.N[new_p])\n",
    "                        \n",
    "                        if patches[p]==0:\n",
    "                            bdspec = (0,i)\n",
    "                            k = self.mesh.patches[new_p][0][0][0].numdofs\n",
    "                            J = np.sort(Ass.boundary_dofs(new_kvs,bdspec,ravel=True,k=k-1))\n",
    "                        elif patches[p]==1:\n",
    "                            bdspec = (1,i)\n",
    "                            k = self.mesh.patches[new_p][0][0][1].numdofs\n",
    "                            J = np.sort(Ass.boundary_dofs(new_kvs,bdspec,ravel=True,k=k-1))\n",
    "                        else:\n",
    "                            cspec=(i//2,i%2)\n",
    "                            k0=self.mesh.patches[new_p][0][0][0].numdofs\n",
    "                            k1=self.mesh.patches[new_p][0][0][1].numdofs\n",
    "                            J = np.sort(Ass.boundary_dofs(new_kvs,cspec,k=[k0-1,k1-1], ravel=True))\n",
    "               \n",
    "                        R = scipy.sparse.coo_matrix((val,(I,J)),shape=(self.N[new_p],bspline.numdofs(new_kvs)))\n",
    "                        S += self.patch_to_global(new_p) @ R\n",
    "                else:\n",
    "                    S=self.patch_to_global(p)\n",
    "                    C=scipy.sparse.identity(self.N[p])\n",
    "                \n",
    "                P += S @ C @ old_global_to_patch[p]\n",
    "                \n",
    "            factors = [1/sum([sum(dof[p][1]) for p in dof]) for dof in self.shared_dofs]\n",
    "            P[self.M_ofs[-1]:] = scipy.sparse.spdiags(factors, 0, len(factors), len(factors)) @ P[self.M_ofs[-1]:]\n",
    "            return P\n",
    "        \n",
    "#     def split_boundary_data(self, p, n, axis = None):\n",
    "#         \"\"\"Splits the boundary information of a patch `p`.\n",
    "    \n",
    "#         Args:\n",
    "#             p: patch to be split\n",
    "#             n: total number of patches\n",
    "#             dir_data: information of the Dirichlet condition over the whole PatchMesh structure\n",
    "            \n",
    "#         Returns:\n",
    "#             Modified list `dir_data` with split patches.\n",
    "#         \"\"\"\n",
    "#         if axis==None:\n",
    "#             axis=tuple(range(self.dim))\n",
    "#         axis=np.unique(axis)\n",
    "#         if len(axis)==1: axis=axis[0]\n",
    "#         for s in self.b_data.keys():\n",
    "            \n",
    "#             b_data_p = [(patch , bd, g) for (patch, bd, g) in self.b_data[s] if patch == p]\n",
    "            \n",
    "#             if b_data_p:\n",
    "#                 if not np.isscalar(axis):\n",
    "#                     for k,ax in enumerate(axis[::-1]):\n",
    "#                         self.split_boundary_data(p, n+2**k-1, axis=ax)\n",
    "#                         for i in range(2**k-1):\n",
    "#                             self.split_boundary_data(n+i, n+2**k+i, axis=ax)\n",
    "#                 else:\n",
    "#                     for (patch, bd, g) in b_data_p:\n",
    "#                         if self.dim==3:\n",
    "#                             if axis == self.dim - 3:\n",
    "#                                 if bd == 'back':\n",
    "#                                     self.b_data[s].remove((patch, bd, g))\n",
    "#                                     self.b_data[s].append((n, bd, g))\n",
    "#                                 if bd == 'left' or bd == 'right' or bd == 'bottom' or bd=='top':\n",
    "#                                     self.b_data[s].append((n, bd, g))\n",
    "#                         if axis == self.dim - 2:\n",
    "#                             if bd == 'top':\n",
    "#                                 self.b_data[s].remove((patch, bd, g))\n",
    "#                                 self.b_data[s].append((n, bd, g))\n",
    "#                             if bd == 'left' or bd == 'right':\n",
    "#                                 self.b_data[s].append((n, bd, g))\n",
    "#                             if self.dim == 3:\n",
    "#                                 if bd == 'front' or bd == 'back':\n",
    "#                                     self.b_data[s].append((n, bd, g)) \n",
    "#                         if axis == self.dim - 1:\n",
    "#                             if bd == 'right':\n",
    "#                                 self.b_data[s].remove((patch, bd, g))\n",
    "#                                 self.b_data[s].append((n, bd, g))   \n",
    "#                             if bd == 'bottom' or bd == 'top':\n",
    "#                                 self.b_data[s].append((n, bd, g))\n",
    "#                             if self.dim == 3:\n",
    "#                                 if bd == 'front' or bd == 'back':\n",
    "#                                     self.b_data[s].append((n, bd, g)) \n",
    "\n",
    "    def compute_dirichlet_bcs(self):\n",
    "        \"\"\"Performs the same operation as the global function\n",
    "        :func:`compute_dirichlet_bcs`, but for a multipatch problem.\n",
    "\n",
    "        The sequence `dir_data` should contain triples of the form `(patch,\n",
    "        bdspec, dir_func)`.\n",
    "\n",
    "        Returns:\n",
    "            A pair `(indices, values)` suitable for passing to\n",
    "            :class:`RestrictedLinearSystem`.\n",
    "        \"\"\"\n",
    "        bcs = []\n",
    "        p2g = dict()        # cache the patch-to-global indices for efficiency\n",
    "        for (p, bdspec, g) in self.b_data['D']:\n",
    "            (kvs, geo), _ = self.mesh.patches[p]\n",
    "            bc = Ass.compute_dirichlet_bc(kvs, geo, bdspec, g)\n",
    "            if p not in p2g:\n",
    "                p2g[p] = self.patch_to_global_idx(p)\n",
    "            idx = p2g[p]    # maps local dofs to global dofs\n",
    "            bcs.append((*idx[bc[0],0].toarray().T, bc[1]))\n",
    "        return Ass.combine_bcs(bcs)\n",
    "    \n",
    "    def sanity_check(self):\n",
    "        for p in range(self.numpatches):\n",
    "            assert all([np.isclose(sum(coeffs),1.0) for _,coeffs in self.shared_per_patch[p].values()]), 'coupling of dofs is flawed'"
   ]
  },
  {
   "cell_type": "code",
   "execution_count": 242,
   "id": "ed05e3bc-3590-429c-bcba-ad39081c2367",
   "metadata": {},
   "outputs": [],
   "source": [
    "#Example 1\n",
    "\n",
    "#setup initial discretization \n",
    "deg = 1\n",
    "N=1\n",
    "kvs = 2*[2*(bspline.make_knots(deg,0.0,1.0,N),),]\n",
    "\n",
    "# define geometry\n",
    "geos = [\n",
    "    geometry.unit_square(),\n",
    "    geometry.unit_square().translate((1,0))\n",
    "]\n",
    "\n",
    "patches = [(k, g) for k, g in zip(kvs,geos)]\n",
    "M = PatchMesh(patches)\n",
    "#M.refine(patches=1)\n",
    "\n",
    "g = lambda x,y: x\n",
    "#g=u\n",
    "\n",
    "dir_data = [\n",
    "    (0, 'bottom', g), (0, 'left', g), (0, 'top', g),\n",
    "    (1, 'right', g), (1, 'bottom', g), (1, 'top', g)\n",
    "]\n",
    "\n",
    "#M.split_patches()\n",
    "MP=Multipatch(M, automatch=True)\n",
    "#MP.patch_refine(patches={1:0})\n",
    "#MP.refine(patches={0})\n",
    "#MP.reset(automatch=True)"
   ]
  },
  {
   "cell_type": "code",
   "execution_count": 243,
   "id": "acd585a6-9f51-432e-8d53-41776a91fb89",
   "metadata": {},
   "outputs": [
    {
     "data": {
      "image/png": "[encoded data removed]",
      "text/plain": [
       "<Figure size 576x576 with 1 Axes>"
      ]
     },
     "metadata": {
      "needs_background": "light"
     },
     "output_type": "display_data"
    }
   ],
   "source": [
    "M.draw()"
   ]
  },
  {
   "cell_type": "code",
   "execution_count": 244,
   "id": "d961648b-31e9-4e71-82d0-b4810694746f",
   "metadata": {},
   "outputs": [],
   "source": [
    "A, rhs = MP.assemble_system(vform.stiffness_vf(2), vform.L2functional_vf(2, physical=True), f=f)"
   ]
  },
  {
   "cell_type": "code",
   "execution_count": 245,
   "id": "15f2288e-eb7e-421b-a09d-9dc94cff0485",
   "metadata": {},
   "outputs": [
    {
     "data": {
      "text/plain": [
       "<matplotlib.image.AxesImage at 0x7f61b0daca30>"
      ]
     },
     "execution_count": 245,
     "metadata": {},
     "output_type": "execute_result"
    },
    {
     "data": {
      "image/png": "[encoded data removed]",
      "text/plain": [
       "<Figure size 432x288 with 1 Axes>"
      ]
     },
     "metadata": {
      "needs_background": "light"
     },
     "output_type": "display_data"
    }
   ],
   "source": [
    "spy(MP.assemble_surface(vform.mass_Bvf(2), arity=2).A)"
   ]
  },
  {
   "cell_type": "code",
   "execution_count": 136,
   "id": "f65c4c11-2c8e-4f3c-9f97-2fd26e97f17e",
   "metadata": {},
   "outputs": [],
   "source": [
    "kvs, geo=MP.mesh.patches[0][0]"
   ]
  },
  {
   "cell_type": "code",
   "execution_count": 77,
   "id": "ea444a81-1573-4c70-8599-7e6ce375db2f",
   "metadata": {},
   "outputs": [
    {
     "data": {
      "text/plain": [
       "2"
      ]
     },
     "execution_count": 77,
     "metadata": {},
     "output_type": "execute_result"
    }
   ],
   "source": [
    "vform.mass_Bvf(2).geo_dim"
   ]
  },
  {
   "cell_type": "code",
   "execution_count": 69,
   "id": "b40686a2-a992-4925-b708-099b909c1273",
   "metadata": {},
   "outputs": [
    {
     "data": {
      "text/plain": [
       "array([[0.08333, 0.04167, 0.     ],\n",
       "       [0.04167, 0.16667, 0.04167],\n",
       "       [0.     , 0.04167, 0.08333]])"
      ]
     },
     "execution_count": 69,
     "metadata": {},
     "output_type": "execute_result"
    }
   ],
   "source": [
    "Ass.assemble(vform.mass_Bvf(2), kvs, boundary=[(0,0)],geo=geo).A"
   ]
  },
  {
   "cell_type": "code",
   "execution_count": 78,
   "id": "acc73169-6373-4f75-b31b-24eb3bbabefe",
   "metadata": {},
   "outputs": [
    {
     "ename": "TypeError",
     "evalue": "'module' object is not callable",
     "output_type": "error",
     "traceback": [
      "\u001b[0;31m---------------------------------------------------------------------------\u001b[0m",
      "\u001b[0;31mTypeError\u001b[0m                                 Traceback (most recent call last)",
      "\u001b[0;32m<ipython-input-78-1e1fa3048eae>\u001b[0m in \u001b[0;36m<module>\u001b[0;34m\u001b[0m\n\u001b[0;32m----> 1\u001b[0;31m \u001b[0mMP\u001b[0m\u001b[0;34m.\u001b[0m\u001b[0massemble_boundary\u001b[0m\u001b[0;34m(\u001b[0m\u001b[0mvform\u001b[0m\u001b[0;34m.\u001b[0m\u001b[0mmass_Bvf\u001b[0m\u001b[0;34m(\u001b[0m\u001b[0;36m2\u001b[0m\u001b[0;34m)\u001b[0m\u001b[0;34m,\u001b[0m\u001b[0mgeo\u001b[0m\u001b[0;34m=\u001b[0m\u001b[0mgeo\u001b[0m\u001b[0;34m)\u001b[0m\u001b[0;34m\u001b[0m\u001b[0;34m\u001b[0m\u001b[0m\n\u001b[0m",
      "\u001b[0;32m<ipython-input-28-49bd9429cdc8>\u001b[0m in \u001b[0;36massemble_boundary\u001b[0;34m(self, problem, boundary_idx, args, bfuns, symmetric, format, layout, **kwargs)\u001b[0m\n\u001b[1;32m    251\u001b[0m                 \u001b[0margs\u001b[0m\u001b[0;34m.\u001b[0m\u001b[0mupdate\u001b[0m\u001b[0;34m(\u001b[0m\u001b[0mgeo\u001b[0m \u001b[0;34m=\u001b[0m \u001b[0mgeo\u001b[0m\u001b[0;34m)\u001b[0m\u001b[0;34m\u001b[0m\u001b[0;34m\u001b[0m\u001b[0m\n\u001b[1;32m    252\u001b[0m                 \u001b[0mbdofs\u001b[0m\u001b[0;34m.\u001b[0m\u001b[0mappend\u001b[0m\u001b[0;34m(\u001b[0m\u001b[0mAss\u001b[0m\u001b[0;34m.\u001b[0m\u001b[0mboundary_dofs\u001b[0m\u001b[0;34m(\u001b[0m\u001b[0mkvs\u001b[0m\u001b[0;34m,\u001b[0m\u001b[0mbdspec\u001b[0m\u001b[0;34m,\u001b[0m\u001b[0mravel\u001b[0m\u001b[0;34m=\u001b[0m\u001b[0;32mTrue\u001b[0m\u001b[0;34m)\u001b[0m\u001b[0;34m)\u001b[0m\u001b[0;34m\u001b[0m\u001b[0;34m\u001b[0m\u001b[0m\n\u001b[0;32m--> 253\u001b[0;31m                 R.append(assemble(problem, kvs, args=args, bfuns=bfuns,\n\u001b[0m\u001b[1;32m    254\u001b[0m                         \u001b[0msymmetric\u001b[0m\u001b[0;34m=\u001b[0m\u001b[0msymmetric\u001b[0m\u001b[0;34m,\u001b[0m \u001b[0mformat\u001b[0m\u001b[0;34m=\u001b[0m\u001b[0mformat\u001b[0m\u001b[0;34m,\u001b[0m \u001b[0mlayout\u001b[0m\u001b[0;34m=\u001b[0m\u001b[0mlayout\u001b[0m\u001b[0;34m,\u001b[0m\u001b[0;34m\u001b[0m\u001b[0;34m\u001b[0m\u001b[0m\n\u001b[1;32m    255\u001b[0m                         **kwargs, boundary=bdspec))\n",
      "\u001b[0;31mTypeError\u001b[0m: 'module' object is not callable"
     ]
    }
   ],
   "source": [
    "MP.assemble_boundary(vform.mass_Bvf(2),geo=geo)"
   ]
  },
  {
   "cell_type": "code",
   "execution_count": 23,
   "id": "42a07563-081f-432d-b204-4d85002212bf",
   "metadata": {},
   "outputs": [],
   "source": [
    "def set_boundary_id(A,boundary_id):\n",
    "    marked = set().union(*boundary_id.values())\n",
    "    for key in A.keys():\n",
    "        A[key]=A[key]-marked\n",
    "    A.update(boundary_id)"
   ]
  },
  {
   "cell_type": "code",
   "execution_count": 17,
   "id": "f2bc8c02-3b63-47e3-a2d2-6aa721fdf2d1",
   "metadata": {},
   "outputs": [],
   "source": [
    "dofs=np.array([3,7,11])\n",
    "values=np.array([1,1,1])"
   ]
  },
  {
   "cell_type": "code",
   "execution_count": 18,
   "id": "6f4f1c08-0ea7-4298-9ba5-ee8bb607e6a1",
   "metadata": {},
   "outputs": [],
   "source": [
    "result=np.zeros(12)"
   ]
  },
  {
   "cell_type": "code",
   "execution_count": 20,
   "id": "167e0e88-97f8-4407-9197-aa0924da3cea",
   "metadata": {},
   "outputs": [],
   "source": [
    "result[dofs]=values"
   ]
  },
  {
   "cell_type": "code",
   "execution_count": 21,
   "id": "f329a36c-91c3-41b4-ac16-e38c8bca9e68",
   "metadata": {},
   "outputs": [
    {
     "data": {
      "text/plain": [
       "array([0., 0., 0., 1., 0., 0., 0., 1., 0., 0., 0., 1.])"
      ]
     },
     "execution_count": 21,
     "metadata": {},
     "output_type": "execute_result"
    }
   ],
   "source": [
    "result"
   ]
  },
  {
   "cell_type": "code",
   "execution_count": 25,
   "id": "c43cc480-6212-4dd1-a801-8f631f5bf833",
   "metadata": {},
   "outputs": [
    {
     "data": {
      "text/plain": [
       "<property at 0x7f3dfb24fe00>"
      ]
     },
     "execution_count": 25,
     "metadata": {},
     "output_type": "execute_result"
    }
   ],
   "source": [
    "bspline.KnotVector"
   ]
  },
  {
   "cell_type": "code",
   "execution_count": 30,
   "id": "eb1d9a8c-8a34-4e02-b9f8-c6e522f25673",
   "metadata": {},
   "outputs": [],
   "source": [
    "A=scipy.sparse.csr_matrix(np.array([[1,2,3],[2,1,2],[3,2,1]]))"
   ]
  },
  {
   "cell_type": "code",
   "execution_count": 32,
   "id": "944f952a-48e1-43d5-9edf-00332fa68196",
   "metadata": {},
   "outputs": [
    {
     "data": {
      "text/plain": [
       "array([1, 2, 3, 2, 1, 2, 3, 2, 1])"
      ]
     },
     "execution_count": 32,
     "metadata": {},
     "output_type": "execute_result"
    }
   ],
   "source": [
    "A.data"
   ]
  },
  {
   "cell_type": "code",
   "execution_count": 39,
   "id": "a91528e6-01b1-4ae4-93ba-78ea71a8c387",
   "metadata": {},
   "outputs": [
    {
     "ename": "AttributeError",
     "evalue": "cols not found",
     "output_type": "error",
     "traceback": [
      "\u001b[0;31m---------------------------------------------------------------------------\u001b[0m",
      "\u001b[0;31mAttributeError\u001b[0m                            Traceback (most recent call last)",
      "\u001b[0;32m<ipython-input-39-83c899ded060>\u001b[0m in \u001b[0;36m<module>\u001b[0;34m\u001b[0m\n\u001b[0;32m----> 1\u001b[0;31m \u001b[0mA\u001b[0m\u001b[0;34m.\u001b[0m\u001b[0mcols\u001b[0m\u001b[0;34m\u001b[0m\u001b[0;34m\u001b[0m\u001b[0m\n\u001b[0m",
      "\u001b[0;32m~/anaconda3/lib/python3.8/site-packages/scipy/sparse/_base.py\u001b[0m in \u001b[0;36m__getattr__\u001b[0;34m(self, attr)\u001b[0m\n\u001b[1;32m    769\u001b[0m             \u001b[0;32mreturn\u001b[0m \u001b[0mself\u001b[0m\u001b[0;34m.\u001b[0m\u001b[0mgetnnz\u001b[0m\u001b[0;34m(\u001b[0m\u001b[0;34m)\u001b[0m\u001b[0;34m\u001b[0m\u001b[0;34m\u001b[0m\u001b[0m\n\u001b[1;32m    770\u001b[0m         \u001b[0;32melse\u001b[0m\u001b[0;34m:\u001b[0m\u001b[0;34m\u001b[0m\u001b[0;34m\u001b[0m\u001b[0m\n\u001b[0;32m--> 771\u001b[0;31m             \u001b[0;32mraise\u001b[0m \u001b[0mAttributeError\u001b[0m\u001b[0;34m(\u001b[0m\u001b[0mattr\u001b[0m \u001b[0;34m+\u001b[0m \u001b[0;34m\" not found\"\u001b[0m\u001b[0;34m)\u001b[0m\u001b[0;34m\u001b[0m\u001b[0;34m\u001b[0m\u001b[0m\n\u001b[0m\u001b[1;32m    772\u001b[0m \u001b[0;34m\u001b[0m\u001b[0m\n\u001b[1;32m    773\u001b[0m     \u001b[0;32mdef\u001b[0m \u001b[0mtranspose\u001b[0m\u001b[0;34m(\u001b[0m\u001b[0mself\u001b[0m\u001b[0;34m,\u001b[0m \u001b[0maxes\u001b[0m\u001b[0;34m=\u001b[0m\u001b[0;32mNone\u001b[0m\u001b[0;34m,\u001b[0m \u001b[0mcopy\u001b[0m\u001b[0;34m=\u001b[0m\u001b[0;32mFalse\u001b[0m\u001b[0;34m)\u001b[0m\u001b[0;34m:\u001b[0m\u001b[0;34m\u001b[0m\u001b[0;34m\u001b[0m\u001b[0m\n",
      "\u001b[0;31mAttributeError\u001b[0m: cols not found"
     ]
    }
   ],
   "source": [
    "A."
   ]
  },
  {
   "cell_type": "code",
   "execution_count": 41,
   "id": "fe87a82a-57a3-4240-8b1c-58a390420e29",
   "metadata": {},
   "outputs": [
    {
     "data": {
      "text/plain": [
       "{3, 4}"
      ]
     },
     "execution_count": 41,
     "metadata": {},
     "output_type": "execute_result"
    }
   ],
   "source": [
    "{1,2,3,4}-{1,2}\n"
   ]
  },
  {
   "cell_type": "code",
   "execution_count": 50,
   "id": "f6c5e781-b9b7-430d-b41b-1fb8f9748c2f",
   "metadata": {},
   "outputs": [],
   "source": [
    "kv=bspline.make_knots(1,0,1,3)"
   ]
  },
  {
   "cell_type": "code",
   "execution_count": 55,
   "id": "59d24008-4f93-4e4d-9586-01cffb18841d",
   "metadata": {},
   "outputs": [
    {
     "data": {
      "text/plain": [
       "16"
      ]
     },
     "execution_count": 55,
     "metadata": {},
     "output_type": "execute_result"
    }
   ],
   "source": [
    "bspline.numdofs((kv,kv))"
   ]
  },
  {
   "cell_type": "code",
   "execution_count": 93,
   "id": "8c004c20-e6bb-40c4-b0c0-836ab4264df4",
   "metadata": {},
   "outputs": [
    {
     "data": {
      "text/plain": [
       "array([ 0,  9, 18])"
      ]
     },
     "execution_count": 93,
     "metadata": {},
     "output_type": "execute_result"
    }
   ],
   "source": [
    "MP.N_ofs"
   ]
  },
  {
   "cell_type": "code",
   "execution_count": 229,
   "id": "cb05d58b-ccb9-49dc-b600-785158a25b60",
   "metadata": {},
   "outputs": [],
   "source": [
    "R=scipy.sparse.coo_matrix(np.array([[1,2,3],[4,5,6],[6,7,8]]))"
   ]
  },
  {
   "cell_type": "code",
   "execution_count": 230,
   "id": "1d9cfb2b-44a3-4d8d-9fd1-21964fad0b79",
   "metadata": {},
   "outputs": [],
   "source": [
    "A=R+R"
   ]
  },
  {
   "cell_type": "code",
   "execution_count": 232,
   "id": "014b5448-eb0c-40a1-9c0f-47fb8abffd6f",
   "metadata": {},
   "outputs": [
    {
     "data": {
      "text/plain": [
       "<3x3 sparse matrix of type '<class 'numpy.int64'>'\n",
       "\twith 9 stored elements in Compressed Sparse Row format>"
      ]
     },
     "execution_count": 232,
     "metadata": {},
     "output_type": "execute_result"
    }
   ],
   "source": []
  },
  {
   "cell_type": "code",
   "execution_count": 122,
   "id": "717f214f-902b-4e61-abb2-015af3a54b2f",
   "metadata": {},
   "outputs": [],
   "source": [
    "I,J = zip(*it.product(bdofs, bdofs))"
   ]
  },
  {
   "cell_type": "code",
   "execution_count": 123,
   "id": "2c8637c2-41a9-467d-a5f3-74ed17fec304",
   "metadata": {},
   "outputs": [],
   "source": [
    "a=scipy.sparse.coo_matrix(np.array([[1,2,3],[4,5,6],[7,8,9]]))"
   ]
  },
  {
   "cell_type": "code",
   "execution_count": 125,
   "id": "f492e8cd-4d63-4cb3-8ea7-91741638a9c1",
   "metadata": {},
   "outputs": [
    {
     "ename": "ValueError",
     "evalue": "inconsistent shapes",
     "output_type": "error",
     "traceback": [
      "\u001b[0;31m---------------------------------------------------------------------------\u001b[0m",
      "\u001b[0;31mValueError\u001b[0m                                Traceback (most recent call last)",
      "\u001b[0;32m<ipython-input-125-739913aaf935>\u001b[0m in \u001b[0;36m<module>\u001b[0;34m\u001b[0m\n\u001b[0;32m----> 1\u001b[0;31m \u001b[0mR\u001b[0m\u001b[0;34m+=\u001b[0m\u001b[0mscipy\u001b[0m\u001b[0;34m.\u001b[0m\u001b[0msparse\u001b[0m\u001b[0;34m.\u001b[0m\u001b[0mcoo_matrix\u001b[0m\u001b[0;34m(\u001b[0m\u001b[0ma\u001b[0m\u001b[0;34m)\u001b[0m\u001b[0;34m\u001b[0m\u001b[0;34m\u001b[0m\u001b[0m\n\u001b[0m",
      "\u001b[0;32m~/anaconda3/lib/python3.8/site-packages/scipy/sparse/_base.py\u001b[0m in \u001b[0;36m__add__\u001b[0;34m(self, other)\u001b[0m\n\u001b[1;32m    469\u001b[0m         \u001b[0;32melif\u001b[0m \u001b[0misspmatrix\u001b[0m\u001b[0;34m(\u001b[0m\u001b[0mother\u001b[0m\u001b[0;34m)\u001b[0m\u001b[0;34m:\u001b[0m\u001b[0;34m\u001b[0m\u001b[0;34m\u001b[0m\u001b[0m\n\u001b[1;32m    470\u001b[0m             \u001b[0;32mif\u001b[0m \u001b[0mother\u001b[0m\u001b[0;34m.\u001b[0m\u001b[0mshape\u001b[0m \u001b[0;34m!=\u001b[0m \u001b[0mself\u001b[0m\u001b[0;34m.\u001b[0m\u001b[0mshape\u001b[0m\u001b[0;34m:\u001b[0m\u001b[0;34m\u001b[0m\u001b[0;34m\u001b[0m\u001b[0m\n\u001b[0;32m--> 471\u001b[0;31m                 \u001b[0;32mraise\u001b[0m \u001b[0mValueError\u001b[0m\u001b[0;34m(\u001b[0m\u001b[0;34m\"inconsistent shapes\"\u001b[0m\u001b[0;34m)\u001b[0m\u001b[0;34m\u001b[0m\u001b[0;34m\u001b[0m\u001b[0m\n\u001b[0m\u001b[1;32m    472\u001b[0m             \u001b[0;32mreturn\u001b[0m \u001b[0mself\u001b[0m\u001b[0;34m.\u001b[0m\u001b[0m_add_sparse\u001b[0m\u001b[0;34m(\u001b[0m\u001b[0mother\u001b[0m\u001b[0;34m)\u001b[0m\u001b[0;34m\u001b[0m\u001b[0;34m\u001b[0m\u001b[0m\n\u001b[1;32m    473\u001b[0m         \u001b[0;32melif\u001b[0m \u001b[0misdense\u001b[0m\u001b[0;34m(\u001b[0m\u001b[0mother\u001b[0m\u001b[0;34m)\u001b[0m\u001b[0;34m:\u001b[0m\u001b[0;34m\u001b[0m\u001b[0;34m\u001b[0m\u001b[0m\n",
      "\u001b[0;31mValueError\u001b[0m: inconsistent shapes"
     ]
    }
   ],
   "source": [
    "R+="
   ]
  },
  {
   "cell_type": "code",
   "execution_count": 108,
   "id": "311b85cf-ee99-4837-982a-aa2834d6f1b9",
   "metadata": {},
   "outputs": [],
   "source": [
    "R.row, R.col, R.data = I,J,a.data"
   ]
  },
  {
   "cell_type": "code",
   "execution_count": null,
   "id": "9197cc3e-9b05-41fc-837c-49204bcc85d5",
   "metadata": {},
   "outputs": [],
   "source": []
  },
  {
   "cell_type": "code",
   "execution_count": 114,
   "id": "56703e3c-8900-423a-acff-1aceab61dbf7",
   "metadata": {},
   "outputs": [
    {
     "data": {
      "text/plain": [
       "(1, 1, 1, 3, 3, 3, 5, 5, 5)"
      ]
     },
     "execution_count": 114,
     "metadata": {},
     "output_type": "execute_result"
    }
   ],
   "source": [
    "I"
   ]
  },
  {
   "cell_type": "code",
   "execution_count": 136,
   "id": "a597078b-8c79-4145-b979-b6a7c2030650",
   "metadata": {},
   "outputs": [],
   "source": [
    "A=np.array([1,2,3])"
   ]
  },
  {
   "cell_type": "code",
   "execution_count": 141,
   "id": "47de9f66-7835-45b3-81b0-4de6c815cfda",
   "metadata": {},
   "outputs": [
    {
     "data": {
      "text/plain": [
       "array([1, 2, 3, 1, 2, 3])"
      ]
     },
     "execution_count": 141,
     "metadata": {},
     "output_type": "execute_result"
    }
   ],
   "source": [
    "np.append(A,A)"
   ]
  },
  {
   "cell_type": "code",
   "execution_count": 139,
   "id": "04f5afeb-103f-4761-8f17-52cfb6c71022",
   "metadata": {},
   "outputs": [
    {
     "ename": "AttributeError",
     "evalue": "module 'numpy' has no attribute 'extend'",
     "output_type": "error",
     "traceback": [
      "\u001b[0;31m---------------------------------------------------------------------------\u001b[0m",
      "\u001b[0;31mAttributeError\u001b[0m                            Traceback (most recent call last)",
      "\u001b[0;32m<ipython-input-139-b53b3f84c82c>\u001b[0m in \u001b[0;36m<module>\u001b[0;34m\u001b[0m\n\u001b[0;32m----> 1\u001b[0;31m \u001b[0mnp\u001b[0m\u001b[0;34m.\u001b[0m\u001b[0mextend\u001b[0m\u001b[0;34m\u001b[0m\u001b[0;34m\u001b[0m\u001b[0m\n\u001b[0m",
      "\u001b[0;32m~/anaconda3/lib/python3.8/site-packages/numpy/__init__.py\u001b[0m in \u001b[0;36m__getattr__\u001b[0;34m(attr)\u001b[0m\n\u001b[1;32m    309\u001b[0m             \u001b[0;32mreturn\u001b[0m \u001b[0mTester\u001b[0m\u001b[0;34m\u001b[0m\u001b[0;34m\u001b[0m\u001b[0m\n\u001b[1;32m    310\u001b[0m \u001b[0;34m\u001b[0m\u001b[0m\n\u001b[0;32m--> 311\u001b[0;31m         raise AttributeError(\"module {!r} has no attribute \"\n\u001b[0m\u001b[1;32m    312\u001b[0m                              \"{!r}\".format(__name__, attr))\n\u001b[1;32m    313\u001b[0m \u001b[0;34m\u001b[0m\u001b[0m\n",
      "\u001b[0;31mAttributeError\u001b[0m: module 'numpy' has no attribute 'extend'"
     ]
    }
   ],
   "source": [
    "np.extend"
   ]
  },
  {
   "cell_type": "code",
   "execution_count": null,
   "id": "5e3fa348-2ca5-4eee-8305-859846a6ea48",
   "metadata": {},
   "outputs": [],
   "source": []
  }
 ],
 "metadata": {
  "kernelspec": {
   "display_name": "Python 3",
   "language": "python",
   "name": "python3"
  },
  "language_info": {
   "codemirror_mode": {
    "name": "ipython",
    "version": 3
   },
   "file_extension": ".py",
   "mimetype": "text/x-python",
   "name": "python",
   "nbconvert_exporter": "python",
   "pygments_lexer": "ipython3",
   "version": "3.8.8"
  }
 },
 "nbformat": 4,
 "nbformat_minor": 5
}
