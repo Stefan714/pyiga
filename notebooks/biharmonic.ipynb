{
 "cells": [
  {
   "cell_type": "code",
   "execution_count": 2,
   "id": "9559bb8b",
   "metadata": {},
   "outputs": [],
   "source": [
    "%load_ext autoreload\n",
    "%autoreload 2"
   ]
  },
  {
   "cell_type": "code",
   "execution_count": 31,
   "id": "a27d6b67",
   "metadata": {},
   "outputs": [],
   "source": [
    "import scipy\n",
    "import numpy as np\n",
    "np.set_printoptions(threshold=np.inf)\n",
    "import matplotlib.pyplot as plt\n",
    "import sympy\n",
    "\n",
    "from pyiga import bspline, assemble, vform, geometry, vis, solvers, ieti, topology\n",
    "\n",
    "#import importlib\n",
    "#importlib.reload(pyiga.assemble)"
   ]
  },
  {
   "cell_type": "code",
   "execution_count": 32,
   "id": "5ef7c102",
   "metadata": {},
   "outputs": [],
   "source": [
    "# define discretization space (the same in each patch)\n",
    "p = 3\n",
    "kvs = 2 * (bspline.make_knots(p, 0.0, 1.0, 3),) # 15\n",
    "c = 1"
   ]
  },
  {
   "cell_type": "code",
   "execution_count": 33,
   "id": "af9ed18f",
   "metadata": {},
   "outputs": [],
   "source": [
    "def enforce_same_derivatives(idx, side):\n",
    "    \"\"\" Funtion to enforce the continuity in C^0 or C^1 across the patches in the ieti-dp method \"\"\"\n",
    "    if side == 0:\n",
    "        return idx+1\n",
    "    elif side == 1:\n",
    "        return idx-1"
   ]
  },
  {
   "cell_type": "code",
   "execution_count": 67,
   "id": "7b7298fb",
   "metadata": {},
   "outputs": [
    {
     "name": "stdout",
     "output_type": "stream",
     "text": [
      "Basis setup took 0.0017817020416259766 seconds\n",
      "{0: [(35, 35)], 1: [(5, 35)], 2: [(30, 35)], 3: [(0, 35)]}\n",
      "Ck   (0, 35)\t-1.0\n",
      "  (1, 29)\t0.9999999999999998\n",
      "  (1, 35)\t-2.0\n",
      "  (2, 34)\t0.9999999999999998\n",
      "  (2, 35)\t-2.0\n"
     ]
    },
    {
     "data": {
      "image/png": "[encoded data removed]",
      "text/plain": [
       "<Figure size 640x480 with 1 Axes>"
      ]
     },
     "metadata": {},
     "output_type": "display_data"
    }
   ],
   "source": [
    "# define geometry\n",
    "geos = [\n",
    "    geometry.unit_square().translate((-1, -1)),\n",
    "    geometry.unit_square().translate((-1, 0)),\n",
    "    geometry.unit_square().translate((0, -1)),\n",
    "    geometry.unit_square().translate((0, 0)),\n",
    "]\n",
    "\n",
    "patches = [(kvs, g) for g in geos]\n",
    "\n",
    "# set up a PatchMesh object, which detects interfaces between patches\n",
    "M = topology.PatchMesh(patches)\n",
    "#bnd = M.outer_boundaries\n",
    "#bnd0 = M.boundaries(0)\n",
    "\n",
    "#print(bnd)\n",
    "#print(bnd0)\n",
    "\n",
    "# by default all outer boundaries are given the index 0, which we will use for the Dirichlet boundary\n",
    "# let us generate a Neumann boundary indexed by 1\n",
    "#M.set_boundary_id({0:{(0,0),(0,1),(1,0),(3,3)}})\n",
    "\n",
    "# visualize the PatchMesh object with Dirichlet boundary (blue) and Neumann boundary (red)\n",
    "M.draw(patch_idx = True, knots=True, bcolor={0:'blue',1:'red'})\n",
    "\n",
    "# set up a MultiPatch object that initializes a Basis to map global dofs to local dofs\n",
    "MP = assemble.Multipatch(M, automatch=True)\n",
    "#MP.finalize()\n",
    "    \n",
    "#print(len(ifaces))\n",
    "#print(ifaces[1])\n",
    "#print(bspline.numdofs(kvs))\n",
    "#print(local_to_global)\n",
    "\n",
    "#B = ieti.jump_matrices(ifaces, MP.numdofs)\n",
    "#print(B.shape)\n",
    "\n",
    "# Constraint matrices for ieti-dp for each patch\n",
    "cpp = MP.get_crosspoints()\n",
    "print(cpp)\n",
    "\n",
    "#print(MP.Constr1)\n",
    "def construct_constraint_matrices():\n",
    "    Ck = []\n",
    "    for p in range(len(MP.mesh.patches)):\n",
    "        loc, glob = cpp[p][0]\n",
    "        \n",
    "        nnz_per_row = MP.Constr1[:,loc+MP.N_ofs[p]].getnnz(axis=1)\n",
    "        result = np.where(nnz_per_row > 0)[0]\n",
    "        \n",
    "        ck = MP.Constr1[result,MP.N_ofs[p]:MP.N_ofs[p+1]]\n",
    "        #ck = ck[:int(ck.shape[0]/2),:]\n",
    "        \n",
    "        q,r = np.linalg.qr(ck.todense().T)\n",
    "        ck = ck[np.abs(np.diag(r))>=1e-10]\n",
    "        \n",
    "        if p == 0:\n",
    "            print(\"Ck\", ck)\n",
    "        \n",
    "        Ck.append(ck)\n",
    "\n",
    "    return Ck, scipy.sparse.block_diag(Ck)\n",
    "        \n",
    "\n",
    "Ck, C = construct_constraint_matrices()\n",
    "#print(C)\n",
    "#C = ieti.constraint_matrices(ifaces)    "
   ]
  },
  {
   "cell_type": "code",
   "execution_count": 68,
   "id": "be64691a",
   "metadata": {},
   "outputs": [],
   "source": [
    "# source term f and Dirichlet boundary function g\n",
    "f = lambda x, y: 1\n",
    "gN = lambda x,y: 0 \n",
    "\n",
    "# set up Dirichlet boundary conditions\n",
    "bcs = MP.compute_dirichlet_bcs({0:gN})\n",
    "\n",
    "# assemble the linear system\n",
    "Ak = [assemble.assemble('tr(hess(u)) * tr(hess(v)) * dx', kvs, bfuns=[('u',1), ('v',1)], geo=g) for g in geos]\n",
    "#A_grad = assemble.assemble('inner(grad(u), grad(v)) * dx', kvs, bfuns=[('u',1), ('v',1)], geo=geo)\n",
    "A = scipy.sparse.block_diag(Ak, format='csr')\n",
    "\n",
    "params = {'f' : f, 'g' : gN}\n",
    "rhs = [assemble.assemble('f * v * dx', kvs, params, bfuns=[('v',1)], geo=g).ravel() for g in geos]\n",
    "# generate Neumann vector for global contribution to the right hand side, in this case it is a zero vector since g1 is zero\n",
    "N = MP.assemble_surface('g1 * inner(grad(v),n) * ds', arity=1, g1=gN, boundary_idx=0)\n",
    "\n",
    "#rhs += assemble.assemble('g * inner(grad(v),n) * ds', kvs, params, bfuns=[('v',1)], geo=geo, boundary=[1]).ravel()\n",
    "rhs = np.hstack(rhs)\n",
    "\n",
    "assert A.shape[1] == rhs.shape[0], \"Size of rhs is different to size of the matrix\"\n",
    "\n",
    "\n",
    "# Other method for assembly\n",
    "#def bilinear():\n",
    "#    vf = vform.VForm(2)\n",
    "#   u, v = vf.basisfuns()\n",
    "#    vf.add(vform.tr(vform.hess(u)) * vform.tr(vform.hess(v)) * vform.dx)\n",
    "#    return vf\n",
    "\n",
    "#a = bilinear()"
   ]
  },
  {
   "cell_type": "code",
   "execution_count": 69,
   "id": "c1e08e7b",
   "metadata": {},
   "outputs": [],
   "source": [
    "def construct_primal_basis(Ak, Ck):\n",
    "    Psi = []\n",
    "    for k in range(len(Ak)):\n",
    "        a = Ak[k]\n",
    "        c = Ck[k]\n",
    "        AC = scipy.sparse.bmat(\n",
    "        [[a, c.T],\n",
    "         [c,  None   ]], format='csr')\n",
    "        RHS = np.vstack([np.zeros((a.shape[0],c.shape[0])), np.ones((c.shape[0], c.shape[0]))])\n",
    "        psi = scipy.sparse.linalg.spsolve(AC, RHS)\n",
    "        print(psi.shape)\n",
    "        psi, delta = psi[:a.shape[0],], psi[a.shape[0]:,]\n",
    "        \n",
    "        Psi.append(psi)\n",
    "        \n",
    "    return Psi"
   ]
  },
  {
   "cell_type": "code",
   "execution_count": 77,
   "id": "267b4a38",
   "metadata": {},
   "outputs": [
    {
     "name": "stdout",
     "output_type": "stream",
     "text": [
      "(39, 3)\n",
      "(39, 3)\n",
      "(39, 3)\n",
      "(39, 3)\n",
      "(12, 12)\n"
     ]
    }
   ],
   "source": [
    "Psik=construct_primal_basis(Ak, Ck)\n",
    "\n",
    "PSI = scipy.sparse.bmat([[Psik[0], None, None, None],\n",
    "                         [None, Psik[1], None, None],\n",
    "                         [None, None, Psik[2], None],\n",
    "                         [None, None, None, Psik[3]]], format='csr')\n",
    "\n",
    "PTAP = PSI.T@A@PSI"
   ]
  },
  {
   "cell_type": "code",
   "execution_count": null,
   "id": "2c81c49b",
   "metadata": {},
   "outputs": [],
   "source": [
    "# set up and solve linear system\n",
    "A_ieti = scipy.sparse.bmat(\n",
    "    [[A, B.T],\n",
    "     [B,  None   ]], format='csr')\n",
    "\n",
    "rhs = np.hstack((rhs, np.zeros(B.shape[0],)))\n",
    "\n",
    "LS = assemble.RestrictedLinearSystem(A_ieti, rhs, bcs)\n",
    "\n",
    "u = LS.complete(solvers.make_solver(LS.A, spd=True).dot(LS.b))\n",
    "\n",
    "# restrict solution to each individual patch\n",
    "u_funcs = [geometry.BSplineFunc(kvs, MP.global_to_patch(p) @ u)\n",
    "           for p in range(len(patches))]\n"
   ]
  },
  {
   "cell_type": "code",
   "execution_count": null,
   "id": "050a2792",
   "metadata": {},
   "outputs": [],
   "source": [
    "plt.figsize=(8,6)\n",
    "fig, axs = plt.subplots(1, 1)\n",
    "\n",
    "for (u_func, (kvs, geo)) in zip(u_funcs, patches):\n",
    "    vis.plot_field(u_func, geo, vmin=0, vmax=1.5e-1)\n",
    "axs.axis('scaled')\n",
    "plt.colorbar();"
   ]
  },
  {
   "cell_type": "code",
   "execution_count": null,
   "id": "8048f86f",
   "metadata": {},
   "outputs": [],
   "source": []
  }
 ],
 "metadata": {
  "kernelspec": {
   "display_name": "pyigat",
   "language": "python",
   "name": "pyigat"
  },
  "language_info": {
   "codemirror_mode": {
    "name": "ipython",
    "version": 3
   },
   "file_extension": ".py",
   "mimetype": "text/x-python",
   "name": "python",
   "nbconvert_exporter": "python",
   "pygments_lexer": "ipython3",
   "version": "3.9.18"
  }
 },
 "nbformat": 4,
 "nbformat_minor": 5
}
