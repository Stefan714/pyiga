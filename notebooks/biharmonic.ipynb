{
 "cells": [
  {
   "cell_type": "code",
   "execution_count": 1,
   "id": "9559bb8b",
   "metadata": {},
   "outputs": [],
   "source": [
    "%load_ext autoreload\n",
    "%autoreload 2"
   ]
  },
  {
   "cell_type": "code",
   "execution_count": 2,
   "id": "a27d6b67",
   "metadata": {},
   "outputs": [],
   "source": [
    "import scipy\n",
    "import numpy as np\n",
    "import matplotlib.pyplot as plt\n",
    "import sympy\n",
    "\n",
    "from pyiga import bspline, assemble, vform, geometry, vis, solvers, ieti, topology\n",
    "\n",
    "#import importlib\n",
    "#importlib.reload(pyiga.assemble)"
   ]
  },
  {
   "cell_type": "code",
   "execution_count": 3,
   "id": "5ef7c102",
   "metadata": {},
   "outputs": [],
   "source": [
    "# define discretization space (the same in each patch)\n",
    "p = 3\n",
    "kvs = 2 * (bspline.make_knots(p, 0.0, 1.0, 3),) # 15"
   ]
  },
  {
   "cell_type": "code",
   "execution_count": 4,
   "id": "7b7298fb",
   "metadata": {},
   "outputs": [
    {
     "name": "stdout",
     "output_type": "stream",
     "text": [
      "Basis setup took 0.003729581832885742 seconds\n"
     ]
    },
    {
     "data": {
      "image/png": "[encoded data removed]",
      "text/plain": [
       "<Figure size 640x480 with 1 Axes>"
      ]
     },
     "metadata": {},
     "output_type": "display_data"
    }
   ],
   "source": [
    "# define geometry\n",
    "geos = [\n",
    "    geometry.unit_square().translate((-1, -1)),\n",
    "    geometry.unit_square().translate((-1, 0)),\n",
    "    geometry.unit_square().translate((0, -1)),\n",
    "    geometry.unit_square().translate((0, 0)),\n",
    "]\n",
    "\n",
    "patches = [(kvs, g) for g in geos]\n",
    "\n",
    "# set up a PatchMesh object, which detects interfaces between patches\n",
    "M = topology.PatchMesh(patches)\n",
    "#bnd = M.outer_boundaries\n",
    "#print(bnd)\n",
    "\n",
    "# by default all outer boundaries are given the index 0, which we will use for the Dirichlet boundary\n",
    "# let us generate a Neumann boundary indexed by 1\n",
    "#M.set_boundary_id({0:{(0,0),(0,1),(1,0),(3,3)}})\n",
    "\n",
    "# visualize the PatchMesh object with Dirichlet boundary (blue) and Neumann boundary (red)\n",
    "M.draw(patch_idx = True, knots=True, bcolor={0:'blue',1:'red'})\n",
    "\n",
    "# set up a MultiPatch object that initializes a Basis to map global dofs to local dofs\n",
    "MP = assemble.Multipatch(M, automatch=True)\n",
    "#MP.finalize()\n",
    "\n",
    "# Constraint matrices for ieti-dp for each patch\n",
    "cpp = MP.get_crosspoints()\n",
    "#print(cpp)\n",
    "#B = MP.Constr1 "
   ]
  },
  {
   "cell_type": "code",
   "execution_count": 42,
   "id": "7b350b47",
   "metadata": {},
   "outputs": [],
   "source": [
    "### Define data and prepare Dirichlet boundary dofs\n",
    "\n",
    "# source term f and Dirichlet boundary function g\n",
    "f = lambda x, y: 1\n",
    "gN = lambda x,y: 0 \n",
    "\n",
    "# set up Dirichlet boundary conditions\n",
    "bcs = MP.compute_dirichlet_bcs({0:gN})\n",
    "globbnd = np.zeros((MP.Basis.shape[1],))\n",
    "globbnd[bcs[0]] = 1\n",
    "patchwisebcs = MP.Basis@globbnd\n",
    "localbndindex = np.where(patchwisebcs - 1 > -1e-12)[0]\n",
    "bndvalues = np.zeros((1,len(localbndindex)))[0]\n",
    "bcs = tuple((localbndindex, bndvalues))\n",
    "\n",
    "# Helper dictionary \n",
    "params = {'f' : f, 'g' : gN}"
   ]
  },
  {
   "cell_type": "code",
   "execution_count": 338,
   "id": "be64691a",
   "metadata": {},
   "outputs": [
    {
     "name": "stdout",
     "output_type": "stream",
     "text": [
      "Rank  112  vs. shape  (144, 144)\n",
      "None\n",
      "Rank  92  vs. shape  (100, 100)\n",
      "None\n"
     ]
    }
   ],
   "source": [
    "### Linear system assembly and restrictions\n",
    "\n",
    "# assemble the lhs of the linear system\n",
    "Ak = [assemble.assemble('tr(hess(u)) * tr(hess(v)) * dx', kvs, bfuns=[('u',1), ('v',1)], geo=g) for g in geos]\n",
    "#Ak = [assemble.assemble('inner(grad(grad(u)), grad(grad(v))) * dx', kvs, bfuns=[('u',1), ('v',1)], geo=g) for g in geos]\n",
    "A = scipy.sparse.block_diag(Ak, format='csr')\n",
    "\n",
    "print(print(\"Rank \", np.linalg.matrix_rank(A.A), \" vs. shape \", A.shape))\n",
    "\n",
    "\n",
    "# Assemble the rhs of the linear system \n",
    "rhs = [assemble.assemble('f * v * dx', kvs, params, bfuns=[('v',1)], geo=g).ravel() for g in geos]\n",
    "# generate Neumann vector for global contribution to the right hand side, in this case it is a zero vector since g1 is zero\n",
    "N = MP.Basis@MP.assemble_surface('g1 * inner(grad(v),n) * ds', arity=1, g1=gN, boundary_idx=0)\n",
    "rhs = np.hstack(rhs) + N\n",
    "\n",
    "# Eliminate Dirichlet dofs\n",
    "BCRestr = assemble.RestrictedLinearSystem(A, rhs, bcs)\n",
    "free_dofs = LS.R_free\n",
    "\n",
    "# Eliminate the Dirichlet dofs from the interface dofs\n",
    "nnz_per_col = MP.Constr.getnnz(axis=0)\n",
    "intf_dofs = np.where(nnz_per_col > 0)[0]\n",
    "intfs = np.setdiff1d(intf_dofs, bcs[0])\n",
    "\n",
    "# Patchwise restrictions\n",
    "\"\"\"\n",
    "Akii = []\n",
    "Akbb = []\n",
    "Akbi = []\n",
    "bnd_dofs = np.concatenate([indices for indices in assemble.boundary_dofs(kvs)])\n",
    "for p in range(len(MP.mesh.patches)):\n",
    "    I = scipy.sparse.eye(Ak[p].shape[1], format='csr')\n",
    "    mask = np.zeros(Ak[p].shape[1], dtype=bool)\n",
    "\n",
    "    intindices = (intfs < MP.N_ofs[p+1]) & (intfs >= MP.N_ofs[p])\n",
    "    intindices = intfs[intindices]-MP.N_ofs[p]\n",
    "    \n",
    "    mask[intindices] = True\n",
    "    Rbb = I[mask]\n",
    "    Akbb.append(Rbb.dot(Ak[p]).dot(Rbb.T)) \n",
    "    \n",
    "    mask = np.ones(Ak[p].shape[1], dtype=bool)\n",
    "    mask[bnd_dofs] = False\n",
    "    Rii = I[mask]\n",
    "    Akii.append(Rii.dot(Ak[p]).dot(Rii.T)) \n",
    "    \n",
    "    Akbi.append(Rbb.dot(Ak[p]).dot(Rii.T))\n",
    "\"\"\" \n",
    "\n",
    "# Compute the partial matrices \n",
    "I = scipy.sparse.eye(A.shape[1], format='csr')\n",
    "mask = np.zeros(A.shape[1], dtype=bool)\n",
    "mask[list(intfs)] = True\n",
    "Rbb = I[mask]\n",
    "mask = np.ones(A.shape[1], dtype=bool)\n",
    "bnd_dofs = np.concatenate([indices for indices in assemble.boundary_dofs(kvs)])\n",
    "\n",
    "for p in range(len(patches)):\n",
    "    mask[bnd_dofs+MP.N_ofs[p]] = False\n",
    "\n",
    "Rii = I[mask]\n",
    "\n",
    "Abb = Rbb.dot(A).dot(Rbb.T)\n",
    "Aii = Rii.dot(A).dot(Rii.T)\n",
    "Abi = Rbb.dot(A).dot(Rii.T)\n",
    "Aib = Abi.T\n",
    "#print(Abi.shape)\n",
    "\n",
    "# The matrices and vectors without the Dirichlet dofs\n",
    "A = BCRestr.A\n",
    "rhs = BCRestr.b\n",
    "\n",
    "print(print(\"Rank \", np.linalg.matrix_rank(A.A), \" vs. shape \", A.shape))\n",
    "\n",
    "assert A.shape[1] == rhs.shape[0], \"Size of rhs is different to size of the matrix\"\n",
    "\n",
    "# Other method for assembly\n",
    "#def bilinear():\n",
    "#    vf = vform.VForm(2)\n",
    "#   u, v = vf.basisfuns()\n",
    "#    vf.add(vform.tr(vform.hess(u)) * vform.tr(vform.hess(v)) * vform.dx)\n",
    "#    return vf\n",
    "\n",
    "#a = bilinear()"
   ]
  },
  {
   "cell_type": "code",
   "execution_count": 339,
   "id": "fc0c98dc",
   "metadata": {},
   "outputs": [],
   "source": [
    "### Construct the constraint matrix C that immediately eliminates the columns related to Dirichlet conditions\n",
    "def construct_constraint_matrices():\n",
    "    eliminate_constraints = np.array([], dtype=int)\n",
    "    Ck = []\n",
    "    loc_dirichlet = []\n",
    "    for p in range(len(MP.mesh.patches)):\n",
    "        bndindices = (bcs[0] < MP.N_ofs[p+1]) & (bcs[0] >= MP.N_ofs[p])\n",
    "        to_eliminate = bcs[0][bndindices]-MP.N_ofs[p]\n",
    "        \n",
    "        loc, glob = cpp[p][0]\n",
    "        \n",
    "        nnz_per_row = MP.Constr1[:,loc+MP.N_ofs[p]].getnnz(axis=1)\n",
    "        result = np.where(nnz_per_row > 0)[0]\n",
    "        eliminate_constraints = np.union1d(eliminate_constraints, result)\n",
    "        \n",
    "        ck = MP.Constr1[result,MP.N_ofs[p]:MP.N_ofs[p+1]]\n",
    "        ck = np.delete(ck.A, \n",
    "                       to_eliminate, \n",
    "                       axis=1)\n",
    "                \n",
    "        q,r = np.linalg.qr(ck.T)\n",
    "        ck = scipy.sparse.csr_matrix(ck[np.abs(np.diag(r))>=1e-10])\n",
    "        \n",
    "        #if p == 3:\n",
    "        #    print(\"Ck\", result)\n",
    "        \n",
    "        Ck.append(ck)\n",
    "        loc_dirichlet.append(to_eliminate)\n",
    "\n",
    "    return Ck, scipy.sparse.block_diag(Ck), eliminate_constraints, loc_dirichlet"
   ]
  },
  {
   "cell_type": "code",
   "execution_count": 340,
   "id": "5d0e879d",
   "metadata": {},
   "outputs": [
    {
     "name": "stdout",
     "output_type": "stream",
     "text": [
      "[ 5 11 12 18 24 30 41 47]\n"
     ]
    }
   ],
   "source": [
    "Ck, C, eliminate_rows, loc_dirichlet = construct_constraint_matrices()\n",
    "print(eliminate_rows)"
   ]
  },
  {
   "cell_type": "code",
   "execution_count": 341,
   "id": "c1e08e7b",
   "metadata": {},
   "outputs": [],
   "source": [
    "def construct_primal_basis(Ak, Ck):\n",
    "    Psi = []\n",
    "    for p in range(len(patches)):\n",
    "        a = Ak[p*Ck[p].shape[1]:(p+1)*Ck[p].shape[1], p*Ck[p].shape[1]:(p+1)*Ck[p].shape[1]]\n",
    "        c = Ck[p]\n",
    "        AC = scipy.sparse.bmat(\n",
    "        [[a, c.T],\n",
    "         [c,  None   ]], format='csr')\n",
    "        RHS = np.vstack([np.zeros((a.shape[0],c.shape[0])), np.identity(c.shape[0])])\n",
    "        psi = scipy.sparse.linalg.spsolve(AC, RHS)\n",
    "        psi, delta = psi[:a.shape[0],], psi[a.shape[0]:,]\n",
    "        \n",
    "        Psi.append(psi)\n",
    "        \n",
    "    return Psi"
   ]
  },
  {
   "cell_type": "code",
   "execution_count": 342,
   "id": "267b4a38",
   "metadata": {},
   "outputs": [],
   "source": [
    "Psik=construct_primal_basis(A, Ck)\n",
    "\n",
    "PSI = scipy.sparse.bmat([[Psik[0], None, None, None],\n",
    "                         [None, Psik[1], None, None],\n",
    "                         [None, None, Psik[2], None],\n",
    "                         [None, None, None, Psik[3]]], format='csr')"
   ]
  },
  {
   "cell_type": "code",
   "execution_count": 343,
   "id": "7d9f3ef5",
   "metadata": {},
   "outputs": [],
   "source": [
    "# Prepare the jump matrix \n",
    "# I.e., eliminate the rows related to corner constraints\n",
    "B = MP.Constr1\n",
    "B = scipy.sparse.csr_matrix(np.delete(B.A, eliminate_rows, axis=0))\n",
    "B = B@free_dofs.T"
   ]
  },
  {
   "cell_type": "code",
   "execution_count": 344,
   "id": "f74c30d9",
   "metadata": {},
   "outputs": [],
   "source": [
    "# Get all the matrices\n",
    "PTAP = PSI.T@A@PSI\n",
    "PTBT = PSI.T@B.T\n",
    "BP   = B@PSI"
   ]
  },
  {
   "cell_type": "code",
   "execution_count": 348,
   "id": "2c81c49b",
   "metadata": {},
   "outputs": [
    {
     "name": "stdout",
     "output_type": "stream",
     "text": [
      "Rank  10  vs. shape  (12, 12)\n"
     ]
    }
   ],
   "source": [
    "### Set up the linear system\n",
    "#A_ieti = scipy.sparse.bmat(\n",
    "#    [[A,    C.T,  None, B.T  ],\n",
    "#     [C,    None, None, None ],\n",
    "#     [None, None, PTAP, PTBT ],\n",
    "#     [B,    None, BP,   None ]], format='csr')\n",
    "\n",
    "BL = scipy.sparse.bmat([[B,    np.zeros((B.shape[0],C.shape[0])), BP]], format='csr')\n",
    "BR = scipy.sparse.bmat([[B.T],    \n",
    "                        [np.zeros((C.shape[0],B.shape[0]))], \n",
    "                        [PTBT]], format='csr')\n",
    "A0 = scipy.sparse.bmat(\n",
    "    [[A,    C.T,  None],\n",
    "     [C,    None, None],\n",
    "     [None, None, PTAP]], format='csr')\n",
    "\n",
    "print(\"Rank \", np.linalg.matrix_rank(PTAP.A), \" vs. shape \", PTAP.shape)\n",
    "\n",
    "b = np.hstack((rhs, np.zeros(C.shape[0],), PSI.T.dot(rhs), np.zeros(B.shape[0],)))\n",
    "\n",
    "BR = scipy.sparse.linalg.aslinearoperator(BR)\n",
    "BL = scipy.sparse.linalg.aslinearoperator(BL)\n",
    "A0inv = solvers.make_solver(A0.A, spd=False)\n",
    "\n",
    "F = BL@A0inv.dot(BR)\n",
    "\n",
    "TR = np.hstack((rhs, np.zeros((C.shape[0],)), PSI.T.dot(rhs)))\n",
    "b = BL@(A0inv.dot(TR))\n",
    "\n",
    "\"\"\"\n",
    "A0inv = scipy.sparse.linalg.spsolve(A0, BR.A)\n",
    "F = BL@A0inv\n",
    "\n",
    "A0inv = scipy.sparse.linalg.spsolve(A0, TR)\n",
    "b = BL@A0inv\n",
    "\"\"\""
   ]
  },
  {
   "cell_type": "code",
   "execution_count": 349,
   "id": "91c5cd36",
   "metadata": {},
   "outputs": [],
   "source": [
    "### Dirichlet preconditioner MsD\n",
    "B_gamma = MP.Constr1\n",
    "B_gamma = scipy.sparse.csr_matrix(np.delete(B_gamma.A, eliminate_rows, axis=0))\n",
    "B_gamma = B_gamma@Rbb.T\n",
    "\n",
    "#print(np.linalg.matrix_rank(Rbb.A, 1e-8))\n",
    "#print(B_gamma.shape)\n",
    "\n",
    "#Aib = scipy.sparse.linalg.aslinearoperator(Aib)\n",
    "AiiinvB = scipy.sparse.linalg.spsolve(Aii, Aib.A)\n",
    "S = Abb - Abi@AiiinvB\n",
    "D = np.abs(B_gamma).sum(axis=0)\n",
    "D = [1/(1+D[0,v]) for v in range(D.shape[1])]\n",
    "D = scipy.sparse.diags(D, format='csr')\n",
    "\n",
    "BgD = B_gamma@D\n",
    "MsD = BgD@S@BgD.T    "
   ]
  },
  {
   "cell_type": "code",
   "execution_count": 350,
   "id": "73fc630d",
   "metadata": {},
   "outputs": [
    {
     "data": {
      "text/plain": [
       "(array([ 0.        , -0.20526476,  0.06525951,  0.60448661, -1.73040516,\n",
       "         0.        , -0.11271134, -0.03318296,  0.03782388,  0.23326326,\n",
       "        -1.86008112,  0.56011525,  0.08494259, -0.09961101,  0.        ,\n",
       "         0.77235306, -0.29190203, -0.0215377 ,  0.10411021,  0.        ,\n",
       "        -2.24833976,  0.86693362,  0.06504441, -0.34905573,  0.        ,\n",
       "         0.2062419 ,  0.1885617 , -0.05989426, -0.28721889,  0.        ,\n",
       "         0.        , -0.26755767,  0.04234682,  0.67891293, -1.71933103,\n",
       "         0.        , -0.20080685, -0.05644104,  0.144197  ,  0.19386317]),\n",
       " 200)"
      ]
     },
     "execution_count": 350,
     "metadata": {},
     "output_type": "execute_result"
    }
   ],
   "source": [
    "### Solve the system with PCG\n",
    "scipy.sparse.linalg.cg(F, b, x0=None, maxiter=200, M=MsD)"
   ]
  },
  {
   "cell_type": "code",
   "execution_count": null,
   "id": "050a2792",
   "metadata": {},
   "outputs": [],
   "source": [
    "plt.figsize=(8,6)\n",
    "fig, axs = plt.subplots(1, 1)\n",
    "\n",
    "for (u_func, (kvs, geo)) in zip(u_funcs, patches):\n",
    "    vis.plot_field(u_func, geo, vmin=0, vmax=1.5e-1)\n",
    "axs.axis('scaled')\n",
    "plt.colorbar();"
   ]
  },
  {
   "cell_type": "code",
   "execution_count": null,
   "id": "8048f86f",
   "metadata": {},
   "outputs": [],
   "source": []
  }
 ],
 "metadata": {
  "kernelspec": {
   "display_name": "pyigat",
   "language": "python",
   "name": "pyigat"
  },
  "language_info": {
   "codemirror_mode": {
    "name": "ipython",
    "version": 3
   },
   "file_extension": ".py",
   "mimetype": "text/x-python",
   "name": "python",
   "nbconvert_exporter": "python",
   "pygments_lexer": "ipython3",
   "version": "3.9.18"
  }
 },
 "nbformat": 4,
 "nbformat_minor": 5
}
