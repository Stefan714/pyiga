{
 "cells": [
  {
   "cell_type": "code",
   "execution_count": 1,
   "metadata": {},
   "outputs": [
    {
     "name": "stdout",
     "output_type": "stream",
     "text": [
      "Populating the interactive namespace from numpy and matplotlib\n"
     ]
    }
   ],
   "source": [
    "%pylab inline\n",
    "import scipy\n",
    "import sys\n",
    "from scipy.sparse import coo_matrix, block_diag, identity, hstack\n",
    "\n",
    "from pyiga import bspline, vform, geometry, vis, solvers\n",
    "from pyiga import assemble as Ass\n",
    "from patchmesh import *\n",
    "#from multipatch import *"
   ]
  },
  {
   "cell_type": "code",
   "execution_count": 2,
   "metadata": {},
   "outputs": [],
   "source": [
    "def PoissonEstimator(MP,f,uh):\n",
    "    n = MP.mesh.numpatches\n",
    "    indicator = np.zeros(n)\n",
    "    params = {'f': f}\n",
    "    \n",
    "    uh_per_patch = dict()\n",
    "    \n",
    "    #residual contribution\n",
    "    for p, ((kvs, geo), _) in enumerate(MP.mesh.patches):\n",
    "        \n",
    "        h = np.linalg.norm([b-a for a,b in geo.bounding_box()])\n",
    "        \n",
    "        N = tuple(kv.numdofs for kv in kvs)\n",
    "        uh_per_patch[p] = (MP.global_to_patch(p) @ uh).reshape(N)   #cache Spline Function on patch p\n",
    "        \n",
    "        params['geo'] = geo\n",
    "        params['uh_func'] = geometry.BSplineFunc(kvs, uh_per_patch[p])\n",
    "        \n",
    "        kvs0 = tuple([bspline.KnotVector(kv.mesh, 0) for kv in kvs])\n",
    "        indicator[p] = h**2 * np.sum(Ass.assemble('(f + div(grad(uh_func)))**2 * v * dx', kvs0, params))\n",
    "        \n",
    "    params = dict()\n",
    "    \n",
    "    #flux contribution\n",
    "    for i,((p1,b1,_), (p2,b2,_), flip) in enumerate(MP.intfs):\n",
    "        #print(p1, p2, flip)\n",
    "        \n",
    "        ((kvs1, geo1), _), ((kvs2, geo2), _) = MP.mesh.patches[p1], MP.mesh.patches[p2]\n",
    "        bdspec1, bdspec2 = Ass.int_to_bdspec(b1), Ass.int_to_bdspec(b2)\n",
    "        \n",
    "        bkv1, bkv2 = Ass.boundary_kv(kvs1, bdspec1), Ass.boundary_kv(kvs2, bdspec2)\n",
    "\n",
    "        geo = geo2.boundary(bdspec2)\n",
    "        params['geo'] = geo\n",
    "        \n",
    "        kv0 = tuple([bspline.KnotVector(kv.mesh, 0) for kv in bkv2])\n",
    "        h = np.sum(Ass.assemble('v * ds', kv0, params))\n",
    "        \n",
    "        params['uh_grad1'] = geometry.BSplineFunc(kvs1, uh_per_patch[p1]).transformed_jacobian(geo1).boundary(bdspec1, flip=flip) #physical gradient of uh on patch 1 (flipped if needed)\n",
    "        params['uh_grad2'] = geometry.BSplineFunc(kvs2, uh_per_patch[p2]).transformed_jacobian(geo2).boundary(bdspec2)            #physical gradient of uh on patch 2\n",
    "        #params['uh1'] = geometry.BSplineFunc(kvs1, uh_per_patch[p1]).boundary(bdspec1,flip=flip)\n",
    "        #params['uh2'] = geometry.BSplineFunc(kvs2, uh_per_patch[p2]).boundary(bdspec2)\n",
    "        normalflux_jump = np.sum(Ass.assemble('(inner(uh_grad1 - uh_grad2, n) )**2 * v * ds', kv0 ,params))\n",
    "        #print(normalflux_jump)\n",
    "\n",
    "        indicator[p1] += 0.5 * h * normalflux_jump\n",
    "        indicator[p2] += 0.5 * h * normalflux_jump\n",
    "    \n",
    "    return np.sqrt(indicator)\n",
    "\n",
    "def check_coupling(MP, u_):\n",
    "    u_pp = dict()\n",
    "\n",
    "    for i,((p1,b1,_), (p2,b2,_), flip) in enumerate(MP.intfs):\n",
    "        \n",
    "        ((kvs1,_),_), ((kvs2,_),_) = MP.mesh.patches[p1], MP.mesh.patches[p2]\n",
    "        bdspec1, bdspec2 = int_to_bdspec(b1), int_to_bdspec(b2)\n",
    "        (kv1), (kv2) = boundary_kv(kvs1, bdspec1), boundary_kv(kvs2, bdspec2, flip=flip)\n",
    "        dofs1, dofs2 = boundary_dofs(kvs1, bdspec1, ravel=True), boundary_dofs(kvs2, bdspec2, ravel=True, flip=flip)\n",
    "        \n",
    "        if p1 not in u_pp:\n",
    "            u_pp[p1]=MP.global_to_patch(p1) @ u_\n",
    "        if p2 not in u_pp:\n",
    "            u_pp[p2]=MP.global_to_patch(p2) @ u_\n",
    "          \n",
    "        P = bspline.prolongation(kv1, kv2)\n",
    "        u1, u2 = u_pp[p1][dofs1], u_pp[p2][dofs2]\n",
    "        r=norm(u2 - P @ u1)\n",
    "        \n",
    "        if r>1e-8:\n",
    "            return False\n",
    "    return True\n",
    "\n",
    "class Multipatch:\n",
    "    \"\"\"Represents a multipatch structure, consisting of a number of patches\n",
    "    together with their discretizations and the information about shared dofs\n",
    "    between patches. Nonconforming patches (both geometrically and knotwise non conforming) are allowed as long as there exists \n",
    "    a hierarchy between the interface knots\n",
    "\n",
    "    Args:\n",
    "        pm: A :class:`PatchMesh` instance representing the patches \n",
    "            via their discretization and their geometry function \n",
    "            as well as the generated mesh between the patches (vertices, interfaces).\n",
    "        \n",
    "        dir_data: A list of triplets (patch, bdspec, dir_func) prescribing the function `dir_func` to boundary dofs of `patch` on side `bdspec`.\n",
    "        \n",
    "        automatch (bool): if True, attempt to automatically apply the interface information from the PatchMesh object to couple the patches.\n",
    "            If False, the user has to manually join the patches by calling\n",
    "            :meth:`join_boundaries` as often as needed, followed by\n",
    "            :meth:`finalize`.\n",
    "    \"\"\"\n",
    "    def __init__(self, pm, dir_data, automatch=False, k=0):\n",
    "        \"\"\"Initialize a multipatch structure.\"\"\"\n",
    "        # underlying PatchMesh object describing the geometry\n",
    "        self.mesh = pm\n",
    "        # enforced regularity across patch interfaces\n",
    "        self.k = k\n",
    "        # \n",
    "        self.dir_data = dir_data\n",
    "            \n",
    "        # number of tensor product dofs per patch\n",
    "        self.n = [tuple([kv.numdofs for kv in kvs]) for ((kvs,_),_) in self.mesh.patches]\n",
    "        self.N = [np.prod(n) for n in self.n]\n",
    "        # offset to the dofs of the i-th patch\n",
    "        self.N_ofs = np.concatenate(([0], np.cumsum(self.N)))\n",
    "        # per patch, a dict of local-to-shared indices\n",
    "        self.shared_per_patch = [dict() for i in range(len(self.mesh.patches))]\n",
    "        # per shared dof, a set of local dofs (patch, index)\n",
    "        self.shared_dofs = []\n",
    "        # a list of interfaces (patch1, boundary dofs1, patch2, boundary dofs2)\n",
    "        self.intfs = set()\n",
    "\n",
    "        if automatch:\n",
    "            interfaces = self.mesh.interfaces.copy()\n",
    "            \n",
    "            for vtx in self.mesh.C_nodes.keys():\n",
    "                if len(self.mesh.C_nodes[vtx])>1:\n",
    "                    self.join_C_node(vtx)\n",
    "                    \n",
    "            for vtx in self.mesh.T_nodes.keys():\n",
    "                self.join_T_node(vtx)\n",
    "            \n",
    "            for ((p1,bd1,s1),((p2,bd2,s2),flip)) in interfaces.items():\n",
    "                if ((p2,bd2,s2),(p1,bd1,s1),flip) not in self.intfs:\n",
    "                    self.intfs.add(((p1,bd1,s1),(p2,bd2,s2),flip))\n",
    "                \n",
    "            for ((p1,bd1,s1),(p2,bd2,s2),flip) in self.intfs:\n",
    "                self.join_boundaries(p1, Ass.int_to_bdspec(bd1),s1 , p2, Ass.int_to_bdspec(bd2), s2, flip)\n",
    "            self.finalize()\n",
    "\n",
    "    @property\n",
    "    def numpatches(self):\n",
    "        \"\"\"Number of patches in the multipatch structure.\"\"\"\n",
    "        return len(self.mesh.patches)\n",
    "\n",
    "    @property\n",
    "    def numdofs(self):\n",
    "        \"\"\"Number of dofs after eliminating shared dofs.\n",
    "\n",
    "        May only be called after :func:`finalize`.\n",
    "        \"\"\"\n",
    "        return self.M_ofs[-1] + len(self.shared_dofs)\n",
    "    \n",
    "    def reset(self, automatch = False):\n",
    "        self.__init__(self.mesh, self.dir_data, automatch=automatch, k=self.k)\n",
    "    \n",
    "    def join_C_node(self, vtx):\n",
    "        \"\"\"Joins local dofs at the vertex 'vtx', representing a corner node of the mesh.\n",
    "        Corner nodes are vertices that always lie on the corner of a patch.\n",
    "        \"\"\"\n",
    "        if len(self.mesh.C_nodes[vtx])<2:\n",
    "            return\n",
    "        sd = self._new_shared_dof()\n",
    "        for (p, c) in self.mesh.C_nodes[vtx].items():\n",
    "            local_dof = Ass.corner_dofs(self.mesh.patches[p][0][0], c, ravel=True)[0]\n",
    "            self.shared_dofs[sd][p] = [[local_dof],[1.0]]\n",
    "            self.shared_per_patch[p][local_dof] = [[sd],[1.0]]\n",
    "           \n",
    "    def join_T_node(self, vtx):\n",
    "        \"\"\"Joins local dofs at the vertex 'vtx', representing a T-node in the mesh.\n",
    "        T-nodes are vertices that lie on the boundary (not a corner) of a specific patch\n",
    "        and are a corner for 2 other patches.\n",
    "        \"\"\"\n",
    "        (((p0, b), flip), (p1, c1), (p2, c2)) = self.mesh.T_nodes[vtx]\n",
    "        \n",
    "        bkv0 = Ass.boundary_kv(self.mesh.patches[p0][0][0], Ass.int_to_bdspec(b))\n",
    "        dofs0 = Ass.boundary_dofs(self.mesh.patches[p0][0][0], Ass.int_to_bdspec(b), ravel=True)\n",
    "\n",
    "        i1 = Ass.corner_dofs(self.mesh.patches[p1][0][0], c1, ravel=True)[0]\n",
    "        i2 = Ass.corner_dofs(self.mesh.patches[p2][0][0], c2, ravel=True)[0]\n",
    "        \n",
    "        is_shared = (i1 in self.shared_per_patch[p1]) ^ (i2 in self.shared_per_patch[p2]) #check if one of the local dofs of patch 1 or patch 2 is already shared by another T_node connection.\n",
    "        \n",
    "        if is_shared:\n",
    "            [sd] = self.shared_per_patch[p1][i1][0] if i1 in self.shared_per_patch[p1] else self.shared_per_patch[p2][i2][0]\n",
    "            sd_temp = self.shared_dofs[sd].copy()\n",
    "            self.delete(sd)\n",
    "        \n",
    "        #hardcoded for now\n",
    "        if {c1, c2} == {(0,0),(0,1)}: b1 = (0,0)\n",
    "        if {c1, c2} == {(1,0),(1,1)}: b1 = (0,1)\n",
    "        if {c1, c2} == {(0,0),(1,0)}: b1 = (1,0)\n",
    "        if {c1, c2} == {(1,1),(0,1)}: b1 = (1,1)\n",
    "        \n",
    "        bkv1 = Ass.boundary_kv(self.mesh.patches[p1][0][0], b1, flip=flip)\n",
    "        #kv2 = boundary_kv(self.mesh.patches[p2][0][0], b1)\n",
    "     \n",
    "        P = bspline.prolongation(bkv0[0], bkv1[0])\n",
    "        \n",
    "        if flip[0]:\n",
    "            idx=0\n",
    "        else:\n",
    "            idx=-1\n",
    "        related_dofs_idx = P[idx,:].tocoo().col\n",
    "        related_dofs = list(dofs0[related_dofs_idx])\n",
    "        related_coeffs = list(P[idx,:].data)\n",
    "        \n",
    "        sdofs=[]\n",
    "        scoeffs=[]\n",
    "        for i0, rc in zip(related_dofs, related_coeffs):\n",
    "            if i0 in self.shared_per_patch[p0]:\n",
    "                sdofs0 = self.shared_per_patch[p0][i0][0]\n",
    "                scoeffs0 = self.shared_per_patch[p0][i0][1]\n",
    "                sdofs.extend(sdofs0)\n",
    "                scoeffs.extend([rc * c for c in scoeffs0])\n",
    "            else:\n",
    "                sd = self._new_shared_dof()\n",
    "                sdofs.append(sd)\n",
    "                scoeffs.append(rc)\n",
    "                self.add_to_shared([sd], [1.0], p0, [i0], [1.0])\n",
    "                \n",
    "        if is_shared:\n",
    "            for p in sd_temp.keys():\n",
    "                self.add_to_shared(sdofs, scoeffs, p, sd_temp[p][0], sd_temp[p][1])\n",
    "                \n",
    "        if i1 not in self.shared_per_patch[p1]:\n",
    "            self.add_to_shared(sdofs, scoeffs, p1, [i1], [1.0])\n",
    "        if i2 not in self.shared_per_patch[p2]:\n",
    "            self.add_to_shared(sdofs, scoeffs, p2, [i2], [1.0])\n",
    "        \n",
    "    def add_to_shared(self, sdofs, scoeffs, p, ldofs, lcoeffs):\n",
    "        \"\"\"Joins the local dofs 'ldofs' of patch p with every \n",
    "        global dof from 'sdofs' scaled by 'scoeffs'. Duplicates will be eliminated.\n",
    "        \"\"\"\n",
    "        for sd, sc in zip(sdofs, scoeffs):\n",
    "            if p not in self.shared_dofs[sd]:\n",
    "                self.shared_dofs[sd][p] = [ldofs,[sc*coeff for coeff in lcoeffs]]\n",
    "            else:\n",
    "                dofs, coeffs = self.shared_dofs[sd][p].copy()\n",
    "                dofs = np.concatenate([dofs,ldofs])\n",
    "                coeffs = np.concatenate([coeffs,[sc*coeff for coeff in lcoeffs]])\n",
    "                unique_dofs, lookup = np.unique(dofs, return_index=True)\n",
    "            \n",
    "                self.shared_dofs[sd][p] = [list(unique_dofs), list(coeffs[lookup])]\n",
    "                \n",
    "        for i, c in zip(ldofs, lcoeffs):\n",
    "            if i not in self.shared_per_patch[p]:\n",
    "                self.shared_per_patch[p][i] = [sdofs,[c * scoeff for scoeff in scoeffs]]\n",
    "            else:\n",
    "                dofs, coeffs = self.shared_per_patch[p][i].copy()\n",
    "                dofs = np.concatenate([dofs, sdofs])\n",
    "                coeffs = np.concatenate([coeffs,[c * scoeff for scoeff in scoeffs]])\n",
    "                unique_dofs, lookup = np.unique(dofs, return_index=True)\n",
    "                    \n",
    "                self.shared_per_patch[p][i] = [list(unique_dofs), list(coeffs[lookup])]\n",
    "                \n",
    "    def delete(self, sd):\n",
    "        \"\"\"deletes the shared dof at index 'sd'. All indices of shared dofs following sd are deceased by 1.\"\"\"\n",
    "        del self.shared_dofs[sd]\n",
    "        for p in range(self.numpatches):\n",
    "            for i in self.shared_per_patch[p].copy().keys():\n",
    "                sdofs, coeffs = self.shared_per_patch[p][i].copy()\n",
    "                if sdofs == [sd]:\n",
    "                    del self.shared_per_patch[p][i]\n",
    "                else:\n",
    "                    self.shared_per_patch[p][i][0]=[int(s) if s < sd else s-1 for s in [s for s in sdofs if s!=sd]]\n",
    "                    self.shared_per_patch[p][i][1]=[c for (s,c) in zip(sdofs, coeffs) if s!=sd]\n",
    "                \n",
    "\n",
    "    def join_boundaries(self, p1, bdspec1, s1, p2, bdspec2, s2, flip=None):\n",
    "        \"\"\"Join the dofs lying along boundary `bdspec1` of patch `p1` with\n",
    "        those lying along boundary `bdspec2` of patch `p2`. \n",
    "\n",
    "        See :func:`compute_dirichlet_bc` for the format of the boundary\n",
    "        specification.\n",
    "\n",
    "        If `flip` is given, it should be a sequence of booleans indicating for\n",
    "        each coordinate axis of the boundary if the coordinates of `p2` have to\n",
    "        be flipped along that axis.\n",
    "        \n",
    "        if `k` is given, the dofs are joined in a C^k continuous manner.\n",
    "        \"\"\"\n",
    "        \n",
    "        kvs1, kvs2 = self.mesh.patches[p1][0][0], self.mesh.patches[p2][0][0]\n",
    "        if flip is None:\n",
    "            flip=(len(kvs1)-1)*(False,)\n",
    "        bkv1 = Ass.boundary_kv(kvs1,bdspec1)\n",
    "        bkv2 = Ass.boundary_kv(kvs2,bdspec2, flip=flip) \n",
    "        \n",
    "        #retrieve local dofs for each patch on the boundary\n",
    "        dofs1 = Ass.boundary_dofs(self.mesh.patches[p1][0][0], bdspec1, ravel=True, k=self.k)\n",
    "        dofs2 = Ass.boundary_dofs(self.mesh.patches[p2][0][0], bdspec2, ravel=True, flip=flip, k=self.k)\n",
    "                \n",
    "        #check for hierarchy of the boundary knot vectors. currently only supports knot vectors with equal degree.\n",
    "        if all([bspline.is_sub_space(kv1,kv2) for kv1, kv2 in zip(bkv1,bkv2)]):\n",
    "            pass\n",
    "        elif all([bspline.is_sub_space(kv2,kv1) for kv1, kv2 in zip(bkv1,bkv2)]):\n",
    "                        \n",
    "            self.intfs.remove(((p1, Ass.bdspec_to_int(bdspec1), s1),(p2, Ass.bdspec_to_int(bdspec2), s2),flip))\n",
    "            self.intfs.add(((p2, Ass.bdspec_to_int(bdspec2), s2),(p1, Ass.bdspec_to_int(bdspec1), s1),flip))\n",
    "            \n",
    "            p1, p2 = p2, p1\n",
    "            bdspec1, bdspec2 = bdspec2, bdspec1\n",
    "            bkv1, bkv2 = bkv2, bkv1\n",
    "            dofs1, dofs2 = dofs2, dofs1\n",
    "        else:\n",
    "            print('interface coupling not possible')\n",
    "            \n",
    "        #Prolongation operator  \n",
    "        if self.k==0:\n",
    "            P = bspline.prolongation(bkv1[0],bkv2[0])\n",
    "        else:\n",
    "            P = self.C1_coupling(p1, bdspec1, p2, bdspec2, flip=flip)\n",
    "           \n",
    "        for i,i1 in enumerate(dofs1):\n",
    "            \n",
    "            related_dofs_idx = P[:,i].tocoo().row\n",
    "            \n",
    "            #in cases when the coarse boundary has a bigger support, it can happen that some of the coarse dofs do not have related fine dofs (column of prolongation matrix is empty)\n",
    "            if len(related_dofs_idx) == 0:  \n",
    "                continue\n",
    "            \n",
    "            related_dofs = list(dofs2[related_dofs_idx])\n",
    "            related_coeffs = list(P[:,i].data)\n",
    "\n",
    "            if i1 in self.shared_per_patch[p1]:\n",
    "                #print(3)\n",
    "                \n",
    "                sdofs = self.shared_per_patch[p1][i1][0].copy()\n",
    "                scoeffs = self.shared_per_patch[p1][i1][1].copy()             \n",
    "                \n",
    "                #add all related fine dofs to this global index\n",
    "                self.add_to_shared(sdofs, scoeffs, p2, related_dofs, related_coeffs)\n",
    "            \n",
    "            else:\n",
    "                #print(4)\n",
    "                #create a new global index\n",
    "                sd = self._new_shared_dof()\n",
    "                \n",
    "                #add coarse dof and related fine dofs to this index\n",
    "                self.add_to_shared([sd],[1.0],p1,[i1],[1.0])\n",
    "                self.add_to_shared([sd],[1.0],p2, related_dofs, related_coeffs)\n",
    "            \n",
    "    def _new_shared_dof(self):\n",
    "        i = len(self.shared_dofs)\n",
    "        self.shared_dofs.append(dict())\n",
    "        return i\n",
    "\n",
    "    def finalize(self):\n",
    "        \"\"\"After all shared dofs have been declared using\n",
    "        :meth:`join_boundaries` or :meth:`join_dofs`, call this function to set\n",
    "        up the internal data structures.\n",
    "        \"\"\"\n",
    "        num_shared = [len(spp) for spp in self.shared_per_patch]\n",
    "        # number of local dofs per patch\n",
    "        self.M = [n - s for (n, s) in zip(self.N, num_shared)]\n",
    "        # local-to-global offset per patch\n",
    "        self.M_ofs = np.concatenate(([0], np.cumsum(self.M)))\n",
    "        \n",
    "        self.sanity_check()   \n",
    "        \n",
    "    def patch_to_global_idx(self, p, with_coeffs = False):\n",
    "        \n",
    "        N=self.N[p]\n",
    "        tpdofs = np.arange(self.N[p])\n",
    "        sdofs = np.array(list(self.shared_per_patch[p].keys()))\n",
    "        local_dofs = np.setdiff1d(tpdofs, sdofs, assume_unique=True)\n",
    "        \n",
    "        if not self.shared_per_patch[p]:\n",
    "            M=1\n",
    "        else:\n",
    "            M = np.max([len(dof[0]) for dof in self.shared_per_patch[p].values()])\n",
    "        \n",
    "        M_ofs = self.M_ofs[p]\n",
    "        g_dofs = scipy.sparse.lil_matrix((N,M),dtype=int)\n",
    "        \n",
    "        g_dofs[local_dofs,0] = np.arange(M_ofs, M_ofs + len(local_dofs))\n",
    "        \n",
    "        for s in sdofs:\n",
    "            g_dofs[s,np.arange(len(self.shared_per_patch[p][s][0]))] = np.array(self.shared_per_patch[p][s][0]) + self.M_ofs[-1]\n",
    "        \n",
    "        if with_coeffs:\n",
    "            coeffs = scipy.sparse.lil_matrix((N,M),dtype=float)\n",
    "            coeffs[local_dofs,0] = np.ones(len(local_dofs))\n",
    "            \n",
    "            for s in sdofs:\n",
    "                coeffs[s,np.arange(len(self.shared_per_patch[p][s][1]))] = np.array(self.shared_per_patch[p][s][1])\n",
    "                \n",
    "            return g_dofs, coeffs\n",
    "        \n",
    "        return g_dofs\n",
    "        \n",
    "        \n",
    "    def patch_to_global(self, p, j_global=False):\n",
    "        \"\"\"Compute a sparse matrix which maps dofs local to patch `p` to\n",
    "        the corresponding global dofs.\n",
    "\n",
    "        Args:\n",
    "            p (int): the index of the patch\n",
    "            j_global (bool): if False, the matrix has only as many columns as\n",
    "                `p` has dofs; if True, the number of columns is the sum of the\n",
    "                number of local dofs over all patches\n",
    "\n",
    "        Returns:\n",
    "            a CSR sparse matrix\n",
    "        \"\"\"\n",
    "        shape = (self.numdofs, self.N_ofs[-1] if j_global else self.N[p])\n",
    "        #n_ofs = self.N_ofs[p] if j_global else 0\n",
    "        \n",
    "        M_ofs=self.M_ofs[p]\n",
    "        tpdofs = np.arange(self.N[p])\n",
    "        \n",
    "        if self.shared_per_patch[p]:\n",
    "            sdofs = np.array(list(self.shared_per_patch[p].keys()))\n",
    "            local_dofs = np.setdiff1d(tpdofs, sdofs, assume_unique=True)\n",
    "        \n",
    "            J_shared=np.concatenate([np.array([i]*len(self.shared_per_patch[p][i][0])) for i in sdofs])  #copy local shared indices as often as they are shared.\n",
    "            I_shared=np.concatenate([self.shared_per_patch[p][i][0] + self.M_ofs[-1] for i in sdofs])    #take global indices as row indices\n",
    "            val_shared=np.concatenate([self.shared_per_patch[p][i][1] for i in sdofs])                   #take corresponding prolongation coefficients\n",
    "        \n",
    "            J=np.concatenate([local_dofs, J_shared])                                                     #non-shared local dofs are added in front\n",
    "            I=np.concatenate([np.arange(M_ofs,M_ofs + len(local_dofs)),I_shared])                        #global indices of non-shared local dofs are defined by their global offset     \n",
    "            val=np.concatenate([np.ones(len(local_dofs)),val_shared])                                    #one to one mapping so the entries are 1\n",
    "        else:\n",
    "            J ,I, val = tpdofs, np.arange(M_ofs,M_ofs + len(tpdofs)), np.ones(len(tpdofs))\n",
    "            \n",
    "        X = scipy.sparse.coo_matrix((val, (I,J)), shape=shape)\n",
    "\n",
    "        return X.tocsr()\n",
    "\n",
    "    def global_to_patch(self, p):\n",
    "        \"\"\"Compute a sparse binary matrix which maps global dofs to local dofs\n",
    "        in patch `p`. This is just the transpose of :meth:`patch_to_global` and\n",
    "        also its left-inverse.\n",
    "\n",
    "        Args:\n",
    "            p (int): the index of the patch\n",
    "\n",
    "        Returns:\n",
    "            a sparse matrix\n",
    "        \"\"\"\n",
    "        return self.patch_to_global(p).T\n",
    "\n",
    "    def assemble_system(self, problem, rhs, args=None, bfuns=None,\n",
    "            symmetric=False, format='csr', layout='blocked', **kwargs):\n",
    "        \"\"\"Assemble both the system matrix and the right-hand side vector\n",
    "        for a variational problem over the multipatch geometry.\n",
    "\n",
    "        Here `problem` represents a bilinear form and `rhs` a linear functional.\n",
    "        See :func:`assemble` for the precise meaning of the arguments.\n",
    "\n",
    "        Returns:\n",
    "            A pair `(A, b)` consisting of the sparse system matrix and the\n",
    "            right-hand side vector.\n",
    "        \"\"\"\n",
    "        n = self.numdofs\n",
    "        A = scipy.sparse.csr_matrix((n, n)).asformat(format)\n",
    "        b = np.zeros(n)\n",
    "        if args is None:\n",
    "            args = dict()\n",
    "        for p in range(self.numpatches):\n",
    "            X = self.patch_to_global(p)\n",
    "            ((kvs, geo),_) = self.mesh.patches[p]\n",
    "            args.update(geo=geo)\n",
    "            # TODO: vector-valued problems\n",
    "            A_p = Ass.assemble(problem, kvs, args=args, bfuns=bfuns,\n",
    "                    symmetric=symmetric, format=format, layout=layout,\n",
    "                    **kwargs)\n",
    "            A += X @ A_p @ X.T\n",
    "            b_p = Ass.assemble(rhs, kvs, args=args, bfuns=bfuns,\n",
    "                    symmetric=symmetric, format=format, layout=layout,\n",
    "                    **kwargs).ravel()\n",
    "            b += X @ b_p\n",
    "        return A, b\n",
    "    \n",
    "    def C1_coupling(self, p1, bdspec1, p2, bdspec2, flip=None):\n",
    "        \n",
    "        (ax1, sd1), (ax2, sd2) = bdspec1, bdspec2\n",
    "        ((kvs1, geo1),_), ((kvs2, geo2),_) = self.mesh.patches[p1], self.mesh.patches[p2]\n",
    "        sup1, sup2 = geo1.support, geo2.support\n",
    "        dim=len(kvs1)\n",
    "        if flip is None:\n",
    "            flip=(dim-1)*(False,)\n",
    " \n",
    "        bkv1, bkv2 = Ass.boundary_kv(kvs1, bdspec1), Ass.boundary_kv(kvs2, bdspec2)\n",
    "        dofs1, dofs2 = Ass.boundary_dofs(kvs1, bdspec1, ravel = True, k=1), Ass.boundary_dofs(kvs2, bdspec2, ravel = True, flip=flip, k=1)\n",
    "        G = tuple(kv.greville() for kv in kvs2)\n",
    "        G2 = G[:ax2] + (np.array([sup2[ax2][0] if sd2==0 else sup2[ax2][-1]]),) + G[ax2+1:]\n",
    "        G1 = G[:ax2] + G[ax2+1:]\n",
    "        G1 = G1[:ax1] + (np.array([sup1[ax1][0] if sd1==0 else sup1[ax1][-1]]),) + G1[ax1:] #still need to add flip\n",
    "\n",
    "        M=tuple(len(g) for g in G2)\n",
    "        m=np.prod(M)\n",
    "        n1,n2=len(dofs1), len(dofs2)\n",
    "        \n",
    "        C1, D1 = bspline.collocation_derivs_tp(kvs1, G1, derivs=1)\n",
    "        C2, D2 = bspline.collocation_derivs_tp(kvs2, G2, derivs=1)\n",
    "    \n",
    "        C1, C2 = C1[0].tocsr()[:,dofs1], C2[0].tocsr()[:,dofs2]\n",
    "        for i in range(dim):\n",
    "            D1[i], D2[i] = D1[i].tocsr()[:,dofs1], D2[i].tocsr()[:,dofs2]\n",
    "        N2=geo2.boundary(bdspec2).grid_outer_normal(G2[:ax2]+G2[ax2+1:]).reshape(m,dim)\n",
    "\n",
    "        J1=geo1.grid_jacobian(G1).reshape(m,dim,dim)\n",
    "        J2=geo2.grid_jacobian(G2).reshape(m,dim,dim)\n",
    "        \n",
    "        invJ1=np.array([inv(jac) for jac in J1[:]])\n",
    "        invJ2=np.array([inv(jac) for jac in J2[:]])\n",
    "\n",
    "        NC1=scipy.sparse.csr_matrix((m,n1))\n",
    "        for i in range(dim):\n",
    "            NC1_ = scipy.sparse.csr_matrix((m,n1))\n",
    "            for j in range(dim):\n",
    "                NC1_ += scipy.sparse.spdiags(invJ1[:,i,j],0,m,m)*D1[dim-1-j]\n",
    "            NC1 += scipy.sparse.spdiags(N2[:,i],0,m,m)*NC1_\n",
    "            \n",
    "        NC2=scipy.sparse.csr_matrix((m,n2))\n",
    "        for i in range(dim):\n",
    "            NC2_ = scipy.sparse.csr_matrix((m,n2))\n",
    "            for j in range(dim):\n",
    "                NC2_ += scipy.sparse.spdiags(invJ2[:,i,j],0,m,m)*D2[dim-1-j]\n",
    "            NC2 += scipy.sparse.spdiags(N2[:,i],0,m,m)*NC2_\n",
    "            \n",
    "        A = scipy.sparse.vstack([C1, NC1])\n",
    "        B = scipy.sparse.vstack([C2, NC2])\n",
    "        P = scipy.sparse.linalg.spsolve(B,A.A)\n",
    "        # prune matrix\n",
    "        P[np.abs(P) < 1e-15] = 0.0\n",
    "        return scipy.sparse.csr_matrix(P) \n",
    "        \n",
    "    def L2Projection(self, u):\n",
    "        M, rhs = self.assemble_system(vform.mass_vf(2), vform.L2functional_vf(2, physical=True), f=u)\n",
    "        u_ = solvers.make_solver(M, spd=True).dot(rhs)\n",
    "        return u_\n",
    "    \n",
    "    def refine(self, patches=None, mult=1, return_prol=False):\n",
    "        if isinstance(patches, dict):\n",
    "            assert max(patches.keys())<self.numpatches and min(patches.keys())>=0, \"patch index out of bounds.\"\n",
    "            patches = patches.keys()\n",
    "        elif isinstance(patches, (list, set, np.ndarray)):\n",
    "            assert max(patches)<self.numpatches and min(patches)>=0, \"patch index out of bounds.\"\n",
    "        elif patches==None:\n",
    "            patches = np.arange(self.numpatches)\n",
    "        elif np.isscalar(patches):\n",
    "            patches=(patches,)\n",
    "        else:\n",
    "            assert 0, \"unknown input type\"\n",
    "        if return_prol:\n",
    "            n=self.numdofs\n",
    "            old_kvs=[kvs for (kvs,_),_ in self.mesh.patches]\n",
    "            old_global_to_patch = [self.global_to_patch(p) for p in range(self.numpatches)]\n",
    "            \n",
    "        self.mesh.refine(patches, mult=mult)\n",
    "        self.reset(automatch=True)\n",
    "        #MP = Multipatch(self.mesh, automatch=True, k=self.k)\n",
    "        \n",
    "        if return_prol:\n",
    "            m = self.numdofs\n",
    "            P = scipy.sparse.csr_matrix((m, n))\n",
    "            \n",
    "            for p in range(self.numpatches):\n",
    "                if p in patches:\n",
    "                    kvs=old_kvs[p]\n",
    "                    new_kvs=MP.mesh.patches[p][0][0]\n",
    "                    C = bspline.prolongation_tp(kvs, new_kvs)\n",
    "                else:\n",
    "                    C = scipy.sparse.identity(self.N[p])\n",
    "\n",
    "                P += MP.patch_to_global(p) @ C @ old_global_to_patch[p]\n",
    "            factors = [1/sum([sum(dof[p][1]) for p in dof]) for dof in MP.shared_dofs]\n",
    "            P[MP.M_ofs[-1]:] = scipy.sparse.spdiags(factors, 0, len(factors), len(factors)) @ P[MP.M_ofs[-1]:]\n",
    "            return P\n",
    "        \n",
    "    def patch_refine(self, patches=None, mult=1, return_prol = False):\n",
    "        \"\"\"Refines the Mesh by splitting patches\n",
    "        \n",
    "        The dictionary `patches` specifies which patches (dict keys) are to be split \n",
    "        and how to split them (dict values: 0 to dim-1 or None)\n",
    "        \n",
    "        The `return_prol` keyword enables also the generation of a prolongation matrix from one mesh to the split mesh.\n",
    "        \n",
    "        Returns:\n",
    "            A new :class:`Multipatch` object `MP`\n",
    "            A sparse matrix `P` suitable for prolongation.\n",
    "        \"\"\"\n",
    "        if isinstance(patches, dict):\n",
    "            assert max(patches.keys())<self.numpatches and min(patches.keys())>=0, \"patch index out of bounds.\"\n",
    "        elif isinstance(patches,int):\n",
    "            #assert patches >=0 and patches < self.dim, \"dimension error.\"\n",
    "            patches = {p:patches for p in range(self.numpatches)}\n",
    "        elif isinstance(patches, (list, set, np.ndarray)):\n",
    "            assert max(patches)<self.numpatches and min(patches)>=0, \"patch index out of bounds.\"\n",
    "            patches = {p:None for p in patches}\n",
    "        elif patches==None:\n",
    "            patches = {p:None for p in range(self.numpatches)}\n",
    "        else:\n",
    "            assert 0, \"unknown input type\"\n",
    "        \n",
    "        n=self.numdofs\n",
    "        N=self.numpatches\n",
    "        \n",
    "        #M = copy.deepcopy(self.mesh)\n",
    "        old_kvs = [kvs for (kvs,_),_ in self.mesh.patches]\n",
    "        old_global_to_patch = [self.global_to_patch(p) for p in range(self.numpatches)]\n",
    "        \n",
    "        new_patches = dict()\n",
    "        new_kvs_ = dict()\n",
    "        for p in patches.keys():\n",
    "            self.split_dirichlet_data(p, self.numpatches, axis=patches[p])\n",
    "            new_patches[p], new_kvs_[p] = self.mesh.split_patch(p, axis=patches[p], mult=mult)\n",
    "        \n",
    "        #MP = Multipatch(self.mesh, automatch=True, k=self.k)\n",
    "        self.reset(automatch=True)\n",
    "        m = self.numdofs\n",
    "        \n",
    "        if return_prol:\n",
    "            P = scipy.sparse.csr_matrix((m, n))\n",
    "            for p in range(N):\n",
    "                kvs=old_kvs[p]\n",
    "                if p in new_patches:\n",
    "                    new_kvs = new_kvs_[p]\n",
    "                    S = scipy.sparse.csr_matrix((m,bspline.numdofs(new_kvs)))\n",
    "                    C =  bspline.prolongation_tp(kvs, new_kvs)\n",
    "                    \n",
    "                    for i, new_p in enumerate(new_patches[p]):\n",
    "                    \n",
    "                        val = np.ones(self.N[new_p])\n",
    "                        I = np.arange(self.N[new_p])\n",
    "                        \n",
    "                        if patches[p]==0:\n",
    "                            bdspec = (0,i)\n",
    "                            k = self.mesh.patches[new_p][0][0][0].numdofs\n",
    "                            J = np.sort(Ass.boundary_dofs(new_kvs,bdspec,ravel=True,k=k-1))\n",
    "                        elif patches[p]==1:\n",
    "                            bdspec = (1,i)\n",
    "                            k = self.mesh.patches[new_p][0][0][1].numdofs\n",
    "                            J = np.sort(Ass.boundary_dofs(new_kvs,bdspec,ravel=True,k=k-1))\n",
    "                        else:\n",
    "                            cspec=(i//2,i%2)\n",
    "                            k0=self.mesh.patches[new_p][0][0][0].numdofs\n",
    "                            k1=self.mesh.patches[new_p][0][0][1].numdofs\n",
    "                            J = np.sort(Ass.corner_dofs(new_kvs,cspec,k=[k0-1,k1-1], ravel=True))\n",
    "               \n",
    "                        R = scipy.sparse.coo_matrix((val,(I,J)),shape=(self.N[new_p],bspline.numdofs(new_kvs)))\n",
    "                        S += self.patch_to_global(new_p) @ R\n",
    "                else:\n",
    "                    S=self.patch_to_global(p)\n",
    "                    C=scipy.sparse.identity(self.N[p])\n",
    "                \n",
    "                P += S @ C @ old_global_to_patch[p]\n",
    "                \n",
    "            factors = [1/sum([sum(dof[p][1]) for p in dof]) for dof in self.shared_dofs]\n",
    "            P[self.M_ofs[-1]:] = scipy.sparse.spdiags(factors, 0, len(factors), len(factors)) @ P[self.M_ofs[-1]:]\n",
    "            return P\n",
    "        \n",
    "    def split_dirichlet_data(self, p, n, axis = None):\n",
    "        \"\"\"Splits the Dirichlet information of a patch `p`.\n",
    "    \n",
    "        Args:\n",
    "            p: patch to be split\n",
    "            n: total number of patches\n",
    "            dir_data: information of the Dirichlet condition over the whole PatchMesh structure\n",
    "            \n",
    "        Returns:\n",
    "            Modified list `dir_data` with split patches.\n",
    "        \"\"\"\n",
    "        dir_data_p = [(patch , bd, g) for (patch, bd, g) in self.dir_data if patch == p]\n",
    "    \n",
    "        if dir_data_p:\n",
    "            if axis == None:\n",
    "                self.split_dirichlet_data(p, n, 1)\n",
    "                self.split_dirichlet_data(p, n+1, 0)\n",
    "                self.split_dirichlet_data(n, n+2, 0)\n",
    "            else:\n",
    "                for (patch, bd, g) in dir_data_p:\n",
    "                    if axis == 0:\n",
    "                        if bd == 'left' or bd == 'right':\n",
    "                            self.dir_data.append((n, bd, g))\n",
    "                        if bd == 'top':\n",
    "                            self.dir_data.remove((patch, bd, g))\n",
    "                            self.dir_data.append((n, bd, g))\n",
    "                    if axis == 1:\n",
    "                        if bd == 'bottom' or bd == 'top':\n",
    "                            self.dir_data.append((n, bd, g))\n",
    "                        if bd == 'right':\n",
    "                            self.dir_data.remove((patch, bd, g))\n",
    "                            self.dir_data.append((n, bd, g))    \n",
    "\n",
    "    def compute_dirichlet_bcs(self):\n",
    "        \"\"\"Performs the same operation as the global function\n",
    "        :func:`compute_dirichlet_bcs`, but for a multipatch problem.\n",
    "\n",
    "        The sequence `dir_data` should contain triples of the form `(patch,\n",
    "        bdspec, dir_func)`.\n",
    "\n",
    "        Returns:\n",
    "            A pair `(indices, values)` suitable for passing to\n",
    "            :class:`RestrictedLinearSystem`.\n",
    "        \"\"\"\n",
    "        bcs = []\n",
    "        p2g = dict()        # cache the patch-to-global indices for efficiency\n",
    "        for (p, bdspec, g) in self.dir_data:\n",
    "            (kvs, geo), _ = self.mesh.patches[p]\n",
    "            bc = Ass.compute_dirichlet_bc(kvs, geo, bdspec, g)\n",
    "            if p not in p2g:\n",
    "                p2g[p] = self.patch_to_global_idx(p)\n",
    "            idx = p2g[p]    # maps local dofs to global dofs\n",
    "            bcs.append((*idx[bc[0],0].toarray().T, bc[1]))\n",
    "        return Ass.combine_bcs(bcs)\n",
    "    \n",
    "    def sanity_check(self):\n",
    "        for p in range(self.numpatches):\n",
    "            assert all([np.isclose(sum(coeffs),1.0) for _,coeffs in self.shared_per_patch[p].values()]), 'coupling of dofs is flawed'"
   ]
  },
  {
   "cell_type": "code",
   "execution_count": 3,
   "metadata": {},
   "outputs": [],
   "source": [
    "def doerfler_marking(errors, theta=0.9):\n",
    "    \"\"\"Given a list of errors, return a minimal list of indices such that the indexed\n",
    "    errors have norm of at least theta * norm(errors).\"\"\"\n",
    "    ix = np.argsort(errors)\n",
    "    total = norm(errors)\n",
    "    running = []\n",
    "    marked = []\n",
    "    for i in reversed(ix):\n",
    "        running.append(errors[i])\n",
    "        marked.append(i)\n",
    "        if norm(running) >= theta * total:\n",
    "            break\n",
    "    return marked"
   ]
  },
  {
   "cell_type": "code",
   "execution_count": 4,
   "metadata": {},
   "outputs": [],
   "source": [
    "def adaptive(M, dir_data, f, u_sol, ux, uy, k=0, theta=0.9, maxiter=12, plotrange=(-1,1), draw=False):\n",
    "    params=dict()\n",
    "    numdofs=[]\n",
    "    L2err=np.zeros(maxiter)\n",
    "    H1err=np.zeros(maxiter)\n",
    "    err_est=np.zeros(maxiter)\n",
    "    params['u_sol']=u_sol\n",
    "    params['ux']=ux\n",
    "    params['uy']=uy\n",
    "    \n",
    "    MP = Multipatch(M, dir_data, automatch = True, k=k)\n",
    "    \n",
    "    for iter in range(maxiter):\n",
    "        print(iter)\n",
    "        if draw:\n",
    "            MP.mesh.draw()\n",
    "            plt.axis('scaled');\n",
    "            plt.show()\n",
    "        \n",
    "        # ---------------------------------------------------------------------\n",
    "        # SOLVE\n",
    "        # ---------------------------------------------------------------------\n",
    "        \n",
    "        numdofs.append(MP.numdofs)\n",
    "        #implement Dirichlet boundary conditions\n",
    "        bcs = MP.compute_dirichlet_bcs()\n",
    "\n",
    "        # assemble the linear system\n",
    "        Kh, rhs = MP.assemble_system(vform.stiffness_vf(2), vform.L2functional_vf(2, physical=True), f=f)\n",
    "\n",
    "        #eliminate boundary conditions\n",
    "        LS = Ass.RestrictedLinearSystem(Kh, rhs, bcs)\n",
    "        u_ = LS.complete(solvers.make_solver(LS.A, spd=True).dot(LS.b))\n",
    "        #print(check_coupling(MP,u_))\n",
    "        \n",
    "        if iter== maxiter - 1:\n",
    "            L2_iter=0\n",
    "            H1_iter=0\n",
    "            for p, ((kvs,geo),_) in enumerate(MP.mesh.patches):\n",
    "                params['uh']=uh[p]\n",
    "                params['grad_uh']=uh[p].transformed_jacobian(geo)\n",
    "                params['geo']=geo\n",
    "                kvs0=tuple([bspline.KnotVector(kv.mesh,0) for kv in kvs])\n",
    "            \n",
    "                L2 = np.sum(Ass.assemble('(uh - u_sol)**2 * v * dx', kvs0, params))\n",
    "                L2_iter += L2\n",
    "                H1_iter += L2 + np.sum(Ass.assemble('norm(grad_uh - (ux, uy))**2 * v * dx', kvs0, params))\n",
    "            \n",
    "            L2err[iter] = sqrt(L2_iter)\n",
    "            H1err[iter] = sqrt(H1_iter)\n",
    "            break\n",
    "        \n",
    "        # ---------------------------------------------------------------------\n",
    "        # ESTIMATE\n",
    "        # ---------------------------------------------------------------------\n",
    "        \n",
    "        err_ind = PoissonEstimator(MP,f,u_)\n",
    "        err_est[iter] = norm(err_ind)\n",
    "\n",
    "        marked_patches = doerfler_marking(err_ind, theta)\n",
    "        marked_patches = {p:None for p in marked_patches}\n",
    "        P = MP.patch_refine(patches=marked_patches, return_prol=True)\n",
    "        \n",
    "        u_ = P @ u_\n",
    "        uh = [geometry.BSplineFunc(MP.mesh.patches[p][0][0], MP.global_to_patch(p) @ u_) for p in range(len(MP.mesh.patches))]\n",
    "        \n",
    "        ### Error to exact solution\n",
    "        L2_iter=0\n",
    "        H1_iter=0\n",
    "        for p, ((kvs,geo),_) in enumerate(MP.mesh.patches):\n",
    "            params['uh']=uh[p]\n",
    "            params['grad_uh']=uh[p].transformed_jacobian(geo)\n",
    "            params['geo']=geo\n",
    "            kvs0=tuple([bspline.KnotVector(kv.mesh,0) for kv in kvs])\n",
    "            \n",
    "            L2 = np.sum(Ass.assemble('(uh - u_sol)**2 * v * dx', kvs0, params))\n",
    "            L2_iter += L2\n",
    "            H1_iter += L2 + np.sum(Ass.assemble('norm(grad_uh - (ux, uy))**2 * v * dx', kvs0, params))\n",
    "            \n",
    "        L2err[iter] = sqrt(L2_iter)\n",
    "        H1err[iter] = sqrt(H1_iter)\n",
    "\n",
    "    # restrict solution to each individual patch\n",
    "    #uh = [geometry.BSplineFunc(MP.mesh.patches[p][0][0], MP.global_to_patch(p) @ u_) for p in range(len(MP.mesh.patches))]\n",
    "\n",
    "    #for (uh, ((kvs, geo),_)) in zip(uh, MP.mesh.patches):\n",
    "        #vis.plot_field(uh, geo, vmin=plotrange[0], vmax=plotrange[1])\n",
    "    #plt.axis('scaled')\n",
    "    #plt.colorbar();\n",
    "    \n",
    "    return u_, numdofs, L2err, H1err, err_est"
   ]
  },
  {
   "cell_type": "code",
   "execution_count": 204,
   "metadata": {},
   "outputs": [],
   "source": [
    "def uniform(M, dir_data, f, u_sol, ux, uy, k=0, maxiter=12, plotrange=(-1,1)):\n",
    "    params=dict()\n",
    "    numdofs=[]\n",
    "    L2err=np.zeros(maxiter)\n",
    "    H1err=np.zeros(maxiter)\n",
    "    params['u_sol']=u_sol\n",
    "    params['ux']=ux\n",
    "    params['uy']=uy\n",
    "    \n",
    "    for iter in range(maxiter):\n",
    "        print(iter)\n",
    "        M.draw()\n",
    "        plt.axis('scaled');\n",
    "        plt.show()\n",
    "        \n",
    "        MP = Multipatch(M, automatch = True, k=k)\n",
    "        numdofs.append(MP.numdofs)\n",
    "        #implement Dirichlet boundary conditions\n",
    "        bcs = MP.compute_dirichlet_bcs(dir_data)\n",
    "\n",
    "        # assemble the linear system\n",
    "        Kh, rhs = MP.assemble_system(vform.stiffness_vf(2), vform.L2functional_vf(2, physical=True), f=f)\n",
    "\n",
    "        #eliminate boundary conditions\n",
    "        LS = Ass.RestrictedLinearSystem(Kh, rhs, bcs)\n",
    "        u_ = LS.complete(solvers.make_solver(LS.A, spd=True).dot(LS.b))\n",
    "        #print(check_coupling(MP,u_))\n",
    "        uh = [geometry.BSplineFunc(MP.mesh.patches[p][0][0], MP.global_to_patch(p) @ u_) for p in range(len(MP.mesh.patches))]\n",
    "        \n",
    "        L2_iter=0\n",
    "        H1_iter=0\n",
    "        for p, ((kvs,geo),_) in enumerate(MP.mesh.patches):\n",
    "            params['uh']=uh[p]\n",
    "            params['grad_uh']=uh[p].transformed_jacobian(geo)\n",
    "            params['geo']=geo\n",
    "            kvs0=tuple([bspline.KnotVector(kv.mesh,0) for kv in kvs])\n",
    "            \n",
    "            L2 = np.sum(Ass.assemble('(uh - u_sol)**2 * v * dx', kvs0, params))\n",
    "            L2_iter += L2\n",
    "            H1_iter += L2 + np.sum(Ass.assemble('norm(grad_uh - (ux, uy))**2 * v * dx', kvs0, params))\n",
    "            \n",
    "        L2err[iter] = sqrt(L2_iter)\n",
    "        H1err[iter] = sqrt(H1_iter)\n",
    "        \n",
    "        if iter == maxiter - 1:\n",
    "            break\n",
    "\n",
    "        M.refine()\n",
    "    \n",
    "    return u_, numdofs, L2err, H1err"
   ]
  },
  {
   "cell_type": "code",
   "execution_count": 205,
   "metadata": {},
   "outputs": [],
   "source": [
    "#Geometries\n",
    "def Lshape(deg, N, g):\n",
    "\n",
    "    kvs = [2 * (bspline.make_knots(deg, 0.0, 1.0, N),),2 * (bspline.make_knots(deg, 0.0, 1.0, N),),2 * (bspline.make_knots(deg, 0.0, 1.0, N),)]\n",
    "\n",
    "# define geometry\n",
    "    geos = [\n",
    "        geometry.unit_square().translate((-1,-1)),\n",
    "        geometry.unit_square().translate((-1,0)),\n",
    "        geometry.unit_square()\n",
    "    ]\n",
    "\n",
    "    patches = [(k, g) for k, g in zip(kvs,geos)]\n",
    "    M = PatchMesh(patches)\n",
    "\n",
    "    # Dirichlet boundary function g\n",
    "\n",
    "    dir_data = [\n",
    "        (0, 'left', g), (0, 'bottom', g), (0, 'right', g),\n",
    "        (1, 'left', g), (1, 'top', g),\n",
    "        (2, 'top', g), (2, 'bottom', g), (2, 'right', g),\n",
    "    ]\n",
    "    return M, dir_data\n",
    "\n",
    "def Annulus(deg, N, g, r1=1, r2=2):\n",
    "    kvs = [2 * (bspline.make_knots(deg, 0.0, 1.0, N),), 2 * (bspline.make_knots(deg, 0.0, 1.0, N),),2 * (bspline.make_knots(deg, 0.0, 1.0, N),),2 * (bspline.make_knots(deg, 0.0, 1.0, N),)]\n",
    "\n",
    "    # define geometry\n",
    "    geos = [\n",
    "        geometry.quarter_annulus(r1,r2),\n",
    "        geometry.quarter_annulus(r1,r2).rotate_2d(pi/2),\n",
    "        geometry.quarter_annulus(r1,r2).rotate_2d(pi),\n",
    "        geometry.quarter_annulus(r1,r2).rotate_2d(3*pi/2)\n",
    "    ]\n",
    "\n",
    "    patches = [(k, g) for k, g in zip(kvs,geos)]\n",
    "    M = PatchMesh(patches)\n",
    "\n",
    "    dir_data = [\n",
    "        (0, 'left', g), (0, 'right', g),\n",
    "        (1, 'left', g), (1, 'right', g),\n",
    "        (2, 'left', g), (2, 'right', g),\n",
    "        (3, 'left', g), (3, 'right', g),\n",
    "    ]\n",
    "\n",
    "    return M, dir_data"
   ]
  },
  {
   "cell_type": "code",
   "execution_count": 206,
   "metadata": {},
   "outputs": [
    {
     "name": "stdout",
     "output_type": "stream",
     "text": [
      "[ 0.03007068  0.00254929  1.3602397   0.0300096   0.00254929 -0.05224652  1.91135349  0.09657124  1.3602397   1.91135349  0.04349755 -1.86150388  0.0300096   0.09657124 -1.86150388 -0.13857322]\n"
     ]
    },
    {
     "data": {
      "image/png": "[encoded data removed]",
      "text/plain": [
       "<Figure size 576x432 with 2 Axes>"
      ]
     },
     "metadata": {
      "needs_background": "light"
     },
     "output_type": "display_data"
    }
   ],
   "source": [
    "#Example 5\n",
    "\n",
    "#setup initial discretization \n",
    "deg = 2\n",
    "N=2\n",
    "kvs = 2*[2 * (bspline.make_knots(deg, 0.0, 1.0, N),),]\n",
    "\n",
    "# define geometry\n",
    "geos = [\n",
    "    geometry.unit_square(),\n",
    "    #geometry.unit_square().rotate_2d(pi/2).translate((2,0))\n",
    "    #geometry.unit_square().translate((1,0))\n",
    "]\n",
    "\n",
    "gamma=1\n",
    "f = lambda x, y: 4*(x**2+y**2)*gamma**2*pi**2*sin(gamma*(x**2+y**2)*pi)-4*gamma*pi*cos(gamma*(x**2+y**2)*pi)\n",
    "u = lambda x, y: sin(gamma*(x**2+y**2)*pi)\n",
    "g=u\n",
    "\n",
    "dir_data = [\n",
    "    (0, 'bottom', g), (0, 'left', g), (0, 'top', g), (0, 'right',g)\n",
    "    #(1, 'bottom', g), (1, 'left',g), (1, 'right', g),\n",
    "    #(1, 'bottom', g), (1, 'top',g), (1, 'right', g)\n",
    "]\n",
    "\n",
    "patches = [(k, g) for k, g in zip(kvs,geos)]\n",
    "M = PatchMesh(patches)\n",
    "#M.split_patches(dir_data=dir_data)\n",
    "\n",
    "#M.refine(0)\n",
    "MP=Multipatch(M, dir_data, automatch=True,k=0)\n",
    "u_ = MP.L2Projection(u)\n",
    "print(u_)\n",
    "u_funcs = [geometry.BSplineFunc(kvs, MP.global_to_patch(p) @ u_)\n",
    "           for p, ((kvs,_),_) in enumerate(MP.mesh.patches)]\n",
    "\n",
    "figsize(8,6)\n",
    "for (u_func, ((kvs, geo),_)) in zip(u_funcs, MP.mesh.patches):\n",
    "    vis.plot_field(u_func, geo, vmin=-1, vmax=1)\n",
    "plt.axis('scaled')\n",
    "colorbar();"
   ]
  },
  {
   "cell_type": "code",
   "execution_count": 199,
   "metadata": {},
   "outputs": [],
   "source": [
    "deg = 1\n",
    "N=1\n",
    "kvs = 2*[2 * (bspline.make_knots(deg, 0.0, 1.0, N),),]\n",
    "\n",
    "# define geometry\n",
    "geos = [\n",
    "    geometry.unit_square(),\n",
    "    #geometry.unit_square().rotate_2d(pi/2).translate((2,0))\n",
    "    #geometry.unit_square().translate((1,0))\n",
    "]\n",
    "\n",
    "f = lambda x, y: -4.0\n",
    "u = lambda x, y: x**2 + y**2\n",
    "g=u\n",
    "\n",
    "dir_data = [\n",
    "    (0, 'bottom', g), (0, 'left', g), (0, 'top', g), (0, 'right',g)\n",
    "    #(1, 'bottom', g), (1, 'left',g), (1, 'right', g),\n",
    "    #(1, 'bottom', g), (1, 'top',g), (1, 'right', g)\n",
    "]\n",
    "\n",
    "patches = [(k, g) for k, g in zip(kvs,geos)]\n",
    "M = PatchMesh(patches)\n",
    "MP=Multipatch(M, dir_data, automatch=True, k=0)\n",
    "for i in range(6):\n",
    "    MP.split_dirichlet_data(p=M.numpatches-1,n=M.numpatches,axis=(i+1)%2)\n",
    "    M.split_patch(p=M.numpatches-1,axis=(i+1)%2)\n",
    "MP.reset(automatch=True)"
   ]
  },
  {
   "cell_type": "code",
   "execution_count": 205,
   "metadata": {},
   "outputs": [
    {
     "data": {
      "image/png": "[encoded data removed]",
      "text/plain": [
       "<Figure size 576x576 with 1 Axes>"
      ]
     },
     "metadata": {
      "needs_background": "light"
     },
     "output_type": "display_data"
    }
   ],
   "source": [
    "MP.mesh.draw()\n",
    "supp=[geo.support for (_,geo),_ in MP.mesh.patches]\n",
    "for (kvs, geo),_ in MP.mesh.patches:\n",
    "    supp=geo.support\n",
    "    x=np.clip(np.linspace(supp[1][0],supp[1][1],kvs[1].numdofs),supp[1][0]+0.015,supp[1][1]-0.015)\n",
    "    y=np.clip(np.linspace(supp[0][0],supp[0][1],kvs[0].numdofs),supp[0][0]+0.015,supp[0][1]-0.015)\n",
    "    X,Y = np.meshgrid(x,y)\n",
    "    idx = (X>0.015) & (X<1-0.015) & (Y>0.015) & (Y<1-0.015) \n",
    "    pyplot.plot(X[idx], Y[idx], 'bo', marker='o', color='royalblue')\n",
    "    #pyplot.plot(X, Y, 'bo', marker='o', color='royalblue')\n",
    "    \n",
    "    x=np.linspace(supp[1][0],supp[1][1],kvs[1].numdofs)\n",
    "    y=np.linspace(supp[0][0],supp[0][1],kvs[0].numdofs)\n",
    "    X,Y = np.meshgrid(x,y)\n",
    "    pyplot.plot(X[~idx], Y[~idx], 'bo', marker='o', color='red')\n",
    "pyplot.show()"
   ]
  },
  {
   "cell_type": "code",
   "execution_count": 201,
   "metadata": {},
   "outputs": [],
   "source": [
    "bcs = MP.compute_dirichlet_bcs()"
   ]
  },
  {
   "cell_type": "code",
   "execution_count": 202,
   "metadata": {},
   "outputs": [
    {
     "data": {
      "text/plain": [
       "11"
      ]
     },
     "execution_count": 202,
     "metadata": {},
     "output_type": "execute_result"
    }
   ],
   "source": []
  },
  {
   "cell_type": "code",
   "execution_count": 203,
   "metadata": {},
   "outputs": [
    {
     "data": {
      "text/plain": [
       "11"
      ]
     },
     "execution_count": 203,
     "metadata": {},
     "output_type": "execute_result"
    }
   ],
   "source": [
    "MP.numdofs"
   ]
  },
  {
   "cell_type": "code",
   "execution_count": 155,
   "metadata": {},
   "outputs": [],
   "source": [
    "b=x<3"
   ]
  },
  {
   "cell_type": "code",
   "execution_count": 159,
   "metadata": {},
   "outputs": [
    {
     "data": {
      "text/plain": [
       "array([ True,  True, False])"
      ]
     },
     "execution_count": 159,
     "metadata": {},
     "output_type": "execute_result"
    }
   ],
   "source": [
    "b"
   ]
  },
  {
   "cell_type": "code",
   "execution_count": 160,
   "metadata": {},
   "outputs": [
    {
     "data": {
      "text/plain": [
       "array([False,  True, False])"
      ]
     },
     "execution_count": 160,
     "metadata": {},
     "output_type": "execute_result"
    }
   ],
   "source": [
    "a & b"
   ]
  },
  {
   "cell_type": "code",
   "execution_count": 73,
   "metadata": {},
   "outputs": [
    {
     "name": "stdout",
     "output_type": "stream",
     "text": [
      "[[0.01 0.49]\n",
      " [0.01 0.49]]\n",
      "[[0.51 0.99]\n",
      " [0.51 0.99]]\n",
      "[[0.51 0.99]\n",
      " [0.51 0.99]]\n"
     ]
    },
    {
     "data": {
      "image/png": "[encoded data removed]",
      "text/plain": [
       "<Figure size 432x288 with 1 Axes>"
      ]
     },
     "metadata": {
      "needs_background": "light"
     },
     "output_type": "display_data"
    }
   ],
   "source": [
    "supp=[geo.support for (_,geo),_ in MP.mesh.patches]\n",
    "for (kvs, geo),_ in MP.mesh.patches:\n",
    "    supp=geo.support\n",
    "    x=np.clip(np.linspace(supp[1][0],supp[1][1],kvs[1].numdofs),supp[1][0]+0.01,supp[1][1]-0.01)\n",
    "    y=np.clip(np.linspace(supp[0][0],supp[0][1],kvs[0].numdofs),supp[0][0]+0.01,supp[0][1]-0.01)\n",
    "    X,Y = np.meshgrid(x,y)\n",
    "    print(X)\n",
    "    pyplot.plot(X,Y,marker='o')\n",
    "pyplot.show()"
   ]
  },
  {
   "cell_type": "code",
   "execution_count": 9,
   "metadata": {},
   "outputs": [],
   "source": [
    "# Define the exact solution and right-hand side for the example problem.\n",
    "#\n",
    "# We use sympy to symbolically compute the Laplacian for the exact solution,\n",
    "# so you may need to 'pip install sympy' to be able to run this notebook.\n",
    "#\n",
    "EXAMPLE = 1 # choose: 1 or 2\n",
    "x0, y0 = 0.5, 0.5\n",
    "def generate_u_rhs(example):\n",
    "    import sympy\n",
    "    from sympy.vector import gradient\n",
    "    from sympy.abc import x, y, e\n",
    "    from sympy.utilities.lambdify import lambdify\n",
    "    \n",
    "    # specify the manufactured solution\n",
    "    if example == 1:\n",
    "        r2 = (x-x0)**2 + (y-y0)**2\n",
    "        u = sympy.sin(1 / (e + r2))\n",
    "    elif example == 2:\n",
    "        r = sympy.sqrt((x-x0)**2 + (y-y0)**2)\n",
    "        denom = e + sympy.tanh(12*r - 7) - sympy.tanh(-7)\n",
    "        u =  x * (1-x) * y * (1-y) * sympy.sin(1/ denom)\n",
    "    \n",
    "    # symbolically compute the Laplacian for the right-hand side\n",
    "    Lu = sympy.diff(u, x, x) + sympy.diff(u, y, y)\n",
    "    #symbolically compute the gradient for the solution u\n",
    "    ux, uy = sympy.diff(u,x), sympy.diff(u,y)\n",
    "    \n",
    "    return (lambdify((x, y, e), u, 'numpy'),\n",
    "            lambdify((x, y, e), -Lu, 'numpy'),\n",
    "            lambdify((x, y, e), ux, 'numpy'),\n",
    "            lambdify((x, y, e), uy, 'numpy'))\n",
    "\n",
    "sympy_u, sympy_rhs, sympy_grad_ux, sympy_grad_uy = generate_u_rhs(EXAMPLE)\n",
    "\n",
    "dim = 2\n",
    "eps = 1e-2\n",
    "    \n",
    "def u(x, y):\n",
    "    return sympy_u(x, y, eps)\n",
    "\n",
    "def ux(x, y):\n",
    "    return sympy_grad_ux(x, y, eps)\n",
    "\n",
    "def uy(x, y):\n",
    "    return sympy_grad_uy(x, y, eps)\n",
    "\n",
    "def f(x, y):\n",
    "    return sympy_rhs(x, y, eps)"
   ]
  },
  {
   "cell_type": "code",
   "execution_count": 10,
   "metadata": {},
   "outputs": [
    {
     "data": {
      "text/plain": [
       "({0: (0, 1, 2, 3)},\n",
       " {0: (KnotVector(array([0.  , 0.  , 0.25, 0.5 , 0.75, 1.  , 1.  ]), 1),\n",
       "   KnotVector(array([0.  , 0.  , 0.25, 0.5 , 0.75, 1.  , 1.  ]), 1))})"
      ]
     },
     "execution_count": 10,
     "metadata": {},
     "output_type": "execute_result"
    }
   ],
   "source": [
    "#Example 1\n",
    "\n",
    "#setup initial discretization \n",
    "deg = 1\n",
    "N=2\n",
    "kvs = [2 * (bspline.make_knots(deg, 0.0, 1.0, N),)]\n",
    "\n",
    "# define geometry\n",
    "geos = [\n",
    "    geometry.unit_square()\n",
    "]\n",
    "\n",
    "patches = [(k, g) for k, g in zip(kvs,geos)]\n",
    "M = PatchMesh(patches)\n",
    "\n",
    "#g = lambda x,y: 0\n",
    "g=u\n",
    "\n",
    "dir_data = [\n",
    "    (0, 'right', g), (0, 'bottom', g), (0, 'left', g), (0, 'top', g)\n",
    "]\n",
    "\n",
    "M.split_patches(dir_data=dir_data)"
   ]
  },
  {
   "cell_type": "code",
   "execution_count": 161,
   "metadata": {},
   "outputs": [
    {
     "name": "stdout",
     "output_type": "stream",
     "text": [
      "0\n"
     ]
    },
    {
     "data": {
      "image/png": "[encoded data removed]",
      "text/plain": [
       "<Figure size 576x576 with 1 Axes>"
      ]
     },
     "metadata": {
      "needs_background": "light"
     },
     "output_type": "display_data"
    },
    {
     "ename": "TypeError",
     "evalue": "'module' object is not callable",
     "output_type": "error",
     "traceback": [
      "\u001b[0;31m---------------------------------------------------------------------------\u001b[0m",
      "\u001b[0;31mTypeError\u001b[0m                                 Traceback (most recent call last)",
      "\u001b[0;32m<ipython-input-161-21db2930fece>\u001b[0m in \u001b[0;36m<module>\u001b[0;34m\u001b[0m\n\u001b[0;32m----> 1\u001b[0;31m \u001b[0muh\u001b[0m\u001b[0;34m,\u001b[0m \u001b[0mnumdofs\u001b[0m\u001b[0;34m,\u001b[0m \u001b[0mL2err\u001b[0m\u001b[0;34m,\u001b[0m \u001b[0mH1err\u001b[0m \u001b[0;34m=\u001b[0m \u001b[0muniform\u001b[0m\u001b[0;34m(\u001b[0m\u001b[0mcopy\u001b[0m\u001b[0;34m.\u001b[0m\u001b[0mcopy\u001b[0m\u001b[0;34m(\u001b[0m\u001b[0mM\u001b[0m\u001b[0;34m)\u001b[0m\u001b[0;34m,\u001b[0m \u001b[0mdir_data\u001b[0m\u001b[0;34m,\u001b[0m \u001b[0mf\u001b[0m\u001b[0;34m,\u001b[0m \u001b[0mu\u001b[0m\u001b[0;34m,\u001b[0m \u001b[0mux\u001b[0m\u001b[0;34m,\u001b[0m \u001b[0muy\u001b[0m\u001b[0;34m,\u001b[0m \u001b[0mmaxiter\u001b[0m\u001b[0;34m=\u001b[0m\u001b[0;36m5\u001b[0m\u001b[0;34m,\u001b[0m \u001b[0mplotrange\u001b[0m\u001b[0;34m=\u001b[0m\u001b[0;34m(\u001b[0m\u001b[0;34m-\u001b[0m\u001b[0;36m1\u001b[0m\u001b[0;34m,\u001b[0m\u001b[0;36m1\u001b[0m\u001b[0;34m)\u001b[0m\u001b[0;34m)\u001b[0m\u001b[0;34m\u001b[0m\u001b[0;34m\u001b[0m\u001b[0m\n\u001b[0m",
      "\u001b[0;32m<ipython-input-155-ee72b31f034f>\u001b[0m in \u001b[0;36muniform\u001b[0;34m(M, dir_data, f, u_sol, ux, uy, k, maxiter, plotrange)\u001b[0m\n\u001b[1;32m     36\u001b[0m             \u001b[0mkvs0\u001b[0m\u001b[0;34m=\u001b[0m\u001b[0mtuple\u001b[0m\u001b[0;34m(\u001b[0m\u001b[0;34m[\u001b[0m\u001b[0mbspline\u001b[0m\u001b[0;34m.\u001b[0m\u001b[0mKnotVector\u001b[0m\u001b[0;34m(\u001b[0m\u001b[0mkv\u001b[0m\u001b[0;34m.\u001b[0m\u001b[0mmesh\u001b[0m\u001b[0;34m,\u001b[0m\u001b[0;36m0\u001b[0m\u001b[0;34m)\u001b[0m \u001b[0;32mfor\u001b[0m \u001b[0mkv\u001b[0m \u001b[0;32min\u001b[0m \u001b[0mkvs\u001b[0m\u001b[0;34m]\u001b[0m\u001b[0;34m)\u001b[0m\u001b[0;34m\u001b[0m\u001b[0;34m\u001b[0m\u001b[0m\n\u001b[1;32m     37\u001b[0m \u001b[0;34m\u001b[0m\u001b[0m\n\u001b[0;32m---> 38\u001b[0;31m             \u001b[0mL2\u001b[0m \u001b[0;34m=\u001b[0m \u001b[0mnp\u001b[0m\u001b[0;34m.\u001b[0m\u001b[0msum\u001b[0m\u001b[0;34m(\u001b[0m\u001b[0massemble\u001b[0m\u001b[0;34m(\u001b[0m\u001b[0;34m'(uh - u_sol)**2 * v * dx'\u001b[0m\u001b[0;34m,\u001b[0m \u001b[0mkvs0\u001b[0m\u001b[0;34m,\u001b[0m \u001b[0mparams\u001b[0m\u001b[0;34m)\u001b[0m\u001b[0;34m)\u001b[0m\u001b[0;34m\u001b[0m\u001b[0;34m\u001b[0m\u001b[0m\n\u001b[0m\u001b[1;32m     39\u001b[0m             \u001b[0mL2_iter\u001b[0m \u001b[0;34m+=\u001b[0m \u001b[0mL2\u001b[0m\u001b[0;34m\u001b[0m\u001b[0;34m\u001b[0m\u001b[0m\n\u001b[1;32m     40\u001b[0m             \u001b[0mH1_iter\u001b[0m \u001b[0;34m+=\u001b[0m \u001b[0mL2\u001b[0m \u001b[0;34m+\u001b[0m \u001b[0mnp\u001b[0m\u001b[0;34m.\u001b[0m\u001b[0msum\u001b[0m\u001b[0;34m(\u001b[0m\u001b[0massemble\u001b[0m\u001b[0;34m(\u001b[0m\u001b[0;34m'norm(grad_uh - (ux, uy))**2 * v * dx'\u001b[0m\u001b[0;34m,\u001b[0m \u001b[0mkvs0\u001b[0m\u001b[0;34m,\u001b[0m \u001b[0mparams\u001b[0m\u001b[0;34m)\u001b[0m\u001b[0;34m)\u001b[0m\u001b[0;34m\u001b[0m\u001b[0;34m\u001b[0m\u001b[0m\n",
      "\u001b[0;31mTypeError\u001b[0m: 'module' object is not callable"
     ]
    }
   ],
   "source": [
    "uh, numdofs, L2err, H1err = uniform(copy.copy(M), dir_data, f, u, ux, uy, maxiter=5, plotrange=(-1,1))"
   ]
  },
  {
   "cell_type": "code",
   "execution_count": 75,
   "metadata": {},
   "outputs": [
    {
     "name": "stdout",
     "output_type": "stream",
     "text": [
      "0\n"
     ]
    },
    {
     "data": {
      "image/png": "[encoded data removed]",
      "text/plain": [
       "<Figure size 576x576 with 1 Axes>"
      ]
     },
     "metadata": {
      "needs_background": "light"
     },
     "output_type": "display_data"
    },
    {
     "ename": "RuntimeError",
     "evalue": "Factor is exactly singular",
     "output_type": "error",
     "traceback": [
      "\u001b[0;31m---------------------------------------------------------------------------\u001b[0m",
      "\u001b[0;31mRuntimeError\u001b[0m                              Traceback (most recent call last)",
      "\u001b[0;32m<ipython-input-75-c594568ffede>\u001b[0m in \u001b[0;36m<module>\u001b[0;34m\u001b[0m\n\u001b[0;32m----> 1\u001b[0;31m \u001b[0muh\u001b[0m\u001b[0;34m,\u001b[0m \u001b[0mnumdofs_a\u001b[0m\u001b[0;34m,\u001b[0m \u001b[0mL2err_a\u001b[0m\u001b[0;34m,\u001b[0m \u001b[0mH1err_a\u001b[0m\u001b[0;34m,\u001b[0m \u001b[0merr_est_a\u001b[0m \u001b[0;34m=\u001b[0m \u001b[0madaptive\u001b[0m\u001b[0;34m(\u001b[0m\u001b[0mcopy\u001b[0m\u001b[0;34m.\u001b[0m\u001b[0mcopy\u001b[0m\u001b[0;34m(\u001b[0m\u001b[0mM\u001b[0m\u001b[0;34m)\u001b[0m\u001b[0;34m,\u001b[0m \u001b[0mdir_data\u001b[0m\u001b[0;34m,\u001b[0m \u001b[0mf\u001b[0m\u001b[0;34m,\u001b[0m \u001b[0mu\u001b[0m\u001b[0;34m,\u001b[0m \u001b[0mux\u001b[0m\u001b[0;34m,\u001b[0m \u001b[0muy\u001b[0m\u001b[0;34m,\u001b[0m \u001b[0mtheta\u001b[0m\u001b[0;34m=\u001b[0m\u001b[0;36m0.9\u001b[0m\u001b[0;34m,\u001b[0m \u001b[0mmaxiter\u001b[0m\u001b[0;34m=\u001b[0m\u001b[0;36m5\u001b[0m\u001b[0;34m,\u001b[0m \u001b[0mplotrange\u001b[0m\u001b[0;34m=\u001b[0m\u001b[0;34m(\u001b[0m\u001b[0;34m-\u001b[0m\u001b[0;36m1\u001b[0m\u001b[0;34m,\u001b[0m\u001b[0;36m1\u001b[0m\u001b[0;34m)\u001b[0m\u001b[0;34m)\u001b[0m\u001b[0;34m\u001b[0m\u001b[0;34m\u001b[0m\u001b[0m\n\u001b[0m",
      "\u001b[0;32m<ipython-input-56-1d75286aa795>\u001b[0m in \u001b[0;36madaptive\u001b[0;34m(M, dir_data, f, u_sol, ux, uy, k, theta, maxiter, plotrange)\u001b[0m\n\u001b[1;32m     24\u001b[0m         \u001b[0;31m#eliminate boundary conditions\u001b[0m\u001b[0;34m\u001b[0m\u001b[0;34m\u001b[0m\u001b[0;34m\u001b[0m\u001b[0m\n\u001b[1;32m     25\u001b[0m         \u001b[0mLS\u001b[0m \u001b[0;34m=\u001b[0m \u001b[0mAss\u001b[0m\u001b[0;34m.\u001b[0m\u001b[0mRestrictedLinearSystem\u001b[0m\u001b[0;34m(\u001b[0m\u001b[0mKh\u001b[0m\u001b[0;34m,\u001b[0m \u001b[0mrhs\u001b[0m\u001b[0;34m,\u001b[0m \u001b[0mbcs\u001b[0m\u001b[0;34m)\u001b[0m\u001b[0;34m\u001b[0m\u001b[0;34m\u001b[0m\u001b[0m\n\u001b[0;32m---> 26\u001b[0;31m         \u001b[0mu_\u001b[0m \u001b[0;34m=\u001b[0m \u001b[0mLS\u001b[0m\u001b[0;34m.\u001b[0m\u001b[0mcomplete\u001b[0m\u001b[0;34m(\u001b[0m\u001b[0msolvers\u001b[0m\u001b[0;34m.\u001b[0m\u001b[0mmake_solver\u001b[0m\u001b[0;34m(\u001b[0m\u001b[0mLS\u001b[0m\u001b[0;34m.\u001b[0m\u001b[0mA\u001b[0m\u001b[0;34m,\u001b[0m \u001b[0mspd\u001b[0m\u001b[0;34m=\u001b[0m\u001b[0;32mTrue\u001b[0m\u001b[0;34m)\u001b[0m\u001b[0;34m.\u001b[0m\u001b[0mdot\u001b[0m\u001b[0;34m(\u001b[0m\u001b[0mLS\u001b[0m\u001b[0;34m.\u001b[0m\u001b[0mb\u001b[0m\u001b[0;34m)\u001b[0m\u001b[0;34m)\u001b[0m\u001b[0;34m\u001b[0m\u001b[0;34m\u001b[0m\u001b[0m\n\u001b[0m\u001b[1;32m     27\u001b[0m         \u001b[0;31m#print(check_coupling(MP,u_))\u001b[0m\u001b[0;34m\u001b[0m\u001b[0;34m\u001b[0m\u001b[0;34m\u001b[0m\u001b[0m\n\u001b[1;32m     28\u001b[0m         \u001b[0muh\u001b[0m \u001b[0;34m=\u001b[0m \u001b[0;34m[\u001b[0m\u001b[0mgeometry\u001b[0m\u001b[0;34m.\u001b[0m\u001b[0mBSplineFunc\u001b[0m\u001b[0;34m(\u001b[0m\u001b[0mMP\u001b[0m\u001b[0;34m.\u001b[0m\u001b[0mmesh\u001b[0m\u001b[0;34m.\u001b[0m\u001b[0mpatches\u001b[0m\u001b[0;34m[\u001b[0m\u001b[0mp\u001b[0m\u001b[0;34m]\u001b[0m\u001b[0;34m[\u001b[0m\u001b[0;36m0\u001b[0m\u001b[0;34m]\u001b[0m\u001b[0;34m[\u001b[0m\u001b[0;36m0\u001b[0m\u001b[0;34m]\u001b[0m\u001b[0;34m,\u001b[0m \u001b[0mMP\u001b[0m\u001b[0;34m.\u001b[0m\u001b[0mglobal_to_patch\u001b[0m\u001b[0;34m(\u001b[0m\u001b[0mp\u001b[0m\u001b[0;34m)\u001b[0m \u001b[0;34m@\u001b[0m \u001b[0mu_\u001b[0m\u001b[0;34m)\u001b[0m \u001b[0;32mfor\u001b[0m \u001b[0mp\u001b[0m \u001b[0;32min\u001b[0m \u001b[0mrange\u001b[0m\u001b[0;34m(\u001b[0m\u001b[0mlen\u001b[0m\u001b[0;34m(\u001b[0m\u001b[0mMP\u001b[0m\u001b[0;34m.\u001b[0m\u001b[0mmesh\u001b[0m\u001b[0;34m.\u001b[0m\u001b[0mpatches\u001b[0m\u001b[0;34m)\u001b[0m\u001b[0;34m)\u001b[0m\u001b[0;34m]\u001b[0m\u001b[0;34m\u001b[0m\u001b[0;34m\u001b[0m\u001b[0m\n",
      "\u001b[0;32m~/anaconda3/lib/python3.8/site-packages/pyiga-0.1.0-py3.8-linux-x86_64.egg/pyiga/operators.py\u001b[0m in \u001b[0;36mmake_solver\u001b[0;34m(B, symmetric, spd)\u001b[0m\n\u001b[1;32m    260\u001b[0m         \u001b[0;32melse\u001b[0m\u001b[0;34m:\u001b[0m\u001b[0;34m\u001b[0m\u001b[0;34m\u001b[0m\u001b[0m\n\u001b[1;32m    261\u001b[0m             \u001b[0;31m# use SuperLU (unless scipy uses UMFPACK?) -- really slow!\u001b[0m\u001b[0;34m\u001b[0m\u001b[0;34m\u001b[0m\u001b[0;34m\u001b[0m\u001b[0m\n\u001b[0;32m--> 262\u001b[0;31m             \u001b[0mspLU\u001b[0m \u001b[0;34m=\u001b[0m \u001b[0mscipy\u001b[0m\u001b[0;34m.\u001b[0m\u001b[0msparse\u001b[0m\u001b[0;34m.\u001b[0m\u001b[0mlinalg\u001b[0m\u001b[0;34m.\u001b[0m\u001b[0msplu\u001b[0m\u001b[0;34m(\u001b[0m\u001b[0mB\u001b[0m\u001b[0;34m.\u001b[0m\u001b[0mtocsc\u001b[0m\u001b[0;34m(\u001b[0m\u001b[0;34m)\u001b[0m\u001b[0;34m,\u001b[0m \u001b[0mpermc_spec\u001b[0m\u001b[0;34m=\u001b[0m\u001b[0;34m'NATURAL'\u001b[0m\u001b[0;34m)\u001b[0m\u001b[0;34m\u001b[0m\u001b[0;34m\u001b[0m\u001b[0m\n\u001b[0m\u001b[1;32m    263\u001b[0m             return scipy.sparse.linalg.LinearOperator(B.shape, dtype=B.dtype,\n\u001b[1;32m    264\u001b[0m                     matvec=spLU.solve, matmat=spLU.solve)\n",
      "\u001b[0;32m~/anaconda3/lib/python3.8/site-packages/scipy/sparse/linalg/dsolve/linsolve.py\u001b[0m in \u001b[0;36msplu\u001b[0;34m(A, permc_spec, diag_pivot_thresh, relax, panel_size, options)\u001b[0m\n\u001b[1;32m    335\u001b[0m         \u001b[0m_options\u001b[0m\u001b[0;34m[\u001b[0m\u001b[0;34m\"SymmetricMode\"\u001b[0m\u001b[0;34m]\u001b[0m \u001b[0;34m=\u001b[0m \u001b[0;32mTrue\u001b[0m\u001b[0;34m\u001b[0m\u001b[0;34m\u001b[0m\u001b[0m\n\u001b[1;32m    336\u001b[0m \u001b[0;34m\u001b[0m\u001b[0m\n\u001b[0;32m--> 337\u001b[0;31m     return _superlu.gstrf(N, A.nnz, A.data, A.indices, A.indptr,\n\u001b[0m\u001b[1;32m    338\u001b[0m                           \u001b[0mcsc_construct_func\u001b[0m\u001b[0;34m=\u001b[0m\u001b[0mcsc_construct_func\u001b[0m\u001b[0;34m,\u001b[0m\u001b[0;34m\u001b[0m\u001b[0;34m\u001b[0m\u001b[0m\n\u001b[1;32m    339\u001b[0m                           ilu=False, options=_options)\n",
      "\u001b[0;31mRuntimeError\u001b[0m: Factor is exactly singular"
     ]
    }
   ],
   "source": [
    "uh, numdofs_a, L2err_a, H1err_a, err_est_a = adaptive(copy.copy(M), dir_data, f, u, ux, uy, theta=0.9, maxiter=5, plotrange=(-1,1))"
   ]
  },
  {
   "cell_type": "code",
   "execution_count": null,
   "metadata": {},
   "outputs": [],
   "source": [
    "plt.figure(figsize=(6,6))\n",
    "plt.loglog(numdofs, L2err, 'o-',color='royalblue')\n",
    "plt.loglog(numdofs_a, L2err_a, 'o-',color='darkorange')\n",
    "plt.loglog(numdofs[3:5],[2*1e7/n**(2) for n in numdofs[3:5]],linestyle='--',color='royalblue')\n",
    "plt.legend(['uniform','adaptive','DoFs$^{-2}$'],loc='lower left',prop={'size': 12})\n",
    "plt.show()"
   ]
  },
  {
   "cell_type": "code",
   "execution_count": null,
   "metadata": {},
   "outputs": [],
   "source": [
    "log(H1err[1:]/H1err[:-1])/log(1/4)"
   ]
  },
  {
   "cell_type": "code",
   "execution_count": null,
   "metadata": {},
   "outputs": [],
   "source": [
    "plt.figure(figsize=(6,6))\n",
    "plt.loglog(numdofs, H1err, 'o-',color='royalblue')\n",
    "plt.loglog(numdofs_a, H1err_a, 'o-',color='darkorange')\n",
    "plt.loglog(numdofs[3:5],[4*1e7/n**(3/2) for n in numdofs[3:5]],linestyle='--',color='royalblue')\n",
    "plt.legend(['uniform','adaptive','DoFs$^{-3/2}$'],loc='lower left',prop={'size': 12})\n",
    "plt.show()"
   ]
  },
  {
   "cell_type": "code",
   "execution_count": null,
   "metadata": {},
   "outputs": [],
   "source": []
  },
  {
   "cell_type": "code",
   "execution_count": null,
   "metadata": {},
   "outputs": [],
   "source": [
    "H1err_a"
   ]
  },
  {
   "cell_type": "code",
   "execution_count": null,
   "metadata": {},
   "outputs": [],
   "source": [
    "for geo in geos:\n",
    "    vis.plot_field(u, geo,res=600)\n",
    "plt.axis('scaled')\n",
    "colorbar()"
   ]
  },
  {
   "cell_type": "code",
   "execution_count": null,
   "metadata": {
    "tags": []
   },
   "outputs": [],
   "source": [
    "#Example 2\n",
    "\n",
    "#setup initial discretization \n",
    "deg = 2\n",
    "N=4\n",
    "kvs = [2 * (bspline.make_knots(deg, 0.0, 1.0, N),),2 * (bspline.make_knots(deg, 0.0, 1.0, N),),2 * (bspline.make_knots(deg, 0.0, 1.0, N),),2 * (bspline.make_knots(deg, 0.0, 1.0, N),)]\n",
    "\n",
    "# define geometry\n",
    "geos = [\n",
    "    geometry.quarter_annulus(),\n",
    "    geometry.unit_square().translate((-1, 1)),\n",
    "    geometry.quarter_annulus().rotate_2d(pi).translate((-1, 3)),\n",
    "    geometry.quarter_annulus().rotate_2d(-pi/2).translate((-2, 1))\n",
    "]\n",
    "\n",
    "patches = [(k, g) for k, g in zip(kvs,geos)]\n",
    "M = PatchMesh(patches)\n",
    "\n",
    "gamma=3.\n",
    "f = lambda x, y: 4*(x**2+y**2)*gamma**2*pi**2*sin(gamma*(x**2+y**2)*pi)-4*gamma*pi*cos(gamma*(x**2+y**2)*pi)\n",
    "u = lambda x, y: sin(gamma*(x**2+y**2)*pi)\n",
    "ux = lambda x, y: 2*x*gamma*pi*cos(gamma*(x**2+y**2)*pi)\n",
    "uy = lambda x, y: 2*y*gamma*pi*cos(gamma*(x**2+y**2)*pi)\n",
    "g = u\n",
    "\n",
    "dir_data = [\n",
    "    (0, 'right', g), (0, 'bottom', g), (0, 'left', g),\n",
    "    (1, 'top', g), \n",
    "    (2, 'right', g), (2, 'bottom', g), (2, 'left', g), \n",
    "    (3, 'right', g), (3, 'bottom', g), (3, 'left', g),\n",
    "]"
   ]
  },
  {
   "cell_type": "code",
   "execution_count": null,
   "metadata": {},
   "outputs": [],
   "source": [
    "plt.figure(figsize=(6,6))\n",
    "plt.loglog(numdofs, L2err, 'o-')\n",
    "plt.loglog(numdofs_a, L2err_a, 'o-')"
   ]
  },
  {
   "cell_type": "code",
   "execution_count": null,
   "metadata": {},
   "outputs": [],
   "source": [
    "plt.figure(figsize=(6,6))\n",
    "plt.loglog(numdofs, H1err, 'o-')\n",
    "plt.loglog(numdofs_a, H1err_a, 'o-')"
   ]
  },
  {
   "cell_type": "code",
   "execution_count": null,
   "metadata": {},
   "outputs": [],
   "source": [
    "for geo in geos:\n",
    "    vis.plot_field(u, geo,res=600, physical=True, vmin=-1, vmax=1)\n",
    "plt.axis('scaled')\n",
    "colorbar()"
   ]
  },
  {
   "cell_type": "code",
   "execution_count": null,
   "metadata": {},
   "outputs": [],
   "source": []
  },
  {
   "cell_type": "code",
   "execution_count": 212,
   "metadata": {},
   "outputs": [],
   "source": [
    "def cart2pol(x, y):\n",
    "    r = np.sqrt(x**2 + y**2)\n",
    "    phi = np.arctan2(y, x)\n",
    "    return(r, phi%(2*pi))\n",
    "def u(x,y):\n",
    "    r, phi = cart2pol(x,y)\n",
    "    return r**(2/3)*sin(2*phi/3)\n",
    "def ux(x,y):\n",
    "    r, phi = cart2pol(x,y)\n",
    "    return -2./3*r**(-1./3)*sin(phi/3)\n",
    "def uy(x,y):\n",
    "    r, phi = cart2pol(x,y)\n",
    "    return 2./3*r**(-1./3)*cos(phi/3)\n",
    "\n",
    "f=lambda x,y: 0"
   ]
  },
  {
   "cell_type": "code",
   "execution_count": 213,
   "metadata": {},
   "outputs": [
    {
     "name": "stdout",
     "output_type": "stream",
     "text": [
      "0\n",
      "1\n",
      "2\n",
      "3\n",
      "4\n",
      "5\n",
      "6\n",
      "7\n",
      "8\n",
      "9\n",
      "10\n",
      "11\n",
      "12\n",
      "13\n",
      "14\n",
      "15\n",
      "16\n",
      "17\n",
      "18\n",
      "19\n"
     ]
    }
   ],
   "source": [
    "deg=2\n",
    "N=4\n",
    "M, dir_data = Lshape(deg,N,g=u)\n",
    "u_, numdofs_a, L2err_a, H1err_a, err_est_a = adaptive(M, dir_data, f, u, ux, uy, theta=0.9, maxiter=20)"
   ]
  },
  {
   "cell_type": "code",
   "execution_count": 214,
   "metadata": {},
   "outputs": [
    {
     "name": "stdout",
     "output_type": "stream",
     "text": [
      "0\n"
     ]
    },
    {
     "data": {
      "image/png": "[encoded data removed]",
      "text/plain": [
       "<Figure size 576x576 with 1 Axes>"
      ]
     },
     "metadata": {
      "needs_background": "light"
     },
     "output_type": "display_data"
    },
    {
     "ename": "TypeError",
     "evalue": "__init__() missing 1 required positional argument: 'dir_data'",
     "output_type": "error",
     "traceback": [
      "\u001b[0;31m---------------------------------------------------------------------------\u001b[0m",
      "\u001b[0;31mTypeError\u001b[0m                                 Traceback (most recent call last)",
      "\u001b[0;32m<ipython-input-214-63df0e3cf9a4>\u001b[0m in \u001b[0;36m<module>\u001b[0;34m\u001b[0m\n\u001b[1;32m      1\u001b[0m \u001b[0mM\u001b[0m\u001b[0;34m,\u001b[0m \u001b[0mdir_data\u001b[0m \u001b[0;34m=\u001b[0m \u001b[0mLshape\u001b[0m\u001b[0;34m(\u001b[0m\u001b[0mdeg\u001b[0m\u001b[0;34m,\u001b[0m \u001b[0mN\u001b[0m\u001b[0;34m,\u001b[0m \u001b[0mg\u001b[0m\u001b[0;34m=\u001b[0m\u001b[0mu\u001b[0m\u001b[0;34m)\u001b[0m\u001b[0;34m\u001b[0m\u001b[0;34m\u001b[0m\u001b[0m\n\u001b[0;32m----> 2\u001b[0;31m \u001b[0mu_\u001b[0m\u001b[0;34m,\u001b[0m \u001b[0mnumdofs\u001b[0m\u001b[0;34m,\u001b[0m \u001b[0mL2err\u001b[0m\u001b[0;34m,\u001b[0m \u001b[0mH1err\u001b[0m \u001b[0;34m=\u001b[0m \u001b[0muniform\u001b[0m\u001b[0;34m(\u001b[0m\u001b[0mM\u001b[0m\u001b[0;34m,\u001b[0m \u001b[0mdir_data\u001b[0m\u001b[0;34m,\u001b[0m \u001b[0mf\u001b[0m\u001b[0;34m,\u001b[0m \u001b[0mu\u001b[0m\u001b[0;34m,\u001b[0m \u001b[0mux\u001b[0m\u001b[0;34m,\u001b[0m \u001b[0muy\u001b[0m\u001b[0;34m,\u001b[0m \u001b[0mmaxiter\u001b[0m\u001b[0;34m=\u001b[0m\u001b[0;36m6\u001b[0m\u001b[0;34m)\u001b[0m\u001b[0;34m\u001b[0m\u001b[0;34m\u001b[0m\u001b[0m\n\u001b[0m",
      "\u001b[0;32m<ipython-input-204-abb54a632a52>\u001b[0m in \u001b[0;36muniform\u001b[0;34m(M, dir_data, f, u_sol, ux, uy, k, maxiter, plotrange)\u001b[0m\n\u001b[1;32m     14\u001b[0m         \u001b[0mplt\u001b[0m\u001b[0;34m.\u001b[0m\u001b[0mshow\u001b[0m\u001b[0;34m(\u001b[0m\u001b[0;34m)\u001b[0m\u001b[0;34m\u001b[0m\u001b[0;34m\u001b[0m\u001b[0m\n\u001b[1;32m     15\u001b[0m \u001b[0;34m\u001b[0m\u001b[0m\n\u001b[0;32m---> 16\u001b[0;31m         \u001b[0mMP\u001b[0m \u001b[0;34m=\u001b[0m \u001b[0mMultipatch\u001b[0m\u001b[0;34m(\u001b[0m\u001b[0mM\u001b[0m\u001b[0;34m,\u001b[0m \u001b[0mautomatch\u001b[0m \u001b[0;34m=\u001b[0m \u001b[0;32mTrue\u001b[0m\u001b[0;34m,\u001b[0m \u001b[0mk\u001b[0m\u001b[0;34m=\u001b[0m\u001b[0mk\u001b[0m\u001b[0;34m)\u001b[0m\u001b[0;34m\u001b[0m\u001b[0;34m\u001b[0m\u001b[0m\n\u001b[0m\u001b[1;32m     17\u001b[0m         \u001b[0mnumdofs\u001b[0m\u001b[0;34m.\u001b[0m\u001b[0mappend\u001b[0m\u001b[0;34m(\u001b[0m\u001b[0mMP\u001b[0m\u001b[0;34m.\u001b[0m\u001b[0mnumdofs\u001b[0m\u001b[0;34m)\u001b[0m\u001b[0;34m\u001b[0m\u001b[0;34m\u001b[0m\u001b[0m\n\u001b[1;32m     18\u001b[0m         \u001b[0;31m#implement Dirichlet boundary conditions\u001b[0m\u001b[0;34m\u001b[0m\u001b[0;34m\u001b[0m\u001b[0;34m\u001b[0m\u001b[0m\n",
      "\u001b[0;31mTypeError\u001b[0m: __init__() missing 1 required positional argument: 'dir_data'"
     ]
    }
   ],
   "source": [
    "M, dir_data = Lshape(deg, N, g=u)\n",
    "u_, numdofs, L2err, H1err = uniform(M, dir_data, f, u, ux, uy, maxiter=6)"
   ]
  },
  {
   "cell_type": "code",
   "execution_count": 215,
   "metadata": {},
   "outputs": [
    {
     "data": {
      "image/png": "[encoded data removed]",
      "text/plain": [
       "<Figure size 432x432 with 1 Axes>"
      ]
     },
     "metadata": {
      "needs_background": "light"
     },
     "output_type": "display_data"
    }
   ],
   "source": [
    "plt.figure(figsize=(6,6))\n",
    "#plt.loglog(numdofs, L2err, 'o-',color='royalblue')\n",
    "plt.loglog(numdofs_a, L2err_a, 'o-',color='darkorange')\n",
    "#plt.loglog(numdofs[3:5],[0.02/n**(2/3) for n in numdofs[2:4]],linestyle='--',color='royalblue')\n",
    "plt.loglog(numdofs_a[18:22],[0.015/n**(3/2) for n in numdofs_a[18:22]],linestyle='--',color='darkorange')\n",
    "plt.legend(['uniform','adaptive','DoFs$^{-2/3}$','DoFs$^{-3/2}$'],loc='lower left',prop={'size': 12})\n",
    "plt.show()"
   ]
  },
  {
   "cell_type": "code",
   "execution_count": 217,
   "metadata": {},
   "outputs": [
    {
     "data": {
      "image/png": "[encoded data removed]",
      "text/plain": [
       "<Figure size 432x432 with 1 Axes>"
      ]
     },
     "metadata": {
      "needs_background": "light"
     },
     "output_type": "display_data"
    }
   ],
   "source": [
    "plt.figure(figsize=(6,6))\n",
    "#plt.loglog(numdofs, H1err, 'o-',color='royalblue')\n",
    "plt.loglog(numdofs_a, H1err_a, 'o-',color='darkorange')\n",
    "#plt.loglog(numdofs[3:5],[0.04/n**(1/3) for n in numdofs[2:4]],linestyle='--',color='royalblue')\n",
    "plt.loglog(numdofs_a[18:22],[0.7/n**(2/2) for n in numdofs_a[18:22]],linestyle='--',color='darkorange')\n",
    "plt.legend(['uniform','adaptive','DoFs$^{-1/3}$','DoFs$^{-1}$'],loc='lower left',prop={'size': 12})\n",
    "plt.show()"
   ]
  },
  {
   "cell_type": "code",
   "execution_count": null,
   "metadata": {},
   "outputs": [],
   "source": [
    "fig=plt.figure(figsize=(5,5))\n",
    "for ((_,geo),_) in M.patches:\n",
    "    vis.plot_field(u, geo,res=600, physical=True, vmin=0, vmax=1)\n",
    "plt.axis('scaled')\n",
    "colorbar()"
   ]
  },
  {
   "cell_type": "code",
   "execution_count": null,
   "metadata": {},
   "outputs": [],
   "source": [
    "#Example 4\n",
    "\n",
    "# source term f and Dirichlet boundary function g\n",
    "def generate_u_rhs():\n",
    "    import sympy\n",
    "    from sympy.abc import x, y, e\n",
    "    from sympy.utilities.lambdify import lambdify\n",
    "    \n",
    "    # specify the manufactured solution\n",
    "    u= x * sympy.sin(1 / (e + x**2))\n",
    "    \n",
    "    # symbolically compute the Laplacian for the right-hand side\n",
    "    Lu = sympy.diff(u, x, x) + sympy.diff(u, y, y)\n",
    "    ux, uy = sympy.diff(u,x), sympy.diff(u,y)\n",
    "    return (lambdify((x, y, e), u, 'numpy'),\n",
    "            lambdify((x, y, e), -Lu, 'numpy'),\n",
    "            lambdify((x, y, e), ux, 'numpy'),\n",
    "            lambdify((x, y, e), uy, 'numpy'))\n",
    "\n",
    "sympy_u, sympy_rhs, sympy_ux, sympy_uy = generate_u_rhs()\n",
    "\n",
    "eps = 1e-2\n",
    "\n",
    "def u(x, y):\n",
    "    return sympy_u(x, y, eps)\n",
    "\n",
    "def f(x, y):\n",
    "    return sympy_rhs(x, y, eps)\n",
    "\n",
    "def ux(x, y):\n",
    "    return sympy_ux(x, y, eps)\n",
    "\n",
    "def uy(x, y):\n",
    "    return 0."
   ]
  },
  {
   "cell_type": "code",
   "execution_count": null,
   "metadata": {},
   "outputs": [],
   "source": [
    "deg=2\n",
    "N=8\n",
    "M, dir_data = Annulus(deg, N, g=u)\n",
    "u_, numdofs_a, L2err_a, H1err_a, err_est_a = adaptive(M, dir_data, f, u, ux, uy, theta=0.9, plotrange=(-0.85,0.85), maxiter=11)"
   ]
  },
  {
   "cell_type": "code",
   "execution_count": null,
   "metadata": {},
   "outputs": [],
   "source": [
    "M, dir_data = Annulus(deg, N, g=u)\n",
    "u_, numdofs, L2err, H1err = uniform(M, dir_data, f, u, ux, uy, plotrange=(-0.85,0.85), maxiter=6)"
   ]
  },
  {
   "cell_type": "code",
   "execution_count": null,
   "metadata": {},
   "outputs": [],
   "source": [
    "fig=plt.figure(figsize=(5,5))\n",
    "for ((_,geo),_) in M.patches:\n",
    "    vis.plot_field(u, geo,res=600, physical=True, vmin=-0.85, vmax=0.85)\n",
    "plt.axis('scaled')\n",
    "colorbar()"
   ]
  },
  {
   "cell_type": "code",
   "execution_count": null,
   "metadata": {},
   "outputs": [],
   "source": [
    "plt.figure(figsize=(6,6))\n",
    "plt.loglog(numdofs, L2err, 'o-',color='royalblue')\n",
    "plt.loglog(numdofs_a, L2err_a, 'o-',color='darkorange')\n",
    "plt.loglog(numdofs_a[7:],[0.1*1e6/n**(3/2) for n in numdofs_a[7:]],linestyle='--',color='red')\n",
    "plt.legend(['uniform','adaptive','DoFs$^{-3/2}$'],loc='lower left',prop={'size': 12})\n",
    "plt.show()"
   ]
  },
  {
   "cell_type": "code",
   "execution_count": null,
   "metadata": {},
   "outputs": [],
   "source": [
    "plt.figure(figsize=(6,6))\n",
    "plt.loglog(numdofs, H1err, 'o-',color='royalblue')\n",
    "plt.loglog(numdofs_a, H1err_a, 'o-',color='darkorange')\n",
    "plt.loglog(numdofs_a[7:-1],[0.7*1e6/n**(2/2) for n in numdofs_a[7:-1]],linestyle='--',color='red')\n",
    "plt.legend(['uniform','adaptive','DoFs$^{-1}$'],loc='lower left',prop={'size': 12})\n",
    "plt.show()"
   ]
  },
  {
   "cell_type": "code",
   "execution_count": null,
   "metadata": {},
   "outputs": [],
   "source": [
    "log(H1err[1:]/H1err[:-1])/log(1/2)"
   ]
  },
  {
   "cell_type": "code",
   "execution_count": null,
   "metadata": {},
   "outputs": [],
   "source": [
    "fig=plt.figure(figsize=(10,10))\n",
    "for geo in geos:\n",
    "    vis.plot_field(g, geo,res=600, physical=True, vmin=-0.85, vmax=0.85)\n",
    "plt.axis('scaled')\n",
    "colorbar()\n",
    "plt.show()"
   ]
  },
  {
   "cell_type": "code",
   "execution_count": null,
   "metadata": {},
   "outputs": [],
   "source": [
    "# Define the exact solution and right-hand side for the example problem.\n",
    "#\n",
    "# We use sympy to symbolically compute the Laplacian for the exact solution,\n",
    "# so you may need to 'pip install sympy' to be able to run this notebook.\n",
    "#\n",
    "EXAMPLE = 1  # choose: 1 or 2\n",
    "\n",
    "def generate_u_rhs(example):\n",
    "    import sympy\n",
    "    from sympy.abc import x, y, e\n",
    "    from sympy.utilities.lambdify import lambdify\n",
    "    \n",
    "    # specify the manufactured solution\n",
    "    if example == 1:\n",
    "        r2 = (x-0.5)**2 + (y-0.5)**2\n",
    "        u = x * (1-x) *y *(1-y) * sympy.sin(1. / (e + r2))\n",
    "    elif example == 2:\n",
    "        r = sympy.sqrt((x-0.5)**2 + (y-0.5)**2)\n",
    "        denom = e + sympy.tanh(12*r - 7) - sympy.tanh(-7)\n",
    "        u = x * (1-x) * y * (1-y) * sympy.sin(1 / denom)\n",
    "    \n",
    "    # symbolically compute the Laplacian for the right-hand side\n",
    "    Lu = sympy.diff(u, x, x) + sympy.diff(u, y, y)\n",
    "    return (lambdify((x, y, e), u, 'numpy'),\n",
    "            lambdify((x, y, e), -Lu, 'numpy'))\n",
    "\n",
    "sympy_u, sympy_rhs = generate_u_rhs(EXAMPLE)\n",
    "\n",
    "dim = 2\n",
    "eps = 1e-2\n",
    "\n",
    "def u_exact(x, y):\n",
    "    return sympy_u(x, y, eps)\n",
    "\n",
    "def f(x, y):\n",
    "    return sympy_rhs(x, y, eps)"
   ]
  },
  {
   "cell_type": "code",
   "execution_count": null,
   "metadata": {},
   "outputs": [],
   "source": [
    "#adaptive Example\n",
    "\n",
    "maxiter = 14\n",
    "\n",
    "#setup initial discretization \n",
    "deg = 2\n",
    "N=4\n",
    "kvs = 4*((bspline.make_knots(deg, 0.0, 1.0, N), bspline.make_knots(deg, 0.0, 1.0, N)),)\n",
    "\n",
    "# define geometry\n",
    "geos = [\n",
    "    geometry.unit_square()\n",
    "]\n",
    "\n",
    "patches = [(k, g) for k, g in zip(kvs,geos)]\n",
    "M = PatchMesh(patches)\n",
    "\n",
    "# source term f and Dirichlet boundary function g\n",
    "gamma=10\n",
    "x0, y0 = 0.5, 0.5\n",
    "#f = lambda x, y: 4*((x-x0)**2+(y-y0)**2)*gamma**2*pi**2*sin(((x-x0)**2+(y-y0)**2)*gamma*pi)-4*gamma*pi*cos(((x-x0)**2+(y-y0)**2)*gamma*pi)\n",
    "#g = lambda x,y: sin(((x-x0)**2+(y-y0)**2)*gamma*pi)\n",
    "\n",
    "g=u_exact\n",
    "\n",
    "dir_data = [\n",
    "    (0, 'left', g), (0, 'bottom', g), (0, 'right', g), (0, 'top', g)\n",
    "]\n",
    "\n",
    "M.split_patches(dir_data=dir_data)\n",
    "M.split_patches(dir_data=dir_data)\n",
    "\n",
    "for iter in range(maxiter):\n",
    "\n",
    "    MP = Multipatch(M, automatch = True)\n",
    "\n",
    "    #implement Dirichlet boundary conditions\n",
    "    bcs = MP.compute_dirichlet_bcs(dir_data)\n",
    "\n",
    "    # assemble the linear system\n",
    "    A, rhs = MP.assemble_system(vform.stiffness_vf(2), vform.L2functional_vf(2, physical=True), f=f)\n",
    "\n",
    "    #eliminate boundary conditions\n",
    "    LS = RestrictedLinearSystem(A, rhs, bcs)\n",
    "    uh = LS.complete(solvers.make_solver(LS.A, spd=False).dot(LS.b))\n",
    "\n",
    "    err_ind = PoissonEstimator(MP,f,uh)\n",
    "    \n",
    "    if iter== maxiter - 1:\n",
    "        break\n",
    "\n",
    "    marked_patches = doerfler_marking(err_ind, theta=0.9)\n",
    "    \n",
    "    M.split_patches(marked_patches,dir_data=dir_data)\n",
    "    plt.figure(figsize=(10,10))\n",
    "    plt.subplot(1,2,1)\n",
    "    M.draw(vertex_idx = False, patch_idx = False)\n",
    "    plt.axis('scaled');\n",
    "    plt.show()\n",
    "    \n",
    "# restrict solution to each individual patch\n",
    "u_funcs = [geometry.BSplineFunc(MP.mesh.patches[p][0][0], MP.global_to_patch(p) @ uh) for p in range(len(MP.mesh.patches))]"
   ]
  },
  {
   "cell_type": "code",
   "execution_count": 342,
   "metadata": {},
   "outputs": [],
   "source": [
    "np.set_printoptions(precision=3)\n",
    "geo=geometry.unit_square()#.rotate_2d(pi/2).translate((2,0))\n",
    "dim=geo.sdim\n",
    "kvs=dim*(bspline.make_knots(2,0.0,1.0,1),)\n",
    "ax,sd = 1,1\n",
    "dofs=Ass.boundary_dofs(kvs, (ax,sd), ravel=True, k=1)\n",
    "G=tuple(kv.greville() if i is not ax else np.array([kv.support()[0] if sd==0 else kv.support()[-1]]) for i, kv in enumerate(kvs))\n",
    "M=tuple(len(g) for g in G)\n",
    "m=np.prod(M)\n",
    "n=len(dofs)"
   ]
  },
  {
   "cell_type": "code",
   "execution_count": 343,
   "metadata": {},
   "outputs": [],
   "source": [
    "N=geo.boundary((ax,sd)).grid_outer_normal(G[:ax]+G[ax+1:]).reshape(np.prod(M),dim)"
   ]
  },
  {
   "cell_type": "code",
   "execution_count": 344,
   "metadata": {},
   "outputs": [
    {
     "data": {
      "text/plain": [
       "array([[ 1., -0.],\n",
       "       [ 1., -0.],\n",
       "       [ 1., -0.]])"
      ]
     },
     "execution_count": 344,
     "metadata": {},
     "output_type": "execute_result"
    }
   ],
   "source": [
    "N"
   ]
  },
  {
   "cell_type": "code",
   "execution_count": 265,
   "metadata": {},
   "outputs": [
    {
     "data": {
      "text/plain": [
       "(array([1.]), array([0. , 0.5, 1. ]))"
      ]
     },
     "execution_count": 265,
     "metadata": {},
     "output_type": "execute_result"
    }
   ],
   "source": [
    "G"
   ]
  },
  {
   "cell_type": "code",
   "execution_count": 266,
   "metadata": {},
   "outputs": [],
   "source": [
    "derivs=1\n",
    "C = bspline.collocation_derivs_tp(kvs,G,derivs=derivs)"
   ]
  },
  {
   "cell_type": "code",
   "execution_count": 267,
   "metadata": {},
   "outputs": [
    {
     "data": {
      "text/plain": [
       "array([[1.  , 0.  , 0.  , 0.  , 0.  , 0.  ],\n",
       "       [0.25, 0.5 , 0.25, 0.  , 0.  , 0.  ],\n",
       "       [0.  , 0.  , 1.  , 0.  , 0.  , 0.  ]])"
      ]
     },
     "execution_count": 267,
     "metadata": {},
     "output_type": "execute_result"
    }
   ],
   "source": [
    "C[0][0].tocsr()[:,dofs].A"
   ]
  },
  {
   "cell_type": "code",
   "execution_count": 268,
   "metadata": {},
   "outputs": [
    {
     "name": "stdout",
     "output_type": "stream",
     "text": [
      "[[1.   0.   0.   0.   0.   0.  ]\n",
      " [0.25 0.5  0.25 0.   0.   0.  ]\n",
      " [0.   0.   1.   0.   0.   0.  ]]\n",
      "[[ 2.   0.   0.  -2.   0.   0. ]\n",
      " [ 0.5  1.   0.5 -0.5 -1.  -0.5]\n",
      " [ 0.   0.   2.   0.   0.  -2. ]]\n",
      "[[-2.  2.  0.  0.  0.  0.]\n",
      " [-1.  0.  1.  0.  0.  0.]\n",
      " [ 0. -2.  2.  0.  0.  0.]]\n"
     ]
    }
   ],
   "source": [
    "for k in range(len(C)):\n",
    "    for i in range(len(C[k])):\n",
    "        C[k][i]=C[k][i].tocsr()[:,dofs]\n",
    "        print(C[k][i].A)"
   ]
  },
  {
   "cell_type": "code",
   "execution_count": 269,
   "metadata": {},
   "outputs": [],
   "source": [
    "Jacs=geo.grid_jacobian(G).reshape(m,dim,dim)"
   ]
  },
  {
   "cell_type": "code",
   "execution_count": 270,
   "metadata": {},
   "outputs": [],
   "source": [
    "invJacs=np.array([inv(jac) for jac in Jacs[:]])"
   ]
  },
  {
   "cell_type": "code",
   "execution_count": 271,
   "metadata": {},
   "outputs": [],
   "source": [
    "D=scipy.sparse.csr_matrix((m,n))\n",
    "for i in range(dim):\n",
    "    D_ = scipy.sparse.csr_matrix((m,n))\n",
    "    for j in range(dim):\n",
    "        D_ += scipy.sparse.spdiags(invJacs[:,i,j],0,m,m)*C[1][dim-1-j]\n",
    "    D += scipy.sparse.spdiags(N[:,i],0,m,m)*D_"
   ]
  },
  {
   "cell_type": "code",
   "execution_count": 259,
   "metadata": {},
   "outputs": [
    {
     "name": "stdout",
     "output_type": "stream",
     "text": [
      "[[ 1.    0.    0.    0.    0.    0.  ]\n",
      " [ 0.25  0.5   0.25  0.    0.    0.  ]\n",
      " [ 0.    0.    1.    0.    0.    0.  ]\n",
      " [-2.    0.    0.    2.    0.    0.  ]\n",
      " [-0.5  -1.   -0.5   0.5   1.    0.5 ]\n",
      " [ 0.    0.   -2.    0.    0.    2.  ]]\n"
     ]
    }
   ],
   "source": [
    "NC1=np.concatenate([np.around(C[0][0].A,3),np.around(D.A,3)],axis=0)\n",
    "print(NC1)"
   ]
  },
  {
   "cell_type": "code",
   "execution_count": 272,
   "metadata": {},
   "outputs": [
    {
     "name": "stdout",
     "output_type": "stream",
     "text": [
      "[[ 1.    0.    0.    0.    0.    0.  ]\n",
      " [ 0.25  0.5   0.25  0.    0.    0.  ]\n",
      " [ 0.    0.    1.    0.    0.    0.  ]\n",
      " [ 2.    0.    0.   -2.    0.    0.  ]\n",
      " [ 0.5   1.    0.5  -0.5  -1.   -0.5 ]\n",
      " [ 0.    0.    2.    0.    0.   -2.  ]]\n"
     ]
    }
   ],
   "source": [
    "NC2=np.concatenate([np.around(C[0][0].A,3),np.around(D.A,3)],axis=0)\n",
    "print(NC2)"
   ]
  },
  {
   "cell_type": "code",
   "execution_count": 261,
   "metadata": {},
   "outputs": [
    {
     "data": {
      "text/plain": [
       "array([[ 1., -0., -0., -0., -0., -0.],\n",
       "       [-0.,  1., -0., -0., -0., -0.],\n",
       "       [-0., -0.,  1., -0., -0., -0.],\n",
       "       [ 0.,  0.,  0.,  1.,  0.,  0.],\n",
       "       [ 0.,  0.,  0.,  0.,  1.,  0.],\n",
       "       [ 0.,  0.,  0.,  0.,  0.,  1.]])"
      ]
     },
     "execution_count": 261,
     "metadata": {},
     "output_type": "execute_result"
    }
   ],
   "source": [
    "scipy.linalg.solve(NC2, NC1)"
   ]
  },
  {
   "cell_type": "code",
   "execution_count": null,
   "metadata": {},
   "outputs": [],
   "source": [
    "dofs"
   ]
  },
  {
   "cell_type": "code",
   "execution_count": null,
   "metadata": {},
   "outputs": [],
   "source": [
    "G"
   ]
  },
  {
   "cell_type": "code",
   "execution_count": null,
   "metadata": {},
   "outputs": [],
   "source": [
    "kvs"
   ]
  },
  {
   "cell_type": "code",
   "execution_count": null,
   "metadata": {},
   "outputs": [],
   "source": [
    "flip=1"
   ]
  },
  {
   "cell_type": "code",
   "execution_count": null,
   "metadata": {},
   "outputs": [],
   "source": [
    "flip is None"
   ]
  },
  {
   "cell_type": "code",
   "execution_count": null,
   "metadata": {},
   "outputs": [],
   "source": [
    "A=scipy.sparse.spdiags(np.array([1,1,1]),0,3,3)\n",
    "B=scipy.sparse.csr_matrix((3,3))"
   ]
  },
  {
   "cell_type": "code",
   "execution_count": null,
   "metadata": {},
   "outputs": [],
   "source": [
    "B += A"
   ]
  },
  {
   "cell_type": "code",
   "execution_count": null,
   "metadata": {},
   "outputs": [],
   "source": [
    "B.A"
   ]
  },
  {
   "cell_type": "code",
   "execution_count": null,
   "metadata": {},
   "outputs": [],
   "source": [
    "a=np.array([float(2)])"
   ]
  },
  {
   "cell_type": "code",
   "execution_count": null,
   "metadata": {},
   "outputs": [],
   "source": [
    "a"
   ]
  },
  {
   "cell_type": "code",
   "execution_count": 32,
   "metadata": {},
   "outputs": [
    {
     "name": "stdout",
     "output_type": "stream",
     "text": [
      "1\n",
      "2\n",
      "3\n"
     ]
    }
   ],
   "source": [
    "for i in (1,2,3):\n",
    "    print(i)"
   ]
  },
  {
   "cell_type": "code",
   "execution_count": 5,
   "metadata": {},
   "outputs": [],
   "source": [
    "kvs1=2*(bspline.make_knots(1,0.0,1.0,2),)"
   ]
  },
  {
   "cell_type": "code",
   "execution_count": 6,
   "metadata": {},
   "outputs": [
    {
     "data": {
      "text/plain": [
       "(KnotVector(array([0. , 0. , 0.5, 1. , 1. ]), 1),\n",
       " KnotVector(array([0. , 0. , 0.5, 1. , 1. ]), 1))"
      ]
     },
     "execution_count": 6,
     "metadata": {},
     "output_type": "execute_result"
    }
   ],
   "source": [
    "kvs1"
   ]
  },
  {
   "cell_type": "code",
   "execution_count": 7,
   "metadata": {},
   "outputs": [],
   "source": [
    "kvs2=2*(bspline.KnotVector(np.array([ 0, 0, 0.25,0.5, 0.75, 1, 1]),1),)"
   ]
  },
  {
   "cell_type": "code",
   "execution_count": 8,
   "metadata": {},
   "outputs": [
    {
     "data": {
      "text/plain": [
       "(KnotVector(array([0.  , 0.  , 0.25, 0.5 , 0.75, 1.  , 1.  ]), 1),\n",
       " KnotVector(array([0.  , 0.  , 0.25, 0.5 , 0.75, 1.  , 1.  ]), 1))"
      ]
     },
     "execution_count": 8,
     "metadata": {},
     "output_type": "execute_result"
    }
   ],
   "source": [
    "kvs2"
   ]
  },
  {
   "cell_type": "code",
   "execution_count": 13,
   "metadata": {},
   "outputs": [
    {
     "data": {
      "text/plain": [
       "array([[1.  , 0.  , 0.  , 0.  , 0.  , 0.  , 0.  , 0.  , 0.  ],\n",
       "       [0.5 , 0.5 , 0.  , 0.  , 0.  , 0.  , 0.  , 0.  , 0.  ],\n",
       "       [0.  , 1.  , 0.  , 0.  , 0.  , 0.  , 0.  , 0.  , 0.  ],\n",
       "       [0.  , 0.5 , 0.5 , 0.  , 0.  , 0.  , 0.  , 0.  , 0.  ],\n",
       "       [0.  , 0.  , 1.  , 0.  , 0.  , 0.  , 0.  , 0.  , 0.  ],\n",
       "       [0.5 , 0.  , 0.  , 0.5 , 0.  , 0.  , 0.  , 0.  , 0.  ],\n",
       "       [0.25, 0.25, 0.  , 0.25, 0.25, 0.  , 0.  , 0.  , 0.  ],\n",
       "       [0.  , 0.5 , 0.  , 0.  , 0.5 , 0.  , 0.  , 0.  , 0.  ],\n",
       "       [0.  , 0.25, 0.25, 0.  , 0.25, 0.25, 0.  , 0.  , 0.  ],\n",
       "       [0.  , 0.  , 0.5 , 0.  , 0.  , 0.5 , 0.  , 0.  , 0.  ],\n",
       "       [0.  , 0.  , 0.  , 1.  , 0.  , 0.  , 0.  , 0.  , 0.  ],\n",
       "       [0.  , 0.  , 0.  , 0.5 , 0.5 , 0.  , 0.  , 0.  , 0.  ],\n",
       "       [0.  , 0.  , 0.  , 0.  , 1.  , 0.  , 0.  , 0.  , 0.  ],\n",
       "       [0.  , 0.  , 0.  , 0.  , 0.5 , 0.5 , 0.  , 0.  , 0.  ],\n",
       "       [0.  , 0.  , 0.  , 0.  , 0.  , 1.  , 0.  , 0.  , 0.  ],\n",
       "       [0.  , 0.  , 0.  , 0.5 , 0.  , 0.  , 0.5 , 0.  , 0.  ],\n",
       "       [0.  , 0.  , 0.  , 0.25, 0.25, 0.  , 0.25, 0.25, 0.  ],\n",
       "       [0.  , 0.  , 0.  , 0.  , 0.5 , 0.  , 0.  , 0.5 , 0.  ],\n",
       "       [0.  , 0.  , 0.  , 0.  , 0.25, 0.25, 0.  , 0.25, 0.25],\n",
       "       [0.  , 0.  , 0.  , 0.  , 0.  , 0.5 , 0.  , 0.  , 0.5 ],\n",
       "       [0.  , 0.  , 0.  , 0.  , 0.  , 0.  , 1.  , 0.  , 0.  ],\n",
       "       [0.  , 0.  , 0.  , 0.  , 0.  , 0.  , 0.5 , 0.5 , 0.  ],\n",
       "       [0.  , 0.  , 0.  , 0.  , 0.  , 0.  , 0.  , 1.  , 0.  ],\n",
       "       [0.  , 0.  , 0.  , 0.  , 0.  , 0.  , 0.  , 0.5 , 0.5 ],\n",
       "       [0.  , 0.  , 0.  , 0.  , 0.  , 0.  , 0.  , 0.  , 1.  ]])"
      ]
     },
     "execution_count": 13,
     "metadata": {},
     "output_type": "execute_result"
    }
   ],
   "source": [
    "bspline.prolongation_tp(kvs1,kvs2).A"
   ]
  },
  {
   "cell_type": "code",
   "execution_count": 10,
   "metadata": {},
   "outputs": [],
   "source": [
    "C0 = bspline.prolongation(kvs1[0],kvs2[0])\n",
    "C1 = bspline.prolongation(kvs1[1],kvs2[1])"
   ]
  },
  {
   "cell_type": "code",
   "execution_count": 11,
   "metadata": {},
   "outputs": [],
   "source": [
    "np.set_printoptions(linewidth=10000)\n",
    "C = scipy.sparse.kron(C1,C0).A"
   ]
  },
  {
   "cell_type": "code",
   "execution_count": 12,
   "metadata": {},
   "outputs": [
    {
     "data": {
      "text/plain": [
       "array([[1.  , 0.  , 0.  , 0.  , 0.  , 0.  , 0.  , 0.  , 0.  ],\n",
       "       [0.5 , 0.5 , 0.  , 0.  , 0.  , 0.  , 0.  , 0.  , 0.  ],\n",
       "       [0.  , 1.  , 0.  , 0.  , 0.  , 0.  , 0.  , 0.  , 0.  ],\n",
       "       [0.  , 0.5 , 0.5 , 0.  , 0.  , 0.  , 0.  , 0.  , 0.  ],\n",
       "       [0.  , 0.  , 1.  , 0.  , 0.  , 0.  , 0.  , 0.  , 0.  ],\n",
       "       [0.5 , 0.  , 0.  , 0.5 , 0.  , 0.  , 0.  , 0.  , 0.  ],\n",
       "       [0.25, 0.25, 0.  , 0.25, 0.25, 0.  , 0.  , 0.  , 0.  ],\n",
       "       [0.  , 0.5 , 0.  , 0.  , 0.5 , 0.  , 0.  , 0.  , 0.  ],\n",
       "       [0.  , 0.25, 0.25, 0.  , 0.25, 0.25, 0.  , 0.  , 0.  ],\n",
       "       [0.  , 0.  , 0.5 , 0.  , 0.  , 0.5 , 0.  , 0.  , 0.  ],\n",
       "       [0.  , 0.  , 0.  , 1.  , 0.  , 0.  , 0.  , 0.  , 0.  ],\n",
       "       [0.  , 0.  , 0.  , 0.5 , 0.5 , 0.  , 0.  , 0.  , 0.  ],\n",
       "       [0.  , 0.  , 0.  , 0.  , 1.  , 0.  , 0.  , 0.  , 0.  ],\n",
       "       [0.  , 0.  , 0.  , 0.  , 0.5 , 0.5 , 0.  , 0.  , 0.  ],\n",
       "       [0.  , 0.  , 0.  , 0.  , 0.  , 1.  , 0.  , 0.  , 0.  ],\n",
       "       [0.  , 0.  , 0.  , 0.5 , 0.  , 0.  , 0.5 , 0.  , 0.  ],\n",
       "       [0.  , 0.  , 0.  , 0.25, 0.25, 0.  , 0.25, 0.25, 0.  ],\n",
       "       [0.  , 0.  , 0.  , 0.  , 0.5 , 0.  , 0.  , 0.5 , 0.  ],\n",
       "       [0.  , 0.  , 0.  , 0.  , 0.25, 0.25, 0.  , 0.25, 0.25],\n",
       "       [0.  , 0.  , 0.  , 0.  , 0.  , 0.5 , 0.  , 0.  , 0.5 ],\n",
       "       [0.  , 0.  , 0.  , 0.  , 0.  , 0.  , 1.  , 0.  , 0.  ],\n",
       "       [0.  , 0.  , 0.  , 0.  , 0.  , 0.  , 0.5 , 0.5 , 0.  ],\n",
       "       [0.  , 0.  , 0.  , 0.  , 0.  , 0.  , 0.  , 1.  , 0.  ],\n",
       "       [0.  , 0.  , 0.  , 0.  , 0.  , 0.  , 0.  , 0.5 , 0.5 ],\n",
       "       [0.  , 0.  , 0.  , 0.  , 0.  , 0.  , 0.  , 0.  , 1.  ]])"
      ]
     },
     "execution_count": 12,
     "metadata": {},
     "output_type": "execute_result"
    }
   ],
   "source": [
    "C"
   ]
  },
  {
   "cell_type": "code",
   "execution_count": 45,
   "metadata": {},
   "outputs": [],
   "source": [
    "kv=bspline.KnotVector(np.array([0,0,0,0,0.25,0.25,0.5,0.5,0.75,0.75,1,1,1,1]),3)\n",
    "mult=2\n",
    "dim=1\n",
    "axis=1\n",
    "m_idx = len(kv.mesh)//2\n",
    "mesh_ofs = kv.mesh_span_indices()\n",
    "split_idx = mesh_ofs[m_idx]\n",
    "split_mult = mesh_ofs[m_idx]-mesh_ofs[m_idx-1]\n",
    "split_xi = kv.kv[split_idx]    # parameter value where we split the KV\n",
    "new_knots1 = np.concatenate((kv.kv[:split_idx], (kv.p+1-(mult-1)) * (split_xi,)))\n",
    "new_knots2 = np.concatenate(((kv.p) * (split_xi,), kv.kv[split_idx:]))\n",
    "new_kv = bspline.KnotVector(np.concatenate((kv.kv[:split_idx], (kv.p-mult) * (split_xi,), kv.kv[split_idx:])),kv.p)"
   ]
  },
  {
   "cell_type": "code",
   "execution_count": 46,
   "metadata": {},
   "outputs": [
    {
     "data": {
      "text/plain": [
       "KnotVector(array([0.  , 0.  , 0.  , 0.  , 0.25, 0.25, 0.5 , 0.5 , 0.5 , 0.75, 0.75,\n",
       "       1.  , 1.  , 1.  , 1.  ]), 3)"
      ]
     },
     "execution_count": 46,
     "metadata": {},
     "output_type": "execute_result"
    }
   ],
   "source": [
    "new_kv"
   ]
  },
  {
   "cell_type": "code",
   "execution_count": 47,
   "metadata": {},
   "outputs": [
    {
     "data": {
      "text/plain": [
       "array([0.  , 0.  , 0.  , 0.  , 0.25, 0.25, 0.5 ])"
      ]
     },
     "execution_count": 47,
     "metadata": {},
     "output_type": "execute_result"
    }
   ],
   "source": [
    "kv.kv[:split_idx]"
   ]
  },
  {
   "cell_type": "code",
   "execution_count": 48,
   "metadata": {},
   "outputs": [
    {
     "data": {
      "text/plain": [
       "array([0.5 , 0.75, 0.75, 1.  , 1.  , 1.  , 1.  ])"
      ]
     },
     "execution_count": 48,
     "metadata": {},
     "output_type": "execute_result"
    }
   ],
   "source": [
    "kv.kv[split_idx:]"
   ]
  },
  {
   "cell_type": "code",
   "execution_count": 3,
   "metadata": {},
   "outputs": [],
   "source": [
    "kvs=2*(bspline.make_knots(2,0.0,1.0,4),)"
   ]
  },
  {
   "cell_type": "code",
   "execution_count": 120,
   "metadata": {},
   "outputs": [],
   "source": [
    "a=Ass.boundary_dofs(kvs,(0,0),k=1,ravel=True)"
   ]
  },
  {
   "cell_type": "code",
   "execution_count": 121,
   "metadata": {},
   "outputs": [
    {
     "data": {
      "text/plain": [
       "array([ 0,  1,  2,  3,  4,  5,  6,  7,  8,  9, 10, 11])"
      ]
     },
     "execution_count": 121,
     "metadata": {},
     "output_type": "execute_result"
    }
   ],
   "source": [
    "a"
   ]
  },
  {
   "cell_type": "code",
   "execution_count": 122,
   "metadata": {},
   "outputs": [
    {
     "ename": "ValueError",
     "evalue": "not enough values to unpack (expected 2, got 1)",
     "output_type": "error",
     "traceback": [
      "\u001b[0;31m---------------------------------------------------------------------------\u001b[0m",
      "\u001b[0;31mValueError\u001b[0m                                Traceback (most recent call last)",
      "\u001b[0;32m<ipython-input-122-76594234bdb9>\u001b[0m in \u001b[0;36m<module>\u001b[0;34m\u001b[0m\n\u001b[0;32m----> 1\u001b[0;31m \u001b[0m_\u001b[0m\u001b[0;34m,\u001b[0m\u001b[0mncols\u001b[0m\u001b[0;34m=\u001b[0m\u001b[0ma\u001b[0m\u001b[0;34m.\u001b[0m\u001b[0mshape\u001b[0m\u001b[0;34m\u001b[0m\u001b[0;34m\u001b[0m\u001b[0m\n\u001b[0m",
      "\u001b[0;31mValueError\u001b[0m: not enough values to unpack (expected 2, got 1)"
     ]
    }
   ],
   "source": [
    "_,ncols=a.shape"
   ]
  },
  {
   "cell_type": "code",
   "execution_count": 123,
   "metadata": {},
   "outputs": [],
   "source": [
    "dtype = (', '.join([str(a.dtype)]*ncols))"
   ]
  },
  {
   "cell_type": "code",
   "execution_count": 23,
   "metadata": {},
   "outputs": [],
   "source": [
    "b=Ass.boundary_dofs(kvs,(1,0),k=0,ravel=True)"
   ]
  },
  {
   "cell_type": "code",
   "execution_count": 24,
   "metadata": {},
   "outputs": [
    {
     "data": {
      "text/plain": [
       "array([ 0,  6, 12, 18, 24, 30])"
      ]
     },
     "execution_count": 24,
     "metadata": {},
     "output_type": "execute_result"
    }
   ],
   "source": [
    "b"
   ]
  },
  {
   "cell_type": "code",
   "execution_count": 128,
   "metadata": {},
   "outputs": [],
   "source": [
    "c=np.intersect1d(b,a)"
   ]
  },
  {
   "cell_type": "code",
   "execution_count": 131,
   "metadata": {},
   "outputs": [
    {
     "data": {
      "text/plain": [
       "array([0, 1, 6, 7])"
      ]
     },
     "execution_count": 131,
     "metadata": {},
     "output_type": "execute_result"
    }
   ],
   "source": [
    "c"
   ]
  },
  {
   "cell_type": "code",
   "execution_count": 26,
   "metadata": {},
   "outputs": [
    {
     "data": {
      "text/plain": [
       "array([35, 34, 29, 28])"
      ]
     },
     "execution_count": 26,
     "metadata": {},
     "output_type": "execute_result"
    }
   ],
   "source": [
    "Ass.corner_dofs(kvs,(1,1),k=[1,1],ravel=True)"
   ]
  },
  {
   "cell_type": "code",
   "execution_count": 12,
   "metadata": {},
   "outputs": [
    {
     "data": {
      "text/plain": [
       "36"
      ]
     },
     "execution_count": 12,
     "metadata": {},
     "output_type": "execute_result"
    }
   ],
   "source": [
    "bspline.numdofs(kvs)"
   ]
  },
  {
   "cell_type": "code",
   "execution_count": 13,
   "metadata": {},
   "outputs": [],
   "source": [
    "A={0:0,1:None}"
   ]
  },
  {
   "cell_type": "code",
   "execution_count": 14,
   "metadata": {},
   "outputs": [
    {
     "data": {
      "text/plain": [
       "0"
      ]
     },
     "execution_count": 14,
     "metadata": {},
     "output_type": "execute_result"
    }
   ],
   "source": [
    "min(A.keys())"
   ]
  },
  {
   "cell_type": "code",
   "execution_count": 16,
   "metadata": {},
   "outputs": [
    {
     "ename": "TypeError",
     "evalue": "'>' not supported between instances of 'NoneType' and 'int'",
     "output_type": "error",
     "traceback": [
      "\u001b[0;31m---------------------------------------------------------------------------\u001b[0m",
      "\u001b[0;31mTypeError\u001b[0m                                 Traceback (most recent call last)",
      "\u001b[0;32m<ipython-input-16-10beb1054bb4>\u001b[0m in \u001b[0;36m<module>\u001b[0;34m\u001b[0m\n\u001b[0;32m----> 1\u001b[0;31m \u001b[0mmax\u001b[0m\u001b[0;34m(\u001b[0m\u001b[0mA\u001b[0m\u001b[0;34m.\u001b[0m\u001b[0mvalues\u001b[0m\u001b[0;34m(\u001b[0m\u001b[0;34m)\u001b[0m\u001b[0;34m)\u001b[0m\u001b[0;34m\u001b[0m\u001b[0;34m\u001b[0m\u001b[0m\n\u001b[0m",
      "\u001b[0;31mTypeError\u001b[0m: '>' not supported between instances of 'NoneType' and 'int'"
     ]
    }
   ],
   "source": [
    "max(A.values())"
   ]
  },
  {
   "cell_type": "code",
   "execution_count": 8,
   "metadata": {},
   "outputs": [],
   "source": [
    "A=[0,1,2,3,4]"
   ]
  },
  {
   "cell_type": "code",
   "execution_count": 10,
   "metadata": {},
   "outputs": [],
   "source": [
    "D=dict()"
   ]
  },
  {
   "cell_type": "code",
   "execution_count": 12,
   "metadata": {},
   "outputs": [],
   "source": [
    "for p in A:\n",
    "    D[p]=None"
   ]
  },
  {
   "cell_type": "code",
   "execution_count": 30,
   "metadata": {},
   "outputs": [],
   "source": [
    "assert 1, \"lol\""
   ]
  },
  {
   "cell_type": "code",
   "execution_count": 18,
   "metadata": {},
   "outputs": [],
   "source": [
    "d=[0,1,2,3]"
   ]
  },
  {
   "cell_type": "code",
   "execution_count": 32,
   "metadata": {},
   "outputs": [],
   "source": [
    "d={a:None for a in d}"
   ]
  },
  {
   "cell_type": "code",
   "execution_count": 22,
   "metadata": {},
   "outputs": [],
   "source": [
    "d=np.array(d)"
   ]
  },
  {
   "cell_type": "code",
   "execution_count": 28,
   "metadata": {},
   "outputs": [
    {
     "data": {
      "text/plain": [
       "True"
      ]
     },
     "execution_count": 28,
     "metadata": {},
     "output_type": "execute_result"
    }
   ],
   "source": [
    "isinstance(d,(set, list, np.ndarray))"
   ]
  },
  {
   "cell_type": "code",
   "execution_count": 24,
   "metadata": {},
   "outputs": [
    {
     "data": {
      "text/plain": [
       "array([0, 1, 2, 3])"
      ]
     },
     "execution_count": 24,
     "metadata": {},
     "output_type": "execute_result"
    }
   ],
   "source": [
    "d"
   ]
  },
  {
   "cell_type": "code",
   "execution_count": 21,
   "metadata": {},
   "outputs": [
    {
     "data": {
      "text/plain": [
       "3"
      ]
     },
     "execution_count": 21,
     "metadata": {},
     "output_type": "execute_result"
    }
   ],
   "source": [
    "len({1,2,3})"
   ]
  },
  {
   "cell_type": "code",
   "execution_count": 22,
   "metadata": {},
   "outputs": [
    {
     "data": {
      "text/plain": [
       "3"
      ]
     },
     "execution_count": 22,
     "metadata": {},
     "output_type": "execute_result"
    }
   ],
   "source": [
    "len((1,2,3))"
   ]
  },
  {
   "cell_type": "code",
   "execution_count": 23,
   "metadata": {},
   "outputs": [
    {
     "data": {
      "text/plain": [
       "3"
      ]
     },
     "execution_count": 23,
     "metadata": {},
     "output_type": "execute_result"
    }
   ],
   "source": [
    "len(np.array([1,2,3]))"
   ]
  },
  {
   "cell_type": "code",
   "execution_count": 29,
   "metadata": {},
   "outputs": [
    {
     "ename": "TypeError",
     "evalue": "object of type 'int' has no len()",
     "output_type": "error",
     "traceback": [
      "\u001b[0;31m---------------------------------------------------------------------------\u001b[0m",
      "\u001b[0;31mTypeError\u001b[0m                                 Traceback (most recent call last)",
      "\u001b[0;32m<ipython-input-29-6b3b01eb5e19>\u001b[0m in \u001b[0;36m<module>\u001b[0;34m\u001b[0m\n\u001b[0;32m----> 1\u001b[0;31m \u001b[0mlen\u001b[0m\u001b[0;34m(\u001b[0m\u001b[0;36m3\u001b[0m\u001b[0;34m)\u001b[0m\u001b[0;34m\u001b[0m\u001b[0;34m\u001b[0m\u001b[0m\n\u001b[0m",
      "\u001b[0;31mTypeError\u001b[0m: object of type 'int' has no len()"
     ]
    }
   ],
   "source": [
    "len(3)"
   ]
  },
  {
   "cell_type": "code",
   "execution_count": 17,
   "metadata": {},
   "outputs": [
    {
     "ename": "TypeError",
     "evalue": "isinstance() arg 2 must be a type or tuple of types",
     "output_type": "error",
     "traceback": [
      "\u001b[0;31m---------------------------------------------------------------------------\u001b[0m",
      "\u001b[0;31mTypeError\u001b[0m                                 Traceback (most recent call last)",
      "\u001b[0;32m<ipython-input-17-a0d4955f32d2>\u001b[0m in \u001b[0;36m<module>\u001b[0;34m\u001b[0m\n\u001b[0;32m----> 1\u001b[0;31m \u001b[0misinstance\u001b[0m\u001b[0;34m(\u001b[0m\u001b[0ma\u001b[0m\u001b[0;34m,\u001b[0m\u001b[0;32mNone\u001b[0m\u001b[0;34m)\u001b[0m\u001b[0;34m\u001b[0m\u001b[0;34m\u001b[0m\u001b[0m\n\u001b[0m",
      "\u001b[0;31mTypeError\u001b[0m: isinstance() arg 2 must be a type or tuple of types"
     ]
    }
   ],
   "source": [
    "isinstance(a,None)"
   ]
  },
  {
   "cell_type": "code",
   "execution_count": 15,
   "metadata": {},
   "outputs": [],
   "source": [
    "a=None"
   ]
  },
  {
   "cell_type": "code",
   "execution_count": 34,
   "metadata": {},
   "outputs": [
    {
     "data": {
      "text/plain": [
       "array([[1., 0., 0.],\n",
       "       [0., 1., 0.],\n",
       "       [0., 0., 1.]])"
      ]
     },
     "execution_count": 34,
     "metadata": {},
     "output_type": "execute_result"
    }
   ],
   "source": [
    "scipy.sparse.identity(3).A"
   ]
  },
  {
   "cell_type": "code",
   "execution_count": null,
   "metadata": {},
   "outputs": [],
   "source": []
  }
 ],
 "metadata": {
  "kernelspec": {
   "display_name": "Python 3",
   "language": "python",
   "name": "python3"
  },
  "language_info": {
   "codemirror_mode": {
    "name": "ipython",
    "version": 3
   },
   "file_extension": ".py",
   "mimetype": "text/x-python",
   "name": "python",
   "nbconvert_exporter": "python",
   "pygments_lexer": "ipython3",
   "version": "3.8.8"
  }
 },
 "nbformat": 4,
 "nbformat_minor": 4
}
