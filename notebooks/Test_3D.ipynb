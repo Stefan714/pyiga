{
 "cells": [
  {
   "cell_type": "code",
   "execution_count": 1,
   "id": "406a119a-45df-4c00-82c5-75beade377ff",
   "metadata": {},
   "outputs": [
    {
     "name": "stdout",
     "output_type": "stream",
     "text": [
      "Populating the interactive namespace from numpy and matplotlib\n"
     ]
    }
   ],
   "source": [
    "%pylab inline\n",
    "import scipy\n",
    "import itertools\n",
    "import numpy as np\n",
    "import matplotlib.pyplot as plt\n",
    "\n",
    "from pyiga import bspline, assemble, vform, geometry, vis, solvers, quadrature, topology\n",
    "from patchmesh import *"
   ]
  },
  {
   "cell_type": "code",
   "execution_count": 21,
   "id": "7340f13e-e7ab-43cc-be55-307b8a653f76",
   "metadata": {},
   "outputs": [],
   "source": [
    "from pyiga import bspline, vis, assemble\n",
    "import copy\n",
    "\n",
    "import numpy as np\n",
    "import matplotlib\n",
    "import matplotlib.pyplot as plt\n",
    "#import BSegments\n",
    "\n",
    "def bdspec_to_int(bdspec):\n",
    "    return 2 * bdspec[0][0] + bdspec[0][1]    # convert to a boundary index (0..5)\n",
    "    \n",
    "def corners(geo, ravel=False):\n",
    "    \"\"\"Return an array containing the locations of the 2^d corners of the given\n",
    "    geometry.\"\"\"\n",
    "    vtx = geo.grid_eval(geo.support)\n",
    "    if ravel:\n",
    "        return vtx.reshape((-1, geo.dim))\n",
    "    return vtx\n",
    "\n",
    "def edges(corners):\n",
    "    C=np.array(corners).reshape(2,2,2)\n",
    "    return np.vstack((C.transpose((0,1,2)).reshape(-1,2), C.transpose((0,2,1)).reshape(-1,2), C.transpose((1,2,0)).reshape(-1,2)))\n",
    "\n",
    "# Data structures:\n",
    "#\n",
    "# - vertices is a list of topological vertices, the entries are their locations\n",
    "#\n",
    "# - patches is a list of tuples:\n",
    "#       ((kvs, geo), boundaries)\n",
    "#   - kvs are the tensor product knot vectors\n",
    "#   - geo is the geometry map\n",
    "#   - boundaries is a list of the six boundaries of the patch; each boundary\n",
    "#     is a BSegments object describing the boundary segments on that boundary as a binary search tree. \n",
    "#     The leafes are the segments and the respective parents designate the axis where it splits the segments before. \n",
    "#     Each boundary has at least 1 leaf (a single\n",
    "#     segment).\n",
    "#\n",
    "# - interfaces is a dict which stores connectivity information between boundary\n",
    "#   segments on neighboring patches: an entry of the form\n",
    "#     interfaces[(p0, b0, s0)] == ((p1, b1, s1), flip)\n",
    "#   means that segment s0 of boundary b0 of patch p0 (all integer indices) is\n",
    "#   connected to segment s1 of boundary b1 of patch p1. flip is a\n",
    "#   (d-1)-dimensional tuple indicating whether each coordinate axis runs in\n",
    "#   opposite direction in the two patches. This information is symmetrical, so\n",
    "#   each entry like the above has a corresponding second entry with the roles\n",
    "#   of (p0,b0,s0) and (p1,b1,s1) reversed.\n",
    "#\n",
    "\n",
    "class PatchMesh3D:\n",
    "    def __init__(self, patches = None):\n",
    "        self.vertices = []\n",
    "        self.edges=[]\n",
    "        self.patches = []\n",
    "        self.interfaces = dict()\n",
    "        \n",
    "        self.Nodes = {'T0':dict(), 'T1':dict(), 'T2':dict()}\n",
    "        self.Edges = {'T0':dict(), 'T1':dict()}\n",
    "        #self.T_nodes = dict()\n",
    "\n",
    "        if patches:\n",
    "            # add interfaces between patches\n",
    "            conn, interfaces = assemble.detect_interfaces(patches)\n",
    "            assert conn, 'patch graph is not connected!'\n",
    "            \n",
    "            for p,patch in enumerate(patches):\n",
    "                kvs, geo = patch\n",
    "                # add/get vertices (checks for duplicates)\n",
    "                vtx = [self.add_vertex(c)[0] for c in corners(geo, ravel=True)]\n",
    "                edg = [self.add_edge(vtx1, vtx2) for vtx1, vtx2 in edges(vtx)]\n",
    "                #edges = [(self.add_vertex(vtx1), self.add_vertex(vtx2)) for (vtx1, vtx2) in edges(geo)]\n",
    "                #edges = [self.add_edge(e) for e in edges]\n",
    "                \n",
    "                # add boundaries in fixed order\n",
    "                self.add_patch(patch, (\n",
    "                    BSegments([(vtx[0], vtx[1]), (vtx[2], vtx[3]), (vtx[0], vtx[2]), (vtx[1], vtx[3])], 0),    #front\n",
    "                    BSegments([(vtx[4], vtx[5]), (vtx[6], vtx[7]), (vtx[4], vtx[6]), (vtx[5], vtx[7])], 0),    #back\n",
    "                    BSegments([(vtx[0], vtx[1]), (vtx[4], vtx[5]), (vtx[0], vtx[4]), (vtx[1], vtx[5])], 1),    #bottom\n",
    "                    BSegments([(vtx[2], vtx[3]), (vtx[6], vtx[7]), (vtx[2], vtx[6]), (vtx[3], vtx[7])], 1),    #top\n",
    "                    BSegments([(vtx[0], vtx[2]), (vtx[4], vtx[6]), (vtx[0], vtx[4]), (vtx[2], vtx[6])], 2),    #left\n",
    "                    BSegments([(vtx[1], vtx[3]), (vtx[5], vtx[7]), (vtx[1], vtx[5]), (vtx[3], vtx[7])], 2),    #right\n",
    "                ))\n",
    "                    \n",
    "                for c_spec, v in zip(topology.face_indices(3,0), vtx):\n",
    "                    if v in self.Nodes['T0']:\n",
    "                        self.Nodes['T0'][v][p] = c_spec\n",
    "                    else:\n",
    "                        self.Nodes['T0'][v]={p : c_spec}\n",
    "                        \n",
    "                for e_spec, e in zip(topology.face_indices(3,1), edg):\n",
    "                    if e in self.Edges['T0']:\n",
    "                        self.Edges['T0'][e][p] = e_spec\n",
    "                    else:\n",
    "                        self.Edges['T0'][e]={p: e_spec}\n",
    "\n",
    "            for (p0, bd0, p1, bd1, conn_info) in interfaces:\n",
    "                self.add_interface(p0, bdspec_to_int(bd0), tuple(), p1, bdspec_to_int(bd1), tuple(), conn_info)\n",
    "\n",
    "            #self.sanity_check()\n",
    "\n",
    "    @property\n",
    "    def numpatches(self):\n",
    "        return len(self.patches)\n",
    "            \n",
    "    def add_vertex(self, pos):\n",
    "        \"\"\"Add a new vertex at `pos` at return new index and `False` or return its index and `True` if one already exists there.\"\"\"\n",
    "        if self.vertices:\n",
    "            distances = [np.linalg.norm(vtxpos - pos) for vtxpos in self.vertices]\n",
    "            i_min = np.argmin(distances)\n",
    "            if distances[i_min] < 1e-14:\n",
    "                return i_min, False\n",
    "        self.vertices.append(pos)\n",
    "        return len(self.vertices) - 1, True\n",
    "    \n",
    "    def add_edge(self, vtx1, vtx2): \n",
    "        \"\"\"Add a new edge from vtx1 to vtx2 or return its index if one already exists there.\"\"\"\n",
    "        if (vtx1, vtx2) in self.edges:\n",
    "            return self.edges.index((vtx1, vtx2))\n",
    "        elif (vtx2, vtx1) in self.edges:\n",
    "            return self.edges.index((vtx2, vtx1))\n",
    "        else:\n",
    "            self.edges.append((vtx1, vtx2))\n",
    "            return len(self.edges) - 1\n",
    "    \n",
    "    def remove_edge(self,vtx1,vtx2):\n",
    "        if (vtx1, vtx2) in self.edges:\n",
    "            self.edges.remove((vtx1, vtx2))\n",
    "        elif (vtx2, vtx1) in self.edges:\n",
    "            self.edges.remove((vtx2, vtx1))\n",
    "        else:\n",
    "            return\n",
    "\n",
    "    def get_vertex_index(self, pos):\n",
    "        if self.vertices:\n",
    "            distances = [np.linalg.norm(vtxpos - pos) for vtxpos in self.vertices]\n",
    "            i_min = np.argmin(distances)\n",
    "            if distances[i_min] < 1e-14:\n",
    "                return i_min\n",
    "        raise ValueError('no vertex found at %s' % (pos,))\n",
    "\n",
    "    def add_patch(self, patch, boundaries):\n",
    "        self.patches.append((patch, boundaries))\n",
    "\n",
    "    def add_interface(self, p0, b0, s0, p1, b1, s1, flip):\n",
    "        \"\"\"Join segment s0 of boundary b0 of patch p0 with segment s1\n",
    "        of boundary b1 of p1.\n",
    "        \"\"\"\n",
    "        #bds0 = self.boundaries(p0)\n",
    "        #bds1 = self.boundaries(p1)\n",
    "        #assert b0 < len(bds0) and b1 < len(bds1)\n",
    "        #assert s0 < len(bds0[b0]) and s1 < len(bds1[b1])\n",
    "        S0 = (p0, b0, s0)\n",
    "        S1 = (p1, b1, s1)\n",
    "        self.interfaces[S0] = (S1, flip)\n",
    "        self.interfaces[S1] = (S0, flip)\n",
    "        \n",
    "    def refine(self, patches = None, mult=1):\n",
    "        if isinstance(patches, dict):\n",
    "            assert max(patches.keys())<self.numpatches and min(patches.keys())>=0, \"patch index out of bounds.\"\n",
    "            patches = patches.keys()\n",
    "        elif isinstance(patches, (list, set, np.ndarray)):\n",
    "            assert max(patches)<self.numpatches and min(patches)>=0, \"patch index out of bounds.\"\n",
    "        elif patches==None:\n",
    "            patches = np.arange(self.numpatches)\n",
    "        elif np.isscalar(patches):\n",
    "            patches=(patches,)\n",
    "        else:\n",
    "            assert 0, \"unknown input type\"\n",
    "            \n",
    "        for p in patches:\n",
    "            (kvs,geo), b = self.patches[p]\n",
    "            new_kvs = tuple([kv.refine(mult=mult) for kv in kvs])\n",
    "            self.patches[p]=((new_kvs, geo), b)\n",
    "\n",
    "    def _reindex_interfaces(self, p, b, old_s, ofs = tuple(), r = 0, new_p=None):\n",
    "        old_s = list(old_s)\n",
    "        if r > 0:\n",
    "            new_s = [ofs + s[:-r] for s in old_s]\n",
    "        else:\n",
    "            new_s = [ofs + s for s in old_s]\n",
    "        if new_p is None:\n",
    "            new_p = p\n",
    "        S_old = [(p, b, s) for s in old_s]\n",
    "        S_new = [(new_p, b, s) for s in new_s]\n",
    "        old_intf = [self.interfaces.pop(S, None) for S in S_old]\n",
    "        for Sn, intf in zip(S_new, old_intf):\n",
    "            if intf:\n",
    "                self.interfaces[Sn] = intf\n",
    "                self.interfaces[intf[0]] = (Sn, intf[1])\n",
    "\n",
    "    def split_boundary_segment(self, p, b, axis, s, new_edge):\n",
    "        \"\"\"Split the boundary segment `s` on boundary `b` of patch `p` by\n",
    "        inserting the new vertex with index `new_vtx`.\n",
    "\n",
    "        If the segment interfaces with another patch, also splits the\n",
    "        corresponding segment on the other side and updates the interface\n",
    "        information.\n",
    "        \"\"\"\n",
    "        bd = self.boundaries(p)[b] \n",
    "        #assert 0 <= s < len(bd) - 1\n",
    "        bd.split_segment(ax=axis, seg=s, edge=new_edge)\n",
    "        # shift all later interfaces up by one\n",
    "        #self._reindex_interfaces(p, b, range(s + 1, len(bd) - 2), 1)\n",
    "\n",
    "        # also split the matching boundary segment on neighboring patch, if any\n",
    "        other = self.get_matching_interface(p, b, s)\n",
    "        if other:\n",
    "            (p1, b1, s1) = other\n",
    "            bd1 = self.boundaries(p1)[b1]\n",
    "            #bd1.insert(s1 + 1, new_vtx)\n",
    "            \n",
    "            ### need to check axis and possibly change it here if boundarys have different normal axis (if a the neighbouring patch was rotated e.g.)\n",
    "            bd1.split_segment(ax=axis, seg=s1, edge=new_edge) \n",
    "            \n",
    "            # shift all later interfaces up by one\n",
    "            #self._reindex_interfaces(p1, b1, range(s1 + 1, len(bd1) - 2), +1)\n",
    "\n",
    "            # fix the new interfaces to point to each other\n",
    "            flip = self.interfaces[(p, b, s)][1]\n",
    "            \n",
    "            self.interfaces.pop((p, b, s))\n",
    "            self.interfaces.pop((p1, b1, s1))\n",
    "            \n",
    "            bd_axis = axis - 1*(axis > self.boundaries(p)[b].normal_axis)\n",
    "            if flip[bd_axis]:\n",
    "                # indices are running in opposite directions on the two sides\n",
    "                self.interfaces[(p, b, s + (0,))] = ((p1, b1, s1 + (1,)), flip)\n",
    "                self.interfaces[(p1, b1, s1 + (1,))] = ((p, b, s + (0,)), flip)\n",
    "\n",
    "                self.interfaces[(p, b, s + (1,))] = ((p1, b1, s1 + (0,)), flip)\n",
    "                self.interfaces[(p1, b1, s1 + (0,))] = ((p, b, s + (1,)), flip)\n",
    "            else:\n",
    "                self.interfaces[(p, b, s + (0,))] = ((p1, b1, s1 + (0,)), flip)\n",
    "                self.interfaces[(p1, b1, s1 + (0,))] = ((p, b, s + (0,)), flip)\n",
    "\n",
    "                self.interfaces[(p, b, s + (1,))] = ((p1, b1, s1 + (1,)), flip)\n",
    "                self.interfaces[(p1, b1, s1 + (1,))] = ((p, b, s + (1,)), flip)\n",
    "\n",
    "    def split_patch_boundary(self, p, b, xi, axis, new_edge, new_p):\n",
    "        \"\"\"Split the boundary `b` of patch `p` at a vertex which lies at\n",
    "        parameter value `xi` of the boundary curve and has coordinates\n",
    "        `vtxpos`.\n",
    "\n",
    "        Returns the index of the first segment after the new vertex.\n",
    "\n",
    "        It is valid to pass a vertex which is already contained in the\n",
    "        boundary, in which case nothing is inserted and the correct index is\n",
    "        returned.\n",
    "        \"\"\"\n",
    "\n",
    "        #vtx1, vtx2 = self.boundaries(p)[b][::len(self.boundaries(p)[b])-1]\n",
    "        #new_edge = self.edges[new_edge]\n",
    "        try:\n",
    "            # is the new edge already contained in the boundary?\n",
    "            if self.boundaries(p)[b].axis != axis:\n",
    "                raise ValueError\n",
    "        except ValueError:\n",
    "            # otherwise, we need to insert it, split the segment and insert a new T_node (or corner at the boundary of the domain)\n",
    "            seg = self._find_boundary_split_index(p, b, xi, new_edge)\n",
    "            self.split_boundary_segment(p, b, axis, seg, new_edge)\n",
    "            self.add_edge(*new_edge) ###T_edge\n",
    "        else:\n",
    "            return \n",
    "\n",
    "    def _find_boundary_split_index(self, p, bdidx, xi_split, vtx_idx):\n",
    "        (kvs, geo), boundaries = self.patches[p]\n",
    "        segments = boundaries[bdidx]\n",
    "        # simple case: if a single interval covers the boundary, we split it\n",
    "        if segments.is_leaf():\n",
    "            return tuple()\n",
    "        #bd_geo = geo.boundary((bdidx // 2, bdidx % 2))\n",
    "        #bd_vtx_xi = [bd_geo.find_inverse(self.vertices[j])[0] for j in segments]\n",
    "        # find segment where xi_split would need to be inserted to maintain order\n",
    "        #return np.searchsorted(bd_vtx_xi, xi_split) - 1\n",
    "\n",
    "    def split_patch(self, p, axis = None, mult=1):\n",
    "        if axis == None:\n",
    "            (p1, p2), new_kvs0 = self.split_patch(p,  axis=2, mult=mult)\n",
    "            (p1, p3), new_kvs1 = self.split_patch(p1, axis=1, mult=mult)\n",
    "            (p2, p4), _        = self.split_patch(p2, axis=1, mult=mult)\n",
    "            (p1, p5), new_kvs2 = self.split_patch(p1, axis=0, mult=mult)\n",
    "            (p2, p6), _        = self.split_patch(p2, axis=0, mult=mult)\n",
    "            (p3, p7), _        = self.split_patch(p3, axis=0, mult=mult)\n",
    "            (p4, p8), _        = self.split_patch(p4, axis=0, mult=mult)\n",
    "                \n",
    "            new_kvs = (new_kvs2[0], new_kvs1[1], new_kvs0[2])\n",
    "            return (p1, p2, p3, p4, p5, p6, p7, p8), new_kvs\n",
    "            #self.split_patch(p1_, 1, mult=mult)\n",
    "        \n",
    "        (kvs, geo), boundaries = self.patches[p]\n",
    "        kv = kvs[axis].refine(mult=mult)\n",
    "        \n",
    "        #split_xi = sum(kv.support())/2.0\n",
    "        #split_idx = kv.findspan(split_xi)+1\n",
    "     \n",
    "        m_idx = len(kv.mesh)//2\n",
    "        mesh_ofs = kv.mesh_span_indices()\n",
    "        split_idx = mesh_ofs[m_idx]\n",
    "        split_mult = mesh_ofs[m_idx]-mesh_ofs[m_idx-1]\n",
    "        split_xi = kv.kv[split_idx]    # parameter value where we split the KV\n",
    "        new_knots1 = np.concatenate((kv.kv[:split_idx], (kv.p+1-(mult-1)) * (split_xi,)))\n",
    "        new_knots2 = np.concatenate(((kv.p) * (split_xi,), kv.kv[split_idx:]))\n",
    "        new_kvs = tuple([bspline.KnotVector(np.concatenate((kv.kv[:split_idx], (kv.p-1) * (split_xi,), kv.kv[split_idx:])),kv.p) if d==axis else kvs[d] for d in range(3)])\n",
    "            \n",
    "        # create new kvs and geo for first patch\n",
    "        kvs1 = list(kvs)\n",
    "        kvs1[axis] = bspline.KnotVector(new_knots1, kv.p)\n",
    "        geo1 = copy.copy(geo)\n",
    "        geo1.support = tuple(kv.support() for kv in kvs1)\n",
    "        kvs1 = tuple(kvs1)\n",
    "        \n",
    "        # create new kvs and geo for second patch\n",
    "        kvs2 = list(kvs)\n",
    "        kvs2[axis] = bspline.KnotVector(new_knots2, kv.p) \n",
    "        geo2 = copy.copy(geo)\n",
    "        geo2.support = tuple(kv.support() for kv in kvs2)\n",
    "        kvs2 = tuple(kvs2)\n",
    "\n",
    "        # dimension-independent description of front/bottom/left and back/top/right edge\n",
    "        lower, upper = 2 * axis, 2 * axis + 1\n",
    "\n",
    "        # copy existing boundaries, they will be corrected below\n",
    "        boundaries = list(boundaries)\n",
    "        new_boundaries = [bd for bd in boundaries]\n",
    "\n",
    "        new_p =  self.numpatches\n",
    "        new_vertices = []\n",
    "        \n",
    "        if axis == 0:                           # z-axis\n",
    "            split_boundaries = [2, 3, 4, 5]     # bottom, top, left and right were split\n",
    "            splitC = corners(geo1)[1,:,:,:].reshape(-1,3)\n",
    "            C = [self.add_vertex(c)[0] for c in corners(geo).transpose((0,1,2,3)).reshape(-1,3)]\n",
    "        elif axis == 1:                         # y-axis\n",
    "            split_boundaries = [0, 1, 4, 5]     # front, back, left and right were split\n",
    "            splitC = corners(geo1)[:,1,:,:].reshape(-1,3)\n",
    "            C = [self.add_vertex(c)[0] for c in corners(geo).transpose((1,0,2,3)).reshape(-1,3)]\n",
    "        elif axis == 2:                         # x-axis\n",
    "            split_boundaries = [0, 1, 2, 3]     # front, back, bottom and top were split\n",
    "            splitC = corners(geo1)[:,:,1,:].reshape(-1,3)\n",
    "            C = [self.add_vertex(c)[0] for c in corners(geo).transpose((2,0,1,3)).reshape(-1,3)]\n",
    "        else:\n",
    "            assert False, 'This axis does not exist.'\n",
    "            \n",
    "        for i, c in enumerate(splitC):\n",
    "            vtx, is_new = self.add_vertex(c)\n",
    "            new_vertices.append(vtx)\n",
    "            if is_new:\n",
    "                self.remove_edge(C[i], C[i+4])\n",
    "                self.add_edge(C[i], vtx)\n",
    "                self.add_edge(vtx, C[i+4])\n",
    "\n",
    "        #new_edges = [(new_vertices[0], new_vertices[1]), (new_vertices[2], new_vertices[3]), (new_vertices[0], new_vertices[2]), (new_vertices[1], new_vertices[3])]\n",
    "        new_edges = [self.add_edge(new_vertices[i1], new_vertices[i2]) for i1, i2 in zip([0,2,0,1],[1,3,2,3])]\n",
    "        # move existing interfaces from upper side of old to upper of new patch \n",
    "        self._reindex_interfaces(p, upper, boundaries[upper].return_segments(), new_p=new_p)\n",
    "\n",
    "        boundaries[upper]     =  BSegments([self.edges[e] for e in new_edges], axis)   # upper edge of new lower patch\n",
    "        new_boundaries[lower] =  BSegments([self.edges[e] for e in new_edges], axis)   # lower edge of new upper patch\n",
    "\n",
    "        # add interface between the two new patches\n",
    "        self.add_interface(p, upper, tuple(), new_p, lower, tuple(), (False, False))\n",
    "\n",
    "        for sb, new_edge in zip(split_boundaries, new_edges):\n",
    "            #print(self.boundaries(p)[sb].normal_axis)\n",
    "            #bd_axis = axis - 1*(axis > self.boundaries(p)[sb].normal_axis)\n",
    "            #print(self.edges[new_edge])\n",
    "            self.split_patch_boundary(p, sb, split_xi, axis, self.edges[new_edge], new_p)\n",
    "            \n",
    "            # split the boundaries of the new patches at this edge\n",
    "            new_bd = self.boundaries(p)[sb]\n",
    "            boundaries[sb] = new_bd.lower\n",
    "            new_boundaries[sb] = new_bd.upper\n",
    "\n",
    "            # change patch index for all interfaces from the split part of the boundary\n",
    "            self._reindex_interfaces(p, sb, [(1,) + s for s in new_boundaries[sb].return_segments()], ofs=tuple(), r = 1, new_p=new_p)\n",
    "            self._reindex_interfaces(p, sb, [(0,) + s for s in new_boundaries[sb].return_segments()], ofs=tuple(), r = 1)\n",
    "            \n",
    "        # change patch index for all corner nodes and T nodes on the upper edge of old patch   \n",
    "        \n",
    "        #also change patch index of possible T_nodes at the new boundaries in the different axis direction (left and right)\n",
    "            \n",
    "        self.patches[p] = ((kvs1, geo1), tuple(boundaries))\n",
    "        self.patches.append(((kvs2, geo2), tuple(new_boundaries)))\n",
    "        \n",
    "        return (p, new_p), new_kvs     # return the two indices of the split patches and the joined knot mesh over the 2 patches\n",
    "    \n",
    "            \n",
    "    def split_patches(self, patches=None, mult=1, dir_data = None):\n",
    "        \n",
    "        if isinstance(patches, dict):\n",
    "            assert max(patches.keys())<self.numpatches and min(patches.keys())>=0, \"patch index out of bounds.\"\n",
    "        elif isinstance(patches,int):\n",
    "            assert patches >=0 and patches < 3, \"dimension error.\"\n",
    "            patches = {p:patches for p in range(self.numpatches)}\n",
    "        elif isinstance(patches, (list, set, np.ndarray)):\n",
    "            assert max(patches)<self.numpatches and min(patches)>=0, \"patch index out of bounds.\"\n",
    "            patches = {p:None for p in patches}\n",
    "        elif patches==None:\n",
    "            patches = {p:None for p in range(self.numpatches)}\n",
    "        else:\n",
    "            assert 0, \"unknown input type\"\n",
    "\n",
    "        new_patches = dict()\n",
    "        new_kvs = dict()\n",
    "        for p in patches.keys():\n",
    "            if dir_data==None:\n",
    "                new_p, new_kvs_ = self.split_patch(p,axis=patches[p], mult=mult)\n",
    "            else:\n",
    "                split_dirichlet_data(p, self.numpatches, dir_data, axis=patches[p])\n",
    "                new_p, new_kvs_= self.split_patch(p, axis=patches[p], mult=mult)\n",
    "            new_patches[p] = new_p\n",
    "            new_kvs[p] = new_kvs_\n",
    "            \n",
    "        return new_patches, new_kvs\n",
    "\n",
    "    def boundaries(self, p):\n",
    "        \"\"\"Get the boundaries for patch `p`.\n",
    "\n",
    "        A 2D patch has four boundaries, and each one is a list of vertex\n",
    "        indices describing individual segments of the boundary.\n",
    "        \n",
    "        A 3D patch has six boundaries, and each one is a list of 4 tuples \n",
    "        of vertex indices each describing the edges enclosing the boundary. \n",
    "        \"\"\"\n",
    "        return self.patches[p][1]\n",
    "\n",
    "    def get_matching_interface(self, p, boundary, segment):\n",
    "        \"\"\"Get the boundary/interface which is connected to the given boundary/interface.\"\"\"\n",
    "        assert 0 <= p < len(self.patches)\n",
    "        bdrs = self.boundaries(p)\n",
    "        assert 0 <= boundary < len(bdrs)\n",
    "        #assert 0 <= segment < len(bdrs[boundary]) - 1\n",
    "        matching = self.interfaces.get((p, boundary, segment))\n",
    "        if matching:\n",
    "            return matching[0]\n",
    "        else:\n",
    "            return None     # no matching segment - must be on the boundary\n",
    "        \n",
    "    def draw(self, knots = True, vertex_idx = False, edge_idx=False, patch_idx = False, nodes=False, figsize=(8,8)):\n",
    "        \"\"\"draws a visualization of the patchmesh in 2D.\"\"\"\n",
    "        fig=plt.figure(figsize=figsize)\n",
    "        ax = plt.axes(projection='3d')\n",
    "        ax.grid(False)\n",
    "        \n",
    "        for ((kvs, geo),_) in self.patches:\n",
    "            if knots:\n",
    "                vis.plot_geo(geo, gridx=kvs[0].mesh, gridy=kvs[1].mesh, gridz=kvs[2].mesh, color='lightgray')       \n",
    "            vis.plot_geo(geo, grid=2)\n",
    "           \n",
    "        if nodes:\n",
    "            ax.scatter(*np.transpose([vtx[[0,1,2]] for vtx in self.vertices]), color='red')\n",
    "            #ax.scatter(*np.transpose([vtx[[0,1,2]] for vtx in self.vertices]), color='red')\n",
    "\n",
    "        if patch_idx:\n",
    "            for p in range(len(self.patches)):        # annotate patch indices\n",
    "                geo = self.patches[p][0][1]\n",
    "                center_xi = np.flipud(np.mean(geo.support, axis=1))\n",
    "                center = geo(*center_xi)\n",
    "                ax.text(*(center[[0,1,2]]), str(p), fontsize=18, color='green')\n",
    "            \n",
    "        if vertex_idx:\n",
    "            for i, vtx in enumerate(self.vertices):   # annotate vertex indices\n",
    "                ax.text(*(vtx[[0,1,2]]), str(i), fontsize=18, color='red')\n",
    "                \n",
    "        if edge_idx:    ### still need to compute real center of the geometry edge\n",
    "            for i, (vtx1, vtx2) in enumerate(self.edges):    #annotate edge indices\n",
    "                ax.text(*((self.vertices[vtx1] + self.vertices[vtx2])/2)[[0,1,2]], str(i), fontsize=18, color='royalblue')\n",
    "                \n",
    "        #ax.invert_xaxis()\n",
    "        #ax.invert_yaxis()  \n",
    "        #ax.invert_zaxis()  \n",
    "        \n",
    "        #ax.view_init(azim=-30, elev=-25, roll=-180, vertical_axis='y')\n",
    "        ax.set_xlabel('x')\n",
    "        ax.set_ylabel('y')\n",
    "        ax.set_zlabel('z')\n",
    "        #ax.set_aspect('equal')\n",
    "        plt.show()\n",
    "            \n",
    "    def sanity_check(self):\n",
    "        for (p, b, s), ((p1, b1, s1), flip) in self.interfaces.items():\n",
    "            # check that all interface indices make sense\n",
    "            assert 0 <= p < len(self.patches) and 0 <= p1 < len(self.patches)\n",
    "            bd, bd1 = self.boundaries(p), self.boundaries(p1)\n",
    "            assert 0 <= b < len(bd) and 0 <= b1 < len(bd1)\n",
    "            #assert all([0 <= s_ < len(bd[b]) - 1 and 0 <= s1_ < len(bd1[b1]) - 1 for s_,s1_ in zip(s,s1)]\n",
    "\n",
    "        outer_boundaries = set()   \n",
    "                                        \n",
    "        for p in range(len(self.patches)):\n",
    "            # check topology of corner vertices\n",
    "            kvs, geo = self.patches[p][0]\n",
    "            crns = corners(geo)\n",
    "            \n",
    "\n",
    "            # check that there are no duplicate vertices in any segment\n",
    "            #for bd in bdrs:\n",
    "                #assert len(np.unique(bd)) == len(bd)\n",
    "\n",
    "            # check that connectivity of interfaces is consistent\n",
    "\n",
    "            for b, bd in enumerate(bdrs):\n",
    "                assert len(bd) >= 2    # each boundary has at least one segment\n",
    "                for s in range(len(bd) - 1):    # check each boundary segment\n",
    "                    other = self.get_matching_interface(p, b, s)\n",
    "                    if other:\n",
    "                        # if not on the boundary, make sure the other one refers back to this one\n",
    "                        matching = self.get_matching_interface(*other)\n",
    "                        #print((p,b,s), '->', other, '->', matching)\n",
    "                        assert matching == (p, b, s)\n",
    "\n",
    "                        # check that the two segments refer to the same two vertices\n",
    "                        (p1, b1, s1) = other\n",
    "                        assert sorted(bd[s:s+2]) == sorted(self.boundaries(p1)[b1][s1:s1+2])\n",
    "                    else:\n",
    "                        segment = tuple(sorted(bd[s:s+2]))\n",
    "                        if segment in outer_boundaries:\n",
    "                            assert False, str(segment) + ' is non-linked boundary segment for two patches!'\n",
    "                        outer_boundaries.add(segment)\n",
    "                        \n",
    "\n",
    "class BSegments:\n",
    "    def __init__(self, bds, normal_axis=None):\n",
    "        self.lower = None\n",
    "        self.upper  = None\n",
    "        self.axis  = None\n",
    "        self.boundaries = bds\n",
    "        self.normal_axis = normal_axis\n",
    "        \n",
    "    def split_segment(self, ax, seg=tuple(), edge = (0,0)):\n",
    "        S = self\n",
    "        for i in seg:\n",
    "            if i==0:\n",
    "                if S.lower:\n",
    "                    S=S.lower\n",
    "                else:\n",
    "                    assert 0, \"There is no segment here.\"\n",
    "            elif i==1:\n",
    "                if S.upper:\n",
    "                    S=S.upper\n",
    "                else:\n",
    "                    assert 0, \"There is no segment here.\"\n",
    "            else:\n",
    "                assert 0, \"wrong type of input for segment.\"\n",
    "        \n",
    "        S.axis = ax\n",
    "        P0,P1,P2,P3 = S.boundaries[0][0],S.boundaries[0][1],S.boundaries[1][0],S.boundaries[1][1]\n",
    "        S.boundaries = None\n",
    "        \n",
    "        assert self.normal_axis!=ax, \"cannot split in this axis since boundary segment is orthogonal.\"\n",
    "        axes = np.setdiff1d(np.arange(3), self.normal_axis)\n",
    "        if ax==min(axes):\n",
    "            bds_lower = [(P0,P1),edge,(P0,edge[0]),(P1,edge[1])]\n",
    "            bds_upper = [edge,(P2,P3),(edge[0],P2),(edge[1],P3)]\n",
    "        if ax==max(axes):\n",
    "            bds_lower = [(P0,edge[0]),(P2, edge[1]),(P0,P2),edge]\n",
    "            bds_upper = [(edge[0],P1),(edge[1],P3),edge,(P1,P3)]\n",
    "\n",
    "        S.lower = BSegments(bds_lower, self.normal_axis)\n",
    "        S.upper = BSegments(bds_upper, self.normal_axis)\n",
    "        \n",
    "            \n",
    "    def return_segments(self):\n",
    "        if not self.lower and not self.upper:\n",
    "            return [tuple()]\n",
    "        elif not self.lower and self.upper:\n",
    "            return [(1,) + seg for seg in self.upper.return_segments()]\n",
    "        elif self.lower and not self.upper:\n",
    "            return [(0,) + seg for seg in self.lower.return_segments()]\n",
    "        else:\n",
    "            return [(0,) + seg for seg in self.lower.return_segments()] + [(1,) + seg for seg in self.upper.return_segments()]\n",
    "        \n",
    "    def is_leaf(self):\n",
    "        return (self.upper == None and self.lower==None)\n",
    "    \n",
    "    def print(self):\n",
    "        if not self.lower and not self.upper:\n",
    "            return str(self.boundaries)\n",
    "        else:\n",
    "            return \"(\" + self.lower.print() + \",\" + self.upper.print() + \")\"\n",
    "                "
   ]
  },
  {
   "cell_type": "code",
   "execution_count": 26,
   "id": "5f8fd314-4b99-4354-8ff9-e3b470662764",
   "metadata": {},
   "outputs": [],
   "source": [
    "deg=1\n",
    "n=2\n",
    "kvs = 3*(3*(bspline.make_knots(deg,0,1,n),),)\n",
    "geos = [\n",
    "    geometry.unit_cube(),\n",
    "    #geometry.unit_cube().translate((1,0,0)),\n",
    "    #geometry.unit_cube().translate((1,1,0))\n",
    "]\n",
    "\n",
    "patches = [(kv,geo) for kv, geo in zip(kvs,geos)]\n",
    "M = PatchMesh3D(patches)"
   ]
  },
  {
   "cell_type": "code",
   "execution_count": 27,
   "id": "46f07e23-2f85-4abb-bcc2-42ca1519f06a",
   "metadata": {},
   "outputs": [
    {
     "data": {
      "text/plain": [
       "({0: (0, 1, 2, 3, 4, 5, 6, 7)},\n",
       " {0: (KnotVector(array([0.  , 0.  , 0.25, 0.5 , 0.75, 1.  , 1.  ]), 1),\n",
       "   KnotVector(array([0.  , 0.  , 0.25, 0.5 , 0.75, 1.  , 1.  ]), 1),\n",
       "   KnotVector(array([0.  , 0.  , 0.25, 0.5 , 0.75, 1.  , 1.  ]), 1))})"
      ]
     },
     "execution_count": 27,
     "metadata": {},
     "output_type": "execute_result"
    }
   ],
   "source": [
    "M.split_patches({0:None})\n",
    "#M.split_patches()"
   ]
  },
  {
   "cell_type": "code",
   "execution_count": 29,
   "id": "17210ecf-1875-4e9d-bf6f-de56969602ea",
   "metadata": {},
   "outputs": [
    {
     "data": {
      "image/png": "[encoded data removed]",
      "text/plain": [
       "<Figure size 576x576 with 1 Axes>"
      ]
     },
     "metadata": {
      "needs_background": "light"
     },
     "output_type": "display_data"
    }
   ],
   "source": [
    "M.draw(nodes=True, vertex_idx=True, knots=False, edge_idx=True)"
   ]
  },
  {
   "cell_type": "code",
   "execution_count": 6,
   "id": "a1746a3a-2be7-448f-a15a-7e9907c82420",
   "metadata": {},
   "outputs": [
    {
     "data": {
      "text/plain": [
       "False"
      ]
     },
     "execution_count": 6,
     "metadata": {},
     "output_type": "execute_result"
    }
   ],
   "source": [
    "(13,15) in M.edges"
   ]
  },
  {
   "cell_type": "code",
   "execution_count": 7,
   "id": "e2f0845d-7274-4e9c-ad1d-ce755abc4f44",
   "metadata": {},
   "outputs": [],
   "source": [
    "kvs = 2*(3*(bspline.make_knots(1,0.0,1.0,2),),)\n",
    "geos = [\n",
    "    geometry.unit_cube(),\n",
    "    geometry.unit_cube().translate((1,0,0))\n",
    "]\n",
    "\n",
    "patches = [(kv,geo) for kv, geo in zip(kvs,geos)]\n",
    "M = PatchMesh3D(patches)"
   ]
  },
  {
   "cell_type": "code",
   "execution_count": 9,
   "id": "e228a643-e3f9-4580-8c88-1d8efeccdf8b",
   "metadata": {},
   "outputs": [
    {
     "name": "stdout",
     "output_type": "stream",
     "text": [
      "(16, 17)\n",
      "(18, 19)\n",
      "(16, 18)\n",
      "(17, 19)\n"
     ]
    },
    {
     "ename": "AttributeError",
     "evalue": "'NoneType' object has no attribute 'return_segments'",
     "output_type": "error",
     "traceback": [
      "\u001b[0;31m---------------------------------------------------------------------------\u001b[0m",
      "\u001b[0;31mAttributeError\u001b[0m                            Traceback (most recent call last)",
      "\u001b[0;32m<ipython-input-9-e0c441501b15>\u001b[0m in \u001b[0;36m<module>\u001b[0;34m\u001b[0m\n\u001b[0;32m----> 1\u001b[0;31m \u001b[0m_\u001b[0m\u001b[0;34m=\u001b[0m\u001b[0mM\u001b[0m\u001b[0;34m.\u001b[0m\u001b[0msplit_patches\u001b[0m\u001b[0;34m(\u001b[0m\u001b[0;34m{\u001b[0m\u001b[0;36m0\u001b[0m\u001b[0;34m:\u001b[0m\u001b[0;36m1\u001b[0m\u001b[0;34m}\u001b[0m\u001b[0;34m)\u001b[0m\u001b[0;34m\u001b[0m\u001b[0;34m\u001b[0m\u001b[0m\n\u001b[0m",
      "\u001b[0;32m<ipython-input-2-b99279e031b9>\u001b[0m in \u001b[0;36msplit_patches\u001b[0;34m(self, patches, mult, dir_data)\u001b[0m\n\u001b[1;32m    404\u001b[0m         \u001b[0;32mfor\u001b[0m \u001b[0mp\u001b[0m \u001b[0;32min\u001b[0m \u001b[0mpatches\u001b[0m\u001b[0;34m.\u001b[0m\u001b[0mkeys\u001b[0m\u001b[0;34m(\u001b[0m\u001b[0;34m)\u001b[0m\u001b[0;34m:\u001b[0m\u001b[0;34m\u001b[0m\u001b[0;34m\u001b[0m\u001b[0m\n\u001b[1;32m    405\u001b[0m             \u001b[0;32mif\u001b[0m \u001b[0mdir_data\u001b[0m\u001b[0;34m==\u001b[0m\u001b[0;32mNone\u001b[0m\u001b[0;34m:\u001b[0m\u001b[0;34m\u001b[0m\u001b[0;34m\u001b[0m\u001b[0m\n\u001b[0;32m--> 406\u001b[0;31m                 \u001b[0mnew_p\u001b[0m\u001b[0;34m,\u001b[0m \u001b[0mnew_kvs_\u001b[0m \u001b[0;34m=\u001b[0m \u001b[0mself\u001b[0m\u001b[0;34m.\u001b[0m\u001b[0msplit_patch\u001b[0m\u001b[0;34m(\u001b[0m\u001b[0mp\u001b[0m\u001b[0;34m,\u001b[0m\u001b[0maxis\u001b[0m\u001b[0;34m=\u001b[0m\u001b[0mpatches\u001b[0m\u001b[0;34m[\u001b[0m\u001b[0mp\u001b[0m\u001b[0;34m]\u001b[0m\u001b[0;34m,\u001b[0m \u001b[0mmult\u001b[0m\u001b[0;34m=\u001b[0m\u001b[0mmult\u001b[0m\u001b[0;34m)\u001b[0m\u001b[0;34m\u001b[0m\u001b[0;34m\u001b[0m\u001b[0m\n\u001b[0m\u001b[1;32m    407\u001b[0m             \u001b[0;32melse\u001b[0m\u001b[0;34m:\u001b[0m\u001b[0;34m\u001b[0m\u001b[0;34m\u001b[0m\u001b[0m\n\u001b[1;32m    408\u001b[0m                 \u001b[0msplit_dirichlet_data\u001b[0m\u001b[0;34m(\u001b[0m\u001b[0mp\u001b[0m\u001b[0;34m,\u001b[0m \u001b[0mself\u001b[0m\u001b[0;34m.\u001b[0m\u001b[0mnumpatches\u001b[0m\u001b[0;34m,\u001b[0m \u001b[0mdir_data\u001b[0m\u001b[0;34m,\u001b[0m \u001b[0maxis\u001b[0m\u001b[0;34m=\u001b[0m\u001b[0mpatches\u001b[0m\u001b[0;34m[\u001b[0m\u001b[0mp\u001b[0m\u001b[0;34m]\u001b[0m\u001b[0;34m)\u001b[0m\u001b[0;34m\u001b[0m\u001b[0;34m\u001b[0m\u001b[0m\n",
      "\u001b[0;32m<ipython-input-2-b99279e031b9>\u001b[0m in \u001b[0;36msplit_patch\u001b[0;34m(self, p, axis, mult)\u001b[0m\n\u001b[1;32m    372\u001b[0m \u001b[0;34m\u001b[0m\u001b[0m\n\u001b[1;32m    373\u001b[0m             \u001b[0;31m# change patch index for all interfaces from the split part of the boundary\u001b[0m\u001b[0;34m\u001b[0m\u001b[0;34m\u001b[0m\u001b[0;34m\u001b[0m\u001b[0m\n\u001b[0;32m--> 374\u001b[0;31m             \u001b[0mself\u001b[0m\u001b[0;34m.\u001b[0m\u001b[0m_reindex_interfaces\u001b[0m\u001b[0;34m(\u001b[0m\u001b[0mp\u001b[0m\u001b[0;34m,\u001b[0m \u001b[0msb\u001b[0m\u001b[0;34m,\u001b[0m \u001b[0;34m[\u001b[0m\u001b[0;34m(\u001b[0m\u001b[0;36m1\u001b[0m\u001b[0;34m,\u001b[0m\u001b[0;34m)\u001b[0m \u001b[0;34m+\u001b[0m \u001b[0ms\u001b[0m \u001b[0;32mfor\u001b[0m \u001b[0ms\u001b[0m \u001b[0;32min\u001b[0m \u001b[0mnew_boundaries\u001b[0m\u001b[0;34m[\u001b[0m\u001b[0msb\u001b[0m\u001b[0;34m]\u001b[0m\u001b[0;34m.\u001b[0m\u001b[0mreturn_segments\u001b[0m\u001b[0;34m(\u001b[0m\u001b[0;34m)\u001b[0m\u001b[0;34m]\u001b[0m\u001b[0;34m,\u001b[0m \u001b[0mofs\u001b[0m\u001b[0;34m=\u001b[0m\u001b[0mtuple\u001b[0m\u001b[0;34m(\u001b[0m\u001b[0;34m)\u001b[0m\u001b[0;34m,\u001b[0m \u001b[0mr\u001b[0m \u001b[0;34m=\u001b[0m \u001b[0;36m1\u001b[0m\u001b[0;34m,\u001b[0m \u001b[0mnew_p\u001b[0m\u001b[0;34m=\u001b[0m\u001b[0mnew_p\u001b[0m\u001b[0;34m)\u001b[0m\u001b[0;34m\u001b[0m\u001b[0;34m\u001b[0m\u001b[0m\n\u001b[0m\u001b[1;32m    375\u001b[0m             \u001b[0mself\u001b[0m\u001b[0;34m.\u001b[0m\u001b[0m_reindex_interfaces\u001b[0m\u001b[0;34m(\u001b[0m\u001b[0mp\u001b[0m\u001b[0;34m,\u001b[0m \u001b[0msb\u001b[0m\u001b[0;34m,\u001b[0m \u001b[0;34m[\u001b[0m\u001b[0;34m(\u001b[0m\u001b[0;36m0\u001b[0m\u001b[0;34m,\u001b[0m\u001b[0;34m)\u001b[0m \u001b[0;34m+\u001b[0m \u001b[0ms\u001b[0m \u001b[0;32mfor\u001b[0m \u001b[0ms\u001b[0m \u001b[0;32min\u001b[0m \u001b[0mnew_boundaries\u001b[0m\u001b[0;34m[\u001b[0m\u001b[0msb\u001b[0m\u001b[0;34m]\u001b[0m\u001b[0;34m.\u001b[0m\u001b[0mreturn_segments\u001b[0m\u001b[0;34m(\u001b[0m\u001b[0;34m)\u001b[0m\u001b[0;34m]\u001b[0m\u001b[0;34m,\u001b[0m \u001b[0mofs\u001b[0m\u001b[0;34m=\u001b[0m\u001b[0mtuple\u001b[0m\u001b[0;34m(\u001b[0m\u001b[0;34m)\u001b[0m\u001b[0;34m,\u001b[0m \u001b[0mr\u001b[0m \u001b[0;34m=\u001b[0m \u001b[0;36m1\u001b[0m\u001b[0;34m)\u001b[0m\u001b[0;34m\u001b[0m\u001b[0;34m\u001b[0m\u001b[0m\n\u001b[1;32m    376\u001b[0m \u001b[0;34m\u001b[0m\u001b[0m\n",
      "\u001b[0;31mAttributeError\u001b[0m: 'NoneType' object has no attribute 'return_segments'"
     ]
    }
   ],
   "source": [
    "_=M.split_patches({0:1})"
   ]
  },
  {
   "cell_type": "code",
   "execution_count": 13,
   "id": "d7e04eea-1a01-48d8-9ba9-506ca31c1a82",
   "metadata": {},
   "outputs": [
    {
     "data": {
      "text/plain": [
       "<patchmesh.PatchMesh at 0x7fcd6371a850>"
      ]
     },
     "execution_count": 13,
     "metadata": {},
     "output_type": "execute_result"
    }
   ],
   "source": [
    "M"
   ]
  },
  {
   "cell_type": "code",
   "execution_count": 14,
   "id": "dda23d3c-5e0d-49ee-bdbf-bb7b2471e3d8",
   "metadata": {},
   "outputs": [
    {
     "data": {
      "text/plain": [
       "[[(0,), (0,)],\n",
       " [(0,), (1,)],\n",
       " [(1,), (0,)],\n",
       " [(1,), (1,)],\n",
       " [(2,), (0,)],\n",
       " [(2,), (1,)]]"
      ]
     },
     "execution_count": 14,
     "metadata": {},
     "output_type": "execute_result"
    }
   ],
   "source": [
    "face_indices(3,2,z=False)"
   ]
  },
  {
   "cell_type": "code",
   "execution_count": 55,
   "id": "994c2e73-fe72-42f6-997f-648a0747c371",
   "metadata": {},
   "outputs": [],
   "source": [
    "import itertools\n",
    "kvs=(bspline.make_knots(1,0.0,1.0,1),bspline.make_knots(1,0.0,1.0,2),bspline.make_knots(1,0.0,1.0,1))\n",
    "(axis, sides) = ((0,),(0,))\n",
    "N = tuple(kv.numdofs for kv in kvs)"
   ]
  },
  {
   "cell_type": "code",
   "execution_count": 56,
   "id": "ac83217c-bfca-47a0-a583-b7f7167d8fbe",
   "metadata": {},
   "outputs": [],
   "source": [
    "geo1=geometry.unit_square()\n",
    "geo2=geo1.translate((1,0))"
   ]
  },
  {
   "cell_type": "code",
   "execution_count": 58,
   "id": "1b7581e8-67cd-428a-8654-d880d5186394",
   "metadata": {},
   "outputs": [
    {
     "data": {
      "text/plain": [
       "(False, (None, None))"
      ]
     },
     "execution_count": 58,
     "metadata": {},
     "output_type": "execute_result"
    }
   ],
   "source": [
    "assemble._check_geo_match(geo1.boundary([(0,0)]), geo2.boundary([(0,0)]))"
   ]
  },
  {
   "cell_type": "code",
   "execution_count": 78,
   "id": "5216f054-8435-49a1-b3d8-401f87911afe",
   "metadata": {},
   "outputs": [],
   "source": [
    "def slice_indices(axis, sides, shape, ravel=False, swap=None, flip=None):\n",
    "    \"\"\"Return dof indices for a slice of a tensor product basis with size\n",
    "    `shape`. The slice is taken across index `idx` on axis `ax`.\n",
    "    The indices are returned either as a `N × dim` array of multiindices or,\n",
    "    with `ravel=True`, as an array of sequential (raveled) indices.\n",
    "    \"\"\"\n",
    "    shape = tuple(shape)\n",
    "    dim = len(shape)\n",
    "    not_axis = tuple(np.setdiff1d(range(dim),axis))\n",
    "    sides=list(sides)\n",
    "    \n",
    "    for i,ax in enumerate(axis):\n",
    "        if sides[i] < 0:\n",
    "            sides[i] += shape[ax]     # wrap around\n",
    "    axdofs = [np.arange(n) for n in shape]\n",
    "\n",
    "    if flip is not None:\n",
    "        flip = list(flip)\n",
    "        #flip = flip[:ax] + (False,) + flip[ax:]     # insert trivial axis\n",
    "        for ax in axis:\n",
    "            flip.insert(ax, False)    # insert trivial axis\n",
    "        for i, flp in enumerate(flip):\n",
    "            if flp:\n",
    "                axdofs[i] = np.flip(axdofs[i])\n",
    "    for ax, idx in zip(axis,sides):\n",
    "        axdofs[ax]=np.array([idx])\n",
    "        \n",
    "    axdofs_ = [axdofs[ax] for ax in not_axis]\n",
    "    if swap is not None:\n",
    "        k=0\n",
    "        for i in range(dim):\n",
    "            if i in axis:\n",
    "                axdofs[i] = axdofs[i]\n",
    "            else:\n",
    "                axdofs[i]=axdofs_[swap[k]]\n",
    "                k += 1\n",
    "    #return axdofs\n",
    "    \n",
    "    multi_indices = np.array(list(itertools.product(*axdofs)))\n",
    "    if swap is not None:\n",
    "        multi_indices[:,not_axis] = multi_indices[:,not_axis][:,swap]\n",
    "    if ravel:\n",
    "        multi_indices = np.ravel_multi_index(multi_indices.T, shape)\n",
    "    return multi_indices"
   ]
  },
  {
   "cell_type": "code",
   "execution_count": 81,
   "id": "d63ffd2b-3cf4-4a34-a6e1-1a7746866371",
   "metadata": {},
   "outputs": [
    {
     "name": "stdout",
     "output_type": "stream",
     "text": [
      "[0]\n",
      "[1]\n",
      "[4]\n",
      "[5]\n",
      "[6]\n",
      "[7]\n",
      "[10]\n",
      "[11]\n"
     ]
    }
   ],
   "source": [
    "n=3\n",
    "m=0\n",
    "for s in E(n,m,z=False):\n",
    "    print(slice_indices(*s, N, ravel=True))"
   ]
  },
  {
   "cell_type": "code",
   "execution_count": 448,
   "id": "43fcf012-494e-4f6e-bd1e-e076aa70e8fd",
   "metadata": {},
   "outputs": [
    {
     "data": {
      "text/plain": [
       "array([4, 5])"
      ]
     },
     "execution_count": 448,
     "metadata": {},
     "output_type": "execute_result"
    }
   ],
   "source": [
    "slice_indices((0,1),(0,-1), N, ravel=True)"
   ]
  },
  {
   "cell_type": "code",
   "execution_count": 22,
   "id": "2e0c532b-d177-4135-ab37-93201ab1a259",
   "metadata": {},
   "outputs": [
    {
     "data": {
      "text/plain": [
       "array([1, 3, 5])"
      ]
     },
     "execution_count": 22,
     "metadata": {},
     "output_type": "execute_result"
    }
   ],
   "source": [
    "assemble.boundary_dofs(kvs,((0,2),(0,1)), ravel=True)"
   ]
  },
  {
   "cell_type": "code",
   "execution_count": 86,
   "id": "1f426dc6-8675-454d-9185-bd70bb82c641",
   "metadata": {},
   "outputs": [
    {
     "ename": "TypeError",
     "evalue": "list indices must be integers or slices, not tuple",
     "output_type": "error",
     "traceback": [
      "\u001b[0;31m---------------------------------------------------------------------------\u001b[0m",
      "\u001b[0;31mTypeError\u001b[0m                                 Traceback (most recent call last)",
      "\u001b[0;32m<ipython-input-86-f81a7aea8634>\u001b[0m in \u001b[0;36m<module>\u001b[0;34m\u001b[0m\n\u001b[0;32m----> 1\u001b[0;31m \u001b[0mA\u001b[0m\u001b[0;34m[\u001b[0m\u001b[0;34m(\u001b[0m\u001b[0;36m1\u001b[0m\u001b[0;34m,\u001b[0m\u001b[0;36m3\u001b[0m\u001b[0;34m)\u001b[0m\u001b[0;34m]\u001b[0m\u001b[0;34m\u001b[0m\u001b[0;34m\u001b[0m\u001b[0m\n\u001b[0m",
      "\u001b[0;31mTypeError\u001b[0m: list indices must be integers or slices, not tuple"
     ]
    }
   ],
   "source": [
    "A[(1,3)]"
   ]
  },
  {
   "cell_type": "code",
   "execution_count": 158,
   "id": "77ff572b-3b39-4559-896b-ab077ddbefba",
   "metadata": {},
   "outputs": [],
   "source": [
    "def edges(corners):\n",
    "    C=np.array(corners).reshape(2,2,2)\n",
    "    return np.vstack((C.reshape(-1,2), C.transpose((0,2,1)).reshape(-1,2), C.transpose((1,2,0)).reshape(-1,2)))\n",
    "def corners(geo, ravel=False):\n",
    "    \"\"\"Return an array containing the locations of the 2^d corners of the given\n",
    "    geometry.\"\"\"\n",
    "    vtx = geo.grid_eval(geo.support)\n",
    "    if ravel:\n",
    "        return vtx.reshape((-1, geo.dim))\n",
    "    return vtx"
   ]
  },
  {
   "cell_type": "code",
   "execution_count": 142,
   "id": "44337dc9-702c-4520-ace9-fc93728e1711",
   "metadata": {},
   "outputs": [
    {
     "data": {
      "text/plain": [
       "array([[0, 1],\n",
       "       [2, 3],\n",
       "       [4, 5],\n",
       "       [6, 7],\n",
       "       [0, 2],\n",
       "       [1, 3],\n",
       "       [4, 6],\n",
       "       [5, 7],\n",
       "       [0, 4],\n",
       "       [1, 5],\n",
       "       [2, 6],\n",
       "       [3, 7]])"
      ]
     },
     "execution_count": 142,
     "metadata": {},
     "output_type": "execute_result"
    }
   ],
   "source": [
    "edges(range(8))"
   ]
  },
  {
   "cell_type": "code",
   "execution_count": 144,
   "id": "1ebda407-b8cb-4adc-b908-fc723b9dad40",
   "metadata": {},
   "outputs": [],
   "source": [
    "C=np.array(range(8)).reshape(2,2,2)"
   ]
  },
  {
   "cell_type": "code",
   "execution_count": 155,
   "id": "ce1f48e2-969d-4c00-ad27-aa986c2ab8bd",
   "metadata": {},
   "outputs": [
    {
     "data": {
      "text/plain": [
       "array([[0, 4],\n",
       "       [1, 5],\n",
       "       [2, 6],\n",
       "       [3, 7]])"
      ]
     },
     "execution_count": 155,
     "metadata": {},
     "output_type": "execute_result"
    }
   ],
   "source": [
    "C.transpose((1,2,0)).reshape(-1,2)"
   ]
  },
  {
   "cell_type": "code",
   "execution_count": 159,
   "id": "1132f38f-4e4b-4493-b372-c040a84bb1b7",
   "metadata": {},
   "outputs": [],
   "source": [
    "geo=geometry.unit_cube()"
   ]
  },
  {
   "cell_type": "code",
   "execution_count": 167,
   "id": "d3bfd00c-a9f6-4568-85e5-13b1c60268d4",
   "metadata": {},
   "outputs": [
    {
     "data": {
      "text/plain": [
       "array([0., 0., 0.])"
      ]
     },
     "execution_count": 167,
     "metadata": {},
     "output_type": "execute_result"
    }
   ],
   "source": [
    "corners(geo).reshape(-1,3)[0]"
   ]
  },
  {
   "cell_type": "code",
   "execution_count": 118,
   "id": "528b7496-4634-4d00-8e61-ed1582e3d787",
   "metadata": {},
   "outputs": [
    {
     "ename": "AttributeError",
     "evalue": "'list' object has no attribute 'translate'",
     "output_type": "error",
     "traceback": [
      "\u001b[0;31m---------------------------------------------------------------------------\u001b[0m",
      "\u001b[0;31mAttributeError\u001b[0m                            Traceback (most recent call last)",
      "\u001b[0;32m<ipython-input-118-a773ea520227>\u001b[0m in \u001b[0;36m<module>\u001b[0;34m\u001b[0m\n\u001b[0;32m----> 1\u001b[0;31m \u001b[0;34m[\u001b[0m\u001b[0;36m1\u001b[0m\u001b[0;34m,\u001b[0m\u001b[0;36m2\u001b[0m\u001b[0;34m,\u001b[0m\u001b[0;36m3\u001b[0m\u001b[0;34m]\u001b[0m\u001b[0;34m.\u001b[0m\u001b[0mtranslate\u001b[0m\u001b[0;34m(\u001b[0m\u001b[0;34m(\u001b[0m\u001b[0;36m1\u001b[0m\u001b[0;34m,\u001b[0m\u001b[0;36m2\u001b[0m\u001b[0;34m,\u001b[0m\u001b[0;36m0\u001b[0m\u001b[0;34m)\u001b[0m\u001b[0;34m)\u001b[0m\u001b[0;34m\u001b[0m\u001b[0;34m\u001b[0m\u001b[0m\n\u001b[0m",
      "\u001b[0;31mAttributeError\u001b[0m: 'list' object has no attribute 'translate'"
     ]
    }
   ],
   "source": [
    "[1,2,3].translate((1,2,0))"
   ]
  },
  {
   "cell_type": "code",
   "execution_count": 37,
   "id": "d8d0f8d9-02e1-436a-8fb7-8bcf64205279",
   "metadata": {},
   "outputs": [],
   "source": [
    "s=3\n",
    "axis = (1,)\n",
    "naxis = setdiff1d(range(s),axis)\n",
    "swap = (1,0)\n",
    "flip = (True, False)"
   ]
  },
  {
   "cell_type": "code",
   "execution_count": 40,
   "id": "635d99a7-224f-4d71-a9b0-11e87be714a1",
   "metadata": {},
   "outputs": [
    {
     "data": {
      "text/plain": [
       "array([ True, False])"
      ]
     },
     "execution_count": 40,
     "metadata": {},
     "output_type": "execute_result"
    }
   ],
   "source": [
    "flip = np.array(flip)\n",
    "flip"
   ]
  },
  {
   "cell_type": "code",
   "execution_count": 119,
   "id": "6169101e-1bc3-4e90-99b2-0ae4a3d11d85",
   "metadata": {},
   "outputs": [],
   "source": [
    "A=np.array([0,1,2,3,4])"
   ]
  },
  {
   "cell_type": "code",
   "execution_count": 160,
   "id": "5287056b-294e-47b7-94b5-302694e151fa",
   "metadata": {},
   "outputs": [
    {
     "name": "stdout",
     "output_type": "stream",
     "text": [
      "[array(<generator object <genexpr> at 0x7fb96c144890>, dtype=object)]\n"
     ]
    }
   ],
   "source": [
    "A=np.array([np.array([1,2,3] for i in range(3))])\n",
    "print(A)"
   ]
  },
  {
   "cell_type": "code",
   "execution_count": 159,
   "id": "4aeba859-2572-4c00-b7e9-ec9eeb87d136",
   "metadata": {},
   "outputs": [
    {
     "data": {
      "text/plain": [
       "[(range(0, 2),), (range(0, 3),)]"
      ]
     },
     "execution_count": 159,
     "metadata": {},
     "output_type": "execute_result"
    }
   ],
   "source": [
    "list(itertools.product([range(2),range(3)]))"
   ]
  },
  {
   "cell_type": "code",
   "execution_count": 44,
   "id": "673cb00e-bd94-45bf-8c94-6d5d18a51e9b",
   "metadata": {},
   "outputs": [],
   "source": [
    "A=np.array([1,2,3])"
   ]
  },
  {
   "cell_type": "code",
   "execution_count": 49,
   "id": "f8e0e0db-70bd-4663-b019-9393c59d7a2a",
   "metadata": {},
   "outputs": [
    {
     "data": {
      "text/plain": [
       "array([2, 3, 1])"
      ]
     },
     "execution_count": 49,
     "metadata": {},
     "output_type": "execute_result"
    }
   ],
   "source": [
    "A[np.array((1,2,0))]"
   ]
  },
  {
   "cell_type": "code",
   "execution_count": 59,
   "id": "452b3fd6-7344-48bd-8311-1b62176e1633",
   "metadata": {},
   "outputs": [],
   "source": [
    "axis=(2,3)"
   ]
  },
  {
   "cell_type": "code",
   "execution_count": 60,
   "id": "455c882d-d220-48f9-9cbc-0c893198925c",
   "metadata": {},
   "outputs": [],
   "source": [
    "flip = 3*(True,)"
   ]
  },
  {
   "cell_type": "code",
   "execution_count": 61,
   "id": "d0054c22-da36-4f33-b81c-252c78865410",
   "metadata": {},
   "outputs": [],
   "source": [
    "flip = list(flip)"
   ]
  },
  {
   "cell_type": "code",
   "execution_count": 62,
   "id": "a80903ea-5208-4942-8962-c5cf4ee814cd",
   "metadata": {},
   "outputs": [],
   "source": [
    "flip.insert(2,False)\n",
    "flip.insert(3,False)"
   ]
  },
  {
   "cell_type": "code",
   "execution_count": 63,
   "id": "2c670790-07a0-47a4-8630-c3c89a4277f9",
   "metadata": {},
   "outputs": [
    {
     "data": {
      "text/plain": [
       "[True, True, False, False, True]"
      ]
     },
     "execution_count": 63,
     "metadata": {},
     "output_type": "execute_result"
    }
   ],
   "source": [
    "flip"
   ]
  },
  {
   "cell_type": "code",
   "execution_count": 77,
   "id": "5f0c0f92-df8c-4f4d-8cc1-974f9945fc4e",
   "metadata": {},
   "outputs": [
    {
     "data": {
      "text/plain": [
       "array([2])"
      ]
     },
     "execution_count": 77,
     "metadata": {},
     "output_type": "execute_result"
    }
   ],
   "source": [
    "np.setdiff1d((0,1,2),(0,1))"
   ]
  },
  {
   "cell_type": "code",
   "execution_count": 94,
   "id": "c6348ace-7a65-4650-bfdb-d97d0e276aa8",
   "metadata": {},
   "outputs": [],
   "source": [
    "A=[0,1,2]"
   ]
  },
  {
   "cell_type": "code",
   "execution_count": 95,
   "id": "b3a37c0e-f665-4e6d-870d-794326a0054e",
   "metadata": {},
   "outputs": [
    {
     "ename": "TypeError",
     "evalue": "only integer scalar arrays can be converted to a scalar index",
     "output_type": "error",
     "traceback": [
      "\u001b[0;31m---------------------------------------------------------------------------\u001b[0m",
      "\u001b[0;31mTypeError\u001b[0m                                 Traceback (most recent call last)",
      "\u001b[0;32m<ipython-input-95-45d6277864be>\u001b[0m in \u001b[0;36m<module>\u001b[0;34m\u001b[0m\n\u001b[0;32m----> 1\u001b[0;31m \u001b[0mA\u001b[0m\u001b[0;34m[\u001b[0m\u001b[0mnp\u001b[0m\u001b[0;34m.\u001b[0m\u001b[0marray\u001b[0m\u001b[0;34m(\u001b[0m\u001b[0;34m[\u001b[0m\u001b[0;36m1\u001b[0m\u001b[0;34m]\u001b[0m\u001b[0;34m)\u001b[0m\u001b[0;34m]\u001b[0m\u001b[0;34m\u001b[0m\u001b[0;34m\u001b[0m\u001b[0m\n\u001b[0m",
      "\u001b[0;31mTypeError\u001b[0m: only integer scalar arrays can be converted to a scalar index"
     ]
    }
   ],
   "source": [
    "A[np.array([1])]"
   ]
  },
  {
   "cell_type": "code",
   "execution_count": 106,
   "id": "ddea628b-d06b-480a-82ab-96ac1c17e5e2",
   "metadata": {},
   "outputs": [],
   "source": [
    "axis = (2,)\n",
    "swap = (1,0)\n",
    "A=np.array([0,1,2])"
   ]
  },
  {
   "cell_type": "code",
   "execution_count": 107,
   "id": "1195964c-3724-428e-b67b-f0e96e2e870e",
   "metadata": {},
   "outputs": [],
   "source": [
    "A[np.setdiff1d(range(len(A)),axis)] = A[np.setdiff1d(range(len(A)),axis)][list(swap)]"
   ]
  },
  {
   "cell_type": "code",
   "execution_count": 108,
   "id": "aef5ed8f-45a3-4ad2-b1b0-2a504cd0888d",
   "metadata": {},
   "outputs": [
    {
     "data": {
      "text/plain": [
       "array([1, 0, 2])"
      ]
     },
     "execution_count": 108,
     "metadata": {},
     "output_type": "execute_result"
    }
   ],
   "source": [
    "A"
   ]
  },
  {
   "cell_type": "code",
   "execution_count": 146,
   "id": "1923e734-df04-4792-a29a-fab90db9a80c",
   "metadata": {},
   "outputs": [],
   "source": [
    "def f(x,y): return 1"
   ]
  },
  {
   "cell_type": "code",
   "execution_count": 148,
   "id": "6688f133-8630-4645-b3fa-16f0cc83c3f9",
   "metadata": {},
   "outputs": [
    {
     "data": {
      "text/plain": [
       "1"
      ]
     },
     "execution_count": 148,
     "metadata": {},
     "output_type": "execute_result"
    }
   ],
   "source": [
    "f(*np.array([0,1]))"
   ]
  },
  {
   "cell_type": "code",
   "execution_count": 17,
   "id": "3701e6f7-d02e-4f1b-b366-97f0232fb0be",
   "metadata": {},
   "outputs": [],
   "source": [
    "alpha=1.1\n",
    "t =np.linspace(0,1,100)\n",
    "f1= lambda t: alpha*t**(alpha-1)\n",
    "f2= lambda t: alpha*(alpha-1)*t**(alpha-2)"
   ]
  },
  {
   "cell_type": "code",
   "execution_count": 18,
   "id": "81ad4ba1-38f3-43e8-bb76-cc8ed552b7ce",
   "metadata": {},
   "outputs": [
    {
     "name": "stderr",
     "output_type": "stream",
     "text": [
      "<ipython-input-17-238eb6852f34>:4: RuntimeWarning: divide by zero encountered in power\n",
      "  f2= lambda t: alpha*(alpha-1)*t**(alpha-2)\n"
     ]
    },
    {
     "data": {
      "text/plain": [
       "[<matplotlib.lines.Line2D at 0x7f4a544af400>]"
      ]
     },
     "execution_count": 18,
     "metadata": {},
     "output_type": "execute_result"
    },
    {
     "data": {
      "image/png": "[encoded data removed]",
      "text/plain": [
       "<Figure size 432x288 with 1 Axes>"
      ]
     },
     "metadata": {
      "needs_background": "light"
     },
     "output_type": "display_data"
    }
   ],
   "source": [
    "plt.plot(t,f(t))\n",
    "plt.plot(t,f2(t))"
   ]
  },
  {
   "cell_type": "code",
   "execution_count": null,
   "id": "1de37d8d-b914-4319-9cf5-f9748093f606",
   "metadata": {},
   "outputs": [],
   "source": []
  }
 ],
 "metadata": {
  "kernelspec": {
   "display_name": "Python 3",
   "language": "python",
   "name": "python3"
  },
  "language_info": {
   "codemirror_mode": {
    "name": "ipython",
    "version": 3
   },
   "file_extension": ".py",
   "mimetype": "text/x-python",
   "name": "python",
   "nbconvert_exporter": "python",
   "pygments_lexer": "ipython3",
   "version": "3.8.8"
  }
 },
 "nbformat": 4,
 "nbformat_minor": 5
}
