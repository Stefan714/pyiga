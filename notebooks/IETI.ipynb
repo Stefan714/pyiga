{
 "cells": [
  {
   "cell_type": "code",
   "execution_count": 1,
   "id": "0a3ad70c-69ae-4365-9b61-6828a992d55c",
   "metadata": {},
   "outputs": [
    {
     "name": "stdout",
     "output_type": "stream",
     "text": [
      "Populating the interactive namespace from numpy and matplotlib\n"
     ]
    }
   ],
   "source": [
    "%pylab inline\n",
    "import scipy\n",
    "from scipy.sparse import coo_matrix, block_diag, identity, hstack\n",
    "import matplotlib.pyplot as plt\n",
    "from pyiga import bspline, vform, geometry, vis, solvers, utils, topology, ieti, algebra\n",
    "from pyiga import assemble\n",
    "from sksparse.cholmod import cholesky\n",
    "from pyiga import adaptive as adap\n",
    "import json\n",
    "from os.path import exists\n",
    "import itertools\n",
    "\n",
    "numpy.set_printoptions(linewidth=100000)\n",
    "numpy.set_printoptions(precision=5)"
   ]
  },
  {
   "cell_type": "code",
   "execution_count": 2,
   "id": "19459b93-2849-496c-b9b9-b859950c315f",
   "metadata": {},
   "outputs": [
    {
     "name": "stdout",
     "output_type": "stream",
     "text": [
      "setting up constraints took 0.016755342483520508 seconds.\n",
      "Basis setup took 0.006985664367675781 seconds\n"
     ]
    },
    {
     "data": {
      "image/png": "[encoded data removed]",
      "text/plain": [
       "<Figure size 640x480 with 1 Axes>"
      ]
     },
     "metadata": {},
     "output_type": "display_data"
    }
   ],
   "source": [
    "# define discretization space (the same in each patch)\n",
    "deg = 1\n",
    "N = 2\n",
    "k = 1\n",
    "\n",
    "geos = [\n",
    "    geometry.unit_square(),\n",
    "    geometry.unit_square().translate((1,0)),\n",
    "    geometry.unit_square().translate((2,0)),\n",
    "    geometry.unit_square().translate((0,1)),\n",
    "    geometry.unit_square().translate((1,1)),\n",
    "    geometry.unit_square().translate((2,1)),\n",
    "    geometry.unit_square().translate((0,2)),\n",
    "    geometry.unit_square().translate((1,2)),\n",
    "    geometry.unit_square().translate((2,2)),\n",
    "]\n",
    "\n",
    "#kvs = [2 * (bspline.make_knots(p, 0.0, 1.0, N),) if i%2==0 else 2 * (bspline.make_knots(p, 0.0, 1.0, k*N),) for i in range(len(geos))]\n",
    "#kvs = [2 * (bspline.make_knots(p, 0.0, 1.0, N),), 2 * (bspline.make_knots(p, 0.0, 1.0, k*N),),2 * (bspline.make_knots(p, 0.0, 1.0, k*N),), 2 * (bspline.make_knots(p, 0.0, 1.0, N),)] # 15\n",
    "kvs=9*[2*(bspline.make_knots(deg,0.0,1.0,N),)]\n",
    "patches = [(kvs, g) for kvs, g in zip(kvs,geos)]\n",
    "\n",
    "# set up a PatchMesh object, which detects interfaces between patches\n",
    "M = topology.PatchMesh(patches)\n",
    "MP = assemble.Multipatch(M, automatch=True)\n",
    "MP.set_dirichlet_boundary({0:lambda x,y:0.})\n",
    "MP.mesh.draw(patch_idx = 1, knots=1, bcolor={0:'blue',1:'red'}, nodes=1, axis='off')\n",
    "axis('scaled');\n",
    "\n",
    "### Define data and prepare Dirichlet boundary dofs\n",
    "\n",
    "# source term f and Dirichlet boundary function g\n",
    "f = lambda x, y: 1.\n",
    "g = lambda x, y: 0. \n",
    "\n",
    "params = {'f' : f, 'g' : g}"
   ]
  },
  {
   "cell_type": "code",
   "execution_count": 3,
   "id": "7cae6cbb-106e-4eb0-ad90-9915a8afae5a",
   "metadata": {},
   "outputs": [],
   "source": [
    "I = ieti.IetiDP(MP, dir_data = {0:g}, elim=False)\n",
    "I.assemble(f=lambda x,y: 1.)\n",
    "I.construct_primal_constraints()\n",
    "#I.construct_primal_basis()"
   ]
  },
  {
   "cell_type": "code",
   "execution_count": 4,
   "id": "92bfe701-6248-4126-b012-11abf81b9f8e",
   "metadata": {},
   "outputs": [
    {
     "data": {
      "text/plain": [
       "[<1x4 sparse matrix of type '<class 'numpy.float64'>'\n",
       " \twith 1 stored elements in Compressed Sparse Column format>,\n",
       " <2x6 sparse matrix of type '<class 'numpy.float64'>'\n",
       " \twith 2 stored elements in Compressed Sparse Column format>,\n",
       " <1x4 sparse matrix of type '<class 'numpy.float64'>'\n",
       " \twith 1 stored elements in Compressed Sparse Column format>,\n",
       " <2x6 sparse matrix of type '<class 'numpy.float64'>'\n",
       " \twith 2 stored elements in Compressed Sparse Column format>,\n",
       " <4x9 sparse matrix of type '<class 'numpy.float64'>'\n",
       " \twith 4 stored elements in Compressed Sparse Column format>,\n",
       " <2x6 sparse matrix of type '<class 'numpy.float64'>'\n",
       " \twith 2 stored elements in Compressed Sparse Column format>,\n",
       " <1x4 sparse matrix of type '<class 'numpy.float64'>'\n",
       " \twith 1 stored elements in Compressed Sparse Column format>,\n",
       " <2x6 sparse matrix of type '<class 'numpy.float64'>'\n",
       " \twith 2 stored elements in Compressed Sparse Column format>,\n",
       " <1x4 sparse matrix of type '<class 'numpy.float64'>'\n",
       " \twith 1 stored elements in Compressed Sparse Column format>]"
      ]
     },
     "execution_count": 4,
     "metadata": {},
     "output_type": "execute_result"
    }
   ],
   "source": [
    "I.Ck"
   ]
  },
  {
   "cell_type": "code",
   "execution_count": 5,
   "id": "2de269c2-1201-437c-88f2-49ac07147dd5",
   "metadata": {},
   "outputs": [],
   "source": [
    "# PsiK=[]\n",
    "# cpp = I.space.get_crosspoints() \n",
    "# G = {}\n",
    "# s=0\n",
    "# for p in cpp:\n",
    "#     for l, g in cpp[p]:\n",
    "#         if g not in G:\n",
    "#             G[g]=s\n",
    "#             s+=1\n",
    "# for p in range(len(I.space.mesh.patches)):\n",
    "    \n",
    "#     a = I.Ak[p]\n",
    "#     c = I.Ck[p]\n",
    "#     AC = scipy.sparse.bmat(\n",
    "#     [[a, c.T],\n",
    "#      [c,  None   ]], format='csr')\n",
    "#     RHS = np.vstack([np.zeros((a.shape[0],c.shape[0])), np.identity(c.shape[0])])\n",
    "#     psi = scipy.sparse.linalg.spsolve(AC, RHS)\n",
    "#     psi, delta = psi[:a.shape[0],], psi[a.shape[0]:,]\n",
    "#     if psi.ndim==1: psi=psi[:,None]\n",
    "#     data = np.ones(psi.shape[1])\n",
    "#     ii = np.arange(len(cpp[p]))\n",
    "#     jj = np.array([G[g] for _,g in cpp[p]])\n",
    "#     r=coo_matrix((data,(ii,jj)),(psi.shape[1],len(G)))\n",
    "#     PsiK.append(psi@r)\n",
    "#     #print(PsiK.shape)\n",
    "    \n",
    "# #print(scipy.vstack(PsiK))\n",
    "#     #Psik.append(psi)\n",
    "#     #self.Rk.append(r)"
   ]
  },
  {
   "cell_type": "code",
   "execution_count": 6,
   "id": "9711d4a5-5d28-4a30-87b7-ab8b123f6b1a",
   "metadata": {},
   "outputs": [],
   "source": [
    "F,b= I.compute_F()"
   ]
  },
  {
   "cell_type": "code",
   "execution_count": 7,
   "id": "356b7a53-b26b-402f-a5f8-2471ff2b03b0",
   "metadata": {},
   "outputs": [],
   "source": [
    "MsD = I.MsD()"
   ]
  },
  {
   "cell_type": "code",
   "execution_count": 8,
   "id": "d04b07b0-c4d5-42f8-a153-fc91a755c53a",
   "metadata": {},
   "outputs": [],
   "source": [
    "# F_mat = F.dot(np.eye(F.shape[1]))\n",
    "\n",
    "# print(\"Condition of Schur Complement: \"+str(algebra.condest(F_mat)))\n",
    "# print(\"Condition of preconditioned Schur Complement: \"+str(algebra.condest(MsD@F_mat)))"
   ]
  },
  {
   "cell_type": "code",
   "execution_count": 15,
   "id": "ac52021a-68aa-4748-b5a2-9a3f9b44a8b5",
   "metadata": {},
   "outputs": [
    {
     "name": "stdout",
     "output_type": "stream",
     "text": [
      "pcg stopped after 3 iterations with relres 1.060068983187972e-07\n"
     ]
    }
   ],
   "source": [
    "### Solve the system with PCG\n",
    "lam, it, r = solvers.pcg(F, b, x0=None, maxiter=200, P=MsD, output=1, tol=1e-6)"
   ]
  },
  {
   "cell_type": "code",
   "execution_count": 36,
   "id": "dc4b4b62-b3cd-41a0-884b-db4354dbdcbd",
   "metadata": {},
   "outputs": [
    {
     "name": "stdout",
     "output_type": "stream",
     "text": [
      "setting up constraints took 0.012816190719604492 seconds.\n",
      "Basis setup took 0.006990671157836914 seconds\n"
     ]
    },
    {
     "data": {
      "image/png": "[encoded data removed]",
      "text/plain": [
       "<Figure size 640x480 with 1 Axes>"
      ]
     },
     "metadata": {},
     "output_type": "display_data"
    }
   ],
   "source": [
    "f = lambda x, y: 1.\n",
    "g = lambda x, y: 0. \n",
    "\n",
    "params = {'f' : f, 'g' : g}\n",
    "deg=2\n",
    "\n",
    "patches = [(2*(bspline.make_knots(deg,0.0,1.0,2),),geometry.unit_square())]\n",
    "M = topology.PatchMesh(patches)\n",
    "M.h_refine(0)\n",
    "M.h_refine({0:1})\n",
    "M.h_refine({0:0})\n",
    "M.h_refine({3:1})\n",
    "#M.h_refine({4:-1})\n",
    "#M.h_refine({4:0})\n",
    "#M.h_refine({4:1})\n",
    "#M.h_refine({1:0})\n",
    "# M.h_refine({1:0})\n",
    "# M.h_refine({1:0})\n",
    "#M.h_refine({2:0})\n",
    "#M.h_refine({0:1})\n",
    "MP = assemble.Multipatch(M, automatch=True)\n",
    "MP.set_dirichlet_boundary({0:g})\n",
    "I = ieti.IetiDP(MP, dir_data = {0:g}, elim=False)\n",
    "MP.mesh.draw(patch_idx=1,nodes=1,knots=1)"
   ]
  },
  {
   "cell_type": "code",
   "execution_count": 39,
   "id": "0b22afbc-5ebe-4e20-9bc5-d3ca10e3fd53",
   "metadata": {},
   "outputs": [
    {
     "name": "stderr",
     "output_type": "stream",
     "text": [
      "<__array_function__ internals>:5: VisibleDeprecationWarning: Creating an ndarray from ragged nested sequences (which is a list-or-tuple of lists-or-tuples-or ndarrays with different lengths or shapes) is deprecated. If you meant to do this, you must specify 'dtype=object' when creating the ndarray.\n"
     ]
    },
    {
     "ename": "ValueError",
     "evalue": "all the input arrays must have same number of dimensions, but the array at index 0 has 2 dimension(s) and the array at index 3 has 1 dimension(s)",
     "output_type": "error",
     "traceback": [
      "\u001b[0;31m---------------------------------------------------------------------------\u001b[0m",
      "\u001b[0;31mValueError\u001b[0m                                Traceback (most recent call last)",
      "\u001b[0;32m/tmp/ipykernel_9163/258302053.py\u001b[0m in \u001b[0;36m<module>\u001b[0;34m\u001b[0m\n\u001b[1;32m      1\u001b[0m \u001b[0mI\u001b[0m\u001b[0;34m.\u001b[0m\u001b[0mconstruct_primal_constraints\u001b[0m\u001b[0;34m(\u001b[0m\u001b[0;34m)\u001b[0m\u001b[0;34m\u001b[0m\u001b[0;34m\u001b[0m\u001b[0m\n\u001b[0;32m----> 2\u001b[0;31m \u001b[0mI\u001b[0m\u001b[0;34m.\u001b[0m\u001b[0mconstruct_primal_basis\u001b[0m\u001b[0;34m(\u001b[0m\u001b[0;34m)\u001b[0m\u001b[0;34m\u001b[0m\u001b[0;34m\u001b[0m\u001b[0m\n\u001b[0m",
      "\u001b[0;32m~/anaconda3/lib/python3.9/site-packages/pyiga-0.1.0-py3.9-linux-x86_64.egg/pyiga/ieti.py\u001b[0m in \u001b[0;36mconstruct_primal_basis\u001b[0;34m(self)\u001b[0m\n\u001b[1;32m    198\u001b[0m         \u001b[0mNodes\u001b[0m \u001b[0;34m=\u001b[0m \u001b[0mself\u001b[0m\u001b[0;34m.\u001b[0m\u001b[0mspace\u001b[0m\u001b[0;34m.\u001b[0m\u001b[0mget_nodes\u001b[0m\u001b[0;34m(\u001b[0m\u001b[0;34m)\u001b[0m\u001b[0;34m\u001b[0m\u001b[0;34m\u001b[0m\u001b[0m\n\u001b[1;32m    199\u001b[0m         \u001b[0;31m#prim = np.array(list(Nodes.keys()))\u001b[0m\u001b[0;34m\u001b[0m\u001b[0;34m\u001b[0m\u001b[0m\n\u001b[0;32m--> 200\u001b[0;31m         \u001b[0mloc_prim\u001b[0m \u001b[0;34m=\u001b[0m \u001b[0mnp\u001b[0m\u001b[0;34m.\u001b[0m\u001b[0mconcatenate\u001b[0m\u001b[0;34m(\u001b[0m\u001b[0mlist\u001b[0m\u001b[0;34m(\u001b[0m\u001b[0mNodes\u001b[0m\u001b[0;34m.\u001b[0m\u001b[0mvalues\u001b[0m\u001b[0;34m(\u001b[0m\u001b[0;34m)\u001b[0m\u001b[0;34m)\u001b[0m\u001b[0;34m)\u001b[0m\u001b[0;34m\u001b[0m\u001b[0;34m\u001b[0m\u001b[0m\n\u001b[0m\u001b[1;32m    201\u001b[0m         \u001b[0mcpp\u001b[0m \u001b[0;34m=\u001b[0m \u001b[0;34m{\u001b[0m\u001b[0mp\u001b[0m \u001b[0;34m:\u001b[0m \u001b[0mloc_prim\u001b[0m\u001b[0;34m[\u001b[0m\u001b[0;34m(\u001b[0m\u001b[0mloc_prim\u001b[0m \u001b[0;34m>=\u001b[0m \u001b[0mself\u001b[0m\u001b[0;34m.\u001b[0m\u001b[0mspace\u001b[0m\u001b[0;34m.\u001b[0m\u001b[0mN_ofs\u001b[0m\u001b[0;34m[\u001b[0m\u001b[0mp\u001b[0m\u001b[0;34m]\u001b[0m\u001b[0;34m)\u001b[0m \u001b[0;34m&\u001b[0m \u001b[0;34m(\u001b[0m\u001b[0mloc_prim\u001b[0m \u001b[0;34m<\u001b[0m \u001b[0mself\u001b[0m\u001b[0;34m.\u001b[0m\u001b[0mspace\u001b[0m\u001b[0;34m.\u001b[0m\u001b[0mN_ofs\u001b[0m\u001b[0;34m[\u001b[0m\u001b[0mp\u001b[0m\u001b[0;34m+\u001b[0m\u001b[0;36m1\u001b[0m\u001b[0;34m]\u001b[0m\u001b[0;34m)\u001b[0m\u001b[0;34m]\u001b[0m \u001b[0;32mfor\u001b[0m \u001b[0mp\u001b[0m \u001b[0;32min\u001b[0m \u001b[0mrange\u001b[0m\u001b[0;34m(\u001b[0m\u001b[0mself\u001b[0m\u001b[0;34m.\u001b[0m\u001b[0mspace\u001b[0m\u001b[0;34m.\u001b[0m\u001b[0mnumpatches\u001b[0m\u001b[0;34m)\u001b[0m\u001b[0;34m}\u001b[0m\u001b[0;34m\u001b[0m\u001b[0;34m\u001b[0m\u001b[0m\n\u001b[1;32m    202\u001b[0m \u001b[0;34m\u001b[0m\u001b[0m\n",
      "\u001b[0;32m<__array_function__ internals>\u001b[0m in \u001b[0;36mconcatenate\u001b[0;34m(*args, **kwargs)\u001b[0m\n",
      "\u001b[0;31mValueError\u001b[0m: all the input arrays must have same number of dimensions, but the array at index 0 has 2 dimension(s) and the array at index 3 has 1 dimension(s)"
     ]
    }
   ],
   "source": [
    "I.construct_primal_constraints()\n",
    "I.construct_primal_basis()"
   ]
  },
  {
   "cell_type": "code",
   "execution_count": 38,
   "id": "962a822f-4b8e-4ba7-9e80-806a0c2d97c9",
   "metadata": {},
   "outputs": [
    {
     "data": {
      "text/plain": [
       "array([[ 0. ,  0. ,  0. ,  0. ,  0. ,  0. ,  0. ,  0. ,  1. ],\n",
       "       [ 0. ,  0. ,  0. ,  0. ,  0. ,  0. , -0.5, -0.5,  0. ]])"
      ]
     },
     "execution_count": 38,
     "metadata": {},
     "output_type": "execute_result"
    }
   ],
   "source": [
    "I.Ck[0].A"
   ]
  },
  {
   "cell_type": "code",
   "execution_count": 74,
   "id": "9daacd23-e4f7-4ce3-b4f5-1ee21a1b670c",
   "metadata": {},
   "outputs": [],
   "source": [
    "loc_c = np.concatenate([assemble.boundary_dofs(kvs,m=0,ravel=True)+MP.N_ofs[p] for p, kvs in enumerate(MP.mesh.kvs)])\n",
    "i_loc_c = np.setdiff1d(loc_c, I.global_dir_idx)\n",
    "\n",
    "B = MP.Basis[i_loc_c,:]\n",
    "C_dofs = np.unique(B[B.getnnz(axis=1)==1].indices)\n",
    "X = scipy.sparse.coo_matrix(MP.Basis)\n",
    "idx = np.where(np.isclose(X.data,1))\n",
    "X.data, X.row, X.col = X.data[idx], X.row[idx], X.col[idx]\n",
    "X = X.tocsc()\n",
    "Nodes = {c:[X[:,c].indices] for c in C_dofs}\n",
    "t_idx = i_loc_c[np.where(B.getnnz(axis=1)>1)[0]]\n",
    "T_dofs = {}\n",
    "for i in t_idx:\n",
    "    t = tuple(MP.Basis[i,:].indices)\n",
    "    coeff = tuple()\n",
    "    if t not in T_dofs:\n",
    "        T_dofs[t] = [(i,),set(MP.Constr[MP.Constr.tocsc()[:,i].indices,:].indices)-{i}]\n",
    "    else:\n",
    "        T_dofs[t][0] = T_dofs[t][0]+(i,)\n",
    "        T_dofs[t][1] = T_dofs[t][1] & (set(MP.Constr[MP.Constr.tocsc()[:,i].indices,:].indices)-{i})\n",
    "T_dofs = {t:[np.sort(T_dofs[t][0]),np.sort(list(T_dofs[t][1]))] for t in T_dofs}\n",
    "Nodes.update(T_dofs)"
   ]
  },
  {
   "cell_type": "code",
   "execution_count": 75,
   "id": "6a93f55b-8883-4578-b96e-62b744f779a6",
   "metadata": {},
   "outputs": [
    {
     "data": {
      "text/plain": [
       "{(32, 36): [array([15, 67]), array([36, 40], dtype=int32)],\n",
       " (13, 14): [array([44, 79]), array([17, 18], dtype=int32)],\n",
       " (10, 11): [array([51, 64]), array([13, 14], dtype=int32)],\n",
       " (12, 13, 14): [array([63, 76]), array([16, 17, 18], dtype=int32)]}"
      ]
     },
     "execution_count": 75,
     "metadata": {},
     "output_type": "execute_result"
    }
   ],
   "source": [
    "MP.get_nodes()"
   ]
  },
  {
   "cell_type": "code",
   "execution_count": 76,
   "id": "218a0d01-9fbf-4e98-9f2a-594c83afd256",
   "metadata": {},
   "outputs": [],
   "source": [
    "loc_c_prim = np.concatenate([Nodes[key][0] for key in Nodes])\n",
    "cpp = {p : loc_c_prim[(loc_c_prim >= MP.N_ofs[p]) & (loc_c_prim < MP.N_ofs[p+1])] for p in range(MP.numpatches)}\n",
    "tpp = {p : {key:val for key,val in Nodes.items() if isinstance(key,tuple) and all((val[1] >= MP.N_ofs[p]) & (val[1] < MP.N_ofs[p+1]))} for p in range(MP.numpatches)}"
   ]
  },
  {
   "cell_type": "code",
   "execution_count": 79,
   "id": "ed0d9df6-a4f9-46e3-8ba8-40d880495228",
   "metadata": {},
   "outputs": [
    {
     "data": {
      "text/plain": [
       "{(10, 11): [array([51, 64]), array([13, 14], dtype=int32)]}"
      ]
     },
     "execution_count": 79,
     "metadata": {},
     "output_type": "execute_result"
    }
   ],
   "source": [
    "tpp[0]"
   ]
  },
  {
   "cell_type": "code",
   "execution_count": 113,
   "id": "6857151d-d7ff-4cc3-b8a5-d7fbfd8e0d5a",
   "metadata": {},
   "outputs": [],
   "source": [
    "p=0\n",
    "V = []\n",
    "for t in tpp[p]:\n",
    "    constr = (MP.Constr.tocsc()[:,tpp[p][t][0][0]]==1).indices\n",
    "    V.append(MP.Constr[constr,:][:,MP.N_ofs[p]:MP.N_ofs[p+1]])\n",
    "Ck = scipy.sparse.vstack(V)"
   ]
  },
  {
   "cell_type": "code",
   "execution_count": 114,
   "id": "3c622ff6-797c-4a85-989c-c1210a437842",
   "metadata": {},
   "outputs": [
    {
     "data": {
      "text/plain": [
       "[<1x9 sparse matrix of type '<class 'numpy.float64'>'\n",
       " \twith 1 stored elements in Compressed Sparse Column format>,\n",
       " <1x16 sparse matrix of type '<class 'numpy.float64'>'\n",
       " \twith 2 stored elements in Compressed Sparse Row format>]"
      ]
     },
     "execution_count": 114,
     "metadata": {},
     "output_type": "execute_result"
    }
   ],
   "source": [
    "[I.Ck[0]]+V"
   ]
  },
  {
   "cell_type": "code",
   "execution_count": 112,
   "id": "e98e6a59-d14d-40c6-b2fb-a8c1a537de09",
   "metadata": {},
   "outputs": [
    {
     "ename": "ValueError",
     "evalue": "blocks[:,0] has incompatible column dimensions. Got blocks[1,0].shape[1] == 16, expected 9.",
     "output_type": "error",
     "traceback": [
      "\u001b[0;31m---------------------------------------------------------------------------\u001b[0m",
      "\u001b[0;31mValueError\u001b[0m                                Traceback (most recent call last)",
      "\u001b[0;32m/tmp/ipykernel_7078/2558770678.py\u001b[0m in \u001b[0;36m<module>\u001b[0;34m\u001b[0m\n\u001b[0;32m----> 1\u001b[0;31m \u001b[0mscipy\u001b[0m\u001b[0;34m.\u001b[0m\u001b[0msparse\u001b[0m\u001b[0;34m.\u001b[0m\u001b[0mvstack\u001b[0m\u001b[0;34m(\u001b[0m\u001b[0;34m[\u001b[0m\u001b[0mI\u001b[0m\u001b[0;34m.\u001b[0m\u001b[0mCk\u001b[0m\u001b[0;34m[\u001b[0m\u001b[0;36m0\u001b[0m\u001b[0;34m]\u001b[0m\u001b[0;34m]\u001b[0m\u001b[0;34m+\u001b[0m\u001b[0mV\u001b[0m\u001b[0;34m)\u001b[0m\u001b[0;34m\u001b[0m\u001b[0;34m\u001b[0m\u001b[0m\n\u001b[0m",
      "\u001b[0;32m~/anaconda3/lib/python3.9/site-packages/scipy/sparse/_construct.py\u001b[0m in \u001b[0;36mvstack\u001b[0;34m(blocks, format, dtype)\u001b[0m\n\u001b[1;32m    557\u001b[0m \u001b[0;34m\u001b[0m\u001b[0m\n\u001b[1;32m    558\u001b[0m     \"\"\"\n\u001b[0;32m--> 559\u001b[0;31m     \u001b[0;32mreturn\u001b[0m \u001b[0mbmat\u001b[0m\u001b[0;34m(\u001b[0m\u001b[0;34m[\u001b[0m\u001b[0;34m[\u001b[0m\u001b[0mb\u001b[0m\u001b[0;34m]\u001b[0m \u001b[0;32mfor\u001b[0m \u001b[0mb\u001b[0m \u001b[0;32min\u001b[0m \u001b[0mblocks\u001b[0m\u001b[0;34m]\u001b[0m\u001b[0;34m,\u001b[0m \u001b[0mformat\u001b[0m\u001b[0;34m=\u001b[0m\u001b[0mformat\u001b[0m\u001b[0;34m,\u001b[0m \u001b[0mdtype\u001b[0m\u001b[0;34m=\u001b[0m\u001b[0mdtype\u001b[0m\u001b[0;34m)\u001b[0m\u001b[0;34m\u001b[0m\u001b[0;34m\u001b[0m\u001b[0m\n\u001b[0m\u001b[1;32m    560\u001b[0m \u001b[0;34m\u001b[0m\u001b[0m\n\u001b[1;32m    561\u001b[0m \u001b[0;34m\u001b[0m\u001b[0m\n",
      "\u001b[0;32m~/anaconda3/lib/python3.9/site-packages/scipy/sparse/_construct.py\u001b[0m in \u001b[0;36mbmat\u001b[0;34m(blocks, format, dtype)\u001b[0m\n\u001b[1;32m    665\u001b[0m                            \u001b[0;34mf'Got blocks[{i},{j}].shape[1] == {A.shape[1]}, '\u001b[0m\u001b[0;34m\u001b[0m\u001b[0;34m\u001b[0m\u001b[0m\n\u001b[1;32m    666\u001b[0m                            f'expected {bcol_lengths[j]}.')\n\u001b[0;32m--> 667\u001b[0;31m                     \u001b[0;32mraise\u001b[0m \u001b[0mValueError\u001b[0m\u001b[0;34m(\u001b[0m\u001b[0mmsg\u001b[0m\u001b[0;34m)\u001b[0m\u001b[0;34m\u001b[0m\u001b[0;34m\u001b[0m\u001b[0m\n\u001b[0m\u001b[1;32m    668\u001b[0m \u001b[0;34m\u001b[0m\u001b[0m\n\u001b[1;32m    669\u001b[0m     \u001b[0mnnz\u001b[0m \u001b[0;34m=\u001b[0m \u001b[0msum\u001b[0m\u001b[0;34m(\u001b[0m\u001b[0mblock\u001b[0m\u001b[0;34m.\u001b[0m\u001b[0mnnz\u001b[0m \u001b[0;32mfor\u001b[0m \u001b[0mblock\u001b[0m \u001b[0;32min\u001b[0m \u001b[0mblocks\u001b[0m\u001b[0;34m[\u001b[0m\u001b[0mblock_mask\u001b[0m\u001b[0;34m]\u001b[0m\u001b[0;34m)\u001b[0m\u001b[0;34m\u001b[0m\u001b[0;34m\u001b[0m\u001b[0m\n",
      "\u001b[0;31mValueError\u001b[0m: blocks[:,0] has incompatible column dimensions. Got blocks[1,0].shape[1] == 16, expected 9."
     ]
    }
   ],
   "source": [
    "scipy.sparse.vstack([I.Ck[0]]+V)"
   ]
  },
  {
   "cell_type": "code",
   "execution_count": 117,
   "id": "a0f37c5c-0b01-4f4b-b8dd-54ecbe9e6490",
   "metadata": {},
   "outputs": [],
   "source": [
    "loc_t = Nodes[(12,13,14)]"
   ]
  },
  {
   "cell_type": "code",
   "execution_count": 118,
   "id": "aacc3547-18fb-4283-8144-c9f232323477",
   "metadata": {},
   "outputs": [
    {
     "data": {
      "text/plain": [
       "array([16, 17, 18, 63, 94], dtype=int32)"
      ]
     },
     "execution_count": 118,
     "metadata": {},
     "output_type": "execute_result"
    }
   ],
   "source": [
    "loc_t"
   ]
  },
  {
   "cell_type": "code",
   "execution_count": 119,
   "id": "37623446-bdf2-4c62-8443-d41c7670046f",
   "metadata": {},
   "outputs": [],
   "source": [
    "coarse_dofs = loc_t[MP.Basis[loc_t,:].getnnz(axis=1)==1]\n",
    "fine_dofs = loc_t[MP.Basis[loc_t,:].getnnz(axis=1)>1]"
   ]
  },
  {
   "cell_type": "code",
   "execution_count": 120,
   "id": "0de77929-49fa-4eec-8c71-c7188c58e9e6",
   "metadata": {},
   "outputs": [
    {
     "data": {
      "text/plain": [
       "(array([16, 17, 18], dtype=int32), array([63, 94], dtype=int32))"
      ]
     },
     "execution_count": 120,
     "metadata": {},
     "output_type": "execute_result"
    }
   ],
   "source": [
    "coarse_dofs, fine_dofs"
   ]
  },
  {
   "cell_type": "code",
   "execution_count": 145,
   "id": "7af5f8ac-0d57-448a-b0a5-12b9dfcb9d35",
   "metadata": {},
   "outputs": [],
   "source": [
    "constr = (MP.Constr.tocsc()[:,fine_dofs[0]]==1).indices\n",
    "MP.Constr[constr,:][:,MP.N_ofs[p]:MP.N_ofs[p+1]]"
   ]
  },
  {
   "cell_type": "code",
   "execution_count": 146,
   "id": "4791fc12-6953-4c1f-ab6b-40cbfd6c1fd8",
   "metadata": {},
   "outputs": [
    {
     "data": {
      "text/plain": [
       "array([3], dtype=int32)"
      ]
     },
     "execution_count": 146,
     "metadata": {},
     "output_type": "execute_result"
    }
   ],
   "source": [
    "constr"
   ]
  },
  {
   "cell_type": "code",
   "execution_count": 147,
   "id": "43a288b0-671f-4157-82de-3e4856952ad7",
   "metadata": {},
   "outputs": [
    {
     "name": "stdout",
     "output_type": "stream",
     "text": [
      "  (0, 0)\t-0.25\n",
      "  (0, 1)\t-0.625\n",
      "  (0, 2)\t-0.125\n"
     ]
    }
   ],
   "source": [
    "print(MP.Constr[constr,:][:,MP.N_ofs[1]:MP.N_ofs[2]])"
   ]
  },
  {
   "cell_type": "code",
   "execution_count": 121,
   "id": "19885b6d-0565-48c8-aa7c-0f61c1dc5fa7",
   "metadata": {},
   "outputs": [
    {
     "data": {
      "text/plain": [
       "array([ 3, 16, 17, 17, 18], dtype=int32)"
      ]
     },
     "execution_count": 121,
     "metadata": {},
     "output_type": "execute_result"
    }
   ],
   "source": [
    "MP.Constr.tocsc()[:,fine_dofs].indices"
   ]
  },
  {
   "cell_type": "code",
   "execution_count": 124,
   "id": "57613844-a4d1-4ccc-927b-66c14ecf4a5f",
   "metadata": {},
   "outputs": [
    {
     "name": "stdout",
     "output_type": "stream",
     "text": [
      "[[ 0.  -0.5 -0.5  0.   0.   0.   0.   0.   0.   0.   0.   0.   0.   0.   0.   0. ]]\n"
     ]
    }
   ],
   "source": [
    "print(MP.Constr[23,:][:,MP.N_ofs[1]:MP.N_ofs[2]].A)"
   ]
  },
  {
   "cell_type": "code",
   "execution_count": null,
   "id": "876c78d0-a441-4c98-b35d-bce700d2e08a",
   "metadata": {},
   "outputs": [],
   "source": [
    "print(MP.Constr"
   ]
  },
  {
   "cell_type": "code",
   "execution_count": 65,
   "id": "8650d74f-7298-41ba-9166-7eecbcd50d68",
   "metadata": {},
   "outputs": [],
   "source": [
    "loc_prim = np.unique(np.concatenate(list(Nodes.values())))\n",
    "cpp = {p : loc_prim[(loc_prim >= MP.N_ofs[p]) & (loc_prim < MP.N_ofs[p+1])] for p in range(MP.numpatches)}"
   ]
  },
  {
   "cell_type": "code",
   "execution_count": 27,
   "id": "8d1bdc77-deb7-4e84-be0c-fae88e6d6981",
   "metadata": {},
   "outputs": [
    {
     "name": "stdout",
     "output_type": "stream",
     "text": [
      "  (0, 6)\t1.0\n"
     ]
    }
   ],
   "source": [
    "print(MP.Basis[9,:])"
   ]
  },
  {
   "cell_type": "code",
   "execution_count": 66,
   "id": "6ac6708f-e4e6-4c3e-bbb2-f80bc006c808",
   "metadata": {},
   "outputs": [],
   "source": [
    "loc_prim = {p : {key : val[(val >= MP.N_ofs[p]) & (val < MP.N_ofs[p+1])] for key,val in Nodes.items() if any((val >= MP.N_ofs[p]) & (val < MP.N_ofs[p+1]))} for p in range(MP.numpatches)}"
   ]
  },
  {
   "cell_type": "code",
   "execution_count": 76,
   "id": "f711dc7d-461c-4747-a0e2-2522cbf336a2",
   "metadata": {},
   "outputs": [
    {
     "data": {
      "text/plain": [
       "{7: array([10], dtype=int32), (6, 7): array([ 9, 10], dtype=int32)}"
      ]
     },
     "execution_count": 76,
     "metadata": {},
     "output_type": "execute_result"
    }
   ],
   "source": [
    "loc_prim[1]"
   ]
  },
  {
   "cell_type": "code",
   "execution_count": 71,
   "id": "e7514368-ad52-4057-b85a-1d7f8ec7b764",
   "metadata": {},
   "outputs": [
    {
     "data": {
      "text/plain": [
       "array([[ 0.  ],\n",
       "       [-0.25],\n",
       "       [-0.5 ],\n",
       "       [ 0.  ],\n",
       "       [ 0.  ],\n",
       "       [ 0.  ],\n",
       "       [ 0.  ],\n",
       "       [ 0.  ],\n",
       "       [ 0.  ],\n",
       "       [ 0.  ],\n",
       "       [ 0.  ],\n",
       "       [ 0.  ],\n",
       "       [-0.5 ],\n",
       "       [-0.75],\n",
       "       [-1.  ],\n",
       "       [ 0.  ],\n",
       "       [ 0.  ],\n",
       "       [ 0.  ],\n",
       "       [-1.  ],\n",
       "       [-0.5 ],\n",
       "       [ 0.  ],\n",
       "       [ 0.  ],\n",
       "       [ 0.  ],\n",
       "       [ 0.  ]])"
      ]
     },
     "execution_count": 71,
     "metadata": {},
     "output_type": "execute_result"
    }
   ],
   "source": [
    "MP.Constr[:,loc_prim[1][7]].A"
   ]
  },
  {
   "cell_type": "code",
   "execution_count": 50,
   "id": "15580187-9310-4624-abd2-b88f409cbcaa",
   "metadata": {},
   "outputs": [],
   "source": [
    "cpp = {p : {key : val for key,val in Nodes.items() if len(np.intersect1d(val, np.arange(MP.N_ofs[p],MP.N_ofs[p+1]))) > 0} for p in range(MP.numpatches)}"
   ]
  },
  {
   "cell_type": "code",
   "execution_count": 52,
   "id": "d07a485a-e890-4a5b-ba9c-f8ec9f023397",
   "metadata": {},
   "outputs": [
    {
     "data": {
      "text/plain": [
       "{5: array([ 7, 29, 36], dtype=int32),\n",
       " 7: array([10, 24, 44], dtype=int32),\n",
       " 18: array([ 8, 21, 38], dtype=int32),\n",
       " (6, 7): array([ 9, 10, 35, 42], dtype=int32)}"
      ]
     },
     "execution_count": 52,
     "metadata": {},
     "output_type": "execute_result"
    }
   ],
   "source": [
    "cpp[4]"
   ]
  },
  {
   "cell_type": "code",
   "execution_count": 91,
   "id": "a8b84bec-3056-4da6-b484-0aa2f1a7e57e",
   "metadata": {},
   "outputs": [
    {
     "name": "stdout",
     "output_type": "stream",
     "text": [
      "  (0, 35)\t1.0\n",
      "  (0, 10)\t-0.5\n",
      "  (0, 33)\t-0.5\n",
      "  (1, 35)\t1.0\n",
      "  (1, 42)\t-1.0\n"
     ]
    }
   ],
   "source": [
    "print(MP.Constr[MP.Constr.tocsc()[:,np.array([35])].indices,:])"
   ]
  },
  {
   "cell_type": "code",
   "execution_count": 136,
   "id": "3c6a002f-30ba-406c-91df-5667c5ee1cc3",
   "metadata": {},
   "outputs": [],
   "source": [
    "T_dofs = {}\n",
    "for i in i_loc_c:\n",
    "    t = tuple(MP.Basis[i,:].indices)\n",
    "    if t not in T_dofs:\n",
    "        T_dofs[t] = {i}\n",
    "    else:\n",
    "        T_dofs[t].add(i)\n",
    "        \n",
    "T_dofs = {t:np.array(list(T_dofs[t])) for t in T_dofs}"
   ]
  },
  {
   "cell_type": "code",
   "execution_count": 82,
   "id": "2d5ed3e1-7faa-4166-bc72-c6b8cbd8f148",
   "metadata": {},
   "outputs": [
    {
     "data": {
      "text/plain": [
       "<10x4 sparse matrix of type '<class 'numpy.float64'>'\n",
       "\twith 8 stored elements in Compressed Sparse Row format>"
      ]
     },
     "execution_count": 82,
     "metadata": {},
     "output_type": "execute_result"
    }
   ],
   "source": [
    "MP.Constr[:,i_loc_c]"
   ]
  },
  {
   "cell_type": "code",
   "execution_count": 87,
   "id": "e2e150de-0632-49d8-aa86-7136346825fe",
   "metadata": {},
   "outputs": [
    {
     "data": {
      "text/plain": [
       "<16x1 sparse matrix of type '<class 'numpy.float64'>'\n",
       "\twith 1 stored elements in Compressed Sparse Column format>"
      ]
     },
     "execution_count": 87,
     "metadata": {},
     "output_type": "execute_result"
    }
   ],
   "source": [
    "MP.Basis.tocsc()[:,5]"
   ]
  },
  {
   "cell_type": "code",
   "execution_count": 96,
   "id": "2149961b-5313-43d9-9cdf-04fce72db7dc",
   "metadata": {},
   "outputs": [],
   "source": [
    "rows=np.unique(MP.Constr.tocsc()[:,i_loc_c].indices)"
   ]
  },
  {
   "cell_type": "code",
   "execution_count": 97,
   "id": "b04f18c2-41b9-4584-832a-9475234b6086",
   "metadata": {},
   "outputs": [
    {
     "data": {
      "text/plain": [
       "array([[ 0.  ,  0.  ,  0.  ,  0.  ,  0.  ,  0.  ,  0.  ,  0.  ,  1.  ,  0.  ,  0.  ,  0.  ,  0.  , -1.  ,  0.  ,  0.  ],\n",
       "       [ 0.  ,  0.  , -0.75, -0.25,  0.  ,  0.  ,  0.  ,  0.  ,  0.  ,  0.  ,  0.  ,  0.  ,  1.  ,  0.  ,  0.  ,  0.  ],\n",
       "       [ 0.  ,  0.  , -0.5 , -0.5 ,  0.  ,  0.  ,  0.  ,  0.  ,  0.  ,  0.  ,  0.  ,  0.  ,  0.  ,  1.  ,  0.  ,  0.  ],\n",
       "       [ 0.  ,  0.  ,  0.  ,  0.  ,  0.  ,  1.  ,  0.  ,  0.  ,  0.  ,  0.  ,  0.  ,  0.  , -1.  ,  0.  ,  0.  ,  0.  ],\n",
       "       [ 0.  ,  0.  ,  0.  , -0.25, -0.75,  1.  ,  0.  ,  0.  ,  0.  ,  0.  ,  0.  ,  0.  ,  0.  ,  0.  ,  0.  ,  0.  ],\n",
       "       [ 0.  ,  0.  , -0.5 ,  0.  ,  0.  ,  0.  ,  0.  ,  0.  ,  1.  , -0.5 ,  0.  ,  0.  ,  0.  ,  0.  ,  0.  ,  0.  ]])"
      ]
     },
     "execution_count": 97,
     "metadata": {},
     "output_type": "execute_result"
    }
   ],
   "source": [
    "MP.Constr[rows,:].A"
   ]
  },
  {
   "cell_type": "code",
   "execution_count": 99,
   "id": "d0df90a7-73fb-41a3-acb8-894ba971b702",
   "metadata": {},
   "outputs": [],
   "source": [
    "B, _ = algebra.compute_basis(MP.Constr[rows,:], maxiter=5)"
   ]
  },
  {
   "cell_type": "code",
   "execution_count": 101,
   "id": "fad69533-3b31-4ca0-ab80-22869d517a83",
   "metadata": {},
   "outputs": [
    {
     "data": {
      "text/plain": [
       "array([[1.  , 0.  , 0.  , 0.  , 0.  , 0.  , 0.  , 0.  , 0.  , 0.  ],\n",
       "       [0.  , 1.  , 0.  , 0.  , 0.  , 0.  , 0.  , 0.  , 0.  , 0.  ],\n",
       "       [0.  , 0.  , 0.  , 1.  , 0.  , 0.  , 0.  , 0.  , 0.  , 0.  ],\n",
       "       [0.  , 0.  , 1.  , 0.  , 0.  , 0.  , 0.  , 0.  , 0.  , 0.  ],\n",
       "       [0.  , 0.  , 0.  , 1.  , 0.  , 0.  , 0.  , 0.  , 0.  , 0.  ],\n",
       "       [0.  , 0.  , 0.25, 0.75, 0.  , 0.  , 0.  , 0.  , 0.  , 0.  ],\n",
       "       [0.  , 0.  , 0.  , 0.  , 1.  , 0.  , 0.  , 0.  , 0.  , 0.  ],\n",
       "       [0.  , 0.  , 0.  , 0.  , 0.  , 1.  , 0.  , 0.  , 0.  , 0.  ],\n",
       "       [0.  , 0.  , 0.5 , 0.5 , 0.  , 0.  , 0.  , 0.  , 0.  , 0.  ],\n",
       "       [0.  , 0.  , 1.  , 0.  , 0.  , 0.  , 0.  , 0.  , 0.  , 0.  ],\n",
       "       [0.  , 0.  , 0.  , 0.  , 0.  , 0.  , 1.  , 0.  , 0.  , 0.  ],\n",
       "       [0.  , 0.  , 0.  , 0.  , 0.  , 0.  , 0.  , 1.  , 0.  , 0.  ],\n",
       "       [0.  , 0.  , 0.25, 0.75, 0.  , 0.  , 0.  , 0.  , 0.  , 0.  ],\n",
       "       [0.  , 0.  , 0.5 , 0.5 , 0.  , 0.  , 0.  , 0.  , 0.  , 0.  ],\n",
       "       [0.  , 0.  , 0.  , 0.  , 0.  , 0.  , 0.  , 0.  , 1.  , 0.  ],\n",
       "       [0.  , 0.  , 0.  , 0.  , 0.  , 0.  , 0.  , 0.  , 0.  , 1.  ]])"
      ]
     },
     "execution_count": 101,
     "metadata": {},
     "output_type": "execute_result"
    }
   ],
   "source": [
    "B.A"
   ]
  },
  {
   "cell_type": "code",
   "execution_count": 61,
   "id": "9e27e347-ce0d-478f-96ec-faf27e0d4491",
   "metadata": {},
   "outputs": [
    {
     "data": {
      "text/plain": [
       "array([16], dtype=int32)"
      ]
     },
     "execution_count": 61,
     "metadata": {},
     "output_type": "execute_result"
    }
   ],
   "source": [
    "C_dofs"
   ]
  },
  {
   "cell_type": "code",
   "execution_count": 66,
   "id": "19f382c5-3a01-441d-90c8-1253cc372895",
   "metadata": {},
   "outputs": [
    {
     "data": {
      "text/plain": [
       "array([[0.  ],\n",
       "       [0.  ],\n",
       "       [0.  ],\n",
       "       [0.  ],\n",
       "       [0.  ],\n",
       "       [0.  ],\n",
       "       [0.  ],\n",
       "       [1.  ],\n",
       "       [0.  ],\n",
       "       [0.  ],\n",
       "       [0.25],\n",
       "       [0.5 ],\n",
       "       [0.  ],\n",
       "       [0.  ],\n",
       "       [0.  ],\n",
       "       [0.  ],\n",
       "       [0.  ],\n",
       "       [0.  ],\n",
       "       [1.  ],\n",
       "       [0.5 ],\n",
       "       [0.  ],\n",
       "       [0.  ],\n",
       "       [0.  ],\n",
       "       [0.  ],\n",
       "       [0.  ],\n",
       "       [0.  ],\n",
       "       [0.  ],\n",
       "       [0.5 ],\n",
       "       [0.75],\n",
       "       [1.  ],\n",
       "       [0.  ],\n",
       "       [0.  ],\n",
       "       [0.  ],\n",
       "       [0.  ],\n",
       "       [0.  ],\n",
       "       [0.  ]])"
      ]
     },
     "execution_count": 66,
     "metadata": {},
     "output_type": "execute_result"
    }
   ],
   "source": [
    "MP.Basis[:,16].A"
   ]
  },
  {
   "cell_type": "code",
   "execution_count": 42,
   "id": "41bd7666-ced3-45d8-a698-c9f563517834",
   "metadata": {},
   "outputs": [],
   "source": [
    "def sp_unique(sp_matrix, axis=0):\n",
    "    ''' Returns a sparse matrix with the unique rows (axis=0)\n",
    "    or columns (axis=1) of an input sparse matrix sp_matrix'''\n",
    "    if axis == 1:\n",
    "        sp_matrix = sp_matrix.T\n",
    "\n",
    "    old_format = sp_matrix.getformat()\n",
    "    dt = np.dtype(sp_matrix)\n",
    "    ncols = sp_matrix.shape[1]\n",
    "\n",
    "    if old_format != 'lil':\n",
    "        sp_matrix = sp_matrix.tolil()\n",
    "\n",
    "    _, ind = np.unique(sp_matrix.data + sp_matrix.rows, return_index=True)\n",
    "    rows = sp_matrix.rows[ind]\n",
    "    data = sp_matrix.data[ind]\n",
    "    nrows_uniq = data.shape[0]\n",
    "\n",
    "    sp_matrix = scipy.sparse.lil_matrix((nrows_uniq, ncols), dtype=dt)  #  or sp_matrix.resize(nrows_uniq, ncols)\n",
    "    sp_matrix.data = data\n",
    "    sp_matrix.rows = rows\n",
    "\n",
    "    ret = sp_matrix.asformat(old_format)\n",
    "    if axis == 1:\n",
    "        ret = ret.T        \n",
    "    return ret"
   ]
  },
  {
   "cell_type": "code",
   "execution_count": 50,
   "id": "0d0da7fd-6709-4827-9f76-ba2733f138bb",
   "metadata": {},
   "outputs": [],
   "source": [
    "def lexsort_row(A):\n",
    "    ''' numpy lexsort of the rows, not used in sp_unique'''\n",
    "    return A[np.lexsort(A.T[::-1])]"
   ]
  },
  {
   "cell_type": "code",
   "execution_count": 54,
   "id": "a61b9948-1f03-4d67-a616-7558b8a83388",
   "metadata": {},
   "outputs": [],
   "source": [
    "A = 10*scipy.sparse.random(100000, 3, 0.5, format='csr')\n",
    "#A = np.ceil(A).astype(int)\n",
    "\n",
    "    # unique rows\n",
    "A_uniq = sp_unique(A, axis=0).toarray()\n",
    "A_uniq = lexsort_row(A_uniq)\n",
    "A_uniq_numpy = np.unique(A.toarray(), axis=0)\n",
    "assert (A_uniq == A_uniq_numpy).all()\n",
    "\n",
    "    # unique columns\n",
    "A_uniq = sp_unique(A, axis=1).toarray()\n",
    "A_uniq = lexsort_row(A_uniq.T).T\n",
    "A_uniq_numpy = np.unique(A.toarray(), axis=1)\n",
    "assert (A_uniq == A_uniq_numpy).all()  "
   ]
  },
  {
   "cell_type": "code",
   "execution_count": 43,
   "id": "8ab3360f-06c5-40a2-9f8e-f17b4504ccf3",
   "metadata": {},
   "outputs": [
    {
     "data": {
      "text/plain": [
       "array([0.  , 0.  , 0.75, 0.  , 0.25, 0.  , 0.  , 0.  ])"
      ]
     },
     "execution_count": 43,
     "metadata": {},
     "output_type": "execute_result"
    }
   ],
   "source": [
    "MP.Basis.A[5,:]"
   ]
  },
  {
   "cell_type": "code",
   "execution_count": 44,
   "id": "9802d709-06d8-42a3-9859-2c9f9ee3b2c7",
   "metadata": {},
   "outputs": [],
   "source": [
    "S = scipy.sparse.csr_matrix(np.array([[0,0,1],[0,0,1]]))"
   ]
  },
  {
   "cell_type": "code",
   "execution_count": 46,
   "id": "e41f31f8-a091-4912-9096-be695bcfda8f",
   "metadata": {},
   "outputs": [
    {
     "data": {
      "text/plain": [
       "array([[0, 0, 1]])"
      ]
     },
     "execution_count": 46,
     "metadata": {},
     "output_type": "execute_result"
    }
   ],
   "source": [
    "sp_unique(S).A"
   ]
  },
  {
   "cell_type": "code",
   "execution_count": 98,
   "id": "01fbff66-ea97-42c9-9983-17e61aa8544d",
   "metadata": {},
   "outputs": [
    {
     "data": {
      "text/plain": [
       "array([ True, False,  True, False, False, False])"
      ]
     },
     "execution_count": 98,
     "metadata": {},
     "output_type": "execute_result"
    }
   ],
   "source": [
    "B.getnnz(axis=1)>1"
   ]
  },
  {
   "cell_type": "code",
   "execution_count": 95,
   "id": "6a0ef01b-df78-426f-bc7b-3c34c68850f4",
   "metadata": {},
   "outputs": [
    {
     "data": {
      "text/plain": [
       "<6x29 sparse matrix of type '<class 'numpy.float64'>'\n",
       "\twith 10 stored elements in Compressed Sparse Row format>"
      ]
     },
     "execution_count": 95,
     "metadata": {},
     "output_type": "execute_result"
    }
   ],
   "source": [
    "B"
   ]
  },
  {
   "cell_type": "code",
   "execution_count": 85,
   "id": "5f333f0c-4a0b-4ec6-98a3-d563f1ac476f",
   "metadata": {},
   "outputs": [
    {
     "data": {
      "text/plain": [
       "matrix([[0.],\n",
       "        [0.],\n",
       "        [0.],\n",
       "        [0.],\n",
       "        [0.],\n",
       "        [0.],\n",
       "        [1.],\n",
       "        [1.],\n",
       "        [1.],\n",
       "        [1.],\n",
       "        [1.],\n",
       "        [1.],\n",
       "        [0.],\n",
       "        [0.],\n",
       "        [0.],\n",
       "        [0.],\n",
       "        [0.],\n",
       "        [0.],\n",
       "        [1.],\n",
       "        [1.],\n",
       "        [1.],\n",
       "        [0.],\n",
       "        [0.],\n",
       "        [0.],\n",
       "        [0.],\n",
       "        [0.],\n",
       "        [0.],\n",
       "        [0.],\n",
       "        [0.],\n",
       "        [0.],\n",
       "        [0.],\n",
       "        [0.],\n",
       "        [0.],\n",
       "        [0.],\n",
       "        [0.],\n",
       "        [0.],\n",
       "        [0.],\n",
       "        [0.],\n",
       "        [0.],\n",
       "        [0.],\n",
       "        [0.],\n",
       "        [0.],\n",
       "        [0.],\n",
       "        [0.],\n",
       "        [0.]])"
      ]
     },
     "execution_count": 85,
     "metadata": {},
     "output_type": "execute_result"
    }
   ],
   "source": [
    "MP.Basis[:,T_dofs[0]].sum(axis=1)"
   ]
  },
  {
   "cell_type": "code",
   "execution_count": 103,
   "id": "152a5912-dc82-49d1-b4bd-8e503a7b7f2a",
   "metadata": {},
   "outputs": [
    {
     "data": {
      "text/plain": [
       "array([ 8, 15, 29, 36], dtype=int32)"
      ]
     },
     "execution_count": 103,
     "metadata": {},
     "output_type": "execute_result"
    }
   ],
   "source": [
    "MP.Basis[:,18].tocsc().indices"
   ]
  },
  {
   "cell_type": "code",
   "execution_count": 79,
   "id": "51185796-efa5-4c1c-a870-aaf0172f44de",
   "metadata": {},
   "outputs": [
    {
     "data": {
      "text/plain": [
       "array([18, 18, 23, 23, 18, 35, 18, 23, 35, 22, 23, 22, 35, 35, 22, 22], dtype=int32)"
      ]
     },
     "execution_count": 79,
     "metadata": {},
     "output_type": "execute_result"
    }
   ],
   "source": [
    "B.indices"
   ]
  },
  {
   "cell_type": "code",
   "execution_count": 99,
   "id": "12e12419-d8dd-4485-aee5-c036bf282c0e",
   "metadata": {},
   "outputs": [
    {
     "data": {
      "image/png": "[encoded data removed]",
      "text/plain": [
       "<Figure size 640x480 with 1 Axes>"
      ]
     },
     "metadata": {},
     "output_type": "display_data"
    }
   ],
   "source": [
    "MP.mesh.draw(knots=1,nodes=1,patch_idx=1)\n",
    "axis('off');"
   ]
  },
  {
   "cell_type": "code",
   "execution_count": 116,
   "id": "4bef99cd-0997-4544-84f2-24f308376cf3",
   "metadata": {},
   "outputs": [
    {
     "name": "stderr",
     "output_type": "stream",
     "text": [
      "/home/wolfman/anaconda3/lib/python3.9/site-packages/numpy/lib/arraysetops.py:270: VisibleDeprecationWarning: Creating an ndarray from ragged nested sequences (which is a list-or-tuple of lists-or-tuples-or ndarrays with different lengths or shapes) is deprecated. If you meant to do this, you must specify 'dtype=object' when creating the ndarray.\n",
      "  ar = np.asanyarray(ar)\n"
     ]
    },
    {
     "ename": "ValueError",
     "evalue": "operands could not be broadcast together with shapes (10,) (6,) ",
     "output_type": "error",
     "traceback": [
      "\u001b[0;31m---------------------------------------------------------------------------\u001b[0m",
      "\u001b[0;31mValueError\u001b[0m                                Traceback (most recent call last)",
      "\u001b[0;32m/tmp/ipykernel_8813/1254429893.py\u001b[0m in \u001b[0;36m<module>\u001b[0;34m\u001b[0m\n\u001b[1;32m     10\u001b[0m         \u001b[0mvals\u001b[0m\u001b[0;34m.\u001b[0m\u001b[0mappend\u001b[0m\u001b[0;34m(\u001b[0m\u001b[0mvals_\u001b[0m\u001b[0;34m)\u001b[0m\u001b[0;34m\u001b[0m\u001b[0;34m\u001b[0m\u001b[0m\n\u001b[1;32m     11\u001b[0m \u001b[0;34m\u001b[0m\u001b[0m\n\u001b[0;32m---> 12\u001b[0;31m \u001b[0muidx\u001b[0m\u001b[0;34m,\u001b[0m \u001b[0mlookup\u001b[0m \u001b[0;34m=\u001b[0m \u001b[0mnp\u001b[0m\u001b[0;34m.\u001b[0m\u001b[0munique\u001b[0m\u001b[0;34m(\u001b[0m\u001b[0midx\u001b[0m\u001b[0;34m,\u001b[0m \u001b[0mreturn_index\u001b[0m\u001b[0;34m=\u001b[0m\u001b[0;32mTrue\u001b[0m\u001b[0;34m)\u001b[0m\u001b[0;34m\u001b[0m\u001b[0;34m\u001b[0m\u001b[0m\n\u001b[0m\u001b[1;32m     13\u001b[0m \u001b[0;31m#vals = np.concatenate(vals)\u001b[0m\u001b[0;34m\u001b[0m\u001b[0;34m\u001b[0m\u001b[0m\n\u001b[1;32m     14\u001b[0m \u001b[0mbcs\u001b[0m\u001b[0;34m=\u001b[0m\u001b[0mtuple\u001b[0m\u001b[0;34m(\u001b[0m\u001b[0;34m(\u001b[0m\u001b[0muidx\u001b[0m\u001b[0;34m,\u001b[0m\u001b[0mnp\u001b[0m\u001b[0;34m.\u001b[0m\u001b[0mconcatenate\u001b[0m\u001b[0;34m(\u001b[0m\u001b[0mvals\u001b[0m\u001b[0;34m)\u001b[0m\u001b[0;34m[\u001b[0m\u001b[0mlookup\u001b[0m\u001b[0;34m]\u001b[0m\u001b[0;34m)\u001b[0m\u001b[0;34m)\u001b[0m\u001b[0;34m\u001b[0m\u001b[0;34m\u001b[0m\u001b[0m\n",
      "\u001b[0;32m<__array_function__ internals>\u001b[0m in \u001b[0;36munique\u001b[0;34m(*args, **kwargs)\u001b[0m\n",
      "\u001b[0;32m~/anaconda3/lib/python3.9/site-packages/numpy/lib/arraysetops.py\u001b[0m in \u001b[0;36munique\u001b[0;34m(ar, return_index, return_inverse, return_counts, axis)\u001b[0m\n\u001b[1;32m    270\u001b[0m     \u001b[0mar\u001b[0m \u001b[0;34m=\u001b[0m \u001b[0mnp\u001b[0m\u001b[0;34m.\u001b[0m\u001b[0masanyarray\u001b[0m\u001b[0;34m(\u001b[0m\u001b[0mar\u001b[0m\u001b[0;34m)\u001b[0m\u001b[0;34m\u001b[0m\u001b[0;34m\u001b[0m\u001b[0m\n\u001b[1;32m    271\u001b[0m     \u001b[0;32mif\u001b[0m \u001b[0maxis\u001b[0m \u001b[0;32mis\u001b[0m \u001b[0;32mNone\u001b[0m\u001b[0;34m:\u001b[0m\u001b[0;34m\u001b[0m\u001b[0;34m\u001b[0m\u001b[0m\n\u001b[0;32m--> 272\u001b[0;31m         \u001b[0mret\u001b[0m \u001b[0;34m=\u001b[0m \u001b[0m_unique1d\u001b[0m\u001b[0;34m(\u001b[0m\u001b[0mar\u001b[0m\u001b[0;34m,\u001b[0m \u001b[0mreturn_index\u001b[0m\u001b[0;34m,\u001b[0m \u001b[0mreturn_inverse\u001b[0m\u001b[0;34m,\u001b[0m \u001b[0mreturn_counts\u001b[0m\u001b[0;34m)\u001b[0m\u001b[0;34m\u001b[0m\u001b[0;34m\u001b[0m\u001b[0m\n\u001b[0m\u001b[1;32m    273\u001b[0m         \u001b[0;32mreturn\u001b[0m \u001b[0m_unpack_tuple\u001b[0m\u001b[0;34m(\u001b[0m\u001b[0mret\u001b[0m\u001b[0;34m)\u001b[0m\u001b[0;34m\u001b[0m\u001b[0;34m\u001b[0m\u001b[0m\n\u001b[1;32m    274\u001b[0m \u001b[0;34m\u001b[0m\u001b[0m\n",
      "\u001b[0;32m~/anaconda3/lib/python3.9/site-packages/numpy/lib/arraysetops.py\u001b[0m in \u001b[0;36m_unique1d\u001b[0;34m(ar, return_index, return_inverse, return_counts)\u001b[0m\n\u001b[1;32m    328\u001b[0m \u001b[0;34m\u001b[0m\u001b[0m\n\u001b[1;32m    329\u001b[0m     \u001b[0;32mif\u001b[0m \u001b[0moptional_indices\u001b[0m\u001b[0;34m:\u001b[0m\u001b[0;34m\u001b[0m\u001b[0;34m\u001b[0m\u001b[0m\n\u001b[0;32m--> 330\u001b[0;31m         \u001b[0mperm\u001b[0m \u001b[0;34m=\u001b[0m \u001b[0mar\u001b[0m\u001b[0;34m.\u001b[0m\u001b[0margsort\u001b[0m\u001b[0;34m(\u001b[0m\u001b[0mkind\u001b[0m\u001b[0;34m=\u001b[0m\u001b[0;34m'mergesort'\u001b[0m \u001b[0;32mif\u001b[0m \u001b[0mreturn_index\u001b[0m \u001b[0;32melse\u001b[0m \u001b[0;34m'quicksort'\u001b[0m\u001b[0;34m)\u001b[0m\u001b[0;34m\u001b[0m\u001b[0;34m\u001b[0m\u001b[0m\n\u001b[0m\u001b[1;32m    331\u001b[0m         \u001b[0maux\u001b[0m \u001b[0;34m=\u001b[0m \u001b[0mar\u001b[0m\u001b[0;34m[\u001b[0m\u001b[0mperm\u001b[0m\u001b[0;34m]\u001b[0m\u001b[0;34m\u001b[0m\u001b[0;34m\u001b[0m\u001b[0m\n\u001b[1;32m    332\u001b[0m     \u001b[0;32melse\u001b[0m\u001b[0;34m:\u001b[0m\u001b[0;34m\u001b[0m\u001b[0;34m\u001b[0m\u001b[0m\n",
      "\u001b[0;31mValueError\u001b[0m: operands could not be broadcast together with shapes (10,) (6,) "
     ]
    }
   ],
   "source": [
    "#kvs_ = MP.mesh.kvs\n",
    "geos = MP.mesh.geos\n",
    "kvs = MP.mesh.kvs\n",
    "idx=[]\n",
    "vals=[]\n",
    "for key in MP.mesh.outer_boundaries:\n",
    "    for p,b in MP.mesh.outer_boundaries[key]:\n",
    "        idx_, vals_ = assemble.compute_dirichlet_bc(kvs[p],geos[p],[(b//2,b%2)],lambda x,y : 1.)\n",
    "        idx.append(idx_+MP.N_ofs[p])\n",
    "        vals.append(vals_)\n",
    "        \n",
    "uidx, lookup = np.unique(idx, return_index=True)\n",
    "#vals = np.concatenate(vals)\n",
    "bcs=tuple((uidx,np.concatenate(vals)[lookup]))\n",
    "\n",
    "cpp = MP.get_crosspoints()"
   ]
  },
  {
   "cell_type": "code",
   "execution_count": 10,
   "id": "026b5257-0aac-431a-be9f-41541e1c058f",
   "metadata": {},
   "outputs": [],
   "source": [
    "### Linear system assembly and restrictions\n",
    "\n",
    "# assemble the lhs of the linear system\n",
    "Ak = [assemble.assemble('inner(grad(u),grad(v)) * dx', kvs, bfuns=[('u',1), ('v',1)], geo=g) for kvs, g in zip(kvs,geos)]\n",
    "#Ak = [assemble.assemble('inner(grad(grad(u)), grad(grad(v))) * dx', kvs, bfuns=[('u',1), ('v',1)], geo=g) for g in geos]\n",
    "A = scipy.sparse.block_diag(Ak, format='csr')\n",
    "\n",
    "#print(\"Rank \", np.linalg.matrix_rank(A.A), \" vs. shape \", A.shape)\n",
    "\n",
    "\n",
    "# Assemble the rhs of the linear system \n",
    "rhs = [assemble.assemble('f * v * dx', kvs, params, bfuns=[('v',1)], geo=g, f=lambda x,y: 1.).ravel() for kvs, g in zip(kvs,geos)]\n",
    "# generate Neumann vector for global contribution to the right hand side, in this case it is a zero vector since g1 is zero\n",
    "N = MP.Basis@MP.assemble_surface('g1 * inner(grad(v),n) * ds', arity=1, g1=g, boundary_idx=0)\n",
    "rhs = np.hstack(rhs) + N\n",
    "\n",
    "# Eliminate Dirichlet dofs\n",
    "BCRestr = assemble.RestrictedLinearSystem(A, rhs, bcs)\n",
    "free_dofs = BCRestr.R_free\n",
    "\n",
    "# Eliminate the Dirichlet dofs from the interface dofs\n",
    "nnz_per_col = MP.Constr.getnnz(axis=0)\n",
    "intf_dofs = np.where(nnz_per_col > 0)[0]\n",
    "intfs = np.setdiff1d(intf_dofs, bcs[0])\n",
    "\n",
    "# Patchwise restrictions\n",
    "\"\"\"\n",
    "Akii = []\n",
    "Akbb = []\n",
    "Akbi = []\n",
    "bnd_dofs = np.concatenate([indices for indices in assemble.boundary_dofs(kvs)])\n",
    "for p in range(len(MP.mesh.patches)):\n",
    "    I = scipy.sparse.eye(Ak[p].shape[1], format='csr')\n",
    "    mask = np.zeros(Ak[p].shape[1], dtype=bool)\n",
    "\n",
    "    intindices = (intfs < MP.N_ofs[p+1]) & (intfs >= MP.N_ofs[p])\n",
    "    intindices = intfs[intindices]-MP.N_ofs[p]\n",
    "    \n",
    "    mask[intindices] = True\n",
    "    Rbb = I[mask]\n",
    "    Akbb.append(Rbb.dot(Ak[p]).dot(Rbb.T)) \n",
    "    \n",
    "    mask = np.ones(Ak[p].shape[1], dtype=bool)\n",
    "    mask[bnd_dofs] = False\n",
    "    Rii = I[mask]\n",
    "    Akii.append(Rii.dot(Ak[p]).dot(Rii.T)) \n",
    "    \n",
    "    Akbi.append(Rbb.dot(Ak[p]).dot(Rii.T))\n",
    "\"\"\" \n",
    "\n",
    "# Compute the partial matrices \n",
    "Id = scipy.sparse.eye(A.shape[1], format='csr')\n",
    "mask = np.zeros(A.shape[1], dtype=bool)\n",
    "mask[list(intfs)] = True\n",
    "Rbb = Id[mask]\n",
    "mask = np.ones(A.shape[1], dtype=bool)\n",
    "\n",
    "for p in range(len(patches)):\n",
    "    bnd_dofs = np.concatenate([indices for indices in assemble.boundary_dofs(kvs[p])])\n",
    "    mask[bnd_dofs+MP.N_ofs[p]] = False\n",
    "\n",
    "Rii = Id[mask]\n",
    "\n",
    "Abb = Rbb.dot(A).dot(Rbb.T)\n",
    "Aii = Rii.dot(A).dot(Rii.T)\n",
    "Abi = Rbb.dot(A).dot(Rii.T)\n",
    "Aib = Abi.T\n",
    "#print(Abi.shape)\n",
    "\n",
    "# The matrices and vectors without the Dirichlet dofs\n",
    "A = BCRestr.A\n",
    "rhs = BCRestr.b\n",
    "\n",
    "#print(\"Rank \", np.linalg.matrix_rank(A.A), \" vs. shape \", A.shape)\n",
    "\n",
    "assert A.shape[1] == rhs.shape[0], \"Size of rhs is different to size of the matrix\"\n",
    "\n",
    "# Other method for assembly\n",
    "#def bilinear():\n",
    "#    vf = vform.VForm(2)\n",
    "#   u, v = vf.basisfuns()\n",
    "#    vf.add(vform.tr(vform.hess(u)) * vform.tr(vform.hess(v)) * vform.dx)\n",
    "#    return vf\n",
    "\n",
    "#a = bilinear()"
   ]
  },
  {
   "cell_type": "code",
   "execution_count": 11,
   "id": "49078326-b556-4696-bd9b-2a0525622e3f",
   "metadata": {},
   "outputs": [],
   "source": [
    "### Construct the constraint matrix C that immediately eliminates the columns related to Dirichlet conditions\n",
    "def construct_constraint_matrices():\n",
    "    eliminate_constraints = np.array([], dtype=int)\n",
    "    Ck = []\n",
    "    loc_dirichlet = []\n",
    "    for p in range(len(MP.mesh.patches)):\n",
    "        bndindices = (bcs[0] < MP.N_ofs[p+1]) & (bcs[0] >= MP.N_ofs[p])\n",
    "        to_eliminate = bcs[0][bndindices]-MP.N_ofs[p]\n",
    "        \n",
    "        loc, _ = cpp[p][0]\n",
    "        \n",
    "        nnz_per_row = MP.Constr[:,loc+MP.N_ofs[p]].getnnz(axis=1)\n",
    "        result = np.where(nnz_per_row > 0)[0]\n",
    "        eliminate_constraints = np.union1d(eliminate_constraints, result)\n",
    "        \n",
    "        ck = MP.Constr[result,MP.N_ofs[p]:MP.N_ofs[p+1]]\n",
    "        ck = np.delete(ck.A, \n",
    "                       to_eliminate, \n",
    "                       axis=1)\n",
    "                \n",
    "        q,r = np.linalg.qr(ck.T)\n",
    "        ck = scipy.sparse.csr_matrix(ck[np.abs(np.diag(r))>=1e-10])\n",
    "        \n",
    "        #if p == 3:\n",
    "        #    print(\"Ck\", result)\n",
    "        \n",
    "        Ck.append(ck)\n",
    "        loc_dirichlet.append(to_eliminate)\n",
    "\n",
    "    return Ck, scipy.sparse.block_diag(Ck), eliminate_constraints, loc_dirichlet"
   ]
  },
  {
   "cell_type": "code",
   "execution_count": 12,
   "id": "8895cdff-9c30-4947-95ab-214e0e97d120",
   "metadata": {},
   "outputs": [],
   "source": [
    "### Construct the constraint matrix C that immediately eliminates the columns related to Dirichlet conditions\n",
    "def construct_constraint_matrices2():\n",
    "    eliminate_constraints = np.array([], dtype=int)\n",
    "    Ck = []\n",
    "    loc_dirichlet = []\n",
    "    for p in range(len(MP.mesh.patches)):\n",
    "        bndindices = (bcs[0] < MP.N_ofs[p+1]) & (bcs[0] >= MP.N_ofs[p])\n",
    "        to_eliminate = bcs[0][bndindices]-MP.N_ofs[p]\n",
    "        free = np.setdiff1d(np.arange(MP.N[p]),to_eliminate)\n",
    "        primal = assemble.boundary_dofs(kvs, m=0, ravel=1)\n",
    "        primal_free = np.setdiff1d(primal, to_eliminate)\n",
    "        \n",
    "        #loc, _ = cpp[p][0]\n",
    "        \n",
    "        data = np.ones(len(primal_free))\n",
    "        rows = np.arange(len(primal_free))\n",
    "        cols = primal_free\n",
    "        ck = coo_matrix((data, (rows, cols)),(len(primal_free),MP.N[p])).tocsc()\n",
    "        ck = ck[:,free]\n",
    "        Ck.append(ck)\n",
    "\n",
    "    return Ck, scipy.sparse.block_diag(Ck), eliminate_constraints, loc_dirichlet"
   ]
  },
  {
   "cell_type": "code",
   "execution_count": 13,
   "id": "c311d0bb-69f6-454d-b1f4-5e762d20f5ed",
   "metadata": {},
   "outputs": [],
   "source": [
    "Ck, C, eliminate_rows, loc_dirichlet = construct_constraint_matrices()"
   ]
  },
  {
   "cell_type": "code",
   "execution_count": 14,
   "id": "d80d288c-30b6-4547-8d9f-468cce2be076",
   "metadata": {},
   "outputs": [],
   "source": [
    "def construct_primal_basis(Ak, Ck):\n",
    "    Psi = []\n",
    "    for p in range(len(patches)):\n",
    "        a = Ak[p*Ck[p].shape[1]:(p+1)*Ck[p].shape[1], p*Ck[p].shape[1]:(p+1)*Ck[p].shape[1]]\n",
    "        c = Ck[p]\n",
    "        AC = scipy.sparse.bmat(\n",
    "        [[a, c.T],\n",
    "         [c,  None   ]], format='csr')\n",
    "        RHS = np.vstack([np.zeros((a.shape[0],c.shape[0])), np.identity(c.shape[0])])\n",
    "        psi = scipy.sparse.linalg.spsolve(AC, RHS)\n",
    "        psi, delta = psi[:a.shape[0],], psi[a.shape[0]:,]\n",
    "        if len(psi.shape)==1: psi=psi[None]\n",
    "        \n",
    "        Psi.append(psi)\n",
    "        \n",
    "    return Psi"
   ]
  },
  {
   "cell_type": "code",
   "execution_count": 15,
   "id": "c75a4223-f1c1-45ff-beb9-94021fa05679",
   "metadata": {},
   "outputs": [],
   "source": [
    "Psik=construct_primal_basis(A, Ck)\n",
    "\n",
    "PSI = scipy.sparse.bmat([[Psik[0], None,    None,    None   ],\n",
    "                         [None,    Psik[1], None,    None   ],\n",
    "                         [None,    None,    Psik[2], None   ],\n",
    "                         [None,    None,    None,    Psik[3]]], format='csr')"
   ]
  },
  {
   "cell_type": "code",
   "execution_count": 16,
   "id": "57955a30-80b2-4005-93e6-44fc840882e7",
   "metadata": {},
   "outputs": [],
   "source": [
    "# Prepare the jump matrix \n",
    "# I.e., eliminate the rows related to corner constraints\n",
    "B = MP.Constr\n",
    "B = scipy.sparse.csr_matrix(np.delete(B.A, eliminate_rows, axis=0))\n",
    "B = B@free_dofs.T"
   ]
  },
  {
   "cell_type": "code",
   "execution_count": 17,
   "id": "0262c060-6bf2-43fc-a869-9f3d9faf39e2",
   "metadata": {},
   "outputs": [],
   "source": [
    "# Get all the matrices\n",
    "PTAP = PSI@A@PSI.T\n",
    "PTBT = PSI@B.T\n",
    "BP   = B@PSI.T"
   ]
  },
  {
   "cell_type": "code",
   "execution_count": 18,
   "id": "d66e568e-7434-44db-b888-64ac6a4efa9e",
   "metadata": {},
   "outputs": [
    {
     "name": "stdout",
     "output_type": "stream",
     "text": [
      "Rank  4  vs. shape  (4, 4)\n"
     ]
    },
    {
     "data": {
      "text/plain": [
       "'\\nA0inv = scipy.sparse.linalg.spsolve(A0, BR.A)\\nF = BL@A0inv\\n\\nA0inv = scipy.sparse.linalg.spsolve(A0, TR)\\nb = BL@A0inv\\n'"
      ]
     },
     "execution_count": 18,
     "metadata": {},
     "output_type": "execute_result"
    }
   ],
   "source": [
    "### Set up the linear system\n",
    "#A_ieti = scipy.sparse.bmat(\n",
    "#    [[A,    C.T,  None, B.T  ],\n",
    "#     [C,    None, None, None ],\n",
    "#     [None, None, PTAP, PTBT ],\n",
    "#     [B,    None, BP,   None ]], format='csr')\n",
    "\n",
    "BL = scipy.sparse.bmat([[B,    np.zeros((B.shape[0],C.shape[0])), BP]], format='csr')\n",
    "BR = scipy.sparse.bmat([[B.T],    \n",
    "                        [np.zeros((C.shape[0],B.shape[0]))], \n",
    "                        [PTBT]], format='csr')\n",
    "A0 = scipy.sparse.bmat(\n",
    "    [[A,    C.T,  None],\n",
    "     [C,    None, None],\n",
    "     [None, None, PTAP]], format='csr')\n",
    "\n",
    "print(\"Rank \", np.linalg.matrix_rank(PTAP.A), \" vs. shape \", PTAP.shape)\n",
    "\n",
    "b = np.hstack((rhs, np.zeros(C.shape[0],), PSI.dot(rhs), np.zeros(B.shape[0],)))\n",
    "\n",
    "BR = scipy.sparse.linalg.aslinearoperator(BR)\n",
    "BL = scipy.sparse.linalg.aslinearoperator(BL)\n",
    "A0inv = solvers.make_solver(A0.A, spd=False)\n",
    "\n",
    "F = BL@A0inv.dot(BR)\n",
    "\n",
    "TR = np.hstack((rhs, np.zeros((C.shape[0],)), PSI.dot(rhs)))\n",
    "b = BL@(A0inv.dot(TR))\n",
    "\n",
    "\"\"\"\n",
    "A0inv = scipy.sparse.linalg.spsolve(A0, BR.A)\n",
    "F = BL@A0inv\n",
    "\n",
    "A0inv = scipy.sparse.linalg.spsolve(A0, TR)\n",
    "b = BL@A0inv\n",
    "\"\"\""
   ]
  },
  {
   "cell_type": "code",
   "execution_count": 19,
   "id": "649abcd6-6f78-42f3-b3b1-e00f0b99e5a6",
   "metadata": {},
   "outputs": [],
   "source": [
    "### Dirichlet preconditioner MsD\n",
    "B_gamma = MP.Constr\n",
    "B_gamma = scipy.sparse.csr_matrix(np.delete(B_gamma.A, eliminate_rows, axis=0))\n",
    "B_gamma = B_gamma@Rbb.T\n",
    "\n",
    "#print(np.linalg.matrix_rank(Rbb.A, 1e-8))\n",
    "#print(B_gamma.shape)\n",
    "\n",
    "#Aib = scipy.sparse.linalg.aslinearoperator(Aib)\n",
    "AiiinvB = scipy.sparse.linalg.spsolve(Aii, Aib.A)\n",
    "S = Abb - Abi@AiiinvB\n",
    "D = np.abs(B_gamma).sum(axis=0)\n",
    "D = [1/(1+D[0,v]) for v in range(D.shape[1])]\n",
    "D = scipy.sparse.diags(D, format='csr')\n",
    "\n",
    "BgD = B_gamma@D\n",
    "MsD = BgD@S@BgD.T    "
   ]
  },
  {
   "cell_type": "code",
   "execution_count": 76,
   "id": "5f9292a8-2f78-4036-afb0-c7bff4be537a",
   "metadata": {},
   "outputs": [
    {
     "data": {
      "text/plain": [
       "<8x36 sparse matrix of type '<class 'numpy.float64'>'\n",
       "\twith 16 stored elements in Compressed Sparse Row format>"
      ]
     },
     "execution_count": 76,
     "metadata": {},
     "output_type": "execute_result"
    }
   ],
   "source": [
    "scipy.sparse.csr_matrix(np.delete(MP.Constr.A, eliminate_rows, axis=0))"
   ]
  },
  {
   "cell_type": "code",
   "execution_count": 75,
   "id": "764d46e6-63ff-4f34-baa4-330d090f4020",
   "metadata": {},
   "outputs": [
    {
     "data": {
      "text/plain": [
       "<8x36 sparse matrix of type '<class 'numpy.float64'>'\n",
       "\twith 16 stored elements in Compressed Sparse Row format>"
      ]
     },
     "execution_count": 75,
     "metadata": {},
     "output_type": "execute_result"
    }
   ],
   "source": [
    "I.B"
   ]
  },
  {
   "cell_type": "code",
   "execution_count": 61,
   "id": "3dcf9819-2642-44aa-b99a-995a240f98ba",
   "metadata": {},
   "outputs": [
    {
     "data": {
      "text/plain": [
       "<8x12 sparse matrix of type '<class 'numpy.float64'>'\n",
       "\twith 8 stored elements in Compressed Sparse Row format>"
      ]
     },
     "execution_count": 61,
     "metadata": {},
     "output_type": "execute_result"
    }
   ],
   "source": [
    "B_gamma"
   ]
  },
  {
   "cell_type": "code",
   "execution_count": 52,
   "id": "acbf0aef-b39e-4295-87fe-53187798f7f8",
   "metadata": {},
   "outputs": [
    {
     "data": {
      "text/plain": [
       "array([[ 0.     ,  0.     ,  0.     ,  0.     ,  0.     ,  0.     ,  0.     ,  0.     ],\n",
       "       [ 0.     ,  0.64583,  0.     ,  0.     ,  0.09375,  0.     ,  0.     , -0.09375],\n",
       "       [ 0.     ,  0.     ,  0.64583,  0.     , -0.09375,  0.     ,  0.     ,  0.09375],\n",
       "       [ 0.     ,  0.     ,  0.     ,  0.     ,  0.     ,  0.     ,  0.     ,  0.     ],\n",
       "       [ 0.     ,  0.09375, -0.09375,  0.     ,  0.64583,  0.     ,  0.     ,  0.     ],\n",
       "       [ 0.     ,  0.     ,  0.     ,  0.     ,  0.     ,  0.     ,  0.     ,  0.     ],\n",
       "       [ 0.     ,  0.     ,  0.     ,  0.     ,  0.     ,  0.     ,  0.     ,  0.     ],\n",
       "       [ 0.     , -0.09375,  0.09375,  0.     ,  0.     ,  0.     ,  0.     ,  0.64583]])"
      ]
     },
     "execution_count": 52,
     "metadata": {},
     "output_type": "execute_result"
    }
   ],
   "source": [
    "MsD.A"
   ]
  },
  {
   "cell_type": "code",
   "execution_count": 30,
   "id": "693d9540-fcf8-45a7-8ce8-20fd3ce2888d",
   "metadata": {},
   "outputs": [
    {
     "data": {
      "text/plain": [
       "array([0, 2, 6, 8])"
      ]
     },
     "execution_count": 30,
     "metadata": {},
     "output_type": "execute_result"
    }
   ],
   "source": [
    "I.eliminate_constraints"
   ]
  },
  {
   "cell_type": "code",
   "execution_count": 26,
   "id": "5c294cfb-7ff2-47a7-ba2f-2e7240d13e93",
   "metadata": {},
   "outputs": [
    {
     "data": {
      "text/plain": [
       "matrix([[ 0.     ,  0.     ,  0.     ,  0.     ,  0.     ,  0.     ,  0.     ,  0.     ],\n",
       "        [ 0.     ,  0.64583,  0.     ,  0.     ,  0.09375,  0.     ,  0.     , -0.09375],\n",
       "        [ 0.     ,  0.     ,  0.64583,  0.     , -0.09375,  0.     ,  0.     ,  0.09375],\n",
       "        [ 0.     ,  0.     ,  0.     ,  0.     ,  0.     ,  0.     ,  0.     ,  0.     ],\n",
       "        [ 0.     ,  0.09375, -0.09375,  0.     ,  0.64583,  0.     ,  0.     ,  0.     ],\n",
       "        [ 0.     ,  0.     ,  0.     ,  0.     ,  0.     ,  0.     ,  0.     ,  0.     ],\n",
       "        [ 0.     ,  0.     ,  0.     ,  0.     ,  0.     ,  0.     ,  0.     ,  0.     ],\n",
       "        [ 0.     , -0.09375,  0.09375,  0.     ,  0.     ,  0.     ,  0.     ,  0.64583]])"
      ]
     },
     "execution_count": 26,
     "metadata": {},
     "output_type": "execute_result"
    }
   ],
   "source": [
    "MsD"
   ]
  },
  {
   "cell_type": "code",
   "execution_count": 28,
   "id": "19ff6cec-5969-4e7c-9405-d79bc2470c68",
   "metadata": {},
   "outputs": [
    {
     "data": {
      "text/plain": [
       "matrix([[ 0.64583,  0.     ,  0.     ,  0.     ,  0.09375,  0.     , -0.09375, -0.05208],\n",
       "        [ 0.     ,  0.22569, -0.08681,  0.     , -0.05208,  0.     ,  0.03472, -0.06944],\n",
       "        [ 0.     , -0.08681,  0.64583,  0.     , -0.09375,  0.     ,  0.09375,  0.03472],\n",
       "        [ 0.     ,  0.     ,  0.     ,  0.     ,  0.     ,  0.     ,  0.     ,  0.     ],\n",
       "        [ 0.09375, -0.05208, -0.09375,  0.     ,  0.64583,  0.     ,  0.     ,  0.     ],\n",
       "        [ 0.     ,  0.     ,  0.     ,  0.     ,  0.     ,  0.     ,  0.     ,  0.     ],\n",
       "        [-0.09375,  0.03472,  0.09375,  0.     ,  0.     ,  0.     ,  0.64583, -0.08681],\n",
       "        [-0.05208, -0.06944,  0.03472,  0.     ,  0.     ,  0.     , -0.08681,  0.22569]])"
      ]
     },
     "execution_count": 28,
     "metadata": {},
     "output_type": "execute_result"
    }
   ],
   "source": [
    "I.MsD()"
   ]
  },
  {
   "cell_type": "code",
   "execution_count": 44,
   "id": "8621a96e-ca1c-4af5-a3ee-802367238517",
   "metadata": {},
   "outputs": [],
   "source": [
    "B=MP.Constr"
   ]
  },
  {
   "cell_type": "code",
   "execution_count": 48,
   "id": "d0d01691-6616-48ad-803e-4077b859577e",
   "metadata": {},
   "outputs": [
    {
     "data": {
      "text/plain": [
       "<8x36 sparse matrix of type '<class 'numpy.float64'>'\n",
       "\twith 16 stored elements in Compressed Sparse Row format>"
      ]
     },
     "execution_count": 48,
     "metadata": {},
     "output_type": "execute_result"
    }
   ],
   "source": [
    "scipy.sparse.csr_matrix(np.delete(B.A, eliminate_rows, axis=0))"
   ]
  },
  {
   "cell_type": "code",
   "execution_count": 49,
   "id": "a29abe6e-08a1-4e56-90af-e01ab563ce8c",
   "metadata": {},
   "outputs": [],
   "source": [
    "B_gamma=B[np.setdiff1d(np.arange(B.shape[0]),eliminate_rows),:]"
   ]
  },
  {
   "cell_type": "code",
   "execution_count": 42,
   "id": "0cdfb090-ebd7-4dea-a22d-d9f3a4e5077b",
   "metadata": {},
   "outputs": [
    {
     "data": {
      "text/plain": [
       "<8x12 sparse matrix of type '<class 'numpy.float64'>'\n",
       "\twith 8 stored elements in Compressed Sparse Row format>"
      ]
     },
     "execution_count": 42,
     "metadata": {},
     "output_type": "execute_result"
    }
   ],
   "source": [
    "B_gamma@Rbb.T"
   ]
  },
  {
   "cell_type": "code",
   "execution_count": 43,
   "id": "9ec5a399-40d6-4bbd-b913-488e226a14b2",
   "metadata": {},
   "outputs": [
    {
     "data": {
      "text/plain": [
       "<5x12 sparse matrix of type '<class 'numpy.float64'>'\n",
       "\twith 6 stored elements in Compressed Sparse Row format>"
      ]
     },
     "execution_count": 43,
     "metadata": {},
     "output_type": "execute_result"
    }
   ],
   "source": [
    "I.B_gamma"
   ]
  },
  {
   "cell_type": "code",
   "execution_count": 32,
   "id": "6e04dfa7-c268-40ed-9497-047fa2a961bc",
   "metadata": {},
   "outputs": [
    {
     "data": {
      "text/plain": [
       "array([ 2,  3,  6, 11])"
      ]
     },
     "execution_count": 32,
     "metadata": {},
     "output_type": "execute_result"
    }
   ],
   "source": [
    "eliminate_rows"
   ]
  },
  {
   "cell_type": "code",
   "execution_count": 83,
   "id": "ddc6e47a-d30a-4ad5-bc0f-f6668c452735",
   "metadata": {},
   "outputs": [
    {
     "name": "stdout",
     "output_type": "stream",
     "text": [
      "pcg stopped after 4 iterations with relres 8.5775770503511e-11\n"
     ]
    }
   ],
   "source": [
    "### Solve the system with PCG\n",
    "u, it, r = solvers.pcg(F, b, x0=None, maxiter=200, P=MsD.A, output=1, tol=1e-10)"
   ]
  },
  {
   "cell_type": "code",
   "execution_count": 21,
   "id": "c95e8b91-d94c-465f-b7aa-6fe103b084f4",
   "metadata": {},
   "outputs": [
    {
     "data": {
      "text/plain": [
       "<8x8 _ProductLinearOperator with dtype=float64>"
      ]
     },
     "execution_count": 21,
     "metadata": {},
     "output_type": "execute_result"
    }
   ],
   "source": [
    "F"
   ]
  },
  {
   "cell_type": "code",
   "execution_count": 66,
   "id": "d28da8cb-e5bf-4938-a77d-8e88084db5bd",
   "metadata": {},
   "outputs": [
    {
     "data": {
      "text/plain": [
       "3"
      ]
     },
     "execution_count": 66,
     "metadata": {},
     "output_type": "execute_result"
    }
   ],
   "source": [
    "it"
   ]
  },
  {
   "cell_type": "code",
   "execution_count": 22,
   "id": "98b6584d-837a-4f38-a163-1ce1863f1308",
   "metadata": {},
   "outputs": [
    {
     "data": {
      "text/plain": [
       "matrix([[ 0.     ,  0.     ,  0.     ,  0.     ,  0.     ,  0.     ,  0.     ,  0.     ],\n",
       "        [ 0.     ,  0.64583,  0.     ,  0.     ,  0.09375,  0.     ,  0.     , -0.09375],\n",
       "        [ 0.     ,  0.     ,  0.64583,  0.     , -0.09375,  0.     ,  0.     ,  0.09375],\n",
       "        [ 0.     ,  0.     ,  0.     ,  0.     ,  0.     ,  0.     ,  0.     ,  0.     ],\n",
       "        [ 0.     ,  0.09375, -0.09375,  0.     ,  0.64583,  0.     ,  0.     ,  0.     ],\n",
       "        [ 0.     ,  0.     ,  0.     ,  0.     ,  0.     ,  0.     ,  0.     ,  0.     ],\n",
       "        [ 0.     ,  0.     ,  0.     ,  0.     ,  0.     ,  0.     ,  0.     ,  0.     ],\n",
       "        [ 0.     , -0.09375,  0.09375,  0.     ,  0.     ,  0.     ,  0.     ,  0.64583]])"
      ]
     },
     "execution_count": 22,
     "metadata": {},
     "output_type": "execute_result"
    }
   ],
   "source": [
    "MsD"
   ]
  },
  {
   "cell_type": "code",
   "execution_count": 26,
   "id": "c749007d-4ee0-4462-b72a-fa24bc775ba3",
   "metadata": {},
   "outputs": [
    {
     "data": {
      "text/plain": [
       "matrix([[ 0.     ,  0.     ,  0.     ,  0.     ,  0.     ],\n",
       "        [ 0.     ,  0.64583,  0.     ,  0.     ,  0.09375],\n",
       "        [ 0.     ,  0.     ,  0.64583,  0.     , -0.09375],\n",
       "        [ 0.     ,  0.     ,  0.     ,  0.     ,  0.     ],\n",
       "        [ 0.     ,  0.09375, -0.09375,  0.     ,  0.64583]])"
      ]
     },
     "execution_count": 26,
     "metadata": {},
     "output_type": "execute_result"
    }
   ],
   "source": [
    "MsD_"
   ]
  },
  {
   "cell_type": "code",
   "execution_count": null,
   "id": "6edf1592-b092-47c2-a1de-cfb516ffad6d",
   "metadata": {},
   "outputs": [],
   "source": []
  }
 ],
 "metadata": {
  "kernelspec": {
   "display_name": "Python 3 (ipykernel)",
   "language": "python",
   "name": "python3"
  },
  "language_info": {
   "codemirror_mode": {
    "name": "ipython",
    "version": 3
   },
   "file_extension": ".py",
   "mimetype": "text/x-python",
   "name": "python",
   "nbconvert_exporter": "python",
   "pygments_lexer": "ipython3",
   "version": "3.9.13"
  }
 },
 "nbformat": 4,
 "nbformat_minor": 5
}
