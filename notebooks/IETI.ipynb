{
 "cells": [
  {
   "cell_type": "code",
   "execution_count": 1,
   "id": "0a3ad70c-69ae-4365-9b61-6828a992d55c",
   "metadata": {},
   "outputs": [
    {
     "name": "stdout",
     "output_type": "stream",
     "text": [
      "Populating the interactive namespace from numpy and matplotlib\n"
     ]
    }
   ],
   "source": [
    "%pylab inline\n",
    "import scipy\n",
    "from scipy.sparse import coo_matrix, block_diag, identity, hstack\n",
    "import matplotlib.pyplot as plt\n",
    "from pyiga import bspline, vform, geometry, vis, solvers, utils, topology\n",
    "from pyiga import assemble\n",
    "from sksparse.cholmod import cholesky\n",
    "from pyiga import adaptive as adap\n",
    "import json\n",
    "from os.path import exists\n",
    "import itertools\n",
    "\n",
    "numpy.set_printoptions(linewidth=100000)\n",
    "numpy.set_printoptions(precision=5)"
   ]
  },
  {
   "cell_type": "code",
   "execution_count": 2,
   "id": "19459b93-2849-496c-b9b9-b859950c315f",
   "metadata": {},
   "outputs": [],
   "source": [
    "def square(deg, N):\n",
    " \n",
    "    kvs = [2 * (bspline.make_knots(deg, 0.0, 1.0, N),)]\n",
    "\n",
    "    # define geometry\n",
    "    geos = [\n",
    "        geometry.unit_square()\n",
    "    ]\n",
    "\n",
    "    patches = [(k, g) for k, g in zip(kvs,geos)]\n",
    "    M = topology.PatchMesh(patches)\n",
    "    M.split_patch(0)\n",
    "    return M"
   ]
  },
  {
   "cell_type": "code",
   "execution_count": 14,
   "id": "3f13b03e-af17-4f11-a89a-02b998fd8ac4",
   "metadata": {},
   "outputs": [
    {
     "name": "stdout",
     "output_type": "stream",
     "text": [
      "Basis setup took 0.006908416748046875 seconds\n"
     ]
    }
   ],
   "source": [
    "MP = assemble.Multipatch(square(1,2),automatch=True)"
   ]
  },
  {
   "cell_type": "code",
   "execution_count": 39,
   "id": "f5c30245-ba0a-4374-a877-0b4d3c5eabc9",
   "metadata": {},
   "outputs": [],
   "source": [
    "# class IETISystem:\n",
    "#     def __init__(self, MP, f):\n",
    "#         self.MP = MP\n",
    "#         self.A = [assemble.stiffness(kvs,geo) for kvs,geo in zip(self.MP.mesh.kvs, self.MP.mesh.geos)]\n",
    "#         self.B = [self.MP.Constr[:,self.MP.N_ofs[i]:self.MP.N_ofs[i+1]] for i in range(len(self.MP.N_ofs)-1)]\n",
    "#         self.f = [assemble.inner_products(kvs, f, f_physical=True, geo=geo).ravel() for kvs,geo in zip(self.MP.mesh.kvs, self.MP.mesh.geos)]\n",
    "        "
   ]
  },
  {
   "cell_type": "code",
   "execution_count": 15,
   "id": "168eb9ea-d7e0-479f-a899-a1749dd67eb7",
   "metadata": {},
   "outputs": [],
   "source": [
    "f = lambda x,y: x+y\n",
    "A = [assemble.stiffness(kvs,geo) for kvs,geo in zip(MP.mesh.kvs, MP.mesh.geos)]\n",
    "B = [MP.Constr[:,MP.N_ofs[i]:MP.N_ofs[i+1]] for i in range(len(MP.N_ofs)-1)]\n",
    "F = [assemble.inner_products(kvs, f, f_physical=True, geo=geo).ravel() for kvs,geo in zip(MP.mesh.kvs, MP.mesh.geos)]\n"
   ]
  },
  {
   "cell_type": "code",
   "execution_count": 52,
   "id": "cd975de2-a53f-4c42-8459-71386d301da6",
   "metadata": {},
   "outputs": [
    {
     "data": {
      "text/plain": [
       "[<9x9 sparse matrix of type '<class 'numpy.float64'>'\n",
       " \twith 49 stored elements in Compressed Sparse Row format>,\n",
       " <9x9 sparse matrix of type '<class 'numpy.float64'>'\n",
       " \twith 49 stored elements in Compressed Sparse Row format>,\n",
       " <9x9 sparse matrix of type '<class 'numpy.float64'>'\n",
       " \twith 49 stored elements in Compressed Sparse Row format>,\n",
       " <9x9 sparse matrix of type '<class 'numpy.float64'>'\n",
       " \twith 49 stored elements in Compressed Sparse Row format>]"
      ]
     },
     "execution_count": 52,
     "metadata": {},
     "output_type": "execute_result"
    }
   ],
   "source": [
    "[assemble.stiffness(kvs,geo) for kvs,geo in zip(MP.mesh.kvs, MP.mesh.geos)]"
   ]
  },
  {
   "cell_type": "code",
   "execution_count": 68,
   "id": "ab0c96c3-bab2-40f3-9b09-2ec0729d7765",
   "metadata": {},
   "outputs": [
    {
     "data": {
      "text/plain": [
       "array([ 2,  9,  5, 12,  8, 15, 20, 27, 23, 30, 26, 33, 15, 27, 16, 28, 17, 29,  6, 18,  7, 19,  8, 20], dtype=int32)"
      ]
     },
     "execution_count": 68,
     "metadata": {},
     "output_type": "execute_result"
    }
   ],
   "source": [
    "coo_matrix(MP.Constr).col"
   ]
  },
  {
   "cell_type": "code",
   "execution_count": 13,
   "id": "ee073d07-c263-4ab1-86c5-ad0105164bcd",
   "metadata": {},
   "outputs": [
    {
     "data": {
      "text/plain": [
       "array([ 0, 25, 50, 75])"
      ]
     },
     "execution_count": 13,
     "metadata": {},
     "output_type": "execute_result"
    }
   ],
   "source": [
    "MP.N_ofs"
   ]
  },
  {
   "cell_type": "code",
   "execution_count": 53,
   "id": "df9a3255-55eb-40a0-8df8-be5e6daf8d6d",
   "metadata": {},
   "outputs": [
    {
     "data": {
      "text/plain": [
       "array([[ 0.,  0.,  0.,  0.,  0.,  0., -1.,  0.,  0.],\n",
       "       [ 0.,  0.,  0.,  0.,  0.,  0.,  0., -1.,  0.],\n",
       "       [ 0.,  0.,  0.,  0.,  0.,  0.,  0.,  0., -1.],\n",
       "       [ 0.,  0.,  0.,  0.,  0.,  0.,  0.,  0.,  0.],\n",
       "       [ 0.,  0.,  0.,  0.,  0.,  0.,  0.,  0.,  0.],\n",
       "       [ 0.,  0.,  0.,  0.,  0.,  0.,  0.,  0.,  0.]])"
      ]
     },
     "execution_count": 53,
     "metadata": {},
     "output_type": "execute_result"
    }
   ],
   "source": [
    "IETI.B[0].A"
   ]
  },
  {
   "cell_type": "code",
   "execution_count": 42,
   "id": "2a941a31-a67a-4963-9054-614aa3b1ea53",
   "metadata": {},
   "outputs": [
    {
     "name": "stdout",
     "output_type": "stream",
     "text": [
      "  (0, 0)\t-1.0\n"
     ]
    }
   ],
   "source": [
    "print(MP.Constr[:,6])"
   ]
  },
  {
   "cell_type": "code",
   "execution_count": 41,
   "id": "aa1abda6-9491-4442-86fd-d4f4b8d19cc5",
   "metadata": {},
   "outputs": [
    {
     "data": {
      "image/png": "[encoded data removed]",
      "text/plain": [
       "<Figure size 640x480 with 1 Axes>"
      ]
     },
     "metadata": {},
     "output_type": "display_data"
    }
   ],
   "source": [
    "MP.mesh.draw(knots=True)"
   ]
  },
  {
   "cell_type": "code",
   "execution_count": 86,
   "id": "98f49bda-8547-484e-90ba-9b45993b1583",
   "metadata": {},
   "outputs": [
    {
     "data": {
      "text/plain": [
       "array([0, 1, 2, 3, 5, 6, 7, 8])"
      ]
     },
     "execution_count": 86,
     "metadata": {},
     "output_type": "execute_result"
    }
   ],
   "source": [
    "np.unique(np.concatenate([assemble.boundary_dofs(MP.mesh.kvs[0], [(a,b)], ravel=True) for a,b in itertools.product(*2*(range(2),))]))"
   ]
  },
  {
   "cell_type": "code",
   "execution_count": 84,
   "id": "16f36378-5896-491c-954a-53bd3eed6e40",
   "metadata": {},
   "outputs": [
    {
     "data": {
      "text/plain": [
       "[(0, 0), (0, 1), (1, 0), (1, 1)]"
      ]
     },
     "execution_count": 84,
     "metadata": {},
     "output_type": "execute_result"
    }
   ],
   "source": [
    "list(itertools.product(*2*(range(2),)))"
   ]
  },
  {
   "cell_type": "code",
   "execution_count": 81,
   "id": "4aa96f41-495b-4c7d-8cb3-4b2281b32bc5",
   "metadata": {},
   "outputs": [
    {
     "data": {
      "text/plain": [
       "[(0, 0), (0, 1), (0, 2), (1, 0), (1, 1), (1, 2), (2, 0), (2, 1), (2, 2)]"
      ]
     },
     "execution_count": 81,
     "metadata": {},
     "output_type": "execute_result"
    }
   ],
   "source": [
    "list(itertools.product(range(3),range(3)))"
   ]
  },
  {
   "cell_type": "code",
   "execution_count": 16,
   "id": "35c46ca7-45c5-412e-a041-0688433f451d",
   "metadata": {},
   "outputs": [
    {
     "data": {
      "text/plain": [
       "8"
      ]
     },
     "execution_count": 16,
     "metadata": {},
     "output_type": "execute_result"
    }
   ],
   "source": [
    "len(assemble.boundary_dofs(MP.mesh.kvs[0], bdspec=None, ravel=True))"
   ]
  },
  {
   "cell_type": "code",
   "execution_count": 17,
   "id": "4acaf63f-2e2f-48b9-9057-479635db25a5",
   "metadata": {},
   "outputs": [],
   "source": [
    "kvs=3*(bspline.make_knots(1,0.0,1.0,5),)"
   ]
  },
  {
   "cell_type": "code",
   "execution_count": 34,
   "id": "c40a4216-a23f-4db3-9289-52ca542d10bc",
   "metadata": {},
   "outputs": [
    {
     "data": {
      "text/plain": [
       "array([30])"
      ]
     },
     "execution_count": 34,
     "metadata": {},
     "output_type": "execute_result"
    }
   ],
   "source": [
    "assemble.boundary_dofs(kvs,[(0,0),(1,1),(2,0)],ravel=True)"
   ]
  },
  {
   "cell_type": "code",
   "execution_count": null,
   "id": "35c44453-9e98-4dad-9172-0d543385b636",
   "metadata": {},
   "outputs": [],
   "source": []
  }
 ],
 "metadata": {
  "kernelspec": {
   "display_name": "Python 3 (ipykernel)",
   "language": "python",
   "name": "python3"
  },
  "language_info": {
   "codemirror_mode": {
    "name": "ipython",
    "version": 3
   },
   "file_extension": ".py",
   "mimetype": "text/x-python",
   "name": "python",
   "nbconvert_exporter": "python",
   "pygments_lexer": "ipython3",
   "version": "3.9.13"
  }
 },
 "nbformat": 4,
 "nbformat_minor": 5
}
