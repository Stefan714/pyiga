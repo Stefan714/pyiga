{
 "cells": [
  {
   "cell_type": "code",
   "execution_count": 1,
   "id": "0a3ad70c-69ae-4365-9b61-6828a992d55c",
   "metadata": {},
   "outputs": [
    {
     "name": "stdout",
     "output_type": "stream",
     "text": [
      "Populating the interactive namespace from numpy and matplotlib\n"
     ]
    }
   ],
   "source": [
    "%pylab inline\n",
    "import scipy\n",
    "from scipy.sparse import coo_matrix, block_diag, identity, hstack\n",
    "import matplotlib.pyplot as plt\n",
    "from pyiga import bspline, vform, geometry, vis, solvers, utils, topology, ieti\n",
    "from pyiga import assemble\n",
    "from sksparse.cholmod import cholesky\n",
    "from pyiga import adaptive as adap\n",
    "import json\n",
    "from os.path import exists\n",
    "import itertools\n",
    "\n",
    "numpy.set_printoptions(linewidth=100000)\n",
    "numpy.set_printoptions(precision=5)"
   ]
  },
  {
   "cell_type": "code",
   "execution_count": 6,
   "id": "19459b93-2849-496c-b9b9-b859950c315f",
   "metadata": {},
   "outputs": [
    {
     "data": {
      "image/png": "[encoded data removed]",
      "text/plain": [
       "<Figure size 640x480 with 1 Axes>"
      ]
     },
     "metadata": {},
     "output_type": "display_data"
    }
   ],
   "source": [
    "# define discretization space (the same in each patch)\n",
    "p = 1\n",
    "kvs = 2 * (bspline.make_knots(p, 0.0, 1.0, 2),) # 15\n",
    "\n",
    "# define geometry\n",
    "geos = [\n",
    "    geometry.unit_square().translate((-1, -1)),\n",
    "    geometry.unit_square().translate((0, -1)),\n",
    "    #geometry.unit_square().translate((1, -1)),\n",
    "    geometry.unit_square().translate((-1, 0)),\n",
    "    geometry.unit_square().translate((0, 0)),\n",
    "    #geometry.unit_square().translate((1, 0)),\n",
    "]\n",
    "\n",
    "patches = [(kvs, g) for g in geos]\n",
    "\n",
    "# set up a PatchMesh object, which detects interfaces between patches\n",
    "M = topology.PatchMesh(patches)\n",
    "#bnd = M.outer_boundaries\n",
    "#print(bnd)\n",
    "\n",
    "# by default all outer boundaries are given the index 0, which we will use for the Dirichlet boundary\n",
    "# let us generate a Neumann boundary indexed by 1\n",
    "#M.set_boundary_id({0:{(0,0),(0,1),(1,0),(3,3)}})\n",
    "\n",
    "# visualize the PatchMesh object with Dirichlet boundary (blue) and Neumann boundary (red)\n",
    "M.draw(patch_idx = 1, knots=1, bcolor={0:'blue',1:'red'}, nodes=1)\n",
    "\n",
    "# set up a MultiPatch object that initializes a Basis to map global dofs to local dofs\n",
    "MP = assemble.Multipatch(M, automatch=True)\n",
    "#MP.finalize()\n",
    "\n",
    "# Constraint matrices for ieti-dp for each patch\n",
    "cpp = MP.get_crosspoints()\n",
    "#print(cpp)\n",
    "#B = MP.Constr1 "
   ]
  },
  {
   "cell_type": "code",
   "execution_count": 7,
   "id": "ce030dbd-7888-493b-b223-a3770eb0bf3e",
   "metadata": {},
   "outputs": [],
   "source": [
    "I=ieti.IetiDP(MP, {0: lambda x,y: x**2+y**2})"
   ]
  },
  {
   "cell_type": "code",
   "execution_count": 8,
   "id": "cabdf0ac-069b-469f-8a22-2e4c34de8c66",
   "metadata": {},
   "outputs": [
    {
     "data": {
      "text/plain": [
       "array([ 0,  1,  2,  3,  6,  9, 10, 11, 14, 17, 18, 21, 24, 25, 26, 29, 32, 33, 34, 35])"
      ]
     },
     "execution_count": 8,
     "metadata": {},
     "output_type": "execute_result"
    }
   ],
   "source": [
    "I.dir_idx"
   ]
  },
  {
   "cell_type": "code",
   "execution_count": 9,
   "id": "b39c69a6-6a0f-4098-ac0f-e1b3ed083713",
   "metadata": {},
   "outputs": [
    {
     "ename": "AttributeError",
     "evalue": "'IetiDP' object has no attribute 'dir_ofs'",
     "output_type": "error",
     "traceback": [
      "\u001b[0;31m---------------------------------------------------------------------------\u001b[0m",
      "\u001b[0;31mAttributeError\u001b[0m                            Traceback (most recent call last)",
      "\u001b[0;32m/tmp/ipykernel_9930/741858732.py\u001b[0m in \u001b[0;36m<module>\u001b[0;34m\u001b[0m\n\u001b[0;32m----> 1\u001b[0;31m \u001b[0mI\u001b[0m\u001b[0;34m.\u001b[0m\u001b[0mdir_ofs\u001b[0m\u001b[0;34m\u001b[0m\u001b[0;34m\u001b[0m\u001b[0m\n\u001b[0m",
      "\u001b[0;31mAttributeError\u001b[0m: 'IetiDP' object has no attribute 'dir_ofs'"
     ]
    }
   ],
   "source": [
    "I.dir_ofs"
   ]
  },
  {
   "cell_type": "code",
   "execution_count": 30,
   "id": "ad76210a-e728-4897-909f-4c9f4361b740",
   "metadata": {},
   "outputs": [],
   "source": [
    "### Define data and prepare Dirichlet boundary dofs\n",
    "\n",
    "# source term f and Dirichlet boundary function g\n",
    "f = lambda x, y: 1.\n",
    "g = lambda x, y: 0. \n",
    "\n",
    "params = {'f' : f, 'g' : g}"
   ]
  },
  {
   "cell_type": "code",
   "execution_count": 6,
   "id": "4bef99cd-0997-4544-84f2-24f308376cf3",
   "metadata": {},
   "outputs": [],
   "source": [
    "\n",
    "#kvs_ = MP.mesh.kvs\n",
    "geos = MP.mesh.geos\n",
    "idx=[]\n",
    "vals=[]\n",
    "for key in MP.mesh.outer_boundaries:\n",
    "    for p,b in MP.mesh.outer_boundaries[key]:\n",
    "        idx_, vals_ = assemble.compute_dirichlet_bc(kvs,geos[p],[(b//2,b%2)],lambda x,y : x**2+y**2)\n",
    "        idx.append(idx_+MP.N_ofs[p])\n",
    "        vals.append(vals_)\n",
    "        \n",
    "uidx, lookup = np.unique(idx, return_index=True)\n",
    "#vals = np.concatenate(vals)\n",
    "bcs=tuple((uidx,np.concatenate(vals)[lookup]))"
   ]
  },
  {
   "cell_type": "code",
   "execution_count": 32,
   "id": "026b5257-0aac-431a-be9f-41541e1c058f",
   "metadata": {},
   "outputs": [],
   "source": [
    "### Linear system assembly and restrictions\n",
    "\n",
    "# assemble the lhs of the linear system\n",
    "Ak = [assemble.assemble('inner(grad(u),grad(v)) * dx', kvs, bfuns=[('u',1), ('v',1)], geo=g) for g in geos]\n",
    "#Ak = [assemble.assemble('inner(grad(grad(u)), grad(grad(v))) * dx', kvs, bfuns=[('u',1), ('v',1)], geo=g) for g in geos]\n",
    "A = scipy.sparse.block_diag(Ak, format='csr')\n",
    "\n",
    "#print(\"Rank \", np.linalg.matrix_rank(A.A), \" vs. shape \", A.shape)\n",
    "\n",
    "\n",
    "# Assemble the rhs of the linear system \n",
    "rhs = [assemble.assemble('f * v * dx', kvs, params, bfuns=[('v',1)], geo=g).ravel() for g in geos]\n",
    "# generate Neumann vector for global contribution to the right hand side, in this case it is a zero vector since g1 is zero\n",
    "N = MP.Basis@MP.assemble_surface('g1 * inner(grad(v),n) * ds', arity=1, g1=g, boundary_idx=0)\n",
    "rhs = np.hstack(rhs) + N\n",
    "\n",
    "# Eliminate Dirichlet dofs\n",
    "BCRestr = assemble.RestrictedLinearSystem(A, rhs, bcs)\n",
    "free_dofs = BCRestr.R_free\n",
    "\n",
    "# Eliminate the Dirichlet dofs from the interface dofs\n",
    "nnz_per_col = MP.Constr.getnnz(axis=0)\n",
    "intf_dofs = np.where(nnz_per_col > 0)[0]\n",
    "intfs = np.setdiff1d(intf_dofs, bcs[0])\n",
    "\n",
    "# Patchwise restrictions\n",
    "\"\"\"\n",
    "Akii = []\n",
    "Akbb = []\n",
    "Akbi = []\n",
    "bnd_dofs = np.concatenate([indices for indices in assemble.boundary_dofs(kvs)])\n",
    "for p in range(len(MP.mesh.patches)):\n",
    "    I = scipy.sparse.eye(Ak[p].shape[1], format='csr')\n",
    "    mask = np.zeros(Ak[p].shape[1], dtype=bool)\n",
    "\n",
    "    intindices = (intfs < MP.N_ofs[p+1]) & (intfs >= MP.N_ofs[p])\n",
    "    intindices = intfs[intindices]-MP.N_ofs[p]\n",
    "    \n",
    "    mask[intindices] = True\n",
    "    Rbb = I[mask]\n",
    "    Akbb.append(Rbb.dot(Ak[p]).dot(Rbb.T)) \n",
    "    \n",
    "    mask = np.ones(Ak[p].shape[1], dtype=bool)\n",
    "    mask[bnd_dofs] = False\n",
    "    Rii = I[mask]\n",
    "    Akii.append(Rii.dot(Ak[p]).dot(Rii.T)) \n",
    "    \n",
    "    Akbi.append(Rbb.dot(Ak[p]).dot(Rii.T))\n",
    "\"\"\" \n",
    "\n",
    "# Compute the partial matrices \n",
    "I = scipy.sparse.eye(A.shape[1], format='csr')\n",
    "mask = np.zeros(A.shape[1], dtype=bool)\n",
    "mask[list(intfs)] = True\n",
    "Rbb = I[mask]\n",
    "mask = np.ones(A.shape[1], dtype=bool)\n",
    "bnd_dofs = np.concatenate([indices for indices in assemble.boundary_dofs(kvs)])\n",
    "\n",
    "for p in range(len(patches)):\n",
    "    mask[bnd_dofs+MP.N_ofs[p]] = False\n",
    "\n",
    "Rii = I[mask]\n",
    "\n",
    "Abb = Rbb.dot(A).dot(Rbb.T)\n",
    "Aii = Rii.dot(A).dot(Rii.T)\n",
    "Abi = Rbb.dot(A).dot(Rii.T)\n",
    "Aib = Abi.T\n",
    "#print(Abi.shape)\n",
    "\n",
    "# The matrices and vectors without the Dirichlet dofs\n",
    "A = BCRestr.A\n",
    "rhs = BCRestr.b\n",
    "\n",
    "#print(\"Rank \", np.linalg.matrix_rank(A.A), \" vs. shape \", A.shape)\n",
    "\n",
    "assert A.shape[1] == rhs.shape[0], \"Size of rhs is different to size of the matrix\"\n",
    "\n",
    "# Other method for assembly\n",
    "#def bilinear():\n",
    "#    vf = vform.VForm(2)\n",
    "#   u, v = vf.basisfuns()\n",
    "#    vf.add(vform.tr(vform.hess(u)) * vform.tr(vform.hess(v)) * vform.dx)\n",
    "#    return vf\n",
    "\n",
    "#a = bilinear()"
   ]
  },
  {
   "cell_type": "code",
   "execution_count": 33,
   "id": "49078326-b556-4696-bd9b-2a0525622e3f",
   "metadata": {},
   "outputs": [],
   "source": [
    "### Construct the constraint matrix C that immediately eliminates the columns related to Dirichlet conditions\n",
    "def construct_constraint_matrices():\n",
    "    eliminate_constraints = np.array([], dtype=int)\n",
    "    Ck = []\n",
    "    loc_dirichlet = []\n",
    "    for p in range(len(MP.mesh.patches)):\n",
    "        bndindices = (bcs[0] < MP.N_ofs[p+1]) & (bcs[0] >= MP.N_ofs[p])\n",
    "        to_eliminate = bcs[0][bndindices]-MP.N_ofs[p]\n",
    "        \n",
    "        loc, _ = cpp[p][0]\n",
    "        \n",
    "        nnz_per_row = MP.Constr[:,loc+MP.N_ofs[p]].getnnz(axis=1)\n",
    "        result = np.where(nnz_per_row > 0)[0]\n",
    "        eliminate_constraints = np.union1d(eliminate_constraints, result)\n",
    "        \n",
    "        ck = MP.Constr[result,MP.N_ofs[p]:MP.N_ofs[p+1]]\n",
    "        ck = np.delete(ck.A, \n",
    "                       to_eliminate, \n",
    "                       axis=1)\n",
    "                \n",
    "        q,r = np.linalg.qr(ck.T)\n",
    "        ck = scipy.sparse.csr_matrix(ck[np.abs(np.diag(r))>=1e-10])\n",
    "        \n",
    "        #if p == 3:\n",
    "        #    print(\"Ck\", result)\n",
    "        \n",
    "        Ck.append(ck)\n",
    "        loc_dirichlet.append(to_eliminate)\n",
    "\n",
    "    return Ck, scipy.sparse.block_diag(Ck), eliminate_constraints, loc_dirichlet"
   ]
  },
  {
   "cell_type": "code",
   "execution_count": 51,
   "id": "8895cdff-9c30-4947-95ab-214e0e97d120",
   "metadata": {},
   "outputs": [],
   "source": [
    "### Construct the constraint matrix C that immediately eliminates the columns related to Dirichlet conditions\n",
    "def construct_constraint_matrices2():\n",
    "    eliminate_constraints = np.array([], dtype=int)\n",
    "    Ck = []\n",
    "    loc_dirichlet = []\n",
    "    for p in range(len(MP.mesh.patches)):\n",
    "        bndindices = (bcs[0] < MP.N_ofs[p+1]) & (bcs[0] >= MP.N_ofs[p])\n",
    "        to_eliminate = bcs[0][bndindices]-MP.N_ofs[p]\n",
    "        free = np.setdiff1d(np.arange(MP.N[p]),to_eliminate)\n",
    "        primal = assemble.boundary_dofs(kvs, m=0, ravel=1)\n",
    "        primal_free = np.setdiff1d(primal, to_eliminate)\n",
    "        \n",
    "        #loc, _ = cpp[p][0]\n",
    "        \n",
    "        data = np.ones(len(primal_free))\n",
    "        rows = np.arange(len(primal_free))\n",
    "        cols = primal_free\n",
    "        ck = coo_matrix((data, (rows, cols)),(len(primal_free),MP.N[p])).tocsc()\n",
    "        ck = ck[:,free]\n",
    "        Ck.append(ck)\n",
    "\n",
    "    return Ck, scipy.sparse.block_diag(Ck), eliminate_constraints, loc_dirichlet"
   ]
  },
  {
   "cell_type": "code",
   "execution_count": 52,
   "id": "c311d0bb-69f6-454d-b1f4-5e762d20f5ed",
   "metadata": {},
   "outputs": [],
   "source": [
    "Ck, C, eliminate_rows, loc_dirichlet = construct_constraint_matrices2()"
   ]
  },
  {
   "cell_type": "code",
   "execution_count": 53,
   "id": "a5986dcf-c3ad-4a9e-9056-2c516286d0db",
   "metadata": {},
   "outputs": [
    {
     "data": {
      "text/plain": [
       "(4, 576)"
      ]
     },
     "execution_count": 53,
     "metadata": {},
     "output_type": "execute_result"
    }
   ],
   "source": [
    "C.shape"
   ]
  },
  {
   "cell_type": "code",
   "execution_count": 54,
   "id": "d80d288c-30b6-4547-8d9f-468cce2be076",
   "metadata": {},
   "outputs": [],
   "source": [
    "def construct_primal_basis(Ak, Ck):\n",
    "    Psi = []\n",
    "    for p in range(len(patches)):\n",
    "        a = Ak[p*Ck[p].shape[1]:(p+1)*Ck[p].shape[1], p*Ck[p].shape[1]:(p+1)*Ck[p].shape[1]]\n",
    "        c = Ck[p]\n",
    "        AC = scipy.sparse.bmat(\n",
    "        [[a, c.T],\n",
    "         [c,  None   ]], format='csr')\n",
    "        RHS = np.vstack([np.zeros((a.shape[0],c.shape[0])), np.identity(c.shape[0])])\n",
    "        psi = scipy.sparse.linalg.spsolve(AC, RHS)\n",
    "        psi, delta = psi[:a.shape[0],], psi[a.shape[0]:,]\n",
    "        \n",
    "        Psi.append(psi)\n",
    "        \n",
    "    return Psi"
   ]
  },
  {
   "cell_type": "code",
   "execution_count": 55,
   "id": "c75a4223-f1c1-45ff-beb9-94021fa05679",
   "metadata": {},
   "outputs": [],
   "source": [
    "Psik=construct_primal_basis(A, Ck)\n",
    "\n",
    "PSI = scipy.sparse.bmat([[Psik[0], None, None, None],\n",
    "                         [None, Psik[1], None, None],\n",
    "                         [None, None, Psik[2], None],\n",
    "                         [None, None, None, Psik[3]]], format='csr')"
   ]
  },
  {
   "cell_type": "code",
   "execution_count": 57,
   "id": "57955a30-80b2-4005-93e6-44fc840882e7",
   "metadata": {},
   "outputs": [],
   "source": [
    "# Prepare the jump matrix \n",
    "# I.e., eliminate the rows related to corner constraints\n",
    "B = MP.Constr\n",
    "B = scipy.sparse.csr_matrix(np.delete(B.A, eliminate_rows, axis=0))\n",
    "B = B@free_dofs.T"
   ]
  },
  {
   "cell_type": "code",
   "execution_count": 58,
   "id": "0262c060-6bf2-43fc-a869-9f3d9faf39e2",
   "metadata": {},
   "outputs": [],
   "source": [
    "# Get all the matrices\n",
    "PTAP = PSI@A@PSI.T\n",
    "PTBT = PSI@B.T\n",
    "BP   = B@PSI.T"
   ]
  },
  {
   "cell_type": "code",
   "execution_count": 59,
   "id": "d66e568e-7434-44db-b888-64ac6a4efa9e",
   "metadata": {},
   "outputs": [
    {
     "name": "stdout",
     "output_type": "stream",
     "text": [
      "Rank  4  vs. shape  (4, 4)\n"
     ]
    },
    {
     "data": {
      "text/plain": [
       "'\\nA0inv = scipy.sparse.linalg.spsolve(A0, BR.A)\\nF = BL@A0inv\\n\\nA0inv = scipy.sparse.linalg.spsolve(A0, TR)\\nb = BL@A0inv\\n'"
      ]
     },
     "execution_count": 59,
     "metadata": {},
     "output_type": "execute_result"
    }
   ],
   "source": [
    "### Set up the linear system\n",
    "#A_ieti = scipy.sparse.bmat(\n",
    "#    [[A,    C.T,  None, B.T  ],\n",
    "#     [C,    None, None, None ],\n",
    "#     [None, None, PTAP, PTBT ],\n",
    "#     [B,    None, BP,   None ]], format='csr')\n",
    "\n",
    "BL = scipy.sparse.bmat([[B,    np.zeros((B.shape[0],C.shape[0])), BP]], format='csr')\n",
    "BR = scipy.sparse.bmat([[B.T],    \n",
    "                        [np.zeros((C.shape[0],B.shape[0]))], \n",
    "                        [PTBT]], format='csr')\n",
    "A0 = scipy.sparse.bmat(\n",
    "    [[A,    C.T,  None],\n",
    "     [C,    None, None],\n",
    "     [None, None, PTAP]], format='csr')\n",
    "\n",
    "print(\"Rank \", np.linalg.matrix_rank(PTAP.A), \" vs. shape \", PTAP.shape)\n",
    "\n",
    "b = np.hstack((rhs, np.zeros(C.shape[0],), PSI.dot(rhs), np.zeros(B.shape[0],)))\n",
    "\n",
    "BR = scipy.sparse.linalg.aslinearoperator(BR)\n",
    "BL = scipy.sparse.linalg.aslinearoperator(BL)\n",
    "A0inv = solvers.make_solver(A0.A, spd=False)\n",
    "\n",
    "F = BL@A0inv.dot(BR)\n",
    "\n",
    "TR = np.hstack((rhs, np.zeros((C.shape[0],)), PSI.dot(rhs)))\n",
    "b = BL@(A0inv.dot(TR))\n",
    "\n",
    "\"\"\"\n",
    "A0inv = scipy.sparse.linalg.spsolve(A0, BR.A)\n",
    "F = BL@A0inv\n",
    "\n",
    "A0inv = scipy.sparse.linalg.spsolve(A0, TR)\n",
    "b = BL@A0inv\n",
    "\"\"\""
   ]
  },
  {
   "cell_type": "code",
   "execution_count": 60,
   "id": "649abcd6-6f78-42f3-b3b1-e00f0b99e5a6",
   "metadata": {},
   "outputs": [],
   "source": [
    "### Dirichlet preconditioner MsD\n",
    "B_gamma = MP.Constr\n",
    "B_gamma = scipy.sparse.csr_matrix(np.delete(B_gamma.A, eliminate_rows, axis=0))\n",
    "B_gamma = B_gamma@Rbb.T\n",
    "\n",
    "#print(np.linalg.matrix_rank(Rbb.A, 1e-8))\n",
    "#print(B_gamma.shape)\n",
    "\n",
    "#Aib = scipy.sparse.linalg.aslinearoperator(Aib)\n",
    "AiiinvB = scipy.sparse.linalg.spsolve(Aii, Aib.A)\n",
    "S = Abb - Abi@AiiinvB\n",
    "D = np.abs(B_gamma).sum(axis=0)\n",
    "D = [1/(1+D[0,v]) for v in range(D.shape[1])]\n",
    "D = scipy.sparse.diags(D, format='csr')\n",
    "\n",
    "BgD = B_gamma@D\n",
    "MsD = BgD@S@BgD.T    "
   ]
  },
  {
   "cell_type": "code",
   "execution_count": 65,
   "id": "ddc6e47a-d30a-4ad5-bc0f-f6668c452735",
   "metadata": {},
   "outputs": [
    {
     "name": "stdout",
     "output_type": "stream",
     "text": [
      "pcg stopped after 7 iterations with relres 3.698125335585791e-14\n"
     ]
    }
   ],
   "source": [
    "### Solve the system with PCG\n",
    "u, it, r = solvers.pcg(F, b, x0=None, maxiter=200, P=MsD.A, output=1, tol=1e-10)"
   ]
  },
  {
   "cell_type": "code",
   "execution_count": 66,
   "id": "c95e8b91-d94c-465f-b7aa-6fe103b084f4",
   "metadata": {},
   "outputs": [
    {
     "data": {
      "text/plain": [
       "array([ 0.00000e+00,  1.73715e-16,  2.26642e-16, -7.42578e-18,  7.00738e-17, -1.00593e-16, -2.43242e-16, -1.24356e-16,  1.16395e-16,  5.80073e-17,  5.89013e-17,  8.93101e-17, -2.33300e-16, -5.05194e-17,  1.78414e-16,  1.68905e-16,  1.16592e-16, -1.19605e-17, -5.35656e-17, -2.80896e-16, -6.64838e-17,  2.36178e-17, -3.22287e-16,  1.14133e-17, -1.88470e-16,  0.00000e+00,  3.97215e-16,  3.90252e-17,  1.86694e-16,  3.36762e-16,  2.37676e-16,  5.33587e-16,  3.23931e-16,  3.20732e-16,  4.37426e-16, -6.62136e-17,  1.13759e-16, -1.31722e-17,  0.00000e+00,  0.00000e+00,  1.39161e-16,  2.25682e-16,  3.04376e-17,  2.39450e-16,  4.41958e-16,  3.39930e-16,  2.73931e-16,  4.32853e-16, -1.10846e-16,  6.71073e-17,  1.50422e-16,  2.14435e-16])"
      ]
     },
     "execution_count": 66,
     "metadata": {},
     "output_type": "execute_result"
    }
   ],
   "source": [
    "u"
   ]
  },
  {
   "cell_type": "code",
   "execution_count": 66,
   "id": "d28da8cb-e5bf-4938-a77d-8e88084db5bd",
   "metadata": {},
   "outputs": [
    {
     "data": {
      "text/plain": [
       "3"
      ]
     },
     "execution_count": 66,
     "metadata": {},
     "output_type": "execute_result"
    }
   ],
   "source": [
    "it"
   ]
  },
  {
   "cell_type": "code",
   "execution_count": null,
   "id": "98b6584d-837a-4f38-a163-1ce1863f1308",
   "metadata": {},
   "outputs": [],
   "source": []
  }
 ],
 "metadata": {
  "kernelspec": {
   "display_name": "Python 3 (ipykernel)",
   "language": "python",
   "name": "python3"
  },
  "language_info": {
   "codemirror_mode": {
    "name": "ipython",
    "version": 3
   },
   "file_extension": ".py",
   "mimetype": "text/x-python",
   "name": "python",
   "nbconvert_exporter": "python",
   "pygments_lexer": "ipython3",
   "version": "3.9.13"
  }
 },
 "nbformat": 4,
 "nbformat_minor": 5
}
