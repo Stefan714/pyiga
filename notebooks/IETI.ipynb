{
 "cells": [
  {
   "cell_type": "code",
   "execution_count": 1,
   "id": "0a3ad70c-69ae-4365-9b61-6828a992d55c",
   "metadata": {},
   "outputs": [
    {
     "name": "stdout",
     "output_type": "stream",
     "text": [
      "Populating the interactive namespace from numpy and matplotlib\n"
     ]
    }
   ],
   "source": [
    "%pylab inline\n",
    "import scipy\n",
    "from scipy.sparse import coo_matrix, block_diag, identity, hstack\n",
    "import matplotlib.pyplot as plt\n",
    "from pyiga import bspline, vform, geometry, vis, solvers, utils, topology, ieti, algebra\n",
    "from pyiga import assemble\n",
    "from sksparse.cholmod import cholesky\n",
    "from pyiga import adaptive as adap\n",
    "import json\n",
    "from os.path import exists\n",
    "import itertools\n",
    "\n",
    "numpy.set_printoptions(linewidth=100000)\n",
    "numpy.set_printoptions(precision=5)"
   ]
  },
  {
   "cell_type": "code",
   "execution_count": 3,
   "id": "19459b93-2849-496c-b9b9-b859950c315f",
   "metadata": {},
   "outputs": [
    {
     "name": "stdout",
     "output_type": "stream",
     "text": [
      "setting up constraints took 0.04084157943725586 seconds.\n",
      "Basis setup took 0.0187833309173584 seconds\n"
     ]
    },
    {
     "data": {
      "image/png": "[encoded data removed]",
      "text/plain": [
       "<Figure size 640x480 with 1 Axes>"
      ]
     },
     "metadata": {},
     "output_type": "display_data"
    }
   ],
   "source": [
    "# define discretization space (the same in each patch)\n",
    "deg = 1\n",
    "N = 50\n",
    "k = 1\n",
    "\n",
    "geos = [\n",
    "    geometry.unit_square(),\n",
    "    geometry.unit_square().translate((1,0)),\n",
    "    geometry.unit_square().translate((2,0)),\n",
    "    geometry.unit_square().translate((0,1)),\n",
    "    geometry.unit_square().translate((1,1)),\n",
    "    geometry.unit_square().translate((2,1)),\n",
    "    geometry.unit_square().translate((0,2)),\n",
    "    geometry.unit_square().translate((1,2)),\n",
    "    geometry.unit_square().translate((2,2)),\n",
    "]\n",
    "\n",
    "#kvs = [2 * (bspline.make_knots(p, 0.0, 1.0, N),) if i%2==0 else 2 * (bspline.make_knots(p, 0.0, 1.0, k*N),) for i in range(len(geos))]\n",
    "#kvs = [2 * (bspline.make_knots(p, 0.0, 1.0, N),), 2 * (bspline.make_knots(p, 0.0, 1.0, k*N),),2 * (bspline.make_knots(p, 0.0, 1.0, k*N),), 2 * (bspline.make_knots(p, 0.0, 1.0, N),)] # 15\n",
    "kvs=9*[2*(bspline.make_knots(deg,0.0,1.0,N),)]\n",
    "patches = [(kvs, g) for kvs, g in zip(kvs,geos)]\n",
    "\n",
    "# set up a PatchMesh object, which detects interfaces between patches\n",
    "M = topology.PatchMesh(patches)\n",
    "MP = assemble.Multipatch(M, automatch=True)\n",
    "MP.set_dirichlet_boundary({0:lambda x,y:0.})\n",
    "MP.mesh.draw(patch_idx = 1, knots=1, bcolor={0:'blue',1:'red'}, nodes=1, axis='off')\n",
    "axis('scaled');\n",
    "\n",
    "### Define data and prepare Dirichlet boundary dofs\n",
    "\n",
    "# source term f and Dirichlet boundary function g\n",
    "f = lambda x, y: 1.\n",
    "g = lambda x, y: 0. \n",
    "\n",
    "params = {'f' : f, 'g' : g}"
   ]
  },
  {
   "cell_type": "code",
   "execution_count": 4,
   "id": "7cae6cbb-106e-4eb0-ad90-9915a8afae5a",
   "metadata": {},
   "outputs": [],
   "source": [
    "I = ieti.IetiDP(MP, dir_data = {0:g}, elim=False)\n",
    "I.assemble(f=lambda x,y: 1.)\n",
    "I.construct_primal_constraints()\n",
    "I.construct_primal_basis()"
   ]
  },
  {
   "cell_type": "code",
   "execution_count": 5,
   "id": "2de269c2-1201-437c-88f2-49ac07147dd5",
   "metadata": {},
   "outputs": [],
   "source": [
    "# PsiK=[]\n",
    "# cpp = I.space.get_crosspoints() \n",
    "# G = {}\n",
    "# s=0\n",
    "# for p in cpp:\n",
    "#     for l, g in cpp[p]:\n",
    "#         if g not in G:\n",
    "#             G[g]=s\n",
    "#             s+=1\n",
    "# for p in range(len(I.space.mesh.patches)):\n",
    "    \n",
    "#     a = I.Ak[p]\n",
    "#     c = I.Ck[p]\n",
    "#     AC = scipy.sparse.bmat(\n",
    "#     [[a, c.T],\n",
    "#      [c,  None   ]], format='csr')\n",
    "#     RHS = np.vstack([np.zeros((a.shape[0],c.shape[0])), np.identity(c.shape[0])])\n",
    "#     psi = scipy.sparse.linalg.spsolve(AC, RHS)\n",
    "#     psi, delta = psi[:a.shape[0],], psi[a.shape[0]:,]\n",
    "#     if psi.ndim==1: psi=psi[:,None]\n",
    "#     data = np.ones(psi.shape[1])\n",
    "#     ii = np.arange(len(cpp[p]))\n",
    "#     jj = np.array([G[g] for _,g in cpp[p]])\n",
    "#     r=coo_matrix((data,(ii,jj)),(psi.shape[1],len(G)))\n",
    "#     PsiK.append(psi@r)\n",
    "#     #print(PsiK.shape)\n",
    "    \n",
    "# #print(scipy.vstack(PsiK))\n",
    "#     #Psik.append(psi)\n",
    "#     #self.Rk.append(r)"
   ]
  },
  {
   "cell_type": "code",
   "execution_count": 6,
   "id": "9711d4a5-5d28-4a30-87b7-ab8b123f6b1a",
   "metadata": {},
   "outputs": [],
   "source": [
    "F,b= I.compute_F()"
   ]
  },
  {
   "cell_type": "code",
   "execution_count": 7,
   "id": "356b7a53-b26b-402f-a5f8-2471ff2b03b0",
   "metadata": {},
   "outputs": [],
   "source": [
    "MsD = I.MsD()"
   ]
  },
  {
   "cell_type": "code",
   "execution_count": 8,
   "id": "d04b07b0-c4d5-42f8-a153-fc91a755c53a",
   "metadata": {},
   "outputs": [],
   "source": [
    "# F_mat = F.dot(np.eye(F.shape[1]))\n",
    "\n",
    "# print(\"Condition of Schur Complement: \"+str(algebra.condest(F_mat)))\n",
    "# print(\"Condition of preconditioned Schur Complement: \"+str(algebra.condest(MsD@F_mat)))"
   ]
  },
  {
   "cell_type": "code",
   "execution_count": 15,
   "id": "ac52021a-68aa-4748-b5a2-9a3f9b44a8b5",
   "metadata": {},
   "outputs": [
    {
     "name": "stdout",
     "output_type": "stream",
     "text": [
      "pcg stopped after 3 iterations with relres 1.060068983187972e-07\n"
     ]
    }
   ],
   "source": [
    "### Solve the system with PCG\n",
    "lam, it, r = solvers.pcg(F, b, x0=None, maxiter=200, P=MsD, output=1, tol=1e-6)"
   ]
  },
  {
   "cell_type": "code",
   "execution_count": 96,
   "id": "dc4b4b62-b3cd-41a0-884b-db4354dbdcbd",
   "metadata": {},
   "outputs": [
    {
     "name": "stdout",
     "output_type": "stream",
     "text": [
      "setting up constraints took 0.02475738525390625 seconds.\n",
      "Basis setup took 0.014345645904541016 seconds\n"
     ]
    }
   ],
   "source": [
    "patches = [(2*(bspline.make_knots(1,0.0,1.0,1),),geometry.unit_square())]\n",
    "M = topology.PatchMesh(patches)\n",
    "M.h_refine({0:0})\n",
    "M.h_refine({1:1})\n",
    "M.h_refine({1:0})\n",
    "M.h_refine({2:0})\n",
    "MP = assemble.Multipatch(M, automatch=True)\n",
    "I = ieti.IetiDP(MP, dir_data = {0:g}, elim=False)"
   ]
  },
  {
   "cell_type": "code",
   "execution_count": 5,
   "id": "9daacd23-e4f7-4ce3-b4f5-1ee21a1b670c",
   "metadata": {},
   "outputs": [],
   "source": [
    "loc_c = np.concatenate([assemble.boundary_dofs(kvs,m=0,ravel=True)+MP.N_ofs[p] for p, kvs in enumerate(MP.mesh.kvs)])\n",
    "i_loc_c = np.setdiff1d(loc_c, I.global_dir_idx)\n",
    "\n",
    "B = MP.Basis[i_loc_c,:]\n",
    "C_dofs = np.unique(B[B.getnnz(axis=1)==1].indices)\n",
    "#return {p:[(l,g) for l] for p in range(MP.numpatches)}\n",
    "Nodes = {c:MP.Basis[:,c].tocsc().indices for c in C_dofs}\n",
    "#t_idx = np.where(B.getnnz(axis=1)>1)[0]\n",
    "# A={}\n",
    "# for row in t_idx:\n",
    "#     tup = tuple(t_idx[row].indices)\n",
    "#     if tup in A:\n",
    "        \n",
    "#     else:\n",
    "#         A[tup] = \n",
    "#T_dofs = [tuple(row.indices) for row in t_idx]\n",
    "#Nodes.update({t:MP.Basis[:,t]})\n",
    "    #T_dofs = set([ for ])\n",
    "    #T_dofs = B[]\n",
    "    #g_dofs = np.unique(B.indices)"
   ]
  },
  {
   "cell_type": "code",
   "execution_count": 6,
   "id": "e41f31f8-a091-4912-9096-be695bcfda8f",
   "metadata": {},
   "outputs": [
    {
     "data": {
      "text/plain": [
       "{18: array([ 8, 15, 29, 36], dtype=int32),\n",
       " 22: array([44, 51, 65, 72], dtype=int32),\n",
       " 23: array([17, 24, 38, 45], dtype=int32),\n",
       " 35: array([35, 42, 56, 63], dtype=int32)}"
      ]
     },
     "execution_count": 6,
     "metadata": {},
     "output_type": "execute_result"
    }
   ],
   "source": [
    "Nodes"
   ]
  },
  {
   "cell_type": "code",
   "execution_count": 98,
   "id": "01fbff66-ea97-42c9-9983-17e61aa8544d",
   "metadata": {},
   "outputs": [
    {
     "data": {
      "text/plain": [
       "array([ True, False,  True, False, False, False])"
      ]
     },
     "execution_count": 98,
     "metadata": {},
     "output_type": "execute_result"
    }
   ],
   "source": [
    "B.getnnz(axis=1)>1"
   ]
  },
  {
   "cell_type": "code",
   "execution_count": 95,
   "id": "6a0ef01b-df78-426f-bc7b-3c34c68850f4",
   "metadata": {},
   "outputs": [
    {
     "data": {
      "text/plain": [
       "<6x29 sparse matrix of type '<class 'numpy.float64'>'\n",
       "\twith 10 stored elements in Compressed Sparse Row format>"
      ]
     },
     "execution_count": 95,
     "metadata": {},
     "output_type": "execute_result"
    }
   ],
   "source": [
    "B"
   ]
  },
  {
   "cell_type": "code",
   "execution_count": 85,
   "id": "5f333f0c-4a0b-4ec6-98a3-d563f1ac476f",
   "metadata": {},
   "outputs": [
    {
     "data": {
      "text/plain": [
       "matrix([[0.],\n",
       "        [0.],\n",
       "        [0.],\n",
       "        [0.],\n",
       "        [0.],\n",
       "        [0.],\n",
       "        [1.],\n",
       "        [1.],\n",
       "        [1.],\n",
       "        [1.],\n",
       "        [1.],\n",
       "        [1.],\n",
       "        [0.],\n",
       "        [0.],\n",
       "        [0.],\n",
       "        [0.],\n",
       "        [0.],\n",
       "        [0.],\n",
       "        [1.],\n",
       "        [1.],\n",
       "        [1.],\n",
       "        [0.],\n",
       "        [0.],\n",
       "        [0.],\n",
       "        [0.],\n",
       "        [0.],\n",
       "        [0.],\n",
       "        [0.],\n",
       "        [0.],\n",
       "        [0.],\n",
       "        [0.],\n",
       "        [0.],\n",
       "        [0.],\n",
       "        [0.],\n",
       "        [0.],\n",
       "        [0.],\n",
       "        [0.],\n",
       "        [0.],\n",
       "        [0.],\n",
       "        [0.],\n",
       "        [0.],\n",
       "        [0.],\n",
       "        [0.],\n",
       "        [0.],\n",
       "        [0.]])"
      ]
     },
     "execution_count": 85,
     "metadata": {},
     "output_type": "execute_result"
    }
   ],
   "source": [
    "MP.Basis[:,T_dofs[0]].sum(axis=1)"
   ]
  },
  {
   "cell_type": "code",
   "execution_count": 103,
   "id": "152a5912-dc82-49d1-b4bd-8e503a7b7f2a",
   "metadata": {},
   "outputs": [
    {
     "data": {
      "text/plain": [
       "array([ 8, 15, 29, 36], dtype=int32)"
      ]
     },
     "execution_count": 103,
     "metadata": {},
     "output_type": "execute_result"
    }
   ],
   "source": [
    "MP.Basis[:,18].tocsc().indices"
   ]
  },
  {
   "cell_type": "code",
   "execution_count": 79,
   "id": "51185796-efa5-4c1c-a870-aaf0172f44de",
   "metadata": {},
   "outputs": [
    {
     "data": {
      "text/plain": [
       "array([18, 18, 23, 23, 18, 35, 18, 23, 35, 22, 23, 22, 35, 35, 22, 22], dtype=int32)"
      ]
     },
     "execution_count": 79,
     "metadata": {},
     "output_type": "execute_result"
    }
   ],
   "source": [
    "B.indices"
   ]
  },
  {
   "cell_type": "code",
   "execution_count": 99,
   "id": "12e12419-d8dd-4485-aee5-c036bf282c0e",
   "metadata": {},
   "outputs": [
    {
     "data": {
      "image/png": "[encoded data removed]",
      "text/plain": [
       "<Figure size 640x480 with 1 Axes>"
      ]
     },
     "metadata": {},
     "output_type": "display_data"
    }
   ],
   "source": [
    "MP.mesh.draw(knots=1,nodes=1,patch_idx=1)\n",
    "axis('off');"
   ]
  },
  {
   "cell_type": "code",
   "execution_count": 116,
   "id": "4bef99cd-0997-4544-84f2-24f308376cf3",
   "metadata": {},
   "outputs": [
    {
     "name": "stderr",
     "output_type": "stream",
     "text": [
      "/home/wolfman/anaconda3/lib/python3.9/site-packages/numpy/lib/arraysetops.py:270: VisibleDeprecationWarning: Creating an ndarray from ragged nested sequences (which is a list-or-tuple of lists-or-tuples-or ndarrays with different lengths or shapes) is deprecated. If you meant to do this, you must specify 'dtype=object' when creating the ndarray.\n",
      "  ar = np.asanyarray(ar)\n"
     ]
    },
    {
     "ename": "ValueError",
     "evalue": "operands could not be broadcast together with shapes (10,) (6,) ",
     "output_type": "error",
     "traceback": [
      "\u001b[0;31m---------------------------------------------------------------------------\u001b[0m",
      "\u001b[0;31mValueError\u001b[0m                                Traceback (most recent call last)",
      "\u001b[0;32m/tmp/ipykernel_8813/1254429893.py\u001b[0m in \u001b[0;36m<module>\u001b[0;34m\u001b[0m\n\u001b[1;32m     10\u001b[0m         \u001b[0mvals\u001b[0m\u001b[0;34m.\u001b[0m\u001b[0mappend\u001b[0m\u001b[0;34m(\u001b[0m\u001b[0mvals_\u001b[0m\u001b[0;34m)\u001b[0m\u001b[0;34m\u001b[0m\u001b[0;34m\u001b[0m\u001b[0m\n\u001b[1;32m     11\u001b[0m \u001b[0;34m\u001b[0m\u001b[0m\n\u001b[0;32m---> 12\u001b[0;31m \u001b[0muidx\u001b[0m\u001b[0;34m,\u001b[0m \u001b[0mlookup\u001b[0m \u001b[0;34m=\u001b[0m \u001b[0mnp\u001b[0m\u001b[0;34m.\u001b[0m\u001b[0munique\u001b[0m\u001b[0;34m(\u001b[0m\u001b[0midx\u001b[0m\u001b[0;34m,\u001b[0m \u001b[0mreturn_index\u001b[0m\u001b[0;34m=\u001b[0m\u001b[0;32mTrue\u001b[0m\u001b[0;34m)\u001b[0m\u001b[0;34m\u001b[0m\u001b[0;34m\u001b[0m\u001b[0m\n\u001b[0m\u001b[1;32m     13\u001b[0m \u001b[0;31m#vals = np.concatenate(vals)\u001b[0m\u001b[0;34m\u001b[0m\u001b[0;34m\u001b[0m\u001b[0m\n\u001b[1;32m     14\u001b[0m \u001b[0mbcs\u001b[0m\u001b[0;34m=\u001b[0m\u001b[0mtuple\u001b[0m\u001b[0;34m(\u001b[0m\u001b[0;34m(\u001b[0m\u001b[0muidx\u001b[0m\u001b[0;34m,\u001b[0m\u001b[0mnp\u001b[0m\u001b[0;34m.\u001b[0m\u001b[0mconcatenate\u001b[0m\u001b[0;34m(\u001b[0m\u001b[0mvals\u001b[0m\u001b[0;34m)\u001b[0m\u001b[0;34m[\u001b[0m\u001b[0mlookup\u001b[0m\u001b[0;34m]\u001b[0m\u001b[0;34m)\u001b[0m\u001b[0;34m)\u001b[0m\u001b[0;34m\u001b[0m\u001b[0;34m\u001b[0m\u001b[0m\n",
      "\u001b[0;32m<__array_function__ internals>\u001b[0m in \u001b[0;36munique\u001b[0;34m(*args, **kwargs)\u001b[0m\n",
      "\u001b[0;32m~/anaconda3/lib/python3.9/site-packages/numpy/lib/arraysetops.py\u001b[0m in \u001b[0;36munique\u001b[0;34m(ar, return_index, return_inverse, return_counts, axis)\u001b[0m\n\u001b[1;32m    270\u001b[0m     \u001b[0mar\u001b[0m \u001b[0;34m=\u001b[0m \u001b[0mnp\u001b[0m\u001b[0;34m.\u001b[0m\u001b[0masanyarray\u001b[0m\u001b[0;34m(\u001b[0m\u001b[0mar\u001b[0m\u001b[0;34m)\u001b[0m\u001b[0;34m\u001b[0m\u001b[0;34m\u001b[0m\u001b[0m\n\u001b[1;32m    271\u001b[0m     \u001b[0;32mif\u001b[0m \u001b[0maxis\u001b[0m \u001b[0;32mis\u001b[0m \u001b[0;32mNone\u001b[0m\u001b[0;34m:\u001b[0m\u001b[0;34m\u001b[0m\u001b[0;34m\u001b[0m\u001b[0m\n\u001b[0;32m--> 272\u001b[0;31m         \u001b[0mret\u001b[0m \u001b[0;34m=\u001b[0m \u001b[0m_unique1d\u001b[0m\u001b[0;34m(\u001b[0m\u001b[0mar\u001b[0m\u001b[0;34m,\u001b[0m \u001b[0mreturn_index\u001b[0m\u001b[0;34m,\u001b[0m \u001b[0mreturn_inverse\u001b[0m\u001b[0;34m,\u001b[0m \u001b[0mreturn_counts\u001b[0m\u001b[0;34m)\u001b[0m\u001b[0;34m\u001b[0m\u001b[0;34m\u001b[0m\u001b[0m\n\u001b[0m\u001b[1;32m    273\u001b[0m         \u001b[0;32mreturn\u001b[0m \u001b[0m_unpack_tuple\u001b[0m\u001b[0;34m(\u001b[0m\u001b[0mret\u001b[0m\u001b[0;34m)\u001b[0m\u001b[0;34m\u001b[0m\u001b[0;34m\u001b[0m\u001b[0m\n\u001b[1;32m    274\u001b[0m \u001b[0;34m\u001b[0m\u001b[0m\n",
      "\u001b[0;32m~/anaconda3/lib/python3.9/site-packages/numpy/lib/arraysetops.py\u001b[0m in \u001b[0;36m_unique1d\u001b[0;34m(ar, return_index, return_inverse, return_counts)\u001b[0m\n\u001b[1;32m    328\u001b[0m \u001b[0;34m\u001b[0m\u001b[0m\n\u001b[1;32m    329\u001b[0m     \u001b[0;32mif\u001b[0m \u001b[0moptional_indices\u001b[0m\u001b[0;34m:\u001b[0m\u001b[0;34m\u001b[0m\u001b[0;34m\u001b[0m\u001b[0m\n\u001b[0;32m--> 330\u001b[0;31m         \u001b[0mperm\u001b[0m \u001b[0;34m=\u001b[0m \u001b[0mar\u001b[0m\u001b[0;34m.\u001b[0m\u001b[0margsort\u001b[0m\u001b[0;34m(\u001b[0m\u001b[0mkind\u001b[0m\u001b[0;34m=\u001b[0m\u001b[0;34m'mergesort'\u001b[0m \u001b[0;32mif\u001b[0m \u001b[0mreturn_index\u001b[0m \u001b[0;32melse\u001b[0m \u001b[0;34m'quicksort'\u001b[0m\u001b[0;34m)\u001b[0m\u001b[0;34m\u001b[0m\u001b[0;34m\u001b[0m\u001b[0m\n\u001b[0m\u001b[1;32m    331\u001b[0m         \u001b[0maux\u001b[0m \u001b[0;34m=\u001b[0m \u001b[0mar\u001b[0m\u001b[0;34m[\u001b[0m\u001b[0mperm\u001b[0m\u001b[0;34m]\u001b[0m\u001b[0;34m\u001b[0m\u001b[0;34m\u001b[0m\u001b[0m\n\u001b[1;32m    332\u001b[0m     \u001b[0;32melse\u001b[0m\u001b[0;34m:\u001b[0m\u001b[0;34m\u001b[0m\u001b[0;34m\u001b[0m\u001b[0m\n",
      "\u001b[0;31mValueError\u001b[0m: operands could not be broadcast together with shapes (10,) (6,) "
     ]
    }
   ],
   "source": [
    "#kvs_ = MP.mesh.kvs\n",
    "geos = MP.mesh.geos\n",
    "kvs = MP.mesh.kvs\n",
    "idx=[]\n",
    "vals=[]\n",
    "for key in MP.mesh.outer_boundaries:\n",
    "    for p,b in MP.mesh.outer_boundaries[key]:\n",
    "        idx_, vals_ = assemble.compute_dirichlet_bc(kvs[p],geos[p],[(b//2,b%2)],lambda x,y : 1.)\n",
    "        idx.append(idx_+MP.N_ofs[p])\n",
    "        vals.append(vals_)\n",
    "        \n",
    "uidx, lookup = np.unique(idx, return_index=True)\n",
    "#vals = np.concatenate(vals)\n",
    "bcs=tuple((uidx,np.concatenate(vals)[lookup]))\n",
    "\n",
    "cpp = MP.get_crosspoints()"
   ]
  },
  {
   "cell_type": "code",
   "execution_count": 10,
   "id": "026b5257-0aac-431a-be9f-41541e1c058f",
   "metadata": {},
   "outputs": [],
   "source": [
    "### Linear system assembly and restrictions\n",
    "\n",
    "# assemble the lhs of the linear system\n",
    "Ak = [assemble.assemble('inner(grad(u),grad(v)) * dx', kvs, bfuns=[('u',1), ('v',1)], geo=g) for kvs, g in zip(kvs,geos)]\n",
    "#Ak = [assemble.assemble('inner(grad(grad(u)), grad(grad(v))) * dx', kvs, bfuns=[('u',1), ('v',1)], geo=g) for g in geos]\n",
    "A = scipy.sparse.block_diag(Ak, format='csr')\n",
    "\n",
    "#print(\"Rank \", np.linalg.matrix_rank(A.A), \" vs. shape \", A.shape)\n",
    "\n",
    "\n",
    "# Assemble the rhs of the linear system \n",
    "rhs = [assemble.assemble('f * v * dx', kvs, params, bfuns=[('v',1)], geo=g, f=lambda x,y: 1.).ravel() for kvs, g in zip(kvs,geos)]\n",
    "# generate Neumann vector for global contribution to the right hand side, in this case it is a zero vector since g1 is zero\n",
    "N = MP.Basis@MP.assemble_surface('g1 * inner(grad(v),n) * ds', arity=1, g1=g, boundary_idx=0)\n",
    "rhs = np.hstack(rhs) + N\n",
    "\n",
    "# Eliminate Dirichlet dofs\n",
    "BCRestr = assemble.RestrictedLinearSystem(A, rhs, bcs)\n",
    "free_dofs = BCRestr.R_free\n",
    "\n",
    "# Eliminate the Dirichlet dofs from the interface dofs\n",
    "nnz_per_col = MP.Constr.getnnz(axis=0)\n",
    "intf_dofs = np.where(nnz_per_col > 0)[0]\n",
    "intfs = np.setdiff1d(intf_dofs, bcs[0])\n",
    "\n",
    "# Patchwise restrictions\n",
    "\"\"\"\n",
    "Akii = []\n",
    "Akbb = []\n",
    "Akbi = []\n",
    "bnd_dofs = np.concatenate([indices for indices in assemble.boundary_dofs(kvs)])\n",
    "for p in range(len(MP.mesh.patches)):\n",
    "    I = scipy.sparse.eye(Ak[p].shape[1], format='csr')\n",
    "    mask = np.zeros(Ak[p].shape[1], dtype=bool)\n",
    "\n",
    "    intindices = (intfs < MP.N_ofs[p+1]) & (intfs >= MP.N_ofs[p])\n",
    "    intindices = intfs[intindices]-MP.N_ofs[p]\n",
    "    \n",
    "    mask[intindices] = True\n",
    "    Rbb = I[mask]\n",
    "    Akbb.append(Rbb.dot(Ak[p]).dot(Rbb.T)) \n",
    "    \n",
    "    mask = np.ones(Ak[p].shape[1], dtype=bool)\n",
    "    mask[bnd_dofs] = False\n",
    "    Rii = I[mask]\n",
    "    Akii.append(Rii.dot(Ak[p]).dot(Rii.T)) \n",
    "    \n",
    "    Akbi.append(Rbb.dot(Ak[p]).dot(Rii.T))\n",
    "\"\"\" \n",
    "\n",
    "# Compute the partial matrices \n",
    "Id = scipy.sparse.eye(A.shape[1], format='csr')\n",
    "mask = np.zeros(A.shape[1], dtype=bool)\n",
    "mask[list(intfs)] = True\n",
    "Rbb = Id[mask]\n",
    "mask = np.ones(A.shape[1], dtype=bool)\n",
    "\n",
    "for p in range(len(patches)):\n",
    "    bnd_dofs = np.concatenate([indices for indices in assemble.boundary_dofs(kvs[p])])\n",
    "    mask[bnd_dofs+MP.N_ofs[p]] = False\n",
    "\n",
    "Rii = Id[mask]\n",
    "\n",
    "Abb = Rbb.dot(A).dot(Rbb.T)\n",
    "Aii = Rii.dot(A).dot(Rii.T)\n",
    "Abi = Rbb.dot(A).dot(Rii.T)\n",
    "Aib = Abi.T\n",
    "#print(Abi.shape)\n",
    "\n",
    "# The matrices and vectors without the Dirichlet dofs\n",
    "A = BCRestr.A\n",
    "rhs = BCRestr.b\n",
    "\n",
    "#print(\"Rank \", np.linalg.matrix_rank(A.A), \" vs. shape \", A.shape)\n",
    "\n",
    "assert A.shape[1] == rhs.shape[0], \"Size of rhs is different to size of the matrix\"\n",
    "\n",
    "# Other method for assembly\n",
    "#def bilinear():\n",
    "#    vf = vform.VForm(2)\n",
    "#   u, v = vf.basisfuns()\n",
    "#    vf.add(vform.tr(vform.hess(u)) * vform.tr(vform.hess(v)) * vform.dx)\n",
    "#    return vf\n",
    "\n",
    "#a = bilinear()"
   ]
  },
  {
   "cell_type": "code",
   "execution_count": 11,
   "id": "49078326-b556-4696-bd9b-2a0525622e3f",
   "metadata": {},
   "outputs": [],
   "source": [
    "### Construct the constraint matrix C that immediately eliminates the columns related to Dirichlet conditions\n",
    "def construct_constraint_matrices():\n",
    "    eliminate_constraints = np.array([], dtype=int)\n",
    "    Ck = []\n",
    "    loc_dirichlet = []\n",
    "    for p in range(len(MP.mesh.patches)):\n",
    "        bndindices = (bcs[0] < MP.N_ofs[p+1]) & (bcs[0] >= MP.N_ofs[p])\n",
    "        to_eliminate = bcs[0][bndindices]-MP.N_ofs[p]\n",
    "        \n",
    "        loc, _ = cpp[p][0]\n",
    "        \n",
    "        nnz_per_row = MP.Constr[:,loc+MP.N_ofs[p]].getnnz(axis=1)\n",
    "        result = np.where(nnz_per_row > 0)[0]\n",
    "        eliminate_constraints = np.union1d(eliminate_constraints, result)\n",
    "        \n",
    "        ck = MP.Constr[result,MP.N_ofs[p]:MP.N_ofs[p+1]]\n",
    "        ck = np.delete(ck.A, \n",
    "                       to_eliminate, \n",
    "                       axis=1)\n",
    "                \n",
    "        q,r = np.linalg.qr(ck.T)\n",
    "        ck = scipy.sparse.csr_matrix(ck[np.abs(np.diag(r))>=1e-10])\n",
    "        \n",
    "        #if p == 3:\n",
    "        #    print(\"Ck\", result)\n",
    "        \n",
    "        Ck.append(ck)\n",
    "        loc_dirichlet.append(to_eliminate)\n",
    "\n",
    "    return Ck, scipy.sparse.block_diag(Ck), eliminate_constraints, loc_dirichlet"
   ]
  },
  {
   "cell_type": "code",
   "execution_count": 12,
   "id": "8895cdff-9c30-4947-95ab-214e0e97d120",
   "metadata": {},
   "outputs": [],
   "source": [
    "### Construct the constraint matrix C that immediately eliminates the columns related to Dirichlet conditions\n",
    "def construct_constraint_matrices2():\n",
    "    eliminate_constraints = np.array([], dtype=int)\n",
    "    Ck = []\n",
    "    loc_dirichlet = []\n",
    "    for p in range(len(MP.mesh.patches)):\n",
    "        bndindices = (bcs[0] < MP.N_ofs[p+1]) & (bcs[0] >= MP.N_ofs[p])\n",
    "        to_eliminate = bcs[0][bndindices]-MP.N_ofs[p]\n",
    "        free = np.setdiff1d(np.arange(MP.N[p]),to_eliminate)\n",
    "        primal = assemble.boundary_dofs(kvs, m=0, ravel=1)\n",
    "        primal_free = np.setdiff1d(primal, to_eliminate)\n",
    "        \n",
    "        #loc, _ = cpp[p][0]\n",
    "        \n",
    "        data = np.ones(len(primal_free))\n",
    "        rows = np.arange(len(primal_free))\n",
    "        cols = primal_free\n",
    "        ck = coo_matrix((data, (rows, cols)),(len(primal_free),MP.N[p])).tocsc()\n",
    "        ck = ck[:,free]\n",
    "        Ck.append(ck)\n",
    "\n",
    "    return Ck, scipy.sparse.block_diag(Ck), eliminate_constraints, loc_dirichlet"
   ]
  },
  {
   "cell_type": "code",
   "execution_count": 13,
   "id": "c311d0bb-69f6-454d-b1f4-5e762d20f5ed",
   "metadata": {},
   "outputs": [],
   "source": [
    "Ck, C, eliminate_rows, loc_dirichlet = construct_constraint_matrices()"
   ]
  },
  {
   "cell_type": "code",
   "execution_count": 14,
   "id": "d80d288c-30b6-4547-8d9f-468cce2be076",
   "metadata": {},
   "outputs": [],
   "source": [
    "def construct_primal_basis(Ak, Ck):\n",
    "    Psi = []\n",
    "    for p in range(len(patches)):\n",
    "        a = Ak[p*Ck[p].shape[1]:(p+1)*Ck[p].shape[1], p*Ck[p].shape[1]:(p+1)*Ck[p].shape[1]]\n",
    "        c = Ck[p]\n",
    "        AC = scipy.sparse.bmat(\n",
    "        [[a, c.T],\n",
    "         [c,  None   ]], format='csr')\n",
    "        RHS = np.vstack([np.zeros((a.shape[0],c.shape[0])), np.identity(c.shape[0])])\n",
    "        psi = scipy.sparse.linalg.spsolve(AC, RHS)\n",
    "        psi, delta = psi[:a.shape[0],], psi[a.shape[0]:,]\n",
    "        if len(psi.shape)==1: psi=psi[None]\n",
    "        \n",
    "        Psi.append(psi)\n",
    "        \n",
    "    return Psi"
   ]
  },
  {
   "cell_type": "code",
   "execution_count": 15,
   "id": "c75a4223-f1c1-45ff-beb9-94021fa05679",
   "metadata": {},
   "outputs": [],
   "source": [
    "Psik=construct_primal_basis(A, Ck)\n",
    "\n",
    "PSI = scipy.sparse.bmat([[Psik[0], None,    None,    None   ],\n",
    "                         [None,    Psik[1], None,    None   ],\n",
    "                         [None,    None,    Psik[2], None   ],\n",
    "                         [None,    None,    None,    Psik[3]]], format='csr')"
   ]
  },
  {
   "cell_type": "code",
   "execution_count": 16,
   "id": "57955a30-80b2-4005-93e6-44fc840882e7",
   "metadata": {},
   "outputs": [],
   "source": [
    "# Prepare the jump matrix \n",
    "# I.e., eliminate the rows related to corner constraints\n",
    "B = MP.Constr\n",
    "B = scipy.sparse.csr_matrix(np.delete(B.A, eliminate_rows, axis=0))\n",
    "B = B@free_dofs.T"
   ]
  },
  {
   "cell_type": "code",
   "execution_count": 17,
   "id": "0262c060-6bf2-43fc-a869-9f3d9faf39e2",
   "metadata": {},
   "outputs": [],
   "source": [
    "# Get all the matrices\n",
    "PTAP = PSI@A@PSI.T\n",
    "PTBT = PSI@B.T\n",
    "BP   = B@PSI.T"
   ]
  },
  {
   "cell_type": "code",
   "execution_count": 18,
   "id": "d66e568e-7434-44db-b888-64ac6a4efa9e",
   "metadata": {},
   "outputs": [
    {
     "name": "stdout",
     "output_type": "stream",
     "text": [
      "Rank  4  vs. shape  (4, 4)\n"
     ]
    },
    {
     "data": {
      "text/plain": [
       "'\\nA0inv = scipy.sparse.linalg.spsolve(A0, BR.A)\\nF = BL@A0inv\\n\\nA0inv = scipy.sparse.linalg.spsolve(A0, TR)\\nb = BL@A0inv\\n'"
      ]
     },
     "execution_count": 18,
     "metadata": {},
     "output_type": "execute_result"
    }
   ],
   "source": [
    "### Set up the linear system\n",
    "#A_ieti = scipy.sparse.bmat(\n",
    "#    [[A,    C.T,  None, B.T  ],\n",
    "#     [C,    None, None, None ],\n",
    "#     [None, None, PTAP, PTBT ],\n",
    "#     [B,    None, BP,   None ]], format='csr')\n",
    "\n",
    "BL = scipy.sparse.bmat([[B,    np.zeros((B.shape[0],C.shape[0])), BP]], format='csr')\n",
    "BR = scipy.sparse.bmat([[B.T],    \n",
    "                        [np.zeros((C.shape[0],B.shape[0]))], \n",
    "                        [PTBT]], format='csr')\n",
    "A0 = scipy.sparse.bmat(\n",
    "    [[A,    C.T,  None],\n",
    "     [C,    None, None],\n",
    "     [None, None, PTAP]], format='csr')\n",
    "\n",
    "print(\"Rank \", np.linalg.matrix_rank(PTAP.A), \" vs. shape \", PTAP.shape)\n",
    "\n",
    "b = np.hstack((rhs, np.zeros(C.shape[0],), PSI.dot(rhs), np.zeros(B.shape[0],)))\n",
    "\n",
    "BR = scipy.sparse.linalg.aslinearoperator(BR)\n",
    "BL = scipy.sparse.linalg.aslinearoperator(BL)\n",
    "A0inv = solvers.make_solver(A0.A, spd=False)\n",
    "\n",
    "F = BL@A0inv.dot(BR)\n",
    "\n",
    "TR = np.hstack((rhs, np.zeros((C.shape[0],)), PSI.dot(rhs)))\n",
    "b = BL@(A0inv.dot(TR))\n",
    "\n",
    "\"\"\"\n",
    "A0inv = scipy.sparse.linalg.spsolve(A0, BR.A)\n",
    "F = BL@A0inv\n",
    "\n",
    "A0inv = scipy.sparse.linalg.spsolve(A0, TR)\n",
    "b = BL@A0inv\n",
    "\"\"\""
   ]
  },
  {
   "cell_type": "code",
   "execution_count": 19,
   "id": "649abcd6-6f78-42f3-b3b1-e00f0b99e5a6",
   "metadata": {},
   "outputs": [],
   "source": [
    "### Dirichlet preconditioner MsD\n",
    "B_gamma = MP.Constr\n",
    "B_gamma = scipy.sparse.csr_matrix(np.delete(B_gamma.A, eliminate_rows, axis=0))\n",
    "B_gamma = B_gamma@Rbb.T\n",
    "\n",
    "#print(np.linalg.matrix_rank(Rbb.A, 1e-8))\n",
    "#print(B_gamma.shape)\n",
    "\n",
    "#Aib = scipy.sparse.linalg.aslinearoperator(Aib)\n",
    "AiiinvB = scipy.sparse.linalg.spsolve(Aii, Aib.A)\n",
    "S = Abb - Abi@AiiinvB\n",
    "D = np.abs(B_gamma).sum(axis=0)\n",
    "D = [1/(1+D[0,v]) for v in range(D.shape[1])]\n",
    "D = scipy.sparse.diags(D, format='csr')\n",
    "\n",
    "BgD = B_gamma@D\n",
    "MsD = BgD@S@BgD.T    "
   ]
  },
  {
   "cell_type": "code",
   "execution_count": 76,
   "id": "5f9292a8-2f78-4036-afb0-c7bff4be537a",
   "metadata": {},
   "outputs": [
    {
     "data": {
      "text/plain": [
       "<8x36 sparse matrix of type '<class 'numpy.float64'>'\n",
       "\twith 16 stored elements in Compressed Sparse Row format>"
      ]
     },
     "execution_count": 76,
     "metadata": {},
     "output_type": "execute_result"
    }
   ],
   "source": [
    "scipy.sparse.csr_matrix(np.delete(MP.Constr.A, eliminate_rows, axis=0))"
   ]
  },
  {
   "cell_type": "code",
   "execution_count": 75,
   "id": "764d46e6-63ff-4f34-baa4-330d090f4020",
   "metadata": {},
   "outputs": [
    {
     "data": {
      "text/plain": [
       "<8x36 sparse matrix of type '<class 'numpy.float64'>'\n",
       "\twith 16 stored elements in Compressed Sparse Row format>"
      ]
     },
     "execution_count": 75,
     "metadata": {},
     "output_type": "execute_result"
    }
   ],
   "source": [
    "I.B"
   ]
  },
  {
   "cell_type": "code",
   "execution_count": 61,
   "id": "3dcf9819-2642-44aa-b99a-995a240f98ba",
   "metadata": {},
   "outputs": [
    {
     "data": {
      "text/plain": [
       "<8x12 sparse matrix of type '<class 'numpy.float64'>'\n",
       "\twith 8 stored elements in Compressed Sparse Row format>"
      ]
     },
     "execution_count": 61,
     "metadata": {},
     "output_type": "execute_result"
    }
   ],
   "source": [
    "B_gamma"
   ]
  },
  {
   "cell_type": "code",
   "execution_count": 52,
   "id": "acbf0aef-b39e-4295-87fe-53187798f7f8",
   "metadata": {},
   "outputs": [
    {
     "data": {
      "text/plain": [
       "array([[ 0.     ,  0.     ,  0.     ,  0.     ,  0.     ,  0.     ,  0.     ,  0.     ],\n",
       "       [ 0.     ,  0.64583,  0.     ,  0.     ,  0.09375,  0.     ,  0.     , -0.09375],\n",
       "       [ 0.     ,  0.     ,  0.64583,  0.     , -0.09375,  0.     ,  0.     ,  0.09375],\n",
       "       [ 0.     ,  0.     ,  0.     ,  0.     ,  0.     ,  0.     ,  0.     ,  0.     ],\n",
       "       [ 0.     ,  0.09375, -0.09375,  0.     ,  0.64583,  0.     ,  0.     ,  0.     ],\n",
       "       [ 0.     ,  0.     ,  0.     ,  0.     ,  0.     ,  0.     ,  0.     ,  0.     ],\n",
       "       [ 0.     ,  0.     ,  0.     ,  0.     ,  0.     ,  0.     ,  0.     ,  0.     ],\n",
       "       [ 0.     , -0.09375,  0.09375,  0.     ,  0.     ,  0.     ,  0.     ,  0.64583]])"
      ]
     },
     "execution_count": 52,
     "metadata": {},
     "output_type": "execute_result"
    }
   ],
   "source": [
    "MsD.A"
   ]
  },
  {
   "cell_type": "code",
   "execution_count": 30,
   "id": "693d9540-fcf8-45a7-8ce8-20fd3ce2888d",
   "metadata": {},
   "outputs": [
    {
     "data": {
      "text/plain": [
       "array([0, 2, 6, 8])"
      ]
     },
     "execution_count": 30,
     "metadata": {},
     "output_type": "execute_result"
    }
   ],
   "source": [
    "I.eliminate_constraints"
   ]
  },
  {
   "cell_type": "code",
   "execution_count": 26,
   "id": "5c294cfb-7ff2-47a7-ba2f-2e7240d13e93",
   "metadata": {},
   "outputs": [
    {
     "data": {
      "text/plain": [
       "matrix([[ 0.     ,  0.     ,  0.     ,  0.     ,  0.     ,  0.     ,  0.     ,  0.     ],\n",
       "        [ 0.     ,  0.64583,  0.     ,  0.     ,  0.09375,  0.     ,  0.     , -0.09375],\n",
       "        [ 0.     ,  0.     ,  0.64583,  0.     , -0.09375,  0.     ,  0.     ,  0.09375],\n",
       "        [ 0.     ,  0.     ,  0.     ,  0.     ,  0.     ,  0.     ,  0.     ,  0.     ],\n",
       "        [ 0.     ,  0.09375, -0.09375,  0.     ,  0.64583,  0.     ,  0.     ,  0.     ],\n",
       "        [ 0.     ,  0.     ,  0.     ,  0.     ,  0.     ,  0.     ,  0.     ,  0.     ],\n",
       "        [ 0.     ,  0.     ,  0.     ,  0.     ,  0.     ,  0.     ,  0.     ,  0.     ],\n",
       "        [ 0.     , -0.09375,  0.09375,  0.     ,  0.     ,  0.     ,  0.     ,  0.64583]])"
      ]
     },
     "execution_count": 26,
     "metadata": {},
     "output_type": "execute_result"
    }
   ],
   "source": [
    "MsD"
   ]
  },
  {
   "cell_type": "code",
   "execution_count": 28,
   "id": "19ff6cec-5969-4e7c-9405-d79bc2470c68",
   "metadata": {},
   "outputs": [
    {
     "data": {
      "text/plain": [
       "matrix([[ 0.64583,  0.     ,  0.     ,  0.     ,  0.09375,  0.     , -0.09375, -0.05208],\n",
       "        [ 0.     ,  0.22569, -0.08681,  0.     , -0.05208,  0.     ,  0.03472, -0.06944],\n",
       "        [ 0.     , -0.08681,  0.64583,  0.     , -0.09375,  0.     ,  0.09375,  0.03472],\n",
       "        [ 0.     ,  0.     ,  0.     ,  0.     ,  0.     ,  0.     ,  0.     ,  0.     ],\n",
       "        [ 0.09375, -0.05208, -0.09375,  0.     ,  0.64583,  0.     ,  0.     ,  0.     ],\n",
       "        [ 0.     ,  0.     ,  0.     ,  0.     ,  0.     ,  0.     ,  0.     ,  0.     ],\n",
       "        [-0.09375,  0.03472,  0.09375,  0.     ,  0.     ,  0.     ,  0.64583, -0.08681],\n",
       "        [-0.05208, -0.06944,  0.03472,  0.     ,  0.     ,  0.     , -0.08681,  0.22569]])"
      ]
     },
     "execution_count": 28,
     "metadata": {},
     "output_type": "execute_result"
    }
   ],
   "source": [
    "I.MsD()"
   ]
  },
  {
   "cell_type": "code",
   "execution_count": 44,
   "id": "8621a96e-ca1c-4af5-a3ee-802367238517",
   "metadata": {},
   "outputs": [],
   "source": [
    "B=MP.Constr"
   ]
  },
  {
   "cell_type": "code",
   "execution_count": 48,
   "id": "d0d01691-6616-48ad-803e-4077b859577e",
   "metadata": {},
   "outputs": [
    {
     "data": {
      "text/plain": [
       "<8x36 sparse matrix of type '<class 'numpy.float64'>'\n",
       "\twith 16 stored elements in Compressed Sparse Row format>"
      ]
     },
     "execution_count": 48,
     "metadata": {},
     "output_type": "execute_result"
    }
   ],
   "source": [
    "scipy.sparse.csr_matrix(np.delete(B.A, eliminate_rows, axis=0))"
   ]
  },
  {
   "cell_type": "code",
   "execution_count": 49,
   "id": "a29abe6e-08a1-4e56-90af-e01ab563ce8c",
   "metadata": {},
   "outputs": [],
   "source": [
    "B_gamma=B[np.setdiff1d(np.arange(B.shape[0]),eliminate_rows),:]"
   ]
  },
  {
   "cell_type": "code",
   "execution_count": 42,
   "id": "0cdfb090-ebd7-4dea-a22d-d9f3a4e5077b",
   "metadata": {},
   "outputs": [
    {
     "data": {
      "text/plain": [
       "<8x12 sparse matrix of type '<class 'numpy.float64'>'\n",
       "\twith 8 stored elements in Compressed Sparse Row format>"
      ]
     },
     "execution_count": 42,
     "metadata": {},
     "output_type": "execute_result"
    }
   ],
   "source": [
    "B_gamma@Rbb.T"
   ]
  },
  {
   "cell_type": "code",
   "execution_count": 43,
   "id": "9ec5a399-40d6-4bbd-b913-488e226a14b2",
   "metadata": {},
   "outputs": [
    {
     "data": {
      "text/plain": [
       "<5x12 sparse matrix of type '<class 'numpy.float64'>'\n",
       "\twith 6 stored elements in Compressed Sparse Row format>"
      ]
     },
     "execution_count": 43,
     "metadata": {},
     "output_type": "execute_result"
    }
   ],
   "source": [
    "I.B_gamma"
   ]
  },
  {
   "cell_type": "code",
   "execution_count": 32,
   "id": "6e04dfa7-c268-40ed-9497-047fa2a961bc",
   "metadata": {},
   "outputs": [
    {
     "data": {
      "text/plain": [
       "array([ 2,  3,  6, 11])"
      ]
     },
     "execution_count": 32,
     "metadata": {},
     "output_type": "execute_result"
    }
   ],
   "source": [
    "eliminate_rows"
   ]
  },
  {
   "cell_type": "code",
   "execution_count": 83,
   "id": "ddc6e47a-d30a-4ad5-bc0f-f6668c452735",
   "metadata": {},
   "outputs": [
    {
     "name": "stdout",
     "output_type": "stream",
     "text": [
      "pcg stopped after 4 iterations with relres 8.5775770503511e-11\n"
     ]
    }
   ],
   "source": [
    "### Solve the system with PCG\n",
    "u, it, r = solvers.pcg(F, b, x0=None, maxiter=200, P=MsD.A, output=1, tol=1e-10)"
   ]
  },
  {
   "cell_type": "code",
   "execution_count": 21,
   "id": "c95e8b91-d94c-465f-b7aa-6fe103b084f4",
   "metadata": {},
   "outputs": [
    {
     "data": {
      "text/plain": [
       "<8x8 _ProductLinearOperator with dtype=float64>"
      ]
     },
     "execution_count": 21,
     "metadata": {},
     "output_type": "execute_result"
    }
   ],
   "source": [
    "F"
   ]
  },
  {
   "cell_type": "code",
   "execution_count": 66,
   "id": "d28da8cb-e5bf-4938-a77d-8e88084db5bd",
   "metadata": {},
   "outputs": [
    {
     "data": {
      "text/plain": [
       "3"
      ]
     },
     "execution_count": 66,
     "metadata": {},
     "output_type": "execute_result"
    }
   ],
   "source": [
    "it"
   ]
  },
  {
   "cell_type": "code",
   "execution_count": 22,
   "id": "98b6584d-837a-4f38-a163-1ce1863f1308",
   "metadata": {},
   "outputs": [
    {
     "data": {
      "text/plain": [
       "matrix([[ 0.     ,  0.     ,  0.     ,  0.     ,  0.     ,  0.     ,  0.     ,  0.     ],\n",
       "        [ 0.     ,  0.64583,  0.     ,  0.     ,  0.09375,  0.     ,  0.     , -0.09375],\n",
       "        [ 0.     ,  0.     ,  0.64583,  0.     , -0.09375,  0.     ,  0.     ,  0.09375],\n",
       "        [ 0.     ,  0.     ,  0.     ,  0.     ,  0.     ,  0.     ,  0.     ,  0.     ],\n",
       "        [ 0.     ,  0.09375, -0.09375,  0.     ,  0.64583,  0.     ,  0.     ,  0.     ],\n",
       "        [ 0.     ,  0.     ,  0.     ,  0.     ,  0.     ,  0.     ,  0.     ,  0.     ],\n",
       "        [ 0.     ,  0.     ,  0.     ,  0.     ,  0.     ,  0.     ,  0.     ,  0.     ],\n",
       "        [ 0.     , -0.09375,  0.09375,  0.     ,  0.     ,  0.     ,  0.     ,  0.64583]])"
      ]
     },
     "execution_count": 22,
     "metadata": {},
     "output_type": "execute_result"
    }
   ],
   "source": [
    "MsD"
   ]
  },
  {
   "cell_type": "code",
   "execution_count": 26,
   "id": "c749007d-4ee0-4462-b72a-fa24bc775ba3",
   "metadata": {},
   "outputs": [
    {
     "data": {
      "text/plain": [
       "matrix([[ 0.     ,  0.     ,  0.     ,  0.     ,  0.     ],\n",
       "        [ 0.     ,  0.64583,  0.     ,  0.     ,  0.09375],\n",
       "        [ 0.     ,  0.     ,  0.64583,  0.     , -0.09375],\n",
       "        [ 0.     ,  0.     ,  0.     ,  0.     ,  0.     ],\n",
       "        [ 0.     ,  0.09375, -0.09375,  0.     ,  0.64583]])"
      ]
     },
     "execution_count": 26,
     "metadata": {},
     "output_type": "execute_result"
    }
   ],
   "source": [
    "MsD_"
   ]
  },
  {
   "cell_type": "code",
   "execution_count": null,
   "id": "6edf1592-b092-47c2-a1de-cfb516ffad6d",
   "metadata": {},
   "outputs": [],
   "source": []
  }
 ],
 "metadata": {
  "kernelspec": {
   "display_name": "Python 3 (ipykernel)",
   "language": "python",
   "name": "python3"
  },
  "language_info": {
   "codemirror_mode": {
    "name": "ipython",
    "version": 3
   },
   "file_extension": ".py",
   "mimetype": "text/x-python",
   "name": "python",
   "nbconvert_exporter": "python",
   "pygments_lexer": "ipython3",
   "version": "3.9.13"
  }
 },
 "nbformat": 4,
 "nbformat_minor": 5
}
