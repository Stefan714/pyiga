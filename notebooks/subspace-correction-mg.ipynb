{
 "cells": [
  {
   "cell_type": "markdown",
   "metadata": {
    "deletable": true,
    "editable": true
   },
   "source": [
    "# Robust multigrid for IGA based on subspace correction\n",
    "\n",
    "\n",
    "This notebook implements some basic 1D, 2D and 3D examples which demonstrate the\n",
    "robust multigrid method for Isogeometric Analysis described in the paper\n",
    "\n",
    "[C. Hofreither and S. Takacs. Robust Multigrid for Isogeometric Analysis Based on Stable Splittings of Spline Spaces.](http://dx.doi.org/10.1137/16m1085425)\n",
    "\n",
    "Only the two-grid method on the reference domain is implemented.\n",
    "It uses the function `twogrid`, a generic two-grid method, as well\n",
    "as the abstract `SubspaceOperator`, which is used as a\n",
    "subspace correction smoother as described in the paper.\n",
    "\n",
    "A crucial component of the method is the computation of a basis for the\n",
    "space $\\widetilde S$ of splines with vanishing odd derivatives at the\n",
    "boundary (denoted by $S_0$ in the paper). This is done using the\n",
    "function `Stilde_basis` from `pyiga.stilde`.\n",
    "\n",
    "There are also some simple tests for the Dirichlet BC case. The method\n",
    "we use here is not the one described in the paper which involves\n",
    "adaptation of the space $S_0$, but a simple algebraic approach based\n",
    "on truncating the subspace prolongation matrix: the first and last row,\n",
    "corresponding to the Dirichlet dofs, are simply dropped. While we don't\n",
    "currently have a proof for this approach, it seems to work very well in\n",
    "practice and is easy to implement.\n",
    "\n",
    "This notebook depends on the [`pyiga` toolbox](https://github.com/c-f-h/pyiga)."
   ]
  },
  {
   "cell_type": "code",
   "execution_count": 1,
   "metadata": {
    "collapsed": false,
    "deletable": true,
    "editable": true,
    "jupyter": {
     "outputs_hidden": false
    }
   },
   "outputs": [],
   "source": [
    "import numpy as np\n",
    "import scipy.sparse\n",
    "from scipy.sparse import kron as spkron\n",
    "\n",
    "from pyiga import bspline, assemble\n",
    "from pyiga.operators import KroneckerOperator, make_solver, SubspaceOperator\n",
    "from pyiga.solvers import *\n",
    "from pyiga.stilde import Stilde_basis"
   ]
  },
  {
   "cell_type": "code",
   "execution_count": 2,
   "metadata": {
    "collapsed": false,
    "deletable": true,
    "editable": true,
    "jupyter": {
     "outputs_hidden": false
    }
   },
   "outputs": [],
   "source": [
    "%matplotlib inline\n",
    "import matplotlib.pyplot as plt\n",
    "plt.style.use('bmh')"
   ]
  },
  {
   "cell_type": "code",
   "execution_count": 11,
   "metadata": {
    "deletable": true,
    "editable": true,
    "tags": []
   },
   "outputs": [],
   "source": [
    "def random_rhs(A):\n",
    "    return A.dot(np.random.rand(A.shape[1]))"
   ]
  },
  {
   "cell_type": "markdown",
   "metadata": {
    "deletable": true,
    "editable": true
   },
   "source": [
    "# 1D Multigrid"
   ]
  },
  {
   "cell_type": "code",
   "execution_count": 12,
   "metadata": {
    "collapsed": false,
    "deletable": true,
    "editable": true,
    "jupyter": {
     "outputs_hidden": false
    }
   },
   "outputs": [
    {
     "name": "stdout",
     "output_type": "stream",
     "text": [
      "Coarse dofs: 107\n",
      "Fine dofs: 207\n"
     ]
    }
   ],
   "source": [
    "p = 7\n",
    "nspans_c = 100\n",
    "\n",
    "kv_c = bspline.make_knots(p, 0.0, 1.0, nspans_c)\n",
    "kv = kv_c.h_refine()\n",
    "h = 1.0 / kv.numspans\n",
    "\n",
    "M = assemble.mass(kv)\n",
    "K = assemble.stiffness(kv)\n",
    "A = 1.0*M + K\n",
    "\n",
    "P = bspline.prolongation(kv_c, kv)\n",
    "\n",
    "print('Coarse dofs: %d\\nFine dofs: %d' % (P.shape[1], A.shape[0]))"
   ]
  },
  {
   "cell_type": "code",
   "execution_count": 13,
   "metadata": {
    "collapsed": false,
    "deletable": true,
    "editable": true,
    "jupyter": {
     "outputs_hidden": false
    }
   },
   "outputs": [],
   "source": [
    "# construct prolongator for S-tilde and its orthogonal complement\n",
    "(P_tilde, P_compl) = Stilde_basis(kv)\n",
    "\n",
    "# basis for M-orthogonal complement of S-tilde\n",
    "P_tilde_orth = np.linalg.solve(M.toarray(), P_compl)  # M^-1 * P_compl\n",
    "\n",
    "A_tilde_orth = P_tilde_orth.T.dot(A.toarray()).dot(P_tilde_orth)\n",
    "\n",
    "M_tilde = P_tilde.T.dot(M.toarray()).dot(P_tilde)"
   ]
  },
  {
   "cell_type": "code",
   "execution_count": 14,
   "metadata": {
    "collapsed": false,
    "deletable": true,
    "editable": true,
    "jupyter": {
     "outputs_hidden": false
    }
   },
   "outputs": [
    {
     "name": "stdout",
     "output_type": "stream",
     "text": [
      "7 iterations\n"
     ]
    }
   ],
   "source": [
    "sigma = h**-2 / 0.09\n",
    "\n",
    "smoother1 = OperatorSmoother(SubspaceOperator(\n",
    "    [P_tilde,                             P_tilde_orth],\n",
    "    [make_solver((1 + sigma) * M_tilde),  make_solver(A_tilde_orth)]\n",
    "))\n",
    "smoother2 = GaussSeidelSmoother()\n",
    "smoother3 = SequentialSmoother((smoother1, smoother2))\n",
    "\n",
    "twogrid(A, random_rhs(A), P, smoother3);"
   ]
  },
  {
   "cell_type": "code",
   "execution_count": 15,
   "metadata": {
    "collapsed": false,
    "deletable": true,
    "editable": true,
    "jupyter": {
     "outputs_hidden": false
    }
   },
   "outputs": [
    {
     "name": "stdout",
     "output_type": "stream",
     "text": [
      "32 iterations\n"
     ]
    }
   ],
   "source": [
    "# Dirichlet test\n",
    "sigma = h**-2 / 0.09\n",
    "\n",
    "K_dir = K[1:-1,1:-1]\n",
    "smoother = OperatorSmoother(SubspaceOperator(\n",
    "    [P_tilde[1:-1],                       P_tilde_orth[1:-1]],\n",
    "    [make_solver((1 + sigma) * M_tilde),  make_solver(A_tilde_orth)]\n",
    "))\n",
    "twogrid(K_dir, random_rhs(K_dir), P[1:-1], smoother);"
   ]
  },
  {
   "cell_type": "code",
   "execution_count": 21,
   "metadata": {},
   "outputs": [
    {
     "data": {
      "text/plain": [
       "<function inv at 0x7faa48348fb0>"
      ]
     },
     "execution_count": 21,
     "metadata": {},
     "output_type": "execute_result"
    }
   ],
   "source": [
    "np.linalg.inv"
   ]
  },
  {
   "cell_type": "code",
   "execution_count": 22,
   "metadata": {
    "collapsed": false,
    "deletable": true,
    "editable": true,
    "jupyter": {
     "outputs_hidden": false
    }
   },
   "outputs": [],
   "source": [
    "Linv = P_tilde_orth .dot (np.linalg.inv(A_tilde_orth)) .dot (P_tilde_orth.T) + \\\n",
    "       P_tilde .dot(np.linalg.inv((1 + sigma) * M_tilde)) .dot (P_tilde.T)"
   ]
  },
  {
   "cell_type": "code",
   "execution_count": 26,
   "metadata": {
    "collapsed": false,
    "deletable": true,
    "editable": true,
    "jupyter": {
     "outputs_hidden": false
    }
   },
   "outputs": [
    {
     "data": {
      "image/png": "[encoded data removed]",
      "text/plain": [
       "<Figure size 640x480 with 1 Axes>"
      ]
     },
     "metadata": {},
     "output_type": "display_data"
    }
   ],
   "source": [
    "plt.semilogy(scipy.linalg.eigh(A.toarray(), np.linalg.inv(Linv), eigvals_only=True), 'o-');"
   ]
  },
  {
   "cell_type": "code",
   "execution_count": 30,
   "metadata": {
    "collapsed": false,
    "deletable": true,
    "editable": true,
    "jupyter": {
     "outputs_hidden": false
    }
   },
   "outputs": [
    {
     "data": {
      "image/png": "[encoded data removed]",
      "text/plain": [
       "<Figure size 640x480 with 1 Axes>"
      ]
     },
     "metadata": {},
     "output_type": "display_data"
    }
   ],
   "source": [
    "plt.plot(scipy.linalg.eigh(A.toarray()[1:-1,1:-1], np.linalg.inv(Linv[1:-1,1:-1]), eigvals_only=True), 'o-');"
   ]
  },
  {
   "cell_type": "markdown",
   "metadata": {
    "deletable": true,
    "editable": true
   },
   "source": [
    "# 2D Multigrid"
   ]
  },
  {
   "cell_type": "code",
   "execution_count": 31,
   "metadata": {
    "collapsed": false,
    "deletable": true,
    "editable": true,
    "jupyter": {
     "outputs_hidden": false
    }
   },
   "outputs": [
    {
     "name": "stdout",
     "output_type": "stream",
     "text": [
      "Coarse dofs: 841\n",
      "Fine dofs: 2916\n"
     ]
    }
   ],
   "source": [
    "p = 4\n",
    "nspans_c = 25\n",
    "\n",
    "kv_c = bspline.make_knots(p, 0.0, 1.0, nspans_c)\n",
    "kv = kv_c.h_refine()\n",
    "h = 1.0 / kv.numspans\n",
    "\n",
    "M = assemble.mass(kv)\n",
    "K = assemble.stiffness(kv)\n",
    "\n",
    "M2 = spkron(M, M).tocsr()\n",
    "K2 = spkron(K, M) + spkron(M, K)\n",
    "\n",
    "A2 = 1.0*M2 + K2\n",
    "\n",
    "P = bspline.prolongation(kv_c, kv)\n",
    "P2 = spkron(P, P)\n",
    "\n",
    "print('Coarse dofs: %d\\nFine dofs: %d' % (P2.shape[1], A2.shape[0]))"
   ]
  },
  {
   "cell_type": "code",
   "execution_count": 35,
   "metadata": {
    "collapsed": false,
    "deletable": true,
    "editable": true,
    "jupyter": {
     "outputs_hidden": false
    }
   },
   "outputs": [
    {
     "name": "stdout",
     "output_type": "stream",
     "text": [
      "9 iterations\n"
     ]
    }
   ],
   "source": [
    "# construct prolongator for S-tilde and its orthogonal complement\n",
    "(P_tilde, P_compl) = Stilde_basis(kv)\n",
    "\n",
    "# basis for 2D S-tilde\n",
    "P2_tilde = spkron(P_tilde, P_tilde).tocsr()\n",
    "\n",
    "M2_tilde = (P2_tilde.T).dot(M2).dot(P2_tilde)\n",
    "\n",
    "# compute basis for M-orthogonal complement of S-tilde\n",
    "P_tilde_orth = np.linalg.solve(M.toarray(), P_compl)  # M^-1 * P_compl\n",
    "\n",
    "subsp = (\n",
    "    P2_tilde,\n",
    "    np.kron(P_tilde, P_tilde_orth),\n",
    "    np.kron(P_tilde_orth, P_tilde),\n",
    "    np.kron(P_tilde_orth, P_tilde_orth)\n",
    ")\n",
    "\n",
    "sigma = 1 / 0.16 * h**-2\n",
    "\n",
    "B = ((1 + sigma) * M + K).toarray()\n",
    "B_tilde_orth = P_tilde_orth.T.dot(B).dot(P_tilde_orth)\n",
    "M_sm_tilde = P_tilde.T.dot(M.toarray()).dot(P_tilde)\n",
    "\n",
    "B_subsp = [\n",
    "    (1 + 2*sigma) * M2_tilde,\n",
    "    spkron(M_sm_tilde, B_tilde_orth),\n",
    "    spkron(B_tilde_orth, M_sm_tilde),\n",
    "    subsp[3].T.dot(A2.toarray()).dot(subsp[3])\n",
    "]\n",
    "\n",
    "Binv_subsp = [make_solver(B) for B in B_subsp]\n",
    "\n",
    "smoother1 = OperatorSmoother(SubspaceOperator(subsp, Binv_subsp))\n",
    "smoother2 = GaussSeidelSmoother()\n",
    "smoother3 = SequentialSmoother((smoother1, smoother2))\n",
    "\n",
    "twogrid(A2, random_rhs(A2), P2, smoother3);"
   ]
  },
  {
   "cell_type": "code",
   "execution_count": 36,
   "metadata": {
    "collapsed": false,
    "deletable": true,
    "editable": true,
    "jupyter": {
     "outputs_hidden": false
    }
   },
   "outputs": [
    {
     "name": "stdout",
     "output_type": "stream",
     "text": [
      "34 iterations\n"
     ]
    }
   ],
   "source": [
    "# Dirichlet test\n",
    "\n",
    "# modify subspace prolongators to omit Dirichlet dofs\n",
    "subsp = (\n",
    "    spkron(P_tilde[1:-1], P_tilde[1:-1]).tocsr(),\n",
    "    np.kron(P_tilde[1:-1], P_tilde_orth[1:-1]),\n",
    "    np.kron(P_tilde_orth[1:-1], P_tilde[1:-1]),\n",
    "    np.kron(P_tilde_orth[1:-1], P_tilde_orth[1:-1])\n",
    ")\n",
    "\n",
    "# keep smoothers the same as before\n",
    "\n",
    "# compute Dirichlet stiffness matrix\n",
    "M2_D = spkron(M[1:-1,1:-1], M[1:-1,1:-1]).tocsr()\n",
    "K2_D = spkron(K[1:-1,1:-1], M[1:-1,1:-1]) + spkron(M[1:-1,1:-1], K[1:-1,1:-1])\n",
    "A2_D = K2_D #+ M2_D\n",
    "\n",
    "smoother = OperatorSmoother(SubspaceOperator(subsp, Binv_subsp))\n",
    "twogrid(A2_D, random_rhs(A2_D), spkron(P[1:-1], P[1:-1]), smoother);"
   ]
  },
  {
   "cell_type": "markdown",
   "metadata": {
    "deletable": true,
    "editable": true
   },
   "source": [
    "# 3D Multigrid"
   ]
  },
  {
   "cell_type": "code",
   "execution_count": 37,
   "metadata": {
    "deletable": true,
    "editable": true,
    "tags": []
   },
   "outputs": [],
   "source": [
    "def spkron3(A, B, C):\n",
    "    return spkron(spkron(A, B, format='csr'), C, format='csr')"
   ]
  },
  {
   "cell_type": "code",
   "execution_count": 38,
   "metadata": {
    "collapsed": false,
    "deletable": true,
    "editable": true,
    "jupyter": {
     "outputs_hidden": false
    }
   },
   "outputs": [
    {
     "name": "stdout",
     "output_type": "stream",
     "text": [
      "Coarse dofs: 3375\n",
      "Fine dofs: 15625\n"
     ]
    }
   ],
   "source": [
    "p = 5\n",
    "nspans_c = 10\n",
    "\n",
    "kv_c = bspline.make_knots(p, 0.0, 1.0, nspans_c)\n",
    "kv = kv_c.h_refine()\n",
    "h = 1.0 / kv.numspans\n",
    "\n",
    "M = assemble.mass(kv)\n",
    "K = assemble.stiffness(kv)\n",
    "\n",
    "M3 = spkron3(M, M, M)\n",
    "K3 = spkron3(K, M, M) + spkron3(M, K, M) + spkron3(M, M, K)\n",
    "\n",
    "A3 = 1.0*M3 + K3\n",
    "\n",
    "P = bspline.prolongation(kv_c, kv)\n",
    "P3 = spkron3(P, P, P)\n",
    "\n",
    "print('Coarse dofs: %d\\nFine dofs: %d' % (P3.shape[1], A3.shape[0]))"
   ]
  },
  {
   "cell_type": "code",
   "execution_count": 40,
   "metadata": {
    "collapsed": false,
    "deletable": true,
    "editable": true,
    "jupyter": {
     "outputs_hidden": false
    }
   },
   "outputs": [],
   "source": [
    "# construct prolongator for S-tilde and its orthogonal complement\n",
    "(P_tilde, P_compl) = Stilde_basis(kv)\n",
    "\n",
    "# compute basis for M-orthogonal complement of S-tilde\n",
    "P_tilde_orth = np.linalg.solve(M.toarray(), P_compl)  # M^-1 * P_compl"
   ]
  },
  {
   "cell_type": "code",
   "execution_count": 45,
   "metadata": {
    "collapsed": false,
    "deletable": true,
    "editable": true,
    "jupyter": {
     "outputs_hidden": false
    }
   },
   "outputs": [],
   "source": [
    "sigma = 1 / 0.19 * h**-2\n",
    "\n",
    "# 1D smoother components\n",
    "B = ((1 + 2*sigma) * M + K).toarray()\n",
    "B_tilde_orth = P_tilde_orth.T.dot(B).dot(P_tilde_orth)\n",
    "M_tilde = scipy.sparse.csr_matrix(P_tilde.T.dot(M.toarray()).dot(P_tilde))\n",
    "\n",
    "subsp, Binv_subsp = 2**3 * [None], 2**3 * [None]\n",
    "\n",
    "for i in range(2**3):\n",
    "    bits = [bool(i & (1<<k)) for k in range(3)]\n",
    "    num_compl = sum(bits)  # number of components which are the orthogonal complement\n",
    "\n",
    "    prolongators = [P_tilde_orth if bits[j] else P_tilde for j in range(3)]\n",
    "    P_i = subsp[i] = spkron3(*prolongators)\n",
    "\n",
    "    if num_compl == 0:\n",
    "        # inner part (S-tilde): use mass smoother\n",
    "        M_tilde_inv = make_solver(M_tilde, symmetric=True)  # 1D solver for M-tilde\n",
    "        Binv_subsp[i] = 1/(1 + 3*sigma) * KroneckerOperator(*(3*[M_tilde_inv]))\n",
    "    elif num_compl == 1:\n",
    "        # faces: use Kronecker product smoother\n",
    "        smoothers = [B_tilde_orth if bits[j] else M_tilde for j in range(3)]\n",
    "        Binv_subsp[i] = KroneckerOperator(*[make_solver(X, symmetric=True) for X in smoothers])\n",
    "    else:\n",
    "        # edges and corners (small): use direct solver\n",
    "        fullness = P_i.nnz / np.prod(P_i.shape)\n",
    "        if fullness > 0.4:\n",
    "            P_i = P_i.toarray()  # use dense matrix\n",
    "            B = P_i.T.dot(A3.dot(P_i))\n",
    "        else:\n",
    "            B = (P_i.T.dot(A3.dot(P_i))).toarray()\n",
    "        Binv_subsp[i] = make_solver(B, symmetric=True)\n",
    "\n",
    "smoother1 = OperatorSmoother(SubspaceOperator(subsp, Binv_subsp))\n",
    "smoother2 = GaussSeidelSmoother()\n",
    "smoother3 = SequentialSmoother((smoother1, smoother2))"
   ]
  },
  {
   "cell_type": "code",
   "execution_count": 46,
   "metadata": {
    "collapsed": false,
    "deletable": true,
    "editable": true,
    "jupyter": {
     "outputs_hidden": false
    }
   },
   "outputs": [
    {
     "name": "stdout",
     "output_type": "stream",
     "text": [
      "33 iterations\n"
     ]
    }
   ],
   "source": [
    "twogrid(A3, random_rhs(A3), P3, smoother1);"
   ]
  },
  {
   "cell_type": "code",
   "execution_count": 22,
   "metadata": {
    "collapsed": false,
    "deletable": true,
    "editable": true,
    "jupyter": {
     "outputs_hidden": false
    }
   },
   "outputs": [
    {
     "name": "stdout",
     "output_type": "stream",
     "text": [
      "29 iterations\n"
     ]
    }
   ],
   "source": [
    "# Dirichlet test\n",
    "\n",
    "# compute new subspace prolongators which omit Dirichlet dofs\n",
    "for i in range(2**3):\n",
    "    bits = [bool(i & (1<<k)) for k in range(3)]\n",
    "    prolongators = [P_tilde_orth[1:-1] if bits[j] else P_tilde[1:-1] for j in range(3)]\n",
    "    subsp[i] = spkron3(*prolongators)\n",
    "\n",
    "P3_D = spkron3(P[1:-1], P[1:-1], P[1:-1])\n",
    "\n",
    "M_D = M[1:-1, 1:-1]\n",
    "K_D = K[1:-1, 1:-1]\n",
    "\n",
    "K3_D = spkron3(K_D, M_D, M_D) + spkron3(M_D, K_D, M_D) + spkron3(M_D, M_D, K_D)\n",
    "\n",
    "smoother = OperatorSmoother(SubspaceOperator(subsp, Binv_subsp))\n",
    "twogrid(K3_D, random_rhs(K3_D), P3_D, smoother);"
   ]
  }
 ],
 "metadata": {
  "kernelspec": {
   "display_name": "Python 3 (ipykernel)",
   "language": "python",
   "name": "python3"
  },
  "language_info": {
   "codemirror_mode": {
    "name": "ipython",
    "version": 3
   },
   "file_extension": ".py",
   "mimetype": "text/x-python",
   "name": "python",
   "nbconvert_exporter": "python",
   "pygments_lexer": "ipython3",
   "version": "3.12.10"
  }
 },
 "nbformat": 4,
 "nbformat_minor": 4
}
