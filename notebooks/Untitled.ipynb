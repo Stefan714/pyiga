{
 "cells": [
  {
   "cell_type": "code",
   "execution_count": 1,
   "id": "e5c22690-1da7-4fb8-ada4-ea7b2ebb4847",
   "metadata": {},
   "outputs": [],
   "source": [
    "import scipy\n",
    "import numpy as np\n",
    "import matplotlib.pyplot as plt\n",
    "\n",
    "from scipy.sparse import csc_matrix, csr_matrix, coo_matrix\n",
    "from scipy.sparse.linalg import aslinearoperator\n",
    "\n",
    "np.set_printoptions(linewidth=100000)\n",
    "np.set_printoptions(precision=5)\n",
    "\n",
    "from pyiga import bspline, assemble, vform, geometry, vis, solvers, topology, bspline_cy\n"
   ]
  },
  {
   "cell_type": "code",
   "execution_count": 2,
   "id": "f7e258fa-27a4-4616-9221-f1428b5029c6",
   "metadata": {},
   "outputs": [],
   "source": [
    "kv = bspline_cy.KnotVector(2, np.array([0.0,0.0,0.0,0.25,0.5,0.75,1.0,1.0,1.0], dtype=np.float64))"
   ]
  },
  {
   "cell_type": "code",
   "execution_count": 3,
   "id": "b501f42c-aa46-41d0-ac01-4d0d74c3305c",
   "metadata": {},
   "outputs": [
    {
     "name": "stdout",
     "output_type": "stream",
     "text": [
      "Knot vector (degree 2): [0.000, 0.000, 0.000, 0.250, 0.500, 0.750, 1.000, 1.000, 1.000]\n"
     ]
    }
   ],
   "source": [
    "print(kv)"
   ]
  },
  {
   "cell_type": "code",
   "execution_count": 4,
   "id": "9768c126-d704-4947-bff8-eb04ff6e0e70",
   "metadata": {},
   "outputs": [],
   "source": [
    "a = kv.greville()"
   ]
  },
  {
   "cell_type": "code",
   "execution_count": 11,
   "id": "df7959b6-1602-4ae2-9704-e61b371a1406",
   "metadata": {},
   "outputs": [],
   "source": [
    "kv = bspline_cy.make_knots(2,0.0,1.0,500, mult=2)"
   ]
  },
  {
   "cell_type": "code",
   "execution_count": null,
   "id": "ecb15e22-cc39-4cee-acd8-afb50be96d50",
   "metadata": {},
   "outputs": [],
   "source": [
    "print(kv)"
   ]
  },
  {
   "cell_type": "code",
   "execution_count": 26,
   "id": "4c852dce-a7ae-4173-b467-acc31baf2638",
   "metadata": {},
   "outputs": [
    {
     "data": {
      "text/plain": [
       "<module 'pyiga.bspline' from '/home/wolfman/miniforge3/lib/python3.12/site-packages/pyiga/bspline.py'>"
      ]
     },
     "execution_count": 26,
     "metadata": {},
     "output_type": "execute_result"
    }
   ],
   "source": [
    "bspline"
   ]
  },
  {
   "cell_type": "code",
   "execution_count": null,
   "id": "065813b2-d0bc-4dcd-82fe-ff16524b822f",
   "metadata": {},
   "outputs": [],
   "source": []
  }
 ],
 "metadata": {
  "kernelspec": {
   "display_name": "Python 3 (ipykernel)",
   "language": "python",
   "name": "python3"
  },
  "language_info": {
   "codemirror_mode": {
    "name": "ipython",
    "version": 3
   },
   "file_extension": ".py",
   "mimetype": "text/x-python",
   "name": "python",
   "nbconvert_exporter": "python",
   "pygments_lexer": "ipython3",
   "version": "3.11.10"
  }
 },
 "nbformat": 4,
 "nbformat_minor": 5
}
