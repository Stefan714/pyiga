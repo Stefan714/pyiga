{
 "cells": [
  {
   "cell_type": "code",
   "execution_count": 1,
   "id": "e5c22690-1da7-4fb8-ada4-ea7b2ebb4847",
   "metadata": {},
   "outputs": [],
   "source": [
    "import scipy\n",
    "import numpy as np\n",
    "import matplotlib.pyplot as plt\n",
    "\n",
    "from scipy.sparse import csc_matrix, csr_matrix, coo_matrix\n",
    "from scipy.sparse.linalg import aslinearoperator\n",
    "\n",
    "np.set_printoptions(linewidth=100000)\n",
    "np.set_printoptions(precision=5)\n",
    "\n",
    "from pyiga import bspline, assemble, vform, geometry, vis, solvers, topology, bspline_cy\n"
   ]
  },
  {
   "cell_type": "code",
   "execution_count": 5,
   "id": "f7e258fa-27a4-4616-9221-f1428b5029c6",
   "metadata": {},
   "outputs": [],
   "source": [
    "kv = bspline_cy.KnotVector(0, np.array([0.0,0.25,0.5,0.75,1.0], dtype=np.float64))"
   ]
  },
  {
   "cell_type": "code",
   "execution_count": 6,
   "id": "b501f42c-aa46-41d0-ac01-4d0d74c3305c",
   "metadata": {},
   "outputs": [
    {
     "name": "stdout",
     "output_type": "stream",
     "text": [
      "Knot vector (degree 0): [0.000, 0.250, 0.500, 0.750, 1.000]\n"
     ]
    }
   ],
   "source": [
    "print(kv)"
   ]
  },
  {
   "cell_type": "code",
   "execution_count": 8,
   "id": "9768c126-d704-4947-bff8-eb04ff6e0e70",
   "metadata": {},
   "outputs": [],
   "source": [
    "a = kv.greville()"
   ]
  },
  {
   "cell_type": "code",
   "execution_count": 13,
   "id": "e46b168c-8038-4bb2-b12e-75bb34ca2198",
   "metadata": {},
   "outputs": [
    {
     "name": "stdout",
     "output_type": "stream",
     "text": [
      "414 ns ± 6.43 ns per loop (mean ± std. dev. of 7 runs, 1,000,000 loops each)\n"
     ]
    }
   ],
   "source": [
    "%timeit kv.greville()"
   ]
  },
  {
   "cell_type": "code",
   "execution_count": 4,
   "id": "8999e78e-f1d1-466b-a2e9-a0fded01ee9f",
   "metadata": {},
   "outputs": [
    {
     "data": {
      "text/plain": [
       "array([0., 1., 2., 3., 4., 5.])"
      ]
     },
     "execution_count": 4,
     "metadata": {},
     "output_type": "execute_result"
    }
   ],
   "source": [
    "kv.knots"
   ]
  },
  {
   "cell_type": "code",
   "execution_count": 5,
   "id": "66d2bb6c-1326-4cbe-bc3c-c8d2e9352517",
   "metadata": {},
   "outputs": [
    {
     "data": {
      "text/plain": [
       "0"
      ]
     },
     "execution_count": 5,
     "metadata": {},
     "output_type": "execute_result"
    }
   ],
   "source": [
    "kv.p"
   ]
  },
  {
   "cell_type": "code",
   "execution_count": null,
   "id": "f7643875-b609-4fbe-a46a-aa3ebca61778",
   "metadata": {},
   "outputs": [],
   "source": []
  }
 ],
 "metadata": {
  "kernelspec": {
   "display_name": "Python 3 (ipykernel)",
   "language": "python",
   "name": "python3"
  },
  "language_info": {
   "codemirror_mode": {
    "name": "ipython",
    "version": 3
   },
   "file_extension": ".py",
   "mimetype": "text/x-python",
   "name": "python",
   "nbconvert_exporter": "python",
   "pygments_lexer": "ipython3",
   "version": "3.12.10"
  }
 },
 "nbformat": 4,
 "nbformat_minor": 5
}
